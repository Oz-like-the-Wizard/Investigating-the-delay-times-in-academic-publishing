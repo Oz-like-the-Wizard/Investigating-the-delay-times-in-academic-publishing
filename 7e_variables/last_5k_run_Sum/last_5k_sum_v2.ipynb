{
 "cells": [
  {
   "cell_type": "code",
   "execution_count": 12,
   "metadata": {},
   "outputs": [],
   "source": [
    "import pandas as pd\n",
    "import numpy as np\n",
    "import pickle\n",
    "\n",
    "from crossref.restful import Works, Etiquette\n",
    "from scihub_blastoise import SciHub_HydroPump\n"
   ]
  },
  {
   "cell_type": "code",
   "execution_count": 2,
   "metadata": {},
   "outputs": [],
   "source": [
    "with open(\"required_5k_df\", \"rb\") as fp:\n",
    "    required_5k_df = pickle.load(fp)\n",
    "\n",
    "with open(\"all_dois_5k\", \"rb\") as fp:\n",
    "    all_dois_5k = pickle.load(fp)"
   ]
  },
  {
   "cell_type": "code",
   "execution_count": null,
   "metadata": {},
   "outputs": [],
   "source": [
    "with open(\"new_req_cr_results\", \"rb\") as fp:\n",
    "    new_req_cr_results = pickle.load(fp)\n",
    "\n",
    "with open(\"new_req_sh_results\", \"rb\") as fp:\n",
    "    new_req_sh_results = pickle.load(fp)"
   ]
  },
  {
   "cell_type": "code",
   "execution_count": null,
   "metadata": {},
   "outputs": [],
   "source": [
    "\n",
    "sh_h = SciHub_HydroPump()\n",
    "\n",
    "mail = 'sduzenli@yandex.com.tr'\n",
    "\n",
    "my_etiquette = Etiquette('Analysing Publishing Delay in Academic Journals', 'v2.0', 'https://github.com/Spidey0023/THEsis-Codes', mail)\n",
    "ogi_works = Works(etiquette=my_etiquette)\n",
    "\n",
    "\n",
    "\n",
    "partial_df = required_5k_df.loc[\"1_26384\":,[\"ISSN\",\"Year\", \"Required_Count_Sum\",\"CR_Count\"]]\n",
    "\n",
    "partial_df.loc[:,\"ISSN\"] = partial_df.ISSN.map(list)\n",
    "pr_dict = partial_df.to_dict(\"index\")\n",
    "\n",
    "# new_req_cr_results = list()\n",
    "# new_req_sh_results = list() \n",
    "\n",
    "\n",
    "useful_cols = ['DOI', 'references-count', 'publisher', 'published-print', 'is-referenced-by-count', 'title', 'author', 'published-online', 'container-title', 'issued', 'ISSN', 'subject']\n",
    "\n",
    "for key in pr_dict:\n",
    "    issn = pr_dict[key][\"ISSN\"]\n",
    "    year = pr_dict[key][\"Year\"]\n",
    "\n",
    "    rc = pr_dict[key][\"Required_Count_Sum\"]\n",
    "    crc = pr_dict[key][\"CR_Count\"]\n",
    "    min_rc = min(rc+3, crc)\n",
    "\n",
    "    loop_meta = [w for w in ogi_works.filter(issn=issn, from_pub_date=year, until_pub_date=year, type=\"journal-article\").sample(int(min_rc)).select(useful_cols)]\n",
    "    loop_meta = [dict(item, JRNL_ID=key) for item in loop_meta if item[\"DOI\"] not in all_dois_5k]\n",
    "    new_req_cr_results.extend(loop_meta)\n",
    "\n",
    "    for artcl in loop_meta:\n",
    "        doi = artcl[\"DOI\"]\n",
    "        pdf_url, date, kw = sh_h.get_dates_kws(doi)\n",
    "        new_req_sh_results.append(dict(DOI = doi, direct_url = pdf_url, Dates = date, Keywords = kw))\n"
   ]
  },
  {
   "cell_type": "code",
   "execution_count": null,
   "metadata": {},
   "outputs": [],
   "source": [
    "with open(\"new_req_cr_results_final\",\"wb\") as fp:\n",
    "   pickle.dump(new_req_cr_results, fp)\n",
    "\n",
    "with open(\"new_req_sh_results_final\",\"wb\") as fp:\n",
    "   pickle.dump(new_req_sh_results, fp)"
   ]
  }
 ],
 "metadata": {
  "kernelspec": {
   "display_name": "Python 3.8.10 ('base')",
   "language": "python",
   "name": "python3"
  },
  "language_info": {
   "codemirror_mode": {
    "name": "ipython",
    "version": 3
   },
   "file_extension": ".py",
   "mimetype": "text/x-python",
   "name": "python",
   "nbconvert_exporter": "python",
   "pygments_lexer": "ipython3",
   "version": "3.8.10"
  },
  "orig_nbformat": 4,
  "vscode": {
   "interpreter": {
    "hash": "6d6808e9ba8815475743150367720cad3673ac2b3f4957dc753295ba7ac37a1a"
   }
  }
 },
 "nbformat": 4,
 "nbformat_minor": 2
}
