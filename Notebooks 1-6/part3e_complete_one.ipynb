{
 "cells": [
  {
   "cell_type": "code",
   "execution_count": 1,
   "metadata": {},
   "outputs": [],
   "source": [
    "import requests\n",
    "import io\n",
    "import pandas as pd\n",
    "import regex as re\n",
    "\n",
    "from bs4 import BeautifulSoup\n",
    "from pdfminer.high_level import extract_text\n",
    "\n",
    "from unpy_get_dates import *\n",
    "from scihub_upgraded import SciHub\n",
    "\n",
    "from datetime import datetime\n",
    "\n",
    "import warnings\n",
    "warnings.filterwarnings(\"ignore\",\"PDFTextExtractionNotAllowedWarning\")"
   ]
  },
  {
   "cell_type": "markdown",
   "metadata": {},
   "source": [
    "## PART 1: Ready Datasets"
   ]
  },
  {
   "cell_type": "markdown",
   "metadata": {},
   "source": [
    "The complete_one runs are completed for both Scihub & Unpy. We can now merge & analyse the results to mark success/fail at each step of the pipeline, as well as if an artcl and thus a jrnl has_dates.\n",
    "\n"
   ]
  },
  {
   "cell_type": "code",
   "execution_count": 2,
   "metadata": {},
   "outputs": [],
   "source": [
    "# SCI-HUB\n",
    "# NOTE: In Excel, need to replace all None with 'None' for correct splitting\n",
    "\n",
    "ogi_df = pd.read_csv(\"20K_Scihub_df.csv\", index_col=0, converters={\"Scihub_results\": lambda x: x.strip(\"[]\").split(\"', \") if x.startswith('[') else x})\n",
    "cet_df = pd.read_csv(\"ceto_df_complete.csv\", index_col=0, converters={\"Scihub_results\": lambda x: x.strip(\"[]\").split(\"', \") if x.startswith('[') else x})\n",
    "summ_df = pd.read_csv(\"summan_df_complete.csv\", index_col=0, converters={\"Scihub_results\": lambda x: x.strip(\"[]\").split(\"', \") if x.startswith('[') else x})\n",
    "\n",
    "ogi_df = ogi_df[:20000]"
   ]
  },
  {
   "cell_type": "code",
   "execution_count": 3,
   "metadata": {},
   "outputs": [],
   "source": [
    "# Scihub Complete One \n",
    "sh_comp_one_df = pd.concat([ogi_df, cet_df, summ_df], verify_integrity=True)"
   ]
  },
  {
   "cell_type": "code",
   "execution_count": 4,
   "metadata": {},
   "outputs": [],
   "source": [
    "# Fixing Error Messages:\n",
    " \n",
    "sh_comp_one_df.loc[sh_comp_one_df.Scihub_results.map(type)==str,\"Scihub_results\"] = sh_comp_one_df.loc[sh_comp_one_df.Scihub_results.map(type)==str,:].Scihub_results.str.replace(\"article_not_in Scihub\", \"article_not_in_Scihub\")\n",
    "sh_comp_one_df.loc[sh_comp_one_df.Scihub_results.map(type)==str,\"Scihub_results\"] = sh_comp_one_df.loc[sh_comp_one_df.Scihub_results.map(type)==str,:].Scihub_results.str.replace(\"cant_open_pdf\", \"cant_read_pdf\")\n",
    "sh_comp_one_df.loc[sh_comp_one_df.Scihub_results.map(type)==str,\"Scihub_results\"] = sh_comp_one_df.loc[sh_comp_one_df.Scihub_results.map(type)==str,:].Scihub_results.str.replace(\"cant_read_pdf (Zero-Moscow)\", \"cant_read_pdf\", regex=False)\n",
    "\n",
    "# Removing ' :\n",
    "sh_comp_one_df.loc[sh_comp_one_df.Scihub_results.map(type)==list,\"Scihub_results\"] = sh_comp_one_df.loc[sh_comp_one_df.Scihub_results.map(type)==list,\"Scihub_results\"].map(lambda row: [item.strip(\"'\") for item in row])\n",
    "sh_comp_one_df.loc[sh_comp_one_df.Scihub_results.map(type)==list,\"Scihub_results\"] = sh_comp_one_df.loc[sh_comp_one_df.Scihub_results.map(type)==list,\"Scihub_results\"].map(lambda row: [item.strip('\"') for item in row])\n",
    "\n",
    "# Replacing \"None\":\n",
    "sh_comp_one_df.loc[sh_comp_one_df.Scihub_results.map(type)==list,\"Scihub_results\"] = sh_comp_one_df.loc[sh_comp_one_df.Scihub_results.map(type)==list,\"Scihub_results\"].map(lambda row: [None if item == \"None\" else item for item in row])\n"
   ]
  },
  {
   "cell_type": "code",
   "execution_count": 7,
   "metadata": {},
   "outputs": [
    {
     "data": {
      "text/plain": [
       "<class 'list'>    44343\n",
       "<class 'str'>      2348\n",
       "Name: Scihub_results, dtype: int64"
      ]
     },
     "execution_count": 7,
     "metadata": {},
     "output_type": "execute_result"
    }
   ],
   "source": [
    "# sh Total Results:\n",
    "sh_comp_one_df.Scihub_results.map(type).value_counts() "
   ]
  },
  {
   "cell_type": "code",
   "execution_count": 6,
   "metadata": {},
   "outputs": [
    {
     "data": {
      "text/plain": [
       "2    22909\n",
       "3    21434\n",
       "Name: Scihub_results, dtype: int64"
      ]
     },
     "execution_count": 6,
     "metadata": {},
     "output_type": "execute_result"
    }
   ],
   "source": [
    "# sh_Success:\n",
    "sh_comp_one_df[sh_comp_one_df.Scihub_results.map(type) == list][\"Scihub_results\"].map(len).value_counts()"
   ]
  },
  {
   "cell_type": "markdown",
   "metadata": {},
   "source": [
    "Successful results include:\n",
    "\n",
    "1- both Received & Accepted Date\n",
    "\n",
    "2- only Received Date\n",
    "\n",
    "3- only Accepted Date"
   ]
  },
  {
   "cell_type": "code",
   "execution_count": 14,
   "metadata": {},
   "outputs": [
    {
     "data": {
      "text/plain": [
       "article_not_in_Scihub    2236\n",
       "cant_read_pdf             111\n",
       "direct_url_error            1\n",
       "Name: Scihub_results, dtype: int64"
      ]
     },
     "execution_count": 14,
     "metadata": {},
     "output_type": "execute_result"
    }
   ],
   "source": [
    "# sh_Fail:\n",
    "sh_comp_one_df[sh_comp_one_df.Scihub_results.map(type) == str][\"Scihub_results\"].value_counts()"
   ]
  },
  {
   "cell_type": "markdown",
   "metadata": {},
   "source": [
    "sh_comp_one_df should be ready for analysis"
   ]
  },
  {
   "cell_type": "code",
   "execution_count": 84,
   "metadata": {},
   "outputs": [],
   "source": [
    "# UNPY (DIRECT URL)\n",
    "# NOTE: In Excel, need to replace all None with 'None' for correct splitting\n",
    "\n",
    "unpy_suc_df = pd.read_csv(\"Unpy_suc_run_v2.csv\", index_col=0, converters={\"Unpy_results\": lambda x: x.replace(\"None\", \"'None'\"), \"Unpy_filter\": lambda x: x.strip(\"[]\").split(\", \") if x.startswith('[') else x})\n",
    "unpy_fail_df = pd.read_csv(\"Unpy_scihub_run.csv\", index_col=0, converters={\"Scihub_results\": lambda x: x.strip(\"[]\").split(\"', \") if x.startswith('[') else x, \"Unpy_filter\": lambda x: x.strip(\"[]\").split(\"', \") if x.startswith('[') else x})\n",
    "\n",
    "unpy_suc_df[\"Unpy_results\"] = unpy_suc_df.Unpy_results.map(lambda x: x.strip(\"[]\").split(\"', \") if x.startswith('[') else x)"
   ]
  },
  {
   "cell_type": "code",
   "execution_count": 85,
   "metadata": {},
   "outputs": [],
   "source": [
    "unpy_fail_df.drop([\"OK_link\",\"Rec_date\",\"Acc_date\",\"Unpy_results\"], axis=1, inplace=True)\n",
    "unpy_suc_df.drop([\"OK_link\",\"Rec_date\",\"Acc_date\"], axis=1, inplace=True)\n",
    "\n",
    "unpy_fail_df.rename(columns={\"Scihub_results\":\"Unpy_results\"}, inplace=True)\n"
   ]
  },
  {
   "cell_type": "code",
   "execution_count": 86,
   "metadata": {},
   "outputs": [],
   "source": [
    "# Unpy Complete One \n",
    "unpy_comp_one_df = pd.concat([unpy_suc_df, unpy_fail_df], verify_integrity=True)"
   ]
  },
  {
   "cell_type": "code",
   "execution_count": 87,
   "metadata": {},
   "outputs": [],
   "source": [
    "\n",
    "# Removing ' :\n",
    "unpy_comp_one_df.loc[unpy_comp_one_df.Unpy_results.map(type)==list,\"Unpy_results\"] = unpy_comp_one_df.loc[unpy_comp_one_df.Unpy_results.map(type)==list,\"Unpy_results\"].map(lambda row: [item.strip(\"'\") for item in row])\n",
    "unpy_comp_one_df.loc[unpy_comp_one_df.Unpy_results.map(type)==list,\"Unpy_results\"] = unpy_comp_one_df.loc[unpy_comp_one_df.Unpy_results.map(type)==list,\"Unpy_results\"].map(lambda row: [item.strip('\"') for item in row])\n",
    "\n",
    "# Replacing \"None\":\n",
    "unpy_comp_one_df.loc[unpy_comp_one_df.Unpy_results.map(type)==list,\"Unpy_results\"] = unpy_comp_one_df.loc[unpy_comp_one_df.Unpy_results.map(type)==list,\"Unpy_results\"].map(lambda row: [None if item == \"None\" else item for item in row])\n"
   ]
  },
  {
   "cell_type": "code",
   "execution_count": 94,
   "metadata": {},
   "outputs": [
    {
     "data": {
      "text/plain": [
       "<class 'list'>    16171\n",
       "<class 'str'>      1256\n",
       "Name: Unpy_results, dtype: int64"
      ]
     },
     "execution_count": 94,
     "metadata": {},
     "output_type": "execute_result"
    }
   ],
   "source": [
    "unpy_comp_one_df.Unpy_results.map(type).value_counts()"
   ]
  },
  {
   "cell_type": "code",
   "execution_count": 96,
   "metadata": {},
   "outputs": [
    {
     "data": {
      "text/plain": [
       "3    9555\n",
       "2    6616\n",
       "Name: Unpy_results, dtype: int64"
      ]
     },
     "execution_count": 96,
     "metadata": {},
     "output_type": "execute_result"
    }
   ],
   "source": [
    "unpy_comp_one_df[unpy_comp_one_df.Unpy_results.map(type) == list][\"Unpy_results\"].map(len).value_counts()"
   ]
  },
  {
   "cell_type": "code",
   "execution_count": 105,
   "metadata": {},
   "outputs": [
    {
     "data": {
      "text/plain": [
       "article_not_in Scihub    1211\n",
       "cant_read_pdf              41\n",
       "direct_url_error            4\n",
       "Name: Unpy_results, dtype: int64"
      ]
     },
     "execution_count": 105,
     "metadata": {},
     "output_type": "execute_result"
    }
   ],
   "source": [
    "unpy_comp_one_df[unpy_comp_one_df.Unpy_results.map(type) == str][\"Unpy_results\"].value_counts()"
   ]
  },
  {
   "cell_type": "markdown",
   "metadata": {},
   "source": [
    "Both datasets are ready for analysis!\n",
    "\n",
    "BUT, need to fix \"cant_read_pdf\" (?) and \"direct_url_error\""
   ]
  },
  {
   "cell_type": "code",
   "execution_count": 109,
   "metadata": {},
   "outputs": [],
   "source": [
    "from scihub_upgraded import SciHub"
   ]
  },
  {
   "cell_type": "code",
   "execution_count": 110,
   "metadata": {},
   "outputs": [],
   "source": [
    "sh = SciHub()"
   ]
  },
  {
   "cell_type": "code",
   "execution_count": 111,
   "metadata": {},
   "outputs": [
    {
     "name": "stderr",
     "output_type": "stream",
     "text": [
      "WARNING:retry.api:can't read pdf, retrying in 5 seconds...\n",
      "WARNING:retry.api:can't read pdf, retrying in 5 seconds...\n",
      "WARNING:retry.api:can't read pdf, retrying in 5 seconds...\n",
      "WARNING:retry.api:can't read pdf, retrying in 5 seconds...\n",
      "WARNING:retry.api:Can't connect to direct URL: https://zero.sci-hub.st/4001/12c97bc51b121f025a730355259c48c8/chrulew2014.pdf#navpanes=0&view=FitH, retrying in 15 seconds...\n",
      "WARNING:retry.api:can't read pdf, retrying in 5 seconds...\n",
      "WARNING:retry.api:can't read pdf, retrying in 5 seconds...\n",
      "WARNING:retry.api:can't read pdf, retrying in 5 seconds...\n",
      "WARNING:retry.api:can't read pdf, retrying in 5 seconds...\n",
      "PdfReadWarning: Xref table not zero-indexed. ID numbers for objects will be corrected. [pdf.py:1736]\n",
      "WARNING:retry.api:can't read pdf, retrying in 5 seconds...\n",
      "WARNING:retry.api:can't read pdf, retrying in 5 seconds...\n",
      "WARNING:retry.api:can't read pdf, retrying in 5 seconds...\n",
      "WARNING:retry.api:can't read pdf, retrying in 5 seconds...\n",
      "WARNING:retry.api:can't read pdf, retrying in 5 seconds...\n",
      "WARNING:retry.api:can't read pdf, retrying in 5 seconds...\n",
      "WARNING:retry.api:can't read pdf, retrying in 5 seconds...\n",
      "WARNING:retry.api:can't read pdf, retrying in 5 seconds...\n",
      "WARNING:retry.api:can't read pdf, retrying in 5 seconds...\n",
      "WARNING:retry.api:can't read pdf, retrying in 5 seconds...\n",
      "WARNING:retry.api:can't read pdf, retrying in 5 seconds...\n",
      "WARNING:retry.api:can't read pdf, retrying in 5 seconds...\n",
      "WARNING:retry.api:can't read pdf, retrying in 5 seconds...\n",
      "WARNING:retry.api:can't read pdf, retrying in 5 seconds...\n",
      "WARNING:retry.api:can't read pdf, retrying in 5 seconds...\n",
      "WARNING:retry.api:can't read pdf, retrying in 5 seconds...\n",
      "WARNING:retry.api:can't read pdf, retrying in 5 seconds...\n",
      "WARNING:retry.api:can't read pdf, retrying in 5 seconds...\n",
      "WARNING:retry.api:can't read pdf, retrying in 5 seconds...\n",
      "WARNING:retry.api:can't read pdf, retrying in 5 seconds...\n",
      "WARNING:retry.api:can't read pdf, retrying in 5 seconds...\n",
      "WARNING:retry.api:can't read pdf, retrying in 5 seconds...\n",
      "WARNING:retry.api:can't read pdf, retrying in 5 seconds...\n",
      "WARNING:retry.api:can't read pdf, retrying in 5 seconds...\n",
      "WARNING:retry.api:can't read pdf, retrying in 5 seconds...\n",
      "WARNING:retry.api:can't read pdf, retrying in 5 seconds...\n",
      "WARNING:retry.api:can't read pdf, retrying in 5 seconds...\n",
      "WARNING:retry.api:can't read pdf, retrying in 5 seconds...\n",
      "WARNING:retry.api:can't read pdf, retrying in 5 seconds...\n",
      "WARNING:retry.api:can't read pdf, retrying in 5 seconds...\n",
      "WARNING:retry.api:can't read pdf, retrying in 5 seconds...\n",
      "WARNING:retry.api:can't read pdf, retrying in 5 seconds...\n",
      "WARNING:retry.api:can't read pdf, retrying in 5 seconds...\n",
      "WARNING:retry.api:can't read pdf, retrying in 5 seconds...\n",
      "WARNING:retry.api:can't read pdf, retrying in 5 seconds...\n",
      "WARNING:retry.api:can't read pdf, retrying in 5 seconds...\n",
      "WARNING:retry.api:can't read pdf, retrying in 5 seconds...\n",
      "WARNING:retry.api:can't read pdf, retrying in 5 seconds...\n",
      "WARNING:retry.api:can't read pdf, retrying in 5 seconds...\n",
      "WARNING:retry.api:can't read pdf, retrying in 5 seconds...\n",
      "WARNING:retry.api:can't read pdf, retrying in 5 seconds...\n",
      "WARNING:retry.api:can't read pdf, retrying in 5 seconds...\n",
      "WARNING:retry.api:can't read pdf, retrying in 5 seconds...\n",
      "WARNING:retry.api:can't read pdf, retrying in 5 seconds...\n",
      "WARNING:retry.api:can't read pdf, retrying in 5 seconds...\n",
      "WARNING:retry.api:can't read pdf, retrying in 5 seconds...\n",
      "WARNING:retry.api:can't read pdf, retrying in 5 seconds...\n",
      "WARNING:retry.api:can't read pdf, retrying in 5 seconds...\n",
      "WARNING:retry.api:can't read pdf, retrying in 5 seconds...\n",
      "WARNING:retry.api:can't read pdf, retrying in 5 seconds...\n",
      "WARNING:retry.api:can't read pdf, retrying in 5 seconds...\n",
      "WARNING:retry.api:can't read pdf, retrying in 5 seconds...\n",
      "WARNING:retry.api:can't read pdf, retrying in 5 seconds...\n",
      "WARNING:retry.api:can't read pdf, retrying in 5 seconds...\n",
      "WARNING:retry.api:can't read pdf, retrying in 5 seconds...\n",
      "WARNING:retry.api:can't read pdf, retrying in 5 seconds...\n",
      "WARNING:retry.api:can't read pdf, retrying in 5 seconds...\n",
      "WARNING:retry.api:can't read pdf, retrying in 5 seconds...\n",
      "WARNING:retry.api:can't read pdf, retrying in 5 seconds...\n",
      "WARNING:retry.api:can't read pdf, retrying in 5 seconds...\n",
      "WARNING:retry.api:can't read pdf, retrying in 5 seconds...\n",
      "WARNING:retry.api:can't read pdf, retrying in 5 seconds...\n",
      "WARNING:retry.api:can't read pdf, retrying in 5 seconds...\n",
      "WARNING:retry.api:can't read pdf, retrying in 5 seconds...\n",
      "WARNING:retry.api:can't read pdf, retrying in 5 seconds...\n",
      "WARNING:retry.api:can't read pdf, retrying in 5 seconds...\n",
      "WARNING:retry.api:can't read pdf, retrying in 5 seconds...\n",
      "WARNING:retry.api:can't read pdf, retrying in 5 seconds...\n",
      "WARNING:retry.api:can't read pdf, retrying in 5 seconds...\n",
      "WARNING:retry.api:can't read pdf, retrying in 5 seconds...\n",
      "WARNING:retry.api:can't read pdf, retrying in 5 seconds...\n",
      "WARNING:retry.api:can't read pdf, retrying in 5 seconds...\n",
      "WARNING:retry.api:can't read pdf, retrying in 5 seconds...\n",
      "WARNING:retry.api:can't read pdf, retrying in 5 seconds...\n",
      "WARNING:retry.api:can't read pdf, retrying in 5 seconds...\n",
      "WARNING:retry.api:can't read pdf, retrying in 5 seconds...\n",
      "WARNING:retry.api:can't read pdf, retrying in 5 seconds...\n",
      "WARNING:retry.api:can't read pdf, retrying in 5 seconds...\n",
      "WARNING:retry.api:can't read pdf, retrying in 5 seconds...\n",
      "WARNING:retry.api:can't read pdf, retrying in 5 seconds...\n",
      "WARNING:retry.api:can't read pdf, retrying in 5 seconds...\n",
      "WARNING:retry.api:can't read pdf, retrying in 5 seconds...\n",
      "WARNING:retry.api:can't read pdf, retrying in 5 seconds...\n",
      "WARNING:retry.api:can't read pdf, retrying in 5 seconds...\n",
      "WARNING:retry.api:can't read pdf, retrying in 5 seconds...\n",
      "WARNING:retry.api:can't read pdf, retrying in 5 seconds...\n",
      "WARNING:retry.api:can't read pdf, retrying in 5 seconds...\n",
      "WARNING:retry.api:can't read pdf, retrying in 5 seconds...\n",
      "WARNING:retry.api:can't read pdf, retrying in 5 seconds...\n",
      "WARNING:retry.api:can't read pdf, retrying in 5 seconds...\n",
      "WARNING:retry.api:can't read pdf, retrying in 5 seconds...\n",
      "WARNING:retry.api:can't read pdf, retrying in 5 seconds...\n",
      "WARNING:retry.api:can't read pdf, retrying in 5 seconds...\n",
      "WARNING:retry.api:can't read pdf, retrying in 5 seconds...\n",
      "WARNING:retry.api:can't read pdf, retrying in 5 seconds...\n",
      "WARNING:retry.api:can't read pdf, retrying in 5 seconds...\n",
      "PDFTextExtractionNotAllowedWarning: The PDF <_io.BytesIO object at 0x0000027006F1EEA0> contains a metadata field indicating that it should not allow text extraction. Ignoring this field and proceeding. [pdfpage.py:159]\n",
      "WARNING:retry.api:can't read pdf, retrying in 5 seconds...\n",
      "WARNING:retry.api:can't read pdf, retrying in 5 seconds...\n",
      "WARNING:retry.api:can't read pdf, retrying in 5 seconds...\n",
      "WARNING:retry.api:can't read pdf, retrying in 5 seconds...\n",
      "WARNING:retry.api:can't read pdf, retrying in 5 seconds...\n",
      "WARNING:retry.api:can't read pdf, retrying in 5 seconds...\n",
      "WARNING:retry.api:Unknown issue!, retrying in 75 seconds...\n",
      "WARNING:retry.api:Unknown issue!, retrying in 75 seconds...\n",
      "WARNING:retry.api:Unknown issue!, retrying in 75 seconds...\n",
      "WARNING:retry.api:Unknown issue!, retrying in 75 seconds...\n",
      "WARNING:retry.api:can't read pdf, retrying in 5 seconds...\n",
      "WARNING:retry.api:can't read pdf, retrying in 5 seconds...\n",
      "WARNING:retry.api:can't read pdf, retrying in 5 seconds...\n",
      "WARNING:retry.api:can't read pdf, retrying in 5 seconds...\n",
      "WARNING:retry.api:can't read pdf, retrying in 5 seconds...\n",
      "WARNING:retry.api:can't read pdf, retrying in 5 seconds...\n",
      "WARNING:retry.api:can't read pdf, retrying in 5 seconds...\n",
      "WARNING:retry.api:can't read pdf, retrying in 5 seconds...\n"
     ]
    }
   ],
   "source": [
    "# .loc[] & .map() problematic rows for sh_comp_one_df:\n",
    "sh_comp_one_df.loc[(sh_comp_one_df.Scihub_results == \"cant_read_pdf\")|(sh_comp_one_df.Scihub_results == \"direct_url_error\"),\"Scihub_results\"] = sh_comp_one_df.loc[(sh_comp_one_df.Scihub_results == \"cant_read_pdf\")|(sh_comp_one_df.Scihub_results == \"direct_url_error\"),\"doi\"].map(sh.get_dates)\n",
    "\n"
   ]
  },
  {
   "cell_type": "code",
   "execution_count": 112,
   "metadata": {},
   "outputs": [
    {
     "data": {
      "text/plain": [
       "article_not_in_Scihub    2236\n",
       "cant_read_pdf              59\n",
       "direct_url_error            1\n",
       "Name: Scihub_results, dtype: int64"
      ]
     },
     "execution_count": 112,
     "metadata": {},
     "output_type": "execute_result"
    }
   ],
   "source": [
    "# sh_Fail:\n",
    "sh_comp_one_df[sh_comp_one_df.Scihub_results.map(type) == str][\"Scihub_results\"].value_counts()"
   ]
  },
  {
   "cell_type": "code",
   "execution_count": 113,
   "metadata": {},
   "outputs": [
    {
     "name": "stderr",
     "output_type": "stream",
     "text": [
      "WARNING:retry.api:can't read pdf, retrying in 5 seconds...\n",
      "WARNING:retry.api:can't read pdf, retrying in 5 seconds...\n",
      "WARNING:retry.api:can't read pdf, retrying in 5 seconds...\n",
      "WARNING:retry.api:can't read pdf, retrying in 5 seconds...\n",
      "WARNING:retry.api:can't read pdf, retrying in 5 seconds...\n",
      "WARNING:retry.api:can't read pdf, retrying in 5 seconds...\n",
      "WARNING:retry.api:can't read pdf, retrying in 5 seconds...\n",
      "WARNING:retry.api:can't read pdf, retrying in 5 seconds...\n",
      "WARNING:retry.api:can't read pdf, retrying in 5 seconds...\n",
      "WARNING:retry.api:can't read pdf, retrying in 5 seconds...\n",
      "WARNING:retry.api:Nothing here!, retrying in 75 seconds...\n",
      "WARNING:retry.api:Can't connect to direct URL: http://index.ggws.net/downloads/2021-05-22/0c/heller2020.pdf#navpanes=0&view=FitH, retrying in 15 seconds...\n",
      "WARNING:retry.api:can't read pdf, retrying in 5 seconds...\n",
      "WARNING:retry.api:can't read pdf, retrying in 5 seconds...\n",
      "WARNING:retry.api:Unknown issue!, retrying in 75 seconds...\n",
      "WARNING:retry.api:Unknown issue!, retrying in 75 seconds...\n",
      "WARNING:retry.api:cant_connect_to Scihub, retrying in 75 seconds...\n",
      "WARNING:retry.api:cant_connect_to Scihub, retrying in 75 seconds...\n",
      "WARNING:retry.api:cant_connect_to Scihub, retrying in 75 seconds...\n",
      "WARNING:retry.api:cant_connect_to Scihub, retrying in 75 seconds...\n",
      "WARNING:retry.api:cant_connect_to Scihub, retrying in 75 seconds...\n",
      "WARNING:retry.api:cant_connect_to Scihub, retrying in 75 seconds...\n",
      "WARNING:retry.api:can't read pdf, retrying in 5 seconds...\n",
      "WARNING:retry.api:can't read pdf, retrying in 5 seconds...\n",
      "WARNING:retry.api:can't read pdf, retrying in 5 seconds...\n",
      "WARNING:retry.api:can't read pdf, retrying in 5 seconds...\n",
      "WARNING:retry.api:can't read pdf, retrying in 5 seconds...\n",
      "WARNING:retry.api:can't read pdf, retrying in 5 seconds...\n",
      "WARNING:retry.api:can't read pdf, retrying in 5 seconds...\n",
      "WARNING:retry.api:can't read pdf, retrying in 5 seconds...\n",
      "WARNING:retry.api:can't read pdf, retrying in 5 seconds...\n",
      "WARNING:retry.api:can't read pdf, retrying in 5 seconds...\n",
      "WARNING:retry.api:can't read pdf, retrying in 5 seconds...\n",
      "WARNING:retry.api:can't read pdf, retrying in 5 seconds...\n"
     ]
    }
   ],
   "source": [
    "# .loc[] & .map() problematic rows for unpy_comp_one_df:\n",
    "unpy_comp_one_df.loc[(unpy_comp_one_df.Unpy_results == \"cant_read_pdf\")|(unpy_comp_one_df.Unpy_results == \"direct_url_error\"),\"Unpy_results\"] = unpy_comp_one_df.loc[(unpy_comp_one_df.Unpy_results == \"cant_read_pdf\")|(unpy_comp_one_df.Unpy_results == \"direct_url_error\"),\"doi\"].map(sh.get_dates)\n",
    "\n"
   ]
  },
  {
   "cell_type": "code",
   "execution_count": 114,
   "metadata": {},
   "outputs": [
    {
     "data": {
      "text/plain": [
       "article_not_in Scihub    1213\n",
       "cant_read_pdf              12\n",
       "direct_url_error            2\n",
       "Name: Unpy_results, dtype: int64"
      ]
     },
     "execution_count": 114,
     "metadata": {},
     "output_type": "execute_result"
    }
   ],
   "source": [
    "unpy_comp_one_df[unpy_comp_one_df.Unpy_results.map(type) == str][\"Unpy_results\"].value_counts()"
   ]
  },
  {
   "cell_type": "code",
   "execution_count": 116,
   "metadata": {},
   "outputs": [
    {
     "name": "stdout",
     "output_type": "stream",
     "text": [
      "Stored 'sh_comp_one_df' (DataFrame)\n",
      "Stored 'unpy_comp_one_df' (DataFrame)\n"
     ]
    }
   ],
   "source": [
    "%store sh_comp_one_df\n",
    "%store unpy_comp_one_df"
   ]
  }
 ],
 "metadata": {
  "interpreter": {
   "hash": "92ba50c92c9dc11b366869717e90d544d23b7140e20708921d0ff91f276d2e3f"
  },
  "kernelspec": {
   "display_name": "Python 3.8.10 64-bit ('base': conda)",
   "language": "python",
   "name": "python3"
  },
  "language_info": {
   "codemirror_mode": {
    "name": "ipython",
    "version": 3
   },
   "file_extension": ".py",
   "mimetype": "text/x-python",
   "name": "python",
   "nbconvert_exporter": "python",
   "pygments_lexer": "ipython3",
   "version": "3.8.10"
  },
  "orig_nbformat": 4
 },
 "nbformat": 4,
 "nbformat_minor": 2
}
