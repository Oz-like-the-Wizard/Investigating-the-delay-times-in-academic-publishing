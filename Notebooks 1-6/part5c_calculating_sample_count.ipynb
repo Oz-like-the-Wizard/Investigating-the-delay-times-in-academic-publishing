{
 "cells": [
  {
   "cell_type": "code",
   "execution_count": 1,
   "metadata": {},
   "outputs": [
    {
     "name": "stderr",
     "output_type": "stream",
     "text": [
      "b'Skipping line 32712: expected 20 fields, saw 21\\nSkipping line 32713: expected 20 fields, saw 21\\n'\n",
      "b'Skipping line 20760: expected 20 fields, saw 21\\nSkipping line 22914: expected 20 fields, saw 21\\n'\n",
      "b'Skipping line 19393: expected 20 fields, saw 21\\nSkipping line 19394: expected 20 fields, saw 21\\n'\n",
      "b'Skipping line 33757: expected 20 fields, saw 21\\n'\n",
      "b'Skipping line 19053: expected 20 fields, saw 21\\nSkipping line 20953: expected 20 fields, saw 21\\n'\n"
     ]
    }
   ],
   "source": [
    "import pandas as pd\n",
    "import numpy as np\n",
    "\n",
    "from quartile import *\n",
    "from random import sample\n",
    "\n"
   ]
  },
  {
   "cell_type": "markdown",
   "metadata": {},
   "source": [
    "## NOTE: Can directly jump to PART 3!"
   ]
  },
  {
   "cell_type": "markdown",
   "metadata": {},
   "source": [
    "### PART 1: Adding Sbj. Area to retr_onetwo"
   ]
  },
  {
   "cell_type": "markdown",
   "metadata": {},
   "source": [
    "### After Bruno meeting:\n",
    "\n",
    "Need to create 4 pivot tables for finalizing the sample count with Prof. Bruno\n",
    "\n",
    "Will tidy up the nb, as well as creating the pivots below:"
   ]
  },
  {
   "cell_type": "code",
   "execution_count": 2,
   "metadata": {},
   "outputs": [],
   "source": [
    "# Retrieving both important dfs:\n",
    " \n",
    "%store -r retr_onetwo\n",
    "retr_onetwo = retr_onetwo\n",
    "\n",
    "%store -r date_df_ok\n",
    "date_df_ok = date_df_ok\n"
   ]
  },
  {
   "cell_type": "code",
   "execution_count": 8,
   "metadata": {},
   "outputs": [
    {
     "name": "stderr",
     "output_type": "stream",
     "text": [
      "b'Skipping line 32712: expected 20 fields, saw 21\\nSkipping line 32713: expected 20 fields, saw 21\\n'\n",
      "b'Skipping line 20760: expected 20 fields, saw 21\\nSkipping line 22914: expected 20 fields, saw 21\\n'\n",
      "b'Skipping line 19393: expected 20 fields, saw 21\\nSkipping line 19394: expected 20 fields, saw 21\\n'\n",
      "b'Skipping line 33757: expected 20 fields, saw 21\\n'\n",
      "b'Skipping line 19053: expected 20 fields, saw 21\\nSkipping line 20953: expected 20 fields, saw 21\\n'\n"
     ]
    }
   ],
   "source": [
    "# Creting the quartile.py variables:\n",
    "\n",
    "# Get q_df(s):\n",
    "q_df = quar_df_creator(1).reset_index(drop=True)\n",
    "\n",
    "# Create q_jrnl & q_pivor using q_df & article count target:\n",
    "q_jrnl, sbj_pivot_full, sbj_pivot_sample = retr_ready(q_df,100000)"
   ]
  },
  {
   "cell_type": "code",
   "execution_count": 11,
   "metadata": {},
   "outputs": [],
   "source": [
    "# Normally, from q_jrnl we .groupby() to get Total Docs summed up:\n",
    "q_ready = q_jrnl.groupby([q_jrnl[\"Issn\"].map(tuple),q_jrnl[\"Year\"]])[\"Total_Docs\"].sum().reset_index()\n",
    "\n",
    "# However, one missing feature from retr_onetwo is the \"Sbj_Area\"s of the journals. \n",
    "# As this feature will be used in this nb & as well as in the future analysis, this feat. will be added below:\n",
    "\n",
    "q_sbj_areas = q_jrnl.groupby([q_jrnl[\"Issn\"].map(tuple),q_jrnl[\"Year\"]])[\"Sbj_Area\"].apply(tuple).reset_index()\n",
    "q_sbj_areas[\"Issn\"] = q_sbj_areas.Issn.map(lambda x: [iss for iss in x])"
   ]
  },
  {
   "cell_type": "code",
   "execution_count": 35,
   "metadata": {},
   "outputs": [
    {
     "name": "stdout",
     "output_type": "stream",
     "text": [
      "True\n",
      "True\n"
     ]
    }
   ],
   "source": [
    "# As the main df we have been using is retr_onetwo, it would be more beneficial to add this info directly to it:\n",
    "\n",
    "\n",
    "#  Checking if retr_onetwo and the newly created q_sbj_areas have the same index before merging:\n",
    "# (after dtype matching)\n",
    "\n",
    "print(retr_onetwo[\"Issn\"].equals(q_sbj_areas.Issn))\n",
    "print(retr_onetwo[\"Year\"].equals(q_sbj_areas.Year))\n",
    "\n",
    "# Adding the column to retr_onetwo\n",
    "retr_onetwo[\"Sbj_Area\"] = q_sbj_areas.Sbj_Area\n"
   ]
  },
  {
   "cell_type": "markdown",
   "metadata": {},
   "source": [
    "The new df will be re-ordered and will be stored seperately. This new df will be the main df for Q1 journals from now on:"
   ]
  },
  {
   "cell_type": "code",
   "execution_count": 37,
   "metadata": {},
   "outputs": [],
   "source": [
    "retr_q1_ok = retr_onetwo[[\"Issn\",\"Year\",\"Sbj_Area\",\"CR_Results\",\"SH_Results\",\"Total_Docs\"]]"
   ]
  },
  {
   "cell_type": "code",
   "execution_count": 177,
   "metadata": {},
   "outputs": [
    {
     "name": "stdout",
     "output_type": "stream",
     "text": [
      "Stored 'retr_q1_ok' (DataFrame)\n"
     ]
    }
   ],
   "source": [
    "%store retr_q1_ok"
   ]
  },
  {
   "cell_type": "markdown",
   "metadata": {},
   "source": [
    "### PART 1.5: Creating Bruno pivots"
   ]
  },
  {
   "cell_type": "markdown",
   "metadata": {},
   "source": [
    "As retr_q1_ok now has Sbj. Area & Total Docs info together, we can use explade() seperately from the pipline to create any pivot table required."
   ]
  },
  {
   "cell_type": "code",
   "execution_count": 51,
   "metadata": {},
   "outputs": [],
   "source": [
    "pladed_q1 = explade(retr_q1_ok) "
   ]
  },
  {
   "cell_type": "code",
   "execution_count": null,
   "metadata": {},
   "outputs": [],
   "source": [
    "# Bruno pivots:\n",
    "\n",
    "# 1- FULL - YEAR vs ARTICLE Count\n",
    "bruno1 = pd.pivot_table(data=pladed_q1, columns=\"Year\", index=\"Sbj_Area\", values=\"Total_Docs\", aggfunc=sum)\n",
    "\n",
    "# 2- DATE_OK - YEAR vs. ARTICLE Count\n",
    "bruno2 = pd.pivot_table(data=pladed_q1[(pladed_q1.CR_Results == True) & (pladed_q1.SH_Results == True)], columns=\"Year\", index=\"Sbj_Area\", values=\"Total_Docs\", aggfunc=sum)\n",
    "\n",
    "# 3- FULL - YEAR vs JOURNAL Count\n",
    "bruno3 = pd.pivot_table(data=pladed_q1, columns=\"Year\", index=\"Sbj_Area\", values=\"Total_Docs\", aggfunc=\"count\")\n",
    "\n",
    "# 4- DATE_OK - YEAR vs. JOURNAL Count\n",
    "bruno4 = pd.pivot_table(data=pladed_q1[(pladed_q1.CR_Results == True) & (pladed_q1.SH_Results == True)], columns=\"Year\", index=\"Sbj_Area\", values=\"Total_Docs\", aggfunc=\"count\")\n"
   ]
  },
  {
   "cell_type": "code",
   "execution_count": 78,
   "metadata": {},
   "outputs": [],
   "source": [
    "with pd.ExcelWriter(\"pivot_tables.xlsx\") as writer:\n",
    "\n",
    "    bruno1.to_excel(writer, sheet_name=\"FULL - YEAR vs ARTICLE\")  \n",
    "\n",
    "    bruno2.to_excel(writer, sheet_name=\"DATE_OK - YEAR vs. ARTICLE\")\n",
    "\n",
    "    bruno3.to_excel(writer,sheet_name=\"FULL - YEAR vs JOURNAL\")\n",
    "\n",
    "    bruno4.to_excel(writer,sheet_name=\"DATE_OK - YEAR vs. JOURNAL\")"
   ]
  },
  {
   "cell_type": "markdown",
   "metadata": {},
   "source": [
    "### PART 2: Correcting Sbj. Area \n",
    "\n",
    "During evaluation, it is seen that the multimode simplification during q_df process is actually unnecessary. A journal can be represented with all the Sbj. Areas in its highest quartile. The cells below will test this using quartile_v2.py "
   ]
  },
  {
   "cell_type": "code",
   "execution_count": 79,
   "metadata": {},
   "outputs": [],
   "source": [
    "from quartile_v2 import *"
   ]
  },
  {
   "cell_type": "code",
   "execution_count": 80,
   "metadata": {},
   "outputs": [
    {
     "name": "stderr",
     "output_type": "stream",
     "text": [
      "b'Skipping line 32712: expected 20 fields, saw 21\\nSkipping line 32713: expected 20 fields, saw 21\\n'\n",
      "b'Skipping line 20760: expected 20 fields, saw 21\\nSkipping line 22914: expected 20 fields, saw 21\\n'\n",
      "b'Skipping line 19393: expected 20 fields, saw 21\\nSkipping line 19394: expected 20 fields, saw 21\\n'\n",
      "b'Skipping line 33757: expected 20 fields, saw 21\\n'\n",
      "b'Skipping line 19053: expected 20 fields, saw 21\\nSkipping line 20953: expected 20 fields, saw 21\\n'\n"
     ]
    }
   ],
   "source": [
    "q_test = quar_df_creator(1).reset_index(drop=True)\n"
   ]
  },
  {
   "cell_type": "code",
   "execution_count": 245,
   "metadata": {},
   "outputs": [],
   "source": [
    "q_test_ready = retr_ready_v2(q_test)"
   ]
  },
  {
   "cell_type": "code",
   "execution_count": 154,
   "metadata": {},
   "outputs": [],
   "source": [
    "test_sbj_areas = q_test_ready.groupby([q_test_ready[\"Issn\"].map(tuple),q_test_ready[\"Year\"]])[\"Sbj_Area\"].apply(tuple).reset_index()\n",
    "#test_sbj_areas[\"Issn\"] = test_sbj_areas.Issn.map(lambda x: [iss for iss in x])"
   ]
  },
  {
   "cell_type": "markdown",
   "metadata": {},
   "source": [
    "The easiest way to combine these 2 dfs would be to use ISSN & Year cols. as index as they together uniquely define a journal. If this method works, would be a huge ease of use for future jnrl df related works as well."
   ]
  },
  {
   "cell_type": "code",
   "execution_count": 214,
   "metadata": {},
   "outputs": [],
   "source": [
    "test_sbj_areas.set_index([\"Issn\",\"Year\"], inplace=True)\n",
    "\n",
    "# Realised that the dtypes of Year columns don't match, so converting to int64 before indexing:\n",
    "\n",
    "test_sbj_areas.reset_index(inplace=True)\n",
    "test_sbj_areas[\"Year\"] = test_sbj_areas[\"Year\"].astype(np.int64)\n",
    "test_sbj_areas.set_index([\"Issn\",\"Year\"], inplace=True)"
   ]
  },
  {
   "cell_type": "code",
   "execution_count": 196,
   "metadata": {},
   "outputs": [],
   "source": [
    "# Set index for retr_q1_ok \n",
    "retr_q1_ok[\"Issn\"] = retr_q1_ok.Issn.map(tuple)\n",
    "retr_q1_ok.set_index([\"Issn\",\"Year\"], inplace=True)"
   ]
  },
  {
   "cell_type": "code",
   "execution_count": 224,
   "metadata": {},
   "outputs": [],
   "source": [
    "retr_q1_ok = pd.merge(left=retr_q1_ok, right=test_sbj_areas, how=\"left\", right_index=True, left_index=True, suffixes=(\"_old\", \"_new\"))"
   ]
  },
  {
   "cell_type": "code",
   "execution_count": 227,
   "metadata": {},
   "outputs": [
    {
     "data": {
      "text/html": [
       "<div>\n",
       "<style scoped>\n",
       "    .dataframe tbody tr th:only-of-type {\n",
       "        vertical-align: middle;\n",
       "    }\n",
       "\n",
       "    .dataframe tbody tr th {\n",
       "        vertical-align: top;\n",
       "    }\n",
       "\n",
       "    .dataframe thead th {\n",
       "        text-align: right;\n",
       "    }\n",
       "</style>\n",
       "<table border=\"1\" class=\"dataframe\">\n",
       "  <thead>\n",
       "    <tr style=\"text-align: right;\">\n",
       "      <th></th>\n",
       "      <th></th>\n",
       "      <th>Sbj_Area_old</th>\n",
       "      <th>CR_Results</th>\n",
       "      <th>SH_Results</th>\n",
       "      <th>Total_Docs</th>\n",
       "      <th>Sbj_Area_new</th>\n",
       "    </tr>\n",
       "    <tr>\n",
       "      <th>Issn</th>\n",
       "      <th>Year</th>\n",
       "      <th></th>\n",
       "      <th></th>\n",
       "      <th></th>\n",
       "      <th></th>\n",
       "      <th></th>\n",
       "    </tr>\n",
       "  </thead>\n",
       "  <tbody>\n",
       "    <tr>\n",
       "      <th rowspan=\"5\" valign=\"top\">(00011541, 15475905)</th>\n",
       "      <th>2010</th>\n",
       "      <td>(Biochemistry, Genetics and Molecular Biology,...</td>\n",
       "      <td>True</td>\n",
       "      <td>True</td>\n",
       "      <td>294</td>\n",
       "      <td>(Biochemistry, Genetics and Molecular Biology,...</td>\n",
       "    </tr>\n",
       "    <tr>\n",
       "      <th>2011</th>\n",
       "      <td>(Chemical Engineering, Environmental Science)</td>\n",
       "      <td>True</td>\n",
       "      <td>False</td>\n",
       "      <td>315</td>\n",
       "      <td>(Chemical Engineering, Environmental Science)</td>\n",
       "    </tr>\n",
       "    <tr>\n",
       "      <th>2012</th>\n",
       "      <td>(Chemical Engineering, Environmental Science)</td>\n",
       "      <td>True</td>\n",
       "      <td>False</td>\n",
       "      <td>347</td>\n",
       "      <td>(Chemical Engineering, Environmental Science)</td>\n",
       "    </tr>\n",
       "    <tr>\n",
       "      <th>2013</th>\n",
       "      <td>(Biochemistry, Genetics and Molecular Biology,...</td>\n",
       "      <td>True</td>\n",
       "      <td>True</td>\n",
       "      <td>422</td>\n",
       "      <td>(Biochemistry, Genetics and Molecular Biology,...</td>\n",
       "    </tr>\n",
       "    <tr>\n",
       "      <th>2014</th>\n",
       "      <td>(Biochemistry, Genetics and Molecular Biology,...</td>\n",
       "      <td>True</td>\n",
       "      <td>True</td>\n",
       "      <td>359</td>\n",
       "      <td>(Biochemistry, Genetics and Molecular Biology,...</td>\n",
       "    </tr>\n",
       "    <tr>\n",
       "      <th>...</th>\n",
       "      <th>...</th>\n",
       "      <td>...</td>\n",
       "      <td>...</td>\n",
       "      <td>...</td>\n",
       "      <td>...</td>\n",
       "      <td>...</td>\n",
       "    </tr>\n",
       "    <tr>\n",
       "      <th rowspan=\"4\" valign=\"top\">(8756758X, 14602695)</th>\n",
       "      <th>2017</th>\n",
       "      <td>(Engineering,)</td>\n",
       "      <td>True</td>\n",
       "      <td>True</td>\n",
       "      <td>170</td>\n",
       "      <td>(Materials Science, Engineering)</td>\n",
       "    </tr>\n",
       "    <tr>\n",
       "      <th>2018</th>\n",
       "      <td>(Engineering,)</td>\n",
       "      <td>True</td>\n",
       "      <td>True</td>\n",
       "      <td>199</td>\n",
       "      <td>(Materials Science, Engineering)</td>\n",
       "    </tr>\n",
       "    <tr>\n",
       "      <th>2019</th>\n",
       "      <td>(Engineering,)</td>\n",
       "      <td>True</td>\n",
       "      <td>True</td>\n",
       "      <td>210</td>\n",
       "      <td>(Materials Science, Engineering)</td>\n",
       "    </tr>\n",
       "    <tr>\n",
       "      <th>2020</th>\n",
       "      <td>(Engineering,)</td>\n",
       "      <td>True</td>\n",
       "      <td>True</td>\n",
       "      <td>221</td>\n",
       "      <td>(Materials Science, Engineering)</td>\n",
       "    </tr>\n",
       "    <tr>\n",
       "      <th>(8756971X, 19436270)</th>\n",
       "      <th>2010</th>\n",
       "      <td>(Medicine,)</td>\n",
       "      <td>True</td>\n",
       "      <td>False</td>\n",
       "      <td>69</td>\n",
       "      <td>(Agricultural and Biological Sciences, Medicine)</td>\n",
       "    </tr>\n",
       "  </tbody>\n",
       "</table>\n",
       "<p>74400 rows × 5 columns</p>\n",
       "</div>"
      ],
      "text/plain": [
       "                                                                Sbj_Area_old  \\\n",
       "Issn                 Year                                                      \n",
       "(00011541, 15475905) 2010  (Biochemistry, Genetics and Molecular Biology,...   \n",
       "                     2011      (Chemical Engineering, Environmental Science)   \n",
       "                     2012      (Chemical Engineering, Environmental Science)   \n",
       "                     2013  (Biochemistry, Genetics and Molecular Biology,...   \n",
       "                     2014  (Biochemistry, Genetics and Molecular Biology,...   \n",
       "...                                                                      ...   \n",
       "(8756758X, 14602695) 2017                                     (Engineering,)   \n",
       "                     2018                                     (Engineering,)   \n",
       "                     2019                                     (Engineering,)   \n",
       "                     2020                                     (Engineering,)   \n",
       "(8756971X, 19436270) 2010                                        (Medicine,)   \n",
       "\n",
       "                          CR_Results  SH_Results  Total_Docs  \\\n",
       "Issn                 Year                                      \n",
       "(00011541, 15475905) 2010       True        True         294   \n",
       "                     2011       True       False         315   \n",
       "                     2012       True       False         347   \n",
       "                     2013       True        True         422   \n",
       "                     2014       True        True         359   \n",
       "...                              ...         ...         ...   \n",
       "(8756758X, 14602695) 2017       True        True         170   \n",
       "                     2018       True        True         199   \n",
       "                     2019       True        True         210   \n",
       "                     2020       True        True         221   \n",
       "(8756971X, 19436270) 2010       True       False          69   \n",
       "\n",
       "                                                                Sbj_Area_new  \n",
       "Issn                 Year                                                     \n",
       "(00011541, 15475905) 2010  (Biochemistry, Genetics and Molecular Biology,...  \n",
       "                     2011      (Chemical Engineering, Environmental Science)  \n",
       "                     2012      (Chemical Engineering, Environmental Science)  \n",
       "                     2013  (Biochemistry, Genetics and Molecular Biology,...  \n",
       "                     2014  (Biochemistry, Genetics and Molecular Biology,...  \n",
       "...                                                                      ...  \n",
       "(8756758X, 14602695) 2017                   (Materials Science, Engineering)  \n",
       "                     2018                   (Materials Science, Engineering)  \n",
       "                     2019                   (Materials Science, Engineering)  \n",
       "                     2020                   (Materials Science, Engineering)  \n",
       "(8756971X, 19436270) 2010   (Agricultural and Biological Sciences, Medicine)  \n",
       "\n",
       "[74400 rows x 5 columns]"
      ]
     },
     "execution_count": 227,
     "metadata": {},
     "output_type": "execute_result"
    }
   ],
   "source": [
    "retr_q1_ok.dropna(inplace=True)"
   ]
  },
  {
   "cell_type": "code",
   "execution_count": 250,
   "metadata": {},
   "outputs": [
    {
     "name": "stdout",
     "output_type": "stream",
     "text": [
      "Stored 'retr_q1_ok' (DataFrame)\n"
     ]
    }
   ],
   "source": [
    "%store retr_q1_ok"
   ]
  },
  {
   "cell_type": "markdown",
   "metadata": {},
   "source": [
    "It is seen that the index merging works perfectly and is very easy to use! \n",
    "\n",
    "However, we could have directly merged the Counter version of Sbj. Areas to retr_q1_ok so that we explade only that df, and create pivots. Now that the way of working is decided, will save new dfs, and reset the nb to finalize all work.\n"
   ]
  },
  {
   "cell_type": "markdown",
   "metadata": {},
   "source": [
    "### PART 3: Revenge of the Counter"
   ]
  },
  {
   "cell_type": "code",
   "execution_count": 1,
   "metadata": {},
   "outputs": [
    {
     "name": "stderr",
     "output_type": "stream",
     "text": [
      "b'Skipping line 32712: expected 20 fields, saw 21\\nSkipping line 32713: expected 20 fields, saw 21\\n'\n",
      "b'Skipping line 20760: expected 20 fields, saw 21\\nSkipping line 22914: expected 20 fields, saw 21\\n'\n",
      "b'Skipping line 19393: expected 20 fields, saw 21\\nSkipping line 19394: expected 20 fields, saw 21\\n'\n",
      "b'Skipping line 33757: expected 20 fields, saw 21\\n'\n",
      "b'Skipping line 19053: expected 20 fields, saw 21\\nSkipping line 20953: expected 20 fields, saw 21\\n'\n"
     ]
    }
   ],
   "source": [
    "import pandas as pd\n",
    "import numpy as np\n",
    "\n",
    "from quartile_v2 import *"
   ]
  },
  {
   "cell_type": "code",
   "execution_count": 5,
   "metadata": {},
   "outputs": [],
   "source": [
    "%store -r retr_onetwo\n",
    "retr_onetwo = retr_onetwo\n",
    "\n",
    "# %store -r date_df_ok\n",
    "# date_df_ok = date_df_ok\n"
   ]
  },
  {
   "cell_type": "code",
   "execution_count": 13,
   "metadata": {},
   "outputs": [
    {
     "name": "stderr",
     "output_type": "stream",
     "text": [
      "b'Skipping line 32712: expected 20 fields, saw 21\\nSkipping line 32713: expected 20 fields, saw 21\\n'\n",
      "b'Skipping line 20760: expected 20 fields, saw 21\\nSkipping line 22914: expected 20 fields, saw 21\\n'\n",
      "b'Skipping line 19393: expected 20 fields, saw 21\\nSkipping line 19394: expected 20 fields, saw 21\\n'\n",
      "b'Skipping line 33757: expected 20 fields, saw 21\\n'\n",
      "b'Skipping line 19053: expected 20 fields, saw 21\\nSkipping line 20953: expected 20 fields, saw 21\\n'\n"
     ]
    }
   ],
   "source": [
    "# Creting the quartile.py variables:\n",
    "\n",
    "# Get q_df(s):\n",
    "q_part3 = quar_df_creator_v2(1).reset_index(drop=True)\n"
   ]
  },
  {
   "cell_type": "code",
   "execution_count": 9,
   "metadata": {},
   "outputs": [],
   "source": [
    "q_part3 = q_part3[[\"Issn\", \"Year\", \"Sbj_Area\"]]"
   ]
  },
  {
   "cell_type": "code",
   "execution_count": 23,
   "metadata": {},
   "outputs": [],
   "source": [
    "# Convert both Issn columns to tuples:\n",
    "\n",
    "q_part3[\"Issn\"] = q_part3[\"Issn\"].map(tuple)\n",
    "retr_onetwo[\"Issn\"] = retr_onetwo.Issn.map(tuple)\n",
    "\n",
    "# Convert YEAR column to type int:\n",
    "q_part3[\"Year\"] = q_part3.Year.astype(int)\n",
    "\n",
    "# Set Issn & Year cols. as index for merging:\n",
    "q_part3.set_index([\"Issn\", \"Year\"], inplace= True)\n",
    "retr_onetwo.set_index([\"Issn\", \"Year\"], inplace=True)\n",
    "\n",
    "# Merging both to create retr_q1 df:\n",
    "retr_q1 = pd.merge(retr_onetwo, q_part3, left_index=True, right_index=True, suffixes=(\"_old\", \"_new\"), how=\"left\") "
   ]
  },
  {
   "cell_type": "markdown",
   "metadata": {},
   "source": [
    "The resulting df retr_q1 has 2 rows extra, as q_part3 df has 2 duplicate columns. These are idecntified and dropped below:"
   ]
  },
  {
   "cell_type": "code",
   "execution_count": 47,
   "metadata": {},
   "outputs": [
    {
     "data": {
      "text/html": [
       "<div>\n",
       "<style scoped>\n",
       "    .dataframe tbody tr th:only-of-type {\n",
       "        vertical-align: middle;\n",
       "    }\n",
       "\n",
       "    .dataframe tbody tr th {\n",
       "        vertical-align: top;\n",
       "    }\n",
       "\n",
       "    .dataframe thead th {\n",
       "        text-align: right;\n",
       "    }\n",
       "</style>\n",
       "<table border=\"1\" class=\"dataframe\">\n",
       "  <thead>\n",
       "    <tr style=\"text-align: right;\">\n",
       "      <th></th>\n",
       "      <th>Issn</th>\n",
       "      <th>Year</th>\n",
       "      <th>Sbj_Area</th>\n",
       "    </tr>\n",
       "  </thead>\n",
       "  <tbody>\n",
       "    <tr>\n",
       "      <th>2401</th>\n",
       "      <td>(00214922, 13474065)</td>\n",
       "      <td>2010</td>\n",
       "      <td>{'Engineering': 1, 'Physics and Astronomy': 1}</td>\n",
       "    </tr>\n",
       "    <tr>\n",
       "      <th>5097</th>\n",
       "      <td>(13474065, 00214922)</td>\n",
       "      <td>2010</td>\n",
       "      <td>{'Engineering': 1}</td>\n",
       "    </tr>\n",
       "    <tr>\n",
       "      <th>5138</th>\n",
       "      <td>(13474065, 00214922)</td>\n",
       "      <td>2010</td>\n",
       "      <td>{'Engineering': 1}</td>\n",
       "    </tr>\n",
       "    <tr>\n",
       "      <th>11208</th>\n",
       "      <td>(13474065, 00214922)</td>\n",
       "      <td>2011</td>\n",
       "      <td>{'Engineering': 1}</td>\n",
       "    </tr>\n",
       "    <tr>\n",
       "      <th>11296</th>\n",
       "      <td>(13474065, 00214922)</td>\n",
       "      <td>2011</td>\n",
       "      <td>{'Engineering': 1}</td>\n",
       "    </tr>\n",
       "    <tr>\n",
       "      <th>17891</th>\n",
       "      <td>(13474065, 00214922)</td>\n",
       "      <td>2012</td>\n",
       "      <td>{'Engineering': 1}</td>\n",
       "    </tr>\n",
       "    <tr>\n",
       "      <th>24518</th>\n",
       "      <td>(13474065, 00214922)</td>\n",
       "      <td>2013</td>\n",
       "      <td>{'Engineering': 1}</td>\n",
       "    </tr>\n",
       "    <tr>\n",
       "      <th>45311</th>\n",
       "      <td>(13474065, 00214922)</td>\n",
       "      <td>2016</td>\n",
       "      <td>{'Engineering': 1}</td>\n",
       "    </tr>\n",
       "    <tr>\n",
       "      <th>52296</th>\n",
       "      <td>(13474065, 00214922)</td>\n",
       "      <td>2017</td>\n",
       "      <td>{'Engineering': 1}</td>\n",
       "    </tr>\n",
       "    <tr>\n",
       "      <th>59506</th>\n",
       "      <td>(13474065, 00214922)</td>\n",
       "      <td>2018</td>\n",
       "      <td>{'Engineering': 1}</td>\n",
       "    </tr>\n",
       "    <tr>\n",
       "      <th>67007</th>\n",
       "      <td>(13474065, 00214922)</td>\n",
       "      <td>2019</td>\n",
       "      <td>{'Engineering': 1}</td>\n",
       "    </tr>\n",
       "  </tbody>\n",
       "</table>\n",
       "</div>"
      ],
      "text/plain": [
       "                       Issn  ...                                        Sbj_Area\n",
       "2401   (00214922, 13474065)  ...  {'Engineering': 1, 'Physics and Astronomy': 1}\n",
       "5097   (13474065, 00214922)  ...                              {'Engineering': 1}\n",
       "5138   (13474065, 00214922)  ...                              {'Engineering': 1}\n",
       "11208  (13474065, 00214922)  ...                              {'Engineering': 1}\n",
       "11296  (13474065, 00214922)  ...                              {'Engineering': 1}\n",
       "17891  (13474065, 00214922)  ...                              {'Engineering': 1}\n",
       "24518  (13474065, 00214922)  ...                              {'Engineering': 1}\n",
       "45311  (13474065, 00214922)  ...                              {'Engineering': 1}\n",
       "52296  (13474065, 00214922)  ...                              {'Engineering': 1}\n",
       "59506  (13474065, 00214922)  ...                              {'Engineering': 1}\n",
       "67007  (13474065, 00214922)  ...                              {'Engineering': 1}\n",
       "\n",
       "[11 rows x 3 columns]"
      ]
     },
     "execution_count": 47,
     "metadata": {},
     "output_type": "execute_result"
    }
   ],
   "source": [
    "q_part3.reset_index()[q_part3.reset_index().Issn.map(lambda x: \"13474065\" in x)]"
   ]
  },
  {
   "cell_type": "code",
   "execution_count": 54,
   "metadata": {},
   "outputs": [
    {
     "data": {
      "text/html": [
       "<div>\n",
       "<style scoped>\n",
       "    .dataframe tbody tr th:only-of-type {\n",
       "        vertical-align: middle;\n",
       "    }\n",
       "\n",
       "    .dataframe tbody tr th {\n",
       "        vertical-align: top;\n",
       "    }\n",
       "\n",
       "    .dataframe thead th {\n",
       "        text-align: right;\n",
       "    }\n",
       "</style>\n",
       "<table border=\"1\" class=\"dataframe\">\n",
       "  <thead>\n",
       "    <tr style=\"text-align: right;\">\n",
       "      <th></th>\n",
       "      <th>Issn</th>\n",
       "      <th>Year</th>\n",
       "      <th>Sbj_Area</th>\n",
       "    </tr>\n",
       "  </thead>\n",
       "  <tbody>\n",
       "    <tr>\n",
       "      <th>0</th>\n",
       "      <td>(00346861, 15390756)</td>\n",
       "      <td>2010</td>\n",
       "      <td>{'Physics and Astronomy': 1}</td>\n",
       "    </tr>\n",
       "    <tr>\n",
       "      <th>1</th>\n",
       "      <td>(15453278, 07320582)</td>\n",
       "      <td>2010</td>\n",
       "      <td>{'Immunology and Microbiology': 1, 'Medicine': 1}</td>\n",
       "    </tr>\n",
       "    <tr>\n",
       "      <th>2</th>\n",
       "      <td>(15454509, 00664154)</td>\n",
       "      <td>2010</td>\n",
       "      <td>{'Biochemistry, Genetics and Molecular Biology...</td>\n",
       "    </tr>\n",
       "    <tr>\n",
       "      <th>3</th>\n",
       "      <td>(10614036, 15461718)</td>\n",
       "      <td>2010</td>\n",
       "      <td>{'Biochemistry, Genetics and Molecular Biology...</td>\n",
       "    </tr>\n",
       "    <tr>\n",
       "      <th>4</th>\n",
       "      <td>(15424863, 00079235)</td>\n",
       "      <td>2010</td>\n",
       "      <td>{'Medicine': 2}</td>\n",
       "    </tr>\n",
       "    <tr>\n",
       "      <th>...</th>\n",
       "      <td>...</td>\n",
       "      <td>...</td>\n",
       "      <td>...</td>\n",
       "    </tr>\n",
       "    <tr>\n",
       "      <th>75525</th>\n",
       "      <td>(07303238, 15489590)</td>\n",
       "      <td>2020</td>\n",
       "      <td>{'Arts and Humanities': 1}</td>\n",
       "    </tr>\n",
       "    <tr>\n",
       "      <th>75526</th>\n",
       "      <td>(01234412,)</td>\n",
       "      <td>2020</td>\n",
       "      <td>{'Arts and Humanities': 1}</td>\n",
       "    </tr>\n",
       "    <tr>\n",
       "      <th>75527</th>\n",
       "      <td>(16551532, 20120788)</td>\n",
       "      <td>2020</td>\n",
       "      <td>{'Arts and Humanities': 1}</td>\n",
       "    </tr>\n",
       "    <tr>\n",
       "      <th>75528</th>\n",
       "      <td>(05836255,)</td>\n",
       "      <td>2020</td>\n",
       "      <td>{'Arts and Humanities': 1}</td>\n",
       "    </tr>\n",
       "    <tr>\n",
       "      <th>75529</th>\n",
       "      <td>(02572117,)</td>\n",
       "      <td>2020</td>\n",
       "      <td>{'Arts and Humanities': 1}</td>\n",
       "    </tr>\n",
       "  </tbody>\n",
       "</table>\n",
       "<p>75530 rows × 3 columns</p>\n",
       "</div>"
      ],
      "text/plain": [
       "                       Issn  ...                                           Sbj_Area\n",
       "0      (00346861, 15390756)  ...                       {'Physics and Astronomy': 1}\n",
       "1      (15453278, 07320582)  ...  {'Immunology and Microbiology': 1, 'Medicine': 1}\n",
       "2      (15454509, 00664154)  ...  {'Biochemistry, Genetics and Molecular Biology...\n",
       "3      (10614036, 15461718)  ...  {'Biochemistry, Genetics and Molecular Biology...\n",
       "4      (15424863, 00079235)  ...                                    {'Medicine': 2}\n",
       "...                     ...  ...                                                ...\n",
       "75525  (07303238, 15489590)  ...                         {'Arts and Humanities': 1}\n",
       "75526           (01234412,)  ...                         {'Arts and Humanities': 1}\n",
       "75527  (16551532, 20120788)  ...                         {'Arts and Humanities': 1}\n",
       "75528           (05836255,)  ...                         {'Arts and Humanities': 1}\n",
       "75529           (02572117,)  ...                         {'Arts and Humanities': 1}\n",
       "\n",
       "[75530 rows x 3 columns]"
      ]
     },
     "execution_count": 54,
     "metadata": {},
     "output_type": "execute_result"
    }
   ],
   "source": [
    "q_part3.reset_index()"
   ]
  },
  {
   "cell_type": "code",
   "execution_count": 53,
   "metadata": {},
   "outputs": [
    {
     "data": {
      "text/html": [
       "<div>\n",
       "<style scoped>\n",
       "    .dataframe tbody tr th:only-of-type {\n",
       "        vertical-align: middle;\n",
       "    }\n",
       "\n",
       "    .dataframe tbody tr th {\n",
       "        vertical-align: top;\n",
       "    }\n",
       "\n",
       "    .dataframe thead th {\n",
       "        text-align: right;\n",
       "    }\n",
       "</style>\n",
       "<table border=\"1\" class=\"dataframe\">\n",
       "  <thead>\n",
       "    <tr style=\"text-align: right;\">\n",
       "      <th></th>\n",
       "      <th>Issn</th>\n",
       "      <th>Year</th>\n",
       "      <th>Sbj_Area</th>\n",
       "    </tr>\n",
       "  </thead>\n",
       "  <tbody>\n",
       "    <tr>\n",
       "      <th>0</th>\n",
       "      <td>(00346861, 15390756)</td>\n",
       "      <td>2010</td>\n",
       "      <td>{'Physics and Astronomy': 1}</td>\n",
       "    </tr>\n",
       "    <tr>\n",
       "      <th>1</th>\n",
       "      <td>(15453278, 07320582)</td>\n",
       "      <td>2010</td>\n",
       "      <td>{'Immunology and Microbiology': 1, 'Medicine': 1}</td>\n",
       "    </tr>\n",
       "    <tr>\n",
       "      <th>2</th>\n",
       "      <td>(15454509, 00664154)</td>\n",
       "      <td>2010</td>\n",
       "      <td>{'Biochemistry, Genetics and Molecular Biology...</td>\n",
       "    </tr>\n",
       "    <tr>\n",
       "      <th>3</th>\n",
       "      <td>(10614036, 15461718)</td>\n",
       "      <td>2010</td>\n",
       "      <td>{'Biochemistry, Genetics and Molecular Biology...</td>\n",
       "    </tr>\n",
       "    <tr>\n",
       "      <th>4</th>\n",
       "      <td>(15424863, 00079235)</td>\n",
       "      <td>2010</td>\n",
       "      <td>{'Medicine': 2}</td>\n",
       "    </tr>\n",
       "    <tr>\n",
       "      <th>...</th>\n",
       "      <td>...</td>\n",
       "      <td>...</td>\n",
       "      <td>...</td>\n",
       "    </tr>\n",
       "    <tr>\n",
       "      <th>75525</th>\n",
       "      <td>(07303238, 15489590)</td>\n",
       "      <td>2020</td>\n",
       "      <td>{'Arts and Humanities': 1}</td>\n",
       "    </tr>\n",
       "    <tr>\n",
       "      <th>75526</th>\n",
       "      <td>(01234412,)</td>\n",
       "      <td>2020</td>\n",
       "      <td>{'Arts and Humanities': 1}</td>\n",
       "    </tr>\n",
       "    <tr>\n",
       "      <th>75527</th>\n",
       "      <td>(16551532, 20120788)</td>\n",
       "      <td>2020</td>\n",
       "      <td>{'Arts and Humanities': 1}</td>\n",
       "    </tr>\n",
       "    <tr>\n",
       "      <th>75528</th>\n",
       "      <td>(05836255,)</td>\n",
       "      <td>2020</td>\n",
       "      <td>{'Arts and Humanities': 1}</td>\n",
       "    </tr>\n",
       "    <tr>\n",
       "      <th>75529</th>\n",
       "      <td>(02572117,)</td>\n",
       "      <td>2020</td>\n",
       "      <td>{'Arts and Humanities': 1}</td>\n",
       "    </tr>\n",
       "  </tbody>\n",
       "</table>\n",
       "<p>75528 rows × 3 columns</p>\n",
       "</div>"
      ],
      "text/plain": [
       "                       Issn  ...                                           Sbj_Area\n",
       "0      (00346861, 15390756)  ...                       {'Physics and Astronomy': 1}\n",
       "1      (15453278, 07320582)  ...  {'Immunology and Microbiology': 1, 'Medicine': 1}\n",
       "2      (15454509, 00664154)  ...  {'Biochemistry, Genetics and Molecular Biology...\n",
       "3      (10614036, 15461718)  ...  {'Biochemistry, Genetics and Molecular Biology...\n",
       "4      (15424863, 00079235)  ...                                    {'Medicine': 2}\n",
       "...                     ...  ...                                                ...\n",
       "75525  (07303238, 15489590)  ...                         {'Arts and Humanities': 1}\n",
       "75526           (01234412,)  ...                         {'Arts and Humanities': 1}\n",
       "75527  (16551532, 20120788)  ...                         {'Arts and Humanities': 1}\n",
       "75528           (05836255,)  ...                         {'Arts and Humanities': 1}\n",
       "75529           (02572117,)  ...                         {'Arts and Humanities': 1}\n",
       "\n",
       "[75528 rows x 3 columns]"
      ]
     },
     "execution_count": 53,
     "metadata": {},
     "output_type": "execute_result"
    }
   ],
   "source": [
    "q_part3.reset_index().drop_duplicates(subset=(\"Issn\", \"Year\"))"
   ]
  },
  {
   "cell_type": "code",
   "execution_count": 77,
   "metadata": {},
   "outputs": [],
   "source": [
    "# rop duplicates of retr_q1 to get the same number of rows as retr_onetwo:\n",
    "retr_q1 = retr_q1.reset_index().drop_duplicates(subset=(\"Issn\", \"Year\"))\n",
    "\n",
    "# Re-ordering columns for ease of use:\n",
    "retr_q1 = retr_q1[[\"Issn\",\"Year\",\"Sbj_Area\",\"CR_Results\",\"SH_Results\",\"CR_Count\",\"Total_Docs\"]]\n",
    "\n",
    "# Setting index back after drop duplicate process:\n",
    "retr_q1.set_index([\"Issn\",\"Year\"],inplace=True) \n",
    "\n",
    "# Store the resulting df:\n",
    "%store retr_q1"
   ]
  },
  {
   "cell_type": "code",
   "execution_count": 5,
   "metadata": {},
   "outputs": [],
   "source": [
    "# Need to reset index to use explade function:\n",
    "retr_q1.reset_index(inplace=True)\n",
    "\n",
    "# Creating expladed_df to create pivot tables: \n",
    "expladed_q1 = explade_v2(retr_q1)"
   ]
  },
  {
   "cell_type": "code",
   "execution_count": 6,
   "metadata": {},
   "outputs": [],
   "source": [
    "# Bruno pivots (v2):\n",
    "\n",
    "# 1- FULL - YEAR vs ARTICLE Count\n",
    "bruno1 = pd.pivot_table(data=expladed_q1, columns=\"Year\", index=\"Sbj_Area\", values=\"Total_Docs\", aggfunc=sum)\n",
    "\n",
    "# 2- DATE_OK - YEAR vs. ARTICLE Count\n",
    "bruno2 = pd.pivot_table(data=expladed_q1[(expladed_q1.CR_Results == True) & (expladed_q1.SH_Results == True)], columns=\"Year\", index=\"Sbj_Area\", values=\"Total_Docs\", aggfunc=sum)\n",
    "\n",
    "# 3- FULL - YEAR vs JOURNAL Count\n",
    "bruno3 = pd.pivot_table(data=expladed_q1, columns=\"Year\", index=\"Sbj_Area\", values=\"Total_Docs\", aggfunc=\"count\")\n",
    "\n",
    "# 4- DATE_OK - YEAR vs. JOURNAL Count\n",
    "bruno4 = pd.pivot_table(data=expladed_q1[(expladed_q1.CR_Results == True) & (expladed_q1.SH_Results == True)], columns=\"Year\", index=\"Sbj_Area\", values=\"Total_Docs\", aggfunc=\"count\")\n"
   ]
  },
  {
   "cell_type": "code",
   "execution_count": 12,
   "metadata": {},
   "outputs": [],
   "source": [
    "with pd.ExcelWriter(\"pivot_tables_v2.xlsx\") as writer:\n",
    "\n",
    "    bruno1.to_excel(writer, sheet_name=\"FULL - ARTICLE\")  \n",
    "\n",
    "    bruno2.to_excel(writer, sheet_name=\"DATE_OK - ARTICLE\")\n",
    "\n",
    "    bruno3.to_excel(writer,sheet_name=\"FULL - JOURNAL\")\n",
    "\n",
    "    bruno4.to_excel(writer,sheet_name=\"DATE_OK - JOURNAL\")"
   ]
  },
  {
   "cell_type": "markdown",
   "metadata": {},
   "source": [
    "### FINAL NOTE:\n",
    "\n",
    "Depending on Bruno's answer, we are ready to create sample counts & finalize q1 process both for journals & articles.\n",
    "\n",
    "In the meantime, we can use this time to do the same for q2 journals.\n",
    "\n",
    "Up to this point, there are 2 variables that are complete & ready to be used. Also, there are 3 date_df_all dfs from 5b SumCetCet run.\n",
    "\n",
    "* Journal df -> retr_q1\n",
    "* Article df -> date_df_ok\n",
    "\n",
    "TTD:\n",
    "* Check run results from 5b, update date_df_ok if necessary\n",
    "* Create retr_q2 complete with CR_Results, SH_Results columns\n",
    "* Check ScopusAPI for Affiliation"
   ]
  },
  {
   "cell_type": "markdown",
   "metadata": {},
   "source": [
    "---\n",
    "---\n",
    "\n",
    "\n",
    "### AFTER BRUNO MEETING:\n",
    "\n",
    "The meeting was successful & now there is a new way forward with the project.\n",
    "\n",
    "* Waiting on Bruno's reply to pivots; afterwards we can start the Q1 jrnl_df final sampling process. Almost everything is ready:\n",
    "    * Jrnl info is ready & with the new & improved retr_q1 dataset\n",
    "    * Artl count is also available\n",
    "\n",
    "_Meanwhile_:\n",
    "\n",
    "1- need to test & implement the new Affiliation extraction:\n",
    "* __Scopus API Author Search__\n",
    "    * Testing the API & requirements\n",
    "    * Creating an author_df & integrating to retr_q1\n",
    "    * get affiliations for both\n",
    "\n",
    "2- Create & prepare retr_q2 dataset:\n",
    "\n",
    "* Simpler & more time consuming:\n",
    "* Need to repeat the jrnl pipeline for Q2 jrnls per Bruno's request\n",
    "    * Scimago -> retr_ready\n",
    "    * CR_Check -> can simply use CR_Count instead: if 0 -> False, else True\n",
    "    * SH_Check -> if CR_check True, get 2 DOIs, modify & run second_run pipeline & fill the column\n",
    "\n",
    "\n",
    "Therefore, will start a new notebook for Scopus API Author testing, anohe rone for retr_q2 & will create a pipeline for jrnl processes and finally once Bruno replies another one for creating final q1_artcl df!\n",
    "\n",
    "So, this nb is completed with 2 crucial variables:\n",
    "\n",
    "* date_df_ok -> Q1 jrnls metadata retrieved articles\n",
    "    * BUT there is actually a newer one from 5b but need to concat SumCetCet run results!\n",
    "* retr_q1 -> Q1 jrnl_df ready to be used for sampling & other analysis\n"
   ]
  }
 ],
 "metadata": {
  "interpreter": {
   "hash": "92ba50c92c9dc11b366869717e90d544d23b7140e20708921d0ff91f276d2e3f"
  },
  "kernelspec": {
   "display_name": "Python 3.8.10 ('base')",
   "language": "python",
   "name": "python3"
  },
  "language_info": {
   "codemirror_mode": {
    "name": "ipython",
    "version": 3
   },
   "file_extension": ".py",
   "mimetype": "text/x-python",
   "name": "python",
   "nbconvert_exporter": "python",
   "pygments_lexer": "ipython3",
   "version": "3.8.10"
  },
  "orig_nbformat": 4
 },
 "nbformat": 4,
 "nbformat_minor": 2
}
