{
 "cells": [
  {
   "cell_type": "code",
   "execution_count": 1,
   "metadata": {},
   "outputs": [],
   "source": [
    "from bs4 import BeautifulSoup\n",
    "import requests\n",
    "import regex as re"
   ]
  },
  {
   "cell_type": "code",
   "execution_count": 3,
   "metadata": {},
   "outputs": [],
   "source": [
    "HEADERS = {'User-Agent': 'Mozilla/5.0 (X11; Linux x86_64) AppleWebKit/537.36 (KHTML, like Gecko) Chrome/36.0.1985.143 Safari/537.36'}\n"
   ]
  },
  {
   "cell_type": "code",
   "execution_count": 2,
   "metadata": {},
   "outputs": [],
   "source": [
    "OWN_HEADER = {'User-Agent': 'Mozilla/5.0 (Windows NT 10.0; Win64; x64; rv:103.0) Gecko/20100101 Firefox/103.0 X-Middleton/1'}"
   ]
  },
  {
   "cell_type": "code",
   "execution_count": 3,
   "metadata": {},
   "outputs": [],
   "source": [
    "sci_web = requests.get(\"https://service.elsevier.com/app/answers/detail/a_id/14882/supporthub/scopus/~/what-are-the-most-frequent-subject-area-categories-and-classifications-used-in/\", headers=OWN_HEADER)\n",
    "sci_soup = BeautifulSoup(sci_web.content, \"html.parser\")"
   ]
  },
  {
   "cell_type": "code",
   "execution_count": 21,
   "metadata": {},
   "outputs": [],
   "source": [
    "sbj_areas = [yorum.text for yorum in sci_soup.find_all(\"strong\") if len(yorum.text)<20]"
   ]
  },
  {
   "cell_type": "code",
   "execution_count": 36,
   "metadata": {},
   "outputs": [],
   "source": [
    "sbj_area_classes = [yorum.text for yorum in sci_soup.find_all(\"p\")][3:-6]"
   ]
  },
  {
   "cell_type": "code",
   "execution_count": 37,
   "metadata": {},
   "outputs": [],
   "source": [
    "sa_class_dict = dict()\n",
    "\n",
    "for item in sbj_area_classes:\n",
    "    if item in sbj_areas:\n",
    "        new_sa = item\n",
    "    else:\n",
    "        sa_class_dict[item] = new_sa"
   ]
  },
  {
   "cell_type": "code",
   "execution_count": 40,
   "metadata": {},
   "outputs": [
    {
     "data": {
      "text/plain": [
       "{'Chemical Engineering': 'Physical Sciences',\n",
       " 'Chemistry': 'Physical Sciences',\n",
       " 'Computer Science': 'Physical Sciences',\n",
       " 'Earth and Planetary Sciences': 'Physical Sciences',\n",
       " 'Energy': 'Physical Sciences',\n",
       " 'Engineering': 'Physical Sciences',\n",
       " 'Environmental Science': 'Physical Sciences',\n",
       " 'Material Science': 'Physical Sciences',\n",
       " 'Mathematics': 'Physical Sciences',\n",
       " 'Physics and Astronomy': 'Physical Sciences',\n",
       " 'Multidisciplinary': 'Life Sciences',\n",
       " 'Medicine': 'Health Sciences',\n",
       " 'Nursing': 'Health Sciences',\n",
       " 'Veterinary': 'Health Sciences',\n",
       " 'Dentistry': 'Health Sciences',\n",
       " 'Health Professions': 'Health Sciences',\n",
       " 'Arts and Humanities': 'Social Sciences',\n",
       " 'Business, Management and Accounting': 'Social Sciences',\n",
       " 'Decision Sciences': 'Social Sciences',\n",
       " 'Economics, Econometrics and Finance': 'Social Sciences',\n",
       " 'Psychology': 'Social Sciences',\n",
       " 'Agricultural and Biological Sciences': 'Life Sciences',\n",
       " 'Biochemistry, Genetics and Molecular Biology': 'Life Sciences',\n",
       " 'Immunology and Microbiology': 'Life Sciences',\n",
       " 'Neuroscience': 'Life Sciences',\n",
       " 'Pharmacology, Toxicology and Pharmaceutics': 'Life Sciences'}"
      ]
     },
     "execution_count": 40,
     "metadata": {},
     "output_type": "execute_result"
    }
   ],
   "source": [
    "sa_class_dict"
   ]
  },
  {
   "cell_type": "code",
   "execution_count": 30,
   "metadata": {},
   "outputs": [],
   "source": [
    "sa_class_dict = dict()\n",
    "\n",
    "for i in range(len(sbj_areas)):\n",
    "    if i<3:\n",
    "        sa_class_dict[sbj_areas[i]] = sbj_area_classes[sbj_area_classes.index(sbj_areas[i])+1:sbj_area_classes.index(sbj_areas[i+1])]\n",
    "    else:\n",
    "        sa_class_dict[sbj_areas[i]] = sbj_area_classes[sbj_area_classes.index(sbj_areas[i])+1:]\n"
   ]
  },
  {
   "cell_type": "code",
   "execution_count": 1,
   "metadata": {},
   "outputs": [
    {
     "data": {
      "text/plain": [
       "True"
      ]
     },
     "execution_count": 1,
     "metadata": {},
     "output_type": "execute_result"
    }
   ],
   "source": [
    "\"a\" in [\"a\", \"g\"]"
   ]
  },
  {
   "cell_type": "code",
   "execution_count": null,
   "metadata": {},
   "outputs": [],
   "source": []
  },
  {
   "cell_type": "code",
   "execution_count": 31,
   "metadata": {},
   "outputs": [
    {
     "data": {
      "text/plain": [
       "{'Physical Sciences': ['Chemistry',\n",
       "  'Computer Science',\n",
       "  'Energy',\n",
       "  'Engineering',\n",
       "  'Material Science',\n",
       "  'Mathematics',\n",
       "  'Multidisciplinary'],\n",
       " 'Health Sciences': ['Medicine',\n",
       "  'Nursing',\n",
       "  'Veterinary',\n",
       "  'Dentistry',\n",
       "  'Health Professions',\n",
       "  'Multidisciplinary'],\n",
       " 'Social Sciences': ['Arts and Humanities',\n",
       "  'Decision Sciences',\n",
       "  'Psychology',\n",
       "  'Social Sciences',\n",
       "  'Multidisciplinary'],\n",
       " 'Life Sciences': ['Neuroscience', 'Multidisciplinary']}"
      ]
     },
     "execution_count": 31,
     "metadata": {},
     "output_type": "execute_result"
    }
   ],
   "source": [
    "sa_class_dict"
   ]
  },
  {
   "cell_type": "code",
   "execution_count": 29,
   "metadata": {},
   "outputs": [
    {
     "data": {
      "text/plain": [
       "['Chemistry',\n",
       " 'Computer Science',\n",
       " 'Energy',\n",
       " 'Engineering',\n",
       " 'Material Science',\n",
       " 'Mathematics',\n",
       " 'Multidisciplinary']"
      ]
     },
     "execution_count": 29,
     "metadata": {},
     "output_type": "execute_result"
    }
   ],
   "source": [
    "sbj_area_classes[sbj_area_classes.index(sbj_areas[0])+1:sbj_area_classes.index(sbj_areas[1])]"
   ]
  },
  {
   "cell_type": "code",
   "execution_count": null,
   "metadata": {},
   "outputs": [],
   "source": [
    "sbj_area_classes[]"
   ]
  },
  {
   "cell_type": "code",
   "execution_count": 25,
   "metadata": {},
   "outputs": [
    {
     "data": {
      "text/plain": [
       "[['Physical Sciences',\n",
       "  'Chemistry',\n",
       "  'Computer Science',\n",
       "  'Energy',\n",
       "  'Engineering',\n",
       "  'Material Science',\n",
       "  'Mathematics',\n",
       "  'Multidisciplinary',\n",
       "  'Health Sciences',\n",
       "  'Medicine',\n",
       "  'Nursing']]"
      ]
     },
     "execution_count": 25,
     "metadata": {},
     "output_type": "execute_result"
    }
   ],
   "source": [
    "list(partition(sbj_area_classes,sbj_areas))"
   ]
  },
  {
   "cell_type": "code",
   "execution_count": 8,
   "metadata": {},
   "outputs": [
    {
     "data": {
      "text/plain": [
       "[<p class=\"rn_UserInfoDescription\" id=\"rn_UserInfoDialog_10_UserInfoDescription\">To post social content, you must have a display name. The page will refresh upon submission. Any pending input will be lost.</p>,\n",
       " <p>Serial titles are classified using the ASJC (All Science Journal Classification) scheme and can be used to filter your search results. Classification is done by in-house experts at the moment the serial title is set up for Scopus coverage; the classification is based on the aims and scope of the title, and on the content it publishes.</p>,\n",
       " <p>For a complete list of ASJC codes, see <a href=\"https://service.elsevier.com/app/answers/detail/a_id/15181/supporthub/scopus/\">What is the complete list of Scopus Subject Areas and All Science Journal Classification Codes (ASJC)?</a></p>,\n",
       " <p><strong>Physical Sciences</strong></p>,\n",
       " <p>Chemical Engineering</p>,\n",
       " <p>Chemistry</p>,\n",
       " <p>Computer Science</p>,\n",
       " <p>Earth and Planetary Sciences</p>,\n",
       " <p>Energy</p>,\n",
       " <p>Engineering</p>,\n",
       " <p>Environmental Science</p>,\n",
       " <p>Material Science</p>,\n",
       " <p>Mathematics</p>,\n",
       " <p>Physics and Astronomy</p>,\n",
       " <p>Multidisciplinary</p>,\n",
       " <p><strong>Health Sciences</strong></p>,\n",
       " <p>Medicine</p>,\n",
       " <p>Nursing</p>,\n",
       " <p>Veterinary</p>,\n",
       " <p>Dentistry</p>,\n",
       " <p>Health Professions</p>,\n",
       " <p>Multidisciplinary</p>,\n",
       " <p><strong>Social Sciences</strong></p>,\n",
       " <p>Arts and Humanities</p>,\n",
       " <p>Business, Management and Accounting</p>,\n",
       " <p>Decision Sciences</p>,\n",
       " <p>Economics, Econometrics and Finance</p>,\n",
       " <p>Psychology</p>,\n",
       " <p>Social Sciences</p>,\n",
       " <p>Multidisciplinary</p>,\n",
       " <p><strong>Life Sciences</strong></p>,\n",
       " <p>Agricultural and Biological Sciences</p>,\n",
       " <p>Biochemistry, Genetics and Molecular Biology</p>,\n",
       " <p>Immunology and Microbiology</p>,\n",
       " <p>Neuroscience</p>,\n",
       " <p>Pharmacology, Toxicology and Pharmaceutics</p>,\n",
       " <p>Multidisciplinary</p>,\n",
       " <p>Thank you for your feedback, it will help us serve you better. <br/>\n",
       " If you require assistance, please scroll down and use one of the contact options to get in touch.</p>,\n",
       " <p>Help us to help you:</p>,\n",
       " <p>Thank you for your feedback!</p>,\n",
       " <p>For further assistance:</p>,\n",
       " <p class=\"footer-links\">\n",
       " <a data-location=\"termsAndConditions\" href=\"https://www.elsevier.com/legal/elsevier-website-terms-and-conditions\"> Terms and Conditions </a> <a data-location=\"privacy\" href=\"https://www.elsevier.com/legal/privacy-policy\"> Privacy Policy </a> <button class=\"ot-sdk-show-settings\">Cookie Settings</button>\n",
       " </p>,\n",
       " <p>\n",
       "                             Copyright ©2022 Elsevier B.V.                        </p>]"
      ]
     },
     "execution_count": 8,
     "metadata": {},
     "output_type": "execute_result"
    }
   ],
   "source": [
    "sci_soup.find_all(\"p\")"
   ]
  },
  {
   "cell_type": "code",
   "execution_count": 12,
   "metadata": {},
   "outputs": [
    {
     "data": {
      "text/plain": [
       "['hakiki limonlu bir dondurma.',\n",
       " '(bkz: yenilemeyecek en iyi dondurma)',\n",
       " 'en iyi dondurma, henüz yenmemiş dondurmadır.',\n",
       " 'magnum değildir diyerek katılacağım anket.',\n",
       " 'çubuktan çıkan bedava sayesinde alınan dondurmadır. o mutluluğu çocukluğumdan beri hiçbir dondurma veremedi.',\n",
       " '(bkz: serez dondurmacısı)sucuklu yumurtalı olanı hariç hepsi.',\n",
       " \"kahramanmaraş'taki üretim yerinde mado tabi ki...\",\n",
       " '(bkz: bafra balkaymak dondurması)',\n",
       " 'movenpick yada cartedor karamel yada cartedor meyve şöleni',\n",
       " 'içerisinde gerçek sahlep olan kaliteli sütten yapılmış dondurmadır']"
      ]
     },
     "execution_count": 12,
     "metadata": {},
     "output_type": "execute_result"
    }
   ],
   "source": [
    "yorum_list = [re.sub(\"\\\\r\\\\n\", \"\", yorum.text).strip() for yorum in sci_soup.find_all(\"div\", {\"class\":\"content\"})]"
   ]
  },
  {
   "cell_type": "code",
   "execution_count": 41,
   "metadata": {},
   "outputs": [],
   "source": [
    "import seaborn as sns"
   ]
  },
  {
   "cell_type": "code",
   "execution_count": 45,
   "metadata": {},
   "outputs": [
    {
     "data": {
      "text/html": [
       "<svg  width=\"550\" height=\"55\"><rect x=\"0\" y=\"0\" width=\"55\" height=\"55\" style=\"fill:#1f77b4;stroke-width:2;stroke:rgb(255,255,255)\"/><rect x=\"55\" y=\"0\" width=\"55\" height=\"55\" style=\"fill:#ff7f0e;stroke-width:2;stroke:rgb(255,255,255)\"/><rect x=\"110\" y=\"0\" width=\"55\" height=\"55\" style=\"fill:#2ca02c;stroke-width:2;stroke:rgb(255,255,255)\"/><rect x=\"165\" y=\"0\" width=\"55\" height=\"55\" style=\"fill:#d62728;stroke-width:2;stroke:rgb(255,255,255)\"/><rect x=\"220\" y=\"0\" width=\"55\" height=\"55\" style=\"fill:#9467bd;stroke-width:2;stroke:rgb(255,255,255)\"/><rect x=\"275\" y=\"0\" width=\"55\" height=\"55\" style=\"fill:#8c564b;stroke-width:2;stroke:rgb(255,255,255)\"/><rect x=\"330\" y=\"0\" width=\"55\" height=\"55\" style=\"fill:#e377c2;stroke-width:2;stroke:rgb(255,255,255)\"/><rect x=\"385\" y=\"0\" width=\"55\" height=\"55\" style=\"fill:#7f7f7f;stroke-width:2;stroke:rgb(255,255,255)\"/><rect x=\"440\" y=\"0\" width=\"55\" height=\"55\" style=\"fill:#bcbd22;stroke-width:2;stroke:rgb(255,255,255)\"/><rect x=\"495\" y=\"0\" width=\"55\" height=\"55\" style=\"fill:#17becf;stroke-width:2;stroke:rgb(255,255,255)\"/></svg>"
      ],
      "text/plain": [
       "[(0.12156862745098039, 0.4666666666666667, 0.7058823529411765),\n",
       " (1.0, 0.4980392156862745, 0.054901960784313725),\n",
       " (0.17254901960784313, 0.6274509803921569, 0.17254901960784313),\n",
       " (0.8392156862745098, 0.15294117647058825, 0.1568627450980392),\n",
       " (0.5803921568627451, 0.403921568627451, 0.7411764705882353),\n",
       " (0.5490196078431373, 0.33725490196078434, 0.29411764705882354),\n",
       " (0.8901960784313725, 0.4666666666666667, 0.7607843137254902),\n",
       " (0.4980392156862745, 0.4980392156862745, 0.4980392156862745),\n",
       " (0.7372549019607844, 0.7411764705882353, 0.13333333333333333),\n",
       " (0.09019607843137255, 0.7450980392156863, 0.8117647058823529)]"
      ]
     },
     "execution_count": 45,
     "metadata": {},
     "output_type": "execute_result"
    }
   ],
   "source": [
    "sns.color_palette()"
   ]
  },
  {
   "cell_type": "code",
   "execution_count": 49,
   "metadata": {},
   "outputs": [
    {
     "data": {
      "text/plain": [
       "(0.5490196078431373, 0.33725490196078434, 0.29411764705882354)"
      ]
     },
     "execution_count": 49,
     "metadata": {},
     "output_type": "execute_result"
    }
   ],
   "source": [
    "sns.color_palette()[5]"
   ]
  },
  {
   "cell_type": "code",
   "execution_count": null,
   "metadata": {},
   "outputs": [],
   "source": [
    "sa_class_dict = {'Chemical Engineering': 'Physical Sciences',\n",
    " 'Chemistry': 'Physical Sciences',\n",
    " 'Computer Science': 'Physical Sciences',\n",
    " 'Earth and Planetary Sciences': 'Physical Sciences',\n",
    " 'Energy': 'Physical Sciences',\n",
    " 'Engineering': 'Physical Sciences',\n",
    " 'Environmental Science': 'Physical Sciences',\n",
    " 'Materials Science': 'Physical Sciences',\n",
    " 'Mathematics': 'Physical Sciences',\n",
    " 'Physics and Astronomy': 'Physical Sciences',\n",
    " 'Multidisciplinary': 'Multidisciplinary',\n",
    " 'Medicine': 'Health Sciences',\n",
    " 'Nursing': 'Health Sciences',\n",
    " 'Veterinary': 'Health Sciences',\n",
    " 'Dentistry': 'Health Sciences',\n",
    " 'Health Professions': 'Health Sciences',\n",
    " 'Arts and Humanities': 'Social Sciences',\n",
    " 'Business, Management and Accounting': 'Social Sciences',\n",
    " 'Decision Sciences': 'Social Sciences',\n",
    " 'Social Sciences' : 'Social Sciences',\n",
    " 'Economics, Econometrics and Finance': 'Social Sciences',\n",
    " 'Psychology': 'Social Sciences',\n",
    " 'Agricultural and Biological Sciences': 'Life Sciences',\n",
    " 'Biochemistry, Genetics and Molecular Biology': 'Life Sciences',\n",
    " 'Immunology and Microbiology': 'Life Sciences',\n",
    " 'Neuroscience': 'Life Sciences',\n",
    " 'Pharmacology, Toxicology and Pharmaceutics': 'Life Sciences'}"
   ]
  },
  {
   "cell_type": "code",
   "execution_count": null,
   "metadata": {},
   "outputs": [],
   "source": [
    "sa_color_codes = {'Chemical Engineering': (0.12156862745098039, 0.4666666666666667, 0.7058823529411765),\n",
    " 'Chemistry': (0.12156862745098039, 0.4666666666666667, 0.7058823529411765),\n",
    " 'Computer Science': (0.12156862745098039, 0.4666666666666667, 0.7058823529411765),\n",
    " 'Earth and Planetary Sciences': (0.12156862745098039, 0.4666666666666667, 0.7058823529411765),\n",
    " 'Energy': (0.12156862745098039, 0.4666666666666667, 0.7058823529411765),\n",
    " 'Engineering': (0.12156862745098039, 0.4666666666666667, 0.7058823529411765),\n",
    " 'Environmental Science': (0.12156862745098039, 0.4666666666666667, 0.7058823529411765),\n",
    " 'Materials Science': (0.12156862745098039, 0.4666666666666667, 0.7058823529411765),\n",
    " 'Mathematics': (0.12156862745098039, 0.4666666666666667, 0.7058823529411765),\n",
    " 'Physics and Astronomy': (0.12156862745098039, 0.4666666666666667, 0.7058823529411765),\n",
    " 'darkgray': (1.0, 0.4980392156862745, 0.054901960784313725),\n",
    " 'Medicine': (0.17254901960784313, 0.6274509803921569, 0.17254901960784313),\n",
    " 'Nursing': (0.17254901960784313, 0.6274509803921569, 0.17254901960784313),\n",
    " 'Veterinary': (0.17254901960784313, 0.6274509803921569, 0.17254901960784313),\n",
    " 'Dentistry': (0.17254901960784313, 0.6274509803921569, 0.17254901960784313),\n",
    " 'Health Professions': (0.17254901960784313, 0.6274509803921569, 0.17254901960784313),\n",
    " 'Arts and Humanities': (0.8392156862745098, 0.15294117647058825, 0.1568627450980392),\n",
    " 'Business, Management and Accounting': (0.8392156862745098, 0.15294117647058825, 0.1568627450980392),\n",
    " 'Decision Sciences': (0.8392156862745098, 0.15294117647058825, 0.1568627450980392),\n",
    " (0.8392156862745098, 0.15294117647058825, 0.1568627450980392) : (0.8392156862745098, 0.15294117647058825, 0.1568627450980392),\n",
    " 'Economics, Econometrics and Finance': (0.8392156862745098, 0.15294117647058825, 0.1568627450980392),\n",
    " 'Psychology': (0.8392156862745098, 0.15294117647058825, 0.1568627450980392),\n",
    " 'Agricultural and Biological Sciences': (0.5490196078431373, 0.33725490196078434, 0.29411764705882354),\n",
    " 'Biochemistry, Genetics and Molecular Biology': (0.5490196078431373, 0.33725490196078434, 0.29411764705882354),\n",
    " 'Immunology and Microbiology': (0.5490196078431373, 0.33725490196078434, 0.29411764705882354),\n",
    " 'Neuroscience': (0.5490196078431373, 0.33725490196078434, 0.29411764705882354),\n",
    " 'Pharmacology, Toxicology and Pharmaceutics': (0.5490196078431373, 0.33725490196078434, 0.29411764705882354)}"
   ]
  }
 ],
 "metadata": {
  "kernelspec": {
   "display_name": "Python 3.8.10 ('base')",
   "language": "python",
   "name": "python3"
  },
  "language_info": {
   "codemirror_mode": {
    "name": "ipython",
    "version": 3
   },
   "file_extension": ".py",
   "mimetype": "text/x-python",
   "name": "python",
   "nbconvert_exporter": "python",
   "pygments_lexer": "ipython3",
   "version": "3.8.10"
  },
  "orig_nbformat": 4,
  "vscode": {
   "interpreter": {
    "hash": "6d6808e9ba8815475743150367720cad3673ac2b3f4957dc753295ba7ac37a1a"
   }
  }
 },
 "nbformat": 4,
 "nbformat_minor": 2
}
