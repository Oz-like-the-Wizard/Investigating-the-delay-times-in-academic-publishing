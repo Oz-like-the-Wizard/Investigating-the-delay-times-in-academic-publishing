{
 "cells": [
  {
   "cell_type": "code",
   "execution_count": 1,
   "metadata": {},
   "outputs": [
    {
     "data": {
      "text/plain": [
       "Your email has been set."
      ]
     },
     "execution_count": 1,
     "metadata": {},
     "output_type": "execute_result"
    }
   ],
   "source": [
    "import pandas as pd\n",
    "\n",
    "from unpywall.utils import UnpywallCredentials\n",
    "from unpywall.cache import UnpywallCache\n",
    "from unpywall import Unpywall\n",
    "UnpywallCredentials('oguzkokes@gmail.com')"
   ]
  },
  {
   "cell_type": "code",
   "execution_count": 2,
   "metadata": {},
   "outputs": [],
   "source": [
    "# LOAD COMPLETE_ONE\n",
    "\n",
    "%store -r doi_complete_one\n",
    "%store -r retr_complete_one"
   ]
  },
  {
   "cell_type": "code",
   "execution_count": 2,
   "metadata": {},
   "outputs": [],
   "source": [
    "# DEPRICIATED: As CrossRef Loop 1 is complete we can use the cell above instead to load complete_one df\n",
    "%store -r doi_complete_so_far\n",
    "%store -r retr_34\n",
    "#%store -r artcl_df_10k\n",
    "#%store -r artcl_df_10k20k"
   ]
  },
  {
   "cell_type": "code",
   "execution_count": 4,
   "metadata": {},
   "outputs": [],
   "source": [
    "doi_10k = doi_complete_so_far[:10000]"
   ]
  },
  {
   "cell_type": "code",
   "execution_count": 5,
   "metadata": {},
   "outputs": [],
   "source": [
    "# FINISHED & SAVED\n",
    "\n",
    "artcl_df_10k = pd.DataFrame()\n",
    "\n",
    "for k in range(10):\n",
    "    start = k*1000\n",
    "    end = (k+1)*1000 \n",
    "    doi_slice = doi_10k[start:end]\n",
    "    unpy_export = Unpywall.doi(doi_slice, errors=\"ignore\")\n",
    "    artcl_df_10k = artcl_df_10k.append(unpy_export)"
   ]
  },
  {
   "cell_type": "code",
   "execution_count": 7,
   "metadata": {},
   "outputs": [
    {
     "name": "stdout",
     "output_type": "stream",
     "text": [
      "Stored 'artcl_df_10k' (DataFrame)\n"
     ]
    }
   ],
   "source": [
    "%store artcl_df_10k"
   ]
  },
  {
   "cell_type": "code",
   "execution_count": null,
   "metadata": {},
   "outputs": [],
   "source": [
    "doi_10k20k = doi_complete_so_far[10000:20000]"
   ]
  },
  {
   "cell_type": "code",
   "execution_count": 4,
   "metadata": {},
   "outputs": [],
   "source": [
    "# FINISHED & SAVED\n",
    "\n",
    "artcl_df_10k20k = pd.DataFrame()\n",
    "\n",
    "for k in range(10):\n",
    "    start = k*1000\n",
    "    end = (k+1)*1000 \n",
    "    doi_slice = doi_10k20k[start:end]\n",
    "    unpy_export = Unpywall.doi(doi_slice, errors=\"ignore\")\n",
    "    artcl_df_10k20k = artcl_df_10k20k.append(unpy_export)"
   ]
  },
  {
   "cell_type": "code",
   "execution_count": 5,
   "metadata": {},
   "outputs": [
    {
     "name": "stdout",
     "output_type": "stream",
     "text": [
      "Stored 'artcl_df_10k20k' (DataFrame)\n"
     ]
    }
   ],
   "source": [
    "%store artcl_df_10k20k"
   ]
  },
  {
   "cell_type": "code",
   "execution_count": 8,
   "metadata": {},
   "outputs": [],
   "source": [
    "doi_20k30k = doi_complete_so_far[20000:30000]"
   ]
  },
  {
   "cell_type": "code",
   "execution_count": 9,
   "metadata": {},
   "outputs": [
    {
     "name": "stderr",
     "output_type": "stream",
     "text": [
      "C:\\Users\\oguzk\\anaconda3\\lib\\site-packages\\unpywall\\cache.py:203: UserWarning: Could not download doi: 10.1080/13597566.2017.1350651\n",
      "  warnings.warn('Could not download doi: {}'.format(doi))\n",
      "C:\\Users\\oguzk\\anaconda3\\lib\\site-packages\\unpywall\\cache.py:203: UserWarning: Could not download doi: 10.1080/13597566.2018.1478293\n",
      "  warnings.warn('Could not download doi: {}'.format(doi))\n",
      "C:\\Users\\oguzk\\anaconda3\\lib\\site-packages\\unpywall\\cache.py:203: UserWarning: Could not download doi: 10.1080/13597566.2019.1689492\n",
      "  warnings.warn('Could not download doi: {}'.format(doi))\n",
      "C:\\Users\\oguzk\\anaconda3\\lib\\site-packages\\unpywall\\cache.py:203: UserWarning: Could not download doi: 10.1080/13597566.2020.1840364\n",
      "  warnings.warn('Could not download doi: {}'.format(doi))\n",
      "C:\\Users\\oguzk\\anaconda3\\lib\\site-packages\\unpywall\\cache.py:203: UserWarning: Could not download doi: 10.1080/13598139.2012.679109\n",
      "  warnings.warn('Could not download doi: {}'.format(doi))\n",
      "C:\\Users\\oguzk\\anaconda3\\lib\\site-packages\\unpywall\\cache.py:203: UserWarning: Could not download doi: 10.1016/j.compositesa.2009.07.007\n",
      "  warnings.warn('Could not download doi: {}'.format(doi))\n",
      "C:\\Users\\oguzk\\anaconda3\\lib\\site-packages\\unpywall\\cache.py:203: UserWarning: Could not download doi: 10.1016/j.compositesa.2011.04.019\n",
      "  warnings.warn('Could not download doi: {}'.format(doi))\n",
      "C:\\Users\\oguzk\\anaconda3\\lib\\site-packages\\unpywall\\cache.py:203: UserWarning: Could not download doi: 10.1016/j.compositesa.2012.07.007\n",
      "  warnings.warn('Could not download doi: {}'.format(doi))\n",
      "C:\\Users\\oguzk\\anaconda3\\lib\\site-packages\\unpywall\\cache.py:203: UserWarning: Could not download doi: 10.1016/j.compositesa.2012.10.005\n",
      "  warnings.warn('Could not download doi: {}'.format(doi))\n",
      "C:\\Users\\oguzk\\anaconda3\\lib\\site-packages\\unpywall\\cache.py:203: UserWarning: Could not download doi: 10.1016/j.compositesa.2013.10.021\n",
      "  warnings.warn('Could not download doi: {}'.format(doi))\n"
     ]
    }
   ],
   "source": [
    "# FINISHED & SAVED\n",
    "\n",
    "artcl_df_20k30k = pd.DataFrame()\n",
    "\n",
    "for k in range(10):\n",
    "    start = k*1000\n",
    "    end = (k+1)*1000 \n",
    "    doi_slice = doi_20k30k[start:end]\n",
    "    unpy_export = Unpywall.doi(doi_slice, errors=\"ignore\")\n",
    "    artcl_df_20k30k = artcl_df_20k30k.append(unpy_export)"
   ]
  },
  {
   "cell_type": "code",
   "execution_count": 11,
   "metadata": {},
   "outputs": [
    {
     "name": "stdout",
     "output_type": "stream",
     "text": [
      "Stored 'artcl_df_20k30k' (DataFrame)\n"
     ]
    }
   ],
   "source": [
    "%store artcl_df_20k30k"
   ]
  },
  {
   "cell_type": "code",
   "execution_count": 16,
   "metadata": {},
   "outputs": [],
   "source": [
    "doi_30k40k = doi_complete_one[30000:40000]"
   ]
  },
  {
   "cell_type": "code",
   "execution_count": 17,
   "metadata": {},
   "outputs": [
    {
     "name": "stderr",
     "output_type": "stream",
     "text": [
      "C:\\Users\\oguzk\\anaconda3\\lib\\site-packages\\unpywall\\cache.py:203: UserWarning: Could not download doi: 10.2140/agt.2019.19.3601\n",
      "  warnings.warn('Could not download doi: {}'.format(doi))\n"
     ]
    }
   ],
   "source": [
    "# FINISHED & SAVED\n",
    "\n",
    "artcl_df_30k40k = pd.DataFrame()\n",
    "\n",
    "for k in range(10):\n",
    "    start = k*1000\n",
    "    end = (k+1)*1000 \n",
    "    doi_slice = doi_30k40k[start:end]\n",
    "    unpy_export = Unpywall.doi(doi_slice, errors=\"ignore\")\n",
    "    artcl_df_30k40k = artcl_df_30k40k.append(unpy_export)"
   ]
  },
  {
   "cell_type": "code",
   "execution_count": 18,
   "metadata": {},
   "outputs": [
    {
     "name": "stdout",
     "output_type": "stream",
     "text": [
      "Stored 'artcl_df_30k40k' (DataFrame)\n"
     ]
    }
   ],
   "source": [
    "%store artcl_df_30k40k"
   ]
  },
  {
   "cell_type": "code",
   "execution_count": 3,
   "metadata": {},
   "outputs": [],
   "source": [
    "doi_40k50k = doi_complete_one[40000:50000]"
   ]
  },
  {
   "cell_type": "code",
   "execution_count": 5,
   "metadata": {},
   "outputs": [
    {
     "name": "stderr",
     "output_type": "stream",
     "text": [
      "C:\\Users\\oguzk\\anaconda3\\lib\\site-packages\\unpywall\\cache.py:203: UserWarning: Could not download doi: 10.1080/1047840x.2020.1721233\n",
      "  warnings.warn('Could not download doi: {}'.format(doi))\n",
      "C:\\Users\\oguzk\\anaconda3\\lib\\site-packages\\unpywall\\cache.py:203: UserWarning: Could not download doi: 10.1080/10888430903117500\n",
      "  warnings.warn('Could not download doi: {}'.format(doi))\n",
      "C:\\Users\\oguzk\\anaconda3\\lib\\site-packages\\unpywall\\cache.py:203: UserWarning: Could not download doi: 10.1080/10888431003636787\n",
      "  warnings.warn('Could not download doi: {}'.format(doi))\n",
      "C:\\Users\\oguzk\\anaconda3\\lib\\site-packages\\unpywall\\cache.py:203: UserWarning: Could not download doi: 10.1353/jhe.2014.0012\n",
      "  warnings.warn('Could not download doi: {}'.format(doi))\n",
      "C:\\Users\\oguzk\\anaconda3\\lib\\site-packages\\unpywall\\cache.py:203: UserWarning: Could not download doi: 10.1353/jhe.2015.0012\n",
      "  warnings.warn('Could not download doi: {}'.format(doi))\n",
      "C:\\Users\\oguzk\\anaconda3\\lib\\site-packages\\unpywall\\cache.py:203: UserWarning: Could not download doi: 10.1080/00221546.2016.1243945\n",
      "  warnings.warn('Could not download doi: {}'.format(doi))\n",
      "C:\\Users\\oguzk\\anaconda3\\lib\\site-packages\\unpywall\\cache.py:203: UserWarning: Could not download doi: 10.1080/00221546.2017.1368817\n",
      "  warnings.warn('Could not download doi: {}'.format(doi))\n",
      "C:\\Users\\oguzk\\anaconda3\\lib\\site-packages\\unpywall\\cache.py:203: UserWarning: Could not download doi: 10.1080/00221546.2018.1525986\n",
      "  warnings.warn('Could not download doi: {}'.format(doi))\n",
      "C:\\Users\\oguzk\\anaconda3\\lib\\site-packages\\unpywall\\cache.py:203: UserWarning: Could not download doi: 10.2202/1544-6115.1729\n",
      "  warnings.warn('Could not download doi: {}'.format(doi))\n",
      "C:\\Users\\oguzk\\anaconda3\\lib\\site-packages\\unpywall\\cache.py:203: UserWarning: Could not download doi: 10.2202/1544-6115.1710\n",
      "  warnings.warn('Could not download doi: {}'.format(doi))\n",
      "C:\\Users\\oguzk\\anaconda3\\lib\\site-packages\\unpywall\\cache.py:203: UserWarning: Could not download doi: 10.1515/sagmb-2014-0025\n",
      "  warnings.warn('Could not download doi: {}'.format(doi))\n",
      "C:\\Users\\oguzk\\anaconda3\\lib\\site-packages\\unpywall\\cache.py:203: UserWarning: Could not download doi: 10.12788/j.suponc.0002\n",
      "  warnings.warn('Could not download doi: {}'.format(doi))\n",
      "C:\\Users\\oguzk\\anaconda3\\lib\\site-packages\\unpywall\\cache.py:203: UserWarning: Could not download doi: 10.1002/psp.563\n",
      "  warnings.warn('Could not download doi: {}'.format(doi))\n",
      "C:\\Users\\oguzk\\anaconda3\\lib\\site-packages\\unpywall\\cache.py:203: UserWarning: Could not download doi: 10.1002/psp.675\n",
      "  warnings.warn('Could not download doi: {}'.format(doi))\n",
      "C:\\Users\\oguzk\\anaconda3\\lib\\site-packages\\unpywall\\cache.py:203: UserWarning: Could not download doi: 10.3354/cr00896\n",
      "  warnings.warn('Could not download doi: {}'.format(doi))\n"
     ]
    }
   ],
   "source": [
    "# FINISHED & SAVED\n",
    "\n",
    "artcl_df_40k50k = pd.DataFrame()\n",
    "\n",
    "for k in range(10):\n",
    "    start = k*1000\n",
    "    end = (k+1)*1000 \n",
    "    doi_slice = doi_40k50k[start:end]\n",
    "    unpy_export = Unpywall.doi(doi_slice, errors=\"ignore\")\n",
    "    artcl_df_40k50k = artcl_df_40k50k.append(unpy_export)"
   ]
  },
  {
   "cell_type": "code",
   "execution_count": 6,
   "metadata": {},
   "outputs": [
    {
     "name": "stdout",
     "output_type": "stream",
     "text": [
      "Stored 'artcl_df_40k50k' (DataFrame)\n"
     ]
    }
   ],
   "source": [
    "%store artcl_df_40k50k"
   ]
  },
  {
   "cell_type": "code",
   "execution_count": 5,
   "metadata": {},
   "outputs": [],
   "source": [
    "doi_50k60k = doi_complete_one[50000:60000]"
   ]
  },
  {
   "cell_type": "code",
   "execution_count": 7,
   "metadata": {},
   "outputs": [
    {
     "name": "stderr",
     "output_type": "stream",
     "text": [
      "C:\\Users\\oguzk\\anaconda3\\lib\\site-packages\\unpywall\\cache.py:203: UserWarning: Could not download doi: 10.1055/s-0037-1608947\n",
      "  warnings.warn('Could not download doi: {}'.format(doi))\n",
      "C:\\Users\\oguzk\\anaconda3\\lib\\site-packages\\unpywall\\cache.py:203: UserWarning: Could not download doi: 10.1055/s-0038-1635113\n",
      "  warnings.warn('Could not download doi: {}'.format(doi))\n",
      "C:\\Users\\oguzk\\anaconda3\\lib\\site-packages\\unpywall\\cache.py:203: UserWarning: Could not download doi: 10.1055/s-0039-1677816\n",
      "  warnings.warn('Could not download doi: {}'.format(doi))\n",
      "C:\\Users\\oguzk\\anaconda3\\lib\\site-packages\\unpywall\\cache.py:203: UserWarning: Could not download doi: 10.1055/s-0040-1716503\n",
      "  warnings.warn('Could not download doi: {}'.format(doi))\n",
      "C:\\Users\\oguzk\\anaconda3\\lib\\site-packages\\unpywall\\cache.py:203: UserWarning: Could not download doi: 10.1177/1065912910376386\n",
      "  warnings.warn('Could not download doi: {}'.format(doi))\n",
      "C:\\Users\\oguzk\\anaconda3\\lib\\site-packages\\unpywall\\cache.py:203: UserWarning: Could not download doi: 10.1177/1065912911427448\n",
      "  warnings.warn('Could not download doi: {}'.format(doi))\n",
      "C:\\Users\\oguzk\\anaconda3\\lib\\site-packages\\unpywall\\cache.py:203: UserWarning: Could not download doi: 10.1177/1065912912448931\n",
      "  warnings.warn('Could not download doi: {}'.format(doi))\n",
      "C:\\Users\\oguzk\\anaconda3\\lib\\site-packages\\unpywall\\cache.py:203: UserWarning: Could not download doi: 10.1177/1065912913510065\n",
      "  warnings.warn('Could not download doi: {}'.format(doi))\n",
      "C:\\Users\\oguzk\\anaconda3\\lib\\site-packages\\unpywall\\cache.py:203: UserWarning: Could not download doi: 10.1177/1065912914563548\n",
      "  warnings.warn('Could not download doi: {}'.format(doi))\n",
      "C:\\Users\\oguzk\\anaconda3\\lib\\site-packages\\unpywall\\cache.py:203: UserWarning: Could not download doi: 10.1177/1065912915577208\n",
      "  warnings.warn('Could not download doi: {}'.format(doi))\n",
      "C:\\Users\\oguzk\\anaconda3\\lib\\site-packages\\unpywall\\cache.py:203: UserWarning: Could not download doi: 10.1177/1065912916658128\n",
      "  warnings.warn('Could not download doi: {}'.format(doi))\n",
      "C:\\Users\\oguzk\\anaconda3\\lib\\site-packages\\unpywall\\cache.py:203: UserWarning: Could not download doi: 10.1177/1065912917704518\n",
      "  warnings.warn('Could not download doi: {}'.format(doi))\n",
      "C:\\Users\\oguzk\\anaconda3\\lib\\site-packages\\unpywall\\cache.py:203: UserWarning: Could not download doi: 10.1177/1065912918755972\n",
      "  warnings.warn('Could not download doi: {}'.format(doi))\n",
      "C:\\Users\\oguzk\\anaconda3\\lib\\site-packages\\unpywall\\cache.py:203: UserWarning: Could not download doi: 10.1177/1065912919853377\n",
      "  warnings.warn('Could not download doi: {}'.format(doi))\n",
      "C:\\Users\\oguzk\\anaconda3\\lib\\site-packages\\unpywall\\cache.py:203: UserWarning: Could not download doi: 10.1177/1065912920976910\n",
      "  warnings.warn('Could not download doi: {}'.format(doi))\n",
      "C:\\Users\\oguzk\\anaconda3\\lib\\site-packages\\unpywall\\cache.py:203: UserWarning: Could not download doi: 10.3945/ajcn.2009.29002\n",
      "  warnings.warn('Could not download doi: {}'.format(doi))\n",
      "C:\\Users\\oguzk\\anaconda3\\lib\\site-packages\\unpywall\\cache.py:203: UserWarning: Could not download doi: 10.3945/ajcn.110.005074\n",
      "  warnings.warn('Could not download doi: {}'.format(doi))\n",
      "C:\\Users\\oguzk\\anaconda3\\lib\\site-packages\\unpywall\\cache.py:203: UserWarning: Could not download doi: 10.3945/ajcn.112.037432\n",
      "  warnings.warn('Could not download doi: {}'.format(doi))\n",
      "C:\\Users\\oguzk\\anaconda3\\lib\\site-packages\\unpywall\\cache.py:203: UserWarning: Could not download doi: 10.3945/ajcn.112.042689\n",
      "  warnings.warn('Could not download doi: {}'.format(doi))\n",
      "C:\\Users\\oguzk\\anaconda3\\lib\\site-packages\\unpywall\\cache.py:203: UserWarning: Could not download doi: 10.1093/ajcn/nqx014\n",
      "  warnings.warn('Could not download doi: {}'.format(doi))\n",
      "C:\\Users\\oguzk\\anaconda3\\lib\\site-packages\\unpywall\\cache.py:203: UserWarning: Could not download doi: 10.1093/ajcn/nqz111\n",
      "  warnings.warn('Could not download doi: {}'.format(doi))\n",
      "C:\\Users\\oguzk\\anaconda3\\lib\\site-packages\\unpywall\\cache.py:203: UserWarning: Could not download doi: 10.1093/ajcn/nqaa318\n",
      "  warnings.warn('Could not download doi: {}'.format(doi))\n",
      "C:\\Users\\oguzk\\anaconda3\\lib\\site-packages\\unpywall\\cache.py:203: UserWarning: Could not download doi: 10.1177/0096340214523253\n",
      "  warnings.warn('Could not download doi: {}'.format(doi))\n"
     ]
    }
   ],
   "source": [
    "# FINISHED & SAVED\n",
    "\n",
    "artcl_df_50k60k = pd.DataFrame()\n",
    "\n",
    "for k in range(10):\n",
    "    start = k*1000\n",
    "    end = (k+1)*1000 \n",
    "    doi_slice = doi_50k60k[start:end]\n",
    "    unpy_export = Unpywall.doi(doi_slice, errors=\"ignore\")\n",
    "    artcl_df_50k60k = artcl_df_50k60k.append(unpy_export)"
   ]
  },
  {
   "cell_type": "code",
   "execution_count": 8,
   "metadata": {},
   "outputs": [
    {
     "name": "stdout",
     "output_type": "stream",
     "text": [
      "Stored 'artcl_df_50k60k' (DataFrame)\n"
     ]
    }
   ],
   "source": [
    "%store artcl_df_50k60k"
   ]
  },
  {
   "cell_type": "code",
   "execution_count": 6,
   "metadata": {},
   "outputs": [],
   "source": [
    "doi_60k = doi_complete_one[60000:]"
   ]
  },
  {
   "cell_type": "code",
   "execution_count": 7,
   "metadata": {},
   "outputs": [],
   "source": [
    "# NEED TO RUN\n",
    "\n",
    "artcl_df_60k = pd.DataFrame()\n",
    "\n",
    "for k in range(5):\n",
    "    start = k*1000\n",
    "    end = (k+1)*1000 \n",
    "    if k == 4:\n",
    "        doi_slice = doi_60k[start:]\n",
    "    else:\n",
    "        doi_slice = doi_60k[start:end]\n",
    "    unpy_export = Unpywall.doi(doi_slice, errors=\"ignore\")\n",
    "    artcl_df_60k = artcl_df_60k.append(unpy_export)"
   ]
  },
  {
   "cell_type": "code",
   "execution_count": 8,
   "metadata": {},
   "outputs": [
    {
     "name": "stdout",
     "output_type": "stream",
     "text": [
      "Stored 'artcl_df_60k' (DataFrame)\n"
     ]
    }
   ],
   "source": [
    "%store artcl_df_60k"
   ]
  },
  {
   "cell_type": "markdown",
   "metadata": {},
   "source": [
    "### CREATING artcl_df"
   ]
  },
  {
   "cell_type": "code",
   "execution_count": 10,
   "metadata": {},
   "outputs": [],
   "source": [
    "%store -r artcl_df_10k\n",
    "%store -r artcl_df_10k20k\n",
    "%store -r artcl_df_20k30k\n",
    "%store -r artcl_df_30k40k\n",
    "%store -r artcl_df_40k50k\n",
    "%store -r artcl_df_50k60k\n",
    "%store -r artcl_df_60k"
   ]
  },
  {
   "cell_type": "code",
   "execution_count": 11,
   "metadata": {},
   "outputs": [],
   "source": [
    "artcl_df = artcl_df_10k.append([artcl_df_10k20k, artcl_df_20k30k, artcl_df_30k40k, artcl_df_40k50k, artcl_df_50k60k, artcl_df_60k])"
   ]
  },
  {
   "cell_type": "code",
   "execution_count": 13,
   "metadata": {},
   "outputs": [
    {
     "name": "stdout",
     "output_type": "stream",
     "text": [
      "Stored 'artcl_df' (DataFrame)\n"
     ]
    }
   ],
   "source": [
    "%store artcl_df"
   ]
  },
  {
   "cell_type": "code",
   "execution_count": 14,
   "metadata": {},
   "outputs": [
    {
     "data": {
      "text/html": [
       "<div>\n",
       "<style scoped>\n",
       "    .dataframe tbody tr th:only-of-type {\n",
       "        vertical-align: middle;\n",
       "    }\n",
       "\n",
       "    .dataframe tbody tr th {\n",
       "        vertical-align: top;\n",
       "    }\n",
       "\n",
       "    .dataframe thead th {\n",
       "        text-align: right;\n",
       "    }\n",
       "</style>\n",
       "<table border=\"1\" class=\"dataframe\">\n",
       "  <thead>\n",
       "    <tr style=\"text-align: right;\">\n",
       "      <th></th>\n",
       "      <th>doi</th>\n",
       "      <th>doi_url</th>\n",
       "      <th>title</th>\n",
       "      <th>genre</th>\n",
       "      <th>is_paratext</th>\n",
       "      <th>published_date</th>\n",
       "      <th>year</th>\n",
       "      <th>journal_name</th>\n",
       "      <th>journal_issns</th>\n",
       "      <th>journal_issn_l</th>\n",
       "      <th>...</th>\n",
       "      <th>first_oa_location.url_for_landing_page</th>\n",
       "      <th>first_oa_location.evidence</th>\n",
       "      <th>first_oa_location.license</th>\n",
       "      <th>first_oa_location.version</th>\n",
       "      <th>first_oa_location.host_type</th>\n",
       "      <th>first_oa_location.is_best</th>\n",
       "      <th>first_oa_location.pmh_id</th>\n",
       "      <th>first_oa_location.endpoint_id</th>\n",
       "      <th>first_oa_location.repository_institution</th>\n",
       "      <th>first_oa_location.oa_date</th>\n",
       "    </tr>\n",
       "  </thead>\n",
       "  <tbody>\n",
       "    <tr>\n",
       "      <th>0</th>\n",
       "      <td>10.1002/aic.12400</td>\n",
       "      <td>https://doi.org/10.1002/aic.12400</td>\n",
       "      <td>Fabrication of an anionic polythiophene/layere...</td>\n",
       "      <td>journal-article</td>\n",
       "      <td>False</td>\n",
       "      <td>2010-09-17</td>\n",
       "      <td>2010</td>\n",
       "      <td>AIChE Journal</td>\n",
       "      <td>0001-1541</td>\n",
       "      <td>0001-1541</td>\n",
       "      <td>...</td>\n",
       "      <td>NaN</td>\n",
       "      <td>NaN</td>\n",
       "      <td>NaN</td>\n",
       "      <td>NaN</td>\n",
       "      <td>NaN</td>\n",
       "      <td>NaN</td>\n",
       "      <td>NaN</td>\n",
       "      <td>NaN</td>\n",
       "      <td>NaN</td>\n",
       "      <td>NaN</td>\n",
       "    </tr>\n",
       "    <tr>\n",
       "      <th>1</th>\n",
       "      <td>10.1002/aic.12671</td>\n",
       "      <td>https://doi.org/10.1002/aic.12671</td>\n",
       "      <td>Gas phase reaction kinetics in boron fibre pro...</td>\n",
       "      <td>journal-article</td>\n",
       "      <td>False</td>\n",
       "      <td>2011-06-01</td>\n",
       "      <td>2011</td>\n",
       "      <td>AIChE Journal</td>\n",
       "      <td>0001-1541</td>\n",
       "      <td>0001-1541</td>\n",
       "      <td>...</td>\n",
       "      <td>NaN</td>\n",
       "      <td>NaN</td>\n",
       "      <td>NaN</td>\n",
       "      <td>NaN</td>\n",
       "      <td>NaN</td>\n",
       "      <td>NaN</td>\n",
       "      <td>NaN</td>\n",
       "      <td>NaN</td>\n",
       "      <td>NaN</td>\n",
       "      <td>NaN</td>\n",
       "    </tr>\n",
       "    <tr>\n",
       "      <th>2</th>\n",
       "      <td>10.1002/aic.13810</td>\n",
       "      <td>https://doi.org/10.1002/aic.13810</td>\n",
       "      <td>Rapid assembly of polyelectrolyte multilayer m...</td>\n",
       "      <td>journal-article</td>\n",
       "      <td>False</td>\n",
       "      <td>2012-04-23</td>\n",
       "      <td>2012</td>\n",
       "      <td>AIChE Journal</td>\n",
       "      <td>0001-1541</td>\n",
       "      <td>0001-1541</td>\n",
       "      <td>...</td>\n",
       "      <td>NaN</td>\n",
       "      <td>NaN</td>\n",
       "      <td>NaN</td>\n",
       "      <td>NaN</td>\n",
       "      <td>NaN</td>\n",
       "      <td>NaN</td>\n",
       "      <td>NaN</td>\n",
       "      <td>NaN</td>\n",
       "      <td>NaN</td>\n",
       "      <td>NaN</td>\n",
       "    </tr>\n",
       "    <tr>\n",
       "      <th>3</th>\n",
       "      <td>10.1002/aic.14056</td>\n",
       "      <td>https://doi.org/10.1002/aic.14056</td>\n",
       "      <td>A computer-aided methodology to design safe fo...</td>\n",
       "      <td>journal-article</td>\n",
       "      <td>False</td>\n",
       "      <td>2013-03-06</td>\n",
       "      <td>2013</td>\n",
       "      <td>AIChE Journal</td>\n",
       "      <td>0001-1541</td>\n",
       "      <td>0001-1541</td>\n",
       "      <td>...</td>\n",
       "      <td>NaN</td>\n",
       "      <td>NaN</td>\n",
       "      <td>NaN</td>\n",
       "      <td>NaN</td>\n",
       "      <td>NaN</td>\n",
       "      <td>NaN</td>\n",
       "      <td>NaN</td>\n",
       "      <td>NaN</td>\n",
       "      <td>NaN</td>\n",
       "      <td>NaN</td>\n",
       "    </tr>\n",
       "    <tr>\n",
       "      <th>4</th>\n",
       "      <td>10.1002/aic.14601</td>\n",
       "      <td>https://doi.org/10.1002/aic.14601</td>\n",
       "      <td>Cake properties of nanocolloid evaluated by va...</td>\n",
       "      <td>journal-article</td>\n",
       "      <td>False</td>\n",
       "      <td>2014-09-16</td>\n",
       "      <td>2014</td>\n",
       "      <td>AIChE Journal</td>\n",
       "      <td>0001-1541</td>\n",
       "      <td>0001-1541</td>\n",
       "      <td>...</td>\n",
       "      <td>NaN</td>\n",
       "      <td>NaN</td>\n",
       "      <td>NaN</td>\n",
       "      <td>NaN</td>\n",
       "      <td>NaN</td>\n",
       "      <td>NaN</td>\n",
       "      <td>NaN</td>\n",
       "      <td>NaN</td>\n",
       "      <td>NaN</td>\n",
       "      <td>NaN</td>\n",
       "    </tr>\n",
       "  </tbody>\n",
       "</table>\n",
       "<p>5 rows × 49 columns</p>\n",
       "</div>"
      ],
      "text/plain": [
       "                 doi                            doi_url  \\\n",
       "0  10.1002/aic.12400  https://doi.org/10.1002/aic.12400   \n",
       "1  10.1002/aic.12671  https://doi.org/10.1002/aic.12671   \n",
       "2  10.1002/aic.13810  https://doi.org/10.1002/aic.13810   \n",
       "3  10.1002/aic.14056  https://doi.org/10.1002/aic.14056   \n",
       "4  10.1002/aic.14601  https://doi.org/10.1002/aic.14601   \n",
       "\n",
       "                                               title            genre  \\\n",
       "0  Fabrication of an anionic polythiophene/layere...  journal-article   \n",
       "1  Gas phase reaction kinetics in boron fibre pro...  journal-article   \n",
       "2  Rapid assembly of polyelectrolyte multilayer m...  journal-article   \n",
       "3  A computer-aided methodology to design safe fo...  journal-article   \n",
       "4  Cake properties of nanocolloid evaluated by va...  journal-article   \n",
       "\n",
       "   is_paratext published_date  year   journal_name journal_issns  \\\n",
       "0        False     2010-09-17  2010  AIChE Journal     0001-1541   \n",
       "1        False     2011-06-01  2011  AIChE Journal     0001-1541   \n",
       "2        False     2012-04-23  2012  AIChE Journal     0001-1541   \n",
       "3        False     2013-03-06  2013  AIChE Journal     0001-1541   \n",
       "4        False     2014-09-16  2014  AIChE Journal     0001-1541   \n",
       "\n",
       "  journal_issn_l  ...  first_oa_location.url_for_landing_page  \\\n",
       "0      0001-1541  ...                                     NaN   \n",
       "1      0001-1541  ...                                     NaN   \n",
       "2      0001-1541  ...                                     NaN   \n",
       "3      0001-1541  ...                                     NaN   \n",
       "4      0001-1541  ...                                     NaN   \n",
       "\n",
       "   first_oa_location.evidence first_oa_location.license  \\\n",
       "0                         NaN                       NaN   \n",
       "1                         NaN                       NaN   \n",
       "2                         NaN                       NaN   \n",
       "3                         NaN                       NaN   \n",
       "4                         NaN                       NaN   \n",
       "\n",
       "   first_oa_location.version first_oa_location.host_type  \\\n",
       "0                        NaN                         NaN   \n",
       "1                        NaN                         NaN   \n",
       "2                        NaN                         NaN   \n",
       "3                        NaN                         NaN   \n",
       "4                        NaN                         NaN   \n",
       "\n",
       "   first_oa_location.is_best first_oa_location.pmh_id  \\\n",
       "0                        NaN                      NaN   \n",
       "1                        NaN                      NaN   \n",
       "2                        NaN                      NaN   \n",
       "3                        NaN                      NaN   \n",
       "4                        NaN                      NaN   \n",
       "\n",
       "  first_oa_location.endpoint_id first_oa_location.repository_institution  \\\n",
       "0                           NaN                                      NaN   \n",
       "1                           NaN                                      NaN   \n",
       "2                           NaN                                      NaN   \n",
       "3                           NaN                                      NaN   \n",
       "4                           NaN                                      NaN   \n",
       "\n",
       "  first_oa_location.oa_date  \n",
       "0                       NaN  \n",
       "1                       NaN  \n",
       "2                       NaN  \n",
       "3                       NaN  \n",
       "4                       NaN  \n",
       "\n",
       "[5 rows x 49 columns]"
      ]
     },
     "execution_count": 14,
     "metadata": {},
     "output_type": "execute_result"
    }
   ],
   "source": [
    "artcl_df.head()"
   ]
  }
 ],
 "metadata": {
  "interpreter": {
   "hash": "92ba50c92c9dc11b366869717e90d544d23b7140e20708921d0ff91f276d2e3f"
  },
  "kernelspec": {
   "display_name": "Python 3.8.10 64-bit ('base': conda)",
   "language": "python",
   "name": "python3"
  },
  "language_info": {
   "codemirror_mode": {
    "name": "ipython",
    "version": 3
   },
   "file_extension": ".py",
   "mimetype": "text/x-python",
   "name": "python",
   "nbconvert_exporter": "python",
   "pygments_lexer": "ipython3",
   "version": "3.8.10"
  },
  "orig_nbformat": 4
 },
 "nbformat": 4,
 "nbformat_minor": 2
}
