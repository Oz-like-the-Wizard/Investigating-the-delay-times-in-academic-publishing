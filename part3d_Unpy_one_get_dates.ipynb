{
 "cells": [
  {
   "cell_type": "code",
   "execution_count": 1,
   "metadata": {},
   "outputs": [],
   "source": [
    "import requests\n",
    "import io\n",
    "import pandas as pd\n",
    "import regex as re\n",
    "\n",
    "from bs4 import BeautifulSoup\n",
    "from pdfminer.high_level import extract_text\n",
    "\n",
    "from unpy_get_dates import *\n",
    "from scihub_upgraded import SciHub\n",
    "\n",
    "from datetime import datetime\n"
   ]
  },
  {
   "cell_type": "code",
   "execution_count": 10,
   "metadata": {},
   "outputs": [],
   "source": [
    "import warnings\n",
    "warnings.filterwarnings(\"ignore\",\"PDFTextExtractionNotAllowedWarning\")\n"
   ]
  },
  {
   "cell_type": "code",
   "execution_count": 2,
   "metadata": {},
   "outputs": [],
   "source": [
    "%store -r artcl_df"
   ]
  },
  {
   "cell_type": "code",
   "execution_count": 3,
   "metadata": {},
   "outputs": [],
   "source": [
    "meta_df = artcl_df.copy()"
   ]
  },
  {
   "cell_type": "code",
   "execution_count": 4,
   "metadata": {},
   "outputs": [],
   "source": [
    "meta_df_keep = ['doi', 'doi_url', 'title', 'genre','published_date',\n",
    "       'year', 'journal_name', 'journal_issns', 'journal_issn_l',\n",
    "       'journal_is_oa', 'journal_is_in_doaj', 'publisher', 'is_oa','oa_status','oa_locations','updated','z_authors']\n",
    "\n",
    "meta_df_drop = ['is_paratext',  'has_repository_copy', 'best_oa_location',\n",
    "       'first_oa_location',  'oa_locations_embargoed',\n",
    "       'data_standard', 'best_oa_location.updated',\n",
    "       'best_oa_location.url', 'best_oa_location.url_for_pdf',\n",
    "       'best_oa_location.url_for_landing_page', 'best_oa_location.evidence',\n",
    "       'best_oa_location.license', 'best_oa_location.version',\n",
    "       'best_oa_location.host_type', 'best_oa_location.is_best',\n",
    "       'best_oa_location.pmh_id', 'best_oa_location.endpoint_id',\n",
    "       'best_oa_location.repository_institution', 'best_oa_location.oa_date',\n",
    "       'first_oa_location.updated', 'first_oa_location.url',\n",
    "       'first_oa_location.url_for_pdf',\n",
    "       'first_oa_location.url_for_landing_page', 'first_oa_location.evidence',\n",
    "       'first_oa_location.license', 'first_oa_location.version',\n",
    "       'first_oa_location.host_type', 'first_oa_location.is_best',\n",
    "       'first_oa_location.pmh_id', 'first_oa_location.endpoint_id',\n",
    "       'first_oa_location.repository_institution', 'first_oa_location.oa_date']\n",
    "\n",
    "meta_df.drop(meta_df_drop, axis=1, inplace=True)\n",
    "meta_df.reset_index(drop=True, inplace=True)"
   ]
  },
  {
   "cell_type": "code",
   "execution_count": 5,
   "metadata": {},
   "outputs": [
    {
     "name": "stdout",
     "output_type": "stream",
     "text": [
      "Unpy (direct) count: 17428\n",
      "Scihub count: 46691\n"
     ]
    }
   ],
   "source": [
    "meta_df[\"Unpy_filter\"] = meta_df[\"oa_locations\"].map(Unpy_filterer)\n",
    "\n",
    "print(f\"Unpy (direct) count: {(meta_df['Unpy_filter'].map(type) == list).sum()}\")\n",
    "print(f\"Scihub count: {(meta_df['Unpy_filter'].map(type) == str).sum()}\")"
   ]
  },
  {
   "cell_type": "code",
   "execution_count": 6,
   "metadata": {},
   "outputs": [],
   "source": [
    "# Splitting the datasets for easier manipulation\n",
    "\n",
    "Unpy_mask_v1 = meta_df[\"Unpy_filter\"].map(type) == list\n",
    "Unpy_df = meta_df[Unpy_mask_v1].copy()\n"
   ]
  },
  {
   "cell_type": "code",
   "execution_count": 7,
   "metadata": {},
   "outputs": [],
   "source": [
    "Scihub_mask_v1 = meta_df[\"Unpy_filter\"].map(type) == str\n",
    "Scihub_df = meta_df[Scihub_mask_v1].copy()"
   ]
  },
  {
   "cell_type": "code",
   "execution_count": 64,
   "metadata": {},
   "outputs": [
    {
     "name": "stdout",
     "output_type": "stream",
     "text": [
      "Stored 'Scihub_df' (DataFrame)\n"
     ]
    }
   ],
   "source": [
    "%store Scihub_df"
   ]
  },
  {
   "cell_type": "markdown",
   "metadata": {},
   "source": [
    "### Error & Bug Fixing"
   ]
  },
  {
   "cell_type": "code",
   "execution_count": 8,
   "metadata": {},
   "outputs": [
    {
     "name": "stdout",
     "output_type": "stream",
     "text": [
      "Starting loop 1, start time: 2022-01-04 20:05:00.734170\n",
      "1 loop ended, endtime: 2022-01-04 20:05:57.392691\n",
      "Starting loop 2, start time: 2022-01-04 20:05:57.402694\n",
      "2 loop ended, endtime: 2022-01-04 20:06:24.249701\n",
      "Starting loop 3, start time: 2022-01-04 20:06:24.250251\n",
      "3 loop ended, endtime: 2022-01-04 20:07:02.446943\n",
      "Starting loop 4, start time: 2022-01-04 20:07:02.456444\n",
      "4 loop ended, endtime: 2022-01-04 20:07:29.121433\n",
      "Starting loop 5, start time: 2022-01-04 20:07:29.126933\n",
      "5 loop ended, endtime: 2022-01-04 20:08:08.213183\n",
      "Starting loop 6, start time: 2022-01-04 20:08:08.219691\n",
      "6 loop ended, endtime: 2022-01-04 20:08:24.501779\n",
      "Starting loop 7, start time: 2022-01-04 20:08:24.506279\n",
      "7 loop ended, endtime: 2022-01-04 20:08:49.325006\n",
      "Starting loop 8, start time: 2022-01-04 20:08:49.325506\n",
      "8 loop ended, endtime: 2022-01-04 20:09:03.363224\n",
      "Starting loop 9, start time: 2022-01-04 20:09:03.363724\n",
      "9 loop ended, endtime: 2022-01-04 20:09:20.140726\n",
      "Starting loop 10, start time: 2022-01-04 20:09:20.147727\n",
      "10 loop ended, endtime: 2022-01-04 20:10:19.338728\n",
      "Starting loop 11, start time: 2022-01-04 20:10:19.348229\n",
      "11 loop ended, endtime: 2022-01-04 20:11:08.141828\n",
      "Starting loop 12, start time: 2022-01-04 20:11:08.150329\n",
      "12 loop ended, endtime: 2022-01-04 20:11:40.452496\n",
      "Starting loop 13, start time: 2022-01-04 20:11:40.459497\n",
      "13 loop ended, endtime: 2022-01-04 20:12:03.313492\n",
      "Starting loop 14, start time: 2022-01-04 20:12:03.313492\n",
      "14 loop ended, endtime: 2022-01-04 20:12:43.927241\n",
      "Starting loop 15, start time: 2022-01-04 20:12:43.934242\n",
      "15 loop ended, endtime: 2022-01-04 20:13:17.414840\n",
      "Starting loop 16, start time: 2022-01-04 20:13:17.424838\n",
      "16 loop ended, endtime: 2022-01-04 20:13:45.663232\n",
      "Starting loop 17, start time: 2022-01-04 20:13:45.668232\n",
      "17 loop ended, endtime: 2022-01-04 20:14:26.874313\n",
      "Starting loop 18, start time: 2022-01-04 20:14:26.880814\n",
      "18 loop ended, endtime: 2022-01-04 20:14:37.737472\n",
      "Starting loop 19, start time: 2022-01-04 20:14:37.739971\n",
      "19 loop ended, endtime: 2022-01-04 20:14:52.789452\n",
      "Starting loop 20, start time: 2022-01-04 20:14:52.797454\n",
      "20 loop ended, endtime: 2022-01-04 20:15:12.662221\n",
      "Starting loop 21, start time: 2022-01-04 20:15:12.671723\n",
      "21 loop ended, endtime: 2022-01-04 20:15:44.982554\n",
      "Starting loop 22, start time: 2022-01-04 20:15:44.986556\n",
      "22 loop ended, endtime: 2022-01-04 20:16:15.373484\n",
      "Starting loop 23, start time: 2022-01-04 20:16:15.380491\n",
      "23 loop ended, endtime: 2022-01-04 20:16:25.737935\n",
      "Starting loop 24, start time: 2022-01-04 20:16:25.737935\n",
      "24 loop ended, endtime: 2022-01-04 20:16:38.430726\n",
      "Starting loop 25, start time: 2022-01-04 20:16:38.435726\n",
      "25 loop ended, endtime: 2022-01-04 20:17:02.494912\n",
      "Starting loop 26, start time: 2022-01-04 20:17:02.502919\n",
      "26 loop ended, endtime: 2022-01-04 20:17:18.736325\n",
      "Starting loop 27, start time: 2022-01-04 20:17:18.744333\n",
      "27 loop ended, endtime: 2022-01-04 20:17:19.871614\n",
      "Starting loop 28, start time: 2022-01-04 20:17:19.873449\n",
      "28 loop ended, endtime: 2022-01-04 20:17:46.966260\n",
      "Starting loop 29, start time: 2022-01-04 20:17:46.973761\n",
      "29 loop ended, endtime: 2022-01-04 20:18:21.158920\n",
      "Starting loop 30, start time: 2022-01-04 20:18:21.168922\n",
      "30 loop ended, endtime: 2022-01-04 20:18:51.773901\n",
      "Starting loop 31, start time: 2022-01-04 20:18:51.783403\n",
      "31 loop ended, endtime: 2022-01-04 20:19:31.679266\n",
      "Starting loop 32, start time: 2022-01-04 20:19:31.688268\n",
      "32 loop ended, endtime: 2022-01-04 20:19:53.713258\n",
      "Starting loop 33, start time: 2022-01-04 20:19:53.722259\n",
      "33 loop ended, endtime: 2022-01-04 20:20:07.223663\n",
      "Starting loop 34, start time: 2022-01-04 20:20:07.231533\n",
      "34 loop ended, endtime: 2022-01-04 20:20:22.727332\n",
      "Starting loop 35, start time: 2022-01-04 20:20:22.731332\n",
      "35 loop ended, endtime: 2022-01-04 20:21:10.993117\n",
      "Starting loop 36, start time: 2022-01-04 20:21:11.003120\n",
      "36 loop ended, endtime: 2022-01-04 20:21:24.625255\n",
      "Starting loop 37, start time: 2022-01-04 20:21:24.632756\n",
      "37 loop ended, endtime: 2022-01-04 20:21:48.989930\n",
      "Starting loop 38, start time: 2022-01-04 20:21:48.996429\n",
      "38 loop ended, endtime: 2022-01-04 20:22:14.532277\n",
      "Starting loop 39, start time: 2022-01-04 20:22:14.532778\n",
      "39 loop ended, endtime: 2022-01-04 20:23:00.498110\n",
      "Starting loop 40, start time: 2022-01-04 20:23:00.506612\n",
      "40 loop ended, endtime: 2022-01-04 20:23:31.716648\n",
      "Starting loop 41, start time: 2022-01-04 20:23:31.716648\n",
      "41 loop ended, endtime: 2022-01-04 20:23:48.987598\n",
      "Starting loop 42, start time: 2022-01-04 20:23:48.996599\n",
      "42 loop ended, endtime: 2022-01-04 20:24:05.361425\n",
      "Starting loop 43, start time: 2022-01-04 20:24:05.366925\n",
      "43 loop ended, endtime: 2022-01-04 20:24:32.544770\n",
      "Starting loop 44, start time: 2022-01-04 20:24:32.552785\n",
      "44 loop ended, endtime: 2022-01-04 20:25:10.838899\n",
      "Starting loop 45, start time: 2022-01-04 20:25:10.847900\n",
      "45 loop ended, endtime: 2022-01-04 20:25:40.420054\n",
      "Starting loop 46, start time: 2022-01-04 20:25:40.423554\n",
      "46 loop ended, endtime: 2022-01-04 20:25:50.994638\n",
      "Starting loop 47, start time: 2022-01-04 20:25:51.000141\n",
      "47 loop ended, endtime: 2022-01-04 20:26:07.155886\n",
      "Starting loop 48, start time: 2022-01-04 20:26:07.162888\n",
      "48 loop ended, endtime: 2022-01-04 20:26:18.346240\n",
      "Starting loop 49, start time: 2022-01-04 20:26:18.351741\n"
     ]
    }
   ],
   "source": [
    "# 1000 TEST LOOP:\n",
    "# 10 artcls per loop -> 100 loops\n",
    "\n",
    "test_df = Unpy_df[12000:13000].copy()\n",
    "\n",
    "for k in range(100):\n",
    "    start = k*10\n",
    "    end = (k+1)*10 \n",
    "    doi_slice = test_df[start:end].index.tolist()\n",
    "    unpy_sess = requests.Session()\n",
    "    HEADERS = {'User-Agent': 'Mozilla/5.0 (X11; Linux x86_64) AppleWebKit/537.11 (KHTML, like Gecko) Chrome/23.0.1271.64 Safari/537.11'}\n",
    "    unpy_sess.headers = HEADERS\n",
    "    now = datetime.now()\n",
    "    print(f\"Starting loop {k+1}, start time: {now}\")\n",
    "    test_df.loc[doi_slice,\"Unpy_results\"] = test_df.loc[doi_slice,\"Unpy_filter\"].map(lambda x:Unpy_dates(x,unpy_sess))\n",
    "    now = datetime.now()\n",
    "    print(f\"{k+1} loop ended, endtime: {now}\")\n",
    "\n",
    "    "
   ]
  },
  {
   "cell_type": "code",
   "execution_count": 7,
   "metadata": {},
   "outputs": [],
   "source": [
    "# The second inf. loop error is on loop 49, so between 480-490 artcls of the testdf\n",
    "test_df = Unpy_df[12000:13000].copy()\n",
    "test_df = test_df[480:490]\n",
    "\n",
    "# index 52626 causes an infinite loop on PDF reading step. No error messages & nothing on the internet. Skipping for now, will deal with it later if necessary\n",
    "Unpy_df.loc[52626,\"Unpy_filter\"]"
   ]
  },
  {
   "cell_type": "code",
   "execution_count": 10,
   "metadata": {},
   "outputs": [],
   "source": [
    "# TESTING CELL!!!\n",
    "# Has all the possible formats for testing the Unpy_dates process:\n",
    "\n",
    "unpy_sess = requests.Session()\n",
    "HEADERS = {'User-Agent': 'Mozilla/5.0 (X11; Linux x86_64) AppleWebKit/537.11 (KHTML, like Gecko) Chrome/23.0.1271.64 Safari/537.11'}\n",
    "unpy_sess.headers = HEADERS\n",
    "\n",
    "# Option 1 : Create a test_df \n",
    "for ind in test_df.index.tolist():\n",
    "    print(f\"for {ind} starting process...\")\n",
    "    x = test_df.loc[ind,\"Unpy_filter\"]\n",
    "    Unpy_dates(x,unpy_sess)\n",
    "\n",
    "# Option 2: Manual execution of the function for a list of url(s)\n",
    "req_direct = unpy_sess.get(\"https://publications.rwth-aachen.de/record/195025/files/195025.pdf\", timeout=10)\n",
    "doi_file = io.BytesIO(req_direct.content)\n",
    "pdf_read = extract_text(doi_file).replace(\"\\n\", \"\")\n",
    "\n",
    "# Option 3: Run the Unpy_dates function automatically for a list of url(s)\n",
    "#Unpy_dates([\"https://bmcmedgenomics.biomedcentral.com/track/pdf/10.1186/1755-8794-4-73\"],unpy_sess)\n"
   ]
  },
  {
   "cell_type": "markdown",
   "metadata": {},
   "source": [
    "### Bug Fix Adjustments"
   ]
  },
  {
   "cell_type": "code",
   "execution_count": 9,
   "metadata": {},
   "outputs": [],
   "source": [
    "Unpy_df.drop(52626, inplace=True)"
   ]
  },
  {
   "cell_type": "markdown",
   "metadata": {},
   "source": [
    "### Full Loop of Unpy_df"
   ]
  },
  {
   "cell_type": "code",
   "execution_count": 11,
   "metadata": {},
   "outputs": [
    {
     "name": "stdout",
     "output_type": "stream",
     "text": [
      "Starting loop 1, start time: 2022-01-05 12:16:32.972630\n"
     ]
    },
    {
     "name": "stderr",
     "output_type": "stream",
     "text": [
      "C:\\Users\\oguzk\\anaconda3\\lib\\site-packages\\pdfminer\\pdfpage.py:159: PDFTextExtractionNotAllowedWarning: The PDF <_io.BytesIO object at 0x0000025215C9AE50> contains a metadata field indicating that it should not allow text extraction. Ignoring this field and proceeding.\n",
      "  warnings.warn(warning_msg, PDFTextExtractionNotAllowedWarning)\n",
      "C:\\Users\\oguzk\\anaconda3\\lib\\site-packages\\pdfminer\\pdfpage.py:159: PDFTextExtractionNotAllowedWarning: The PDF <_io.BytesIO object at 0x0000025215E2EDB0> contains a metadata field indicating that it should not allow text extraction. Ignoring this field and proceeding.\n",
      "  warnings.warn(warning_msg, PDFTextExtractionNotAllowedWarning)\n"
     ]
    },
    {
     "name": "stdout",
     "output_type": "stream",
     "text": [
      "1 loop ended, endtime: 2022-01-05 12:54:46.222898\n",
      "Starting loop 2, start time: 2022-01-05 12:54:46.234400\n"
     ]
    },
    {
     "name": "stderr",
     "output_type": "stream",
     "text": [
      "C:\\Users\\oguzk\\anaconda3\\lib\\site-packages\\pdfminer\\pdfpage.py:159: PDFTextExtractionNotAllowedWarning: The PDF <_io.BytesIO object at 0x0000025218C6EC20> contains a metadata field indicating that it should not allow text extraction. Ignoring this field and proceeding.\n",
      "  warnings.warn(warning_msg, PDFTextExtractionNotAllowedWarning)\n",
      "C:\\Users\\oguzk\\anaconda3\\lib\\site-packages\\pdfminer\\pdfpage.py:159: PDFTextExtractionNotAllowedWarning: The PDF <_io.BytesIO object at 0x0000025212947540> contains a metadata field indicating that it should not allow text extraction. Ignoring this field and proceeding.\n",
      "  warnings.warn(warning_msg, PDFTextExtractionNotAllowedWarning)\n",
      "C:\\Users\\oguzk\\anaconda3\\lib\\site-packages\\pdfminer\\pdfpage.py:159: PDFTextExtractionNotAllowedWarning: The PDF <_io.BytesIO object at 0x0000025217364270> contains a metadata field indicating that it should not allow text extraction. Ignoring this field and proceeding.\n",
      "  warnings.warn(warning_msg, PDFTextExtractionNotAllowedWarning)\n",
      "C:\\Users\\oguzk\\anaconda3\\lib\\site-packages\\pdfminer\\pdfpage.py:159: PDFTextExtractionNotAllowedWarning: The PDF <_io.BytesIO object at 0x0000025215A914A0> contains a metadata field indicating that it should not allow text extraction. Ignoring this field and proceeding.\n",
      "  warnings.warn(warning_msg, PDFTextExtractionNotAllowedWarning)\n",
      "C:\\Users\\oguzk\\anaconda3\\lib\\site-packages\\pdfminer\\pdfpage.py:159: PDFTextExtractionNotAllowedWarning: The PDF <_io.BytesIO object at 0x0000025218B2B180> contains a metadata field indicating that it should not allow text extraction. Ignoring this field and proceeding.\n",
      "  warnings.warn(warning_msg, PDFTextExtractionNotAllowedWarning)\n"
     ]
    },
    {
     "name": "stdout",
     "output_type": "stream",
     "text": [
      "2 loop ended, endtime: 2022-01-05 13:30:25.812128\n",
      "Starting loop 3, start time: 2022-01-05 13:30:25.822630\n"
     ]
    },
    {
     "name": "stderr",
     "output_type": "stream",
     "text": [
      "C:\\Users\\oguzk\\anaconda3\\lib\\site-packages\\pdfminer\\pdfpage.py:159: PDFTextExtractionNotAllowedWarning: The PDF <_io.BytesIO object at 0x0000025215CE25E0> contains a metadata field indicating that it should not allow text extraction. Ignoring this field and proceeding.\n",
      "  warnings.warn(warning_msg, PDFTextExtractionNotAllowedWarning)\n",
      "C:\\Users\\oguzk\\anaconda3\\lib\\site-packages\\pdfminer\\pdfpage.py:159: PDFTextExtractionNotAllowedWarning: The PDF <_io.BytesIO object at 0x0000025218B0FB30> contains a metadata field indicating that it should not allow text extraction. Ignoring this field and proceeding.\n",
      "  warnings.warn(warning_msg, PDFTextExtractionNotAllowedWarning)\n",
      "C:\\Users\\oguzk\\anaconda3\\lib\\site-packages\\pdfminer\\pdfpage.py:159: PDFTextExtractionNotAllowedWarning: The PDF <_io.BytesIO object at 0x0000025217387450> contains a metadata field indicating that it should not allow text extraction. Ignoring this field and proceeding.\n",
      "  warnings.warn(warning_msg, PDFTextExtractionNotAllowedWarning)\n",
      "C:\\Users\\oguzk\\anaconda3\\lib\\site-packages\\pdfminer\\pdfpage.py:159: PDFTextExtractionNotAllowedWarning: The PDF <_io.BytesIO object at 0x00000252173120E0> contains a metadata field indicating that it should not allow text extraction. Ignoring this field and proceeding.\n",
      "  warnings.warn(warning_msg, PDFTextExtractionNotAllowedWarning)\n",
      "C:\\Users\\oguzk\\anaconda3\\lib\\site-packages\\pdfminer\\pdfpage.py:159: PDFTextExtractionNotAllowedWarning: The PDF <_io.BytesIO object at 0x0000025217DBA2C0> contains a metadata field indicating that it should not allow text extraction. Ignoring this field and proceeding.\n",
      "  warnings.warn(warning_msg, PDFTextExtractionNotAllowedWarning)\n",
      "C:\\Users\\oguzk\\anaconda3\\lib\\site-packages\\pdfminer\\pdfpage.py:159: PDFTextExtractionNotAllowedWarning: The PDF <_io.BytesIO object at 0x0000025219060400> contains a metadata field indicating that it should not allow text extraction. Ignoring this field and proceeding.\n",
      "  warnings.warn(warning_msg, PDFTextExtractionNotAllowedWarning)\n"
     ]
    },
    {
     "name": "stdout",
     "output_type": "stream",
     "text": [
      "3 loop ended, endtime: 2022-01-05 14:18:39.550420\n",
      "Starting loop 4, start time: 2022-01-05 14:18:39.560420\n"
     ]
    },
    {
     "name": "stderr",
     "output_type": "stream",
     "text": [
      "C:\\Users\\oguzk\\anaconda3\\lib\\site-packages\\pdfminer\\pdfpage.py:159: PDFTextExtractionNotAllowedWarning: The PDF <_io.BytesIO object at 0x0000025216F57630> contains a metadata field indicating that it should not allow text extraction. Ignoring this field and proceeding.\n",
      "  warnings.warn(warning_msg, PDFTextExtractionNotAllowedWarning)\n",
      "C:\\Users\\oguzk\\anaconda3\\lib\\site-packages\\pdfminer\\pdfpage.py:159: PDFTextExtractionNotAllowedWarning: The PDF <_io.BytesIO object at 0x00000252184B4770> contains a metadata field indicating that it should not allow text extraction. Ignoring this field and proceeding.\n",
      "  warnings.warn(warning_msg, PDFTextExtractionNotAllowedWarning)\n",
      "C:\\Users\\oguzk\\anaconda3\\lib\\site-packages\\pdfminer\\pdfpage.py:159: PDFTextExtractionNotAllowedWarning: The PDF <_io.BytesIO object at 0x00000252184B4220> contains a metadata field indicating that it should not allow text extraction. Ignoring this field and proceeding.\n",
      "  warnings.warn(warning_msg, PDFTextExtractionNotAllowedWarning)\n",
      "C:\\Users\\oguzk\\anaconda3\\lib\\site-packages\\pdfminer\\pdfpage.py:159: PDFTextExtractionNotAllowedWarning: The PDF <_io.BytesIO object at 0x0000025217334450> contains a metadata field indicating that it should not allow text extraction. Ignoring this field and proceeding.\n",
      "  warnings.warn(warning_msg, PDFTextExtractionNotAllowedWarning)\n",
      "C:\\Users\\oguzk\\anaconda3\\lib\\site-packages\\pdfminer\\pdfpage.py:159: PDFTextExtractionNotAllowedWarning: The PDF <_io.BytesIO object at 0x00000252185CFD10> contains a metadata field indicating that it should not allow text extraction. Ignoring this field and proceeding.\n",
      "  warnings.warn(warning_msg, PDFTextExtractionNotAllowedWarning)\n",
      "C:\\Users\\oguzk\\anaconda3\\lib\\site-packages\\pdfminer\\pdfpage.py:159: PDFTextExtractionNotAllowedWarning: The PDF <_io.BytesIO object at 0x00000252189EE3B0> contains a metadata field indicating that it should not allow text extraction. Ignoring this field and proceeding.\n",
      "  warnings.warn(warning_msg, PDFTextExtractionNotAllowedWarning)\n",
      "C:\\Users\\oguzk\\anaconda3\\lib\\site-packages\\pdfminer\\pdfpage.py:159: PDFTextExtractionNotAllowedWarning: The PDF <_io.BytesIO object at 0x0000025217370F40> contains a metadata field indicating that it should not allow text extraction. Ignoring this field and proceeding.\n",
      "  warnings.warn(warning_msg, PDFTextExtractionNotAllowedWarning)\n",
      "C:\\Users\\oguzk\\anaconda3\\lib\\site-packages\\pdfminer\\pdfpage.py:159: PDFTextExtractionNotAllowedWarning: The PDF <_io.BytesIO object at 0x0000025216F24720> contains a metadata field indicating that it should not allow text extraction. Ignoring this field and proceeding.\n",
      "  warnings.warn(warning_msg, PDFTextExtractionNotAllowedWarning)\n",
      "C:\\Users\\oguzk\\anaconda3\\lib\\site-packages\\pdfminer\\pdfpage.py:159: PDFTextExtractionNotAllowedWarning: The PDF <_io.BytesIO object at 0x00000252171835E0> contains a metadata field indicating that it should not allow text extraction. Ignoring this field and proceeding.\n",
      "  warnings.warn(warning_msg, PDFTextExtractionNotAllowedWarning)\n",
      "C:\\Users\\oguzk\\anaconda3\\lib\\site-packages\\pdfminer\\pdfpage.py:159: PDFTextExtractionNotAllowedWarning: The PDF <_io.BytesIO object at 0x00000252188BC590> contains a metadata field indicating that it should not allow text extraction. Ignoring this field and proceeding.\n",
      "  warnings.warn(warning_msg, PDFTextExtractionNotAllowedWarning)\n",
      "C:\\Users\\oguzk\\anaconda3\\lib\\site-packages\\pdfminer\\pdfpage.py:159: PDFTextExtractionNotAllowedWarning: The PDF <_io.BytesIO object at 0x0000025217158540> contains a metadata field indicating that it should not allow text extraction. Ignoring this field and proceeding.\n",
      "  warnings.warn(warning_msg, PDFTextExtractionNotAllowedWarning)\n",
      "C:\\Users\\oguzk\\anaconda3\\lib\\site-packages\\pdfminer\\pdfpage.py:159: PDFTextExtractionNotAllowedWarning: The PDF <_io.BytesIO object at 0x000002521832F180> contains a metadata field indicating that it should not allow text extraction. Ignoring this field and proceeding.\n",
      "  warnings.warn(warning_msg, PDFTextExtractionNotAllowedWarning)\n",
      "C:\\Users\\oguzk\\anaconda3\\lib\\site-packages\\pdfminer\\pdfpage.py:159: PDFTextExtractionNotAllowedWarning: The PDF <_io.BytesIO object at 0x000002521901A180> contains a metadata field indicating that it should not allow text extraction. Ignoring this field and proceeding.\n",
      "  warnings.warn(warning_msg, PDFTextExtractionNotAllowedWarning)\n",
      "C:\\Users\\oguzk\\anaconda3\\lib\\site-packages\\pdfminer\\pdfpage.py:159: PDFTextExtractionNotAllowedWarning: The PDF <_io.BytesIO object at 0x0000025217419220> contains a metadata field indicating that it should not allow text extraction. Ignoring this field and proceeding.\n",
      "  warnings.warn(warning_msg, PDFTextExtractionNotAllowedWarning)\n"
     ]
    },
    {
     "name": "stdout",
     "output_type": "stream",
     "text": [
      "4 loop ended, endtime: 2022-01-05 14:55:33.523792\n",
      "Starting loop 5, start time: 2022-01-05 14:55:33.525294\n",
      "5 loop ended, endtime: 2022-01-05 15:36:09.671574\n",
      "Starting loop 6, start time: 2022-01-05 15:36:09.683574\n"
     ]
    },
    {
     "name": "stderr",
     "output_type": "stream",
     "text": [
      "C:\\Users\\oguzk\\anaconda3\\lib\\site-packages\\pdfminer\\pdfpage.py:159: PDFTextExtractionNotAllowedWarning: The PDF <_io.BytesIO object at 0x0000025218727CC0> contains a metadata field indicating that it should not allow text extraction. Ignoring this field and proceeding.\n",
      "  warnings.warn(warning_msg, PDFTextExtractionNotAllowedWarning)\n",
      "C:\\Users\\oguzk\\anaconda3\\lib\\site-packages\\pdfminer\\pdfpage.py:159: PDFTextExtractionNotAllowedWarning: The PDF <_io.BytesIO object at 0x0000025218C9AC70> contains a metadata field indicating that it should not allow text extraction. Ignoring this field and proceeding.\n",
      "  warnings.warn(warning_msg, PDFTextExtractionNotAllowedWarning)\n",
      "C:\\Users\\oguzk\\anaconda3\\lib\\site-packages\\pdfminer\\pdfpage.py:159: PDFTextExtractionNotAllowedWarning: The PDF <_io.BytesIO object at 0x000002521806DCC0> contains a metadata field indicating that it should not allow text extraction. Ignoring this field and proceeding.\n",
      "  warnings.warn(warning_msg, PDFTextExtractionNotAllowedWarning)\n",
      "C:\\Users\\oguzk\\anaconda3\\lib\\site-packages\\pdfminer\\pdfpage.py:159: PDFTextExtractionNotAllowedWarning: The PDF <_io.BytesIO object at 0x000002521728FA90> contains a metadata field indicating that it should not allow text extraction. Ignoring this field and proceeding.\n",
      "  warnings.warn(warning_msg, PDFTextExtractionNotAllowedWarning)\n",
      "C:\\Users\\oguzk\\anaconda3\\lib\\site-packages\\pdfminer\\pdfpage.py:159: PDFTextExtractionNotAllowedWarning: The PDF <_io.BytesIO object at 0x000002521726C090> contains a metadata field indicating that it should not allow text extraction. Ignoring this field and proceeding.\n",
      "  warnings.warn(warning_msg, PDFTextExtractionNotAllowedWarning)\n",
      "C:\\Users\\oguzk\\anaconda3\\lib\\site-packages\\pdfminer\\pdfpage.py:159: PDFTextExtractionNotAllowedWarning: The PDF <_io.BytesIO object at 0x000002523C6B2090> contains a metadata field indicating that it should not allow text extraction. Ignoring this field and proceeding.\n",
      "  warnings.warn(warning_msg, PDFTextExtractionNotAllowedWarning)\n",
      "C:\\Users\\oguzk\\anaconda3\\lib\\site-packages\\pdfminer\\pdfpage.py:159: PDFTextExtractionNotAllowedWarning: The PDF <_io.BytesIO object at 0x000002523C6B2F90> contains a metadata field indicating that it should not allow text extraction. Ignoring this field and proceeding.\n",
      "  warnings.warn(warning_msg, PDFTextExtractionNotAllowedWarning)\n",
      "C:\\Users\\oguzk\\anaconda3\\lib\\site-packages\\pdfminer\\pdfpage.py:159: PDFTextExtractionNotAllowedWarning: The PDF <_io.BytesIO object at 0x0000025219927F90> contains a metadata field indicating that it should not allow text extraction. Ignoring this field and proceeding.\n",
      "  warnings.warn(warning_msg, PDFTextExtractionNotAllowedWarning)\n",
      "C:\\Users\\oguzk\\anaconda3\\lib\\site-packages\\pdfminer\\pdfpage.py:159: PDFTextExtractionNotAllowedWarning: The PDF <_io.BytesIO object at 0x0000025219089D10> contains a metadata field indicating that it should not allow text extraction. Ignoring this field and proceeding.\n",
      "  warnings.warn(warning_msg, PDFTextExtractionNotAllowedWarning)\n",
      "C:\\Users\\oguzk\\anaconda3\\lib\\site-packages\\pdfminer\\pdfpage.py:159: PDFTextExtractionNotAllowedWarning: The PDF <_io.BytesIO object at 0x00000252183D4720> contains a metadata field indicating that it should not allow text extraction. Ignoring this field and proceeding.\n",
      "  warnings.warn(warning_msg, PDFTextExtractionNotAllowedWarning)\n",
      "C:\\Users\\oguzk\\anaconda3\\lib\\site-packages\\pdfminer\\pdfpage.py:159: PDFTextExtractionNotAllowedWarning: The PDF <_io.BytesIO object at 0x00000252183D4DB0> contains a metadata field indicating that it should not allow text extraction. Ignoring this field and proceeding.\n",
      "  warnings.warn(warning_msg, PDFTextExtractionNotAllowedWarning)\n"
     ]
    },
    {
     "name": "stdout",
     "output_type": "stream",
     "text": [
      "6 loop ended, endtime: 2022-01-05 16:19:54.478001\n",
      "Starting loop 7, start time: 2022-01-05 16:19:54.489503\n"
     ]
    },
    {
     "name": "stderr",
     "output_type": "stream",
     "text": [
      "C:\\Users\\oguzk\\anaconda3\\lib\\site-packages\\pdfminer\\pdfpage.py:159: PDFTextExtractionNotAllowedWarning: The PDF <_io.BytesIO object at 0x0000025218D43400> contains a metadata field indicating that it should not allow text extraction. Ignoring this field and proceeding.\n",
      "  warnings.warn(warning_msg, PDFTextExtractionNotAllowedWarning)\n",
      "C:\\Users\\oguzk\\anaconda3\\lib\\site-packages\\pdfminer\\pdfpage.py:159: PDFTextExtractionNotAllowedWarning: The PDF <_io.BytesIO object at 0x000002523C6AD770> contains a metadata field indicating that it should not allow text extraction. Ignoring this field and proceeding.\n",
      "  warnings.warn(warning_msg, PDFTextExtractionNotAllowedWarning)\n"
     ]
    },
    {
     "name": "stdout",
     "output_type": "stream",
     "text": [
      "7 loop ended, endtime: 2022-01-05 16:47:57.809290\n",
      "Starting loop 8, start time: 2022-01-05 16:47:57.810297\n",
      "8 loop ended, endtime: 2022-01-05 17:29:34.559559\n",
      "Starting loop 9, start time: 2022-01-05 17:29:34.569060\n",
      "9 loop ended, endtime: 2022-01-05 18:02:08.743455\n",
      "Starting loop 10, start time: 2022-01-05 18:02:08.754463\n"
     ]
    },
    {
     "name": "stderr",
     "output_type": "stream",
     "text": [
      "WARNING:urllib3.connectionpool:Failed to parse headers (url=https://www.aimsciences.org:443/article/exportPdf?id=40443f48-628c-43da-b170-2e747cd0d5f6): [NoBoundaryInMultipartDefect()], unparsed data: ''\n",
      "Traceback (most recent call last):\n",
      "  File \"C:\\Users\\oguzk\\anaconda3\\lib\\site-packages\\urllib3\\connectionpool.py\", line 465, in _make_request\n",
      "    assert_header_parsing(httplib_response.msg)\n",
      "  File \"C:\\Users\\oguzk\\anaconda3\\lib\\site-packages\\urllib3\\util\\response.py\", line 91, in assert_header_parsing\n",
      "    raise HeaderParsingError(defects=defects, unparsed_data=unparsed_data)\n",
      "urllib3.exceptions.HeaderParsingError: [NoBoundaryInMultipartDefect()], unparsed data: ''\n",
      "WARNING:urllib3.connectionpool:Failed to parse headers (url=https://www.aimsciences.org:443/article/exportPdf?id=1912bfb3-27f9-4e7e-8b50-7f360eb47938): [NoBoundaryInMultipartDefect()], unparsed data: ''\n",
      "Traceback (most recent call last):\n",
      "  File \"C:\\Users\\oguzk\\anaconda3\\lib\\site-packages\\urllib3\\connectionpool.py\", line 465, in _make_request\n",
      "    assert_header_parsing(httplib_response.msg)\n",
      "  File \"C:\\Users\\oguzk\\anaconda3\\lib\\site-packages\\urllib3\\util\\response.py\", line 91, in assert_header_parsing\n",
      "    raise HeaderParsingError(defects=defects, unparsed_data=unparsed_data)\n",
      "urllib3.exceptions.HeaderParsingError: [NoBoundaryInMultipartDefect()], unparsed data: ''\n",
      "WARNING:urllib3.connectionpool:Failed to parse headers (url=https://www.aimsciences.org:443/article/exportPdf?id=dcfa45c1-26cf-48a5-8350-8d010ca42bfb): [NoBoundaryInMultipartDefect()], unparsed data: ''\n",
      "Traceback (most recent call last):\n",
      "  File \"C:\\Users\\oguzk\\anaconda3\\lib\\site-packages\\urllib3\\connectionpool.py\", line 465, in _make_request\n",
      "    assert_header_parsing(httplib_response.msg)\n",
      "  File \"C:\\Users\\oguzk\\anaconda3\\lib\\site-packages\\urllib3\\util\\response.py\", line 91, in assert_header_parsing\n",
      "    raise HeaderParsingError(defects=defects, unparsed_data=unparsed_data)\n",
      "urllib3.exceptions.HeaderParsingError: [NoBoundaryInMultipartDefect()], unparsed data: ''\n",
      "WARNING:urllib3.connectionpool:Failed to parse headers (url=https://www.aimsciences.org:443/article/exportPdf?id=0d21ab47-fcee-42ce-b604-fb92c34155ed): [NoBoundaryInMultipartDefect()], unparsed data: ''\n",
      "Traceback (most recent call last):\n",
      "  File \"C:\\Users\\oguzk\\anaconda3\\lib\\site-packages\\urllib3\\connectionpool.py\", line 465, in _make_request\n",
      "    assert_header_parsing(httplib_response.msg)\n",
      "  File \"C:\\Users\\oguzk\\anaconda3\\lib\\site-packages\\urllib3\\util\\response.py\", line 91, in assert_header_parsing\n",
      "    raise HeaderParsingError(defects=defects, unparsed_data=unparsed_data)\n",
      "urllib3.exceptions.HeaderParsingError: [NoBoundaryInMultipartDefect()], unparsed data: ''\n",
      "WARNING:urllib3.connectionpool:Failed to parse headers (url=https://www.aimsciences.org:443/article/exportPdf?id=45534518-c368-4942-8089-a08a724db166): [NoBoundaryInMultipartDefect()], unparsed data: ''\n",
      "Traceback (most recent call last):\n",
      "  File \"C:\\Users\\oguzk\\anaconda3\\lib\\site-packages\\urllib3\\connectionpool.py\", line 465, in _make_request\n",
      "    assert_header_parsing(httplib_response.msg)\n",
      "  File \"C:\\Users\\oguzk\\anaconda3\\lib\\site-packages\\urllib3\\util\\response.py\", line 91, in assert_header_parsing\n",
      "    raise HeaderParsingError(defects=defects, unparsed_data=unparsed_data)\n",
      "urllib3.exceptions.HeaderParsingError: [NoBoundaryInMultipartDefect()], unparsed data: ''\n",
      "WARNING:urllib3.connectionpool:Failed to parse headers (url=https://www.aimsciences.org:443/article/exportPdf?id=e54097fe-97db-46fb-86a9-a63b763646b7): [NoBoundaryInMultipartDefect()], unparsed data: ''\n",
      "Traceback (most recent call last):\n",
      "  File \"C:\\Users\\oguzk\\anaconda3\\lib\\site-packages\\urllib3\\connectionpool.py\", line 465, in _make_request\n",
      "    assert_header_parsing(httplib_response.msg)\n",
      "  File \"C:\\Users\\oguzk\\anaconda3\\lib\\site-packages\\urllib3\\util\\response.py\", line 91, in assert_header_parsing\n",
      "    raise HeaderParsingError(defects=defects, unparsed_data=unparsed_data)\n",
      "urllib3.exceptions.HeaderParsingError: [NoBoundaryInMultipartDefect()], unparsed data: ''\n",
      "WARNING:urllib3.connectionpool:Failed to parse headers (url=https://www.aimsciences.org:443/article/exportPdf?id=d062d02e-187e-453a-b691-63342f4a5c6c): [NoBoundaryInMultipartDefect()], unparsed data: ''\n",
      "Traceback (most recent call last):\n",
      "  File \"C:\\Users\\oguzk\\anaconda3\\lib\\site-packages\\urllib3\\connectionpool.py\", line 465, in _make_request\n",
      "    assert_header_parsing(httplib_response.msg)\n",
      "  File \"C:\\Users\\oguzk\\anaconda3\\lib\\site-packages\\urllib3\\util\\response.py\", line 91, in assert_header_parsing\n",
      "    raise HeaderParsingError(defects=defects, unparsed_data=unparsed_data)\n",
      "urllib3.exceptions.HeaderParsingError: [NoBoundaryInMultipartDefect()], unparsed data: ''\n",
      "WARNING:urllib3.connectionpool:Failed to parse headers (url=https://www.aimsciences.org:443/article/exportPdf?id=e79b1eb2-822c-4624-9b08-5f0342bd9ec7): [NoBoundaryInMultipartDefect()], unparsed data: ''\n",
      "Traceback (most recent call last):\n",
      "  File \"C:\\Users\\oguzk\\anaconda3\\lib\\site-packages\\urllib3\\connectionpool.py\", line 465, in _make_request\n",
      "    assert_header_parsing(httplib_response.msg)\n",
      "  File \"C:\\Users\\oguzk\\anaconda3\\lib\\site-packages\\urllib3\\util\\response.py\", line 91, in assert_header_parsing\n",
      "    raise HeaderParsingError(defects=defects, unparsed_data=unparsed_data)\n",
      "urllib3.exceptions.HeaderParsingError: [NoBoundaryInMultipartDefect()], unparsed data: ''\n",
      "WARNING:urllib3.connectionpool:Failed to parse headers (url=https://www.aimsciences.org:443/article/exportPdf?id=0c8c54ba-5e69-47a1-ab3c-b5b6af67a611): [NoBoundaryInMultipartDefect()], unparsed data: ''\n",
      "Traceback (most recent call last):\n",
      "  File \"C:\\Users\\oguzk\\anaconda3\\lib\\site-packages\\urllib3\\connectionpool.py\", line 465, in _make_request\n",
      "    assert_header_parsing(httplib_response.msg)\n",
      "  File \"C:\\Users\\oguzk\\anaconda3\\lib\\site-packages\\urllib3\\util\\response.py\", line 91, in assert_header_parsing\n",
      "    raise HeaderParsingError(defects=defects, unparsed_data=unparsed_data)\n",
      "urllib3.exceptions.HeaderParsingError: [NoBoundaryInMultipartDefect()], unparsed data: ''\n",
      "WARNING:urllib3.connectionpool:Failed to parse headers (url=https://www.aimsciences.org:443/article/exportPdf?id=022a1072-bc51-4fe0-9962-ee61b33b5422): [NoBoundaryInMultipartDefect()], unparsed data: ''\n",
      "Traceback (most recent call last):\n",
      "  File \"C:\\Users\\oguzk\\anaconda3\\lib\\site-packages\\urllib3\\connectionpool.py\", line 465, in _make_request\n",
      "    assert_header_parsing(httplib_response.msg)\n",
      "  File \"C:\\Users\\oguzk\\anaconda3\\lib\\site-packages\\urllib3\\util\\response.py\", line 91, in assert_header_parsing\n",
      "    raise HeaderParsingError(defects=defects, unparsed_data=unparsed_data)\n",
      "urllib3.exceptions.HeaderParsingError: [NoBoundaryInMultipartDefect()], unparsed data: ''\n",
      "WARNING:urllib3.connectionpool:Failed to parse headers (url=https://www.aimsciences.org:443/article/exportPdf?id=f93a83cc-3228-4e74-a9dc-6d8dccaa6c8e): [NoBoundaryInMultipartDefect()], unparsed data: ''\n",
      "Traceback (most recent call last):\n",
      "  File \"C:\\Users\\oguzk\\anaconda3\\lib\\site-packages\\urllib3\\connectionpool.py\", line 465, in _make_request\n",
      "    assert_header_parsing(httplib_response.msg)\n",
      "  File \"C:\\Users\\oguzk\\anaconda3\\lib\\site-packages\\urllib3\\util\\response.py\", line 91, in assert_header_parsing\n",
      "    raise HeaderParsingError(defects=defects, unparsed_data=unparsed_data)\n",
      "urllib3.exceptions.HeaderParsingError: [NoBoundaryInMultipartDefect()], unparsed data: ''\n"
     ]
    },
    {
     "name": "stdout",
     "output_type": "stream",
     "text": [
      "10 loop ended, endtime: 2022-01-05 18:42:31.519492\n",
      "Starting loop 11, start time: 2022-01-05 18:42:31.530494\n"
     ]
    },
    {
     "name": "stderr",
     "output_type": "stream",
     "text": [
      "C:\\Users\\oguzk\\anaconda3\\lib\\site-packages\\pdfminer\\pdfpage.py:159: PDFTextExtractionNotAllowedWarning: The PDF <_io.BytesIO object at 0x00000252175877C0> contains a metadata field indicating that it should not allow text extraction. Ignoring this field and proceeding.\n",
      "  warnings.warn(warning_msg, PDFTextExtractionNotAllowedWarning)\n",
      "C:\\Users\\oguzk\\anaconda3\\lib\\site-packages\\pdfminer\\pdfpage.py:159: PDFTextExtractionNotAllowedWarning: The PDF <_io.BytesIO object at 0x00000252178F2220> contains a metadata field indicating that it should not allow text extraction. Ignoring this field and proceeding.\n",
      "  warnings.warn(warning_msg, PDFTextExtractionNotAllowedWarning)\n"
     ]
    },
    {
     "name": "stdout",
     "output_type": "stream",
     "text": [
      "11 loop ended, endtime: 2022-01-05 19:15:48.135369\n",
      "Starting loop 12, start time: 2022-01-05 19:15:48.136870\n"
     ]
    },
    {
     "name": "stderr",
     "output_type": "stream",
     "text": [
      "C:\\Users\\oguzk\\anaconda3\\lib\\site-packages\\pdfminer\\pdfpage.py:159: PDFTextExtractionNotAllowedWarning: The PDF <_io.BytesIO object at 0x000002522626C450> contains a metadata field indicating that it should not allow text extraction. Ignoring this field and proceeding.\n",
      "  warnings.warn(warning_msg, PDFTextExtractionNotAllowedWarning)\n"
     ]
    },
    {
     "name": "stdout",
     "output_type": "stream",
     "text": [
      "12 loop ended, endtime: 2022-01-05 19:55:05.163681\n",
      "Starting loop 13, start time: 2022-01-05 19:55:05.175183\n"
     ]
    },
    {
     "name": "stderr",
     "output_type": "stream",
     "text": [
      "WARNING:urllib3.connection:Certificate did not match expected hostname: www.periodicos.uem.br. Certificate: {'subject': ((('commonName', 'periodicos.uem.br'),),), 'issuer': ((('countryName', 'US'),), (('organizationName', \"Let's Encrypt\"),), (('commonName', 'R3'),)), 'version': 3, 'serialNumber': '0325921A9F539A7534FC6319731EB672733D', 'notBefore': 'Nov 21 10:49:43 2021 GMT', 'notAfter': 'Feb 19 10:49:42 2022 GMT', 'subjectAltName': (('DNS', 'periodicos.uem.br'),), 'OCSP': ('http://r3.o.lencr.org',), 'caIssuers': ('http://r3.i.lencr.org/',)}\n",
      "WARNING:urllib3.connection:Certificate did not match expected hostname: www.periodicos.uem.br. Certificate: {'subject': ((('commonName', 'periodicos.uem.br'),),), 'issuer': ((('countryName', 'US'),), (('organizationName', \"Let's Encrypt\"),), (('commonName', 'R3'),)), 'version': 3, 'serialNumber': '0325921A9F539A7534FC6319731EB672733D', 'notBefore': 'Nov 21 10:49:43 2021 GMT', 'notAfter': 'Feb 19 10:49:42 2022 GMT', 'subjectAltName': (('DNS', 'periodicos.uem.br'),), 'OCSP': ('http://r3.o.lencr.org',), 'caIssuers': ('http://r3.i.lencr.org/',)}\n",
      "WARNING:urllib3.connection:Certificate did not match expected hostname: www.periodicos.uem.br. Certificate: {'subject': ((('commonName', 'periodicos.uem.br'),),), 'issuer': ((('countryName', 'US'),), (('organizationName', \"Let's Encrypt\"),), (('commonName', 'R3'),)), 'version': 3, 'serialNumber': '0325921A9F539A7534FC6319731EB672733D', 'notBefore': 'Nov 21 10:49:43 2021 GMT', 'notAfter': 'Feb 19 10:49:42 2022 GMT', 'subjectAltName': (('DNS', 'periodicos.uem.br'),), 'OCSP': ('http://r3.o.lencr.org',), 'caIssuers': ('http://r3.i.lencr.org/',)}\n",
      "WARNING:urllib3.connection:Certificate did not match expected hostname: www.periodicos.uem.br. Certificate: {'subject': ((('commonName', 'periodicos.uem.br'),),), 'issuer': ((('countryName', 'US'),), (('organizationName', \"Let's Encrypt\"),), (('commonName', 'R3'),)), 'version': 3, 'serialNumber': '0325921A9F539A7534FC6319731EB672733D', 'notBefore': 'Nov 21 10:49:43 2021 GMT', 'notAfter': 'Feb 19 10:49:42 2022 GMT', 'subjectAltName': (('DNS', 'periodicos.uem.br'),), 'OCSP': ('http://r3.o.lencr.org',), 'caIssuers': ('http://r3.i.lencr.org/',)}\n"
     ]
    },
    {
     "name": "stdout",
     "output_type": "stream",
     "text": [
      "13 loop ended, endtime: 2022-01-05 20:35:50.795050\n",
      "Starting loop 14, start time: 2022-01-05 20:35:50.806050\n"
     ]
    },
    {
     "name": "stderr",
     "output_type": "stream",
     "text": [
      "C:\\Users\\oguzk\\anaconda3\\lib\\site-packages\\pdfminer\\pdfpage.py:159: PDFTextExtractionNotAllowedWarning: The PDF <_io.BytesIO object at 0x0000025211F869A0> contains a metadata field indicating that it should not allow text extraction. Ignoring this field and proceeding.\n",
      "  warnings.warn(warning_msg, PDFTextExtractionNotAllowedWarning)\n",
      "C:\\Users\\oguzk\\anaconda3\\lib\\site-packages\\pdfminer\\pdfpage.py:159: PDFTextExtractionNotAllowedWarning: The PDF <_io.BytesIO object at 0x000002521BB56130> contains a metadata field indicating that it should not allow text extraction. Ignoring this field and proceeding.\n",
      "  warnings.warn(warning_msg, PDFTextExtractionNotAllowedWarning)\n",
      "C:\\Users\\oguzk\\anaconda3\\lib\\site-packages\\pdfminer\\pdfpage.py:159: PDFTextExtractionNotAllowedWarning: The PDF <_io.BytesIO object at 0x0000025211F86EA0> contains a metadata field indicating that it should not allow text extraction. Ignoring this field and proceeding.\n",
      "  warnings.warn(warning_msg, PDFTextExtractionNotAllowedWarning)\n",
      "C:\\Users\\oguzk\\anaconda3\\lib\\site-packages\\pdfminer\\pdfpage.py:159: PDFTextExtractionNotAllowedWarning: The PDF <_io.BytesIO object at 0x0000025219B498B0> contains a metadata field indicating that it should not allow text extraction. Ignoring this field and proceeding.\n",
      "  warnings.warn(warning_msg, PDFTextExtractionNotAllowedWarning)\n",
      "C:\\Users\\oguzk\\anaconda3\\lib\\site-packages\\pdfminer\\pdfpage.py:159: PDFTextExtractionNotAllowedWarning: The PDF <_io.BytesIO object at 0x0000025219B499F0> contains a metadata field indicating that it should not allow text extraction. Ignoring this field and proceeding.\n",
      "  warnings.warn(warning_msg, PDFTextExtractionNotAllowedWarning)\n",
      "C:\\Users\\oguzk\\anaconda3\\lib\\site-packages\\pdfminer\\pdfpage.py:159: PDFTextExtractionNotAllowedWarning: The PDF <_io.BytesIO object at 0x0000025219B492C0> contains a metadata field indicating that it should not allow text extraction. Ignoring this field and proceeding.\n",
      "  warnings.warn(warning_msg, PDFTextExtractionNotAllowedWarning)\n",
      "C:\\Users\\oguzk\\anaconda3\\lib\\site-packages\\pdfminer\\pdfpage.py:159: PDFTextExtractionNotAllowedWarning: The PDF <_io.BytesIO object at 0x0000025218DE3900> contains a metadata field indicating that it should not allow text extraction. Ignoring this field and proceeding.\n",
      "  warnings.warn(warning_msg, PDFTextExtractionNotAllowedWarning)\n",
      "C:\\Users\\oguzk\\anaconda3\\lib\\site-packages\\pdfminer\\pdfpage.py:159: PDFTextExtractionNotAllowedWarning: The PDF <_io.BytesIO object at 0x000002521D22F1D0> contains a metadata field indicating that it should not allow text extraction. Ignoring this field and proceeding.\n",
      "  warnings.warn(warning_msg, PDFTextExtractionNotAllowedWarning)\n",
      "C:\\Users\\oguzk\\anaconda3\\lib\\site-packages\\pdfminer\\pdfpage.py:159: PDFTextExtractionNotAllowedWarning: The PDF <_io.BytesIO object at 0x0000025219A9C4A0> contains a metadata field indicating that it should not allow text extraction. Ignoring this field and proceeding.\n",
      "  warnings.warn(warning_msg, PDFTextExtractionNotAllowedWarning)\n",
      "WARNING:urllib3.connectionpool:Failed to parse headers (url=https://www.aimsciences.org:443/article/exportPdf?id=9fe72362-9945-439b-8630-c8983d5503a9): [NoBoundaryInMultipartDefect()], unparsed data: ''\n",
      "Traceback (most recent call last):\n",
      "  File \"C:\\Users\\oguzk\\anaconda3\\lib\\site-packages\\urllib3\\connectionpool.py\", line 465, in _make_request\n",
      "    assert_header_parsing(httplib_response.msg)\n",
      "  File \"C:\\Users\\oguzk\\anaconda3\\lib\\site-packages\\urllib3\\util\\response.py\", line 91, in assert_header_parsing\n",
      "    raise HeaderParsingError(defects=defects, unparsed_data=unparsed_data)\n",
      "urllib3.exceptions.HeaderParsingError: [NoBoundaryInMultipartDefect()], unparsed data: ''\n",
      "WARNING:urllib3.connectionpool:Failed to parse headers (url=https://www.aimsciences.org:443/article/exportPdf?id=a6bc8fe6-70ee-4661-94cc-05b59db75350): [NoBoundaryInMultipartDefect()], unparsed data: ''\n",
      "Traceback (most recent call last):\n",
      "  File \"C:\\Users\\oguzk\\anaconda3\\lib\\site-packages\\urllib3\\connectionpool.py\", line 465, in _make_request\n",
      "    assert_header_parsing(httplib_response.msg)\n",
      "  File \"C:\\Users\\oguzk\\anaconda3\\lib\\site-packages\\urllib3\\util\\response.py\", line 91, in assert_header_parsing\n",
      "    raise HeaderParsingError(defects=defects, unparsed_data=unparsed_data)\n",
      "urllib3.exceptions.HeaderParsingError: [NoBoundaryInMultipartDefect()], unparsed data: ''\n",
      "WARNING:urllib3.connectionpool:Failed to parse headers (url=https://www.aimsciences.org:443/article/exportPdf?id=ec601dd7-c4e2-4ffd-99c7-23fd1f143f18): [NoBoundaryInMultipartDefect()], unparsed data: ''\n",
      "Traceback (most recent call last):\n",
      "  File \"C:\\Users\\oguzk\\anaconda3\\lib\\site-packages\\urllib3\\connectionpool.py\", line 465, in _make_request\n",
      "    assert_header_parsing(httplib_response.msg)\n",
      "  File \"C:\\Users\\oguzk\\anaconda3\\lib\\site-packages\\urllib3\\util\\response.py\", line 91, in assert_header_parsing\n",
      "    raise HeaderParsingError(defects=defects, unparsed_data=unparsed_data)\n",
      "urllib3.exceptions.HeaderParsingError: [NoBoundaryInMultipartDefect()], unparsed data: ''\n",
      "WARNING:urllib3.connectionpool:Failed to parse headers (url=https://www.aimsciences.org:443/article/exportPdf?id=b74b723f-638f-4d1c-971d-4aec8c4903d0): [NoBoundaryInMultipartDefect()], unparsed data: ''\n",
      "Traceback (most recent call last):\n",
      "  File \"C:\\Users\\oguzk\\anaconda3\\lib\\site-packages\\urllib3\\connectionpool.py\", line 465, in _make_request\n",
      "    assert_header_parsing(httplib_response.msg)\n",
      "  File \"C:\\Users\\oguzk\\anaconda3\\lib\\site-packages\\urllib3\\util\\response.py\", line 91, in assert_header_parsing\n",
      "    raise HeaderParsingError(defects=defects, unparsed_data=unparsed_data)\n",
      "urllib3.exceptions.HeaderParsingError: [NoBoundaryInMultipartDefect()], unparsed data: ''\n",
      "WARNING:urllib3.connectionpool:Failed to parse headers (url=https://www.aimsciences.org:443/article/exportPdf?id=9c259487-53b9-4d96-9081-6c349357d420): [NoBoundaryInMultipartDefect()], unparsed data: ''\n",
      "Traceback (most recent call last):\n",
      "  File \"C:\\Users\\oguzk\\anaconda3\\lib\\site-packages\\urllib3\\connectionpool.py\", line 465, in _make_request\n",
      "    assert_header_parsing(httplib_response.msg)\n",
      "  File \"C:\\Users\\oguzk\\anaconda3\\lib\\site-packages\\urllib3\\util\\response.py\", line 91, in assert_header_parsing\n",
      "    raise HeaderParsingError(defects=defects, unparsed_data=unparsed_data)\n",
      "urllib3.exceptions.HeaderParsingError: [NoBoundaryInMultipartDefect()], unparsed data: ''\n",
      "WARNING:urllib3.connectionpool:Failed to parse headers (url=https://www.aimsciences.org:443/article/exportPdf?id=bdc51d5b-275a-4195-9f06-912599d352e5): [NoBoundaryInMultipartDefect()], unparsed data: ''\n",
      "Traceback (most recent call last):\n",
      "  File \"C:\\Users\\oguzk\\anaconda3\\lib\\site-packages\\urllib3\\connectionpool.py\", line 465, in _make_request\n",
      "    assert_header_parsing(httplib_response.msg)\n",
      "  File \"C:\\Users\\oguzk\\anaconda3\\lib\\site-packages\\urllib3\\util\\response.py\", line 91, in assert_header_parsing\n",
      "    raise HeaderParsingError(defects=defects, unparsed_data=unparsed_data)\n",
      "urllib3.exceptions.HeaderParsingError: [NoBoundaryInMultipartDefect()], unparsed data: ''\n",
      "WARNING:urllib3.connectionpool:Failed to parse headers (url=https://www.aimsciences.org:443/article/exportPdf?id=711a582b-d81c-4c55-a0a1-b4ac088ee2e2): [NoBoundaryInMultipartDefect()], unparsed data: ''\n",
      "Traceback (most recent call last):\n",
      "  File \"C:\\Users\\oguzk\\anaconda3\\lib\\site-packages\\urllib3\\connectionpool.py\", line 465, in _make_request\n",
      "    assert_header_parsing(httplib_response.msg)\n",
      "  File \"C:\\Users\\oguzk\\anaconda3\\lib\\site-packages\\urllib3\\util\\response.py\", line 91, in assert_header_parsing\n",
      "    raise HeaderParsingError(defects=defects, unparsed_data=unparsed_data)\n",
      "urllib3.exceptions.HeaderParsingError: [NoBoundaryInMultipartDefect()], unparsed data: ''\n",
      "WARNING:urllib3.connectionpool:Failed to parse headers (url=https://www.aimsciences.org:443/article/exportPdf?id=1098189c-83a6-46cc-819f-b4dd37f8573d): [NoBoundaryInMultipartDefect()], unparsed data: ''\n",
      "Traceback (most recent call last):\n",
      "  File \"C:\\Users\\oguzk\\anaconda3\\lib\\site-packages\\urllib3\\connectionpool.py\", line 465, in _make_request\n",
      "    assert_header_parsing(httplib_response.msg)\n",
      "  File \"C:\\Users\\oguzk\\anaconda3\\lib\\site-packages\\urllib3\\util\\response.py\", line 91, in assert_header_parsing\n",
      "    raise HeaderParsingError(defects=defects, unparsed_data=unparsed_data)\n",
      "urllib3.exceptions.HeaderParsingError: [NoBoundaryInMultipartDefect()], unparsed data: ''\n",
      "WARNING:urllib3.connectionpool:Failed to parse headers (url=https://www.aimsciences.org:443/article/exportPdf?id=6b0be453-60fc-43c4-b085-194c2c3e9e79): [NoBoundaryInMultipartDefect()], unparsed data: ''\n",
      "Traceback (most recent call last):\n",
      "  File \"C:\\Users\\oguzk\\anaconda3\\lib\\site-packages\\urllib3\\connectionpool.py\", line 465, in _make_request\n",
      "    assert_header_parsing(httplib_response.msg)\n",
      "  File \"C:\\Users\\oguzk\\anaconda3\\lib\\site-packages\\urllib3\\util\\response.py\", line 91, in assert_header_parsing\n",
      "    raise HeaderParsingError(defects=defects, unparsed_data=unparsed_data)\n",
      "urllib3.exceptions.HeaderParsingError: [NoBoundaryInMultipartDefect()], unparsed data: ''\n",
      "C:\\Users\\oguzk\\anaconda3\\lib\\site-packages\\pdfminer\\pdfpage.py:159: PDFTextExtractionNotAllowedWarning: The PDF <_io.BytesIO object at 0x00000252195ABB80> contains a metadata field indicating that it should not allow text extraction. Ignoring this field and proceeding.\n",
      "  warnings.warn(warning_msg, PDFTextExtractionNotAllowedWarning)\n",
      "C:\\Users\\oguzk\\anaconda3\\lib\\site-packages\\pdfminer\\pdfpage.py:159: PDFTextExtractionNotAllowedWarning: The PDF <_io.BytesIO object at 0x000002523C235C70> contains a metadata field indicating that it should not allow text extraction. Ignoring this field and proceeding.\n",
      "  warnings.warn(warning_msg, PDFTextExtractionNotAllowedWarning)\n"
     ]
    },
    {
     "name": "stdout",
     "output_type": "stream",
     "text": [
      "14 loop ended, endtime: 2022-01-05 21:13:07.267060\n",
      "Starting loop 15, start time: 2022-01-05 21:13:07.279062\n"
     ]
    },
    {
     "name": "stderr",
     "output_type": "stream",
     "text": [
      "WARNING:urllib3.connection:Certificate did not match expected hostname: www.genetics.org. Certificate: {'subject': ((('countryName', 'US'),), (('stateOrProvinceName', 'Virginia'),), (('localityName', 'Charlottesville'),), (('organizationName', 'Silverchair Science + Communications, LLC'),), (('commonName', '*.silverchair.com'),)), 'issuer': ((('countryName', 'US'),), (('organizationName', 'DigiCert Inc'),), (('commonName', 'DigiCert SHA2 Secure Server CA'),)), 'version': 3, 'serialNumber': '06D10F2525D58333212BD0A33E316877', 'notBefore': 'May 19 00:00:00 2020 GMT', 'notAfter': 'May 12 12:00:00 2022 GMT', 'subjectAltName': (('DNS', '*.silverchair.com'), ('DNS', 'silverchair.com'), ('DNS', 'gsw.contentapi.silverchair.com'), ('DNS', 'dup.contentapi.silverchair.com')), 'OCSP': ('http://ocsp.digicert.com',), 'caIssuers': ('http://cacerts.digicert.com/DigiCertSHA2SecureServerCA.crt',), 'crlDistributionPoints': ('http://crl3.digicert.com/ssca-sha2-g6.crl', 'http://crl4.digicert.com/ssca-sha2-g6.crl')}\n",
      "WARNING:urllib3.connection:Certificate did not match expected hostname: www.genetics.org. Certificate: {'subject': ((('countryName', 'US'),), (('stateOrProvinceName', 'Virginia'),), (('localityName', 'Charlottesville'),), (('organizationName', 'Silverchair Science + Communications, LLC'),), (('commonName', '*.silverchair.com'),)), 'issuer': ((('countryName', 'US'),), (('organizationName', 'DigiCert Inc'),), (('commonName', 'DigiCert SHA2 Secure Server CA'),)), 'version': 3, 'serialNumber': '06D10F2525D58333212BD0A33E316877', 'notBefore': 'May 19 00:00:00 2020 GMT', 'notAfter': 'May 12 12:00:00 2022 GMT', 'subjectAltName': (('DNS', '*.silverchair.com'), ('DNS', 'silverchair.com'), ('DNS', 'gsw.contentapi.silverchair.com'), ('DNS', 'dup.contentapi.silverchair.com')), 'OCSP': ('http://ocsp.digicert.com',), 'caIssuers': ('http://cacerts.digicert.com/DigiCertSHA2SecureServerCA.crt',), 'crlDistributionPoints': ('http://crl3.digicert.com/ssca-sha2-g6.crl', 'http://crl4.digicert.com/ssca-sha2-g6.crl')}\n",
      "WARNING:urllib3.connection:Certificate did not match expected hostname: www.genetics.org. Certificate: {'subject': ((('countryName', 'US'),), (('stateOrProvinceName', 'Virginia'),), (('localityName', 'Charlottesville'),), (('organizationName', 'Silverchair Science + Communications, LLC'),), (('commonName', '*.silverchair.com'),)), 'issuer': ((('countryName', 'US'),), (('organizationName', 'DigiCert Inc'),), (('commonName', 'DigiCert SHA2 Secure Server CA'),)), 'version': 3, 'serialNumber': '06D10F2525D58333212BD0A33E316877', 'notBefore': 'May 19 00:00:00 2020 GMT', 'notAfter': 'May 12 12:00:00 2022 GMT', 'subjectAltName': (('DNS', '*.silverchair.com'), ('DNS', 'silverchair.com'), ('DNS', 'gsw.contentapi.silverchair.com'), ('DNS', 'dup.contentapi.silverchair.com')), 'OCSP': ('http://ocsp.digicert.com',), 'caIssuers': ('http://cacerts.digicert.com/DigiCertSHA2SecureServerCA.crt',), 'crlDistributionPoints': ('http://crl3.digicert.com/ssca-sha2-g6.crl', 'http://crl4.digicert.com/ssca-sha2-g6.crl')}\n",
      "WARNING:urllib3.connection:Certificate did not match expected hostname: www.genetics.org. Certificate: {'subject': ((('countryName', 'US'),), (('stateOrProvinceName', 'Virginia'),), (('localityName', 'Charlottesville'),), (('organizationName', 'Silverchair Science + Communications, LLC'),), (('commonName', '*.silverchair.com'),)), 'issuer': ((('countryName', 'US'),), (('organizationName', 'DigiCert Inc'),), (('commonName', 'DigiCert SHA2 Secure Server CA'),)), 'version': 3, 'serialNumber': '06D10F2525D58333212BD0A33E316877', 'notBefore': 'May 19 00:00:00 2020 GMT', 'notAfter': 'May 12 12:00:00 2022 GMT', 'subjectAltName': (('DNS', '*.silverchair.com'), ('DNS', 'silverchair.com'), ('DNS', 'gsw.contentapi.silverchair.com'), ('DNS', 'dup.contentapi.silverchair.com')), 'OCSP': ('http://ocsp.digicert.com',), 'caIssuers': ('http://cacerts.digicert.com/DigiCertSHA2SecureServerCA.crt',), 'crlDistributionPoints': ('http://crl3.digicert.com/ssca-sha2-g6.crl', 'http://crl4.digicert.com/ssca-sha2-g6.crl')}\n",
      "WARNING:urllib3.connection:Certificate did not match expected hostname: www.genetics.org. Certificate: {'subject': ((('countryName', 'US'),), (('stateOrProvinceName', 'Virginia'),), (('localityName', 'Charlottesville'),), (('organizationName', 'Silverchair Science + Communications, LLC'),), (('commonName', '*.silverchair.com'),)), 'issuer': ((('countryName', 'US'),), (('organizationName', 'DigiCert Inc'),), (('commonName', 'DigiCert SHA2 Secure Server CA'),)), 'version': 3, 'serialNumber': '06D10F2525D58333212BD0A33E316877', 'notBefore': 'May 19 00:00:00 2020 GMT', 'notAfter': 'May 12 12:00:00 2022 GMT', 'subjectAltName': (('DNS', '*.silverchair.com'), ('DNS', 'silverchair.com'), ('DNS', 'gsw.contentapi.silverchair.com'), ('DNS', 'dup.contentapi.silverchair.com')), 'OCSP': ('http://ocsp.digicert.com',), 'caIssuers': ('http://cacerts.digicert.com/DigiCertSHA2SecureServerCA.crt',), 'crlDistributionPoints': ('http://crl3.digicert.com/ssca-sha2-g6.crl', 'http://crl4.digicert.com/ssca-sha2-g6.crl')}\n",
      "C:\\Users\\oguzk\\anaconda3\\lib\\site-packages\\pdfminer\\pdfpage.py:159: PDFTextExtractionNotAllowedWarning: The PDF <_io.BytesIO object at 0x00000252261473B0> contains a metadata field indicating that it should not allow text extraction. Ignoring this field and proceeding.\n",
      "  warnings.warn(warning_msg, PDFTextExtractionNotAllowedWarning)\n",
      "C:\\Users\\oguzk\\anaconda3\\lib\\site-packages\\pdfminer\\pdfpage.py:159: PDFTextExtractionNotAllowedWarning: The PDF <_io.BytesIO object at 0x0000025226147770> contains a metadata field indicating that it should not allow text extraction. Ignoring this field and proceeding.\n",
      "  warnings.warn(warning_msg, PDFTextExtractionNotAllowedWarning)\n",
      "C:\\Users\\oguzk\\anaconda3\\lib\\site-packages\\pdfminer\\pdfpage.py:159: PDFTextExtractionNotAllowedWarning: The PDF <_io.BytesIO object at 0x0000025211F46220> contains a metadata field indicating that it should not allow text extraction. Ignoring this field and proceeding.\n",
      "  warnings.warn(warning_msg, PDFTextExtractionNotAllowedWarning)\n",
      "C:\\Users\\oguzk\\anaconda3\\lib\\site-packages\\pdfminer\\pdfpage.py:159: PDFTextExtractionNotAllowedWarning: The PDF <_io.BytesIO object at 0x000002523C4A8B80> contains a metadata field indicating that it should not allow text extraction. Ignoring this field and proceeding.\n",
      "  warnings.warn(warning_msg, PDFTextExtractionNotAllowedWarning)\n",
      "C:\\Users\\oguzk\\anaconda3\\lib\\site-packages\\pdfminer\\pdfpage.py:159: PDFTextExtractionNotAllowedWarning: The PDF <_io.BytesIO object at 0x000002523C4A8C70> contains a metadata field indicating that it should not allow text extraction. Ignoring this field and proceeding.\n",
      "  warnings.warn(warning_msg, PDFTextExtractionNotAllowedWarning)\n",
      "C:\\Users\\oguzk\\anaconda3\\lib\\site-packages\\pdfminer\\pdfpage.py:159: PDFTextExtractionNotAllowedWarning: The PDF <_io.BytesIO object at 0x00000252261648B0> contains a metadata field indicating that it should not allow text extraction. Ignoring this field and proceeding.\n",
      "  warnings.warn(warning_msg, PDFTextExtractionNotAllowedWarning)\n",
      "C:\\Users\\oguzk\\anaconda3\\lib\\site-packages\\pdfminer\\pdfpage.py:159: PDFTextExtractionNotAllowedWarning: The PDF <_io.BytesIO object at 0x000002521D25ACC0> contains a metadata field indicating that it should not allow text extraction. Ignoring this field and proceeding.\n",
      "  warnings.warn(warning_msg, PDFTextExtractionNotAllowedWarning)\n",
      "C:\\Users\\oguzk\\anaconda3\\lib\\site-packages\\pdfminer\\pdfpage.py:159: PDFTextExtractionNotAllowedWarning: The PDF <_io.BytesIO object at 0x00000252366F41D0> contains a metadata field indicating that it should not allow text extraction. Ignoring this field and proceeding.\n",
      "  warnings.warn(warning_msg, PDFTextExtractionNotAllowedWarning)\n"
     ]
    },
    {
     "name": "stdout",
     "output_type": "stream",
     "text": [
      "15 loop ended, endtime: 2022-01-05 21:52:08.342722\n",
      "Starting loop 16, start time: 2022-01-05 21:52:08.354726\n"
     ]
    },
    {
     "name": "stderr",
     "output_type": "stream",
     "text": [
      "C:\\Users\\oguzk\\anaconda3\\lib\\site-packages\\pdfminer\\pdfpage.py:159: PDFTextExtractionNotAllowedWarning: The PDF <_io.BytesIO object at 0x000002521D24BE00> contains a metadata field indicating that it should not allow text extraction. Ignoring this field and proceeding.\n",
      "  warnings.warn(warning_msg, PDFTextExtractionNotAllowedWarning)\n",
      "WARNING:urllib3.connectionpool:Failed to parse headers (url=https://www.aimsciences.org:443/article/exportPdf?id=4fa961da-89b3-4fae-b5ea-d61f7b992d70): [NoBoundaryInMultipartDefect()], unparsed data: ''\n",
      "Traceback (most recent call last):\n",
      "  File \"C:\\Users\\oguzk\\anaconda3\\lib\\site-packages\\urllib3\\connectionpool.py\", line 465, in _make_request\n",
      "    assert_header_parsing(httplib_response.msg)\n",
      "  File \"C:\\Users\\oguzk\\anaconda3\\lib\\site-packages\\urllib3\\util\\response.py\", line 91, in assert_header_parsing\n",
      "    raise HeaderParsingError(defects=defects, unparsed_data=unparsed_data)\n",
      "urllib3.exceptions.HeaderParsingError: [NoBoundaryInMultipartDefect()], unparsed data: ''\n",
      "WARNING:urllib3.connectionpool:Failed to parse headers (url=https://www.aimsciences.org:443/article/exportPdf?id=9f999448-38f9-410e-be6f-3e10ce9f4cca): [NoBoundaryInMultipartDefect()], unparsed data: ''\n",
      "Traceback (most recent call last):\n",
      "  File \"C:\\Users\\oguzk\\anaconda3\\lib\\site-packages\\urllib3\\connectionpool.py\", line 465, in _make_request\n",
      "    assert_header_parsing(httplib_response.msg)\n",
      "  File \"C:\\Users\\oguzk\\anaconda3\\lib\\site-packages\\urllib3\\util\\response.py\", line 91, in assert_header_parsing\n",
      "    raise HeaderParsingError(defects=defects, unparsed_data=unparsed_data)\n",
      "urllib3.exceptions.HeaderParsingError: [NoBoundaryInMultipartDefect()], unparsed data: ''\n",
      "WARNING:urllib3.connection:Certificate did not match expected hostname: www.g3journal.org. Certificate: {'subject': ((('countryName', 'US'),), (('stateOrProvinceName', 'Virginia'),), (('localityName', 'Charlottesville'),), (('organizationName', 'Silverchair Science + Communications, LLC'),), (('commonName', '*.silverchair.com'),)), 'issuer': ((('countryName', 'US'),), (('organizationName', 'DigiCert Inc'),), (('commonName', 'DigiCert SHA2 Secure Server CA'),)), 'version': 3, 'serialNumber': '06D10F2525D58333212BD0A33E316877', 'notBefore': 'May 19 00:00:00 2020 GMT', 'notAfter': 'May 12 12:00:00 2022 GMT', 'subjectAltName': (('DNS', '*.silverchair.com'), ('DNS', 'silverchair.com'), ('DNS', 'gsw.contentapi.silverchair.com'), ('DNS', 'dup.contentapi.silverchair.com')), 'OCSP': ('http://ocsp.digicert.com',), 'caIssuers': ('http://cacerts.digicert.com/DigiCertSHA2SecureServerCA.crt',), 'crlDistributionPoints': ('http://crl3.digicert.com/ssca-sha2-g6.crl', 'http://crl4.digicert.com/ssca-sha2-g6.crl')}\n",
      "WARNING:urllib3.connection:Certificate did not match expected hostname: www.g3journal.org. Certificate: {'subject': ((('countryName', 'US'),), (('stateOrProvinceName', 'Virginia'),), (('localityName', 'Charlottesville'),), (('organizationName', 'Silverchair Science + Communications, LLC'),), (('commonName', '*.silverchair.com'),)), 'issuer': ((('countryName', 'US'),), (('organizationName', 'DigiCert Inc'),), (('commonName', 'DigiCert SHA2 Secure Server CA'),)), 'version': 3, 'serialNumber': '06D10F2525D58333212BD0A33E316877', 'notBefore': 'May 19 00:00:00 2020 GMT', 'notAfter': 'May 12 12:00:00 2022 GMT', 'subjectAltName': (('DNS', '*.silverchair.com'), ('DNS', 'silverchair.com'), ('DNS', 'gsw.contentapi.silverchair.com'), ('DNS', 'dup.contentapi.silverchair.com')), 'OCSP': ('http://ocsp.digicert.com',), 'caIssuers': ('http://cacerts.digicert.com/DigiCertSHA2SecureServerCA.crt',), 'crlDistributionPoints': ('http://crl3.digicert.com/ssca-sha2-g6.crl', 'http://crl4.digicert.com/ssca-sha2-g6.crl')}\n",
      "WARNING:urllib3.connectionpool:Failed to parse headers (url=https://www.aimsciences.org:443/article/exportPdf?id=e048f9d1-0a16-4eec-8ec7-95186809c7ba): [NoBoundaryInMultipartDefect()], unparsed data: ''\n",
      "Traceback (most recent call last):\n",
      "  File \"C:\\Users\\oguzk\\anaconda3\\lib\\site-packages\\urllib3\\connectionpool.py\", line 465, in _make_request\n",
      "    assert_header_parsing(httplib_response.msg)\n",
      "  File \"C:\\Users\\oguzk\\anaconda3\\lib\\site-packages\\urllib3\\util\\response.py\", line 91, in assert_header_parsing\n",
      "    raise HeaderParsingError(defects=defects, unparsed_data=unparsed_data)\n",
      "urllib3.exceptions.HeaderParsingError: [NoBoundaryInMultipartDefect()], unparsed data: ''\n",
      "WARNING:urllib3.connectionpool:Failed to parse headers (url=https://www.aimsciences.org:443/article/exportPdf?id=2467bdb7-4888-418b-999a-6a5e728f3f44): [NoBoundaryInMultipartDefect()], unparsed data: ''\n",
      "Traceback (most recent call last):\n",
      "  File \"C:\\Users\\oguzk\\anaconda3\\lib\\site-packages\\urllib3\\connectionpool.py\", line 465, in _make_request\n",
      "    assert_header_parsing(httplib_response.msg)\n",
      "  File \"C:\\Users\\oguzk\\anaconda3\\lib\\site-packages\\urllib3\\util\\response.py\", line 91, in assert_header_parsing\n",
      "    raise HeaderParsingError(defects=defects, unparsed_data=unparsed_data)\n",
      "urllib3.exceptions.HeaderParsingError: [NoBoundaryInMultipartDefect()], unparsed data: ''\n"
     ]
    },
    {
     "name": "stdout",
     "output_type": "stream",
     "text": [
      "16 loop ended, endtime: 2022-01-05 22:29:26.288340\n",
      "Starting loop 17, start time: 2022-01-05 22:29:26.289840\n"
     ]
    },
    {
     "name": "stderr",
     "output_type": "stream",
     "text": [
      "C:\\Users\\oguzk\\anaconda3\\lib\\site-packages\\pdfminer\\pdfpage.py:159: PDFTextExtractionNotAllowedWarning: The PDF <_io.BytesIO object at 0x000002523C0EF090> contains a metadata field indicating that it should not allow text extraction. Ignoring this field and proceeding.\n",
      "  warnings.warn(warning_msg, PDFTextExtractionNotAllowedWarning)\n",
      "C:\\Users\\oguzk\\anaconda3\\lib\\site-packages\\pdfminer\\pdfpage.py:159: PDFTextExtractionNotAllowedWarning: The PDF <_io.BytesIO object at 0x0000025237B3BEF0> contains a metadata field indicating that it should not allow text extraction. Ignoring this field and proceeding.\n",
      "  warnings.warn(warning_msg, PDFTextExtractionNotAllowedWarning)\n"
     ]
    },
    {
     "name": "stdout",
     "output_type": "stream",
     "text": [
      "17 loop ended, endtime: 2022-01-05 23:17:15.467609\n",
      "Starting loop 18, start time: 2022-01-05 23:17:15.478111\n"
     ]
    },
    {
     "name": "stderr",
     "output_type": "stream",
     "text": [
      "C:\\Users\\oguzk\\anaconda3\\lib\\site-packages\\pdfminer\\pdfpage.py:159: PDFTextExtractionNotAllowedWarning: The PDF <_io.BytesIO object at 0x000002523C040130> contains a metadata field indicating that it should not allow text extraction. Ignoring this field and proceeding.\n",
      "  warnings.warn(warning_msg, PDFTextExtractionNotAllowedWarning)\n",
      "C:\\Users\\oguzk\\anaconda3\\lib\\site-packages\\pdfminer\\pdfpage.py:159: PDFTextExtractionNotAllowedWarning: The PDF <_io.BytesIO object at 0x00000252376E7360> contains a metadata field indicating that it should not allow text extraction. Ignoring this field and proceeding.\n",
      "  warnings.warn(warning_msg, PDFTextExtractionNotAllowedWarning)\n"
     ]
    },
    {
     "name": "stdout",
     "output_type": "stream",
     "text": [
      "18 loop ended, endtime: 2022-01-05 23:37:26.913372\n"
     ]
    }
   ],
   "source": [
    "for k in range(int(Unpy_df.shape[0]/1000)+1):\n",
    "    start = k*1000\n",
    "    end = (k+1)*1000 \n",
    "    if k == 17:\n",
    "        doi_slice = Unpy_df[start:].index.tolist()\n",
    "    else:\n",
    "        doi_slice = Unpy_df[start:end].index.tolist()\n",
    "\n",
    "    unpy_sess = requests.Session()\n",
    "    unpy_sess.headers = {'User-Agent': 'Mozilla/5.0 (X11; Linux x86_64) AppleWebKit/537.11 (KHTML, like Gecko) Chrome/23.0.1271.64 Safari/537.11'}\n",
    "\n",
    "    now = datetime.now()\n",
    "    print(f\"Starting loop {k+1}, start time: {now}\")\n",
    "    Unpy_df.loc[doi_slice,\"Unpy_results\"] = Unpy_df.loc[doi_slice,\"Unpy_filter\"].map(lambda x:Unpy_dates(x,unpy_sess))\n",
    "    \n",
    "    now = datetime.now()\n",
    "    print(f\"{k+1} loop ended, endtime: {now}\")\n"
   ]
  },
  {
   "cell_type": "markdown",
   "metadata": {},
   "source": [
    "### Loop Finished"
   ]
  },
  {
   "cell_type": "code",
   "execution_count": 12,
   "metadata": {},
   "outputs": [
    {
     "name": "stdout",
     "output_type": "stream",
     "text": [
      "Stored 'Unpy_df' (DataFrame)\n"
     ]
    }
   ],
   "source": [
    "%store Unpy_df"
   ]
  },
  {
   "cell_type": "code",
   "execution_count": 45,
   "metadata": {},
   "outputs": [
    {
     "data": {
      "text/plain": [
       "<class 'NoneType'>    11461\n",
       "<class 'list'>         5966\n",
       "Name: Unpy_results, dtype: int64"
      ]
     },
     "execution_count": 45,
     "metadata": {},
     "output_type": "execute_result"
    }
   ],
   "source": [
    "# Analysing the full loop results\n",
    "Unpy_df.Unpy_results.map(type).value_counts()"
   ]
  },
  {
   "cell_type": "code",
   "execution_count": 38,
   "metadata": {},
   "outputs": [],
   "source": [
    "# Creating \"Unpy_one_fin\" to map the loop results & store as a seperate dataframe\n",
    "\n",
    "Unpy_one_fin = Unpy_df.copy()\n",
    "\n",
    "Unpy_one_fin.loc[Unpy_one_fin.Unpy_results.map(type)== list,\"OK_link\"] = Unpy_one_fin.loc[Unpy_one_fin.Unpy_results.map(type)== list,\"Unpy_results\"].map(lambda x: x[0])\n",
    "Unpy_one_fin.loc[Unpy_one_fin.Unpy_results.map(type)== list,\"Rec_date\"] = Unpy_one_fin.loc[Unpy_one_fin.Unpy_results.map(type)== list,\"Unpy_results\"].map(lambda x: x[1])\n",
    "Unpy_one_fin.loc[Unpy_one_fin.Unpy_results.map(type)== list,\"Acc_date\"] = Unpy_one_fin.loc[Unpy_one_fin.Unpy_results.map(type)== list,\"Unpy_results\"].map(lambda x: x[2])\n"
   ]
  },
  {
   "cell_type": "code",
   "execution_count": 46,
   "metadata": {},
   "outputs": [
    {
     "name": "stdout",
     "output_type": "stream",
     "text": [
      "Stored 'Unpy_one_fin' (DataFrame)\n"
     ]
    }
   ],
   "source": [
    "%store Unpy_one_fin"
   ]
  }
 ],
 "metadata": {
  "interpreter": {
   "hash": "92ba50c92c9dc11b366869717e90d544d23b7140e20708921d0ff91f276d2e3f"
  },
  "kernelspec": {
   "display_name": "Python 3.8.10 64-bit ('base': conda)",
   "language": "python",
   "name": "python3"
  },
  "language_info": {
   "codemirror_mode": {
    "name": "ipython",
    "version": 3
   },
   "file_extension": ".py",
   "mimetype": "text/x-python",
   "name": "python",
   "nbconvert_exporter": "python",
   "pygments_lexer": "ipython3",
   "version": "3.8.10"
  },
  "orig_nbformat": 4
 },
 "nbformat": 4,
 "nbformat_minor": 2
}
