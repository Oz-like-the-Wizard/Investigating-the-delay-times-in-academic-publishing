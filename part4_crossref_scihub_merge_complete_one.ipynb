{
 "cells": [
  {
   "cell_type": "code",
   "execution_count": 46,
   "metadata": {},
   "outputs": [],
   "source": [
    "import pickle\n",
    "from crossref.restful import Works, Etiquette\n",
    "import pandas as pd\n",
    "from scihub_upgraded import SciHub"
   ]
  },
  {
   "cell_type": "markdown",
   "metadata": {},
   "source": [
    "## Part 1: Creating the new meta_df from CrossRef"
   ]
  },
  {
   "cell_type": "code",
   "execution_count": 2,
   "metadata": {},
   "outputs": [],
   "source": [
    "with open(\"doilist\", \"rb\") as fp:\n",
    "    doi_list = pickle.load(fp)"
   ]
  },
  {
   "cell_type": "code",
   "execution_count": 3,
   "metadata": {},
   "outputs": [],
   "source": [
    "cet_list = doi_list[:20000]\n",
    "sum_list = doi_list[20000:40000]\n",
    "ogi_list = doi_list[40000:]"
   ]
  },
  {
   "cell_type": "code",
   "execution_count": 5,
   "metadata": {},
   "outputs": [],
   "source": [
    "my_etiquette = Etiquette('Analysing Publishing Delay in Academic Journals', 'v2.0', 'https://github.com/Spidey0023/THEsis-Codes', 'oguzkokes@gmail.com')"
   ]
  },
  {
   "cell_type": "code",
   "execution_count": 9,
   "metadata": {},
   "outputs": [],
   "source": [
    "ogi_works = Works(etiquette=my_etiquette)"
   ]
  },
  {
   "cell_type": "code",
   "execution_count": 10,
   "metadata": {},
   "outputs": [],
   "source": [
    "meta_dict = []\n",
    "for doi in ogi_list:\n",
    "        meta_dict.append(ogi_works.doi(doi))"
   ]
  },
  {
   "cell_type": "code",
   "execution_count": 11,
   "metadata": {},
   "outputs": [
    {
     "data": {
      "text/plain": [
       "24119"
      ]
     },
     "execution_count": 11,
     "metadata": {},
     "output_type": "execute_result"
    }
   ],
   "source": [
    "len(meta_dict)"
   ]
  },
  {
   "cell_type": "code",
   "execution_count": 12,
   "metadata": {},
   "outputs": [],
   "source": [
    "with open(\"ogi_dict\",\"wb\") as fp:\n",
    "    pickle.dump(meta_dict, fp)"
   ]
  },
  {
   "cell_type": "code",
   "execution_count": 13,
   "metadata": {},
   "outputs": [],
   "source": [
    "meta_df = pd.DataFrame(meta_dict)"
   ]
  },
  {
   "cell_type": "code",
   "execution_count": 17,
   "metadata": {},
   "outputs": [
    {
     "name": "stdout",
     "output_type": "stream",
     "text": [
      "Stored 'meta_df' (DataFrame)\n"
     ]
    }
   ],
   "source": [
    "%store meta_df"
   ]
  },
  {
   "cell_type": "code",
   "execution_count": 14,
   "metadata": {},
   "outputs": [],
   "source": [
    "meta_df.to_csv(\"ogi_meta.csv\")"
   ]
  },
  {
   "cell_type": "code",
   "execution_count": 31,
   "metadata": {},
   "outputs": [
    {
     "data": {
      "text/plain": [
       "Index(['indexed', 'reference-count', 'publisher', 'issue', 'content-domain',\n",
       "       'short-container-title', 'published-print', 'DOI', 'type', 'created',\n",
       "       'page', 'source', 'is-referenced-by-count', 'title', 'prefix', 'volume',\n",
       "       'author', 'member', 'container-title', 'original-title', 'language',\n",
       "       'deposited', 'score', 'subtitle', 'short-title', 'issued',\n",
       "       'references-count', 'journal-issue', 'URL', 'relation', 'ISSN',\n",
       "       'issn-type', 'subject', 'published', 'license', 'abstract',\n",
       "       'update-policy', 'published-online', 'reference', 'link',\n",
       "       'alternative-id', 'update-to', 'funder', 'published-other', 'archive',\n",
       "       'assertion', 'article-number', 'editor', 'translator', 'accepted',\n",
       "       'clinical-trial-number'],\n",
       "      dtype='object')"
      ]
     },
     "execution_count": 31,
     "metadata": {},
     "output_type": "execute_result"
    }
   ],
   "source": [
    "meta_df.columns"
   ]
  },
  {
   "cell_type": "markdown",
   "metadata": {},
   "source": [
    "Thanks to Ceto & Summan, CrossRef meta_df extraction was completed in just 3 hours. \n",
    "\n",
    "The dataset can now be merged (pd.concat) and then analysed. The final aim is to match ISSN & DOI and identiy the \"OK date\"d journals.\n",
    "\n",
    "Then the plan is to: \n",
    "\n",
    "1) Second chance to all CR_failed and date_failed journals.\n",
    "\n",
    "2) Finalize the journal pool for Q1 journals\n",
    "\n",
    "3) Calculate the sample count for OK journals.\n",
    "\n",
    "4) Create a new pipeline for CR meta and SciHub date extraction\n",
    "\n",
    "5) Create the 100K Q1 article dataset\n",
    "\n",
    "6) Analyse the dateset,\n",
    "\n",
    "7) Repeat the data extraction processes for Q2-4 journals\n",
    "\n",
    "8) Create a \"custom\" dataset for all Q1-4 journals\n",
    "\n",
    "9) Repeat the analysis for the all Q's dataset\n",
    "\n",
    "10) Write two articles for one dataset each\n",
    "\n",
    "11) PROFIT!"
   ]
  },
  {
   "cell_type": "markdown",
   "metadata": {},
   "source": [
    "## Part 2: Analysing meta_df"
   ]
  },
  {
   "cell_type": "code",
   "execution_count": 3,
   "metadata": {},
   "outputs": [],
   "source": [
    "with open(\"ceto_dict\", \"rb\") as fp:\n",
    "    ceto_meta = pickle.load(fp)"
   ]
  },
  {
   "cell_type": "code",
   "execution_count": 4,
   "metadata": {},
   "outputs": [],
   "source": [
    "with open(\"sum_dict\", \"rb\") as fp:\n",
    "    sum_meta = pickle.load(fp)"
   ]
  },
  {
   "cell_type": "code",
   "execution_count": 7,
   "metadata": {},
   "outputs": [],
   "source": [
    "with open(\"ogi_dict\", \"rb\") as fp:\n",
    "    ogi_meta = pickle.load(fp)"
   ]
  },
  {
   "cell_type": "code",
   "execution_count": 8,
   "metadata": {},
   "outputs": [],
   "source": [
    "ceto_df = pd.DataFrame(ceto_meta)\n",
    "sum_df = pd.DataFrame(sum_meta)\n",
    "ogi_df = pd.DataFrame(ogi_meta)"
   ]
  },
  {
   "cell_type": "code",
   "execution_count": 9,
   "metadata": {},
   "outputs": [
    {
     "data": {
      "text/plain": [
       "(20000, 51)"
      ]
     },
     "execution_count": 9,
     "metadata": {},
     "output_type": "execute_result"
    }
   ],
   "source": [
    "ceto_df.shape"
   ]
  },
  {
   "cell_type": "code",
   "execution_count": 10,
   "metadata": {},
   "outputs": [
    {
     "data": {
      "text/plain": [
       "(20000, 50)"
      ]
     },
     "execution_count": 10,
     "metadata": {},
     "output_type": "execute_result"
    }
   ],
   "source": [
    "sum_df.shape"
   ]
  },
  {
   "cell_type": "code",
   "execution_count": 11,
   "metadata": {},
   "outputs": [
    {
     "data": {
      "text/plain": [
       "(24119, 51)"
      ]
     },
     "execution_count": 11,
     "metadata": {},
     "output_type": "execute_result"
    }
   ],
   "source": [
    "ogi_df.shape"
   ]
  },
  {
   "cell_type": "code",
   "execution_count": 13,
   "metadata": {},
   "outputs": [],
   "source": [
    "meta_df = pd.concat([ceto_df,sum_df, ogi_df], ignore_index=True)"
   ]
  },
  {
   "cell_type": "code",
   "execution_count": 14,
   "metadata": {},
   "outputs": [
    {
     "data": {
      "text/plain": [
       "(64119, 51)"
      ]
     },
     "execution_count": 14,
     "metadata": {},
     "output_type": "execute_result"
    }
   ],
   "source": [
    "meta_df.shape"
   ]
  },
  {
   "cell_type": "code",
   "execution_count": 73,
   "metadata": {},
   "outputs": [
    {
     "data": {
      "text/plain": [
       "0      {'date-parts': [[2010, 9, 17]]}\n",
       "1       {'date-parts': [[2011, 6, 1]]}\n",
       "2      {'date-parts': [[2012, 4, 23]]}\n",
       "3       {'date-parts': [[2013, 3, 6]]}\n",
       "4      {'date-parts': [[2014, 9, 16]]}\n",
       "5      {'date-parts': [[2015, 5, 20]]}\n",
       "6       {'date-parts': [[2016, 6, 7]]}\n",
       "7     {'date-parts': [[2017, 11, 20]]}\n",
       "8      {'date-parts': [[2018, 9, 21]]}\n",
       "9      {'date-parts': [[2019, 10, 8]]}\n",
       "10      {'date-parts': [[2020, 3, 5]]}\n",
       "Name: published, dtype: object"
      ]
     },
     "execution_count": 73,
     "metadata": {},
     "output_type": "execute_result"
    }
   ],
   "source": [
    "meta_df.loc[0:10,'published']"
   ]
  },
  {
   "cell_type": "code",
   "execution_count": 74,
   "metadata": {},
   "outputs": [
    {
     "data": {
      "text/plain": [
       "1    64119\n",
       "Name: published, dtype: int64"
      ]
     },
     "execution_count": 74,
     "metadata": {},
     "output_type": "execute_result"
    }
   ],
   "source": [
    "meta_df['published'].map(len).value_counts()"
   ]
  },
  {
   "cell_type": "code",
   "execution_count": 69,
   "metadata": {},
   "outputs": [
    {
     "data": {
      "text/plain": [
       "85       {'has-review': [{'id-type': 'doi', 'id': '10.3...\n",
       "86       {'has-review': [{'id-type': 'doi', 'id': '10.3...\n",
       "90       {'has-preprint': [{'id-type': 'doi', 'id': '10...\n",
       "136      {'has-preprint': [{'id-type': 'doi', 'id': '10...\n",
       "249      {'is-translation-of': [{'id-type': 'doi', 'id'...\n",
       "                               ...                        \n",
       "63876    {'has-preprint': [{'id-type': 'doi', 'id': '10...\n",
       "63948    {'has-review': [{'id-type': 'doi', 'id': '10.2...\n",
       "63949    {'has-review': [{'id-type': 'doi', 'id': '10.2...\n",
       "63963    {'has-preprint': [{'id-type': 'doi', 'id': '10...\n",
       "64031    {'has-review': [{'id-type': 'doi', 'id': '10.3...\n",
       "Name: relation, Length: 376, dtype: object"
      ]
     },
     "execution_count": 69,
     "metadata": {},
     "output_type": "execute_result"
    }
   ],
   "source": [
    "meta_df['relation'][meta_df['relation'].map(len)==1]"
   ]
  },
  {
   "cell_type": "code",
   "execution_count": 56,
   "metadata": {},
   "outputs": [
    {
     "data": {
      "text/plain": [
       "{'date-parts': [[2021, 6, 30]],\n",
       " 'date-time': '2021-06-30T03:23:21Z',\n",
       " 'timestamp': 1625023401000}"
      ]
     },
     "execution_count": 56,
     "metadata": {},
     "output_type": "execute_result"
    }
   ],
   "source": [
    "meta_df.loc[10,'deposited']"
   ]
  },
  {
   "cell_type": "code",
   "execution_count": 58,
   "metadata": {},
   "outputs": [
    {
     "data": {
      "text/plain": [
       "1    64119\n",
       "Name: score, dtype: int64"
      ]
     },
     "execution_count": 58,
     "metadata": {},
     "output_type": "execute_result"
    }
   ],
   "source": [
    "meta_df['score'].value_counts()"
   ]
  },
  {
   "cell_type": "code",
   "execution_count": 21,
   "metadata": {},
   "outputs": [
    {
     "data": {
      "text/plain": [
       "Index(['indexed', 'reference-count', 'publisher', 'issue', 'license',\n",
       "       'content-domain', 'short-container-title', 'published-print', 'DOI',\n",
       "       'type', 'created', 'page', 'source', 'is-referenced-by-count', 'title',\n",
       "       'prefix', 'volume', 'author', 'member', 'published-online', 'reference',\n",
       "       'container-title', 'original-title', 'language', 'link', 'deposited',\n",
       "       'score', 'subtitle', 'short-title', 'issued', 'references-count',\n",
       "       'journal-issue', 'URL', 'relation', 'ISSN', 'issn-type', 'subject',\n",
       "       'published', 'funder', 'archive', 'alternative-id', 'update-policy',\n",
       "       'assertion', 'abstract', 'update-to', 'article-number',\n",
       "       'published-other', 'clinical-trial-number', 'editor', 'accepted',\n",
       "       'translator'],\n",
       "      dtype='object')"
      ]
     },
     "execution_count": 21,
     "metadata": {},
     "output_type": "execute_result"
    }
   ],
   "source": [
    "meta_df.columns"
   ]
  },
  {
   "cell_type": "code",
   "execution_count": 75,
   "metadata": {},
   "outputs": [],
   "source": [
    "meta_df_col_keep = ['reference-count', 'publisher','published-print','DOI','is-referenced-by-count', 'title','author','published-online', 'reference',\n",
    "'container-title', 'language','issued', 'references-count','ISSN', 'subject', 'published']\n",
    "\n",
    "meta_df_col_drop = ['indexed',  'issue', 'license', 'content-domain', 'short-container-title',  \n",
    "       'type', 'created', 'page', 'source', 'prefix', 'volume', 'member', \n",
    "       'original-title', 'link', 'deposited', 'score', 'subtitle', 'short-title',\n",
    "       'journal-issue', 'URL', 'relation', 'issn-type', \n",
    "       'funder', 'archive', 'alternative-id', 'update-policy',\n",
    "       'assertion', 'abstract', 'update-to', 'article-number',\n",
    "       'published-other', 'clinical-trial-number', 'editor', 'accepted',\n",
    "       'translator']"
   ]
  },
  {
   "cell_type": "code",
   "execution_count": 132,
   "metadata": {},
   "outputs": [],
   "source": [
    "meta_df[\"references-count\"].equals(meta_df[\"reference-count\"])\n",
    "\n",
    "meta_df.drop(\"references-count\",axis=1, inplace=True)"
   ]
  },
  {
   "cell_type": "code",
   "execution_count": 76,
   "metadata": {},
   "outputs": [
    {
     "name": "stdout",
     "output_type": "stream",
     "text": [
      "Stored 'meta_df_full' (DataFrame)\n"
     ]
    }
   ],
   "source": [
    "meta_df_full = meta_df.copy()\n",
    "\n",
    "%store meta_df_full"
   ]
  },
  {
   "cell_type": "code",
   "execution_count": 133,
   "metadata": {},
   "outputs": [
    {
     "name": "stdout",
     "output_type": "stream",
     "text": [
      "Stored 'meta_df' (DataFrame)\n"
     ]
    }
   ],
   "source": [
    "#meta_df.drop(meta_df_col_drop, axis=1, inplace=True)\n",
    "\n",
    "%store meta_df\n",
    "\n",
    "meta_df.to_csv(\"meta_df.csv\")"
   ]
  },
  {
   "cell_type": "code",
   "execution_count": null,
   "metadata": {},
   "outputs": [],
   "source": [
    "%store -r meta_df\n",
    "\n",
    "%store -r retr_complete_one\n",
    "\n",
    "%store -r sh_comp_one_df\n",
    "%store -r unpy_comp_one_df"
   ]
  },
  {
   "cell_type": "code",
   "execution_count": 137,
   "metadata": {},
   "outputs": [],
   "source": [
    "retr_complete_one.loc[retr_complete_one.Issn.map(type)==str,\"Issn\"] = retr_complete_one.loc[retr_complete_one.Issn.map(type)==str,\"Issn\"].map(lambda x: [x])\n",
    "retr_complete_one[\"Year\"] =  retr_complete_one.Year.astype(int)\n",
    "\n",
    "meta_df[\"ISSN\"] = meta_df.ISSN.map(lambda x: [iss.replace(\"-\",\"\") for iss in x])\n",
    "meta_df[\"Year\"] = meta_df.published.map(lambda x: x[\"date-parts\"][0][0])"
   ]
  },
  {
   "cell_type": "code",
   "execution_count": 150,
   "metadata": {},
   "outputs": [
    {
     "data": {
      "text/plain": [
       "2    42356\n",
       "1    21698\n",
       "3       65\n",
       "Name: ISSN, dtype: int64"
      ]
     },
     "execution_count": 150,
     "metadata": {},
     "output_type": "execute_result"
    }
   ],
   "source": [
    "meta_df.ISSN.map(len).value_counts()"
   ]
  },
  {
   "cell_type": "code",
   "execution_count": 151,
   "metadata": {},
   "outputs": [
    {
     "data": {
      "text/plain": [
       "1    57454\n",
       "2    16917\n",
       "3       50\n",
       "Name: Issn, dtype: int64"
      ]
     },
     "execution_count": 151,
     "metadata": {},
     "output_type": "execute_result"
    }
   ],
   "source": [
    "retr_complete_one.Issn.map(len).value_counts()"
   ]
  },
  {
   "cell_type": "code",
   "execution_count": 167,
   "metadata": {},
   "outputs": [],
   "source": [
    "def doi_retr(retrrow, artcldf):\n",
    "    issn = retrrow.Issn\n",
    "    year = retrrow.Year\n",
    "    doi = artcldf[(artcldf.ISSN.map(lambda x: any(iss in x for iss in issn))) & (artcldf.Year == year)][\"DOI\"].tolist()\n",
    "    return doi\n"
   ]
  },
  {
   "cell_type": "code",
   "execution_count": 168,
   "metadata": {},
   "outputs": [],
   "source": [
    "doi_retr_trial2 = retr_complete_one.apply(lambda x: doi_retr(x,meta_df), axis=1, result_type=\"reduce\")"
   ]
  },
  {
   "cell_type": "code",
   "execution_count": 171,
   "metadata": {},
   "outputs": [
    {
     "data": {
      "text/plain": [
       "1    64076\n",
       "0    10329\n",
       "2       16\n",
       "dtype: int64"
      ]
     },
     "execution_count": 171,
     "metadata": {},
     "output_type": "execute_result"
    }
   ],
   "source": [
    "doi_retr_trial2.map(len).value_counts()"
   ]
  },
  {
   "cell_type": "code",
   "execution_count": 177,
   "metadata": {},
   "outputs": [],
   "source": [
    "retr_complete_one[\"DOI\"] = doi_retr_trial2"
   ]
  },
  {
   "cell_type": "code",
   "execution_count": 179,
   "metadata": {},
   "outputs": [
    {
     "name": "stdout",
     "output_type": "stream",
     "text": [
      "Stored 'retr_complete_one' (DataFrame)\n"
     ]
    }
   ],
   "source": [
    "%store retr_complete_one"
   ]
  },
  {
   "cell_type": "code",
   "execution_count": 180,
   "metadata": {},
   "outputs": [],
   "source": [
    "retr_complete_one.to_csv(\"retr_complete_one.csv\")"
   ]
  },
  {
   "cell_type": "code",
   "execution_count": 178,
   "metadata": {},
   "outputs": [
    {
     "data": {
      "text/html": [
       "<div>\n",
       "<style scoped>\n",
       "    .dataframe tbody tr th:only-of-type {\n",
       "        vertical-align: middle;\n",
       "    }\n",
       "\n",
       "    .dataframe tbody tr th {\n",
       "        vertical-align: top;\n",
       "    }\n",
       "\n",
       "    .dataframe thead th {\n",
       "        text-align: right;\n",
       "    }\n",
       "</style>\n",
       "<table border=\"1\" class=\"dataframe\">\n",
       "  <thead>\n",
       "    <tr style=\"text-align: right;\">\n",
       "      <th></th>\n",
       "      <th>Issn</th>\n",
       "      <th>Year</th>\n",
       "      <th>Total_Docs</th>\n",
       "      <th>Sample_Count</th>\n",
       "      <th>CrossRef_retr</th>\n",
       "      <th>DOI</th>\n",
       "    </tr>\n",
       "  </thead>\n",
       "  <tbody>\n",
       "    <tr>\n",
       "      <th>0</th>\n",
       "      <td>[00011541]</td>\n",
       "      <td>2010</td>\n",
       "      <td>294</td>\n",
       "      <td>1</td>\n",
       "      <td>True</td>\n",
       "      <td>[10.1002/aic.12400]</td>\n",
       "    </tr>\n",
       "    <tr>\n",
       "      <th>1</th>\n",
       "      <td>[00011541]</td>\n",
       "      <td>2011</td>\n",
       "      <td>315</td>\n",
       "      <td>1</td>\n",
       "      <td>True</td>\n",
       "      <td>[10.1002/aic.12671]</td>\n",
       "    </tr>\n",
       "    <tr>\n",
       "      <th>2</th>\n",
       "      <td>[00011541]</td>\n",
       "      <td>2012</td>\n",
       "      <td>347</td>\n",
       "      <td>1</td>\n",
       "      <td>True</td>\n",
       "      <td>[10.1002/aic.13810]</td>\n",
       "    </tr>\n",
       "    <tr>\n",
       "      <th>3</th>\n",
       "      <td>[00011541]</td>\n",
       "      <td>2013</td>\n",
       "      <td>422</td>\n",
       "      <td>1</td>\n",
       "      <td>True</td>\n",
       "      <td>[10.1002/aic.14056]</td>\n",
       "    </tr>\n",
       "    <tr>\n",
       "      <th>4</th>\n",
       "      <td>[00011541]</td>\n",
       "      <td>2014</td>\n",
       "      <td>359</td>\n",
       "      <td>1</td>\n",
       "      <td>True</td>\n",
       "      <td>[10.1002/aic.14601]</td>\n",
       "    </tr>\n",
       "    <tr>\n",
       "      <th>...</th>\n",
       "      <td>...</td>\n",
       "      <td>...</td>\n",
       "      <td>...</td>\n",
       "      <td>...</td>\n",
       "      <td>...</td>\n",
       "      <td>...</td>\n",
       "    </tr>\n",
       "    <tr>\n",
       "      <th>74416</th>\n",
       "      <td>[8756758X,  14602695]</td>\n",
       "      <td>2017</td>\n",
       "      <td>170</td>\n",
       "      <td>1</td>\n",
       "      <td>True</td>\n",
       "      <td>[10.1111/ffe.12617]</td>\n",
       "    </tr>\n",
       "    <tr>\n",
       "      <th>74417</th>\n",
       "      <td>[8756758X,  14602695]</td>\n",
       "      <td>2018</td>\n",
       "      <td>199</td>\n",
       "      <td>1</td>\n",
       "      <td>True</td>\n",
       "      <td>[10.1111/ffe.12803]</td>\n",
       "    </tr>\n",
       "    <tr>\n",
       "      <th>74418</th>\n",
       "      <td>[8756758X,  14602695]</td>\n",
       "      <td>2019</td>\n",
       "      <td>210</td>\n",
       "      <td>1</td>\n",
       "      <td>True</td>\n",
       "      <td>[10.1111/ffe.13083]</td>\n",
       "    </tr>\n",
       "    <tr>\n",
       "      <th>74419</th>\n",
       "      <td>[8756758X,  14602695]</td>\n",
       "      <td>2020</td>\n",
       "      <td>221</td>\n",
       "      <td>1</td>\n",
       "      <td>True</td>\n",
       "      <td>[10.1111/ffe.13260]</td>\n",
       "    </tr>\n",
       "    <tr>\n",
       "      <th>74420</th>\n",
       "      <td>[8756971X,  19436270]</td>\n",
       "      <td>2010</td>\n",
       "      <td>69</td>\n",
       "      <td>1</td>\n",
       "      <td>True</td>\n",
       "      <td>[10.2987/10-5993.1]</td>\n",
       "    </tr>\n",
       "  </tbody>\n",
       "</table>\n",
       "<p>74421 rows × 6 columns</p>\n",
       "</div>"
      ],
      "text/plain": [
       "                        Issn  Year  Total_Docs  Sample_Count CrossRef_retr  \\\n",
       "0                 [00011541]  2010         294             1          True   \n",
       "1                 [00011541]  2011         315             1          True   \n",
       "2                 [00011541]  2012         347             1          True   \n",
       "3                 [00011541]  2013         422             1          True   \n",
       "4                 [00011541]  2014         359             1          True   \n",
       "...                      ...   ...         ...           ...           ...   \n",
       "74416  [8756758X,  14602695]  2017         170             1          True   \n",
       "74417  [8756758X,  14602695]  2018         199             1          True   \n",
       "74418  [8756758X,  14602695]  2019         210             1          True   \n",
       "74419  [8756758X,  14602695]  2020         221             1          True   \n",
       "74420  [8756971X,  19436270]  2010          69             1          True   \n",
       "\n",
       "                       DOI  \n",
       "0      [10.1002/aic.12400]  \n",
       "1      [10.1002/aic.12671]  \n",
       "2      [10.1002/aic.13810]  \n",
       "3      [10.1002/aic.14056]  \n",
       "4      [10.1002/aic.14601]  \n",
       "...                    ...  \n",
       "74416  [10.1111/ffe.12617]  \n",
       "74417  [10.1111/ffe.12803]  \n",
       "74418  [10.1111/ffe.13083]  \n",
       "74419  [10.1111/ffe.13260]  \n",
       "74420  [10.2987/10-5993.1]  \n",
       "\n",
       "[74421 rows x 6 columns]"
      ]
     },
     "execution_count": 178,
     "metadata": {},
     "output_type": "execute_result"
    }
   ],
   "source": [
    "retr_complete_one"
   ]
  },
  {
   "cell_type": "code",
   "execution_count": 172,
   "metadata": {},
   "outputs": [
    {
     "data": {
      "text/plain": [
       "(64119, 16)"
      ]
     },
     "execution_count": 172,
     "metadata": {},
     "output_type": "execute_result"
    }
   ],
   "source": [
    "meta_df.shape"
   ]
  },
  {
   "cell_type": "markdown",
   "metadata": {},
   "source": [
    "## Part 3: Small Adjustments on meta_df"
   ]
  },
  {
   "cell_type": "markdown",
   "metadata": {},
   "source": [
    "As can be seen from below, the new meta_df performed well above expectations, however there are still a small number of manual DOI matching necessary, as well as some \"double\" articles per journal.\n",
    "\n",
    "In this step meta_df will be finalized so that the one last run for all fails can be made. These fails include:\n",
    "\n",
    "1- No article DOI info from CrossRef\n",
    "2- Failed metadata from Unpywall API (now replaced with CR Rest API)\n",
    "3- \"cant_read_pdf\" error (PDF Miner)\n",
    "4- cant find dates(a final chance for each ISSN-year pairing)\n",
    "\n",
    "To do this:\n",
    "\n",
    "    1- meta_df needs to have exactly 64,119 DOIs - DONE!\n",
    "\n",
    "    2- Pull new articles + DOIs for each failed (10k new articles) -> CrossRef run\n",
    "\n",
    "    3- Find & scrape PDFs for each -> scihub_upgraded\n",
    "\n",
    "    4- Compare & merge results -> retr_complete_one\n",
    "\n"
   ]
  },
  {
   "cell_type": "code",
   "execution_count": 3,
   "metadata": {},
   "outputs": [],
   "source": [
    "%store -r meta_df\n",
    "%store -r retr_complete_one"
   ]
  },
  {
   "cell_type": "code",
   "execution_count": 20,
   "metadata": {},
   "outputs": [],
   "source": [
    "meta_dois = meta_df.DOI.tolist()\n",
    "\n",
    "retr_OK_dois = [val for sublist in retr_complete_one.DOI.tolist() for val in sublist]\n",
    "\n",
    "unmacthed_dois = set(meta_dois).difference(retr_OK_dois)\n"
   ]
  },
  {
   "cell_type": "code",
   "execution_count": 44,
   "metadata": {},
   "outputs": [
    {
     "data": {
      "text/plain": [
       "64119"
      ]
     },
     "execution_count": 44,
     "metadata": {},
     "output_type": "execute_result"
    }
   ],
   "source": [
    "# This is the final number of DOIs we want to reach in retr_comp_one[\"doi\"] column:\n",
    "len(meta_dois)"
   ]
  },
  {
   "cell_type": "code",
   "execution_count": 25,
   "metadata": {},
   "outputs": [
    {
     "data": {
      "text/plain": [
       "1    64076\n",
       "0    10329\n",
       "2       16\n",
       "Name: DOI, dtype: int64"
      ]
     },
     "execution_count": 25,
     "metadata": {},
     "output_type": "execute_result"
    }
   ],
   "source": [
    "#The current situation:\n",
    "retr_complete_one.DOI.map(len).value_counts()"
   ]
  },
  {
   "cell_type": "code",
   "execution_count": 24,
   "metadata": {},
   "outputs": [
    {
     "name": "stdout",
     "output_type": "stream",
     "text": [
      "Total unmatched: 23\n"
     ]
    }
   ],
   "source": [
    "print(f\"Total unmatched: {len(unmacthed_dois)}\")"
   ]
  },
  {
   "cell_type": "markdown",
   "metadata": {},
   "source": [
    "So, we need to deal with:\n",
    "\n",
    "* Duplicate DOIs in retr_ (16) +4   FIXED!\n",
    "* Unmatched DOIs (23) FIXED!\n",
    "* Jrnls with CR_retr == True but doi == 0 (76?) FIXED!\n",
    "* Unpy missing & failed articles (49) FIXED!\n"
   ]
  },
  {
   "cell_type": "code",
   "execution_count": 55,
   "metadata": {},
   "outputs": [],
   "source": [
    "duplicate_doi_retr = retr_complete_one.copy()"
   ]
  },
  {
   "cell_type": "code",
   "execution_count": 130,
   "metadata": {},
   "outputs": [
    {
     "data": {
      "text/html": [
       "<div>\n",
       "<style scoped>\n",
       "    .dataframe tbody tr th:only-of-type {\n",
       "        vertical-align: middle;\n",
       "    }\n",
       "\n",
       "    .dataframe tbody tr th {\n",
       "        vertical-align: top;\n",
       "    }\n",
       "\n",
       "    .dataframe thead th {\n",
       "        text-align: right;\n",
       "    }\n",
       "</style>\n",
       "<table border=\"1\" class=\"dataframe\">\n",
       "  <thead>\n",
       "    <tr style=\"text-align: right;\">\n",
       "      <th></th>\n",
       "      <th>Issn</th>\n",
       "      <th>Year</th>\n",
       "      <th>Total_Docs</th>\n",
       "      <th>Sample_Count</th>\n",
       "      <th>CrossRef_retr</th>\n",
       "      <th>DOI</th>\n",
       "    </tr>\n",
       "  </thead>\n",
       "  <tbody>\n",
       "  </tbody>\n",
       "</table>\n",
       "</div>"
      ],
      "text/plain": [
       "Empty DataFrame\n",
       "Columns: [Issn, Year, Total_Docs, Sample_Count, CrossRef_retr, DOI]\n",
       "Index: []"
      ]
     },
     "execution_count": 130,
     "metadata": {},
     "output_type": "execute_result"
    }
   ],
   "source": [
    "#1 Duplicate DOIs:\n",
    "duplicate_doi_retr[duplicate_doi_retr.DOI.map(len)==2]"
   ]
  },
  {
   "cell_type": "code",
   "execution_count": 112,
   "metadata": {},
   "outputs": [
    {
     "data": {
      "text/plain": [
       "['10.1080/00210862.2014.881083', '10.1080/00210862.2014.1000629']"
      ]
     },
     "execution_count": 112,
     "metadata": {},
     "output_type": "execute_result"
    }
   ],
   "source": [
    "#duplicate_doi_retr[duplicate_doi_retr.Issn.map(lambda x: \"3502\" in x)]\n",
    "\n",
    "duplicate_doi_retr.loc[3502,\"DOI\"]\n",
    "duplicate_doi_retr.loc[10173,\"DOI\"]\n",
    "duplicate_doi_retr.loc[5363,\"DOI\"] = [duplicate_doi_retr.loc[5364,\"DOI\"][0]]\n",
    "duplicate_doi_retr.loc[5364,\"DOI\"] = [duplicate_doi_retr.loc[5364,\"DOI\"][1]]\n"
   ]
  },
  {
   "cell_type": "code",
   "execution_count": 61,
   "metadata": {},
   "outputs": [
    {
     "data": {
      "text/plain": [
       "['10.1093/neuros/nyx039']"
      ]
     },
     "execution_count": 61,
     "metadata": {},
     "output_type": "execute_result"
    }
   ],
   "source": [
    "[duplicate_doi_retr.loc[43482,\"DOI\"][0]]"
   ]
  },
  {
   "cell_type": "code",
   "execution_count": 208,
   "metadata": {},
   "outputs": [],
   "source": [
    "# Convert back to List:\n",
    "duplicate_doi_retr.loc[duplicate_doi_retr.DOI.map(type)==str,\"DOI\"] = duplicate_doi_retr.loc[duplicate_doi_retr.DOI.map(type)==str,\"DOI\"].map(lambda x: [x])"
   ]
  },
  {
   "cell_type": "code",
   "execution_count": 212,
   "metadata": {},
   "outputs": [
    {
     "data": {
      "text/html": [
       "<div>\n",
       "<style scoped>\n",
       "    .dataframe tbody tr th:only-of-type {\n",
       "        vertical-align: middle;\n",
       "    }\n",
       "\n",
       "    .dataframe tbody tr th {\n",
       "        vertical-align: top;\n",
       "    }\n",
       "\n",
       "    .dataframe thead th {\n",
       "        text-align: right;\n",
       "    }\n",
       "</style>\n",
       "<table border=\"1\" class=\"dataframe\">\n",
       "  <thead>\n",
       "    <tr style=\"text-align: right;\">\n",
       "      <th></th>\n",
       "      <th>Issn</th>\n",
       "      <th>Year</th>\n",
       "      <th>Total_Docs</th>\n",
       "      <th>Sample_Count</th>\n",
       "      <th>CrossRef_retr</th>\n",
       "      <th>DOI</th>\n",
       "    </tr>\n",
       "  </thead>\n",
       "  <tbody>\n",
       "    <tr>\n",
       "      <th>43576</th>\n",
       "      <td>[15251403]</td>\n",
       "      <td>2011</td>\n",
       "      <td>208</td>\n",
       "      <td>1</td>\n",
       "      <td>False</td>\n",
       "      <td>[]</td>\n",
       "    </tr>\n",
       "    <tr>\n",
       "      <th>43577</th>\n",
       "      <td>[15251403]</td>\n",
       "      <td>2014</td>\n",
       "      <td>294</td>\n",
       "      <td>1</td>\n",
       "      <td>False</td>\n",
       "      <td>[]</td>\n",
       "    </tr>\n",
       "    <tr>\n",
       "      <th>43578</th>\n",
       "      <td>[15251403]</td>\n",
       "      <td>2015</td>\n",
       "      <td>275</td>\n",
       "      <td>1</td>\n",
       "      <td>True</td>\n",
       "      <td>[10.1111/ner.12267]</td>\n",
       "    </tr>\n",
       "    <tr>\n",
       "      <th>43579</th>\n",
       "      <td>[15251403]</td>\n",
       "      <td>2016</td>\n",
       "      <td>170</td>\n",
       "      <td>1</td>\n",
       "      <td>True</td>\n",
       "      <td>[10.1111/ner.12397]</td>\n",
       "    </tr>\n",
       "    <tr>\n",
       "      <th>43580</th>\n",
       "      <td>[15251403]</td>\n",
       "      <td>2017</td>\n",
       "      <td>111</td>\n",
       "      <td>1</td>\n",
       "      <td>True</td>\n",
       "      <td>[10.1111/ner.12716]</td>\n",
       "    </tr>\n",
       "    <tr>\n",
       "      <th>43581</th>\n",
       "      <td>[15251403]</td>\n",
       "      <td>2018</td>\n",
       "      <td>115</td>\n",
       "      <td>1</td>\n",
       "      <td>True</td>\n",
       "      <td>[10.1111/ner.12890]</td>\n",
       "    </tr>\n",
       "    <tr>\n",
       "      <th>43582</th>\n",
       "      <td>[15251403]</td>\n",
       "      <td>2019</td>\n",
       "      <td>152</td>\n",
       "      <td>1</td>\n",
       "      <td>True</td>\n",
       "      <td>[10.1111/ner.12939]</td>\n",
       "    </tr>\n",
       "    <tr>\n",
       "      <th>43583</th>\n",
       "      <td>[15251403]</td>\n",
       "      <td>2020</td>\n",
       "      <td>253</td>\n",
       "      <td>1</td>\n",
       "      <td>True</td>\n",
       "      <td>[10.1111/ner.13100]</td>\n",
       "    </tr>\n",
       "  </tbody>\n",
       "</table>\n",
       "</div>"
      ],
      "text/plain": [
       "             Issn  Year  Total_Docs  Sample_Count CrossRef_retr  \\\n",
       "43576  [15251403]  2011         208             1         False   \n",
       "43577  [15251403]  2014         294             1         False   \n",
       "43578  [15251403]  2015         275             1          True   \n",
       "43579  [15251403]  2016         170             1          True   \n",
       "43580  [15251403]  2017         111             1          True   \n",
       "43581  [15251403]  2018         115             1          True   \n",
       "43582  [15251403]  2019         152             1          True   \n",
       "43583  [15251403]  2020         253             1          True   \n",
       "\n",
       "                       DOI  \n",
       "43576                   []  \n",
       "43577                   []  \n",
       "43578  [10.1111/ner.12267]  \n",
       "43579  [10.1111/ner.12397]  \n",
       "43580  [10.1111/ner.12716]  \n",
       "43581  [10.1111/ner.12890]  \n",
       "43582  [10.1111/ner.12939]  \n",
       "43583  [10.1111/ner.13100]  "
      ]
     },
     "execution_count": 212,
     "metadata": {},
     "output_type": "execute_result"
    }
   ],
   "source": [
    "duplicate_doi_retr[duplicate_doi_retr.Issn.map(lambda x: \"15251403\" in x)]"
   ]
  },
  {
   "cell_type": "code",
   "execution_count": 210,
   "metadata": {},
   "outputs": [
    {
     "data": {
      "text/html": [
       "<div>\n",
       "<style scoped>\n",
       "    .dataframe tbody tr th:only-of-type {\n",
       "        vertical-align: middle;\n",
       "    }\n",
       "\n",
       "    .dataframe tbody tr th {\n",
       "        vertical-align: top;\n",
       "    }\n",
       "\n",
       "    .dataframe thead th {\n",
       "        text-align: right;\n",
       "    }\n",
       "</style>\n",
       "<table border=\"1\" class=\"dataframe\">\n",
       "  <thead>\n",
       "    <tr style=\"text-align: right;\">\n",
       "      <th></th>\n",
       "      <th>reference-count</th>\n",
       "      <th>publisher</th>\n",
       "      <th>published-print</th>\n",
       "      <th>DOI</th>\n",
       "      <th>is-referenced-by-count</th>\n",
       "      <th>title</th>\n",
       "      <th>author</th>\n",
       "      <th>published-online</th>\n",
       "      <th>reference</th>\n",
       "      <th>container-title</th>\n",
       "      <th>language</th>\n",
       "      <th>issued</th>\n",
       "      <th>ISSN</th>\n",
       "      <th>subject</th>\n",
       "      <th>published</th>\n",
       "    </tr>\n",
       "  </thead>\n",
       "  <tbody>\n",
       "    <tr>\n",
       "      <th>39116</th>\n",
       "      <td>51</td>\n",
       "      <td>Elsevier BV</td>\n",
       "      <td>{'date-parts': [[2019, 4]]}</td>\n",
       "      <td>10.1111/ner.12939</td>\n",
       "      <td>7</td>\n",
       "      <td>[Spinal Cord Stimulation Infection Rate and In...</td>\n",
       "      <td>[{'given': 'David A.', 'family': 'Provenzano',...</td>\n",
       "      <td>NaN</td>\n",
       "      <td>[{'key': '10.1111/ner.12939_bib1', 'doi-assert...</td>\n",
       "      <td>[Neuromodulation: Technology at the Neural Int...</td>\n",
       "      <td>en</td>\n",
       "      <td>{'date-parts': [[2019, 4]]}</td>\n",
       "      <td>[1094-7159]</td>\n",
       "      <td>[Anesthesiology and Pain Medicine, Neurology (...</td>\n",
       "      <td>{'date-parts': [[2019, 4]]}</td>\n",
       "    </tr>\n",
       "  </tbody>\n",
       "</table>\n",
       "</div>"
      ],
      "text/plain": [
       "       reference-count    publisher              published-print  \\\n",
       "39116               51  Elsevier BV  {'date-parts': [[2019, 4]]}   \n",
       "\n",
       "                     DOI  is-referenced-by-count  \\\n",
       "39116  10.1111/ner.12939                       7   \n",
       "\n",
       "                                                   title  \\\n",
       "39116  [Spinal Cord Stimulation Infection Rate and In...   \n",
       "\n",
       "                                                  author published-online  \\\n",
       "39116  [{'given': 'David A.', 'family': 'Provenzano',...              NaN   \n",
       "\n",
       "                                               reference  \\\n",
       "39116  [{'key': '10.1111/ner.12939_bib1', 'doi-assert...   \n",
       "\n",
       "                                         container-title language  \\\n",
       "39116  [Neuromodulation: Technology at the Neural Int...       en   \n",
       "\n",
       "                            issued         ISSN  \\\n",
       "39116  {'date-parts': [[2019, 4]]}  [1094-7159]   \n",
       "\n",
       "                                                 subject  \\\n",
       "39116  [Anesthesiology and Pain Medicine, Neurology (...   \n",
       "\n",
       "                         published  \n",
       "39116  {'date-parts': [[2019, 4]]}  "
      ]
     },
     "execution_count": 210,
     "metadata": {},
     "output_type": "execute_result"
    }
   ],
   "source": [
    "meta_df[meta_df.DOI == '10.1111/ner.12939']"
   ]
  },
  {
   "cell_type": "code",
   "execution_count": 207,
   "metadata": {},
   "outputs": [],
   "source": [
    "duplicate_doi_retr.loc[32,\"DOI\"] = \"10.5465/amj.2019.0156\""
   ]
  },
  {
   "cell_type": "code",
   "execution_count": 133,
   "metadata": {},
   "outputs": [
    {
     "data": {
      "text/plain": [
       "{'10.1002/acr.24479',\n",
       " '10.1002/stem.283',\n",
       " '10.1016/j.prosdent.2020.09.020',\n",
       " '10.1016/j.psychsport.2020.101780',\n",
       " '10.1037/hea0001031',\n",
       " '10.1070/sm9367',\n",
       " '10.1080/09739572.2020.1689694',\n",
       " '10.1086/675642',\n",
       " '10.1086/682227',\n",
       " '10.1086/685489',\n",
       " '10.1088/1367-2630/abd50e',\n",
       " '10.1109/tmm.2020.3044452',\n",
       " '10.1111/ner.12267',\n",
       " '10.1111/ner.12397',\n",
       " '10.1111/ner.12716',\n",
       " '10.1111/ner.12890',\n",
       " '10.1111/ner.12939',\n",
       " '10.1111/ner.13100',\n",
       " '10.1145/3379463',\n",
       " '10.25222/larr.258',\n",
       " '10.25222/larr.377',\n",
       " '10.3917/afco.239.0035',\n",
       " '10.5465/amj.2019.0156'}"
      ]
     },
     "execution_count": 133,
     "metadata": {},
     "output_type": "execute_result"
    }
   ],
   "source": [
    "#Unmatched DOIs:\n",
    "unmacthed_dois"
   ]
  },
  {
   "cell_type": "code",
   "execution_count": 215,
   "metadata": {},
   "outputs": [
    {
     "data": {
      "text/html": [
       "<div>\n",
       "<style scoped>\n",
       "    .dataframe tbody tr th:only-of-type {\n",
       "        vertical-align: middle;\n",
       "    }\n",
       "\n",
       "    .dataframe tbody tr th {\n",
       "        vertical-align: top;\n",
       "    }\n",
       "\n",
       "    .dataframe thead th {\n",
       "        text-align: right;\n",
       "    }\n",
       "</style>\n",
       "<table border=\"1\" class=\"dataframe\">\n",
       "  <thead>\n",
       "    <tr style=\"text-align: right;\">\n",
       "      <th></th>\n",
       "      <th>Issn</th>\n",
       "      <th>Year</th>\n",
       "      <th>Total_Docs</th>\n",
       "      <th>Sample_Count</th>\n",
       "      <th>CrossRef_retr</th>\n",
       "      <th>DOI</th>\n",
       "    </tr>\n",
       "  </thead>\n",
       "  <tbody>\n",
       "    <tr>\n",
       "      <th>43576</th>\n",
       "      <td>[15251403]</td>\n",
       "      <td>2011</td>\n",
       "      <td>208</td>\n",
       "      <td>1</td>\n",
       "      <td>False</td>\n",
       "      <td>[]</td>\n",
       "    </tr>\n",
       "    <tr>\n",
       "      <th>43577</th>\n",
       "      <td>[15251403]</td>\n",
       "      <td>2014</td>\n",
       "      <td>294</td>\n",
       "      <td>1</td>\n",
       "      <td>False</td>\n",
       "      <td>[]</td>\n",
       "    </tr>\n",
       "  </tbody>\n",
       "</table>\n",
       "</div>"
      ],
      "text/plain": [
       "             Issn  Year  Total_Docs  Sample_Count CrossRef_retr DOI\n",
       "43576  [15251403]  2011         208             1         False  []\n",
       "43577  [15251403]  2014         294             1         False  []"
      ]
     },
     "execution_count": 215,
     "metadata": {},
     "output_type": "execute_result"
    }
   ],
   "source": [
    "duplicate_doi_retr[(duplicate_doi_retr.CrossRef_retr == False) & (duplicate_doi_retr.DOI.map(len)!=0)]"
   ]
  },
  {
   "cell_type": "code",
   "execution_count": 41,
   "metadata": {},
   "outputs": [
    {
     "data": {
      "text/plain": [
       "64168"
      ]
     },
     "execution_count": 41,
     "metadata": {},
     "output_type": "execute_result"
    }
   ],
   "source": [
    "len(retr_complete_one[retr_complete_one.CrossRef_retr==True])"
   ]
  },
  {
   "cell_type": "code",
   "execution_count": 229,
   "metadata": {},
   "outputs": [
    {
     "data": {
      "text/plain": [
       "[]"
      ]
     },
     "execution_count": 229,
     "metadata": {},
     "output_type": "execute_result"
    }
   ],
   "source": [
    "duplicate_doi_retr.loc[43577,\"DOI\"]"
   ]
  },
  {
   "cell_type": "code",
   "execution_count": 51,
   "metadata": {},
   "outputs": [
    {
     "data": {
      "text/plain": [
       "64119"
      ]
     },
     "execution_count": 51,
     "metadata": {},
     "output_type": "execute_result"
    }
   ],
   "source": [
    "43+64076"
   ]
  },
  {
   "cell_type": "code",
   "execution_count": 230,
   "metadata": {},
   "outputs": [
    {
     "data": {
      "text/plain": [
       "1    64119\n",
       "0    10302\n",
       "Name: DOI, dtype: int64"
      ]
     },
     "execution_count": 230,
     "metadata": {},
     "output_type": "execute_result"
    }
   ],
   "source": [
    "duplicate_doi_retr.DOI.map(len).value_counts()"
   ]
  },
  {
   "cell_type": "markdown",
   "metadata": {},
   "source": [
    "## Part 4: Merging meta_df & sh_comp_one_df & unpy_comp_one_df ->  retr_comp_one -> FIN"
   ]
  },
  {
   "cell_type": "code",
   "execution_count": 47,
   "metadata": {},
   "outputs": [],
   "source": [
    "%store -r duplicate_doi_retr\n",
    "%store -r meta_df\n",
    "%store -r sh_comp_one_df\n",
    "%store -r unpy_comp_one_df"
   ]
  },
  {
   "cell_type": "code",
   "execution_count": 4,
   "metadata": {},
   "outputs": [],
   "source": [
    "duplicate_doi_retr[\"DOI\"] = duplicate_doi_retr.DOI.map(lambda x: x[0] if len(x)>0 else \"\")"
   ]
  },
  {
   "cell_type": "code",
   "execution_count": 48,
   "metadata": {},
   "outputs": [
    {
     "name": "stderr",
     "output_type": "stream",
     "text": [
      "C:\\Users\\oguzk\\anaconda3\\lib\\site-packages\\urllib3\\connectionpool.py:1013: InsecureRequestWarning: Unverified HTTPS request is being made to host 'sci-hub.st'. Adding certificate verification is strongly advised. See: https://urllib3.readthedocs.io/en/latest/advanced-usage.html#ssl-warnings\n",
      "  warnings.warn(\n",
      "C:\\Users\\oguzk\\anaconda3\\lib\\site-packages\\urllib3\\connectionpool.py:1013: InsecureRequestWarning: Unverified HTTPS request is being made to host 'zero.sci-hub.st'. Adding certificate verification is strongly advised. See: https://urllib3.readthedocs.io/en/latest/advanced-usage.html#ssl-warnings\n",
      "  warnings.warn(\n",
      "WARNING:retry.api:Can't connect to direct URL: https://zero.sci-hub.st/529/19b4538056ef32ce79b5208cf7a5cd1f/schneckener2011.pdf#navpanes=0&view=FitH, retrying in 15 seconds...\n",
      "C:\\Users\\oguzk\\anaconda3\\lib\\site-packages\\urllib3\\connectionpool.py:1013: InsecureRequestWarning: Unverified HTTPS request is being made to host 'sci-hub.ee'. Adding certificate verification is strongly advised. See: https://urllib3.readthedocs.io/en/latest/advanced-usage.html#ssl-warnings\n",
      "  warnings.warn(\n",
      "C:\\Users\\oguzk\\anaconda3\\lib\\site-packages\\urllib3\\connectionpool.py:1013: InsecureRequestWarning: Unverified HTTPS request is being made to host 'sci.bban.top'. Adding certificate verification is strongly advised. See: https://urllib3.readthedocs.io/en/latest/advanced-usage.html#ssl-warnings\n",
      "  warnings.warn(\n",
      "PdfReadWarning: Xref table not zero-indexed. ID numbers for objects will be corrected. [pdf.py:1736]\n"
     ]
    }
   ],
   "source": [
    "# Combine sh + unpy with meta_df to create -> date_df\n",
    "\n",
    "# 1- Scihub merge:\n",
    "date_df = pd.merge(meta_df,sh_comp_one_df[[\"doi\",\"Scihub_results\"]], how=\"left\", left_on=\"DOI\", right_on=\"doi\")\n",
    "date_df.rename(columns={\"Scihub_results\":\"Results\"}, inplace=True)\n",
    "date_df.drop(\"doi\", axis=1, inplace=True)\n",
    "\n",
    "# 2- Unpy merge\n",
    "date_df.set_index(\"DOI\", inplace=True)\n",
    "unpy_comp_one_df.set_index(\"doi\", inplace=True)\n",
    "date_df[\"Results\"] = date_df[\"Results\"].fillna(unpy_comp_one_df[\"Unpy_results\"])\n",
    "\n",
    "# 3 - Fixing Unpy_df.drop(52626, inplace=True) from part3d_Unpy_one_get_dates:\n",
    "sh = SciHub()\n",
    "tek_date = sh.get_dates(\"10.1186/1755-8794-4-73\")\n",
    "date_df.at[\"10.1186/1755-8794-4-73\",\"Results\"] = tek_date\n"
   ]
  },
  {
   "cell_type": "code",
   "execution_count": 48,
   "metadata": {},
   "outputs": [],
   "source": [
    "# Combine duplicate_doi_retr with date_df -> back to retr_complete_one & is ready for second run\n",
    "retr_complete_one = duplicate_doi_retr.merge(date_df[\"Results\"], how=\"left\", left_on=\"DOI\", right_index=True)"
   ]
  },
  {
   "cell_type": "code",
   "execution_count": 58,
   "metadata": {},
   "outputs": [],
   "source": [
    "# Create mask for second run:\n",
    "# Conditions:\n",
    "# 1- CrossRef == False\n",
    "cr_mask = retr_complete_one.CrossRef_retr == False\n",
    "\n",
    "# 2- Results.map(type) == str\n",
    "#retr_complete_one[retr_complete_one.Results.map(type)==str].Results.value_counts()\n",
    "str_mask = retr_complete_one.Results.map(type)==str\n",
    "\n",
    "# 3- Results -> no_date_found\n",
    "def no_date_finder(res):\n",
    "    if type(res)== list:\n",
    "        if len(res)==2:\n",
    "            return True\n",
    "        else:\n",
    "            return False\n",
    "    else:\n",
    "        return False \n",
    "\n",
    "no_date_mask = retr_complete_one.Results.map(no_date_finder)"
   ]
  },
  {
   "cell_type": "code",
   "execution_count": 60,
   "metadata": {},
   "outputs": [],
   "source": [
    "second_run_df = retr_complete_one[(cr_mask) | (str_mask) |(no_date_mask)]"
   ]
  },
  {
   "cell_type": "markdown",
   "metadata": {},
   "source": [
    "READY FOR ROUND 2!\n",
    "\n",
    "But before round 2, will simplify the folders & files & variables to avoid confusion later on.\n",
    "\n",
    "\n",
    "FINAL NOTE:\n",
    "\n",
    "As it stands, there should be 2 variables necessary in the next notebook\n",
    "\n",
    "These are:\n",
    "\n",
    "* retr_complete_one -> Scimago jrnl data combined with CR_retr + DOI + Results column\n",
    "* date_df -> combination of meta_df + sh_comp_one_df + unpy_comp_one_df -> has metadata + Date column\n",
    "\n",
    "These 2 dataframes will also be saved as csv & pickle for backup!\n",
    "\n",
    "And in case of a problem we have several backup variables:\n",
    "\n",
    "For retr_complete_one:\n",
    "* duplicate_doi_retr -> df with minor issues of earlier retr_comp_one fixed\n",
    "* retr_issnupdated -> an earlier & unfinished version \n",
    "\n",
    "For date_df:\n",
    "* meta_df -> CR metadata column (thanks to Ceto & Summan)\n",
    "* meta_df_full -> meta_df will all 51 columns     \n",
    "\n",
    "    Partial backups:\n",
    "* sh_comp_one_df -> artcl Unpy metadata + dates from Scihub \n",
    "* unpy_comp_one_df -> artcl Unpy metadata + dates from direct url + dates from Scihub for direct url fails\n",
    "\n",
    "    Depreciated backups:\n",
    "* artcl_df -> metadata df retrieved from Unpy (PUBLISHED COLUMN IS WRONG!)\n",
    "* doi_complete_one -> list that only contains DOIs for complete_one_run\n",
    "\n",
    "\n",
    "\n"
   ]
  },
  {
   "cell_type": "code",
   "execution_count": 84,
   "metadata": {},
   "outputs": [
    {
     "name": "stdout",
     "output_type": "stream",
     "text": [
      "Stored 'retr_complete_one' (DataFrame)\n"
     ]
    }
   ],
   "source": [
    "%store retr_complete_one\n",
    "%store date_df\n",
    "%store second_run_df"
   ]
  },
  {
   "cell_type": "code",
   "execution_count": 55,
   "metadata": {},
   "outputs": [],
   "source": [
    "with open(\"date_df\",\"wb\") as fp:\n",
    "    pickle.dump(date_df, fp)"
   ]
  },
  {
   "cell_type": "code",
   "execution_count": 56,
   "metadata": {},
   "outputs": [],
   "source": [
    "with open(\"retr_complete_one\",\"wb\") as fp:\n",
    "    pickle.dump(retr_complete_one, fp)"
   ]
  },
  {
   "cell_type": "code",
   "execution_count": 62,
   "metadata": {},
   "outputs": [],
   "source": [
    "with open(\"second_run_df\",\"wb\") as fp:\n",
    "    pickle.dump(second_run_df, fp)"
   ]
  }
 ],
 "metadata": {
  "interpreter": {
   "hash": "92ba50c92c9dc11b366869717e90d544d23b7140e20708921d0ff91f276d2e3f"
  },
  "kernelspec": {
   "display_name": "Python 3.8.10 64-bit ('base': conda)",
   "language": "python",
   "name": "python3"
  },
  "language_info": {
   "codemirror_mode": {
    "name": "ipython",
    "version": 3
   },
   "file_extension": ".py",
   "mimetype": "text/x-python",
   "name": "python",
   "nbconvert_exporter": "python",
   "pygments_lexer": "ipython3",
   "version": "3.8.10"
  },
  "orig_nbformat": 4
 },
 "nbformat": 4,
 "nbformat_minor": 2
}
