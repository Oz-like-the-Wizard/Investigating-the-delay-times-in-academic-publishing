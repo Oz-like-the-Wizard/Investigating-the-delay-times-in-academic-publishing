{
 "cells": [
  {
   "cell_type": "markdown",
   "metadata": {},
   "source": [
    "## PART 0: Reviewing Earlier Steps\n",
    "\n"
   ]
  },
  {
   "cell_type": "markdown",
   "metadata": {},
   "source": [
    "As almost all the \"useful\" journals are identified for Q1 100K run, it is necessary to understand & review the Scimago datasets and the earlier functions. As it was seen in the previous steps, there are different versions (both online & offline), (two journals merged into one after a certain year) of some journals, it important to create a final eligible journals dataset to be merged with the date results. \n",
    "\n",
    "Another factor is that, during complete_one runs there are 30K+ articles that have completed the complete pipeline and ready to be examined. These articles are currenty stored in date_df & date_df_second_run datasets. These journals must be utilized for maximum efficiency and minimizing unnecessary time loss. "
   ]
  },
  {
   "cell_type": "code",
   "execution_count": 1,
   "metadata": {},
   "outputs": [],
   "source": [
    "import pandas as pd\n",
    "import pickle \n",
    "import numpy as np\n",
    "\n",
    "#from quartile import *\n",
    "\n",
    "\n",
    "#from scihub_upgraded import SciHub\n",
    "#from crossref.restful import Works, Etiquette\n",
    "\n",
    "#import warnings\n",
    "#warnings.filterwarnings(\"ignore\")"
   ]
  },
  {
   "cell_type": "markdown",
   "metadata": {},
   "source": [
    "After analysis, it is seen that:\n",
    "\n",
    "* scimago.py -> is responsible for \"cat_sbj_dict\" that is used in quartile.py for \"Category\" to \"Subj. Area\" matching.\n",
    "\n",
    "* quartile.py -> is responsible for transforming Scimago excels into Q1-4 journal datasets. It also splits the journals based on their \"highest Q'd\" subj. areas, and splits their Total Docs. accordingly. As the remainder is distributed randomly, each run of this file generates slightly different doc. count for journals with \"multimode\"d subj areas. However, this should not effect the results greatly. The code also looks OK and efficient except for an .iterrows() loop, which can be improved but is ignored as it is not a huge performance or time issue.\n",
    "\n",
    "* As Unpy is removed from the overall pipeline, all Unpy related code is also shelved.\n",
    "\n",
    "* scimago_upgraded -> is responsible for the whole get_dates loop as the entire PDF & date extraction is now executed via SciHub.\n",
    "\n",
    "\n",
    "The biggest improvement area while we are waiting for Q1 useful journals to be completed are making sure that the final journal list is compatible with quartile.py flow.\n",
    "\n",
    "\n",
    "\n"
   ]
  },
  {
   "cell_type": "code",
   "execution_count": 7,
   "metadata": {},
   "outputs": [],
   "source": [
    "%store -r retr_complete_one"
   ]
  },
  {
   "cell_type": "code",
   "execution_count": 3,
   "metadata": {},
   "outputs": [
    {
     "data": {
      "text/plain": [
       "<class 'list'>     60596\n",
       "<class 'float'>    10302\n",
       "<class 'str'>       3523\n",
       "Name: Results, dtype: int64"
      ]
     },
     "execution_count": 3,
     "metadata": {},
     "output_type": "execute_result"
    }
   ],
   "source": [
    "retr_complete_one.Results.map(type).value_counts()"
   ]
  },
  {
   "cell_type": "code",
   "execution_count": 4,
   "metadata": {},
   "outputs": [
    {
     "data": {
      "text/plain": [
       "3    31022\n",
       "2    29574\n",
       "Name: Results, dtype: int64"
      ]
     },
     "execution_count": 4,
     "metadata": {},
     "output_type": "execute_result"
    }
   ],
   "source": [
    "retr_complete_one[retr_complete_one.Results.map(type)==list].Results.map(len).value_counts()"
   ]
  },
  {
   "cell_type": "code",
   "execution_count": 5,
   "metadata": {},
   "outputs": [
    {
     "data": {
      "text/html": [
       "<div>\n",
       "<style scoped>\n",
       "    .dataframe tbody tr th:only-of-type {\n",
       "        vertical-align: middle;\n",
       "    }\n",
       "\n",
       "    .dataframe tbody tr th {\n",
       "        vertical-align: top;\n",
       "    }\n",
       "\n",
       "    .dataframe thead th {\n",
       "        text-align: right;\n",
       "    }\n",
       "</style>\n",
       "<table border=\"1\" class=\"dataframe\">\n",
       "  <thead>\n",
       "    <tr style=\"text-align: right;\">\n",
       "      <th></th>\n",
       "      <th>Issn</th>\n",
       "      <th>Year</th>\n",
       "      <th>Total_Docs</th>\n",
       "      <th>Sample_Count</th>\n",
       "      <th>CrossRef_retr</th>\n",
       "      <th>DOI</th>\n",
       "      <th>Results</th>\n",
       "    </tr>\n",
       "  </thead>\n",
       "  <tbody>\n",
       "    <tr>\n",
       "      <th>0</th>\n",
       "      <td>[00011541]</td>\n",
       "      <td>2010</td>\n",
       "      <td>294</td>\n",
       "      <td>1</td>\n",
       "      <td>True</td>\n",
       "      <td>10.1002/aic.12400</td>\n",
       "      <td>[https://sci.bban.top/pdf/10.1002/aic.12400.pd...</td>\n",
       "    </tr>\n",
       "    <tr>\n",
       "      <th>1</th>\n",
       "      <td>[00011541]</td>\n",
       "      <td>2011</td>\n",
       "      <td>315</td>\n",
       "      <td>1</td>\n",
       "      <td>True</td>\n",
       "      <td>10.1002/aic.12671</td>\n",
       "      <td>[https://sci.bban.top/pdf/10.1002/aic.12671.pd...</td>\n",
       "    </tr>\n",
       "    <tr>\n",
       "      <th>2</th>\n",
       "      <td>[00011541]</td>\n",
       "      <td>2012</td>\n",
       "      <td>347</td>\n",
       "      <td>1</td>\n",
       "      <td>True</td>\n",
       "      <td>10.1002/aic.13810</td>\n",
       "      <td>[https://sci.bban.top/pdf/10.1002/aic.13810.pd...</td>\n",
       "    </tr>\n",
       "    <tr>\n",
       "      <th>3</th>\n",
       "      <td>[00011541]</td>\n",
       "      <td>2013</td>\n",
       "      <td>422</td>\n",
       "      <td>1</td>\n",
       "      <td>True</td>\n",
       "      <td>10.1002/aic.14056</td>\n",
       "      <td>[https://sci.bban.top/pdf/10.1002/aic.14056.pd...</td>\n",
       "    </tr>\n",
       "    <tr>\n",
       "      <th>4</th>\n",
       "      <td>[00011541]</td>\n",
       "      <td>2014</td>\n",
       "      <td>359</td>\n",
       "      <td>1</td>\n",
       "      <td>True</td>\n",
       "      <td>10.1002/aic.14601</td>\n",
       "      <td>[https://sci.bban.top/pdf/10.1002/aic.14601.pd...</td>\n",
       "    </tr>\n",
       "  </tbody>\n",
       "</table>\n",
       "</div>"
      ],
      "text/plain": [
       "         Issn  Year  Total_Docs  Sample_Count CrossRef_retr  \\\n",
       "0  [00011541]  2010         294             1          True   \n",
       "1  [00011541]  2011         315             1          True   \n",
       "2  [00011541]  2012         347             1          True   \n",
       "3  [00011541]  2013         422             1          True   \n",
       "4  [00011541]  2014         359             1          True   \n",
       "\n",
       "                 DOI                                            Results  \n",
       "0  10.1002/aic.12400  [https://sci.bban.top/pdf/10.1002/aic.12400.pd...  \n",
       "1  10.1002/aic.12671  [https://sci.bban.top/pdf/10.1002/aic.12671.pd...  \n",
       "2  10.1002/aic.13810  [https://sci.bban.top/pdf/10.1002/aic.13810.pd...  \n",
       "3  10.1002/aic.14056  [https://sci.bban.top/pdf/10.1002/aic.14056.pd...  \n",
       "4  10.1002/aic.14601  [https://sci.bban.top/pdf/10.1002/aic.14601.pd...  "
      ]
     },
     "execution_count": 5,
     "metadata": {},
     "output_type": "execute_result"
    }
   ],
   "source": [
    "retr_complete_one.head()"
   ]
  },
  {
   "cell_type": "code",
   "execution_count": 2,
   "metadata": {},
   "outputs": [
    {
     "name": "stderr",
     "output_type": "stream",
     "text": [
      "b'Skipping line 32712: expected 20 fields, saw 21\\nSkipping line 32713: expected 20 fields, saw 21\\n'\n",
      "b'Skipping line 20760: expected 20 fields, saw 21\\nSkipping line 22914: expected 20 fields, saw 21\\n'\n",
      "b'Skipping line 19393: expected 20 fields, saw 21\\nSkipping line 19394: expected 20 fields, saw 21\\n'\n",
      "b'Skipping line 33757: expected 20 fields, saw 21\\n'\n",
      "b'Skipping line 19053: expected 20 fields, saw 21\\nSkipping line 20953: expected 20 fields, saw 21\\n'\n"
     ]
    }
   ],
   "source": [
    "# Get q_df(s):\n",
    "q_df = quar_df_creator(1)"
   ]
  },
  {
   "cell_type": "code",
   "execution_count": 4,
   "metadata": {},
   "outputs": [],
   "source": [
    "# Create q_jrnl & q_pivor using q_df & article count target:\n",
    "\n",
    "q_jrnl, q_pivot = retr_ready(q_df,100000)"
   ]
  },
  {
   "cell_type": "code",
   "execution_count": 5,
   "metadata": {},
   "outputs": [
    {
     "data": {
      "text/html": [
       "<div>\n",
       "<style scoped>\n",
       "    .dataframe tbody tr th:only-of-type {\n",
       "        vertical-align: middle;\n",
       "    }\n",
       "\n",
       "    .dataframe tbody tr th {\n",
       "        vertical-align: top;\n",
       "    }\n",
       "\n",
       "    .dataframe thead th {\n",
       "        text-align: right;\n",
       "    }\n",
       "</style>\n",
       "<table border=\"1\" class=\"dataframe\">\n",
       "  <thead>\n",
       "    <tr style=\"text-align: right;\">\n",
       "      <th></th>\n",
       "      <th>Issn</th>\n",
       "      <th>Year</th>\n",
       "      <th>Sbj_Area</th>\n",
       "      <th>Total_Docs</th>\n",
       "    </tr>\n",
       "  </thead>\n",
       "  <tbody>\n",
       "    <tr>\n",
       "      <th>0</th>\n",
       "      <td>[00346861,  15390756]</td>\n",
       "      <td>2010</td>\n",
       "      <td>Physics and Astronomy</td>\n",
       "      <td>74</td>\n",
       "    </tr>\n",
       "    <tr>\n",
       "      <th>1</th>\n",
       "      <td>[15454509,  00664154]</td>\n",
       "      <td>2010</td>\n",
       "      <td>Biochemistry, Genetics and Molecular Biology</td>\n",
       "      <td>28</td>\n",
       "    </tr>\n",
       "    <tr>\n",
       "      <th>2</th>\n",
       "      <td>[10614036,  15461718]</td>\n",
       "      <td>2010</td>\n",
       "      <td>Biochemistry, Genetics and Molecular Biology</td>\n",
       "      <td>248</td>\n",
       "    </tr>\n",
       "    <tr>\n",
       "      <th>3</th>\n",
       "      <td>[15424863,  00079235]</td>\n",
       "      <td>2010</td>\n",
       "      <td>Medicine</td>\n",
       "      <td>36</td>\n",
       "    </tr>\n",
       "    <tr>\n",
       "      <th>4</th>\n",
       "      <td>[00928674,  10974172]</td>\n",
       "      <td>2010</td>\n",
       "      <td>Biochemistry, Genetics and Molecular Biology</td>\n",
       "      <td>471</td>\n",
       "    </tr>\n",
       "    <tr>\n",
       "      <th>...</th>\n",
       "      <td>...</td>\n",
       "      <td>...</td>\n",
       "      <td>...</td>\n",
       "      <td>...</td>\n",
       "    </tr>\n",
       "    <tr>\n",
       "      <th>95486</th>\n",
       "      <td>[00083968]</td>\n",
       "      <td>2020</td>\n",
       "      <td>Arts and Humanities</td>\n",
       "      <td>18</td>\n",
       "    </tr>\n",
       "    <tr>\n",
       "      <th>95487</th>\n",
       "      <td>[00732435]</td>\n",
       "      <td>2020</td>\n",
       "      <td>Social Sciences</td>\n",
       "      <td>10</td>\n",
       "    </tr>\n",
       "    <tr>\n",
       "      <th>95488</th>\n",
       "      <td>[00732435]</td>\n",
       "      <td>2020</td>\n",
       "      <td>Arts and Humanities</td>\n",
       "      <td>9</td>\n",
       "    </tr>\n",
       "    <tr>\n",
       "      <th>95489</th>\n",
       "      <td>[10601503,  14701553]</td>\n",
       "      <td>2020</td>\n",
       "      <td>Social Sciences</td>\n",
       "      <td>16</td>\n",
       "    </tr>\n",
       "    <tr>\n",
       "      <th>95490</th>\n",
       "      <td>[10601503,  14701553]</td>\n",
       "      <td>2020</td>\n",
       "      <td>Arts and Humanities</td>\n",
       "      <td>16</td>\n",
       "    </tr>\n",
       "  </tbody>\n",
       "</table>\n",
       "<p>95491 rows × 4 columns</p>\n",
       "</div>"
      ],
      "text/plain": [
       "                        Issn  Year  \\\n",
       "0      [00346861,  15390756]  2010   \n",
       "1      [15454509,  00664154]  2010   \n",
       "2      [10614036,  15461718]  2010   \n",
       "3      [15424863,  00079235]  2010   \n",
       "4      [00928674,  10974172]  2010   \n",
       "...                      ...   ...   \n",
       "95486             [00083968]  2020   \n",
       "95487             [00732435]  2020   \n",
       "95488             [00732435]  2020   \n",
       "95489  [10601503,  14701553]  2020   \n",
       "95490  [10601503,  14701553]  2020   \n",
       "\n",
       "                                           Sbj_Area  Total_Docs  \n",
       "0                             Physics and Astronomy          74  \n",
       "1      Biochemistry, Genetics and Molecular Biology          28  \n",
       "2      Biochemistry, Genetics and Molecular Biology         248  \n",
       "3                                          Medicine          36  \n",
       "4      Biochemistry, Genetics and Molecular Biology         471  \n",
       "...                                             ...         ...  \n",
       "95486                           Arts and Humanities          18  \n",
       "95487                               Social Sciences          10  \n",
       "95488                           Arts and Humanities           9  \n",
       "95489                               Social Sciences          16  \n",
       "95490                           Arts and Humanities          16  \n",
       "\n",
       "[95491 rows x 4 columns]"
      ]
     },
     "execution_count": 5,
     "metadata": {},
     "output_type": "execute_result"
    }
   ],
   "source": [
    "q_jrnl"
   ]
  },
  {
   "cell_type": "code",
   "execution_count": 12,
   "metadata": {},
   "outputs": [],
   "source": [
    "q_ready = q_jrnl.groupby([q_jrnl[\"Issn\"].map(tuple),q_jrnl[\"Year\"]])[\"Total_Docs\"].sum().reset_index()\n"
   ]
  },
  {
   "cell_type": "code",
   "execution_count": 13,
   "metadata": {},
   "outputs": [
    {
     "data": {
      "text/html": [
       "<div>\n",
       "<style scoped>\n",
       "    .dataframe tbody tr th:only-of-type {\n",
       "        vertical-align: middle;\n",
       "    }\n",
       "\n",
       "    .dataframe tbody tr th {\n",
       "        vertical-align: top;\n",
       "    }\n",
       "\n",
       "    .dataframe thead th {\n",
       "        text-align: right;\n",
       "    }\n",
       "</style>\n",
       "<table border=\"1\" class=\"dataframe\">\n",
       "  <thead>\n",
       "    <tr style=\"text-align: right;\">\n",
       "      <th></th>\n",
       "      <th>Issn</th>\n",
       "      <th>Year</th>\n",
       "      <th>Total_Docs</th>\n",
       "    </tr>\n",
       "  </thead>\n",
       "  <tbody>\n",
       "    <tr>\n",
       "      <th>0</th>\n",
       "      <td>(00011541,  15475905)</td>\n",
       "      <td>2010</td>\n",
       "      <td>294</td>\n",
       "    </tr>\n",
       "    <tr>\n",
       "      <th>1</th>\n",
       "      <td>(00011541,  15475905)</td>\n",
       "      <td>2011</td>\n",
       "      <td>315</td>\n",
       "    </tr>\n",
       "    <tr>\n",
       "      <th>2</th>\n",
       "      <td>(00011541,  15475905)</td>\n",
       "      <td>2012</td>\n",
       "      <td>347</td>\n",
       "    </tr>\n",
       "    <tr>\n",
       "      <th>3</th>\n",
       "      <td>(00011541,  15475905)</td>\n",
       "      <td>2013</td>\n",
       "      <td>422</td>\n",
       "    </tr>\n",
       "    <tr>\n",
       "      <th>4</th>\n",
       "      <td>(00011541,  15475905)</td>\n",
       "      <td>2014</td>\n",
       "      <td>359</td>\n",
       "    </tr>\n",
       "    <tr>\n",
       "      <th>...</th>\n",
       "      <td>...</td>\n",
       "      <td>...</td>\n",
       "      <td>...</td>\n",
       "    </tr>\n",
       "    <tr>\n",
       "      <th>74416</th>\n",
       "      <td>(8756758X,  14602695)</td>\n",
       "      <td>2017</td>\n",
       "      <td>170</td>\n",
       "    </tr>\n",
       "    <tr>\n",
       "      <th>74417</th>\n",
       "      <td>(8756758X,  14602695)</td>\n",
       "      <td>2018</td>\n",
       "      <td>199</td>\n",
       "    </tr>\n",
       "    <tr>\n",
       "      <th>74418</th>\n",
       "      <td>(8756758X,  14602695)</td>\n",
       "      <td>2019</td>\n",
       "      <td>210</td>\n",
       "    </tr>\n",
       "    <tr>\n",
       "      <th>74419</th>\n",
       "      <td>(8756758X,  14602695)</td>\n",
       "      <td>2020</td>\n",
       "      <td>221</td>\n",
       "    </tr>\n",
       "    <tr>\n",
       "      <th>74420</th>\n",
       "      <td>(8756971X,  19436270)</td>\n",
       "      <td>2010</td>\n",
       "      <td>69</td>\n",
       "    </tr>\n",
       "  </tbody>\n",
       "</table>\n",
       "<p>74421 rows × 3 columns</p>\n",
       "</div>"
      ],
      "text/plain": [
       "                        Issn  Year  Total_Docs\n",
       "0      (00011541,  15475905)  2010         294\n",
       "1      (00011541,  15475905)  2011         315\n",
       "2      (00011541,  15475905)  2012         347\n",
       "3      (00011541,  15475905)  2013         422\n",
       "4      (00011541,  15475905)  2014         359\n",
       "...                      ...   ...         ...\n",
       "74416  (8756758X,  14602695)  2017         170\n",
       "74417  (8756758X,  14602695)  2018         199\n",
       "74418  (8756758X,  14602695)  2019         210\n",
       "74419  (8756758X,  14602695)  2020         221\n",
       "74420  (8756971X,  19436270)  2010          69\n",
       "\n",
       "[74421 rows x 3 columns]"
      ]
     },
     "execution_count": 13,
     "metadata": {},
     "output_type": "execute_result"
    }
   ],
   "source": [
    "q_ready"
   ]
  },
  {
   "cell_type": "code",
   "execution_count": 8,
   "metadata": {},
   "outputs": [
    {
     "data": {
      "text/html": [
       "<div>\n",
       "<style scoped>\n",
       "    .dataframe tbody tr th:only-of-type {\n",
       "        vertical-align: middle;\n",
       "    }\n",
       "\n",
       "    .dataframe tbody tr th {\n",
       "        vertical-align: top;\n",
       "    }\n",
       "\n",
       "    .dataframe thead th {\n",
       "        text-align: right;\n",
       "    }\n",
       "</style>\n",
       "<table border=\"1\" class=\"dataframe\">\n",
       "  <thead>\n",
       "    <tr style=\"text-align: right;\">\n",
       "      <th></th>\n",
       "      <th>Issn</th>\n",
       "      <th>Year</th>\n",
       "      <th>Total_Docs</th>\n",
       "      <th>Sample_Count</th>\n",
       "      <th>CrossRef_retr</th>\n",
       "      <th>DOI</th>\n",
       "      <th>Results</th>\n",
       "    </tr>\n",
       "  </thead>\n",
       "  <tbody>\n",
       "    <tr>\n",
       "      <th>0</th>\n",
       "      <td>[00011541]</td>\n",
       "      <td>2010</td>\n",
       "      <td>294</td>\n",
       "      <td>1</td>\n",
       "      <td>True</td>\n",
       "      <td>10.1002/aic.12400</td>\n",
       "      <td>[https://sci.bban.top/pdf/10.1002/aic.12400.pd...</td>\n",
       "    </tr>\n",
       "    <tr>\n",
       "      <th>1</th>\n",
       "      <td>[00011541]</td>\n",
       "      <td>2011</td>\n",
       "      <td>315</td>\n",
       "      <td>1</td>\n",
       "      <td>True</td>\n",
       "      <td>10.1002/aic.12671</td>\n",
       "      <td>[https://sci.bban.top/pdf/10.1002/aic.12671.pd...</td>\n",
       "    </tr>\n",
       "    <tr>\n",
       "      <th>2</th>\n",
       "      <td>[00011541]</td>\n",
       "      <td>2012</td>\n",
       "      <td>347</td>\n",
       "      <td>1</td>\n",
       "      <td>True</td>\n",
       "      <td>10.1002/aic.13810</td>\n",
       "      <td>[https://sci.bban.top/pdf/10.1002/aic.13810.pd...</td>\n",
       "    </tr>\n",
       "    <tr>\n",
       "      <th>3</th>\n",
       "      <td>[00011541]</td>\n",
       "      <td>2013</td>\n",
       "      <td>422</td>\n",
       "      <td>1</td>\n",
       "      <td>True</td>\n",
       "      <td>10.1002/aic.14056</td>\n",
       "      <td>[https://sci.bban.top/pdf/10.1002/aic.14056.pd...</td>\n",
       "    </tr>\n",
       "    <tr>\n",
       "      <th>4</th>\n",
       "      <td>[00011541]</td>\n",
       "      <td>2014</td>\n",
       "      <td>359</td>\n",
       "      <td>1</td>\n",
       "      <td>True</td>\n",
       "      <td>10.1002/aic.14601</td>\n",
       "      <td>[https://sci.bban.top/pdf/10.1002/aic.14601.pd...</td>\n",
       "    </tr>\n",
       "    <tr>\n",
       "      <th>...</th>\n",
       "      <td>...</td>\n",
       "      <td>...</td>\n",
       "      <td>...</td>\n",
       "      <td>...</td>\n",
       "      <td>...</td>\n",
       "      <td>...</td>\n",
       "      <td>...</td>\n",
       "    </tr>\n",
       "    <tr>\n",
       "      <th>74416</th>\n",
       "      <td>[8756758X,  14602695]</td>\n",
       "      <td>2017</td>\n",
       "      <td>170</td>\n",
       "      <td>1</td>\n",
       "      <td>True</td>\n",
       "      <td>10.1111/ffe.12617</td>\n",
       "      <td>[https://sci.bban.top/pdf/10.1111/ffe.12617.pd...</td>\n",
       "    </tr>\n",
       "    <tr>\n",
       "      <th>74417</th>\n",
       "      <td>[8756758X,  14602695]</td>\n",
       "      <td>2018</td>\n",
       "      <td>199</td>\n",
       "      <td>1</td>\n",
       "      <td>True</td>\n",
       "      <td>10.1111/ffe.12803</td>\n",
       "      <td>[https://sci.bban.top/pdf/10.1111/ffe.12803.pd...</td>\n",
       "    </tr>\n",
       "    <tr>\n",
       "      <th>74418</th>\n",
       "      <td>[8756758X,  14602695]</td>\n",
       "      <td>2019</td>\n",
       "      <td>210</td>\n",
       "      <td>1</td>\n",
       "      <td>True</td>\n",
       "      <td>10.1111/ffe.13083</td>\n",
       "      <td>[https://sci.bban.top/pdf/10.1111/ffe.13083.pd...</td>\n",
       "    </tr>\n",
       "    <tr>\n",
       "      <th>74419</th>\n",
       "      <td>[8756758X,  14602695]</td>\n",
       "      <td>2020</td>\n",
       "      <td>221</td>\n",
       "      <td>1</td>\n",
       "      <td>True</td>\n",
       "      <td>10.1111/ffe.13260</td>\n",
       "      <td>[https://sci.bban.top/pdf/10.1111/ffe.13260.pd...</td>\n",
       "    </tr>\n",
       "    <tr>\n",
       "      <th>74420</th>\n",
       "      <td>[8756971X,  19436270]</td>\n",
       "      <td>2010</td>\n",
       "      <td>69</td>\n",
       "      <td>1</td>\n",
       "      <td>True</td>\n",
       "      <td>10.2987/10-5993.1</td>\n",
       "      <td>[https://sci.bban.top/pdf/10.2987/10-5993.1.pd...</td>\n",
       "    </tr>\n",
       "  </tbody>\n",
       "</table>\n",
       "<p>74421 rows × 7 columns</p>\n",
       "</div>"
      ],
      "text/plain": [
       "                        Issn  Year  Total_Docs  Sample_Count CrossRef_retr  \\\n",
       "0                 [00011541]  2010         294             1          True   \n",
       "1                 [00011541]  2011         315             1          True   \n",
       "2                 [00011541]  2012         347             1          True   \n",
       "3                 [00011541]  2013         422             1          True   \n",
       "4                 [00011541]  2014         359             1          True   \n",
       "...                      ...   ...         ...           ...           ...   \n",
       "74416  [8756758X,  14602695]  2017         170             1          True   \n",
       "74417  [8756758X,  14602695]  2018         199             1          True   \n",
       "74418  [8756758X,  14602695]  2019         210             1          True   \n",
       "74419  [8756758X,  14602695]  2020         221             1          True   \n",
       "74420  [8756971X,  19436270]  2010          69             1          True   \n",
       "\n",
       "                     DOI                                            Results  \n",
       "0      10.1002/aic.12400  [https://sci.bban.top/pdf/10.1002/aic.12400.pd...  \n",
       "1      10.1002/aic.12671  [https://sci.bban.top/pdf/10.1002/aic.12671.pd...  \n",
       "2      10.1002/aic.13810  [https://sci.bban.top/pdf/10.1002/aic.13810.pd...  \n",
       "3      10.1002/aic.14056  [https://sci.bban.top/pdf/10.1002/aic.14056.pd...  \n",
       "4      10.1002/aic.14601  [https://sci.bban.top/pdf/10.1002/aic.14601.pd...  \n",
       "...                  ...                                                ...  \n",
       "74416  10.1111/ffe.12617  [https://sci.bban.top/pdf/10.1111/ffe.12617.pd...  \n",
       "74417  10.1111/ffe.12803  [https://sci.bban.top/pdf/10.1111/ffe.12803.pd...  \n",
       "74418  10.1111/ffe.13083  [https://sci.bban.top/pdf/10.1111/ffe.13083.pd...  \n",
       "74419  10.1111/ffe.13260  [https://sci.bban.top/pdf/10.1111/ffe.13260.pd...  \n",
       "74420  10.2987/10-5993.1  [https://sci.bban.top/pdf/10.2987/10-5993.1.pd...  \n",
       "\n",
       "[74421 rows x 7 columns]"
      ]
     },
     "execution_count": 8,
     "metadata": {},
     "output_type": "execute_result"
    }
   ],
   "source": [
    "retr_complete_one"
   ]
  },
  {
   "cell_type": "markdown",
   "metadata": {},
   "source": [
    "The only USEFUL finding in this step is that, retr_complete_one has a slightly altered Issn column with fewer ISSN codes than a newly created version of it (q_ready).\n",
    "\n",
    "As a result, this column will be REPLACED once all the work in the previous nb is completed!"
   ]
  },
  {
   "cell_type": "markdown",
   "metadata": {},
   "source": [
    "## PART 1: Creating a COMPELETE (1st + 2nd run) date_df"
   ]
  },
  {
   "cell_type": "code",
   "execution_count": 4,
   "metadata": {},
   "outputs": [],
   "source": [
    "%store -r date_df\n",
    "%store -r second_run_date_df"
   ]
  },
  {
   "cell_type": "code",
   "execution_count": 24,
   "metadata": {},
   "outputs": [],
   "source": [
    "duplicate_dois = set(date_df.index.tolist()).intersection(set(second_run_date_df.index.tolist()))\n",
    "date_df.drop(duplicate_dois, inplace=True)\n",
    "\n",
    "date_df_full = date_df.append(second_run_date_df,verify_integrity=True)\n",
    "date_df_full.drop(\"Year\", axis=1, inplace=True)"
   ]
  },
  {
   "cell_type": "markdown",
   "metadata": {},
   "source": [
    "date_df_full is created!"
   ]
  },
  {
   "cell_type": "code",
   "execution_count": 2,
   "metadata": {},
   "outputs": [],
   "source": [
    "%store -r date_df_full"
   ]
  },
  {
   "cell_type": "code",
   "execution_count": 6,
   "metadata": {},
   "outputs": [],
   "source": [
    "with open(\"date_df_full\",\"wb\") as fp:\n",
    "    pickle.dump(date_df_full, fp)"
   ]
  },
  {
   "cell_type": "markdown",
   "metadata": {},
   "source": [
    "The analysis below shows that, the missing (.) in the regex results in a 0.8% percent found date increase. This alone is not necessary for re-doing the entire dataset BUT:\n",
    "\n",
    "* we now have the direct URLs for the successful articles, which should quicken & simplify the process if we decide to re-run\n",
    "* KEYWORDS extraction might be necessary for future anaylsis, which would give us a second chance to loop through anyways!"
   ]
  },
  {
   "cell_type": "code",
   "execution_count": 46,
   "metadata": {},
   "outputs": [
    {
     "data": {
      "text/plain": [
       "2     990\n",
       "3       8\n",
       "21      1\n",
       "13      1\n",
       "Name: New_Results, dtype: int64"
      ]
     },
     "execution_count": 46,
     "metadata": {},
     "output_type": "execute_result"
    }
   ],
   "source": [
    "sh = SciHub()\n",
    "new_date_regex_test = date_df_full[date_df_full.Results.map(len)==2].sample(1000)\n",
    "new_date_regex_test[\"New_Results\"] = new_date_regex_test.index.map(sh.get_dates)\n",
    "new_date_regex_test[\"New_Results\"].map(len).value_counts()"
   ]
  },
  {
   "cell_type": "markdown",
   "metadata": {},
   "source": [
    "### PART 1.A: date_df_full_analysis"
   ]
  },
  {
   "cell_type": "markdown",
   "metadata": {},
   "source": [
    "TTD for date_df_full:\n",
    "\n",
    "* \"skipped\"  -> not filtered BUT in date_df_str_fail\n",
    "* \"published\" column function\n",
    "* \"Results\" column expand function -> DONE!\n",
    "* \"language\" analysis (can we extact the lang. from the title for non-en articles)\n",
    "* Check \"ISSN\" format\n",
    "* Simplify \"author\" column -> maybe create a author_df"
   ]
  },
  {
   "cell_type": "code",
   "execution_count": 3,
   "metadata": {},
   "outputs": [
    {
     "name": "stdout",
     "output_type": "stream",
     "text": [
      "<class 'pandas.core.frame.DataFrame'>\n",
      "Index: 128325 entries, 10.1002/aic.12400 to 10.2987/09-5974.1\n",
      "Data columns (total 15 columns):\n",
      " #   Column                  Non-Null Count   Dtype \n",
      "---  ------                  --------------   ----- \n",
      " 0   reference-count         128325 non-null  int64 \n",
      " 1   publisher               128322 non-null  object\n",
      " 2   published-print         120008 non-null  object\n",
      " 3   is-referenced-by-count  128325 non-null  int64 \n",
      " 4   title                   128325 non-null  object\n",
      " 5   author                  120229 non-null  object\n",
      " 6   published-online        82580 non-null   object\n",
      " 7   reference               89421 non-null   object\n",
      " 8   container-title         128325 non-null  object\n",
      " 9   language                57136 non-null   object\n",
      " 10  issued                  128325 non-null  object\n",
      " 11  ISSN                    128325 non-null  object\n",
      " 12  subject                 127964 non-null  object\n",
      " 13  published               62215 non-null   object\n",
      " 14  Results                 128325 non-null  object\n",
      "dtypes: int64(2), object(13)\n",
      "memory usage: 15.7+ MB\n"
     ]
    }
   ],
   "source": [
    "date_df_full.info()"
   ]
  },
  {
   "cell_type": "code",
   "execution_count": 8,
   "metadata": {},
   "outputs": [
    {
     "data": {
      "text/plain": [
       "<class 'list'>    114713\n",
       "<class 'str'>      13612\n",
       "Name: Results, dtype: int64"
      ]
     },
     "execution_count": 8,
     "metadata": {},
     "output_type": "execute_result"
    }
   ],
   "source": [
    "# 1- \"not_in Scihub\" & SKIPPED:\n",
    "\n",
    "date_df_full.Results.map(type).value_counts()"
   ]
  },
  {
   "cell_type": "code",
   "execution_count": 14,
   "metadata": {},
   "outputs": [
    {
     "data": {
      "text/plain": [
       "DOI\n",
       "10.1590/0001-3675202020180560    article_not_in Scihub\n",
       "10.2308/accr.2010.85.2.749       article_not_in Scihub\n",
       "10.2308/1558-7967-88.2.i         article_not_in_Scihub\n",
       "10.2308/accr-52555               article_not_in_Scihub\n",
       "10.2308/tar-2018-0144            article_not_in_Scihub\n",
       "                                         ...          \n",
       "10.2979/jfemistudreli.33.1.22    article_not_in Scihub\n",
       "10.2979/jfemistudreli.35.1.10    article_not_in Scihub\n",
       "10.2979/jfemistudreli.35.2.02    article_not_in Scihub\n",
       "10.1002/ppul.24461                             skipped\n",
       "10.1016/j.bone.2016.03.013                     skipped\n",
       "Name: Results, Length: 13612, dtype: object"
      ]
     },
     "execution_count": 14,
     "metadata": {},
     "output_type": "execute_result"
    }
   ],
   "source": [
    "date_df_full.loc[date_df_full.Results.map(type)==str,\"Results\"] = date_df_full[date_df_full.Results.map(type)==str].Results.str.replace(\"article_not_in Scihub\", \"article_not_in_Scihub\")"
   ]
  },
  {
   "cell_type": "code",
   "execution_count": 13,
   "metadata": {},
   "outputs": [
    {
     "data": {
      "text/plain": [
       "DOI\n",
       "10.1590/0001-3675202020180560    article_not_in_Scihub\n",
       "10.2308/accr.2010.85.2.749       article_not_in_Scihub\n",
       "10.2308/1558-7967-88.2.i         article_not_in_Scihub\n",
       "10.2308/accr-52555               article_not_in_Scihub\n",
       "10.2308/tar-2018-0144            article_not_in_Scihub\n",
       "                                         ...          \n",
       "10.2979/jfemistudreli.33.1.22    article_not_in_Scihub\n",
       "10.2979/jfemistudreli.35.1.10    article_not_in_Scihub\n",
       "10.2979/jfemistudreli.35.2.02    article_not_in_Scihub\n",
       "10.1002/ppul.24461                             skipped\n",
       "10.1016/j.bone.2016.03.013                     skipped\n",
       "Name: Results, Length: 13612, dtype: object"
      ]
     },
     "execution_count": 13,
     "metadata": {},
     "output_type": "execute_result"
    }
   ],
   "source": [
    "date_df_full[date_df_full.Results.map(type)==str].Results.str.replace(\"article_not_in Scihub\", \"article_not_in_Scihub\")"
   ]
  },
  {
   "cell_type": "code",
   "execution_count": 15,
   "metadata": {},
   "outputs": [
    {
     "data": {
      "text/plain": [
       "article_not_in Scihub    7392\n",
       "skipped                  3868\n",
       "article_not_in_Scihub    2093\n",
       "cant_read_pdf             242\n",
       "direct_url_error           10\n",
       "pdf_bytes_error             7\n",
       "Name: Results, dtype: int64"
      ]
     },
     "execution_count": 15,
     "metadata": {},
     "output_type": "execute_result"
    }
   ],
   "source": [
    "date_df_full[date_df_full.Results.map(type)==str].Results.value_counts()"
   ]
  },
  {
   "cell_type": "code",
   "execution_count": 16,
   "metadata": {},
   "outputs": [
    {
     "data": {
      "text/plain": [
       "2    78218\n",
       "3    36495\n",
       "Name: Results, dtype: int64"
      ]
     },
     "execution_count": 16,
     "metadata": {},
     "output_type": "execute_result"
    }
   ],
   "source": [
    "date_df_full[date_df_full.Results.map(type)==list].Results.map(len).value_counts()"
   ]
  },
  {
   "cell_type": "code",
   "execution_count": 30,
   "metadata": {},
   "outputs": [],
   "source": [
    "date_df_str_fail = date_df_full[date_df_full.Results.map(type)==str]"
   ]
  },
  {
   "cell_type": "code",
   "execution_count": 31,
   "metadata": {},
   "outputs": [],
   "source": [
    "date_df_ok = date_df_full[date_df_full.Results.map(type)==list]"
   ]
  },
  {
   "cell_type": "code",
   "execution_count": 40,
   "metadata": {},
   "outputs": [],
   "source": [
    "def result_mapper(lst):\n",
    "    if len(lst) == 2:\n",
    "        return lst[0], np.nan, np.nan\n",
    "    elif len(lst) == 3:\n",
    "        return lst[0], lst[1], lst[2]\n"
   ]
  },
  {
   "cell_type": "code",
   "execution_count": 41,
   "metadata": {},
   "outputs": [
    {
     "name": "stderr",
     "output_type": "stream",
     "text": [
      "<ipython-input-41-ea02f5184982>:1: SettingWithCopyWarning: \n",
      "A value is trying to be set on a copy of a slice from a DataFrame.\n",
      "Try using .loc[row_indexer,col_indexer] = value instead\n",
      "\n",
      "See the caveats in the documentation: https://pandas.pydata.org/pandas-docs/stable/user_guide/indexing.html#returning-a-view-versus-a-copy\n",
      "  date_df_ok[\"direct_url\"], date_df_ok[\"Rec_date\"], date_df_ok[\"Acc_date\"] = zip(*date_df_ok.Results.map(result_mapper))\n",
      "<ipython-input-41-ea02f5184982>:1: SettingWithCopyWarning: \n",
      "A value is trying to be set on a copy of a slice from a DataFrame.\n",
      "Try using .loc[row_indexer,col_indexer] = value instead\n",
      "\n",
      "See the caveats in the documentation: https://pandas.pydata.org/pandas-docs/stable/user_guide/indexing.html#returning-a-view-versus-a-copy\n",
      "  date_df_ok[\"direct_url\"], date_df_ok[\"Rec_date\"], date_df_ok[\"Acc_date\"] = zip(*date_df_ok.Results.map(result_mapper))\n",
      "<ipython-input-41-ea02f5184982>:1: SettingWithCopyWarning: \n",
      "A value is trying to be set on a copy of a slice from a DataFrame.\n",
      "Try using .loc[row_indexer,col_indexer] = value instead\n",
      "\n",
      "See the caveats in the documentation: https://pandas.pydata.org/pandas-docs/stable/user_guide/indexing.html#returning-a-view-versus-a-copy\n",
      "  date_df_ok[\"direct_url\"], date_df_ok[\"Rec_date\"], date_df_ok[\"Acc_date\"] = zip(*date_df_ok.Results.map(result_mapper))\n"
     ]
    }
   ],
   "source": [
    "date_df_ok[\"direct_url\"], date_df_ok[\"Rec_date\"], date_df_ok[\"Acc_date\"] = zip(*date_df_ok.Results.map(result_mapper))"
   ]
  },
  {
   "cell_type": "code",
   "execution_count": 43,
   "metadata": {},
   "outputs": [
    {
     "data": {
      "text/plain": [
       "<class 'str'>    114713\n",
       "Name: direct_url, dtype: int64"
      ]
     },
     "execution_count": 43,
     "metadata": {},
     "output_type": "execute_result"
    }
   ],
   "source": [
    "date_df_ok[\"direct_url\"].map(type).value_counts()"
   ]
  },
  {
   "cell_type": "code",
   "execution_count": 45,
   "metadata": {},
   "outputs": [
    {
     "data": {
      "text/plain": [
       "<class 'float'>       78218\n",
       "<class 'str'>         34032\n",
       "<class 'NoneType'>     2463\n",
       "Name: Rec_date, dtype: int64"
      ]
     },
     "execution_count": 45,
     "metadata": {},
     "output_type": "execute_result"
    }
   ],
   "source": [
    "date_df_ok[\"Rec_date\"].map(type).value_counts()"
   ]
  },
  {
   "cell_type": "code",
   "execution_count": 46,
   "metadata": {},
   "outputs": [
    {
     "data": {
      "text/plain": [
       "<class 'float'>       78218\n",
       "<class 'str'>         30881\n",
       "<class 'NoneType'>     5614\n",
       "Name: Acc_date, dtype: int64"
      ]
     },
     "execution_count": 46,
     "metadata": {},
     "output_type": "execute_result"
    }
   ],
   "source": [
    "date_df_ok[\"Acc_date\"].map(type).value_counts()"
   ]
  },
  {
   "cell_type": "code",
   "execution_count": 52,
   "metadata": {},
   "outputs": [
    {
     "data": {
      "text/html": [
       "<div>\n",
       "<style scoped>\n",
       "    .dataframe tbody tr th:only-of-type {\n",
       "        vertical-align: middle;\n",
       "    }\n",
       "\n",
       "    .dataframe tbody tr th {\n",
       "        vertical-align: top;\n",
       "    }\n",
       "\n",
       "    .dataframe thead th {\n",
       "        text-align: right;\n",
       "    }\n",
       "</style>\n",
       "<table border=\"1\" class=\"dataframe\">\n",
       "  <thead>\n",
       "    <tr style=\"text-align: right;\">\n",
       "      <th></th>\n",
       "      <th>reference-count</th>\n",
       "      <th>publisher</th>\n",
       "      <th>published-print</th>\n",
       "      <th>is-referenced-by-count</th>\n",
       "      <th>title</th>\n",
       "      <th>author</th>\n",
       "      <th>published-online</th>\n",
       "      <th>reference</th>\n",
       "      <th>container-title</th>\n",
       "      <th>language</th>\n",
       "      <th>issued</th>\n",
       "      <th>ISSN</th>\n",
       "      <th>subject</th>\n",
       "      <th>published</th>\n",
       "      <th>Results</th>\n",
       "      <th>direct_url</th>\n",
       "      <th>Rec_date</th>\n",
       "      <th>Acc_date</th>\n",
       "    </tr>\n",
       "    <tr>\n",
       "      <th>DOI</th>\n",
       "      <th></th>\n",
       "      <th></th>\n",
       "      <th></th>\n",
       "      <th></th>\n",
       "      <th></th>\n",
       "      <th></th>\n",
       "      <th></th>\n",
       "      <th></th>\n",
       "      <th></th>\n",
       "      <th></th>\n",
       "      <th></th>\n",
       "      <th></th>\n",
       "      <th></th>\n",
       "      <th></th>\n",
       "      <th></th>\n",
       "      <th></th>\n",
       "      <th></th>\n",
       "      <th></th>\n",
       "    </tr>\n",
       "  </thead>\n",
       "  <tbody>\n",
       "    <tr>\n",
       "      <th>10.1002/aic.12400</th>\n",
       "      <td>26</td>\n",
       "      <td>Wiley</td>\n",
       "      <td>{'date-parts': [[2011, 7]]}</td>\n",
       "      <td>14</td>\n",
       "      <td>[Fabrication of an anionic polythiophene/layer...</td>\n",
       "      <td>[{'given': 'Dongpeng', 'family': 'Yan', 'seque...</td>\n",
       "      <td>{'date-parts': [[2010, 9, 17]]}</td>\n",
       "      <td>[{'key': '10.1002/aic.12400-BIB1|cit1', 'doi-a...</td>\n",
       "      <td>[AIChE Journal]</td>\n",
       "      <td>en</td>\n",
       "      <td>{'date-parts': [[2010, 9, 17]]}</td>\n",
       "      <td>[0001-1541]</td>\n",
       "      <td>[General Chemical Engineering, Environmental E...</td>\n",
       "      <td>{'date-parts': [[2010, 9, 17]]}</td>\n",
       "      <td>[https://sci.bban.top/pdf/10.1002/aic.12400.pd...</td>\n",
       "      <td>https://sci.bban.top/pdf/10.1002/aic.12400.pdf...</td>\n",
       "      <td>NaN</td>\n",
       "      <td>NaN</td>\n",
       "    </tr>\n",
       "    <tr>\n",
       "      <th>10.1002/aic.12671</th>\n",
       "      <td>14</td>\n",
       "      <td>Wiley</td>\n",
       "      <td>{'date-parts': [[2012, 5]]}</td>\n",
       "      <td>0</td>\n",
       "      <td>[Gas phase reaction kinetics in boron fibre pr...</td>\n",
       "      <td>[{'given': 'Fatih', 'family': 'Fırat', 'sequen...</td>\n",
       "      <td>{'date-parts': [[2011, 6, 1]]}</td>\n",
       "      <td>[{'key': '10.1002/aic.12671-BIB1|cit1', 'volum...</td>\n",
       "      <td>[AIChE Journal]</td>\n",
       "      <td>en</td>\n",
       "      <td>{'date-parts': [[2011, 6, 1]]}</td>\n",
       "      <td>[0001-1541]</td>\n",
       "      <td>[General Chemical Engineering, Environmental E...</td>\n",
       "      <td>{'date-parts': [[2011, 6, 1]]}</td>\n",
       "      <td>[https://sci.bban.top/pdf/10.1002/aic.12671.pd...</td>\n",
       "      <td>https://sci.bban.top/pdf/10.1002/aic.12671.pdf...</td>\n",
       "      <td>NaN</td>\n",
       "      <td>NaN</td>\n",
       "    </tr>\n",
       "    <tr>\n",
       "      <th>10.1002/aic.13810</th>\n",
       "      <td>37</td>\n",
       "      <td>Wiley</td>\n",
       "      <td>{'date-parts': [[2013, 1]]}</td>\n",
       "      <td>17</td>\n",
       "      <td>[Rapid assembly of polyelectrolyte multilayer ...</td>\n",
       "      <td>[{'given': 'Haiqi', 'family': 'Tang', 'sequenc...</td>\n",
       "      <td>{'date-parts': [[2012, 4, 23]]}</td>\n",
       "      <td>[{'key': '10.1002/aic.13810-BIB0001|aic13810-c...</td>\n",
       "      <td>[AIChE Journal]</td>\n",
       "      <td>en</td>\n",
       "      <td>{'date-parts': [[2012, 4, 23]]}</td>\n",
       "      <td>[0001-1541]</td>\n",
       "      <td>[General Chemical Engineering, Environmental E...</td>\n",
       "      <td>{'date-parts': [[2012, 4, 23]]}</td>\n",
       "      <td>[https://sci.bban.top/pdf/10.1002/aic.13810.pd...</td>\n",
       "      <td>https://sci.bban.top/pdf/10.1002/aic.13810.pdf...</td>\n",
       "      <td>NaN</td>\n",
       "      <td>NaN</td>\n",
       "    </tr>\n",
       "    <tr>\n",
       "      <th>10.1002/aic.14056</th>\n",
       "      <td>0</td>\n",
       "      <td>Wiley</td>\n",
       "      <td>{'date-parts': [[2013, 4]]}</td>\n",
       "      <td>19</td>\n",
       "      <td>[A computer-aided methodology to design safe f...</td>\n",
       "      <td>[{'given': 'Phuong-Mai', 'family': 'Nguyen', '...</td>\n",
       "      <td>{'date-parts': [[2013, 3, 6]]}</td>\n",
       "      <td>NaN</td>\n",
       "      <td>[AIChE Journal]</td>\n",
       "      <td>en</td>\n",
       "      <td>{'date-parts': [[2013, 3, 6]]}</td>\n",
       "      <td>[0001-1541]</td>\n",
       "      <td>[General Chemical Engineering, Environmental E...</td>\n",
       "      <td>{'date-parts': [[2013, 3, 6]]}</td>\n",
       "      <td>[https://sci.bban.top/pdf/10.1002/aic.14056.pd...</td>\n",
       "      <td>https://sci.bban.top/pdf/10.1002/aic.14056.pdf...</td>\n",
       "      <td>July 3, 2012</td>\n",
       "      <td>None</td>\n",
       "    </tr>\n",
       "    <tr>\n",
       "      <th>10.1002/aic.14601</th>\n",
       "      <td>37</td>\n",
       "      <td>Wiley</td>\n",
       "      <td>{'date-parts': [[2014, 11]]}</td>\n",
       "      <td>12</td>\n",
       "      <td>[Cake properties of nanocolloid evaluated by v...</td>\n",
       "      <td>[{'given': 'Eiji', 'family': 'Iritani', 'seque...</td>\n",
       "      <td>{'date-parts': [[2014, 9, 16]]}</td>\n",
       "      <td>[{'key': '10.1002/aic.14601-BIB0001|aic14601-c...</td>\n",
       "      <td>[AIChE Journal]</td>\n",
       "      <td>en</td>\n",
       "      <td>{'date-parts': [[2014, 9, 16]]}</td>\n",
       "      <td>[0001-1541]</td>\n",
       "      <td>[General Chemical Engineering, Environmental E...</td>\n",
       "      <td>{'date-parts': [[2014, 9, 16]]}</td>\n",
       "      <td>[https://sci.bban.top/pdf/10.1002/aic.14601.pd...</td>\n",
       "      <td>https://sci.bban.top/pdf/10.1002/aic.14601.pdf...</td>\n",
       "      <td>July 24, 2014</td>\n",
       "      <td>None</td>\n",
       "    </tr>\n",
       "  </tbody>\n",
       "</table>\n",
       "</div>"
      ],
      "text/plain": [
       "                   reference-count publisher               published-print  \\\n",
       "DOI                                                                          \n",
       "10.1002/aic.12400               26     Wiley   {'date-parts': [[2011, 7]]}   \n",
       "10.1002/aic.12671               14     Wiley   {'date-parts': [[2012, 5]]}   \n",
       "10.1002/aic.13810               37     Wiley   {'date-parts': [[2013, 1]]}   \n",
       "10.1002/aic.14056                0     Wiley   {'date-parts': [[2013, 4]]}   \n",
       "10.1002/aic.14601               37     Wiley  {'date-parts': [[2014, 11]]}   \n",
       "\n",
       "                   is-referenced-by-count  \\\n",
       "DOI                                         \n",
       "10.1002/aic.12400                      14   \n",
       "10.1002/aic.12671                       0   \n",
       "10.1002/aic.13810                      17   \n",
       "10.1002/aic.14056                      19   \n",
       "10.1002/aic.14601                      12   \n",
       "\n",
       "                                                               title  \\\n",
       "DOI                                                                    \n",
       "10.1002/aic.12400  [Fabrication of an anionic polythiophene/layer...   \n",
       "10.1002/aic.12671  [Gas phase reaction kinetics in boron fibre pr...   \n",
       "10.1002/aic.13810  [Rapid assembly of polyelectrolyte multilayer ...   \n",
       "10.1002/aic.14056  [A computer-aided methodology to design safe f...   \n",
       "10.1002/aic.14601  [Cake properties of nanocolloid evaluated by v...   \n",
       "\n",
       "                                                              author  \\\n",
       "DOI                                                                    \n",
       "10.1002/aic.12400  [{'given': 'Dongpeng', 'family': 'Yan', 'seque...   \n",
       "10.1002/aic.12671  [{'given': 'Fatih', 'family': 'Fırat', 'sequen...   \n",
       "10.1002/aic.13810  [{'given': 'Haiqi', 'family': 'Tang', 'sequenc...   \n",
       "10.1002/aic.14056  [{'given': 'Phuong-Mai', 'family': 'Nguyen', '...   \n",
       "10.1002/aic.14601  [{'given': 'Eiji', 'family': 'Iritani', 'seque...   \n",
       "\n",
       "                                  published-online  \\\n",
       "DOI                                                  \n",
       "10.1002/aic.12400  {'date-parts': [[2010, 9, 17]]}   \n",
       "10.1002/aic.12671   {'date-parts': [[2011, 6, 1]]}   \n",
       "10.1002/aic.13810  {'date-parts': [[2012, 4, 23]]}   \n",
       "10.1002/aic.14056   {'date-parts': [[2013, 3, 6]]}   \n",
       "10.1002/aic.14601  {'date-parts': [[2014, 9, 16]]}   \n",
       "\n",
       "                                                           reference  \\\n",
       "DOI                                                                    \n",
       "10.1002/aic.12400  [{'key': '10.1002/aic.12400-BIB1|cit1', 'doi-a...   \n",
       "10.1002/aic.12671  [{'key': '10.1002/aic.12671-BIB1|cit1', 'volum...   \n",
       "10.1002/aic.13810  [{'key': '10.1002/aic.13810-BIB0001|aic13810-c...   \n",
       "10.1002/aic.14056                                                NaN   \n",
       "10.1002/aic.14601  [{'key': '10.1002/aic.14601-BIB0001|aic14601-c...   \n",
       "\n",
       "                   container-title language                           issued  \\\n",
       "DOI                                                                            \n",
       "10.1002/aic.12400  [AIChE Journal]       en  {'date-parts': [[2010, 9, 17]]}   \n",
       "10.1002/aic.12671  [AIChE Journal]       en   {'date-parts': [[2011, 6, 1]]}   \n",
       "10.1002/aic.13810  [AIChE Journal]       en  {'date-parts': [[2012, 4, 23]]}   \n",
       "10.1002/aic.14056  [AIChE Journal]       en   {'date-parts': [[2013, 3, 6]]}   \n",
       "10.1002/aic.14601  [AIChE Journal]       en  {'date-parts': [[2014, 9, 16]]}   \n",
       "\n",
       "                          ISSN  \\\n",
       "DOI                              \n",
       "10.1002/aic.12400  [0001-1541]   \n",
       "10.1002/aic.12671  [0001-1541]   \n",
       "10.1002/aic.13810  [0001-1541]   \n",
       "10.1002/aic.14056  [0001-1541]   \n",
       "10.1002/aic.14601  [0001-1541]   \n",
       "\n",
       "                                                             subject  \\\n",
       "DOI                                                                    \n",
       "10.1002/aic.12400  [General Chemical Engineering, Environmental E...   \n",
       "10.1002/aic.12671  [General Chemical Engineering, Environmental E...   \n",
       "10.1002/aic.13810  [General Chemical Engineering, Environmental E...   \n",
       "10.1002/aic.14056  [General Chemical Engineering, Environmental E...   \n",
       "10.1002/aic.14601  [General Chemical Engineering, Environmental E...   \n",
       "\n",
       "                                         published  \\\n",
       "DOI                                                  \n",
       "10.1002/aic.12400  {'date-parts': [[2010, 9, 17]]}   \n",
       "10.1002/aic.12671   {'date-parts': [[2011, 6, 1]]}   \n",
       "10.1002/aic.13810  {'date-parts': [[2012, 4, 23]]}   \n",
       "10.1002/aic.14056   {'date-parts': [[2013, 3, 6]]}   \n",
       "10.1002/aic.14601  {'date-parts': [[2014, 9, 16]]}   \n",
       "\n",
       "                                                             Results  \\\n",
       "DOI                                                                    \n",
       "10.1002/aic.12400  [https://sci.bban.top/pdf/10.1002/aic.12400.pd...   \n",
       "10.1002/aic.12671  [https://sci.bban.top/pdf/10.1002/aic.12671.pd...   \n",
       "10.1002/aic.13810  [https://sci.bban.top/pdf/10.1002/aic.13810.pd...   \n",
       "10.1002/aic.14056  [https://sci.bban.top/pdf/10.1002/aic.14056.pd...   \n",
       "10.1002/aic.14601  [https://sci.bban.top/pdf/10.1002/aic.14601.pd...   \n",
       "\n",
       "                                                          direct_url  \\\n",
       "DOI                                                                    \n",
       "10.1002/aic.12400  https://sci.bban.top/pdf/10.1002/aic.12400.pdf...   \n",
       "10.1002/aic.12671  https://sci.bban.top/pdf/10.1002/aic.12671.pdf...   \n",
       "10.1002/aic.13810  https://sci.bban.top/pdf/10.1002/aic.13810.pdf...   \n",
       "10.1002/aic.14056  https://sci.bban.top/pdf/10.1002/aic.14056.pdf...   \n",
       "10.1002/aic.14601  https://sci.bban.top/pdf/10.1002/aic.14601.pdf...   \n",
       "\n",
       "                        Rec_date Acc_date  \n",
       "DOI                                        \n",
       "10.1002/aic.12400            NaN      NaN  \n",
       "10.1002/aic.12671            NaN      NaN  \n",
       "10.1002/aic.13810            NaN      NaN  \n",
       "10.1002/aic.14056   July 3, 2012     None  \n",
       "10.1002/aic.14601  July 24, 2014     None  "
      ]
     },
     "execution_count": 52,
     "metadata": {},
     "output_type": "execute_result"
    }
   ],
   "source": [
    "date_df_ok.head()"
   ]
  },
  {
   "cell_type": "markdown",
   "metadata": {},
   "source": [
    "### PART 1.B: retr_complete_one & second_run_df analysis"
   ]
  },
  {
   "cell_type": "code",
   "execution_count": 19,
   "metadata": {},
   "outputs": [],
   "source": [
    "%store -r retr_complete_one\n",
    "%store -r second_run_df"
   ]
  },
  {
   "cell_type": "code",
   "execution_count": 20,
   "metadata": {},
   "outputs": [
    {
     "name": "stdout",
     "output_type": "stream",
     "text": [
      "<class 'pandas.core.frame.DataFrame'>\n",
      "Int64Index: 74421 entries, 0 to 74420\n",
      "Data columns (total 7 columns):\n",
      " #   Column         Non-Null Count  Dtype \n",
      "---  ------         --------------  ----- \n",
      " 0   Issn           74421 non-null  object\n",
      " 1   Year           74421 non-null  int32 \n",
      " 2   Total_Docs     74421 non-null  int64 \n",
      " 3   Sample_Count   74421 non-null  int64 \n",
      " 4   CrossRef_retr  74421 non-null  object\n",
      " 5   DOI            74421 non-null  object\n",
      " 6   Results        64119 non-null  object\n",
      "dtypes: int32(1), int64(2), object(4)\n",
      "memory usage: 4.3+ MB\n"
     ]
    }
   ],
   "source": [
    "retr_complete_one.info()"
   ]
  },
  {
   "cell_type": "code",
   "execution_count": 22,
   "metadata": {},
   "outputs": [
    {
     "data": {
      "text/plain": [
       "<class 'list'>     60596\n",
       "<class 'float'>    10302\n",
       "<class 'str'>       3523\n",
       "Name: Results, dtype: int64"
      ]
     },
     "execution_count": 22,
     "metadata": {},
     "output_type": "execute_result"
    }
   ],
   "source": [
    "retr_complete_one.Results.map(type).value_counts()"
   ]
  },
  {
   "cell_type": "code",
   "execution_count": 24,
   "metadata": {},
   "outputs": [
    {
     "data": {
      "text/plain": [
       "3    31022\n",
       "2    29574\n",
       "Name: Results, dtype: int64"
      ]
     },
     "execution_count": 24,
     "metadata": {},
     "output_type": "execute_result"
    }
   ],
   "source": [
    "retr_complete_one[retr_complete_one.Results.map(type)==list].Results.map(len).value_counts()"
   ]
  },
  {
   "cell_type": "code",
   "execution_count": 26,
   "metadata": {},
   "outputs": [
    {
     "data": {
      "text/plain": [
       "3    31022\n",
       "2    29574\n",
       "Name: Results, dtype: int64"
      ]
     },
     "execution_count": 26,
     "metadata": {},
     "output_type": "execute_result"
    }
   ],
   "source": [
    "date_df[date_df.Results.map(type)==list].Results.map(len).value_counts()"
   ]
  },
  {
   "cell_type": "code",
   "execution_count": 27,
   "metadata": {},
   "outputs": [
    {
     "data": {
      "text/html": [
       "<div>\n",
       "<style scoped>\n",
       "    .dataframe tbody tr th:only-of-type {\n",
       "        vertical-align: middle;\n",
       "    }\n",
       "\n",
       "    .dataframe tbody tr th {\n",
       "        vertical-align: top;\n",
       "    }\n",
       "\n",
       "    .dataframe thead th {\n",
       "        text-align: right;\n",
       "    }\n",
       "</style>\n",
       "<table border=\"1\" class=\"dataframe\">\n",
       "  <thead>\n",
       "    <tr style=\"text-align: right;\">\n",
       "      <th></th>\n",
       "      <th>Issn</th>\n",
       "      <th>Year</th>\n",
       "      <th>Total_Docs</th>\n",
       "      <th>Sample_Count</th>\n",
       "      <th>CrossRef_retr</th>\n",
       "      <th>DOI</th>\n",
       "      <th>Results</th>\n",
       "      <th>Second_CR_retr</th>\n",
       "      <th>2nd_Results</th>\n",
       "    </tr>\n",
       "  </thead>\n",
       "  <tbody>\n",
       "    <tr>\n",
       "      <th>0</th>\n",
       "      <td>[00011541]</td>\n",
       "      <td>2010</td>\n",
       "      <td>294</td>\n",
       "      <td>1</td>\n",
       "      <td>True</td>\n",
       "      <td>10.1002/aic.12400</td>\n",
       "      <td>[https://sci.bban.top/pdf/10.1002/aic.12400.pd...</td>\n",
       "      <td>True</td>\n",
       "      <td>[10.1002/aic.12388]</td>\n",
       "    </tr>\n",
       "    <tr>\n",
       "      <th>1</th>\n",
       "      <td>[00011541]</td>\n",
       "      <td>2011</td>\n",
       "      <td>315</td>\n",
       "      <td>1</td>\n",
       "      <td>True</td>\n",
       "      <td>10.1002/aic.12671</td>\n",
       "      <td>[https://sci.bban.top/pdf/10.1002/aic.12671.pd...</td>\n",
       "      <td>True</td>\n",
       "      <td>[]</td>\n",
       "    </tr>\n",
       "    <tr>\n",
       "      <th>2</th>\n",
       "      <td>[00011541]</td>\n",
       "      <td>2012</td>\n",
       "      <td>347</td>\n",
       "      <td>1</td>\n",
       "      <td>True</td>\n",
       "      <td>10.1002/aic.13810</td>\n",
       "      <td>[https://sci.bban.top/pdf/10.1002/aic.13810.pd...</td>\n",
       "      <td>True</td>\n",
       "      <td>[]</td>\n",
       "    </tr>\n",
       "    <tr>\n",
       "      <th>21</th>\n",
       "      <td>[00013765]</td>\n",
       "      <td>2020</td>\n",
       "      <td>363</td>\n",
       "      <td>1</td>\n",
       "      <td>True</td>\n",
       "      <td>10.1590/0001-3675202020180560</td>\n",
       "      <td>article_not_in Scihub</td>\n",
       "      <td>True</td>\n",
       "      <td>[]</td>\n",
       "    </tr>\n",
       "    <tr>\n",
       "      <th>22</th>\n",
       "      <td>[00014273]</td>\n",
       "      <td>2010</td>\n",
       "      <td>70</td>\n",
       "      <td>1</td>\n",
       "      <td>True</td>\n",
       "      <td>10.5465/amj.2010.52814362</td>\n",
       "      <td>[https://sci.bban.top/pdf/10.5465/amj.2010.528...</td>\n",
       "      <td>True</td>\n",
       "      <td>[]</td>\n",
       "    </tr>\n",
       "  </tbody>\n",
       "</table>\n",
       "</div>"
      ],
      "text/plain": [
       "          Issn  Year  Total_Docs  Sample_Count CrossRef_retr  \\\n",
       "0   [00011541]  2010         294             1          True   \n",
       "1   [00011541]  2011         315             1          True   \n",
       "2   [00011541]  2012         347             1          True   \n",
       "21  [00013765]  2020         363             1          True   \n",
       "22  [00014273]  2010          70             1          True   \n",
       "\n",
       "                              DOI  \\\n",
       "0               10.1002/aic.12400   \n",
       "1               10.1002/aic.12671   \n",
       "2               10.1002/aic.13810   \n",
       "21  10.1590/0001-3675202020180560   \n",
       "22      10.5465/amj.2010.52814362   \n",
       "\n",
       "                                              Results Second_CR_retr  \\\n",
       "0   [https://sci.bban.top/pdf/10.1002/aic.12400.pd...           True   \n",
       "1   [https://sci.bban.top/pdf/10.1002/aic.12671.pd...           True   \n",
       "2   [https://sci.bban.top/pdf/10.1002/aic.13810.pd...           True   \n",
       "21                              article_not_in Scihub           True   \n",
       "22  [https://sci.bban.top/pdf/10.5465/amj.2010.528...           True   \n",
       "\n",
       "            2nd_Results  \n",
       "0   [10.1002/aic.12388]  \n",
       "1                    []  \n",
       "2                    []  \n",
       "21                   []  \n",
       "22                   []  "
      ]
     },
     "execution_count": 27,
     "metadata": {},
     "output_type": "execute_result"
    }
   ],
   "source": [
    "second_run_df.head()"
   ]
  },
  {
   "cell_type": "code",
   "execution_count": 28,
   "metadata": {},
   "outputs": [
    {
     "data": {
      "text/plain": [
       "0    37955\n",
       "1     5316\n",
       "2       79\n",
       "Name: 2nd_Results, dtype: int64"
      ]
     },
     "execution_count": 28,
     "metadata": {},
     "output_type": "execute_result"
    }
   ],
   "source": [
    "second_run_df[\"2nd_Results\"].map(len).value_counts()"
   ]
  }
 ],
 "metadata": {
  "interpreter": {
   "hash": "92ba50c92c9dc11b366869717e90d544d23b7140e20708921d0ff91f276d2e3f"
  },
  "kernelspec": {
   "display_name": "Python 3.8.10 ('base')",
   "language": "python",
   "name": "python3"
  },
  "language_info": {
   "codemirror_mode": {
    "name": "ipython",
    "version": 3
   },
   "file_extension": ".py",
   "mimetype": "text/x-python",
   "name": "python",
   "nbconvert_exporter": "python",
   "pygments_lexer": "ipython3",
   "version": "3.8.10"
  },
  "orig_nbformat": 4
 },
 "nbformat": 4,
 "nbformat_minor": 2
}
