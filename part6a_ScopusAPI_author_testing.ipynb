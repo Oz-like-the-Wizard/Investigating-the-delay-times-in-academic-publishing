{
 "cells": [
  {
   "cell_type": "code",
   "execution_count": 1,
   "metadata": {},
   "outputs": [],
   "source": [
    "import pickle\n",
    "import pandas as pd\n",
    "import numpy as np\n",
    "\n",
    "import regex as re\n",
    "\n",
    "from pybliometrics.scopus import AuthorSearch\n",
    "\n",
    "from collections import Counter\n"
   ]
  },
  {
   "cell_type": "markdown",
   "metadata": {},
   "source": [
    "### Step 0: Getting back to our groove\n",
    "\n",
    "Before API testing will get familiar with the project & variables.\n",
    "\n",
    "1- retr_q1\n",
    "\n",
    "2- date_df_ok\n",
    "\n",
    "3 - SumCetCet date_df_dicts"
   ]
  },
  {
   "cell_type": "code",
   "execution_count": 151,
   "metadata": {},
   "outputs": [],
   "source": [
    "# 1-\n",
    "\n",
    "%store -r retr_q1\n",
    "retr_q1 = retr_q1"
   ]
  },
  {
   "cell_type": "code",
   "execution_count": 11,
   "metadata": {},
   "outputs": [
    {
     "data": {
      "text/html": [
       "<div>\n",
       "<style scoped>\n",
       "    .dataframe tbody tr th:only-of-type {\n",
       "        vertical-align: middle;\n",
       "    }\n",
       "\n",
       "    .dataframe tbody tr th {\n",
       "        vertical-align: top;\n",
       "    }\n",
       "\n",
       "    .dataframe thead th {\n",
       "        text-align: right;\n",
       "    }\n",
       "</style>\n",
       "<table border=\"1\" class=\"dataframe\">\n",
       "  <thead>\n",
       "    <tr style=\"text-align: right;\">\n",
       "      <th></th>\n",
       "      <th></th>\n",
       "      <th>Sbj_Area</th>\n",
       "      <th>CR_Results</th>\n",
       "      <th>SH_Results</th>\n",
       "      <th>CR_Count</th>\n",
       "      <th>Total_Docs</th>\n",
       "    </tr>\n",
       "    <tr>\n",
       "      <th>Issn</th>\n",
       "      <th>Year</th>\n",
       "      <th></th>\n",
       "      <th></th>\n",
       "      <th></th>\n",
       "      <th></th>\n",
       "      <th></th>\n",
       "    </tr>\n",
       "  </thead>\n",
       "  <tbody>\n",
       "    <tr>\n",
       "      <th rowspan=\"5\" valign=\"top\">(00011541, 15475905)</th>\n",
       "      <th>2010</th>\n",
       "      <td>{'Biochemistry, Genetics and Molecular Biology...</td>\n",
       "      <td>True</td>\n",
       "      <td>True</td>\n",
       "      <td>351</td>\n",
       "      <td>294</td>\n",
       "    </tr>\n",
       "    <tr>\n",
       "      <th>2011</th>\n",
       "      <td>{'Chemical Engineering': 1, 'Environmental Sci...</td>\n",
       "      <td>True</td>\n",
       "      <td>False</td>\n",
       "      <td>361</td>\n",
       "      <td>315</td>\n",
       "    </tr>\n",
       "    <tr>\n",
       "      <th>2012</th>\n",
       "      <td>{'Chemical Engineering': 1, 'Environmental Sci...</td>\n",
       "      <td>True</td>\n",
       "      <td>False</td>\n",
       "      <td>259</td>\n",
       "      <td>347</td>\n",
       "    </tr>\n",
       "    <tr>\n",
       "      <th>2013</th>\n",
       "      <td>{'Biochemistry, Genetics and Molecular Biology...</td>\n",
       "      <td>True</td>\n",
       "      <td>True</td>\n",
       "      <td>343</td>\n",
       "      <td>422</td>\n",
       "    </tr>\n",
       "    <tr>\n",
       "      <th>2014</th>\n",
       "      <td>{'Biochemistry, Genetics and Molecular Biology...</td>\n",
       "      <td>True</td>\n",
       "      <td>True</td>\n",
       "      <td>376</td>\n",
       "      <td>359</td>\n",
       "    </tr>\n",
       "  </tbody>\n",
       "</table>\n",
       "</div>"
      ],
      "text/plain": [
       "                                                                    Sbj_Area  \\\n",
       "Issn                 Year                                                      \n",
       "(00011541, 15475905) 2010  {'Biochemistry, Genetics and Molecular Biology...   \n",
       "                     2011  {'Chemical Engineering': 1, 'Environmental Sci...   \n",
       "                     2012  {'Chemical Engineering': 1, 'Environmental Sci...   \n",
       "                     2013  {'Biochemistry, Genetics and Molecular Biology...   \n",
       "                     2014  {'Biochemistry, Genetics and Molecular Biology...   \n",
       "\n",
       "                          CR_Results  SH_Results  CR_Count  Total_Docs  \n",
       "Issn                 Year                                               \n",
       "(00011541, 15475905) 2010       True        True       351         294  \n",
       "                     2011       True       False       361         315  \n",
       "                     2012       True       False       259         347  \n",
       "                     2013       True        True       343         422  \n",
       "                     2014       True        True       376         359  "
      ]
     },
     "execution_count": 11,
     "metadata": {},
     "output_type": "execute_result"
    }
   ],
   "source": [
    "retr_q1.head()"
   ]
  },
  {
   "cell_type": "code",
   "execution_count": 12,
   "metadata": {},
   "outputs": [],
   "source": [
    "# 2-\n",
    "\n",
    "%store -r date_df_ok\n",
    "date_df_ok = date_df_ok"
   ]
  },
  {
   "cell_type": "code",
   "execution_count": 15,
   "metadata": {},
   "outputs": [
    {
     "name": "stdout",
     "output_type": "stream",
     "text": [
      "(114759, 17)\n"
     ]
    },
    {
     "data": {
      "text/html": [
       "<div>\n",
       "<style scoped>\n",
       "    .dataframe tbody tr th:only-of-type {\n",
       "        vertical-align: middle;\n",
       "    }\n",
       "\n",
       "    .dataframe tbody tr th {\n",
       "        vertical-align: top;\n",
       "    }\n",
       "\n",
       "    .dataframe thead th {\n",
       "        text-align: right;\n",
       "    }\n",
       "</style>\n",
       "<table border=\"1\" class=\"dataframe\">\n",
       "  <thead>\n",
       "    <tr style=\"text-align: right;\">\n",
       "      <th></th>\n",
       "      <th>reference-count</th>\n",
       "      <th>publisher</th>\n",
       "      <th>published-print</th>\n",
       "      <th>is-referenced-by-count</th>\n",
       "      <th>title</th>\n",
       "      <th>author</th>\n",
       "      <th>published-online</th>\n",
       "      <th>container-title</th>\n",
       "      <th>issued</th>\n",
       "      <th>ISSN</th>\n",
       "      <th>subject</th>\n",
       "      <th>published</th>\n",
       "      <th>Results</th>\n",
       "      <th>direct_url</th>\n",
       "      <th>Rec_date</th>\n",
       "      <th>Acc_date</th>\n",
       "      <th>first_author</th>\n",
       "    </tr>\n",
       "    <tr>\n",
       "      <th>DOI</th>\n",
       "      <th></th>\n",
       "      <th></th>\n",
       "      <th></th>\n",
       "      <th></th>\n",
       "      <th></th>\n",
       "      <th></th>\n",
       "      <th></th>\n",
       "      <th></th>\n",
       "      <th></th>\n",
       "      <th></th>\n",
       "      <th></th>\n",
       "      <th></th>\n",
       "      <th></th>\n",
       "      <th></th>\n",
       "      <th></th>\n",
       "      <th></th>\n",
       "      <th></th>\n",
       "    </tr>\n",
       "  </thead>\n",
       "  <tbody>\n",
       "    <tr>\n",
       "      <th>10.1002/aic.12400</th>\n",
       "      <td>26</td>\n",
       "      <td>Wiley</td>\n",
       "      <td>{'date-parts': [[2011, 7]]}</td>\n",
       "      <td>14</td>\n",
       "      <td>[Fabrication of an anionic polythiophene/layer...</td>\n",
       "      <td>[{'given': 'Dongpeng', 'family': 'Yan', 'seque...</td>\n",
       "      <td>{'date-parts': [[2010, 9, 17]]}</td>\n",
       "      <td>[AIChE Journal]</td>\n",
       "      <td>{'date-parts': [[2010, 9, 17]]}</td>\n",
       "      <td>[0001-1541]</td>\n",
       "      <td>[General Chemical Engineering, Environmental E...</td>\n",
       "      <td>{'date-parts': [[2010, 9, 17]]}</td>\n",
       "      <td>[https://sci.bban.top/pdf/10.1002/aic.12400.pd...</td>\n",
       "      <td>https://sci.bban.top/pdf/10.1002/aic.12400.pdf...</td>\n",
       "      <td>NaN</td>\n",
       "      <td>NaN</td>\n",
       "      <td>{'given': 'Dongpeng', 'family': 'Yan', 'sequen...</td>\n",
       "    </tr>\n",
       "    <tr>\n",
       "      <th>10.1002/aic.12671</th>\n",
       "      <td>14</td>\n",
       "      <td>Wiley</td>\n",
       "      <td>{'date-parts': [[2012, 5]]}</td>\n",
       "      <td>0</td>\n",
       "      <td>[Gas phase reaction kinetics in boron fibre pr...</td>\n",
       "      <td>[{'given': 'Fatih', 'family': 'Fırat', 'sequen...</td>\n",
       "      <td>{'date-parts': [[2011, 6, 1]]}</td>\n",
       "      <td>[AIChE Journal]</td>\n",
       "      <td>{'date-parts': [[2011, 6, 1]]}</td>\n",
       "      <td>[0001-1541]</td>\n",
       "      <td>[General Chemical Engineering, Environmental E...</td>\n",
       "      <td>{'date-parts': [[2011, 6, 1]]}</td>\n",
       "      <td>[https://sci.bban.top/pdf/10.1002/aic.12671.pd...</td>\n",
       "      <td>https://sci.bban.top/pdf/10.1002/aic.12671.pdf...</td>\n",
       "      <td>NaN</td>\n",
       "      <td>NaN</td>\n",
       "      <td>{'given': 'Fatih', 'family': 'Fırat', 'sequenc...</td>\n",
       "    </tr>\n",
       "    <tr>\n",
       "      <th>10.1002/aic.13810</th>\n",
       "      <td>37</td>\n",
       "      <td>Wiley</td>\n",
       "      <td>{'date-parts': [[2013, 1]]}</td>\n",
       "      <td>17</td>\n",
       "      <td>[Rapid assembly of polyelectrolyte multilayer ...</td>\n",
       "      <td>[{'given': 'Haiqi', 'family': 'Tang', 'sequenc...</td>\n",
       "      <td>{'date-parts': [[2012, 4, 23]]}</td>\n",
       "      <td>[AIChE Journal]</td>\n",
       "      <td>{'date-parts': [[2012, 4, 23]]}</td>\n",
       "      <td>[0001-1541]</td>\n",
       "      <td>[General Chemical Engineering, Environmental E...</td>\n",
       "      <td>{'date-parts': [[2012, 4, 23]]}</td>\n",
       "      <td>[https://sci.bban.top/pdf/10.1002/aic.13810.pd...</td>\n",
       "      <td>https://sci.bban.top/pdf/10.1002/aic.13810.pdf...</td>\n",
       "      <td>NaN</td>\n",
       "      <td>NaN</td>\n",
       "      <td>{'given': 'Haiqi', 'family': 'Tang', 'sequence...</td>\n",
       "    </tr>\n",
       "    <tr>\n",
       "      <th>10.1002/aic.14056</th>\n",
       "      <td>0</td>\n",
       "      <td>Wiley</td>\n",
       "      <td>{'date-parts': [[2013, 4]]}</td>\n",
       "      <td>19</td>\n",
       "      <td>[A computer-aided methodology to design safe f...</td>\n",
       "      <td>[{'given': 'Phuong-Mai', 'family': 'Nguyen', '...</td>\n",
       "      <td>{'date-parts': [[2013, 3, 6]]}</td>\n",
       "      <td>[AIChE Journal]</td>\n",
       "      <td>{'date-parts': [[2013, 3, 6]]}</td>\n",
       "      <td>[0001-1541]</td>\n",
       "      <td>[General Chemical Engineering, Environmental E...</td>\n",
       "      <td>{'date-parts': [[2013, 3, 6]]}</td>\n",
       "      <td>[https://sci.bban.top/pdf/10.1002/aic.14056.pd...</td>\n",
       "      <td>https://sci.bban.top/pdf/10.1002/aic.14056.pdf...</td>\n",
       "      <td>July 3, 2012</td>\n",
       "      <td>None</td>\n",
       "      <td>{'given': 'Phuong-Mai', 'family': 'Nguyen', 's...</td>\n",
       "    </tr>\n",
       "    <tr>\n",
       "      <th>10.1002/aic.14601</th>\n",
       "      <td>37</td>\n",
       "      <td>Wiley</td>\n",
       "      <td>{'date-parts': [[2014, 11]]}</td>\n",
       "      <td>12</td>\n",
       "      <td>[Cake properties of nanocolloid evaluated by v...</td>\n",
       "      <td>[{'given': 'Eiji', 'family': 'Iritani', 'seque...</td>\n",
       "      <td>{'date-parts': [[2014, 9, 16]]}</td>\n",
       "      <td>[AIChE Journal]</td>\n",
       "      <td>{'date-parts': [[2014, 9, 16]]}</td>\n",
       "      <td>[0001-1541]</td>\n",
       "      <td>[General Chemical Engineering, Environmental E...</td>\n",
       "      <td>{'date-parts': [[2014, 9, 16]]}</td>\n",
       "      <td>[https://sci.bban.top/pdf/10.1002/aic.14601.pd...</td>\n",
       "      <td>https://sci.bban.top/pdf/10.1002/aic.14601.pdf...</td>\n",
       "      <td>July 24, 2014</td>\n",
       "      <td>None</td>\n",
       "      <td>{'given': 'Eiji', 'family': 'Iritani', 'sequen...</td>\n",
       "    </tr>\n",
       "  </tbody>\n",
       "</table>\n",
       "</div>"
      ],
      "text/plain": [
       "                   reference-count publisher               published-print  \\\n",
       "DOI                                                                          \n",
       "10.1002/aic.12400               26     Wiley   {'date-parts': [[2011, 7]]}   \n",
       "10.1002/aic.12671               14     Wiley   {'date-parts': [[2012, 5]]}   \n",
       "10.1002/aic.13810               37     Wiley   {'date-parts': [[2013, 1]]}   \n",
       "10.1002/aic.14056                0     Wiley   {'date-parts': [[2013, 4]]}   \n",
       "10.1002/aic.14601               37     Wiley  {'date-parts': [[2014, 11]]}   \n",
       "\n",
       "                   is-referenced-by-count  \\\n",
       "DOI                                         \n",
       "10.1002/aic.12400                      14   \n",
       "10.1002/aic.12671                       0   \n",
       "10.1002/aic.13810                      17   \n",
       "10.1002/aic.14056                      19   \n",
       "10.1002/aic.14601                      12   \n",
       "\n",
       "                                                               title  \\\n",
       "DOI                                                                    \n",
       "10.1002/aic.12400  [Fabrication of an anionic polythiophene/layer...   \n",
       "10.1002/aic.12671  [Gas phase reaction kinetics in boron fibre pr...   \n",
       "10.1002/aic.13810  [Rapid assembly of polyelectrolyte multilayer ...   \n",
       "10.1002/aic.14056  [A computer-aided methodology to design safe f...   \n",
       "10.1002/aic.14601  [Cake properties of nanocolloid evaluated by v...   \n",
       "\n",
       "                                                              author  \\\n",
       "DOI                                                                    \n",
       "10.1002/aic.12400  [{'given': 'Dongpeng', 'family': 'Yan', 'seque...   \n",
       "10.1002/aic.12671  [{'given': 'Fatih', 'family': 'Fırat', 'sequen...   \n",
       "10.1002/aic.13810  [{'given': 'Haiqi', 'family': 'Tang', 'sequenc...   \n",
       "10.1002/aic.14056  [{'given': 'Phuong-Mai', 'family': 'Nguyen', '...   \n",
       "10.1002/aic.14601  [{'given': 'Eiji', 'family': 'Iritani', 'seque...   \n",
       "\n",
       "                                  published-online  container-title  \\\n",
       "DOI                                                                   \n",
       "10.1002/aic.12400  {'date-parts': [[2010, 9, 17]]}  [AIChE Journal]   \n",
       "10.1002/aic.12671   {'date-parts': [[2011, 6, 1]]}  [AIChE Journal]   \n",
       "10.1002/aic.13810  {'date-parts': [[2012, 4, 23]]}  [AIChE Journal]   \n",
       "10.1002/aic.14056   {'date-parts': [[2013, 3, 6]]}  [AIChE Journal]   \n",
       "10.1002/aic.14601  {'date-parts': [[2014, 9, 16]]}  [AIChE Journal]   \n",
       "\n",
       "                                            issued         ISSN  \\\n",
       "DOI                                                               \n",
       "10.1002/aic.12400  {'date-parts': [[2010, 9, 17]]}  [0001-1541]   \n",
       "10.1002/aic.12671   {'date-parts': [[2011, 6, 1]]}  [0001-1541]   \n",
       "10.1002/aic.13810  {'date-parts': [[2012, 4, 23]]}  [0001-1541]   \n",
       "10.1002/aic.14056   {'date-parts': [[2013, 3, 6]]}  [0001-1541]   \n",
       "10.1002/aic.14601  {'date-parts': [[2014, 9, 16]]}  [0001-1541]   \n",
       "\n",
       "                                                             subject  \\\n",
       "DOI                                                                    \n",
       "10.1002/aic.12400  [General Chemical Engineering, Environmental E...   \n",
       "10.1002/aic.12671  [General Chemical Engineering, Environmental E...   \n",
       "10.1002/aic.13810  [General Chemical Engineering, Environmental E...   \n",
       "10.1002/aic.14056  [General Chemical Engineering, Environmental E...   \n",
       "10.1002/aic.14601  [General Chemical Engineering, Environmental E...   \n",
       "\n",
       "                                         published  \\\n",
       "DOI                                                  \n",
       "10.1002/aic.12400  {'date-parts': [[2010, 9, 17]]}   \n",
       "10.1002/aic.12671   {'date-parts': [[2011, 6, 1]]}   \n",
       "10.1002/aic.13810  {'date-parts': [[2012, 4, 23]]}   \n",
       "10.1002/aic.14056   {'date-parts': [[2013, 3, 6]]}   \n",
       "10.1002/aic.14601  {'date-parts': [[2014, 9, 16]]}   \n",
       "\n",
       "                                                             Results  \\\n",
       "DOI                                                                    \n",
       "10.1002/aic.12400  [https://sci.bban.top/pdf/10.1002/aic.12400.pd...   \n",
       "10.1002/aic.12671  [https://sci.bban.top/pdf/10.1002/aic.12671.pd...   \n",
       "10.1002/aic.13810  [https://sci.bban.top/pdf/10.1002/aic.13810.pd...   \n",
       "10.1002/aic.14056  [https://sci.bban.top/pdf/10.1002/aic.14056.pd...   \n",
       "10.1002/aic.14601  [https://sci.bban.top/pdf/10.1002/aic.14601.pd...   \n",
       "\n",
       "                                                          direct_url  \\\n",
       "DOI                                                                    \n",
       "10.1002/aic.12400  https://sci.bban.top/pdf/10.1002/aic.12400.pdf...   \n",
       "10.1002/aic.12671  https://sci.bban.top/pdf/10.1002/aic.12671.pdf...   \n",
       "10.1002/aic.13810  https://sci.bban.top/pdf/10.1002/aic.13810.pdf...   \n",
       "10.1002/aic.14056  https://sci.bban.top/pdf/10.1002/aic.14056.pdf...   \n",
       "10.1002/aic.14601  https://sci.bban.top/pdf/10.1002/aic.14601.pdf...   \n",
       "\n",
       "                        Rec_date Acc_date  \\\n",
       "DOI                                         \n",
       "10.1002/aic.12400            NaN      NaN   \n",
       "10.1002/aic.12671            NaN      NaN   \n",
       "10.1002/aic.13810            NaN      NaN   \n",
       "10.1002/aic.14056   July 3, 2012     None   \n",
       "10.1002/aic.14601  July 24, 2014     None   \n",
       "\n",
       "                                                        first_author  \n",
       "DOI                                                                   \n",
       "10.1002/aic.12400  {'given': 'Dongpeng', 'family': 'Yan', 'sequen...  \n",
       "10.1002/aic.12671  {'given': 'Fatih', 'family': 'Fırat', 'sequenc...  \n",
       "10.1002/aic.13810  {'given': 'Haiqi', 'family': 'Tang', 'sequence...  \n",
       "10.1002/aic.14056  {'given': 'Phuong-Mai', 'family': 'Nguyen', 's...  \n",
       "10.1002/aic.14601  {'given': 'Eiji', 'family': 'Iritani', 'sequen...  "
      ]
     },
     "execution_count": 15,
     "metadata": {},
     "output_type": "execute_result"
    }
   ],
   "source": [
    "print(date_df_ok.shape)\n",
    "date_df_ok.head()\n"
   ]
  },
  {
   "cell_type": "code",
   "execution_count": 17,
   "metadata": {},
   "outputs": [],
   "source": [
    "# 3-\n",
    "\n",
    "with open(\"cet_date_df_dict\", \"rb\") as fp:\n",
    "    cet_date_df_ok = pickle.load(fp)\n",
    "\n",
    "with open(\"sum_date_df_dict\", \"rb\") as fp:\n",
    "    sum_date_df_ok = pickle.load(fp)\n",
    "\n",
    "with open(\"ogi_date_df_dict\", \"rb\") as fp:\n",
    "    ogi_date_df_ok = pickle.load(fp)\n",
    "\n",
    "cet_date_df = pd.DataFrame(cet_date_df_ok)\n",
    "sum_date_df = pd.DataFrame(sum_date_df_ok)\n",
    "ogi_date_df = pd.DataFrame(ogi_date_df_ok)\n",
    "\n",
    "date_df_5b = pd.concat([cet_date_df,sum_date_df,ogi_date_df])\n",
    "\n",
    "with open(\"date_df_5b\",\"wb\") as fp:\n",
    "    pickle.dump(date_df_5b, fp)"
   ]
  },
  {
   "cell_type": "code",
   "execution_count": 23,
   "metadata": {},
   "outputs": [
    {
     "data": {
      "text/html": [
       "<div>\n",
       "<style scoped>\n",
       "    .dataframe tbody tr th:only-of-type {\n",
       "        vertical-align: middle;\n",
       "    }\n",
       "\n",
       "    .dataframe tbody tr th {\n",
       "        vertical-align: top;\n",
       "    }\n",
       "\n",
       "    .dataframe thead th {\n",
       "        text-align: right;\n",
       "    }\n",
       "</style>\n",
       "<table border=\"1\" class=\"dataframe\">\n",
       "  <thead>\n",
       "    <tr style=\"text-align: right;\">\n",
       "      <th></th>\n",
       "      <th>DOI</th>\n",
       "      <th>direct_url</th>\n",
       "      <th>Date</th>\n",
       "      <th>Affiliation</th>\n",
       "      <th>Keywords</th>\n",
       "    </tr>\n",
       "  </thead>\n",
       "  <tbody>\n",
       "    <tr>\n",
       "      <th>0</th>\n",
       "      <td>10.1002/aic.14056</td>\n",
       "      <td>https://sci.bban.top/pdf/10.1002/aic.14056.pdf...</td>\n",
       "      <td>[July 3, 2012, None]</td>\n",
       "      <td>France</td>\n",
       "      <td>[(foodpackaging, 0.384), (contamination, 0.377...</td>\n",
       "    </tr>\n",
       "    <tr>\n",
       "      <th>1</th>\n",
       "      <td>10.1002/aic.14601</td>\n",
       "      <td>https://sci.bban.top/pdf/10.1002/aic.14601.pdf...</td>\n",
       "      <td>[Mar. 27, 2014, None]</td>\n",
       "      <td>Japan</td>\n",
       "      <td>[(porosity, 0.3551), (pressures, 0.3424), (cak...</td>\n",
       "    </tr>\n",
       "    <tr>\n",
       "      <th>2</th>\n",
       "      <td>10.1002/aic.14847</td>\n",
       "      <td>https://sci.bban.top/pdf/10.1002/aic.14847.pdf...</td>\n",
       "      <td>[Feb 12, 2015, Apr 17, 2015]</td>\n",
       "      <td>United Arab Emirates</td>\n",
       "      <td>[(nanofluids, 0.4791), (nanofluid, 0.4535), (c...</td>\n",
       "    </tr>\n",
       "    <tr>\n",
       "      <th>3</th>\n",
       "      <td>10.1002/aic.15322</td>\n",
       "      <td>https://backend.orbit.dtu.dk/ws/files/12385525...</td>\n",
       "      <td>[Apr 02, 2016, May 16, 2016]</td>\n",
       "      <td>Denmark</td>\n",
       "      <td>[(publication, 0.4136), (process, 0.3538), (co...</td>\n",
       "    </tr>\n",
       "    <tr>\n",
       "      <th>4</th>\n",
       "      <td>10.1002/aic.16019</td>\n",
       "      <td>https://sci.bban.top/pdf/10.1002/aic.16019.pdf...</td>\n",
       "      <td>[May 1, 2017, None]</td>\n",
       "      <td>United States</td>\n",
       "      <td>[(optimization, 0.4064), (knapsackproblem, 0.3...</td>\n",
       "    </tr>\n",
       "    <tr>\n",
       "      <th>...</th>\n",
       "      <td>...</td>\n",
       "      <td>...</td>\n",
       "      <td>...</td>\n",
       "      <td>...</td>\n",
       "      <td>...</td>\n",
       "    </tr>\n",
       "    <tr>\n",
       "      <th>12509</th>\n",
       "      <td>10.3945/ajcn.2010.29422</td>\n",
       "      <td>https://sci.bban.top/pdf/10.3945/ajcn.2010.294...</td>\n",
       "      <td>[February 23, 2010, None]</td>\n",
       "      <td>United Kingdom</td>\n",
       "      <td>[(diabetes, 0.3765), (triglyceride, 0.3656), (...</td>\n",
       "    </tr>\n",
       "    <tr>\n",
       "      <th>12510</th>\n",
       "      <td>10.3945/ajcn.111.022343</td>\n",
       "      <td>https://sci.bban.top/pdf/10.3945/ajcn.111.0223...</td>\n",
       "      <td>[June 23, 2011, None]</td>\n",
       "      <td>Netherlands</td>\n",
       "      <td>[(hypertension, 0.4852), (nutrition, 0.4168), ...</td>\n",
       "    </tr>\n",
       "    <tr>\n",
       "      <th>12511</th>\n",
       "      <td>10.1093/ajcn/nqy217</td>\n",
       "      <td>https://sci.bban.top/pdf/10.1093/ajcn%252Fnqy2...</td>\n",
       "      <td>[May 17, 2018, None]</td>\n",
       "      <td>Netherlands</td>\n",
       "      <td>[(apolipoproteins, 0.436), (apolipoprotein, 0....</td>\n",
       "    </tr>\n",
       "    <tr>\n",
       "      <th>12512</th>\n",
       "      <td>10.1093/ajcn/nqz173</td>\n",
       "      <td>https://sci.bban.top/pdf/10.1093/ajcn%252Fnqz1...</td>\n",
       "      <td>[February 26, 2019, None]</td>\n",
       "      <td>Greece</td>\n",
       "      <td>[(dietary, 0.4073), (cancers, 0.3767), (carcin...</td>\n",
       "    </tr>\n",
       "    <tr>\n",
       "      <th>12513</th>\n",
       "      <td>10.1093/ajcn/nqaa281</td>\n",
       "      <td>https://sci.bban.top/pdf/10.1093/ajcn%252Fnqaa...</td>\n",
       "      <td>[February 26, 2020, None]</td>\n",
       "      <td>Malaysia</td>\n",
       "      <td>[(dietary, 0.4995), (diet, 0.4386), (nutrition...</td>\n",
       "    </tr>\n",
       "  </tbody>\n",
       "</table>\n",
       "<p>36514 rows × 5 columns</p>\n",
       "</div>"
      ],
      "text/plain": [
       "                           DOI  \\\n",
       "0            10.1002/aic.14056   \n",
       "1            10.1002/aic.14601   \n",
       "2            10.1002/aic.14847   \n",
       "3            10.1002/aic.15322   \n",
       "4            10.1002/aic.16019   \n",
       "...                        ...   \n",
       "12509  10.3945/ajcn.2010.29422   \n",
       "12510  10.3945/ajcn.111.022343   \n",
       "12511      10.1093/ajcn/nqy217   \n",
       "12512      10.1093/ajcn/nqz173   \n",
       "12513     10.1093/ajcn/nqaa281   \n",
       "\n",
       "                                              direct_url  \\\n",
       "0      https://sci.bban.top/pdf/10.1002/aic.14056.pdf...   \n",
       "1      https://sci.bban.top/pdf/10.1002/aic.14601.pdf...   \n",
       "2      https://sci.bban.top/pdf/10.1002/aic.14847.pdf...   \n",
       "3      https://backend.orbit.dtu.dk/ws/files/12385525...   \n",
       "4      https://sci.bban.top/pdf/10.1002/aic.16019.pdf...   \n",
       "...                                                  ...   \n",
       "12509  https://sci.bban.top/pdf/10.3945/ajcn.2010.294...   \n",
       "12510  https://sci.bban.top/pdf/10.3945/ajcn.111.0223...   \n",
       "12511  https://sci.bban.top/pdf/10.1093/ajcn%252Fnqy2...   \n",
       "12512  https://sci.bban.top/pdf/10.1093/ajcn%252Fnqz1...   \n",
       "12513  https://sci.bban.top/pdf/10.1093/ajcn%252Fnqaa...   \n",
       "\n",
       "                               Date           Affiliation  \\\n",
       "0              [July 3, 2012, None]                France   \n",
       "1             [Mar. 27, 2014, None]                 Japan   \n",
       "2      [Feb 12, 2015, Apr 17, 2015]  United Arab Emirates   \n",
       "3      [Apr 02, 2016, May 16, 2016]               Denmark   \n",
       "4               [May 1, 2017, None]         United States   \n",
       "...                             ...                   ...   \n",
       "12509     [February 23, 2010, None]        United Kingdom   \n",
       "12510         [June 23, 2011, None]           Netherlands   \n",
       "12511          [May 17, 2018, None]           Netherlands   \n",
       "12512     [February 26, 2019, None]                Greece   \n",
       "12513     [February 26, 2020, None]              Malaysia   \n",
       "\n",
       "                                                Keywords  \n",
       "0      [(foodpackaging, 0.384), (contamination, 0.377...  \n",
       "1      [(porosity, 0.3551), (pressures, 0.3424), (cak...  \n",
       "2      [(nanofluids, 0.4791), (nanofluid, 0.4535), (c...  \n",
       "3      [(publication, 0.4136), (process, 0.3538), (co...  \n",
       "4      [(optimization, 0.4064), (knapsackproblem, 0.3...  \n",
       "...                                                  ...  \n",
       "12509  [(diabetes, 0.3765), (triglyceride, 0.3656), (...  \n",
       "12510  [(hypertension, 0.4852), (nutrition, 0.4168), ...  \n",
       "12511  [(apolipoproteins, 0.436), (apolipoprotein, 0....  \n",
       "12512  [(dietary, 0.4073), (cancers, 0.3767), (carcin...  \n",
       "12513  [(dietary, 0.4995), (diet, 0.4386), (nutrition...  \n",
       "\n",
       "[36514 rows x 5 columns]"
      ]
     },
     "execution_count": 23,
     "metadata": {},
     "output_type": "execute_result"
    }
   ],
   "source": [
    "date_df_5b"
   ]
  },
  {
   "cell_type": "markdown",
   "metadata": {},
   "source": [
    "It is seen that date_df_5b was run only for already successful articles & so that the results can be compared & saved accordingly. Before moving on to the API part, will merge the 2 dfs & as well as simplifying & updating date_df_ok for future use & avoid confusion\n"
   ]
  },
  {
   "cell_type": "code",
   "execution_count": null,
   "metadata": {},
   "outputs": [],
   "source": [
    "\n",
    "# def result_mapper(lst):\n",
    "#     if len(lst) == 2:\n",
    "#         return lst[0], np.nan, np.nan\n",
    "#     elif len(lst) == 3:\n",
    "#         return lst[0], lst[1], lst[2]\n",
    "\n",
    "# date_df_ok[\"direct_url\"], date_df_ok[\"Rec_date\"], date_df_ok[\"Acc_date\"] = zip(*date_df_ok.Results.map(result_mapper))"
   ]
  },
  {
   "cell_type": "code",
   "execution_count": 29,
   "metadata": {},
   "outputs": [],
   "source": [
    "#  Getting ready date_df_5b for merging:\n",
    "\n",
    "date_df_5b.set_index(\"DOI\",inplace=True, drop=True)\n",
    "date_df_5b.drop(\"direct_url\", axis=1, inplace=True)\n",
    "\n",
    "date_df_5b.rename(columns={\"Date\": \"New_dates\"}, inplace=True)"
   ]
  },
  {
   "cell_type": "code",
   "execution_count": 58,
   "metadata": {},
   "outputs": [],
   "source": [
    "date_test = date_df_5b.merge(date_df_ok[\"Rec_date\"],how=\"left\",left_index=True, right_index=True)\n",
    "\n",
    "date_test.loc[date_test.Rec_date.notna(),\"Rec_date\"] = date_test[date_test.Rec_date.notna()].Rec_date.map(lambda x: re.sub(' +', ' ', x))"
   ]
  },
  {
   "cell_type": "code",
   "execution_count": 101,
   "metadata": {},
   "outputs": [
    {
     "data": {
      "text/plain": [
       "183"
      ]
     },
     "execution_count": 101,
     "metadata": {},
     "output_type": "execute_result"
    }
   ],
   "source": [
    "len(date_test[(date_test.Rec_date.str.strip() != date_test.Date.str[0].str.strip()) & (date_test.Rec_date.notna()) & (date_test.Date != \"cant_read_pdf\") & (date_test.Date != \"direct_url_error\") ][[\"Date\",\"Rec_date\"]])"
   ]
  },
  {
   "cell_type": "code",
   "execution_count": 100,
   "metadata": {},
   "outputs": [
    {
     "name": "stdout",
     "output_type": "stream",
     "text": [
      "Why different?\n",
      "New date found: May 17, 2009\n",
      "Rec_date found: May17, 2009\n"
     ]
    }
   ],
   "source": [
    "print(f'Why different?\\nNew date found: {date_test.loc[\"10.1016/j.trsl.2009.06.009\",\"Date\"][0]}\\nRec_date found: {date_test.loc[\"10.1016/j.trsl.2009.06.009\",\"Rec_date\"]}')"
   ]
  },
  {
   "cell_type": "markdown",
   "metadata": {},
   "source": [
    "It is seen that out of 36K rows, there are 183 rows with different received dates found. However, upon further inspection as below, it is seen that the actual number is much lower, as most \"differences\" are caused by whitespaces or tabs in the columns. Therefore can write a simple function to map these two columns accordingly & depending on errors & earlier dates, etc. However, this can de skipped for now, as it is not certain that all the article records here will also be used in q1_artcl_df. There are more crucial tasks at hand for now!"
   ]
  },
  {
   "cell_type": "code",
   "execution_count": 106,
   "metadata": {},
   "outputs": [],
   "source": [
    "# Getting date_df_ok ready:\n",
    "\n",
    "# Getting rid of duplicated columns \n",
    "date_df_ok.drop([\"first_author\",\"direct_url\",\"Rec_date\",\"Acc_date\"], axis=1, inplace=True)\n",
    "\n",
    "# Merging the datasets:\n",
    "date_df_ok_final = date_df_ok.merge(date_df_5b, how=\"left\", left_index=True, right_index=True)\n",
    "\n",
    "# Re-ordering columns:\n",
    "date_df_ok_final = date_df_ok_final[[\"ISSN\", \"issued\", \"container-title\", \"publisher\", \"title\", \"author\", \"subject\", \"reference-count\", \"is-referenced-by-count\", \"published\", \"published-print\", \"published-online\", \"Results\", \"New_dates\", \"Keywords\",\"Affiliation\"]]"
   ]
  },
  {
   "cell_type": "code",
   "execution_count": 117,
   "metadata": {},
   "outputs": [],
   "source": [
    "with open(\"date_df_ok_final\",\"wb\") as fp:\n",
    "    pickle.dump(date_df_ok_final, fp)"
   ]
  },
  {
   "cell_type": "markdown",
   "metadata": {},
   "source": [
    "Now, everything is simplified & ready for next steps. We have 2 main variables:\n",
    "\n",
    "* date_df_ok_final -> that has everything related to the 144K articles that were retrieved so far\n",
    "* retr_q1 -> everything related to Q1 journals"
   ]
  },
  {
   "cell_type": "markdown",
   "metadata": {},
   "source": [
    "### Part 2: Scopus API & Function"
   ]
  },
  {
   "cell_type": "code",
   "execution_count": 9,
   "metadata": {},
   "outputs": [],
   "source": [
    "with open(\"date_df_ok_final\", \"rb\") as fp:\n",
    "    date_df_ok_final = pickle.load(fp)"
   ]
  },
  {
   "cell_type": "code",
   "execution_count": 50,
   "metadata": {},
   "outputs": [
    {
     "name": "stdout",
     "output_type": "stream",
     "text": [
      "Subject NaNs: 326\n"
     ]
    }
   ],
   "source": [
    "print(f\"Subject NaNs: {len(date_df_ok_final[date_df_ok_final.subject.isna()])}\")"
   ]
  },
  {
   "cell_type": "code",
   "execution_count": 71,
   "metadata": {},
   "outputs": [
    {
     "data": {
      "text/plain": [
       "346"
      ]
     },
     "execution_count": 71,
     "metadata": {},
     "output_type": "execute_result"
    }
   ],
   "source": [
    "from itertools import chain\n",
    "\n",
    "sbj_list = list()\n",
    "date_df_ok_final.subject.map(lambda x: sbj_list.append(x) if type(x) == list else False)\n",
    "\n",
    "def flatten(listOfLists):\n",
    "    \"Flatten one level of nesting\"\n",
    "    return chain.from_iterable(listOfLists)\n",
    "\n",
    "sbj_set = set(flatten(sbj_list))\n",
    "\n",
    "\n",
    "len(sbj_set)"
   ]
  },
  {
   "cell_type": "markdown",
   "metadata": {},
   "source": [
    "Fromt the test above it is seen that the \"subject\" column from CR is actually not useful as it is not standardized to Scopus sbj. areas & there are 346 unique values as opposed to 27. This shows that:\n",
    "\n",
    "a- This field wont be useful during analysis & Scimago sbj. areas from jrnl_df should be used intead -> another reason for a proper jrnl & artcl mapping!\n",
    "\n",
    "b- Cant use this column during Scopus Author Search API query, and need to find another method\n",
    "\n",
    "For now, will get all author results from the API & can use jrnl_df sbj. areas later to filter the results if there are multiple author returns!\n",
    "\n",
    "---\n",
    "\n",
    "* drop subject col. from article dataset!\n",
    "* map sbj_area from jrnl_df to artcl_df using (ISSN & issued.year)\n",
    "* create a dict from elsevier API guide\n"
   ]
  },
  {
   "cell_type": "code",
   "execution_count": null,
   "metadata": {},
   "outputs": [],
   "source": [
    "# Adding an ID column to retr_q1:\n",
    "\n",
    "retr_q1[\"ID\"] = pd.factorize(retr_q1.index)[0]"
   ]
  },
  {
   "cell_type": "code",
   "execution_count": 129,
   "metadata": {},
   "outputs": [],
   "source": [
    "def Scopus_author(author_list):\n",
    "    for aut in author_list:\n",
    "        name = aut[\"given\"]\n",
    "        surname = aut[\"family\"]\n",
    "        s = AuthorSearch(f'AUTHLAST({surname}) and AUTHFIRST({name})')\n",
    "        if s.get_results_size()>0:\n",
    "            aut[\"country\"] = s.authors[0]._asdict()[\"country\"]\n",
    "        else:\n",
    "            aut[\"country\"] = None\n",
    "    return author_list"
   ]
  },
  {
   "cell_type": "code",
   "execution_count": null,
   "metadata": {},
   "outputs": [],
   "source": [
    "# After adding the country field for every author in \"author\" column:\n",
    "# Can use to create a seperate \"author_countries\" column\n",
    "\n",
    "def country_counter(author_col):\n",
    "    return Counter([aut[\"country\"] for aut in author_col])\n"
   ]
  },
  {
   "cell_type": "markdown",
   "metadata": {},
   "source": [
    "However, during testing it is seen that we need to add sbj. areas to the author search query as there are too many results right now. "
   ]
  },
  {
   "cell_type": "code",
   "execution_count": 130,
   "metadata": {},
   "outputs": [],
   "source": [
    "author_test = date_df_ok_final[[\"author\",\"subject\"]][:10]\n",
    "\n",
    "author_test[\"test\"] = author_test.author.map(Scopus_author)\n",
    "\n",
    "author_test[\"country_test\"] = author_test.test.map(country_counter)"
   ]
  },
  {
   "cell_type": "code",
   "execution_count": 143,
   "metadata": {},
   "outputs": [
    {
     "data": {
      "text/plain": [
       "DOI\n",
       "10.1002/aic.12400                {'China': 5, 'United Kingdom': 1}\n",
       "10.1002/aic.12671                                    {'Turkey': 4}\n",
       "10.1002/aic.13810                                     {'China': 3}\n",
       "10.1002/aic.14056                {'United States': 1, 'France': 3}\n",
       "10.1002/aic.14601                        {'Japan': 3, 'Taiwan': 2}\n",
       "10.1002/aic.14847                      {'United Arab Emirates': 1}\n",
       "10.1002/aic.15322    {'Denmark': 2, 'South Korea': 1, 'Mexico': 1}\n",
       "10.1002/aic.16019                             {'United States': 2}\n",
       "10.1002/aic.16379               {'Australia': 1, 'Switzerland': 1}\n",
       "10.1002/aic.16792           {'United States': 1, 'South Korea': 3}\n",
       "Name: country_test, dtype: object"
      ]
     },
     "execution_count": 143,
     "metadata": {},
     "output_type": "execute_result"
    }
   ],
   "source": [
    "author_test[\"country_test\"]"
   ]
  },
  {
   "cell_type": "code",
   "execution_count": 144,
   "metadata": {},
   "outputs": [],
   "source": [
    "s_s = AuthorSearch('AUTHLAST(Evans) and AUTHFIRST(David G.) AND (SUBJAREA(MEDI) OR SUBJAREA(BIOC) OR SUBJAREA(NEUR))')"
   ]
  },
  {
   "cell_type": "code",
   "execution_count": 103,
   "metadata": {},
   "outputs": [],
   "source": [
    "s_f = AuthorSearch('AUTHLAST(kokes) and AUTHFIRST(oguz)')"
   ]
  },
  {
   "cell_type": "code",
   "execution_count": 145,
   "metadata": {},
   "outputs": [
    {
     "data": {
      "text/plain": [
       "15"
      ]
     },
     "execution_count": 145,
     "metadata": {},
     "output_type": "execute_result"
    }
   ],
   "source": [
    "s_s.get_results_size()"
   ]
  },
  {
   "cell_type": "code",
   "execution_count": 187,
   "metadata": {},
   "outputs": [],
   "source": [
    "# Creating a \"new\" ISSN column for date_df_ok that is compatible with retr_q1 ISSNs:\n",
    "\n",
    "date_df_ok_final[\"ISSN_new\"] = date_df_ok_final.ISSN.map(lambda x: [iss.replace(\"-\",\"\").strip() for iss in x]).map(tuple)"
   ]
  },
  {
   "cell_type": "markdown",
   "metadata": {},
   "source": [
    "Using the ISSN_new & issued columns, we can map journals in retr_q1 to articles in date_df with journal IDs\n",
    "\n",
    "This is crucial as this will simplify many processes in the future, including mapping Sbj. Areass of journals to articles that will be used during Author Search API!"
   ]
  },
  {
   "cell_type": "code",
   "execution_count": 227,
   "metadata": {},
   "outputs": [],
   "source": [
    "def one_filter(row, jrnl_df):\n",
    "    id_list = jrnl_df[jrnl_df.index.map(lambda x: (row.ISSN_new[0] in x[0]) & (x[1] == row.issued[\"date-parts\"][0][0]))][\"ID\"].tolist()\n",
    "    return id_list\n"
   ]
  },
  {
   "cell_type": "code",
   "execution_count": 229,
   "metadata": {},
   "outputs": [],
   "source": [
    "def two_filter(row, jrnl_df):\n",
    "    id_list = jrnl_df[jrnl_df.index.map(lambda x: (row.ISSN_new[0] in x[0]) & (row.ISSN_new[1] in x[0]) & (x[1] == row.issued[\"date-parts\"][0][0]))][\"ID\"].tolist()\n",
    "    return id_list\n"
   ]
  },
  {
   "cell_type": "code",
   "execution_count": 231,
   "metadata": {},
   "outputs": [],
   "source": [
    "def three_filter(row, jrnl_df):\n",
    "    id_list = jrnl_df[jrnl_df.index.map(lambda x: (row.ISSN_new[0] in x[0]) & (row.ISSN_new[1] in x[0]) & (row.ISSN_new[2] in x[0]) & (x[1] == row.issued[\"date-parts\"][0][0]))][\"ID\"].tolist()\n",
    "    return id_list\n"
   ]
  },
  {
   "cell_type": "code",
   "execution_count": null,
   "metadata": {},
   "outputs": [],
   "source": [
    "date_df_ok_final.loc[date_df_ok_final.ISSN_new.map(len)==1,\"jrnl_id\"] = date_df_ok_final[date_df_ok_final.ISSN_new.map(len)==1].apply(lambda x: one_filter(x, retr_q1), axis=1)"
   ]
  },
  {
   "cell_type": "code",
   "execution_count": null,
   "metadata": {},
   "outputs": [],
   "source": [
    "date_df_ok_final.loc[date_df_ok_final.ISSN_new.map(len)==2,\"jrnl_id\"] = date_df_ok_final[date_df_ok_final.ISSN_new.map(len)==3].apply(lambda x: two_filter(x, retr_q1), axis=1)"
   ]
  },
  {
   "cell_type": "code",
   "execution_count": null,
   "metadata": {},
   "outputs": [],
   "source": [
    "date_df_ok_final.loc[date_df_ok_final.ISSN_new.map(len)==3,\"jrnl_id\"] = date_df_ok_final[date_df_ok_final.ISSN_new.map(len)==3].apply(lambda x: three_filter(x, retr_q1), axis=1)"
   ]
  },
  {
   "cell_type": "markdown",
   "metadata": {},
   "source": [
    "After 200 mins, the one_filter run is cancelled, which was for around 34K rows. Instead the sbj_area_query creator can be tested individually using the scopus_codes_dict below.\n",
    "\n",
    "This also affects the potential use for date_df_ok_final usage in q1_artcl_df as we need a certain mapping between articles & journals to ensure data integrity & easier analysis futhter down the line. This will be review again at a later time."
   ]
  },
  {
   "cell_type": "code",
   "execution_count": 238,
   "metadata": {},
   "outputs": [],
   "source": [
    "scopus_codes_dict = {'Agricultural and Biological Sciences': 'AGRI',\n",
    " 'Arts and Humanities': 'ARTS',\n",
    " 'Biochemistry, Genetics and Molecular Biology': 'BIOC',\n",
    " 'Business, Management and Accounting': 'BUSI',\n",
    " 'Chemical Engineering': 'CENG',\n",
    " 'Chemistry': 'CHEM',\n",
    " 'Computer Science': 'COMP',\n",
    " 'Decision Sciences': 'DECI',\n",
    " 'Dentistry': 'DENT',\n",
    " 'Earth and Planetary Sciences': 'EART',\n",
    " 'Economics, Econometrics and Finance': 'ECON',\n",
    " 'Energy': 'ENER',\n",
    " 'Engineering': 'ENGI',\n",
    " 'Environmental Science': 'ENVI',\n",
    " 'Health Professions': 'HEAL',\n",
    " 'Immunology and Microbiology': 'IMMU',\n",
    " 'Materials Science': 'MATE',\n",
    " 'Mathematics': 'MATH',\n",
    " 'Medicine': 'MEDI',\n",
    " 'Neuroscience': 'NEUR',\n",
    " 'Nursing': 'NURS',\n",
    " 'Pharmacology, Toxicology and Pharmaceutics': 'PHAR',\n",
    " 'Physics and Astronomy': 'PHYS',\n",
    " 'Psychology': 'PSYC',\n",
    " 'Social Sciences': 'SOCI',\n",
    " 'Veterinary': 'VETE',\n",
    " 'Multidisciplinary': 'MULT'}"
   ]
  },
  {
   "cell_type": "code",
   "execution_count": 236,
   "metadata": {},
   "outputs": [],
   "source": [
    "def sbj_area_query_creator(sbj_list):\n",
    "    query = \" AND \".join([f\"SUBJAREA({scopus_codes_dict[sbj]})\" for sbj in sbj_list])\n",
    "    return query"
   ]
  },
  {
   "cell_type": "code",
   "execution_count": 239,
   "metadata": {},
   "outputs": [
    {
     "data": {
      "text/plain": [
       "'SUBJAREA(VETE) AND SUBJAREA(PSYC)'"
      ]
     },
     "execution_count": 239,
     "metadata": {},
     "output_type": "execute_result"
    }
   ],
   "source": [
    "# Testing:\n",
    "\n",
    "sbj_area_query_creator([\"Veterinary\", \"Psychology\"])"
   ]
  },
  {
   "cell_type": "code",
   "execution_count": 262,
   "metadata": {},
   "outputs": [
    {
     "data": {
      "text/plain": [
       "'SUBJAREA(SOCI) AND SUBJAREA(ARTS)'"
      ]
     },
     "execution_count": 262,
     "metadata": {},
     "output_type": "execute_result"
    }
   ],
   "source": [
    "# Testing 2:\n",
    "\n",
    "#retr_q1.loc[retr_q1.index.map(lambda x: (\"17531055\" in x[0]) & (x[1] == 2018)),\"Sbj_Area\"][0].keys()\n",
    "sbj_area_query_creator(retr_q1.loc[retr_q1.index.map(lambda x: (\"17531055\" in x[0]) & (x[1] == 2018)),\"Sbj_Area\"][0].keys())"
   ]
  }
 ],
 "metadata": {
  "kernelspec": {
   "display_name": "Python 3.8.10 ('base')",
   "language": "python",
   "name": "python3"
  },
  "language_info": {
   "codemirror_mode": {
    "name": "ipython",
    "version": 3
   },
   "file_extension": ".py",
   "mimetype": "text/x-python",
   "name": "python",
   "nbconvert_exporter": "python",
   "pygments_lexer": "ipython3",
   "version": "3.8.10"
  },
  "orig_nbformat": 4,
  "vscode": {
   "interpreter": {
    "hash": "6d6808e9ba8815475743150367720cad3673ac2b3f4957dc753295ba7ac37a1a"
   }
  }
 },
 "nbformat": 4,
 "nbformat_minor": 2
}
