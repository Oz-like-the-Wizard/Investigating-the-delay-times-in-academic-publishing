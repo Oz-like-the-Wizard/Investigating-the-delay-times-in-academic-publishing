{
 "cells": [
  {
   "cell_type": "code",
   "execution_count": 1,
   "metadata": {},
   "outputs": [],
   "source": [
    "import pandas as pd\n",
    "import numpy as np\n",
    "\n",
    "import regex as re\n",
    "import pickle\n",
    "\n",
    "from datetime import datetime\n",
    "from time import sleep\n",
    "\n",
    "from elsapy.elsclient import ElsClient\n",
    "from elsapy.elsprofile import ElsAuthor, ElsAffil\n",
    "# from elsapy.elsdoc import FullDoc, AbsDoc\n",
    "from elsapy.elssearch import ElsSearch\n",
    "\n",
    "# from pybliometrics.scopus import AuthorSearch\n"
   ]
  },
  {
   "cell_type": "code",
   "execution_count": 2,
   "metadata": {},
   "outputs": [],
   "source": [
    "# Restarted the PC, re-loading variables:\n",
    "\n",
    "with open(\"author_out_list\", \"rb\") as fp:\n",
    "    author_out_list = pickle.load(fp)\n",
    "\n",
    "with open(\"q1_first_author_df\", \"rb\") as fp:\n",
    "    q1_first_author_df = pickle.load(fp)\n",
    "\n",
    "# with open(\"author_out_list_loop_save\", \"rb\") as fp:\n",
    "#     author_out_list = pickle.load(fp)"
   ]
  },
  {
   "cell_type": "code",
   "execution_count": 5,
   "metadata": {},
   "outputs": [],
   "source": [
    "scopus_codes_dict = {'Agricultural and Biological Sciences': 'AGRI',\n",
    " 'Arts and Humanities': 'ARTS',\n",
    " 'Biochemistry, Genetics and Molecular Biology': 'BIOC',\n",
    " 'Business, Management and Accounting': 'BUSI',\n",
    " 'Chemical Engineering': 'CENG',\n",
    " 'Chemistry': 'CHEM',\n",
    " 'Computer Science': 'COMP',\n",
    " 'Decision Sciences': 'DECI',\n",
    " 'Dentistry': 'DENT',\n",
    " 'Earth and Planetary Sciences': 'EART',\n",
    " 'Economics, Econometrics and Finance': 'ECON',\n",
    " 'Energy': 'ENER',\n",
    " 'Engineering': 'ENGI',\n",
    " 'Environmental Science': 'ENVI',\n",
    " 'Health Professions': 'HEAL',\n",
    " 'Immunology and Microbiology': 'IMMU',\n",
    " 'Materials Science': 'MATE',\n",
    " 'Mathematics': 'MATH',\n",
    " 'Medicine': 'MEDI',\n",
    " 'Neuroscience': 'NEUR',\n",
    " 'Nursing': 'NURS',\n",
    " 'Pharmacology, Toxicology and Pharmaceutics': 'PHAR',\n",
    " 'Physics and Astronomy': 'PHYS',\n",
    " 'Psychology': 'PSYC',\n",
    " 'Social Sciences': 'SOCI',\n",
    " 'Veterinary': 'VETE',\n",
    " 'Multidisciplinary': 'MULT'}\n",
    "\n",
    "def sbj_area_query_creator(sbj_list):\n",
    "    query = \" AND \".join([f\"SUBJAREA({scopus_codes_dict[sbj]})\" for sbj in sbj_list])\n",
    "    return query"
   ]
  },
  {
   "cell_type": "markdown",
   "metadata": {},
   "source": [
    "The main objective of this nb is to create a seperate author_df, to be used with Scopus API Author Search"
   ]
  },
  {
   "cell_type": "markdown",
   "metadata": {},
   "source": [
    "### Part 1: Creating author_df"
   ]
  },
  {
   "cell_type": "code",
   "execution_count": 119,
   "metadata": {},
   "outputs": [
    {
     "ename": "KeyboardInterrupt",
     "evalue": "",
     "output_type": "error",
     "traceback": [
      "\u001b[1;31m---------------------------------------------------------------------------\u001b[0m",
      "\u001b[1;31mKeyboardInterrupt\u001b[0m                         Traceback (most recent call last)",
      "\u001b[1;32m<ipython-input-119-a67f7a73a8e2>\u001b[0m in \u001b[0;36m<module>\u001b[1;34m\u001b[0m\n\u001b[0;32m      1\u001b[0m \u001b[1;32mwith\u001b[0m \u001b[0mopen\u001b[0m\u001b[1;33m(\u001b[0m\u001b[1;34m\"q1_date_df\"\u001b[0m\u001b[1;33m,\u001b[0m \u001b[1;34m\"rb\"\u001b[0m\u001b[1;33m)\u001b[0m \u001b[1;32mas\u001b[0m \u001b[0mfp\u001b[0m\u001b[1;33m:\u001b[0m\u001b[1;33m\u001b[0m\u001b[1;33m\u001b[0m\u001b[0m\n\u001b[1;32m----> 2\u001b[1;33m     \u001b[0mq1_date_df\u001b[0m \u001b[1;33m=\u001b[0m \u001b[0mpickle\u001b[0m\u001b[1;33m.\u001b[0m\u001b[0mload\u001b[0m\u001b[1;33m(\u001b[0m\u001b[0mfp\u001b[0m\u001b[1;33m)\u001b[0m\u001b[1;33m\u001b[0m\u001b[1;33m\u001b[0m\u001b[0m\n\u001b[0m",
      "\u001b[1;31mKeyboardInterrupt\u001b[0m: "
     ]
    }
   ],
   "source": [
    "with open(\"q1_date_df\", \"rb\") as fp:\n",
    "    q1_date_df = pickle.load(fp)"
   ]
  },
  {
   "cell_type": "code",
   "execution_count": null,
   "metadata": {},
   "outputs": [
    {
     "data": {
      "text/plain": [
       "(156754, 20)"
      ]
     },
     "execution_count": 3,
     "metadata": {},
     "output_type": "execute_result"
    }
   ],
   "source": [
    "q1_date_df.shape"
   ]
  },
  {
   "cell_type": "code",
   "execution_count": null,
   "metadata": {},
   "outputs": [
    {
     "data": {
      "text/plain": [
       "<class 'list'>     156436\n",
       "<class 'float'>       318\n",
       "Name: author, dtype: int64"
      ]
     },
     "execution_count": 4,
     "metadata": {},
     "output_type": "execute_result"
    }
   ],
   "source": [
    "q1_date_df.author.map(type).value_counts()"
   ]
  },
  {
   "cell_type": "markdown",
   "metadata": {},
   "source": [
    "It should be noted that 249 artcls do not have any author information :("
   ]
  },
  {
   "cell_type": "code",
   "execution_count": null,
   "metadata": {},
   "outputs": [],
   "source": [
    "q1_author_df = q1_date_df.reset_index().dropna(subset= \"author\").loc[:,[\"DOI\", \"JRNL_ID\", \"author\"]].explode(\"author\")"
   ]
  },
  {
   "cell_type": "code",
   "execution_count": null,
   "metadata": {},
   "outputs": [],
   "source": [
    "q1_author_df.reset_index(drop=True, inplace=True)"
   ]
  },
  {
   "cell_type": "markdown",
   "metadata": {},
   "source": [
    "#### Expanding \"author\" column -> aut_df"
   ]
  },
  {
   "cell_type": "code",
   "execution_count": null,
   "metadata": {},
   "outputs": [],
   "source": [
    "aut_df = pd.DataFrame(list(q1_author_df['author']))"
   ]
  },
  {
   "cell_type": "code",
   "execution_count": null,
   "metadata": {},
   "outputs": [
    {
     "data": {
      "text/plain": [
       "0    530763\n",
       "1    191411\n",
       "Name: affiliation, dtype: int64"
      ]
     },
     "execution_count": 12,
     "metadata": {},
     "output_type": "execute_result"
    }
   ],
   "source": [
    "aut_df.affiliation.map(len).map(lambda x: 1 if x>0 else 0).value_counts()"
   ]
  },
  {
   "cell_type": "code",
   "execution_count": null,
   "metadata": {},
   "outputs": [
    {
     "data": {
      "text/plain": [
       "0    116505\n",
       "1     43729\n",
       "Name: affiliation, dtype: int64"
      ]
     },
     "execution_count": 17,
     "metadata": {},
     "output_type": "execute_result"
    }
   ],
   "source": [
    "aut_df[aut_df.sequence == \"first\"].affiliation.map(len).map(lambda x: 1 if x>0 else 0).value_counts()"
   ]
  },
  {
   "cell_type": "code",
   "execution_count": null,
   "metadata": {},
   "outputs": [],
   "source": [
    "# Combining the two datasets:\n",
    "q1_author_df = pd.concat([q1_author_df, aut_df], axis=1)"
   ]
  },
  {
   "cell_type": "code",
   "execution_count": null,
   "metadata": {},
   "outputs": [
    {
     "data": {
      "text/html": [
       "<div>\n",
       "<style scoped>\n",
       "    .dataframe tbody tr th:only-of-type {\n",
       "        vertical-align: middle;\n",
       "    }\n",
       "\n",
       "    .dataframe tbody tr th {\n",
       "        vertical-align: top;\n",
       "    }\n",
       "\n",
       "    .dataframe thead th {\n",
       "        text-align: right;\n",
       "    }\n",
       "</style>\n",
       "<table border=\"1\" class=\"dataframe\">\n",
       "  <thead>\n",
       "    <tr style=\"text-align: right;\">\n",
       "      <th></th>\n",
       "      <th>DOI</th>\n",
       "      <th>JRNL_ID</th>\n",
       "      <th>author</th>\n",
       "      <th>given</th>\n",
       "      <th>family</th>\n",
       "      <th>sequence</th>\n",
       "      <th>affiliation</th>\n",
       "      <th>ORCID</th>\n",
       "      <th>authenticated-orcid</th>\n",
       "      <th>suffix</th>\n",
       "      <th>name</th>\n",
       "    </tr>\n",
       "  </thead>\n",
       "  <tbody>\n",
       "    <tr>\n",
       "      <th>0</th>\n",
       "      <td>10.1002/aic.14056</td>\n",
       "      <td>1_0</td>\n",
       "      <td>{'given': 'Phuong-Mai', 'family': 'Nguyen', 's...</td>\n",
       "      <td>Phuong-Mai</td>\n",
       "      <td>Nguyen</td>\n",
       "      <td>first</td>\n",
       "      <td>[]</td>\n",
       "      <td>NaN</td>\n",
       "      <td>NaN</td>\n",
       "      <td>NaN</td>\n",
       "      <td>NaN</td>\n",
       "    </tr>\n",
       "    <tr>\n",
       "      <th>1</th>\n",
       "      <td>10.1002/aic.14056</td>\n",
       "      <td>1_0</td>\n",
       "      <td>{'given': 'Audrey', 'family': 'Goujon', 'seque...</td>\n",
       "      <td>Audrey</td>\n",
       "      <td>Goujon</td>\n",
       "      <td>additional</td>\n",
       "      <td>[{'name': 'Institut National de la Recherche A...</td>\n",
       "      <td>NaN</td>\n",
       "      <td>NaN</td>\n",
       "      <td>NaN</td>\n",
       "      <td>NaN</td>\n",
       "    </tr>\n",
       "    <tr>\n",
       "      <th>2</th>\n",
       "      <td>10.1002/aic.14056</td>\n",
       "      <td>1_0</td>\n",
       "      <td>{'given': 'Patrick', 'family': 'Sauvegrain', '...</td>\n",
       "      <td>Patrick</td>\n",
       "      <td>Sauvegrain</td>\n",
       "      <td>additional</td>\n",
       "      <td>[{'name': 'Laboratoire National de métrologie ...</td>\n",
       "      <td>NaN</td>\n",
       "      <td>NaN</td>\n",
       "      <td>NaN</td>\n",
       "      <td>NaN</td>\n",
       "    </tr>\n",
       "    <tr>\n",
       "      <th>3</th>\n",
       "      <td>10.1002/aic.14056</td>\n",
       "      <td>1_0</td>\n",
       "      <td>{'given': 'Olivier', 'family': 'Vitrac', 'sequ...</td>\n",
       "      <td>Olivier</td>\n",
       "      <td>Vitrac</td>\n",
       "      <td>additional</td>\n",
       "      <td>[{'name': 'Institut National de la Recherche A...</td>\n",
       "      <td>NaN</td>\n",
       "      <td>NaN</td>\n",
       "      <td>NaN</td>\n",
       "      <td>NaN</td>\n",
       "    </tr>\n",
       "    <tr>\n",
       "      <th>4</th>\n",
       "      <td>10.1002/aic.14601</td>\n",
       "      <td>1_1</td>\n",
       "      <td>{'given': 'Eiji', 'family': 'Iritani', 'sequen...</td>\n",
       "      <td>Eiji</td>\n",
       "      <td>Iritani</td>\n",
       "      <td>first</td>\n",
       "      <td>[{'name': 'Dept. of Chemical Engineering; Nago...</td>\n",
       "      <td>NaN</td>\n",
       "      <td>NaN</td>\n",
       "      <td>NaN</td>\n",
       "      <td>NaN</td>\n",
       "    </tr>\n",
       "  </tbody>\n",
       "</table>\n",
       "</div>"
      ],
      "text/plain": [
       "                 DOI JRNL_ID  \\\n",
       "0  10.1002/aic.14056     1_0   \n",
       "1  10.1002/aic.14056     1_0   \n",
       "2  10.1002/aic.14056     1_0   \n",
       "3  10.1002/aic.14056     1_0   \n",
       "4  10.1002/aic.14601     1_1   \n",
       "\n",
       "                                              author       given      family  \\\n",
       "0  {'given': 'Phuong-Mai', 'family': 'Nguyen', 's...  Phuong-Mai      Nguyen   \n",
       "1  {'given': 'Audrey', 'family': 'Goujon', 'seque...      Audrey      Goujon   \n",
       "2  {'given': 'Patrick', 'family': 'Sauvegrain', '...     Patrick  Sauvegrain   \n",
       "3  {'given': 'Olivier', 'family': 'Vitrac', 'sequ...     Olivier      Vitrac   \n",
       "4  {'given': 'Eiji', 'family': 'Iritani', 'sequen...        Eiji     Iritani   \n",
       "\n",
       "     sequence                                        affiliation ORCID  \\\n",
       "0       first                                                 []   NaN   \n",
       "1  additional  [{'name': 'Institut National de la Recherche A...   NaN   \n",
       "2  additional  [{'name': 'Laboratoire National de métrologie ...   NaN   \n",
       "3  additional  [{'name': 'Institut National de la Recherche A...   NaN   \n",
       "4       first  [{'name': 'Dept. of Chemical Engineering; Nago...   NaN   \n",
       "\n",
       "  authenticated-orcid suffix name  \n",
       "0                 NaN    NaN  NaN  \n",
       "1                 NaN    NaN  NaN  \n",
       "2                 NaN    NaN  NaN  \n",
       "3                 NaN    NaN  NaN  \n",
       "4                 NaN    NaN  NaN  "
      ]
     },
     "execution_count": 10,
     "metadata": {},
     "output_type": "execute_result"
    }
   ],
   "source": [
    "q1_author_df.head()"
   ]
  },
  {
   "cell_type": "code",
   "execution_count": null,
   "metadata": {},
   "outputs": [
    {
     "name": "stdout",
     "output_type": "stream",
     "text": [
      "<class 'pandas.core.frame.DataFrame'>\n",
      "RangeIndex: 722174 entries, 0 to 722173\n",
      "Data columns (total 11 columns):\n",
      " #   Column               Non-Null Count   Dtype \n",
      "---  ------               --------------   ----- \n",
      " 0   DOI                  722174 non-null  object\n",
      " 1   JRNL_ID              722174 non-null  object\n",
      " 2   author               722174 non-null  object\n",
      " 3   given                720608 non-null  object\n",
      " 4   family               721590 non-null  object\n",
      " 5   sequence             722174 non-null  object\n",
      " 6   affiliation          722174 non-null  object\n",
      " 7   ORCID                51373 non-null   object\n",
      " 8   authenticated-orcid  51373 non-null   object\n",
      " 9   suffix               1021 non-null    object\n",
      " 10  name                 584 non-null     object\n",
      "dtypes: object(11)\n",
      "memory usage: 60.6+ MB\n"
     ]
    }
   ],
   "source": [
    "q1_author_df.info()"
   ]
  },
  {
   "cell_type": "code",
   "execution_count": null,
   "metadata": {},
   "outputs": [
    {
     "data": {
      "text/plain": [
       "28055"
      ]
     },
     "execution_count": 17,
     "metadata": {},
     "output_type": "execute_result"
    }
   ],
   "source": [
    "len(q1_author_df[(q1_author_df.ORCID.notna()) & (q1_author_df.affiliation.map(len)==0)])"
   ]
  },
  {
   "cell_type": "markdown",
   "metadata": {},
   "source": [
    "There are 28K authors that have ORCID info but not any affl. fields.\n",
    "\n",
    "Can be useful, so will not drop!"
   ]
  },
  {
   "cell_type": "code",
   "execution_count": null,
   "metadata": {},
   "outputs": [],
   "source": [
    "q1_author_df.drop([\"suffix\", \"name\", \"author\"], axis=1, inplace=True)"
   ]
  },
  {
   "cell_type": "markdown",
   "metadata": {},
   "source": [
    "The initial analysis shows that a .groupby() w/o any preprocessing decreases the total number of authors from 720K to 590K.\n",
    "\n",
    "However, it is seen that there is a lot of errors & punct. marks in the dataset. These must be cleaned for a better groupby as well as API use."
   ]
  },
  {
   "cell_type": "code",
   "execution_count": null,
   "metadata": {},
   "outputs": [],
   "source": [
    "# To enable easy & detailed analysis we need to remove NaN values from author_df. However, this will not be necessary for the final q1_date_df, as it should not have any empty auhtor fields.and\n",
    "\n",
    "q1_author_df.dropna(subset=[\"family\", \"given\"], inplace=True)"
   ]
  },
  {
   "cell_type": "code",
   "execution_count": null,
   "metadata": {},
   "outputs": [
    {
     "ename": "KeyError",
     "evalue": "\"['New_given', 'New_family'] not found in axis\"",
     "output_type": "error",
     "traceback": [
      "\u001b[1;31m---------------------------------------------------------------------------\u001b[0m",
      "\u001b[1;31mKeyError\u001b[0m                                  Traceback (most recent call last)",
      "\u001b[1;32m<ipython-input-49-aa29e042f4e2>\u001b[0m in \u001b[0;36m<module>\u001b[1;34m\u001b[0m\n\u001b[1;32m----> 1\u001b[1;33m \u001b[0mq1_author_df\u001b[0m\u001b[1;33m.\u001b[0m\u001b[0mdrop\u001b[0m\u001b[1;33m(\u001b[0m\u001b[1;33m[\u001b[0m\u001b[1;34m\"New_given\"\u001b[0m\u001b[1;33m,\u001b[0m \u001b[1;34m\"New_family\"\u001b[0m\u001b[1;33m,\u001b[0m\u001b[1;33m]\u001b[0m\u001b[1;33m,\u001b[0m \u001b[0maxis\u001b[0m\u001b[1;33m=\u001b[0m\u001b[1;36m1\u001b[0m\u001b[1;33m,\u001b[0m \u001b[0minplace\u001b[0m\u001b[1;33m=\u001b[0m\u001b[1;32mTrue\u001b[0m\u001b[1;33m)\u001b[0m\u001b[1;33m\u001b[0m\u001b[1;33m\u001b[0m\u001b[0m\n\u001b[0m",
      "\u001b[1;32mc:\\Users\\oguzk\\anaconda3\\lib\\site-packages\\pandas\\util\\_decorators.py\u001b[0m in \u001b[0;36mwrapper\u001b[1;34m(*args, **kwargs)\u001b[0m\n\u001b[0;32m    309\u001b[0m                     \u001b[0mstacklevel\u001b[0m\u001b[1;33m=\u001b[0m\u001b[0mstacklevel\u001b[0m\u001b[1;33m,\u001b[0m\u001b[1;33m\u001b[0m\u001b[1;33m\u001b[0m\u001b[0m\n\u001b[0;32m    310\u001b[0m                 )\n\u001b[1;32m--> 311\u001b[1;33m             \u001b[1;32mreturn\u001b[0m \u001b[0mfunc\u001b[0m\u001b[1;33m(\u001b[0m\u001b[1;33m*\u001b[0m\u001b[0margs\u001b[0m\u001b[1;33m,\u001b[0m \u001b[1;33m**\u001b[0m\u001b[0mkwargs\u001b[0m\u001b[1;33m)\u001b[0m\u001b[1;33m\u001b[0m\u001b[1;33m\u001b[0m\u001b[0m\n\u001b[0m\u001b[0;32m    312\u001b[0m \u001b[1;33m\u001b[0m\u001b[0m\n\u001b[0;32m    313\u001b[0m         \u001b[1;32mreturn\u001b[0m \u001b[0mwrapper\u001b[0m\u001b[1;33m\u001b[0m\u001b[1;33m\u001b[0m\u001b[0m\n",
      "\u001b[1;32mc:\\Users\\oguzk\\anaconda3\\lib\\site-packages\\pandas\\core\\frame.py\u001b[0m in \u001b[0;36mdrop\u001b[1;34m(self, labels, axis, index, columns, level, inplace, errors)\u001b[0m\n\u001b[0;32m   4946\u001b[0m                 \u001b[0mweight\u001b[0m  \u001b[1;36m1.0\u001b[0m     \u001b[1;36m0.8\u001b[0m\u001b[1;33m\u001b[0m\u001b[1;33m\u001b[0m\u001b[0m\n\u001b[0;32m   4947\u001b[0m         \"\"\"\n\u001b[1;32m-> 4948\u001b[1;33m         return super().drop(\n\u001b[0m\u001b[0;32m   4949\u001b[0m             \u001b[0mlabels\u001b[0m\u001b[1;33m=\u001b[0m\u001b[0mlabels\u001b[0m\u001b[1;33m,\u001b[0m\u001b[1;33m\u001b[0m\u001b[1;33m\u001b[0m\u001b[0m\n\u001b[0;32m   4950\u001b[0m             \u001b[0maxis\u001b[0m\u001b[1;33m=\u001b[0m\u001b[0maxis\u001b[0m\u001b[1;33m,\u001b[0m\u001b[1;33m\u001b[0m\u001b[1;33m\u001b[0m\u001b[0m\n",
      "\u001b[1;32mc:\\Users\\oguzk\\anaconda3\\lib\\site-packages\\pandas\\core\\generic.py\u001b[0m in \u001b[0;36mdrop\u001b[1;34m(self, labels, axis, index, columns, level, inplace, errors)\u001b[0m\n\u001b[0;32m   4277\u001b[0m         \u001b[1;32mfor\u001b[0m \u001b[0maxis\u001b[0m\u001b[1;33m,\u001b[0m \u001b[0mlabels\u001b[0m \u001b[1;32min\u001b[0m \u001b[0maxes\u001b[0m\u001b[1;33m.\u001b[0m\u001b[0mitems\u001b[0m\u001b[1;33m(\u001b[0m\u001b[1;33m)\u001b[0m\u001b[1;33m:\u001b[0m\u001b[1;33m\u001b[0m\u001b[1;33m\u001b[0m\u001b[0m\n\u001b[0;32m   4278\u001b[0m             \u001b[1;32mif\u001b[0m \u001b[0mlabels\u001b[0m \u001b[1;32mis\u001b[0m \u001b[1;32mnot\u001b[0m \u001b[1;32mNone\u001b[0m\u001b[1;33m:\u001b[0m\u001b[1;33m\u001b[0m\u001b[1;33m\u001b[0m\u001b[0m\n\u001b[1;32m-> 4279\u001b[1;33m                 \u001b[0mobj\u001b[0m \u001b[1;33m=\u001b[0m \u001b[0mobj\u001b[0m\u001b[1;33m.\u001b[0m\u001b[0m_drop_axis\u001b[0m\u001b[1;33m(\u001b[0m\u001b[0mlabels\u001b[0m\u001b[1;33m,\u001b[0m \u001b[0maxis\u001b[0m\u001b[1;33m,\u001b[0m \u001b[0mlevel\u001b[0m\u001b[1;33m=\u001b[0m\u001b[0mlevel\u001b[0m\u001b[1;33m,\u001b[0m \u001b[0merrors\u001b[0m\u001b[1;33m=\u001b[0m\u001b[0merrors\u001b[0m\u001b[1;33m)\u001b[0m\u001b[1;33m\u001b[0m\u001b[1;33m\u001b[0m\u001b[0m\n\u001b[0m\u001b[0;32m   4280\u001b[0m \u001b[1;33m\u001b[0m\u001b[0m\n\u001b[0;32m   4281\u001b[0m         \u001b[1;32mif\u001b[0m \u001b[0minplace\u001b[0m\u001b[1;33m:\u001b[0m\u001b[1;33m\u001b[0m\u001b[1;33m\u001b[0m\u001b[0m\n",
      "\u001b[1;32mc:\\Users\\oguzk\\anaconda3\\lib\\site-packages\\pandas\\core\\generic.py\u001b[0m in \u001b[0;36m_drop_axis\u001b[1;34m(self, labels, axis, level, errors, consolidate, only_slice)\u001b[0m\n\u001b[0;32m   4321\u001b[0m                 \u001b[0mnew_axis\u001b[0m \u001b[1;33m=\u001b[0m \u001b[0maxis\u001b[0m\u001b[1;33m.\u001b[0m\u001b[0mdrop\u001b[0m\u001b[1;33m(\u001b[0m\u001b[0mlabels\u001b[0m\u001b[1;33m,\u001b[0m \u001b[0mlevel\u001b[0m\u001b[1;33m=\u001b[0m\u001b[0mlevel\u001b[0m\u001b[1;33m,\u001b[0m \u001b[0merrors\u001b[0m\u001b[1;33m=\u001b[0m\u001b[0merrors\u001b[0m\u001b[1;33m)\u001b[0m\u001b[1;33m\u001b[0m\u001b[1;33m\u001b[0m\u001b[0m\n\u001b[0;32m   4322\u001b[0m             \u001b[1;32melse\u001b[0m\u001b[1;33m:\u001b[0m\u001b[1;33m\u001b[0m\u001b[1;33m\u001b[0m\u001b[0m\n\u001b[1;32m-> 4323\u001b[1;33m                 \u001b[0mnew_axis\u001b[0m \u001b[1;33m=\u001b[0m \u001b[0maxis\u001b[0m\u001b[1;33m.\u001b[0m\u001b[0mdrop\u001b[0m\u001b[1;33m(\u001b[0m\u001b[0mlabels\u001b[0m\u001b[1;33m,\u001b[0m \u001b[0merrors\u001b[0m\u001b[1;33m=\u001b[0m\u001b[0merrors\u001b[0m\u001b[1;33m)\u001b[0m\u001b[1;33m\u001b[0m\u001b[1;33m\u001b[0m\u001b[0m\n\u001b[0m\u001b[0;32m   4324\u001b[0m             \u001b[0mindexer\u001b[0m \u001b[1;33m=\u001b[0m \u001b[0maxis\u001b[0m\u001b[1;33m.\u001b[0m\u001b[0mget_indexer\u001b[0m\u001b[1;33m(\u001b[0m\u001b[0mnew_axis\u001b[0m\u001b[1;33m)\u001b[0m\u001b[1;33m\u001b[0m\u001b[1;33m\u001b[0m\u001b[0m\n\u001b[0;32m   4325\u001b[0m \u001b[1;33m\u001b[0m\u001b[0m\n",
      "\u001b[1;32mc:\\Users\\oguzk\\anaconda3\\lib\\site-packages\\pandas\\core\\indexes\\base.py\u001b[0m in \u001b[0;36mdrop\u001b[1;34m(self, labels, errors)\u001b[0m\n\u001b[0;32m   6642\u001b[0m         \u001b[1;32mif\u001b[0m \u001b[0mmask\u001b[0m\u001b[1;33m.\u001b[0m\u001b[0many\u001b[0m\u001b[1;33m(\u001b[0m\u001b[1;33m)\u001b[0m\u001b[1;33m:\u001b[0m\u001b[1;33m\u001b[0m\u001b[1;33m\u001b[0m\u001b[0m\n\u001b[0;32m   6643\u001b[0m             \u001b[1;32mif\u001b[0m \u001b[0merrors\u001b[0m \u001b[1;33m!=\u001b[0m \u001b[1;34m\"ignore\"\u001b[0m\u001b[1;33m:\u001b[0m\u001b[1;33m\u001b[0m\u001b[1;33m\u001b[0m\u001b[0m\n\u001b[1;32m-> 6644\u001b[1;33m                 \u001b[1;32mraise\u001b[0m \u001b[0mKeyError\u001b[0m\u001b[1;33m(\u001b[0m\u001b[1;34mf\"{list(labels[mask])} not found in axis\"\u001b[0m\u001b[1;33m)\u001b[0m\u001b[1;33m\u001b[0m\u001b[1;33m\u001b[0m\u001b[0m\n\u001b[0m\u001b[0;32m   6645\u001b[0m             \u001b[0mindexer\u001b[0m \u001b[1;33m=\u001b[0m \u001b[0mindexer\u001b[0m\u001b[1;33m[\u001b[0m\u001b[1;33m~\u001b[0m\u001b[0mmask\u001b[0m\u001b[1;33m]\u001b[0m\u001b[1;33m\u001b[0m\u001b[1;33m\u001b[0m\u001b[0m\n\u001b[0;32m   6646\u001b[0m         \u001b[1;32mreturn\u001b[0m \u001b[0mself\u001b[0m\u001b[1;33m.\u001b[0m\u001b[0mdelete\u001b[0m\u001b[1;33m(\u001b[0m\u001b[0mindexer\u001b[0m\u001b[1;33m)\u001b[0m\u001b[1;33m\u001b[0m\u001b[1;33m\u001b[0m\u001b[0m\n",
      "\u001b[1;31mKeyError\u001b[0m: \"['New_given', 'New_family'] not found in axis\""
     ]
    }
   ],
   "source": [
    "q1_author_df.drop([\"New_given\", \"New_family\",], axis=1, inplace=True)"
   ]
  },
  {
   "cell_type": "markdown",
   "metadata": {},
   "source": [
    "The standard for abbr. names will be \"A. C.\""
   ]
  },
  {
   "cell_type": "code",
   "execution_count": null,
   "metadata": {},
   "outputs": [],
   "source": [
    "# Need to df[0] = df[0].str.strip() first:\n",
    "q1_author_df.given = q1_author_df.given.str.strip()\n",
    "q1_author_df.family = q1_author_df.family.str.strip()"
   ]
  },
  {
   "cell_type": "code",
   "execution_count": null,
   "metadata": {},
   "outputs": [],
   "source": [
    "# Remove multiple spaces:\n",
    "q1_author_df.given = q1_author_df.given.map(lambda x: re.sub(' +', ' ', x))\n",
    "q1_author_df.family = q1_author_df.family.map(lambda x: re.sub(' +', ' ', x))"
   ]
  },
  {
   "cell_type": "code",
   "execution_count": null,
   "metadata": {},
   "outputs": [
    {
     "data": {
      "text/html": [
       "<div>\n",
       "<style scoped>\n",
       "    .dataframe tbody tr th:only-of-type {\n",
       "        vertical-align: middle;\n",
       "    }\n",
       "\n",
       "    .dataframe tbody tr th {\n",
       "        vertical-align: top;\n",
       "    }\n",
       "\n",
       "    .dataframe thead th {\n",
       "        text-align: right;\n",
       "    }\n",
       "</style>\n",
       "<table border=\"1\" class=\"dataframe\">\n",
       "  <thead>\n",
       "    <tr style=\"text-align: right;\">\n",
       "      <th></th>\n",
       "      <th>DOI</th>\n",
       "      <th>JRNL_ID</th>\n",
       "      <th>given</th>\n",
       "      <th>family</th>\n",
       "      <th>sequence</th>\n",
       "      <th>affiliation</th>\n",
       "      <th>ORCID</th>\n",
       "      <th>authenticated-orcid</th>\n",
       "      <th>New_given</th>\n",
       "      <th>New_family</th>\n",
       "    </tr>\n",
       "  </thead>\n",
       "  <tbody>\n",
       "    <tr>\n",
       "      <th>121</th>\n",
       "      <td>10.1007/s10441-013-9176-6</td>\n",
       "      <td>1_62</td>\n",
       "      <td>A. S.</td>\n",
       "      <td>Jannot</td>\n",
       "      <td>additional</td>\n",
       "      <td>[]</td>\n",
       "      <td>NaN</td>\n",
       "      <td>NaN</td>\n",
       "      <td>a. s.</td>\n",
       "      <td>jannot</td>\n",
       "    </tr>\n",
       "    <tr>\n",
       "      <th>125</th>\n",
       "      <td>10.1007/s10441-014-9234-8</td>\n",
       "      <td>1_61</td>\n",
       "      <td>G. P.</td>\n",
       "      <td>Samanta</td>\n",
       "      <td>first</td>\n",
       "      <td>[]</td>\n",
       "      <td>NaN</td>\n",
       "      <td>NaN</td>\n",
       "      <td>g. p.</td>\n",
       "      <td>samanta</td>\n",
       "    </tr>\n",
       "    <tr>\n",
       "      <th>153</th>\n",
       "      <td>10.1007/s00701-013-1624-1</td>\n",
       "      <td>1_73</td>\n",
       "      <td>M. P.</td>\n",
       "      <td>Meier</td>\n",
       "      <td>first</td>\n",
       "      <td>[]</td>\n",
       "      <td>NaN</td>\n",
       "      <td>NaN</td>\n",
       "      <td>m. p.</td>\n",
       "      <td>meier</td>\n",
       "    </tr>\n",
       "    <tr>\n",
       "      <th>156</th>\n",
       "      <td>10.1007/s00701-013-1624-1</td>\n",
       "      <td>1_73</td>\n",
       "      <td>M. I.</td>\n",
       "      <td>Ruge</td>\n",
       "      <td>additional</td>\n",
       "      <td>[]</td>\n",
       "      <td>NaN</td>\n",
       "      <td>NaN</td>\n",
       "      <td>m. i.</td>\n",
       "      <td>ruge</td>\n",
       "    </tr>\n",
       "    <tr>\n",
       "      <th>314</th>\n",
       "      <td>10.1007/s10714-010-0991-7</td>\n",
       "      <td>1_114</td>\n",
       "      <td>J. T.</td>\n",
       "      <td>Firouzjaee</td>\n",
       "      <td>first</td>\n",
       "      <td>[]</td>\n",
       "      <td>NaN</td>\n",
       "      <td>NaN</td>\n",
       "      <td>j. t.</td>\n",
       "      <td>firouzjaee</td>\n",
       "    </tr>\n",
       "    <tr>\n",
       "      <th>...</th>\n",
       "      <td>...</td>\n",
       "      <td>...</td>\n",
       "      <td>...</td>\n",
       "      <td>...</td>\n",
       "      <td>...</td>\n",
       "      <td>...</td>\n",
       "      <td>...</td>\n",
       "      <td>...</td>\n",
       "      <td>...</td>\n",
       "      <td>...</td>\n",
       "    </tr>\n",
       "    <tr>\n",
       "      <th>722047</th>\n",
       "      <td>10.1093/geronb/gbt032</td>\n",
       "      <td>1_24503</td>\n",
       "      <td>K. E.</td>\n",
       "      <td>Cichy</td>\n",
       "      <td>additional</td>\n",
       "      <td>[]</td>\n",
       "      <td>NaN</td>\n",
       "      <td>NaN</td>\n",
       "      <td>k. e.</td>\n",
       "      <td>cichy</td>\n",
       "    </tr>\n",
       "    <tr>\n",
       "      <th>722048</th>\n",
       "      <td>10.1093/geronb/gbt032</td>\n",
       "      <td>1_24503</td>\n",
       "      <td>K. S.</td>\n",
       "      <td>Birditt</td>\n",
       "      <td>additional</td>\n",
       "      <td>[]</td>\n",
       "      <td>NaN</td>\n",
       "      <td>NaN</td>\n",
       "      <td>k. s.</td>\n",
       "      <td>birditt</td>\n",
       "    </tr>\n",
       "    <tr>\n",
       "      <th>722057</th>\n",
       "      <td>10.1093/geronb/gbt100</td>\n",
       "      <td>1_24503</td>\n",
       "      <td>E. J.</td>\n",
       "      <td>Nicklett</td>\n",
       "      <td>first</td>\n",
       "      <td>[]</td>\n",
       "      <td>NaN</td>\n",
       "      <td>NaN</td>\n",
       "      <td>e. j.</td>\n",
       "      <td>nicklett</td>\n",
       "    </tr>\n",
       "    <tr>\n",
       "      <th>722059</th>\n",
       "      <td>10.1093/geronb/gbt100</td>\n",
       "      <td>1_24503</td>\n",
       "      <td>M. S.</td>\n",
       "      <td>Spencer</td>\n",
       "      <td>additional</td>\n",
       "      <td>[]</td>\n",
       "      <td>NaN</td>\n",
       "      <td>NaN</td>\n",
       "      <td>m. s.</td>\n",
       "      <td>spencer</td>\n",
       "    </tr>\n",
       "    <tr>\n",
       "      <th>722167</th>\n",
       "      <td>10.1109/tmech.2019.2893183</td>\n",
       "      <td>1_24695</td>\n",
       "      <td>C. C.</td>\n",
       "      <td>Chan</td>\n",
       "      <td>additional</td>\n",
       "      <td>[]</td>\n",
       "      <td>NaN</td>\n",
       "      <td>NaN</td>\n",
       "      <td>c. c.</td>\n",
       "      <td>chan</td>\n",
       "    </tr>\n",
       "  </tbody>\n",
       "</table>\n",
       "<p>14030 rows × 10 columns</p>\n",
       "</div>"
      ],
      "text/plain": [
       "                               DOI  JRNL_ID  given      family    sequence  \\\n",
       "121      10.1007/s10441-013-9176-6     1_62  A. S.      Jannot  additional   \n",
       "125      10.1007/s10441-014-9234-8     1_61  G. P.     Samanta       first   \n",
       "153      10.1007/s00701-013-1624-1     1_73  M. P.       Meier       first   \n",
       "156      10.1007/s00701-013-1624-1     1_73  M. I.        Ruge  additional   \n",
       "314      10.1007/s10714-010-0991-7    1_114  J. T.  Firouzjaee       first   \n",
       "...                            ...      ...    ...         ...         ...   \n",
       "722047       10.1093/geronb/gbt032  1_24503  K. E.       Cichy  additional   \n",
       "722048       10.1093/geronb/gbt032  1_24503  K. S.     Birditt  additional   \n",
       "722057       10.1093/geronb/gbt100  1_24503  E. J.    Nicklett       first   \n",
       "722059       10.1093/geronb/gbt100  1_24503  M. S.     Spencer  additional   \n",
       "722167  10.1109/tmech.2019.2893183  1_24695  C. C.        Chan  additional   \n",
       "\n",
       "       affiliation ORCID authenticated-orcid New_given  New_family  \n",
       "121             []   NaN                 NaN     a. s.      jannot  \n",
       "125             []   NaN                 NaN     g. p.     samanta  \n",
       "153             []   NaN                 NaN     m. p.       meier  \n",
       "156             []   NaN                 NaN     m. i.        ruge  \n",
       "314             []   NaN                 NaN     j. t.  firouzjaee  \n",
       "...            ...   ...                 ...       ...         ...  \n",
       "722047          []   NaN                 NaN     k. e.       cichy  \n",
       "722048          []   NaN                 NaN     k. s.     birditt  \n",
       "722057          []   NaN                 NaN     e. j.    nicklett  \n",
       "722059          []   NaN                 NaN     m. s.     spencer  \n",
       "722167          []   NaN                 NaN     c. c.        chan  \n",
       "\n",
       "[14030 rows x 10 columns]"
      ]
     },
     "execution_count": 34,
     "metadata": {},
     "output_type": "execute_result"
    }
   ],
   "source": [
    "q1_author_df[q1_author_df.given.map(lambda x: bool(re.match(\"^[A-Z]\\.\\s[A-Z]\\.$\", x)))]"
   ]
  },
  {
   "cell_type": "code",
   "execution_count": null,
   "metadata": {},
   "outputs": [],
   "source": [
    "# Case 1: A. C\n",
    "q1_author_df.loc[q1_author_df.given.map(lambda x: bool(re.match(\"^[A-Z]\\.\\s[A-Z]$\", x))),\"new_given\"] = q1_author_df[q1_author_df.given.map(lambda x: bool(re.match(\"^[A-Z]\\.\\s[A-Z]$\", x)))].given.map(lambda x: x +\".\")"
   ]
  },
  {
   "cell_type": "code",
   "execution_count": null,
   "metadata": {},
   "outputs": [],
   "source": [
    "# Case 2: A.C\n",
    "q1_author_df.loc[q1_author_df.given.map(lambda x: bool(re.match(\"^[A-Z]\\.[A-Z]$\", x))),\"new_given\"] = q1_author_df[q1_author_df.given.map(lambda x: bool(re.match(\"^[A-Z]\\.[A-Z]$\", x)))].given.map(lambda x: x.replace(\".\",\". \") +\".\")"
   ]
  },
  {
   "cell_type": "code",
   "execution_count": null,
   "metadata": {},
   "outputs": [],
   "source": [
    "# Case 3: AC\n",
    "q1_author_df.loc[q1_author_df.given.map(lambda x: bool(re.match(\"^[A-Z]{2}$\", x))),\"new_given\"] = q1_author_df[q1_author_df.given.map(lambda x: bool(re.match(\"^[A-Z]{2}$\", x)))].given.map(lambda x: x[0] + \". \" + x[1] + \".\")"
   ]
  },
  {
   "cell_type": "code",
   "execution_count": null,
   "metadata": {},
   "outputs": [],
   "source": [
    "# Case 4: A C\n",
    "q1_author_df.loc[q1_author_df.given.map(lambda x: bool(re.match(\"^[A-Z]\\s[A-Z]$\", x))),\"new_given\"] = q1_author_df[q1_author_df.given.map(lambda x: bool(re.match(\"^[A-Z]\\s[A-Z]$\", x)))].given.map(lambda x: x.replace(\" \", \". \") + \".\")"
   ]
  },
  {
   "cell_type": "code",
   "execution_count": null,
   "metadata": {},
   "outputs": [],
   "source": [
    "# Case 5: A.C.\n",
    "q1_author_df.loc[q1_author_df.given.map(lambda x: bool(re.match(\"^[A-Z]\\.[A-Z]\\.$\", x))), \"new_given\"] = q1_author_df[q1_author_df.given.map(lambda x: bool(re.match(\"^[A-Z]\\.[A-Z]\\.$\", x)))].given.map(lambda x: x.replace(\".\", \". \").strip())"
   ]
  },
  {
   "cell_type": "code",
   "execution_count": null,
   "metadata": {},
   "outputs": [],
   "source": [
    "# Single letter names:\n",
    "q1_author_df.loc[q1_author_df.given.map(lambda x: bool(re.match(\"^[A-Z]$\", x))),\"new_given\"] = q1_author_df[q1_author_df.given.map(lambda x: bool(re.match(\"^[A-Z]$\", x)))].given.map(lambda x: x + \".\")"
   ]
  },
  {
   "cell_type": "code",
   "execution_count": null,
   "metadata": {},
   "outputs": [
    {
     "data": {
      "text/html": [
       "<div>\n",
       "<style scoped>\n",
       "    .dataframe tbody tr th:only-of-type {\n",
       "        vertical-align: middle;\n",
       "    }\n",
       "\n",
       "    .dataframe tbody tr th {\n",
       "        vertical-align: top;\n",
       "    }\n",
       "\n",
       "    .dataframe thead th {\n",
       "        text-align: right;\n",
       "    }\n",
       "</style>\n",
       "<table border=\"1\" class=\"dataframe\">\n",
       "  <thead>\n",
       "    <tr style=\"text-align: right;\">\n",
       "      <th></th>\n",
       "      <th>DOI</th>\n",
       "      <th>JRNL_ID</th>\n",
       "      <th>given</th>\n",
       "      <th>family</th>\n",
       "      <th>sequence</th>\n",
       "      <th>affiliation</th>\n",
       "      <th>ORCID</th>\n",
       "      <th>authenticated-orcid</th>\n",
       "      <th>new_given</th>\n",
       "      <th>new_family</th>\n",
       "    </tr>\n",
       "  </thead>\n",
       "  <tbody>\n",
       "    <tr>\n",
       "      <th>118</th>\n",
       "      <td>10.1007/s10441-013-9176-6</td>\n",
       "      <td>1_62</td>\n",
       "      <td>J.</td>\n",
       "      <td>Demongeot</td>\n",
       "      <td>first</td>\n",
       "      <td>[]</td>\n",
       "      <td>NaN</td>\n",
       "      <td>NaN</td>\n",
       "      <td>j.</td>\n",
       "      <td>demongeot</td>\n",
       "    </tr>\n",
       "    <tr>\n",
       "      <th>119</th>\n",
       "      <td>10.1007/s10441-013-9176-6</td>\n",
       "      <td>1_62</td>\n",
       "      <td>O.</td>\n",
       "      <td>Hansen</td>\n",
       "      <td>additional</td>\n",
       "      <td>[]</td>\n",
       "      <td>NaN</td>\n",
       "      <td>NaN</td>\n",
       "      <td>o.</td>\n",
       "      <td>hansen</td>\n",
       "    </tr>\n",
       "    <tr>\n",
       "      <th>120</th>\n",
       "      <td>10.1007/s10441-013-9176-6</td>\n",
       "      <td>1_62</td>\n",
       "      <td>H.</td>\n",
       "      <td>Hessami</td>\n",
       "      <td>additional</td>\n",
       "      <td>[]</td>\n",
       "      <td>NaN</td>\n",
       "      <td>NaN</td>\n",
       "      <td>h.</td>\n",
       "      <td>hessami</td>\n",
       "    </tr>\n",
       "    <tr>\n",
       "      <th>122</th>\n",
       "      <td>10.1007/s10441-013-9176-6</td>\n",
       "      <td>1_62</td>\n",
       "      <td>J.</td>\n",
       "      <td>Mintsa</td>\n",
       "      <td>additional</td>\n",
       "      <td>[]</td>\n",
       "      <td>NaN</td>\n",
       "      <td>NaN</td>\n",
       "      <td>j.</td>\n",
       "      <td>mintsa</td>\n",
       "    </tr>\n",
       "    <tr>\n",
       "      <th>123</th>\n",
       "      <td>10.1007/s10441-013-9176-6</td>\n",
       "      <td>1_62</td>\n",
       "      <td>M.</td>\n",
       "      <td>Rachdi</td>\n",
       "      <td>additional</td>\n",
       "      <td>[]</td>\n",
       "      <td>NaN</td>\n",
       "      <td>NaN</td>\n",
       "      <td>m.</td>\n",
       "      <td>rachdi</td>\n",
       "    </tr>\n",
       "    <tr>\n",
       "      <th>...</th>\n",
       "      <td>...</td>\n",
       "      <td>...</td>\n",
       "      <td>...</td>\n",
       "      <td>...</td>\n",
       "      <td>...</td>\n",
       "      <td>...</td>\n",
       "      <td>...</td>\n",
       "      <td>...</td>\n",
       "      <td>...</td>\n",
       "      <td>...</td>\n",
       "    </tr>\n",
       "    <tr>\n",
       "      <th>722041</th>\n",
       "      <td>10.1093/geronb/gbr092</td>\n",
       "      <td>1_24502</td>\n",
       "      <td>M.</td>\n",
       "      <td>Kalmijn</td>\n",
       "      <td>additional</td>\n",
       "      <td>[]</td>\n",
       "      <td>NaN</td>\n",
       "      <td>NaN</td>\n",
       "      <td>m.</td>\n",
       "      <td>kalmijn</td>\n",
       "    </tr>\n",
       "    <tr>\n",
       "      <th>722043</th>\n",
       "      <td>10.1093/geronb/gbr131</td>\n",
       "      <td>1_24502</td>\n",
       "      <td>M.</td>\n",
       "      <td>Wilson-Genderson</td>\n",
       "      <td>additional</td>\n",
       "      <td>[]</td>\n",
       "      <td>NaN</td>\n",
       "      <td>NaN</td>\n",
       "      <td>m.</td>\n",
       "      <td>wilson-genderson</td>\n",
       "    </tr>\n",
       "    <tr>\n",
       "      <th>722049</th>\n",
       "      <td>10.1093/geronb/gbt032</td>\n",
       "      <td>1_24503</td>\n",
       "      <td>S.</td>\n",
       "      <td>Zarit</td>\n",
       "      <td>additional</td>\n",
       "      <td>[]</td>\n",
       "      <td>NaN</td>\n",
       "      <td>NaN</td>\n",
       "      <td>s.</td>\n",
       "      <td>zarit</td>\n",
       "    </tr>\n",
       "    <tr>\n",
       "      <th>722061</th>\n",
       "      <td>10.1093/geronb/gbt121</td>\n",
       "      <td>1_24503</td>\n",
       "      <td>V.</td>\n",
       "      <td>Burholt</td>\n",
       "      <td>first</td>\n",
       "      <td>[]</td>\n",
       "      <td>NaN</td>\n",
       "      <td>NaN</td>\n",
       "      <td>v.</td>\n",
       "      <td>burholt</td>\n",
       "    </tr>\n",
       "    <tr>\n",
       "      <th>722062</th>\n",
       "      <td>10.1093/geronb/gbt121</td>\n",
       "      <td>1_24503</td>\n",
       "      <td>T.</td>\n",
       "      <td>Scharf</td>\n",
       "      <td>additional</td>\n",
       "      <td>[]</td>\n",
       "      <td>NaN</td>\n",
       "      <td>NaN</td>\n",
       "      <td>t.</td>\n",
       "      <td>scharf</td>\n",
       "    </tr>\n",
       "  </tbody>\n",
       "</table>\n",
       "<p>54469 rows × 10 columns</p>\n",
       "</div>"
      ],
      "text/plain": [
       "                              DOI  JRNL_ID given            family  \\\n",
       "118     10.1007/s10441-013-9176-6     1_62    J.         Demongeot   \n",
       "119     10.1007/s10441-013-9176-6     1_62    O.            Hansen   \n",
       "120     10.1007/s10441-013-9176-6     1_62    H.           Hessami   \n",
       "122     10.1007/s10441-013-9176-6     1_62    J.            Mintsa   \n",
       "123     10.1007/s10441-013-9176-6     1_62    M.            Rachdi   \n",
       "...                           ...      ...   ...               ...   \n",
       "722041      10.1093/geronb/gbr092  1_24502    M.           Kalmijn   \n",
       "722043      10.1093/geronb/gbr131  1_24502    M.  Wilson-Genderson   \n",
       "722049      10.1093/geronb/gbt032  1_24503    S.             Zarit   \n",
       "722061      10.1093/geronb/gbt121  1_24503    V.           Burholt   \n",
       "722062      10.1093/geronb/gbt121  1_24503    T.            Scharf   \n",
       "\n",
       "          sequence affiliation ORCID authenticated-orcid new_given  \\\n",
       "118          first          []   NaN                 NaN        j.   \n",
       "119     additional          []   NaN                 NaN        o.   \n",
       "120     additional          []   NaN                 NaN        h.   \n",
       "122     additional          []   NaN                 NaN        j.   \n",
       "123     additional          []   NaN                 NaN        m.   \n",
       "...            ...         ...   ...                 ...       ...   \n",
       "722041  additional          []   NaN                 NaN        m.   \n",
       "722043  additional          []   NaN                 NaN        m.   \n",
       "722049  additional          []   NaN                 NaN        s.   \n",
       "722061       first          []   NaN                 NaN        v.   \n",
       "722062  additional          []   NaN                 NaN        t.   \n",
       "\n",
       "              new_family  \n",
       "118            demongeot  \n",
       "119               hansen  \n",
       "120              hessami  \n",
       "122               mintsa  \n",
       "123               rachdi  \n",
       "...                  ...  \n",
       "722041           kalmijn  \n",
       "722043  wilson-genderson  \n",
       "722049             zarit  \n",
       "722061           burholt  \n",
       "722062            scharf  \n",
       "\n",
       "[54469 rows x 10 columns]"
      ]
     },
     "execution_count": 66,
     "metadata": {},
     "output_type": "execute_result"
    }
   ],
   "source": [
    "# Single letter nanmes:\n",
    "q1_author_df[q1_author_df.given.map(lambda x: bool(re.match(\"^[A-Z]\\.$\", x)))]"
   ]
  },
  {
   "cell_type": "code",
   "execution_count": null,
   "metadata": {},
   "outputs": [],
   "source": [
    "# Removing [Name], (Name),\n",
    "# remove \"Name\" , “Name”,\n",
    "# remove & % , - ' .\n",
    "# simplf. ö & ü & � & i\n",
    "\n",
    "# Main Preprocessing:\n",
    "def name_simplifier(pdf_read):\n",
    "    # Lowercase all:\n",
    "    pdf_modified = pdf_read.lower()\n",
    "    # Remove everything in brackets & paranthesis:\n",
    "    pdf_modified = re.sub(\"[\\(\\[\\{].*?[\\)\\]\\}]\", \"\", pdf_modified)\n",
    "    # Remove quote names:\n",
    "    pdf_modified = re.sub('[\"“].*?[\"”]', \"\", pdf_modified)\n",
    "    # Remove numbers\n",
    "    pdf_modified = re.sub(r'[0-9]', '', pdf_modified)\n",
    "    # Remove weird punct.\n",
    "    pdf_modified = re.sub(r'[&\\?\\$\\+\\\\\\*\\^\\|]', '', pdf_modified)\n",
    "    # Simplify acct. a:\n",
    "    pdf_modified = re.sub(r'[áạàảãăặằẳẵâấậầẩẫā]', 'a', pdf_modified)\n",
    "    # Simplify acct. i:\n",
    "    pdf_modified = re.sub(r'[íịìỉĩïǐĭīĩįɨıî]', 'i', pdf_modified)\n",
    "    # Simplify acct. i:\n",
    "    pdf_modified = re.sub(r'[éẹèẻẽêếệềểễ]', 'e', pdf_modified)\n",
    "    # Simplify acct. o:\n",
    "    pdf_modified = re.sub(r'[óòȯôöǒŏōõǫőốồøṓṑ]', 'o', pdf_modified)\n",
    "    # Simplify acct. u:\n",
    "    pdf_modified = re.sub(r'[úùûüǔŭūũů]', 'u', pdf_modified)\n",
    "    # Remove multiple spaces:\n",
    "    pdf_modified = re.sub(' +', ' ', pdf_modified)\n",
    "    # Return pdf_modified\n",
    "    return pdf_modified\n",
    "\n"
   ]
  },
  {
   "cell_type": "code",
   "execution_count": null,
   "metadata": {},
   "outputs": [],
   "source": [
    "# Simpli:\n",
    "\n",
    "q1_author_df.loc[q1_author_df.new_given.isna(),\"new_given\"] = q1_author_df[q1_author_df.new_given.isna()].given.map(name_simplifier)\n",
    "q1_author_df.loc[:,\"new_family\"] = q1_author_df.family.map(name_simplifier)"
   ]
  },
  {
   "cell_type": "code",
   "execution_count": null,
   "metadata": {},
   "outputs": [],
   "source": [
    "# After process stripping:\n",
    "\n",
    "q1_author_df.given = q1_author_df.given.str.strip()\n",
    "q1_author_df.family = q1_author_df.family.str.strip()"
   ]
  },
  {
   "cell_type": "code",
   "execution_count": null,
   "metadata": {},
   "outputs": [
    {
     "data": {
      "text/html": [
       "<div>\n",
       "<style scoped>\n",
       "    .dataframe tbody tr th:only-of-type {\n",
       "        vertical-align: middle;\n",
       "    }\n",
       "\n",
       "    .dataframe tbody tr th {\n",
       "        vertical-align: top;\n",
       "    }\n",
       "\n",
       "    .dataframe thead th {\n",
       "        text-align: right;\n",
       "    }\n",
       "</style>\n",
       "<table border=\"1\" class=\"dataframe\">\n",
       "  <thead>\n",
       "    <tr style=\"text-align: right;\">\n",
       "      <th></th>\n",
       "      <th>given</th>\n",
       "      <th>family</th>\n",
       "      <th>new_given</th>\n",
       "      <th>new_family</th>\n",
       "    </tr>\n",
       "  </thead>\n",
       "  <tbody>\n",
       "    <tr>\n",
       "      <th>662758</th>\n",
       "      <td>Juan</td>\n",
       "      <td>Du</td>\n",
       "      <td>juan</td>\n",
       "      <td>du</td>\n",
       "    </tr>\n",
       "    <tr>\n",
       "      <th>112153</th>\n",
       "      <td>Fabiola H.</td>\n",
       "      <td>Gerpott</td>\n",
       "      <td>fabiola h.</td>\n",
       "      <td>gerpott</td>\n",
       "    </tr>\n",
       "    <tr>\n",
       "      <th>378415</th>\n",
       "      <td>Nina</td>\n",
       "      <td>Hofmann</td>\n",
       "      <td>nina</td>\n",
       "      <td>hofmann</td>\n",
       "    </tr>\n",
       "    <tr>\n",
       "      <th>503665</th>\n",
       "      <td>Steven</td>\n",
       "      <td>Jay</td>\n",
       "      <td>steven</td>\n",
       "      <td>jay</td>\n",
       "    </tr>\n",
       "    <tr>\n",
       "      <th>272638</th>\n",
       "      <td>Srdjan</td>\n",
       "      <td>Pusara</td>\n",
       "      <td>srdjan</td>\n",
       "      <td>pusara</td>\n",
       "    </tr>\n",
       "    <tr>\n",
       "      <th>380487</th>\n",
       "      <td>A. R.</td>\n",
       "      <td>Mermut</td>\n",
       "      <td>a. r.</td>\n",
       "      <td>mermut</td>\n",
       "    </tr>\n",
       "    <tr>\n",
       "      <th>98232</th>\n",
       "      <td>Shiun-Yuan</td>\n",
       "      <td>Hsu</td>\n",
       "      <td>shiun-yuan</td>\n",
       "      <td>hsu</td>\n",
       "    </tr>\n",
       "    <tr>\n",
       "      <th>713101</th>\n",
       "      <td>Marta</td>\n",
       "      <td>Lachowska</td>\n",
       "      <td>marta</td>\n",
       "      <td>lachowska</td>\n",
       "    </tr>\n",
       "    <tr>\n",
       "      <th>684415</th>\n",
       "      <td>Per</td>\n",
       "      <td>Gardeström</td>\n",
       "      <td>per</td>\n",
       "      <td>gardestrom</td>\n",
       "    </tr>\n",
       "    <tr>\n",
       "      <th>454476</th>\n",
       "      <td>John E.</td>\n",
       "      <td>Savage</td>\n",
       "      <td>john e.</td>\n",
       "      <td>savage</td>\n",
       "    </tr>\n",
       "    <tr>\n",
       "      <th>325645</th>\n",
       "      <td>Pierdonato</td>\n",
       "      <td>Bruno</td>\n",
       "      <td>pierdonato</td>\n",
       "      <td>bruno</td>\n",
       "    </tr>\n",
       "    <tr>\n",
       "      <th>661172</th>\n",
       "      <td>Jian</td>\n",
       "      <td>Gao</td>\n",
       "      <td>jian</td>\n",
       "      <td>gao</td>\n",
       "    </tr>\n",
       "    <tr>\n",
       "      <th>247296</th>\n",
       "      <td>Yu Xin</td>\n",
       "      <td>Fang</td>\n",
       "      <td>yu xin</td>\n",
       "      <td>fang</td>\n",
       "    </tr>\n",
       "    <tr>\n",
       "      <th>140487</th>\n",
       "      <td>R. T.</td>\n",
       "      <td>Sabo</td>\n",
       "      <td>r. t.</td>\n",
       "      <td>sabo</td>\n",
       "    </tr>\n",
       "    <tr>\n",
       "      <th>56883</th>\n",
       "      <td>Rafał</td>\n",
       "      <td>Rakoczy</td>\n",
       "      <td>rafał</td>\n",
       "      <td>rakoczy</td>\n",
       "    </tr>\n",
       "    <tr>\n",
       "      <th>466605</th>\n",
       "      <td>Salvatore</td>\n",
       "      <td>Soresi</td>\n",
       "      <td>salvatore</td>\n",
       "      <td>soresi</td>\n",
       "    </tr>\n",
       "    <tr>\n",
       "      <th>196033</th>\n",
       "      <td>Juan José</td>\n",
       "      <td>Díaz-Mochón</td>\n",
       "      <td>juan jose</td>\n",
       "      <td>diaz-mochon</td>\n",
       "    </tr>\n",
       "    <tr>\n",
       "      <th>19138</th>\n",
       "      <td>J.</td>\n",
       "      <td>Millar</td>\n",
       "      <td>j.</td>\n",
       "      <td>millar</td>\n",
       "    </tr>\n",
       "    <tr>\n",
       "      <th>314858</th>\n",
       "      <td>Manuel</td>\n",
       "      <td>Suárez-Abelenda</td>\n",
       "      <td>manuel</td>\n",
       "      <td>suarez-abelenda</td>\n",
       "    </tr>\n",
       "    <tr>\n",
       "      <th>11143</th>\n",
       "      <td>Norman J.</td>\n",
       "      <td>Wagner</td>\n",
       "      <td>norman j.</td>\n",
       "      <td>wagner</td>\n",
       "    </tr>\n",
       "  </tbody>\n",
       "</table>\n",
       "</div>"
      ],
      "text/plain": [
       "             given           family   new_given       new_family\n",
       "662758        Juan               Du        juan               du\n",
       "112153  Fabiola H.          Gerpott  fabiola h.          gerpott\n",
       "378415        Nina          Hofmann        nina          hofmann\n",
       "503665      Steven              Jay      steven              jay\n",
       "272638      Srdjan           Pusara      srdjan           pusara\n",
       "380487       A. R.           Mermut       a. r.           mermut\n",
       "98232   Shiun-Yuan              Hsu  shiun-yuan              hsu\n",
       "713101       Marta        Lachowska       marta        lachowska\n",
       "684415         Per       Gardeström         per       gardestrom\n",
       "454476     John E.           Savage     john e.           savage\n",
       "325645  Pierdonato            Bruno  pierdonato            bruno\n",
       "661172        Jian              Gao        jian              gao\n",
       "247296      Yu Xin             Fang      yu xin             fang\n",
       "140487       R. T.             Sabo       r. t.             sabo\n",
       "56883        Rafał          Rakoczy       rafał          rakoczy\n",
       "466605   Salvatore           Soresi   salvatore           soresi\n",
       "196033   Juan José      Díaz-Mochón   juan jose      diaz-mochon\n",
       "19138           J.           Millar          j.           millar\n",
       "314858      Manuel  Suárez-Abelenda      manuel  suarez-abelenda\n",
       "11143    Norman J.           Wagner   norman j.           wagner"
      ]
     },
     "execution_count": 72,
     "metadata": {},
     "output_type": "execute_result"
    }
   ],
   "source": [
    "q1_author_df[[\"given\",\"family\",\"new_given\",\"new_family\"]].sample(20)"
   ]
  },
  {
   "cell_type": "code",
   "execution_count": null,
   "metadata": {},
   "outputs": [
    {
     "data": {
      "text/plain": [
       "new_given   new_family  \n",
       "                            1\n",
       "            rahmatd         1\n",
       "            santiano        1\n",
       " jing       cai             1\n",
       " kim        keamy           1\n",
       "                           ..\n",
       "о.о.        dan’kiv         1\n",
       "т.а.        denisova        1\n",
       "тatiana а.  grebennikova    1\n",
       "ᴌukasz      boguszewicz     1\n",
       "�lvaro      petracco        1\n",
       "Name: DOI, Length: 585967, dtype: int64"
      ]
     },
     "execution_count": 73,
     "metadata": {},
     "output_type": "execute_result"
    }
   ],
   "source": [
    "q1_author_df.groupby([\"new_given\",\"new_family\"])[\"DOI\"].count()"
   ]
  },
  {
   "cell_type": "markdown",
   "metadata": {},
   "source": [
    "### Part 2: Adding Subject Areas"
   ]
  },
  {
   "cell_type": "code",
   "execution_count": null,
   "metadata": {},
   "outputs": [],
   "source": [
    "with open(\"q1_jrnl_df\", \"rb\") as fp:\n",
    "    q1_jrnl_df = pickle.load(fp)"
   ]
  },
  {
   "cell_type": "code",
   "execution_count": null,
   "metadata": {},
   "outputs": [],
   "source": [
    "q1_author_df = pd.merge(left=q1_author_df, right=q1_jrnl_df[\"SA_list\"], how=\"left\", left_on=\"JRNL_ID\", right_index=True)"
   ]
  },
  {
   "cell_type": "markdown",
   "metadata": {},
   "source": [
    "### Part 3: Scopus API Trials"
   ]
  },
  {
   "cell_type": "code",
   "execution_count": null,
   "metadata": {},
   "outputs": [],
   "source": [
    "# copied from 6a:\n",
    "\n",
    "def Scopus_author(author_list):\n",
    "    for aut in author_list:\n",
    "        name = aut[\"given\"]\n",
    "        surname = aut[\"family\"]\n",
    "        s = AuthorSearch(f'AUTHLAST({surname}) and AUTHFIRST({name})')\n",
    "        if s.get_results_size()>0:\n",
    "            aut[\"country\"] = s.authors[0]._asdict()[\"country\"]\n",
    "        else:\n",
    "            aut[\"country\"] = None\n",
    "    return author_list"
   ]
  },
  {
   "cell_type": "code",
   "execution_count": null,
   "metadata": {},
   "outputs": [],
   "source": [
    "# copied from 6a:\n",
    "\n",
    "# After adding the country field for every author in \"author\" column:\n",
    "# Can use to create a seperate \"author_countries\" column\n",
    "\n",
    "def country_counter(author_col):\n",
    "    return Counter([aut[\"country\"] for aut in author_col])\n"
   ]
  },
  {
   "cell_type": "markdown",
   "metadata": {},
   "source": [
    "Useful stuff:"
   ]
  },
  {
   "cell_type": "code",
   "execution_count": 17,
   "metadata": {},
   "outputs": [],
   "source": [
    "scopus_codes_dict = {'Agricultural and Biological Sciences': 'AGRI',\n",
    " 'Arts and Humanities': 'ARTS',\n",
    " 'Biochemistry, Genetics and Molecular Biology': 'BIOC',\n",
    " 'Business, Management and Accounting': 'BUSI',\n",
    " 'Chemical Engineering': 'CENG',\n",
    " 'Chemistry': 'CHEM',\n",
    " 'Computer Science': 'COMP',\n",
    " 'Decision Sciences': 'DECI',\n",
    " 'Dentistry': 'DENT',\n",
    " 'Earth and Planetary Sciences': 'EART',\n",
    " 'Economics, Econometrics and Finance': 'ECON',\n",
    " 'Energy': 'ENER',\n",
    " 'Engineering': 'ENGI',\n",
    " 'Environmental Science': 'ENVI',\n",
    " 'Health Professions': 'HEAL',\n",
    " 'Immunology and Microbiology': 'IMMU',\n",
    " 'Materials Science': 'MATE',\n",
    " 'Mathematics': 'MATH',\n",
    " 'Medicine': 'MEDI',\n",
    " 'Neuroscience': 'NEUR',\n",
    " 'Nursing': 'NURS',\n",
    " 'Pharmacology, Toxicology and Pharmaceutics': 'PHAR',\n",
    " 'Physics and Astronomy': 'PHYS',\n",
    " 'Psychology': 'PSYC',\n",
    " 'Social Sciences': 'SOCI',\n",
    " 'Veterinary': 'VETE',\n",
    " 'Multidisciplinary': 'MULT'}\n",
    "\n",
    "def sbj_area_query_creator(sbj_list):\n",
    "    query = \" AND \".join([f\"SUBJAREA({scopus_codes_dict[sbj]})\" for sbj in sbj_list])\n",
    "    return query"
   ]
  },
  {
   "cell_type": "code",
   "execution_count": null,
   "metadata": {},
   "outputs": [
    {
     "data": {
      "text/html": [
       "<div>\n",
       "<style scoped>\n",
       "    .dataframe tbody tr th:only-of-type {\n",
       "        vertical-align: middle;\n",
       "    }\n",
       "\n",
       "    .dataframe tbody tr th {\n",
       "        vertical-align: top;\n",
       "    }\n",
       "\n",
       "    .dataframe thead th {\n",
       "        text-align: right;\n",
       "    }\n",
       "</style>\n",
       "<table border=\"1\" class=\"dataframe\">\n",
       "  <thead>\n",
       "    <tr style=\"text-align: right;\">\n",
       "      <th></th>\n",
       "      <th>DOI</th>\n",
       "      <th>JRNL_ID</th>\n",
       "      <th>given</th>\n",
       "      <th>family</th>\n",
       "      <th>sequence</th>\n",
       "      <th>affiliation</th>\n",
       "      <th>ORCID</th>\n",
       "      <th>authenticated-orcid</th>\n",
       "      <th>new_given</th>\n",
       "      <th>new_family</th>\n",
       "      <th>SA_list</th>\n",
       "    </tr>\n",
       "  </thead>\n",
       "  <tbody>\n",
       "    <tr>\n",
       "      <th>128084</th>\n",
       "      <td>10.1021/acs.jmedchem.6b00176</td>\n",
       "      <td>1_4104</td>\n",
       "      <td>Vanessa</td>\n",
       "      <td>Rada</td>\n",
       "      <td>additional</td>\n",
       "      <td>[]</td>\n",
       "      <td>NaN</td>\n",
       "      <td>NaN</td>\n",
       "      <td>vanessa</td>\n",
       "      <td>rada</td>\n",
       "      <td>[Pharmacology, Toxicology and Pharmaceutics, B...</td>\n",
       "    </tr>\n",
       "  </tbody>\n",
       "</table>\n",
       "</div>"
      ],
      "text/plain": [
       "                                 DOI JRNL_ID    given family    sequence  \\\n",
       "128084  10.1021/acs.jmedchem.6b00176  1_4104  Vanessa   Rada  additional   \n",
       "\n",
       "       affiliation ORCID authenticated-orcid new_given new_family  \\\n",
       "128084          []   NaN                 NaN   vanessa       rada   \n",
       "\n",
       "                                                  SA_list  \n",
       "128084  [Pharmacology, Toxicology and Pharmaceutics, B...  "
      ]
     },
     "execution_count": 90,
     "metadata": {},
     "output_type": "execute_result"
    }
   ],
   "source": [
    "testo = q1_author_df.sample(1)\n",
    "\n",
    "testo"
   ]
  },
  {
   "cell_type": "code",
   "execution_count": null,
   "metadata": {},
   "outputs": [
    {
     "data": {
      "text/plain": [
       "['United States']"
      ]
     },
     "execution_count": 110,
     "metadata": {},
     "output_type": "execute_result"
    }
   ],
   "source": [
    "Scopus_author(testo)"
   ]
  },
  {
   "cell_type": "code",
   "execution_count": null,
   "metadata": {},
   "outputs": [],
   "source": [
    "# ScopusQueryError: Found 6574 matches.  The query fails to return more than 5000 entries.  Change your query such that it returns fewer entries."
   ]
  },
  {
   "cell_type": "code",
   "execution_count": 129,
   "metadata": {},
   "outputs": [],
   "source": [
    "# VERSION 1 - To be used w/ .apply()\n",
    "\n",
    "def Scopus_author(row):\n",
    "    name = row[\"new_given\"]\n",
    "    surname = row[\"new_family\"]\n",
    "    sa_list = sbj_area_query_creator(row.SA_list)\n",
    "    try:\n",
    "        s = AuthorSearch(f'AUTHLAST({surname}) AND AUTHFIRST({name}) AND ({sa_list})')\n",
    "    except:\n",
    "        return None\n",
    "    if s.get_results_size() > 0:\n",
    "        return [s.authors[i]._asdict()[\"country\"] for i in range(s.get_results_size())]\n",
    "    else:\n",
    "        return np.nan"
   ]
  },
  {
   "cell_type": "code",
   "execution_count": null,
   "metadata": {},
   "outputs": [],
   "source": [
    "# VERSION 2 - To be used w/ .samle()\n",
    "\n",
    "def Scopus_author_sample(row):\n",
    "    name = row[\"new_given\"].item()\n",
    "    surname = row[\"new_family\"].item()\n",
    "    sa_list = sbj_area_query_creator(row.SA_list.item())\n",
    "    try:\n",
    "        s = AuthorSearch(f'AUTHLAST({surname}) AND AUTHFIRST({name}) AND ({sa_list})')\n",
    "    except:\n",
    "        return None\n",
    "    if s.get_results_size() > 0:\n",
    "        return [s.authors[i]._asdict()[\"country\"] for i in range(s.get_results_size())]\n",
    "    else:\n",
    "        return np.nan"
   ]
  },
  {
   "cell_type": "code",
   "execution_count": 124,
   "metadata": {},
   "outputs": [],
   "source": [
    "testo_df = q1_author_df.sample(6000)"
   ]
  },
  {
   "cell_type": "code",
   "execution_count": 130,
   "metadata": {},
   "outputs": [],
   "source": [
    "testo_df[\"scopus_result\"] = testo_df.apply(Scopus_author, axis=1)"
   ]
  },
  {
   "cell_type": "code",
   "execution_count": 135,
   "metadata": {},
   "outputs": [
    {
     "data": {
      "text/plain": [
       "<class 'NoneType'>    3983\n",
       "<class 'list'>        1974\n",
       "<class 'float'>         43\n",
       "Name: scopus_result, dtype: int64"
      ]
     },
     "execution_count": 135,
     "metadata": {},
     "output_type": "execute_result"
    }
   ],
   "source": [
    "testo_df.scopus_result.map(type).value_counts()"
   ]
  },
  {
   "cell_type": "code",
   "execution_count": 143,
   "metadata": {},
   "outputs": [],
   "source": [
    "with open(\"testo_df\",\"wb\") as p:\n",
    "    pickle.dump(testo_df, p)"
   ]
  },
  {
   "cell_type": "code",
   "execution_count": null,
   "metadata": {},
   "outputs": [],
   "source": [
    "with open(\"q1_author_df\",\"wb\") as p:\n",
    "    pickle.dump(q1_author_df, p)"
   ]
  },
  {
   "cell_type": "code",
   "execution_count": 140,
   "metadata": {},
   "outputs": [
    {
     "name": "stdout",
     "output_type": "stream",
     "text": [
      "Search 'AUTHLAST(Evans) and AUTHFIRST(David G.) AND (SUBJAREA(MEDI) OR SUBJAREA(BIOC) OR SUBJAREA(NEUR))' yielded 15 authors as of 2022-03-22:\n",
      "    Evans, D. Gareth R.; AUTHOR_ID:6505764222 (1,084 document(s))\n",
      "    Evans, David Geraint; AUTHOR_ID:57199095509 (450 document(s))\n",
      "    Evans, David G.; AUTHOR_ID:34770687200 (22 document(s))\n",
      "    Evans, David G.; AUTHOR_ID:57223817001 (10 document(s))\n",
      "    Evans, David G.; AUTHOR_ID:55478754500 (9 document(s))\n",
      "    Evans, David G.; AUTHOR_ID:55478764200 (7 document(s))\n",
      "    Evans, David G.; AUTHOR_ID:57209538123 (5 document(s))\n",
      "    Evans, David G.; AUTHOR_ID:57214022971 (3 document(s))\n",
      "    Evans, David G.; AUTHOR_ID:55568514534 (3 document(s))\n",
      "    Evans, William David George; AUTHOR_ID:55554688500 (3 document(s))\n",
      "    Evans, David G.; AUTHOR_ID:55478772600 (2 document(s))\n",
      "    Evans, David Glyn; AUTHOR_ID:57214023150 (1 document(s))\n",
      "    Evans, David G.; AUTHOR_ID:55478811400 (1 document(s))\n",
      "    Evans, David G.; AUTHOR_ID:55478794700 (1 document(s))\n",
      "    Evans, David G.; AUTHOR_ID:55478768900 (1 document(s))\n"
     ]
    }
   ],
   "source": [
    "print(s_s)"
   ]
  },
  {
   "cell_type": "markdown",
   "metadata": {},
   "source": [
    "### Part 4: Best way to use Scopus API"
   ]
  },
  {
   "cell_type": "code",
   "execution_count": 6,
   "metadata": {},
   "outputs": [],
   "source": [
    "# import pybliometrics\n",
    "\n",
    "# pybliometrics.scopus.utils.create_config()\n",
    "\n",
    "import pandas as pd\n",
    "import numpy as np\n",
    "import regex as re\n",
    "\n",
    "from pybliometrics.scopus import AuthorSearch\n",
    "\n",
    "import pickle"
   ]
  },
  {
   "cell_type": "code",
   "execution_count": 7,
   "metadata": {},
   "outputs": [],
   "source": [
    "scopus_codes_dict = {'Agricultural and Biological Sciences': 'AGRI',\n",
    " 'Arts and Humanities': 'ARTS',\n",
    " 'Biochemistry, Genetics and Molecular Biology': 'BIOC',\n",
    " 'Business, Management and Accounting': 'BUSI',\n",
    " 'Chemical Engineering': 'CENG',\n",
    " 'Chemistry': 'CHEM',\n",
    " 'Computer Science': 'COMP',\n",
    " 'Decision Sciences': 'DECI',\n",
    " 'Dentistry': 'DENT',\n",
    " 'Earth and Planetary Sciences': 'EART',\n",
    " 'Economics, Econometrics and Finance': 'ECON',\n",
    " 'Energy': 'ENER',\n",
    " 'Engineering': 'ENGI',\n",
    " 'Environmental Science': 'ENVI',\n",
    " 'Health Professions': 'HEAL',\n",
    " 'Immunology and Microbiology': 'IMMU',\n",
    " 'Materials Science': 'MATE',\n",
    " 'Mathematics': 'MATH',\n",
    " 'Medicine': 'MEDI',\n",
    " 'Neuroscience': 'NEUR',\n",
    " 'Nursing': 'NURS',\n",
    " 'Pharmacology, Toxicology and Pharmaceutics': 'PHAR',\n",
    " 'Physics and Astronomy': 'PHYS',\n",
    " 'Psychology': 'PSYC',\n",
    " 'Social Sciences': 'SOCI',\n",
    " 'Veterinary': 'VETE',\n",
    " 'Multidisciplinary': 'MULT'}\n",
    "\n",
    "def sbj_area_query_creator(sbj_list):\n",
    "    query = \" AND \".join([f\"SUBJAREA({scopus_codes_dict[sbj]})\" for sbj in sbj_list])\n",
    "    return query"
   ]
  },
  {
   "cell_type": "code",
   "execution_count": 8,
   "metadata": {},
   "outputs": [],
   "source": [
    "with open(\"q1_author_df\", \"rb\") as fp:\n",
    "    q1_author_df = pickle.load(fp)"
   ]
  },
  {
   "cell_type": "code",
   "execution_count": 4,
   "metadata": {},
   "outputs": [],
   "source": [
    "author_records = q1_author_df[[\"new_given\",\"new_family\",\"SA_list\"]].sample(10).to_dict(\"records\")"
   ]
  },
  {
   "cell_type": "markdown",
   "metadata": {},
   "source": [
    "#### 4.1 - w/o any API Keys "
   ]
  },
  {
   "cell_type": "code",
   "execution_count": 19,
   "metadata": {},
   "outputs": [
    {
     "ename": "Scopus401Error",
     "evalue": "Invalid API Key",
     "output_type": "error",
     "traceback": [
      "\u001b[1;31m---------------------------------------------------------------------------\u001b[0m",
      "\u001b[1;31mScopus401Error\u001b[0m                            Traceback (most recent call last)",
      "\u001b[1;32m<ipython-input-19-10e3173104cd>\u001b[0m in \u001b[0;36m<module>\u001b[1;34m\u001b[0m\n\u001b[0;32m      4\u001b[0m     \u001b[0msa_list\u001b[0m \u001b[1;33m=\u001b[0m \u001b[0msbj_area_query_creator\u001b[0m\u001b[1;33m(\u001b[0m\u001b[0mauthor\u001b[0m\u001b[1;33m[\u001b[0m\u001b[1;34m\"SA_list\"\u001b[0m\u001b[1;33m]\u001b[0m\u001b[1;33m)\u001b[0m\u001b[1;33m\u001b[0m\u001b[1;33m\u001b[0m\u001b[0m\n\u001b[0;32m      5\u001b[0m \u001b[1;33m\u001b[0m\u001b[0m\n\u001b[1;32m----> 6\u001b[1;33m     \u001b[0ms\u001b[0m \u001b[1;33m=\u001b[0m \u001b[0mAuthorSearch\u001b[0m\u001b[1;33m(\u001b[0m\u001b[1;34mf'AUTHLAST({surname}) AND AUTHFIRST({name}) AND ({sa_list})'\u001b[0m\u001b[1;33m)\u001b[0m\u001b[1;33m\u001b[0m\u001b[1;33m\u001b[0m\u001b[0m\n\u001b[0m\u001b[0;32m      7\u001b[0m     \u001b[0mauthor\u001b[0m\u001b[1;33m[\u001b[0m\u001b[1;34m\"affil\"\u001b[0m\u001b[1;33m]\u001b[0m \u001b[1;33m=\u001b[0m \u001b[1;33m[\u001b[0m\u001b[0ms\u001b[0m\u001b[1;33m.\u001b[0m\u001b[0mauthors\u001b[0m\u001b[1;33m[\u001b[0m\u001b[0mi\u001b[0m\u001b[1;33m]\u001b[0m\u001b[1;33m.\u001b[0m\u001b[0m_asdict\u001b[0m\u001b[1;33m(\u001b[0m\u001b[1;33m)\u001b[0m\u001b[1;33m[\u001b[0m\u001b[1;34m\"country\"\u001b[0m\u001b[1;33m]\u001b[0m \u001b[1;32mfor\u001b[0m \u001b[0mi\u001b[0m \u001b[1;32min\u001b[0m \u001b[0mrange\u001b[0m\u001b[1;33m(\u001b[0m\u001b[0ms\u001b[0m\u001b[1;33m.\u001b[0m\u001b[0mget_results_size\u001b[0m\u001b[1;33m(\u001b[0m\u001b[1;33m)\u001b[0m\u001b[1;33m)\u001b[0m\u001b[1;33m]\u001b[0m\u001b[1;33m\u001b[0m\u001b[1;33m\u001b[0m\u001b[0m\n",
      "\u001b[1;32mc:\\Users\\oguzk\\anaconda3\\lib\\site-packages\\pybliometrics\\scopus\\author_search.py\u001b[0m in \u001b[0;36m__init__\u001b[1;34m(self, query, refresh, verbose, download, integrity_fields, integrity_action, count, **kwds)\u001b[0m\n\u001b[0;32m    123\u001b[0m         \u001b[0mself\u001b[0m\u001b[1;33m.\u001b[0m\u001b[0m_refresh\u001b[0m \u001b[1;33m=\u001b[0m \u001b[0mrefresh\u001b[0m\u001b[1;33m\u001b[0m\u001b[1;33m\u001b[0m\u001b[0m\n\u001b[0;32m    124\u001b[0m         \u001b[0mself\u001b[0m\u001b[1;33m.\u001b[0m\u001b[0m_view\u001b[0m \u001b[1;33m=\u001b[0m \u001b[1;34m\"STANDARD\"\u001b[0m\u001b[1;33m\u001b[0m\u001b[1;33m\u001b[0m\u001b[0m\n\u001b[1;32m--> 125\u001b[1;33m         Search.__init__(self, query=query, api='AuthorSearch', count=count,\n\u001b[0m\u001b[0;32m    126\u001b[0m                         download=download, verbose=verbose, **kwds)\n\u001b[0;32m    127\u001b[0m \u001b[1;33m\u001b[0m\u001b[0m\n",
      "\u001b[1;32mc:\\Users\\oguzk\\anaconda3\\lib\\site-packages\\pybliometrics\\scopus\\superclasses\\search.py\u001b[0m in \u001b[0;36m__init__\u001b[1;34m(self, query, api, count, cursor, download, verbose, **kwds)\u001b[0m\n\u001b[0;32m     60\u001b[0m \u001b[1;33m\u001b[0m\u001b[0m\n\u001b[0;32m     61\u001b[0m         \u001b[1;31m# Init\u001b[0m\u001b[1;33m\u001b[0m\u001b[1;33m\u001b[0m\u001b[1;33m\u001b[0m\u001b[0m\n\u001b[1;32m---> 62\u001b[1;33m         Base.__init__(self, params=params, url=URLS[api], download=download,\n\u001b[0m\u001b[0;32m     63\u001b[0m                       api=api, verbose=verbose)\n\u001b[0;32m     64\u001b[0m \u001b[1;33m\u001b[0m\u001b[0m\n",
      "\u001b[1;32mc:\\Users\\oguzk\\anaconda3\\lib\\site-packages\\pybliometrics\\scopus\\superclasses\\base.py\u001b[0m in \u001b[0;36m__init__\u001b[1;34m(self, params, url, api, download, verbose, *args, **kwds)\u001b[0m\n\u001b[0;32m     57\u001b[0m                 \u001b[0mself\u001b[0m\u001b[1;33m.\u001b[0m\u001b[0m_json\u001b[0m \u001b[1;33m=\u001b[0m \u001b[0mloads\u001b[0m\u001b[1;33m(\u001b[0m\u001b[0mfname\u001b[0m\u001b[1;33m.\u001b[0m\u001b[0mread_text\u001b[0m\u001b[1;33m(\u001b[0m\u001b[1;33m)\u001b[0m\u001b[1;33m)\u001b[0m\u001b[1;33m\u001b[0m\u001b[1;33m\u001b[0m\u001b[0m\n\u001b[0;32m     58\u001b[0m         \u001b[1;32melse\u001b[0m\u001b[1;33m:\u001b[0m\u001b[1;33m\u001b[0m\u001b[1;33m\u001b[0m\u001b[0m\n\u001b[1;32m---> 59\u001b[1;33m             \u001b[0mresp\u001b[0m \u001b[1;33m=\u001b[0m \u001b[0mget_content\u001b[0m\u001b[1;33m(\u001b[0m\u001b[0murl\u001b[0m\u001b[1;33m,\u001b[0m \u001b[0mapi\u001b[0m\u001b[1;33m,\u001b[0m \u001b[0mparams\u001b[0m\u001b[1;33m,\u001b[0m \u001b[1;33m*\u001b[0m\u001b[0margs\u001b[0m\u001b[1;33m,\u001b[0m \u001b[1;33m**\u001b[0m\u001b[0mkwds\u001b[0m\u001b[1;33m)\u001b[0m\u001b[1;33m\u001b[0m\u001b[1;33m\u001b[0m\u001b[0m\n\u001b[0m\u001b[0;32m     60\u001b[0m             \u001b[0mheader\u001b[0m \u001b[1;33m=\u001b[0m \u001b[0mresp\u001b[0m\u001b[1;33m.\u001b[0m\u001b[0mheaders\u001b[0m\u001b[1;33m\u001b[0m\u001b[1;33m\u001b[0m\u001b[0m\n\u001b[0;32m     61\u001b[0m             \u001b[1;32mif\u001b[0m \u001b[0msearch_request\u001b[0m\u001b[1;33m:\u001b[0m\u001b[1;33m\u001b[0m\u001b[1;33m\u001b[0m\u001b[0m\n",
      "\u001b[1;32mc:\\Users\\oguzk\\anaconda3\\lib\\site-packages\\pybliometrics\\scopus\\utils\\get_content.py\u001b[0m in \u001b[0;36mget_content\u001b[1;34m(url, api, params, **kwds)\u001b[0m\n\u001b[0;32m    109\u001b[0m             \u001b[1;32mexcept\u001b[0m\u001b[1;33m:\u001b[0m\u001b[1;33m\u001b[0m\u001b[1;33m\u001b[0m\u001b[0m\n\u001b[0;32m    110\u001b[0m                 \u001b[0mreason\u001b[0m \u001b[1;33m=\u001b[0m \u001b[1;34m\"\"\u001b[0m\u001b[1;33m\u001b[0m\u001b[1;33m\u001b[0m\u001b[0m\n\u001b[1;32m--> 111\u001b[1;33m         \u001b[1;32mraise\u001b[0m \u001b[0merrors\u001b[0m\u001b[1;33m[\u001b[0m\u001b[0mresp\u001b[0m\u001b[1;33m.\u001b[0m\u001b[0mstatus_code\u001b[0m\u001b[1;33m]\u001b[0m\u001b[1;33m(\u001b[0m\u001b[0mreason\u001b[0m\u001b[1;33m)\u001b[0m\u001b[1;33m\u001b[0m\u001b[1;33m\u001b[0m\u001b[0m\n\u001b[0m\u001b[0;32m    112\u001b[0m     \u001b[1;32mexcept\u001b[0m \u001b[0mKeyError\u001b[0m\u001b[1;33m:\u001b[0m\u001b[1;33m\u001b[0m\u001b[1;33m\u001b[0m\u001b[0m\n\u001b[0;32m    113\u001b[0m         \u001b[0mresp\u001b[0m\u001b[1;33m.\u001b[0m\u001b[0mraise_for_status\u001b[0m\u001b[1;33m(\u001b[0m\u001b[1;33m)\u001b[0m\u001b[1;33m\u001b[0m\u001b[1;33m\u001b[0m\u001b[0m\n",
      "\u001b[1;31mScopus401Error\u001b[0m: Invalid API Key"
     ]
    }
   ],
   "source": [
    "for author in author_records[:10]:\n",
    "    name = author[\"new_given\"]\n",
    "    surname = author[\"new_family\"]\n",
    "    sa_list = sbj_area_query_creator(author[\"SA_list\"])\n",
    "\n",
    "    s = AuthorSearch(f'AUTHLAST({surname}) AND AUTHFIRST({name}) AND ({sa_list})')\n",
    "    author[\"affil\"] = [s.authors[i]._asdict()[\"country\"] for i in range(s.get_results_size())]\n"
   ]
  },
  {
   "cell_type": "markdown",
   "metadata": {},
   "source": [
    "__FAIL__ - We can NOT get any info w/o API keys."
   ]
  },
  {
   "cell_type": "markdown",
   "metadata": {},
   "source": [
    "#### 4.2 - w/ already used(?) API key"
   ]
  },
  {
   "cell_type": "code",
   "execution_count": 5,
   "metadata": {},
   "outputs": [
    {
     "ename": "Scopus429Error",
     "evalue": "",
     "output_type": "error",
     "traceback": [
      "\u001b[1;31m---------------------------------------------------------------------------\u001b[0m",
      "\u001b[1;31mScopus429Error\u001b[0m                            Traceback (most recent call last)",
      "\u001b[1;32m<ipython-input-5-10e3173104cd>\u001b[0m in \u001b[0;36m<module>\u001b[1;34m\u001b[0m\n\u001b[0;32m      4\u001b[0m     \u001b[0msa_list\u001b[0m \u001b[1;33m=\u001b[0m \u001b[0msbj_area_query_creator\u001b[0m\u001b[1;33m(\u001b[0m\u001b[0mauthor\u001b[0m\u001b[1;33m[\u001b[0m\u001b[1;34m\"SA_list\"\u001b[0m\u001b[1;33m]\u001b[0m\u001b[1;33m)\u001b[0m\u001b[1;33m\u001b[0m\u001b[1;33m\u001b[0m\u001b[0m\n\u001b[0;32m      5\u001b[0m \u001b[1;33m\u001b[0m\u001b[0m\n\u001b[1;32m----> 6\u001b[1;33m     \u001b[0ms\u001b[0m \u001b[1;33m=\u001b[0m \u001b[0mAuthorSearch\u001b[0m\u001b[1;33m(\u001b[0m\u001b[1;34mf'AUTHLAST({surname}) AND AUTHFIRST({name}) AND ({sa_list})'\u001b[0m\u001b[1;33m)\u001b[0m\u001b[1;33m\u001b[0m\u001b[1;33m\u001b[0m\u001b[0m\n\u001b[0m\u001b[0;32m      7\u001b[0m     \u001b[0mauthor\u001b[0m\u001b[1;33m[\u001b[0m\u001b[1;34m\"affil\"\u001b[0m\u001b[1;33m]\u001b[0m \u001b[1;33m=\u001b[0m \u001b[1;33m[\u001b[0m\u001b[0ms\u001b[0m\u001b[1;33m.\u001b[0m\u001b[0mauthors\u001b[0m\u001b[1;33m[\u001b[0m\u001b[0mi\u001b[0m\u001b[1;33m]\u001b[0m\u001b[1;33m.\u001b[0m\u001b[0m_asdict\u001b[0m\u001b[1;33m(\u001b[0m\u001b[1;33m)\u001b[0m\u001b[1;33m[\u001b[0m\u001b[1;34m\"country\"\u001b[0m\u001b[1;33m]\u001b[0m \u001b[1;32mfor\u001b[0m \u001b[0mi\u001b[0m \u001b[1;32min\u001b[0m \u001b[0mrange\u001b[0m\u001b[1;33m(\u001b[0m\u001b[0ms\u001b[0m\u001b[1;33m.\u001b[0m\u001b[0mget_results_size\u001b[0m\u001b[1;33m(\u001b[0m\u001b[1;33m)\u001b[0m\u001b[1;33m)\u001b[0m\u001b[1;33m]\u001b[0m\u001b[1;33m\u001b[0m\u001b[1;33m\u001b[0m\u001b[0m\n",
      "\u001b[1;32mc:\\Users\\oguzk\\anaconda3\\lib\\site-packages\\pybliometrics\\scopus\\author_search.py\u001b[0m in \u001b[0;36m__init__\u001b[1;34m(self, query, refresh, verbose, download, integrity_fields, integrity_action, count, **kwds)\u001b[0m\n\u001b[0;32m    123\u001b[0m         \u001b[0mself\u001b[0m\u001b[1;33m.\u001b[0m\u001b[0m_refresh\u001b[0m \u001b[1;33m=\u001b[0m \u001b[0mrefresh\u001b[0m\u001b[1;33m\u001b[0m\u001b[1;33m\u001b[0m\u001b[0m\n\u001b[0;32m    124\u001b[0m         \u001b[0mself\u001b[0m\u001b[1;33m.\u001b[0m\u001b[0m_view\u001b[0m \u001b[1;33m=\u001b[0m \u001b[1;34m\"STANDARD\"\u001b[0m\u001b[1;33m\u001b[0m\u001b[1;33m\u001b[0m\u001b[0m\n\u001b[1;32m--> 125\u001b[1;33m         Search.__init__(self, query=query, api='AuthorSearch', count=count,\n\u001b[0m\u001b[0;32m    126\u001b[0m                         download=download, verbose=verbose, **kwds)\n\u001b[0;32m    127\u001b[0m \u001b[1;33m\u001b[0m\u001b[0m\n",
      "\u001b[1;32mc:\\Users\\oguzk\\anaconda3\\lib\\site-packages\\pybliometrics\\scopus\\superclasses\\search.py\u001b[0m in \u001b[0;36m__init__\u001b[1;34m(self, query, api, count, cursor, download, verbose, **kwds)\u001b[0m\n\u001b[0;32m     60\u001b[0m \u001b[1;33m\u001b[0m\u001b[0m\n\u001b[0;32m     61\u001b[0m         \u001b[1;31m# Init\u001b[0m\u001b[1;33m\u001b[0m\u001b[1;33m\u001b[0m\u001b[1;33m\u001b[0m\u001b[0m\n\u001b[1;32m---> 62\u001b[1;33m         Base.__init__(self, params=params, url=URLS[api], download=download,\n\u001b[0m\u001b[0;32m     63\u001b[0m                       api=api, verbose=verbose)\n\u001b[0;32m     64\u001b[0m \u001b[1;33m\u001b[0m\u001b[0m\n",
      "\u001b[1;32mc:\\Users\\oguzk\\anaconda3\\lib\\site-packages\\pybliometrics\\scopus\\superclasses\\base.py\u001b[0m in \u001b[0;36m__init__\u001b[1;34m(self, params, url, api, download, verbose, *args, **kwds)\u001b[0m\n\u001b[0;32m     57\u001b[0m                 \u001b[0mself\u001b[0m\u001b[1;33m.\u001b[0m\u001b[0m_json\u001b[0m \u001b[1;33m=\u001b[0m \u001b[0mloads\u001b[0m\u001b[1;33m(\u001b[0m\u001b[0mfname\u001b[0m\u001b[1;33m.\u001b[0m\u001b[0mread_text\u001b[0m\u001b[1;33m(\u001b[0m\u001b[1;33m)\u001b[0m\u001b[1;33m)\u001b[0m\u001b[1;33m\u001b[0m\u001b[1;33m\u001b[0m\u001b[0m\n\u001b[0;32m     58\u001b[0m         \u001b[1;32melse\u001b[0m\u001b[1;33m:\u001b[0m\u001b[1;33m\u001b[0m\u001b[1;33m\u001b[0m\u001b[0m\n\u001b[1;32m---> 59\u001b[1;33m             \u001b[0mresp\u001b[0m \u001b[1;33m=\u001b[0m \u001b[0mget_content\u001b[0m\u001b[1;33m(\u001b[0m\u001b[0murl\u001b[0m\u001b[1;33m,\u001b[0m \u001b[0mapi\u001b[0m\u001b[1;33m,\u001b[0m \u001b[0mparams\u001b[0m\u001b[1;33m,\u001b[0m \u001b[1;33m*\u001b[0m\u001b[0margs\u001b[0m\u001b[1;33m,\u001b[0m \u001b[1;33m**\u001b[0m\u001b[0mkwds\u001b[0m\u001b[1;33m)\u001b[0m\u001b[1;33m\u001b[0m\u001b[1;33m\u001b[0m\u001b[0m\n\u001b[0m\u001b[0;32m     60\u001b[0m             \u001b[0mheader\u001b[0m \u001b[1;33m=\u001b[0m \u001b[0mresp\u001b[0m\u001b[1;33m.\u001b[0m\u001b[0mheaders\u001b[0m\u001b[1;33m\u001b[0m\u001b[1;33m\u001b[0m\u001b[0m\n\u001b[0;32m     61\u001b[0m             \u001b[1;32mif\u001b[0m \u001b[0msearch_request\u001b[0m\u001b[1;33m:\u001b[0m\u001b[1;33m\u001b[0m\u001b[1;33m\u001b[0m\u001b[0m\n",
      "\u001b[1;32mc:\\Users\\oguzk\\anaconda3\\lib\\site-packages\\pybliometrics\\scopus\\utils\\get_content.py\u001b[0m in \u001b[0;36mget_content\u001b[1;34m(url, api, params, **kwds)\u001b[0m\n\u001b[0;32m    109\u001b[0m             \u001b[1;32mexcept\u001b[0m\u001b[1;33m:\u001b[0m\u001b[1;33m\u001b[0m\u001b[1;33m\u001b[0m\u001b[0m\n\u001b[0;32m    110\u001b[0m                 \u001b[0mreason\u001b[0m \u001b[1;33m=\u001b[0m \u001b[1;34m\"\"\u001b[0m\u001b[1;33m\u001b[0m\u001b[1;33m\u001b[0m\u001b[0m\n\u001b[1;32m--> 111\u001b[1;33m         \u001b[1;32mraise\u001b[0m \u001b[0merrors\u001b[0m\u001b[1;33m[\u001b[0m\u001b[0mresp\u001b[0m\u001b[1;33m.\u001b[0m\u001b[0mstatus_code\u001b[0m\u001b[1;33m]\u001b[0m\u001b[1;33m(\u001b[0m\u001b[0mreason\u001b[0m\u001b[1;33m)\u001b[0m\u001b[1;33m\u001b[0m\u001b[1;33m\u001b[0m\u001b[0m\n\u001b[0m\u001b[0;32m    112\u001b[0m     \u001b[1;32mexcept\u001b[0m \u001b[0mKeyError\u001b[0m\u001b[1;33m:\u001b[0m\u001b[1;33m\u001b[0m\u001b[1;33m\u001b[0m\u001b[0m\n\u001b[0;32m    113\u001b[0m         \u001b[0mresp\u001b[0m\u001b[1;33m.\u001b[0m\u001b[0mraise_for_status\u001b[0m\u001b[1;33m(\u001b[0m\u001b[1;33m)\u001b[0m\u001b[1;33m\u001b[0m\u001b[1;33m\u001b[0m\u001b[0m\n",
      "\u001b[1;31mScopus429Error\u001b[0m: "
     ]
    }
   ],
   "source": [
    "for author in author_records[:10]:\n",
    "    name = author[\"new_given\"]\n",
    "    surname = author[\"new_family\"]\n",
    "    sa_list = sbj_area_query_creator(author[\"SA_list\"])\n",
    "\n",
    "    s = AuthorSearch(f'AUTHLAST({surname}) AND AUTHFIRST({name}) AND ({sa_list})')\n",
    "    author[\"affil\"] = [s.authors[i]._asdict()[\"country\"] for i in range(s.get_results_size())]\n"
   ]
  },
  {
   "cell_type": "markdown",
   "metadata": {},
   "source": [
    "__FAIL__ - Already used API key gives the 429 error as expected & can NOT be used until the following week!"
   ]
  },
  {
   "cell_type": "markdown",
   "metadata": {},
   "source": [
    "#### 4.3 - w/o VPN connection"
   ]
  },
  {
   "cell_type": "code",
   "execution_count": 6,
   "metadata": {},
   "outputs": [
    {
     "ename": "Scopus401Error",
     "evalue": "The requestor is not authorized to access the requested view or fields of the resource",
     "output_type": "error",
     "traceback": [
      "\u001b[1;31m---------------------------------------------------------------------------\u001b[0m",
      "\u001b[1;31mScopus401Error\u001b[0m                            Traceback (most recent call last)",
      "\u001b[1;32m<ipython-input-6-2e4705569b46>\u001b[0m in \u001b[0;36m<module>\u001b[1;34m\u001b[0m\n\u001b[0;32m      5\u001b[0m \u001b[1;33m\u001b[0m\u001b[0m\n\u001b[0;32m      6\u001b[0m \u001b[1;33m\u001b[0m\u001b[0m\n\u001b[1;32m----> 7\u001b[1;33m     \u001b[0ms\u001b[0m \u001b[1;33m=\u001b[0m \u001b[0mAuthorSearch\u001b[0m\u001b[1;33m(\u001b[0m\u001b[1;34mf'AUTHLAST({surname}) AND AUTHFIRST({name}) AND ({sa_list})'\u001b[0m\u001b[1;33m,\u001b[0m \u001b[0mdownload\u001b[0m\u001b[1;33m=\u001b[0m\u001b[1;32mFalse\u001b[0m\u001b[1;33m)\u001b[0m\u001b[1;33m\u001b[0m\u001b[1;33m\u001b[0m\u001b[0m\n\u001b[0m\u001b[0;32m      8\u001b[0m     \u001b[0mn\u001b[0m \u001b[1;33m=\u001b[0m \u001b[0ms\u001b[0m\u001b[1;33m.\u001b[0m\u001b[0mget_results_size\u001b[0m\u001b[1;33m(\u001b[0m\u001b[1;33m)\u001b[0m\u001b[1;33m\u001b[0m\u001b[1;33m\u001b[0m\u001b[0m\n\u001b[0;32m      9\u001b[0m \u001b[1;33m\u001b[0m\u001b[0m\n",
      "\u001b[1;32mc:\\Users\\oguzk\\anaconda3\\lib\\site-packages\\pybliometrics\\scopus\\author_search.py\u001b[0m in \u001b[0;36m__init__\u001b[1;34m(self, query, refresh, verbose, download, integrity_fields, integrity_action, count, **kwds)\u001b[0m\n\u001b[0;32m    123\u001b[0m         \u001b[0mself\u001b[0m\u001b[1;33m.\u001b[0m\u001b[0m_refresh\u001b[0m \u001b[1;33m=\u001b[0m \u001b[0mrefresh\u001b[0m\u001b[1;33m\u001b[0m\u001b[1;33m\u001b[0m\u001b[0m\n\u001b[0;32m    124\u001b[0m         \u001b[0mself\u001b[0m\u001b[1;33m.\u001b[0m\u001b[0m_view\u001b[0m \u001b[1;33m=\u001b[0m \u001b[1;34m\"STANDARD\"\u001b[0m\u001b[1;33m\u001b[0m\u001b[1;33m\u001b[0m\u001b[0m\n\u001b[1;32m--> 125\u001b[1;33m         Search.__init__(self, query=query, api='AuthorSearch', count=count,\n\u001b[0m\u001b[0;32m    126\u001b[0m                         download=download, verbose=verbose, **kwds)\n\u001b[0;32m    127\u001b[0m \u001b[1;33m\u001b[0m\u001b[0m\n",
      "\u001b[1;32mc:\\Users\\oguzk\\anaconda3\\lib\\site-packages\\pybliometrics\\scopus\\superclasses\\search.py\u001b[0m in \u001b[0;36m__init__\u001b[1;34m(self, query, api, count, cursor, download, verbose, **kwds)\u001b[0m\n\u001b[0;32m     60\u001b[0m \u001b[1;33m\u001b[0m\u001b[0m\n\u001b[0;32m     61\u001b[0m         \u001b[1;31m# Init\u001b[0m\u001b[1;33m\u001b[0m\u001b[1;33m\u001b[0m\u001b[1;33m\u001b[0m\u001b[0m\n\u001b[1;32m---> 62\u001b[1;33m         Base.__init__(self, params=params, url=URLS[api], download=download,\n\u001b[0m\u001b[0;32m     63\u001b[0m                       api=api, verbose=verbose)\n\u001b[0;32m     64\u001b[0m \u001b[1;33m\u001b[0m\u001b[0m\n",
      "\u001b[1;32mc:\\Users\\oguzk\\anaconda3\\lib\\site-packages\\pybliometrics\\scopus\\superclasses\\base.py\u001b[0m in \u001b[0;36m__init__\u001b[1;34m(self, params, url, api, download, verbose, *args, **kwds)\u001b[0m\n\u001b[0;32m     57\u001b[0m                 \u001b[0mself\u001b[0m\u001b[1;33m.\u001b[0m\u001b[0m_json\u001b[0m \u001b[1;33m=\u001b[0m \u001b[0mloads\u001b[0m\u001b[1;33m(\u001b[0m\u001b[0mfname\u001b[0m\u001b[1;33m.\u001b[0m\u001b[0mread_text\u001b[0m\u001b[1;33m(\u001b[0m\u001b[1;33m)\u001b[0m\u001b[1;33m)\u001b[0m\u001b[1;33m\u001b[0m\u001b[1;33m\u001b[0m\u001b[0m\n\u001b[0;32m     58\u001b[0m         \u001b[1;32melse\u001b[0m\u001b[1;33m:\u001b[0m\u001b[1;33m\u001b[0m\u001b[1;33m\u001b[0m\u001b[0m\n\u001b[1;32m---> 59\u001b[1;33m             \u001b[0mresp\u001b[0m \u001b[1;33m=\u001b[0m \u001b[0mget_content\u001b[0m\u001b[1;33m(\u001b[0m\u001b[0murl\u001b[0m\u001b[1;33m,\u001b[0m \u001b[0mapi\u001b[0m\u001b[1;33m,\u001b[0m \u001b[0mparams\u001b[0m\u001b[1;33m,\u001b[0m \u001b[1;33m*\u001b[0m\u001b[0margs\u001b[0m\u001b[1;33m,\u001b[0m \u001b[1;33m**\u001b[0m\u001b[0mkwds\u001b[0m\u001b[1;33m)\u001b[0m\u001b[1;33m\u001b[0m\u001b[1;33m\u001b[0m\u001b[0m\n\u001b[0m\u001b[0;32m     60\u001b[0m             \u001b[0mheader\u001b[0m \u001b[1;33m=\u001b[0m \u001b[0mresp\u001b[0m\u001b[1;33m.\u001b[0m\u001b[0mheaders\u001b[0m\u001b[1;33m\u001b[0m\u001b[1;33m\u001b[0m\u001b[0m\n\u001b[0;32m     61\u001b[0m             \u001b[1;32mif\u001b[0m \u001b[0msearch_request\u001b[0m\u001b[1;33m:\u001b[0m\u001b[1;33m\u001b[0m\u001b[1;33m\u001b[0m\u001b[0m\n",
      "\u001b[1;32mc:\\Users\\oguzk\\anaconda3\\lib\\site-packages\\pybliometrics\\scopus\\utils\\get_content.py\u001b[0m in \u001b[0;36mget_content\u001b[1;34m(url, api, params, **kwds)\u001b[0m\n\u001b[0;32m    109\u001b[0m             \u001b[1;32mexcept\u001b[0m\u001b[1;33m:\u001b[0m\u001b[1;33m\u001b[0m\u001b[1;33m\u001b[0m\u001b[0m\n\u001b[0;32m    110\u001b[0m                 \u001b[0mreason\u001b[0m \u001b[1;33m=\u001b[0m \u001b[1;34m\"\"\u001b[0m\u001b[1;33m\u001b[0m\u001b[1;33m\u001b[0m\u001b[0m\n\u001b[1;32m--> 111\u001b[1;33m         \u001b[1;32mraise\u001b[0m \u001b[0merrors\u001b[0m\u001b[1;33m[\u001b[0m\u001b[0mresp\u001b[0m\u001b[1;33m.\u001b[0m\u001b[0mstatus_code\u001b[0m\u001b[1;33m]\u001b[0m\u001b[1;33m(\u001b[0m\u001b[0mreason\u001b[0m\u001b[1;33m)\u001b[0m\u001b[1;33m\u001b[0m\u001b[1;33m\u001b[0m\u001b[0m\n\u001b[0m\u001b[0;32m    112\u001b[0m     \u001b[1;32mexcept\u001b[0m \u001b[0mKeyError\u001b[0m\u001b[1;33m:\u001b[0m\u001b[1;33m\u001b[0m\u001b[1;33m\u001b[0m\u001b[0m\n\u001b[0;32m    113\u001b[0m         \u001b[0mresp\u001b[0m\u001b[1;33m.\u001b[0m\u001b[0mraise_for_status\u001b[0m\u001b[1;33m(\u001b[0m\u001b[1;33m)\u001b[0m\u001b[1;33m\u001b[0m\u001b[1;33m\u001b[0m\u001b[0m\n",
      "\u001b[1;31mScopus401Error\u001b[0m: The requestor is not authorized to access the requested view or fields of the resource"
     ]
    }
   ],
   "source": [
    "for author in author_records:\n",
    "    name = author[\"new_given\"]\n",
    "    surname = author[\"new_family\"]\n",
    "    sa_list = sbj_area_query_creator(author[\"SA_list\"])\n",
    "    \n",
    "\n",
    "    s = AuthorSearch(f'AUTHLAST({surname}) AND AUTHFIRST({name}) AND ({sa_list})', download=False)\n",
    "    n = s.get_results_size()\n",
    "\n",
    "    if n > 5000:\n",
    "        author[\"affil\"] = \"Too many results!\"\n",
    "    else:\n",
    "        author[\"affil\"] = [s.authors[i]._asdict()[\"country\"] for i in range(s.get_results_size())]"
   ]
  },
  {
   "cell_type": "markdown",
   "metadata": {},
   "source": [
    "__FAIL__ - does NOT work w/o VPN connection!"
   ]
  },
  {
   "cell_type": "markdown",
   "metadata": {},
   "source": [
    "#### 4.4 - w/ download = False \n",
    "\n",
    "Is it reasonable to use download = False to check result_size & use the same request to also get the info needed"
   ]
  },
  {
   "cell_type": "code",
   "execution_count": 5,
   "metadata": {},
   "outputs": [
    {
     "ename": "TypeError",
     "evalue": "'NoneType' object is not subscriptable",
     "output_type": "error",
     "traceback": [
      "\u001b[1;31m---------------------------------------------------------------------------\u001b[0m",
      "\u001b[1;31mTypeError\u001b[0m                                 Traceback (most recent call last)",
      "\u001b[1;32m<ipython-input-5-2e4705569b46>\u001b[0m in \u001b[0;36m<module>\u001b[1;34m\u001b[0m\n\u001b[0;32m     11\u001b[0m         \u001b[0mauthor\u001b[0m\u001b[1;33m[\u001b[0m\u001b[1;34m\"affil\"\u001b[0m\u001b[1;33m]\u001b[0m \u001b[1;33m=\u001b[0m \u001b[1;34m\"Too many results!\"\u001b[0m\u001b[1;33m\u001b[0m\u001b[1;33m\u001b[0m\u001b[0m\n\u001b[0;32m     12\u001b[0m     \u001b[1;32melse\u001b[0m\u001b[1;33m:\u001b[0m\u001b[1;33m\u001b[0m\u001b[1;33m\u001b[0m\u001b[0m\n\u001b[1;32m---> 13\u001b[1;33m         \u001b[0mauthor\u001b[0m\u001b[1;33m[\u001b[0m\u001b[1;34m\"affil\"\u001b[0m\u001b[1;33m]\u001b[0m \u001b[1;33m=\u001b[0m \u001b[1;33m[\u001b[0m\u001b[0ms\u001b[0m\u001b[1;33m.\u001b[0m\u001b[0mauthors\u001b[0m\u001b[1;33m[\u001b[0m\u001b[0mi\u001b[0m\u001b[1;33m]\u001b[0m\u001b[1;33m.\u001b[0m\u001b[0m_asdict\u001b[0m\u001b[1;33m(\u001b[0m\u001b[1;33m)\u001b[0m\u001b[1;33m[\u001b[0m\u001b[1;34m\"country\"\u001b[0m\u001b[1;33m]\u001b[0m \u001b[1;32mfor\u001b[0m \u001b[0mi\u001b[0m \u001b[1;32min\u001b[0m \u001b[0mrange\u001b[0m\u001b[1;33m(\u001b[0m\u001b[0ms\u001b[0m\u001b[1;33m.\u001b[0m\u001b[0mget_results_size\u001b[0m\u001b[1;33m(\u001b[0m\u001b[1;33m)\u001b[0m\u001b[1;33m)\u001b[0m\u001b[1;33m]\u001b[0m\u001b[1;33m\u001b[0m\u001b[1;33m\u001b[0m\u001b[0m\n\u001b[0m",
      "\u001b[1;32m<ipython-input-5-2e4705569b46>\u001b[0m in \u001b[0;36m<listcomp>\u001b[1;34m(.0)\u001b[0m\n\u001b[0;32m     11\u001b[0m         \u001b[0mauthor\u001b[0m\u001b[1;33m[\u001b[0m\u001b[1;34m\"affil\"\u001b[0m\u001b[1;33m]\u001b[0m \u001b[1;33m=\u001b[0m \u001b[1;34m\"Too many results!\"\u001b[0m\u001b[1;33m\u001b[0m\u001b[1;33m\u001b[0m\u001b[0m\n\u001b[0;32m     12\u001b[0m     \u001b[1;32melse\u001b[0m\u001b[1;33m:\u001b[0m\u001b[1;33m\u001b[0m\u001b[1;33m\u001b[0m\u001b[0m\n\u001b[1;32m---> 13\u001b[1;33m         \u001b[0mauthor\u001b[0m\u001b[1;33m[\u001b[0m\u001b[1;34m\"affil\"\u001b[0m\u001b[1;33m]\u001b[0m \u001b[1;33m=\u001b[0m \u001b[1;33m[\u001b[0m\u001b[0ms\u001b[0m\u001b[1;33m.\u001b[0m\u001b[0mauthors\u001b[0m\u001b[1;33m[\u001b[0m\u001b[0mi\u001b[0m\u001b[1;33m]\u001b[0m\u001b[1;33m.\u001b[0m\u001b[0m_asdict\u001b[0m\u001b[1;33m(\u001b[0m\u001b[1;33m)\u001b[0m\u001b[1;33m[\u001b[0m\u001b[1;34m\"country\"\u001b[0m\u001b[1;33m]\u001b[0m \u001b[1;32mfor\u001b[0m \u001b[0mi\u001b[0m \u001b[1;32min\u001b[0m \u001b[0mrange\u001b[0m\u001b[1;33m(\u001b[0m\u001b[0ms\u001b[0m\u001b[1;33m.\u001b[0m\u001b[0mget_results_size\u001b[0m\u001b[1;33m(\u001b[0m\u001b[1;33m)\u001b[0m\u001b[1;33m)\u001b[0m\u001b[1;33m]\u001b[0m\u001b[1;33m\u001b[0m\u001b[1;33m\u001b[0m\u001b[0m\n\u001b[0m",
      "\u001b[1;31mTypeError\u001b[0m: 'NoneType' object is not subscriptable"
     ]
    }
   ],
   "source": [
    "for author in author_records:\n",
    "    name = author[\"new_given\"]\n",
    "    surname = author[\"new_family\"]\n",
    "    sa_list = sbj_area_query_creator(author[\"SA_list\"])\n",
    "    \n",
    "\n",
    "    s = AuthorSearch(f'AUTHLAST({surname}) AND AUTHFIRST({name}) AND ({sa_list})', download=False)\n",
    "    n = s.get_results_size()\n",
    "\n",
    "    if n > 5000:\n",
    "        author[\"affil\"] = \"Too many results!\"\n",
    "    else:\n",
    "        author[\"affil\"] = [s.authors[i]._asdict()[\"country\"] for i in range(s.get_results_size())]"
   ]
  },
  {
   "cell_type": "code",
   "execution_count": 6,
   "metadata": {},
   "outputs": [
    {
     "data": {
      "text/plain": [
       "'5000'"
      ]
     },
     "execution_count": 6,
     "metadata": {},
     "output_type": "execute_result"
    }
   ],
   "source": [
    "s.get_key_remaining_quota()"
   ]
  },
  {
   "cell_type": "markdown",
   "metadata": {},
   "source": [
    "__FAIL__ - If download = False, can not use the query result! \n",
    "\n",
    "__HOWEVER__, the remaining quota is still 5000, so probab. download = False does not use quota!!"
   ]
  },
  {
   "cell_type": "markdown",
   "metadata": {},
   "source": [
    "#### 4.5 - Combining all:"
   ]
  },
  {
   "cell_type": "code",
   "execution_count": 7,
   "metadata": {},
   "outputs": [],
   "source": [
    "# Test 1:\n",
    "\n",
    "for author in author_records:\n",
    "    name = author[\"new_given\"]\n",
    "    surname = author[\"new_family\"]\n",
    "    sa_list = sbj_area_query_creator(author[\"SA_list\"])\n",
    "    \n",
    "\n",
    "    n = AuthorSearch(f'AUTHLAST({surname}) AND AUTHFIRST({name}) AND ({sa_list})', download=False).get_results_size()\n",
    "\n",
    "    if n > 5000:\n",
    "        author[\"affil\"] = \"Too many results!\"\n",
    "    else:\n",
    "        s = AuthorSearch(f'AUTHLAST({surname}) AND AUTHFIRST({name}) AND ({sa_list})')\n",
    "        author[\"affil\"] = [s.authors[i]._asdict()[\"country\"] for i in range(s.get_results_size())]"
   ]
  },
  {
   "cell_type": "code",
   "execution_count": 8,
   "metadata": {},
   "outputs": [
    {
     "data": {
      "text/plain": [
       "'4970'"
      ]
     },
     "execution_count": 8,
     "metadata": {},
     "output_type": "execute_result"
    }
   ],
   "source": [
    "s.get_key_remaining_quota()"
   ]
  },
  {
   "cell_type": "code",
   "execution_count": 10,
   "metadata": {},
   "outputs": [
    {
     "data": {
      "text/html": [
       "<div>\n",
       "<style scoped>\n",
       "    .dataframe tbody tr th:only-of-type {\n",
       "        vertical-align: middle;\n",
       "    }\n",
       "\n",
       "    .dataframe tbody tr th {\n",
       "        vertical-align: top;\n",
       "    }\n",
       "\n",
       "    .dataframe thead th {\n",
       "        text-align: right;\n",
       "    }\n",
       "</style>\n",
       "<table border=\"1\" class=\"dataframe\">\n",
       "  <thead>\n",
       "    <tr style=\"text-align: right;\">\n",
       "      <th></th>\n",
       "      <th>new_given</th>\n",
       "      <th>new_family</th>\n",
       "      <th>SA_list</th>\n",
       "      <th>affil</th>\n",
       "    </tr>\n",
       "  </thead>\n",
       "  <tbody>\n",
       "    <tr>\n",
       "      <th>0</th>\n",
       "      <td>yichuan</td>\n",
       "      <td>xiao</td>\n",
       "      <td>[Biochemistry, Genetics and Molecular Biology]</td>\n",
       "      <td>[China, China, China, China]</td>\n",
       "    </tr>\n",
       "    <tr>\n",
       "      <th>1</th>\n",
       "      <td>ahmed ibrahim fadhil</td>\n",
       "      <td>al-adly</td>\n",
       "      <td>[Energy, Chemistry, Chemical Engineering]</td>\n",
       "      <td>[Iraq]</td>\n",
       "    </tr>\n",
       "    <tr>\n",
       "      <th>2</th>\n",
       "      <td>alex</td>\n",
       "      <td>nicol-harper</td>\n",
       "      <td>[Agricultural and Biological Sciences]</td>\n",
       "      <td>[United Kingdom]</td>\n",
       "    </tr>\n",
       "    <tr>\n",
       "      <th>3</th>\n",
       "      <td>konrad</td>\n",
       "      <td>gajewski</td>\n",
       "      <td>[Social Sciences, Arts and Humanities, Agricul...</td>\n",
       "      <td>[Canada]</td>\n",
       "    </tr>\n",
       "    <tr>\n",
       "      <th>4</th>\n",
       "      <td>ajmal</td>\n",
       "      <td>ahmad</td>\n",
       "      <td>[Pharmacology, Toxicology and Pharmaceutics]</td>\n",
       "      <td>[Saudi Arabia, Saudi Arabia]</td>\n",
       "    </tr>\n",
       "    <tr>\n",
       "      <th>5</th>\n",
       "      <td>megan</td>\n",
       "      <td>stolen</td>\n",
       "      <td>[Chemistry, Environmental Science, Medicine]</td>\n",
       "      <td>[United States]</td>\n",
       "    </tr>\n",
       "    <tr>\n",
       "      <th>6</th>\n",
       "      <td>dragana</td>\n",
       "      <td>životić</td>\n",
       "      <td>[Earth and Planetary Sciences]</td>\n",
       "      <td>[Serbia]</td>\n",
       "    </tr>\n",
       "    <tr>\n",
       "      <th>7</th>\n",
       "      <td>yotam</td>\n",
       "      <td>levy</td>\n",
       "      <td>[Neuroscience, Medicine]</td>\n",
       "      <td>[United Kingdom]</td>\n",
       "    </tr>\n",
       "    <tr>\n",
       "      <th>8</th>\n",
       "      <td>michael a. e.</td>\n",
       "      <td>andersen</td>\n",
       "      <td>[Engineering, Energy]</td>\n",
       "      <td>[Denmark]</td>\n",
       "    </tr>\n",
       "    <tr>\n",
       "      <th>9</th>\n",
       "      <td>christopher j.</td>\n",
       "      <td>grim</td>\n",
       "      <td>[Immunology and Microbiology, Medicine]</td>\n",
       "      <td>[United States]</td>\n",
       "    </tr>\n",
       "  </tbody>\n",
       "</table>\n",
       "</div>"
      ],
      "text/plain": [
       "              new_given    new_family  \\\n",
       "0               yichuan          xiao   \n",
       "1  ahmed ibrahim fadhil       al-adly   \n",
       "2                  alex  nicol-harper   \n",
       "3                konrad      gajewski   \n",
       "4                 ajmal         ahmad   \n",
       "5                 megan        stolen   \n",
       "6               dragana       životić   \n",
       "7                 yotam          levy   \n",
       "8         michael a. e.      andersen   \n",
       "9        christopher j.          grim   \n",
       "\n",
       "                                             SA_list  \\\n",
       "0     [Biochemistry, Genetics and Molecular Biology]   \n",
       "1          [Energy, Chemistry, Chemical Engineering]   \n",
       "2             [Agricultural and Biological Sciences]   \n",
       "3  [Social Sciences, Arts and Humanities, Agricul...   \n",
       "4       [Pharmacology, Toxicology and Pharmaceutics]   \n",
       "5       [Chemistry, Environmental Science, Medicine]   \n",
       "6                     [Earth and Planetary Sciences]   \n",
       "7                           [Neuroscience, Medicine]   \n",
       "8                              [Engineering, Energy]   \n",
       "9            [Immunology and Microbiology, Medicine]   \n",
       "\n",
       "                          affil  \n",
       "0  [China, China, China, China]  \n",
       "1                        [Iraq]  \n",
       "2              [United Kingdom]  \n",
       "3                      [Canada]  \n",
       "4  [Saudi Arabia, Saudi Arabia]  \n",
       "5               [United States]  \n",
       "6                      [Serbia]  \n",
       "7              [United Kingdom]  \n",
       "8                     [Denmark]  \n",
       "9               [United States]  "
      ]
     },
     "execution_count": 10,
     "metadata": {},
     "output_type": "execute_result"
    }
   ],
   "source": [
    "pd.DataFrame(author_records)"
   ]
  },
  {
   "cell_type": "code",
   "execution_count": 56,
   "metadata": {},
   "outputs": [
    {
     "data": {
      "text/plain": [
       "14"
      ]
     },
     "execution_count": 56,
     "metadata": {},
     "output_type": "execute_result"
    }
   ],
   "source": [
    "pd.DataFrame(author_records[:10]).affil.map(len).sum()"
   ]
  },
  {
   "cell_type": "code",
   "execution_count": 57,
   "metadata": {},
   "outputs": [
    {
     "data": {
      "text/plain": [
       "21"
      ]
     },
     "execution_count": 57,
     "metadata": {},
     "output_type": "execute_result"
    }
   ],
   "source": [
    "pd.DataFrame(author_records[:10]).SA_list.map(len).sum()"
   ]
  },
  {
   "cell_type": "markdown",
   "metadata": {},
   "source": [
    "It is WORKING!!!! However, the quota is now 4970 intead of the expected number 4990. Need to check this issue!"
   ]
  },
  {
   "cell_type": "markdown",
   "metadata": {},
   "source": [
    "#### 4.6 - Analyzing API Quota Issues:"
   ]
  },
  {
   "cell_type": "code",
   "execution_count": 11,
   "metadata": {},
   "outputs": [
    {
     "data": {
      "text/plain": [
       "'4970'"
      ]
     },
     "execution_count": 11,
     "metadata": {},
     "output_type": "execute_result"
    }
   ],
   "source": [
    "s.get_key_remaining_quota()"
   ]
  },
  {
   "cell_type": "code",
   "execution_count": 12,
   "metadata": {},
   "outputs": [],
   "source": [
    "# As the API quotas are limited, creating a new author_records dict that can be combined with the previous run results.\n",
    "\n",
    "author_records2 = q1_author_df[[\"new_given\",\"new_family\",\"SA_list\"]].sample(10).to_dict(\"records\")"
   ]
  },
  {
   "cell_type": "code",
   "execution_count": 13,
   "metadata": {},
   "outputs": [],
   "source": [
    "# Test 2:\n",
    "\n",
    "for author in author_records2:\n",
    "    name = author[\"new_given\"]\n",
    "    surname = author[\"new_family\"]\n",
    "    sa_list = sbj_area_query_creator(author[\"SA_list\"])\n",
    "    \n",
    "\n",
    "    n = AuthorSearch(f'AUTHLAST({surname}) AND AUTHFIRST({name}) AND ({sa_list})', download=False).get_results_size()\n",
    "\n",
    "    if n > 5000:\n",
    "        author[\"affil\"] = \"Too many results!\"\n",
    "    else:\n",
    "        s = AuthorSearch(f'AUTHLAST({surname}) AND AUTHFIRST({name}) AND ({sa_list})')\n",
    "        author[\"affil\"] = [s.authors[i]._asdict()[\"country\"] for i in range(n)]"
   ]
  },
  {
   "cell_type": "code",
   "execution_count": 14,
   "metadata": {},
   "outputs": [
    {
     "data": {
      "text/plain": [
       "'4940'"
      ]
     },
     "execution_count": 14,
     "metadata": {},
     "output_type": "execute_result"
    }
   ],
   "source": [
    "s.get_key_remaining_quota()"
   ]
  },
  {
   "cell_type": "code",
   "execution_count": 46,
   "metadata": {},
   "outputs": [
    {
     "data": {
      "text/html": [
       "<div>\n",
       "<style scoped>\n",
       "    .dataframe tbody tr th:only-of-type {\n",
       "        vertical-align: middle;\n",
       "    }\n",
       "\n",
       "    .dataframe tbody tr th {\n",
       "        vertical-align: top;\n",
       "    }\n",
       "\n",
       "    .dataframe thead th {\n",
       "        text-align: right;\n",
       "    }\n",
       "</style>\n",
       "<table border=\"1\" class=\"dataframe\">\n",
       "  <thead>\n",
       "    <tr style=\"text-align: right;\">\n",
       "      <th></th>\n",
       "      <th>new_given</th>\n",
       "      <th>new_family</th>\n",
       "      <th>SA_list</th>\n",
       "      <th>affil</th>\n",
       "    </tr>\n",
       "  </thead>\n",
       "  <tbody>\n",
       "    <tr>\n",
       "      <th>0</th>\n",
       "      <td>hainan</td>\n",
       "      <td>liu</td>\n",
       "      <td>[Medicine]</td>\n",
       "      <td>[China, China, China, China, None, None]</td>\n",
       "    </tr>\n",
       "    <tr>\n",
       "      <th>1</th>\n",
       "      <td>yougen</td>\n",
       "      <td>chen</td>\n",
       "      <td>[Physics and Astronomy, Materials Science, Mat...</td>\n",
       "      <td>[China]</td>\n",
       "    </tr>\n",
       "    <tr>\n",
       "      <th>2</th>\n",
       "      <td>komal</td>\n",
       "      <td>agrawal</td>\n",
       "      <td>[Chemical Engineering, Energy]</td>\n",
       "      <td>[India]</td>\n",
       "    </tr>\n",
       "    <tr>\n",
       "      <th>3</th>\n",
       "      <td>liliana</td>\n",
       "      <td>letra</td>\n",
       "      <td>[Neuroscience]</td>\n",
       "      <td>[Portugal]</td>\n",
       "    </tr>\n",
       "    <tr>\n",
       "      <th>4</th>\n",
       "      <td>i.</td>\n",
       "      <td>krossing</td>\n",
       "      <td>[Chemical Engineering, Chemistry]</td>\n",
       "      <td>[Germany]</td>\n",
       "    </tr>\n",
       "    <tr>\n",
       "      <th>5</th>\n",
       "      <td>pasan</td>\n",
       "      <td>fernando</td>\n",
       "      <td>[Chemical Engineering, Engineering, Biochemist...</td>\n",
       "      <td>[Canada]</td>\n",
       "    </tr>\n",
       "    <tr>\n",
       "      <th>6</th>\n",
       "      <td>hod</td>\n",
       "      <td>orkibi</td>\n",
       "      <td>[Psychology]</td>\n",
       "      <td>[Israel]</td>\n",
       "    </tr>\n",
       "    <tr>\n",
       "      <th>7</th>\n",
       "      <td>brena p.</td>\n",
       "      <td>teodorak</td>\n",
       "      <td>[Multidisciplinary]</td>\n",
       "      <td>[Brazil]</td>\n",
       "    </tr>\n",
       "    <tr>\n",
       "      <th>8</th>\n",
       "      <td>helena</td>\n",
       "      <td>vargas</td>\n",
       "      <td>[Social Sciences, Arts and Humanities]</td>\n",
       "      <td>[Portugal]</td>\n",
       "    </tr>\n",
       "    <tr>\n",
       "      <th>9</th>\n",
       "      <td>alicia j.</td>\n",
       "      <td>spittle</td>\n",
       "      <td>[Neuroscience, Medicine]</td>\n",
       "      <td>[Australia]</td>\n",
       "    </tr>\n",
       "  </tbody>\n",
       "</table>\n",
       "</div>"
      ],
      "text/plain": [
       "   new_given new_family                                            SA_list  \\\n",
       "0     hainan        liu                                         [Medicine]   \n",
       "1     yougen       chen  [Physics and Astronomy, Materials Science, Mat...   \n",
       "2      komal    agrawal                     [Chemical Engineering, Energy]   \n",
       "3    liliana      letra                                     [Neuroscience]   \n",
       "4         i.   krossing                  [Chemical Engineering, Chemistry]   \n",
       "5      pasan   fernando  [Chemical Engineering, Engineering, Biochemist...   \n",
       "6        hod     orkibi                                       [Psychology]   \n",
       "7   brena p.   teodorak                                [Multidisciplinary]   \n",
       "8     helena     vargas             [Social Sciences, Arts and Humanities]   \n",
       "9  alicia j.    spittle                           [Neuroscience, Medicine]   \n",
       "\n",
       "                                      affil  \n",
       "0  [China, China, China, China, None, None]  \n",
       "1                                   [China]  \n",
       "2                                   [India]  \n",
       "3                                [Portugal]  \n",
       "4                                 [Germany]  \n",
       "5                                  [Canada]  \n",
       "6                                  [Israel]  \n",
       "7                                  [Brazil]  \n",
       "8                                [Portugal]  \n",
       "9                               [Australia]  "
      ]
     },
     "execution_count": 46,
     "metadata": {},
     "output_type": "execute_result"
    }
   ],
   "source": [
    "pd.DataFrame(author_records2)"
   ]
  },
  {
   "cell_type": "code",
   "execution_count": 55,
   "metadata": {},
   "outputs": [
    {
     "data": {
      "text/plain": [
       "15"
      ]
     },
     "execution_count": 55,
     "metadata": {},
     "output_type": "execute_result"
    }
   ],
   "source": [
    "pd.DataFrame(author_records2).affil.map(len).sum()"
   ]
  },
  {
   "cell_type": "code",
   "execution_count": 19,
   "metadata": {},
   "outputs": [
    {
     "data": {
      "text/plain": [
       "'4940'"
      ]
     },
     "execution_count": 19,
     "metadata": {},
     "output_type": "execute_result"
    }
   ],
   "source": [
    "s.get_key_remaining_quota()"
   ]
  },
  {
   "cell_type": "markdown",
   "metadata": {},
   "source": [
    "It appears that .get_results_size() does not use from the quota! BUT still, we used 30 to get results for 10!"
   ]
  },
  {
   "cell_type": "code",
   "execution_count": 21,
   "metadata": {},
   "outputs": [],
   "source": [
    "author_records3 = q1_author_df[[\"new_given\",\"new_family\",\"SA_list\"]].sample(10).to_dict(\"records\")"
   ]
  },
  {
   "cell_type": "code",
   "execution_count": 22,
   "metadata": {},
   "outputs": [],
   "source": [
    "# Test 3:\n",
    "\n",
    "for author in author_records3:\n",
    "    name = author[\"new_given\"]\n",
    "    surname = author[\"new_family\"]\n",
    "    sa_list = sbj_area_query_creator(author[\"SA_list\"])\n",
    "    \n",
    "    try:\n",
    "        s = AuthorSearch(f'AUTHLAST({surname}) AND AUTHFIRST({name}) AND ({sa_list})')\n",
    "        author[\"affil\"] = [s.authors[i]._asdict()[\"country\"] for i in range(s.get_results_size())]\n",
    "\n",
    "    except:\n",
    "        author[\"affil\"] = \"Too many results!\"\n"
   ]
  },
  {
   "cell_type": "code",
   "execution_count": 26,
   "metadata": {},
   "outputs": [
    {
     "data": {
      "text/plain": [
       "'4921'"
      ]
     },
     "execution_count": 26,
     "metadata": {},
     "output_type": "execute_result"
    }
   ],
   "source": [
    "s.get_key_remaining_quota()"
   ]
  },
  {
   "cell_type": "code",
   "execution_count": 69,
   "metadata": {},
   "outputs": [
    {
     "data": {
      "text/html": [
       "<div>\n",
       "<style scoped>\n",
       "    .dataframe tbody tr th:only-of-type {\n",
       "        vertical-align: middle;\n",
       "    }\n",
       "\n",
       "    .dataframe tbody tr th {\n",
       "        vertical-align: top;\n",
       "    }\n",
       "\n",
       "    .dataframe thead th {\n",
       "        text-align: right;\n",
       "    }\n",
       "</style>\n",
       "<table border=\"1\" class=\"dataframe\">\n",
       "  <thead>\n",
       "    <tr style=\"text-align: right;\">\n",
       "      <th></th>\n",
       "      <th>new_given</th>\n",
       "      <th>new_family</th>\n",
       "      <th>SA_list</th>\n",
       "      <th>affil</th>\n",
       "    </tr>\n",
       "  </thead>\n",
       "  <tbody>\n",
       "    <tr>\n",
       "      <th>0</th>\n",
       "      <td>anna</td>\n",
       "      <td>krook</td>\n",
       "      <td>[Medicine, Biochemistry, Genetics and Molecula...</td>\n",
       "      <td>[Sweden]</td>\n",
       "    </tr>\n",
       "    <tr>\n",
       "      <th>1</th>\n",
       "      <td>g.</td>\n",
       "      <td>martinez-donato</td>\n",
       "      <td>[Biochemistry, Genetics and Molecular Biology,...</td>\n",
       "      <td>[Cuba]</td>\n",
       "    </tr>\n",
       "    <tr>\n",
       "      <th>2</th>\n",
       "      <td>r.</td>\n",
       "      <td>ordoñez-fernandez</td>\n",
       "      <td>[Agricultural and Biological Sciences, Earth a...</td>\n",
       "      <td>[Spain]</td>\n",
       "    </tr>\n",
       "    <tr>\n",
       "      <th>3</th>\n",
       "      <td>sulejman</td>\n",
       "      <td>alihodžić</td>\n",
       "      <td>[Pharmacology, Toxicology and Pharmaceutics, M...</td>\n",
       "      <td>[]</td>\n",
       "    </tr>\n",
       "    <tr>\n",
       "      <th>4</th>\n",
       "      <td>joy c.</td>\n",
       "      <td>cohn</td>\n",
       "      <td>[Medicine, Nursing]</td>\n",
       "      <td>[United States]</td>\n",
       "    </tr>\n",
       "    <tr>\n",
       "      <th>5</th>\n",
       "      <td>susan c</td>\n",
       "      <td>loeb</td>\n",
       "      <td>[Agricultural and Biological Sciences, Environ...</td>\n",
       "      <td>[United States]</td>\n",
       "    </tr>\n",
       "    <tr>\n",
       "      <th>6</th>\n",
       "      <td>quentin</td>\n",
       "      <td>verolet</td>\n",
       "      <td>[Biochemistry, Genetics and Molecular Biology,...</td>\n",
       "      <td>[Switzerland]</td>\n",
       "    </tr>\n",
       "    <tr>\n",
       "      <th>7</th>\n",
       "      <td>garet p.</td>\n",
       "      <td>lahvis</td>\n",
       "      <td>[Neuroscience]</td>\n",
       "      <td>[United States]</td>\n",
       "    </tr>\n",
       "    <tr>\n",
       "      <th>8</th>\n",
       "      <td>birgit</td>\n",
       "      <td>vogel-heuser</td>\n",
       "      <td>[Engineering, Decision Sciences, Business, Man...</td>\n",
       "      <td>[Germany]</td>\n",
       "    </tr>\n",
       "    <tr>\n",
       "      <th>9</th>\n",
       "      <td>mathieu</td>\n",
       "      <td>vadon</td>\n",
       "      <td>[Physics and Astronomy, Materials Science, Eng...</td>\n",
       "      <td>[France]</td>\n",
       "    </tr>\n",
       "  </tbody>\n",
       "</table>\n",
       "</div>"
      ],
      "text/plain": [
       "  new_given         new_family  \\\n",
       "0      anna              krook   \n",
       "1        g.    martinez-donato   \n",
       "2        r.  ordoñez-fernandez   \n",
       "3  sulejman          alihodžić   \n",
       "4    joy c.               cohn   \n",
       "5   susan c               loeb   \n",
       "6   quentin            verolet   \n",
       "7  garet p.             lahvis   \n",
       "8    birgit       vogel-heuser   \n",
       "9   mathieu              vadon   \n",
       "\n",
       "                                             SA_list            affil  \n",
       "0  [Medicine, Biochemistry, Genetics and Molecula...         [Sweden]  \n",
       "1  [Biochemistry, Genetics and Molecular Biology,...           [Cuba]  \n",
       "2  [Agricultural and Biological Sciences, Earth a...          [Spain]  \n",
       "3  [Pharmacology, Toxicology and Pharmaceutics, M...               []  \n",
       "4                                [Medicine, Nursing]  [United States]  \n",
       "5  [Agricultural and Biological Sciences, Environ...  [United States]  \n",
       "6  [Biochemistry, Genetics and Molecular Biology,...    [Switzerland]  \n",
       "7                                     [Neuroscience]  [United States]  \n",
       "8  [Engineering, Decision Sciences, Business, Man...        [Germany]  \n",
       "9  [Physics and Astronomy, Materials Science, Eng...         [France]  "
      ]
     },
     "execution_count": 69,
     "metadata": {},
     "output_type": "execute_result"
    }
   ],
   "source": [
    "pd.DataFrame(author_records3)"
   ]
  },
  {
   "cell_type": "code",
   "execution_count": 48,
   "metadata": {},
   "outputs": [
    {
     "data": {
      "text/plain": [
       "24"
      ]
     },
     "execution_count": 48,
     "metadata": {},
     "output_type": "execute_result"
    }
   ],
   "source": [
    "pd.DataFrame(author_records3).SA_list.map(len).sum()"
   ]
  },
  {
   "cell_type": "code",
   "execution_count": 54,
   "metadata": {},
   "outputs": [
    {
     "data": {
      "text/plain": [
       "9"
      ]
     },
     "execution_count": 54,
     "metadata": {},
     "output_type": "execute_result"
    }
   ],
   "source": [
    "pd.DataFrame(author_records3).affil.map(len).sum()"
   ]
  },
  {
   "cell_type": "markdown",
   "metadata": {},
   "source": [
    "This time, we were able to decrease the number to 20, (19 as there is an author with no info retrieved.), but still we're spending 2 tokens for a single author!"
   ]
  },
  {
   "cell_type": "code",
   "execution_count": 42,
   "metadata": {},
   "outputs": [
    {
     "data": {
      "text/plain": [
       "[Author(eid='9-s2.0-57193683976', orcid=None, surname='Vadon', initials='M.', givenname='Mathieu', affiliation='Sciences et Ingénierie, Matériaux, Procédés (SIMaP)', documents=3, affiliation_id='60108264', city=\"Saint Martin d'Heres\", country='France', areas='MATE (6); ENGI (3); PHYS (3)')]"
      ]
     },
     "execution_count": 42,
     "metadata": {},
     "output_type": "execute_result"
    }
   ],
   "source": [
    "s.authors"
   ]
  },
  {
   "cell_type": "code",
   "execution_count": 39,
   "metadata": {},
   "outputs": [],
   "source": [
    "# Combining results so far:\n",
    "\n",
    "author_records = author_records + author_records2 + author_records3"
   ]
  },
  {
   "cell_type": "code",
   "execution_count": 41,
   "metadata": {},
   "outputs": [],
   "source": [
    "author_records4 = q1_author_df[[\"new_given\",\"new_family\",\"SA_list\"]].sample(10).to_dict(\"records\")"
   ]
  },
  {
   "cell_type": "code",
   "execution_count": 43,
   "metadata": {},
   "outputs": [],
   "source": [
    "# Test 4:\n",
    "\n",
    "for author in author_records4:\n",
    "    name = author[\"new_given\"]\n",
    "    surname = author[\"new_family\"]\n",
    "    sa_list = sbj_area_query_creator(author[\"SA_list\"])\n",
    "    \n",
    "    try:\n",
    "        s = AuthorSearch(f'AUTHLAST({surname}) AND AUTHFIRST({name}) AND ({sa_list})')\n",
    "        author[\"affil\"] = [s.authors[i]._asdict()[\"country\"] for i in range(len(s.authors))]\n",
    "\n",
    "    except:\n",
    "        author[\"affil\"] = \"Too many results!\"\n"
   ]
  },
  {
   "cell_type": "code",
   "execution_count": 44,
   "metadata": {},
   "outputs": [
    {
     "data": {
      "text/plain": [
       "'4896'"
      ]
     },
     "execution_count": 44,
     "metadata": {},
     "output_type": "execute_result"
    }
   ],
   "source": [
    "s.get_key_remaining_quota()"
   ]
  },
  {
   "cell_type": "code",
   "execution_count": 45,
   "metadata": {},
   "outputs": [
    {
     "data": {
      "text/plain": [
       "25"
      ]
     },
     "execution_count": 45,
     "metadata": {},
     "output_type": "execute_result"
    }
   ],
   "source": [
    "4921-4896"
   ]
  },
  {
   "cell_type": "code",
   "execution_count": 53,
   "metadata": {},
   "outputs": [
    {
     "data": {
      "text/plain": [
       "1132"
      ]
     },
     "execution_count": 53,
     "metadata": {},
     "output_type": "execute_result"
    }
   ],
   "source": [
    "pd.DataFrame(author_records4).affil.map(len).sum()"
   ]
  },
  {
   "cell_type": "code",
   "execution_count": 70,
   "metadata": {},
   "outputs": [
    {
     "data": {
      "text/plain": [
       "0       1\n",
       "1       1\n",
       "2       6\n",
       "3       1\n",
       "4       1\n",
       "5      13\n",
       "6    1106\n",
       "7       1\n",
       "8       1\n",
       "9       1\n",
       "Name: affil, dtype: int64"
      ]
     },
     "execution_count": 70,
     "metadata": {},
     "output_type": "execute_result"
    }
   ],
   "source": [
    "pd.DataFrame(author_records4).affil.map(len)"
   ]
  },
  {
   "cell_type": "markdown",
   "metadata": {},
   "source": [
    "Quite weirdly, the number is now 25!\n",
    "\n",
    "I have no idea why, my only guess is that Wei Li has returned 1106 results, which might have resulted in multiple API tokens being used! "
   ]
  },
  {
   "cell_type": "code",
   "execution_count": 75,
   "metadata": {},
   "outputs": [],
   "source": [
    "author_records5 = q1_author_df[[\"new_given\",\"new_family\",\"SA_list\"]].sample(10).to_dict(\"records\")"
   ]
  },
  {
   "cell_type": "code",
   "execution_count": 77,
   "metadata": {},
   "outputs": [],
   "source": [
    "# Test 5:\n",
    "\n",
    "for author in author_records5:\n",
    "    name = author[\"new_given\"]\n",
    "    surname = author[\"new_family\"]\n",
    "    sa_list = sbj_area_query_creator(author[\"SA_list\"])\n",
    "    \n",
    "    try:\n",
    "        s = AuthorSearch(f'AUTHLAST({surname}) AND AUTHFIRST({name}) AND {sa_list}')\n",
    "        author[\"affil\"] = [s.authors[i]._asdict()[\"country\"] for i in range(len(min(s.authors,10)))]\n",
    "\n",
    "    except:\n",
    "        author[\"affil\"] = \"Too many results!\"\n"
   ]
  },
  {
   "cell_type": "code",
   "execution_count": 78,
   "metadata": {},
   "outputs": [
    {
     "data": {
      "text/plain": [
       "'4861'"
      ]
     },
     "execution_count": 78,
     "metadata": {},
     "output_type": "execute_result"
    }
   ],
   "source": [
    "s.get_key_remaining_quota()"
   ]
  },
  {
   "cell_type": "markdown",
   "metadata": {},
   "source": [
    "It was a stupid attempt to use min() and it did not work. However, as there were 2 Chinese authors in author_records5, which resulted in 35 tokens used, this gave me an idea! "
   ]
  },
  {
   "cell_type": "code",
   "execution_count": 80,
   "metadata": {},
   "outputs": [],
   "source": [
    "author_records6 = q1_author_df[[\"new_given\",\"new_family\",\"SA_list\"]].sample(10).to_dict(\"records\")"
   ]
  },
  {
   "cell_type": "code",
   "execution_count": 82,
   "metadata": {},
   "outputs": [],
   "source": [
    "# Test 6:\n",
    "\n",
    "for author in author_records6:\n",
    "    name = author[\"new_given\"]\n",
    "    surname = author[\"new_family\"]\n",
    "    sa_list = sbj_area_query_creator(author[\"SA_list\"])\n",
    "    \n",
    "    try:\n",
    "        s = AuthorSearch(f'AUTHLAST({surname}) AND AUTHFIRST({name}) AND {sa_list}', count=10)\n",
    "        author[\"affil\"] = [s.authors[i]._asdict()[\"country\"] for i in range(s.authors)]\n",
    "\n",
    "    except:\n",
    "        author[\"affil\"] = \"Too many results!\"\n"
   ]
  },
  {
   "cell_type": "code",
   "execution_count": 83,
   "metadata": {},
   "outputs": [
    {
     "data": {
      "text/html": [
       "<div>\n",
       "<style scoped>\n",
       "    .dataframe tbody tr th:only-of-type {\n",
       "        vertical-align: middle;\n",
       "    }\n",
       "\n",
       "    .dataframe tbody tr th {\n",
       "        vertical-align: top;\n",
       "    }\n",
       "\n",
       "    .dataframe thead th {\n",
       "        text-align: right;\n",
       "    }\n",
       "</style>\n",
       "<table border=\"1\" class=\"dataframe\">\n",
       "  <thead>\n",
       "    <tr style=\"text-align: right;\">\n",
       "      <th></th>\n",
       "      <th>new_given</th>\n",
       "      <th>new_family</th>\n",
       "      <th>SA_list</th>\n",
       "      <th>affil</th>\n",
       "    </tr>\n",
       "  </thead>\n",
       "  <tbody>\n",
       "    <tr>\n",
       "      <th>0</th>\n",
       "      <td>katarzyna</td>\n",
       "      <td>neubauer</td>\n",
       "      <td>[Biochemistry, Genetics and Molecular Biology,...</td>\n",
       "      <td>Too many results!</td>\n",
       "    </tr>\n",
       "    <tr>\n",
       "      <th>1</th>\n",
       "      <td>X. M.</td>\n",
       "      <td>song</td>\n",
       "      <td>[Physics and Astronomy, Energy]</td>\n",
       "      <td>Too many results!</td>\n",
       "    </tr>\n",
       "    <tr>\n",
       "      <th>2</th>\n",
       "      <td>chantal</td>\n",
       "      <td>claud</td>\n",
       "      <td>[Earth and Planetary Sciences]</td>\n",
       "      <td>Too many results!</td>\n",
       "    </tr>\n",
       "    <tr>\n",
       "      <th>3</th>\n",
       "      <td>kelvin h.</td>\n",
       "      <td>wan</td>\n",
       "      <td>[Medicine]</td>\n",
       "      <td>Too many results!</td>\n",
       "    </tr>\n",
       "    <tr>\n",
       "      <th>4</th>\n",
       "      <td>gustavo b.</td>\n",
       "      <td>rossini</td>\n",
       "      <td>[Multidisciplinary]</td>\n",
       "      <td>Too many results!</td>\n",
       "    </tr>\n",
       "    <tr>\n",
       "      <th>5</th>\n",
       "      <td>A. F.</td>\n",
       "      <td>islam</td>\n",
       "      <td>[Health Professions, Medicine]</td>\n",
       "      <td>Too many results!</td>\n",
       "    </tr>\n",
       "    <tr>\n",
       "      <th>6</th>\n",
       "      <td>rahul</td>\n",
       "      <td>kakkar</td>\n",
       "      <td>[Medicine]</td>\n",
       "      <td>Too many results!</td>\n",
       "    </tr>\n",
       "    <tr>\n",
       "      <th>7</th>\n",
       "      <td>yu</td>\n",
       "      <td>huang</td>\n",
       "      <td>[Engineering, Earth and Planetary Sciences, Ag...</td>\n",
       "      <td>Too many results!</td>\n",
       "    </tr>\n",
       "    <tr>\n",
       "      <th>8</th>\n",
       "      <td>kevin s.</td>\n",
       "      <td>montes</td>\n",
       "      <td>[Psychology, Medicine, Pharmacology, Toxicolog...</td>\n",
       "      <td>Too many results!</td>\n",
       "    </tr>\n",
       "    <tr>\n",
       "      <th>9</th>\n",
       "      <td>keigo</td>\n",
       "      <td>hoshikawa</td>\n",
       "      <td>[Materials Science]</td>\n",
       "      <td>Too many results!</td>\n",
       "    </tr>\n",
       "  </tbody>\n",
       "</table>\n",
       "</div>"
      ],
      "text/plain": [
       "    new_given new_family                                            SA_list  \\\n",
       "0   katarzyna   neubauer  [Biochemistry, Genetics and Molecular Biology,...   \n",
       "1       X. M.       song                    [Physics and Astronomy, Energy]   \n",
       "2     chantal      claud                     [Earth and Planetary Sciences]   \n",
       "3   kelvin h.        wan                                         [Medicine]   \n",
       "4  gustavo b.    rossini                                [Multidisciplinary]   \n",
       "5       A. F.      islam                     [Health Professions, Medicine]   \n",
       "6       rahul     kakkar                                         [Medicine]   \n",
       "7          yu      huang  [Engineering, Earth and Planetary Sciences, Ag...   \n",
       "8    kevin s.     montes  [Psychology, Medicine, Pharmacology, Toxicolog...   \n",
       "9       keigo  hoshikawa                                [Materials Science]   \n",
       "\n",
       "               affil  \n",
       "0  Too many results!  \n",
       "1  Too many results!  \n",
       "2  Too many results!  \n",
       "3  Too many results!  \n",
       "4  Too many results!  \n",
       "5  Too many results!  \n",
       "6  Too many results!  \n",
       "7  Too many results!  \n",
       "8  Too many results!  \n",
       "9  Too many results!  "
      ]
     },
     "execution_count": 83,
     "metadata": {},
     "output_type": "execute_result"
    }
   ],
   "source": [
    "pd.DataFrame(author_records6)"
   ]
  },
  {
   "cell_type": "code",
   "execution_count": 88,
   "metadata": {},
   "outputs": [
    {
     "data": {
      "text/plain": [
       "50"
      ]
     },
     "execution_count": 88,
     "metadata": {},
     "output_type": "execute_result"
    }
   ],
   "source": [
    "len(author_records)"
   ]
  },
  {
   "cell_type": "code",
   "execution_count": 85,
   "metadata": {},
   "outputs": [
    {
     "ename": "NameError",
     "evalue": "name 'warn' is not defined",
     "output_type": "error",
     "traceback": [
      "\u001b[1;31m---------------------------------------------------------------------------\u001b[0m",
      "\u001b[1;31mNameError\u001b[0m                                 Traceback (most recent call last)",
      "\u001b[1;32m<ipython-input-85-1e7cb022c8f3>\u001b[0m in \u001b[0;36m<module>\u001b[1;34m\u001b[0m\n\u001b[1;32m----> 1\u001b[1;33m \u001b[0ms\u001b[0m \u001b[1;33m=\u001b[0m \u001b[0mAuthorSearch\u001b[0m\u001b[1;33m(\u001b[0m\u001b[1;34mf'AUTHLAST({\"hoshikawa\"}) AND AUTHFIRST({\"keigo\"})'\u001b[0m\u001b[1;33m,\u001b[0m \u001b[0mcount\u001b[0m\u001b[1;33m=\u001b[0m\u001b[1;36m10\u001b[0m\u001b[1;33m)\u001b[0m\u001b[1;33m\u001b[0m\u001b[1;33m\u001b[0m\u001b[0m\n\u001b[0m",
      "\u001b[1;32mc:\\Users\\oguzk\\anaconda3\\lib\\site-packages\\pybliometrics\\scopus\\author_search.py\u001b[0m in \u001b[0;36m__init__\u001b[1;34m(self, query, refresh, verbose, download, integrity_fields, integrity_action, count, **kwds)\u001b[0m\n\u001b[0;32m    115\u001b[0m             \u001b[0mmsg\u001b[0m \u001b[1;33m=\u001b[0m \u001b[1;34m\"Parameter `count` is deprecated and will be removed in a \"\u001b[0m\u001b[0;31m\\\u001b[0m\u001b[1;33m\u001b[0m\u001b[1;33m\u001b[0m\u001b[0m\n\u001b[0;32m    116\u001b[0m                   \u001b[1;34m\"future release.  There will be no substitute.\"\u001b[0m\u001b[1;33m\u001b[0m\u001b[1;33m\u001b[0m\u001b[0m\n\u001b[1;32m--> 117\u001b[1;33m             \u001b[0mwarn\u001b[0m\u001b[1;33m(\u001b[0m\u001b[0mmsg\u001b[0m\u001b[1;33m,\u001b[0m \u001b[0mFutureWarning\u001b[0m\u001b[1;33m)\u001b[0m\u001b[1;33m\u001b[0m\u001b[1;33m\u001b[0m\u001b[0m\n\u001b[0m\u001b[0;32m    118\u001b[0m \u001b[1;33m\u001b[0m\u001b[0m\n\u001b[0;32m    119\u001b[0m         \u001b[1;31m# Query\u001b[0m\u001b[1;33m\u001b[0m\u001b[1;33m\u001b[0m\u001b[1;33m\u001b[0m\u001b[0m\n",
      "\u001b[1;31mNameError\u001b[0m: name 'warn' is not defined"
     ]
    }
   ],
   "source": [
    "s = AuthorSearch(f'AUTHLAST({\"hoshikawa\"}) AND AUTHFIRST({\"keigo\"})', count=10)"
   ]
  },
  {
   "cell_type": "markdown",
   "metadata": {},
   "source": [
    "Using count argument is not possible right now due to the argument being marked as deprecated. However, it is still available in the Scopus API website.\n",
    "\n",
    "Therefore, the package is updated locally & will try again after restarting the kernel. \n",
    "\n",
    "The results so far will be updated and saved."
   ]
  },
  {
   "cell_type": "code",
   "execution_count": 87,
   "metadata": {},
   "outputs": [],
   "source": [
    "author_records = author_records + author_records4 + author_records5"
   ]
  },
  {
   "cell_type": "code",
   "execution_count": 89,
   "metadata": {},
   "outputs": [],
   "source": [
    "with open(\"author_records\",\"wb\") as p:\n",
    "    pickle.dump(author_records, p)"
   ]
  },
  {
   "cell_type": "markdown",
   "metadata": {},
   "source": [
    "After restart:"
   ]
  },
  {
   "cell_type": "code",
   "execution_count": 4,
   "metadata": {},
   "outputs": [],
   "source": [
    "s = AuthorSearch(f'AUTHLAST({\"hoshikawa\"}) AND AUTHFIRST({\"keigo\"})', count=10)"
   ]
  },
  {
   "cell_type": "code",
   "execution_count": 5,
   "metadata": {},
   "outputs": [
    {
     "data": {
      "text/plain": [
       "'4859'"
      ]
     },
     "execution_count": 5,
     "metadata": {},
     "output_type": "execute_result"
    }
   ],
   "source": [
    "s.get_key_remaining_quota()"
   ]
  },
  {
   "cell_type": "code",
   "execution_count": 6,
   "metadata": {},
   "outputs": [
    {
     "data": {
      "text/plain": [
       "[Author(eid='9-s2.0-7005252927', orcid=None, surname='Hoshikawa', initials='K.', givenname='Keigo', affiliation='Shinshu University', documents=155, affiliation_id='60031955', city='Matsumoto', country='Japan', areas='PHYS (133); MATE (66); ENGI (40)')]"
      ]
     },
     "execution_count": 6,
     "metadata": {},
     "output_type": "execute_result"
    }
   ],
   "source": [
    "s.authors"
   ]
  },
  {
   "cell_type": "code",
   "execution_count": 7,
   "metadata": {},
   "outputs": [],
   "source": [
    "s = AuthorSearch('AUTHLAST(\"damasio\") AND AUTHFIRST(\"bruno\")', count=10)"
   ]
  },
  {
   "cell_type": "code",
   "execution_count": 11,
   "metadata": {},
   "outputs": [
    {
     "data": {
      "text/plain": [
       "'4857'"
      ]
     },
     "execution_count": 11,
     "metadata": {},
     "output_type": "execute_result"
    }
   ],
   "source": [
    "s.get_key_remaining_quota()"
   ]
  },
  {
   "cell_type": "code",
   "execution_count": 10,
   "metadata": {},
   "outputs": [
    {
     "data": {
      "text/plain": [
       "[Author(eid='9-s2.0-55042129600', orcid=None, surname='Dama´sio', initials='B.F.', givenname='Bruno Figueiredo', affiliation='Universidade Federal do Rio de Janeiro', documents=49, affiliation_id='60000036', city='Rio de Janeiro', country='Brazil', areas='PSYC (42); SOCI (16); MEDI (8)'),\n",
       " Author(eid='9-s2.0-56444228600', orcid='0000-0002-2289-3087', surname='Damásio', initials='B.', givenname='Bruno', affiliation='NOVA Information Management School, Universidade Nova de Lisboa', documents=13, affiliation_id='60105899', city='Lisboa', country='Portugal', areas='SOCI (6); MULT (4); ECON (3)')]"
      ]
     },
     "execution_count": 10,
     "metadata": {},
     "output_type": "execute_result"
    }
   ],
   "source": [
    "s.authors"
   ]
  },
  {
   "cell_type": "markdown",
   "metadata": {},
   "source": [
    "____A BREAKTHROUGH!!!!____\n",
    "\n",
    "https://github.com/pybliometrics-dev/pybliometrics/issues/77\n",
    "\n",
    "As seen on the link above the doubling issue is actually on my end, but due to the pybliometrics package!\n",
    "\n",
    "The fixed version of the package is downloaded to pybliometrics_github folder!!!\n",
    "\n",
    "Will restart again & try this new version instead"
   ]
  },
  {
   "cell_type": "code",
   "execution_count": 1,
   "metadata": {},
   "outputs": [],
   "source": [
    "# import pybliometrics\n",
    "\n",
    "# pybliometrics.scopus.utils.create_config()\n",
    "\n",
    "# import pandas as pd\n",
    "# import numpy as np\n",
    "# import regex as re\n",
    "\n",
    "# from pybliometrics_github.pybliometrics.scopus import AuthorSearch\n",
    "\n",
    "\n",
    "# import pickle"
   ]
  },
  {
   "cell_type": "code",
   "execution_count": 2,
   "metadata": {},
   "outputs": [],
   "source": [
    "# Mini-test:\n",
    "\n",
    "s = AuthorSearch('AUTHLAST(\"damasio\") AND AUTHFIRST(\"bruno\")', count=10)"
   ]
  },
  {
   "cell_type": "code",
   "execution_count": 3,
   "metadata": {},
   "outputs": [
    {
     "data": {
      "text/plain": [
       "[Author(eid='9-s2.0-55042129600', orcid=None, surname='Dama´sio', initials='B.F.', givenname='Bruno Figueiredo', affiliation='Universidade Federal do Rio de Janeiro', documents=49, affiliation_id='60000036', city='Rio de Janeiro', country='Brazil', areas='PSYC (42); SOCI (16); MEDI (8)'),\n",
       " Author(eid='9-s2.0-56444228600', orcid='0000-0002-2289-3087', surname='Damásio', initials='B.', givenname='Bruno', affiliation='NOVA Information Management School, Universidade Nova de Lisboa', documents=13, affiliation_id='60105899', city='Lisboa', country='Portugal', areas='SOCI (6); MULT (4); ECON (3)')]"
      ]
     },
     "execution_count": 3,
     "metadata": {},
     "output_type": "execute_result"
    }
   ],
   "source": [
    "s.authors"
   ]
  },
  {
   "cell_type": "code",
   "execution_count": 6,
   "metadata": {},
   "outputs": [
    {
     "name": "stdout",
     "output_type": "stream",
     "text": [
      "None\n"
     ]
    }
   ],
   "source": [
    "s.get_key_remaining_quota()"
   ]
  },
  {
   "cell_type": "markdown",
   "metadata": {},
   "source": [
    "get_key_remaining_quota() is now not working!\n",
    "\n",
    "Will try to replace the folders in anaconda/sitepackage folder instead & will restart again!"
   ]
  },
  {
   "cell_type": "code",
   "execution_count": 2,
   "metadata": {},
   "outputs": [],
   "source": [
    "# Mini-test 2:\n",
    "\n",
    "s = AuthorSearch('AUTHLAST(\"damasio\") AND AUTHFIRST(\"bruno\")')"
   ]
  },
  {
   "cell_type": "code",
   "execution_count": 5,
   "metadata": {},
   "outputs": [],
   "source": [
    "s.get_key_remaining_quota()"
   ]
  },
  {
   "cell_type": "markdown",
   "metadata": {},
   "source": [
    "It is still not working :(\n",
    "\n",
    "The next step is to properly \"pip\" install the package from github using the code:\n",
    "\n",
    "pip install git+https://github.com/pybliometrics-dev/pybliometrics.git\n",
    "\n",
    "Which worked & built the package succesfully! Will restart & test again!"
   ]
  },
  {
   "cell_type": "markdown",
   "metadata": {},
   "source": [
    "----\n",
    "\n",
    "JUST REALIZED THAT THE REASON IT'S NOT WORKING MIGHT BE AS PROF. BRUNO IS ALREADY CACHED!\n",
    "\n",
    "However, this is fine as the package is now install properly & I learned how to install packages from GitHub!\n",
    "\n",
    "To understand if we succeeded or not, need to run the loop for author_records_6 & 7"
   ]
  },
  {
   "cell_type": "code",
   "execution_count": 4,
   "metadata": {},
   "outputs": [],
   "source": [
    "author_records6 = q1_author_df[[\"new_given\",\"new_family\",\"SA_list\"]].sample(10).to_dict(\"records\")"
   ]
  },
  {
   "cell_type": "code",
   "execution_count": 10,
   "metadata": {},
   "outputs": [],
   "source": [
    "# Test 6 - TAKE 2:\n",
    "\n",
    "for author in author_records6:\n",
    "    name = author[\"new_given\"]\n",
    "    surname = author[\"new_family\"]\n",
    "    sa_list = sbj_area_query_creator(author[\"SA_list\"])\n",
    "    \n",
    "    try:\n",
    "        s = AuthorSearch(f'AUTHLAST({surname}) AND AUTHFIRST({name}) AND {sa_list}')\n",
    "        author[\"affil\"] = [s.authors[i]._asdict()[\"country\"] for i in range(len(s.authors))]\n",
    "\n",
    "    except:\n",
    "        author[\"affil\"] = \"Too many results!\"\n"
   ]
  },
  {
   "cell_type": "code",
   "execution_count": 8,
   "metadata": {},
   "outputs": [],
   "source": [
    "s = AuthorSearch(f'AUTHLAST(\"nicolson\") AND AUTHFIRST(\"roderick i.\")')"
   ]
  },
  {
   "cell_type": "code",
   "execution_count": 9,
   "metadata": {},
   "outputs": [
    {
     "data": {
      "text/plain": [
       "[Author(eid='9-s2.0-7005185981', orcid=None, surname='Nicolson', initials='R.I.', givenname='Roderick Ian', affiliation='Edge Hill University', documents=103, affiliation_id='60022506', city='Lancashire', country='United Kingdom', areas='PSYC (54); NEUR (42); MEDI (39)')]"
      ]
     },
     "execution_count": 9,
     "metadata": {},
     "output_type": "execute_result"
    }
   ],
   "source": [
    "s.authors"
   ]
  },
  {
   "cell_type": "code",
   "execution_count": 11,
   "metadata": {},
   "outputs": [
    {
     "data": {
      "text/html": [
       "<div>\n",
       "<style scoped>\n",
       "    .dataframe tbody tr th:only-of-type {\n",
       "        vertical-align: middle;\n",
       "    }\n",
       "\n",
       "    .dataframe tbody tr th {\n",
       "        vertical-align: top;\n",
       "    }\n",
       "\n",
       "    .dataframe thead th {\n",
       "        text-align: right;\n",
       "    }\n",
       "</style>\n",
       "<table border=\"1\" class=\"dataframe\">\n",
       "  <thead>\n",
       "    <tr style=\"text-align: right;\">\n",
       "      <th></th>\n",
       "      <th>new_given</th>\n",
       "      <th>new_family</th>\n",
       "      <th>SA_list</th>\n",
       "      <th>affil</th>\n",
       "    </tr>\n",
       "  </thead>\n",
       "  <tbody>\n",
       "    <tr>\n",
       "      <th>0</th>\n",
       "      <td>david</td>\n",
       "      <td>blough</td>\n",
       "      <td>[Medicine]</td>\n",
       "      <td>[United States]</td>\n",
       "    </tr>\n",
       "    <tr>\n",
       "      <th>1</th>\n",
       "      <td>shari</td>\n",
       "      <td>shanklin</td>\n",
       "      <td>[Social Sciences, Arts and Humanities, Medicine]</td>\n",
       "      <td>Too many results!</td>\n",
       "    </tr>\n",
       "    <tr>\n",
       "      <th>2</th>\n",
       "      <td>ruolei</td>\n",
       "      <td>gu</td>\n",
       "      <td>[Social Sciences, Psychology]</td>\n",
       "      <td>[China]</td>\n",
       "    </tr>\n",
       "    <tr>\n",
       "      <th>3</th>\n",
       "      <td>roderick i.</td>\n",
       "      <td>nicolson</td>\n",
       "      <td>[Neuroscience, Psychology]</td>\n",
       "      <td>[United Kingdom]</td>\n",
       "    </tr>\n",
       "    <tr>\n",
       "      <th>4</th>\n",
       "      <td>p. k.</td>\n",
       "      <td>sidhu</td>\n",
       "      <td>[Veterinary]</td>\n",
       "      <td>[United States, India]</td>\n",
       "    </tr>\n",
       "    <tr>\n",
       "      <th>5</th>\n",
       "      <td>asmaa n.</td>\n",
       "      <td>mohammed</td>\n",
       "      <td>[Medicine, Veterinary]</td>\n",
       "      <td>[Egypt]</td>\n",
       "    </tr>\n",
       "    <tr>\n",
       "      <th>6</th>\n",
       "      <td>r.</td>\n",
       "      <td>rashedi</td>\n",
       "      <td>[Chemical Engineering, Materials Science]</td>\n",
       "      <td>[Iran, Malaysia, Iran, Norway]</td>\n",
       "    </tr>\n",
       "    <tr>\n",
       "      <th>7</th>\n",
       "      <td>i.</td>\n",
       "      <td>thorsen</td>\n",
       "      <td>[Engineering, Decision Sciences, Social Sciences]</td>\n",
       "      <td>[Norway]</td>\n",
       "    </tr>\n",
       "    <tr>\n",
       "      <th>8</th>\n",
       "      <td>xin</td>\n",
       "      <td>zhang</td>\n",
       "      <td>[Earth and Planetary Sciences]</td>\n",
       "      <td>[China, China, China, China, China, China, Chi...</td>\n",
       "    </tr>\n",
       "    <tr>\n",
       "      <th>9</th>\n",
       "      <td>ivo</td>\n",
       "      <td>kaunzinger</td>\n",
       "      <td>[Psychology]</td>\n",
       "      <td>[Germany]</td>\n",
       "    </tr>\n",
       "  </tbody>\n",
       "</table>\n",
       "</div>"
      ],
      "text/plain": [
       "     new_given  new_family                                            SA_list  \\\n",
       "0        david      blough                                         [Medicine]   \n",
       "1        shari    shanklin   [Social Sciences, Arts and Humanities, Medicine]   \n",
       "2       ruolei          gu                      [Social Sciences, Psychology]   \n",
       "3  roderick i.    nicolson                         [Neuroscience, Psychology]   \n",
       "4        p. k.       sidhu                                       [Veterinary]   \n",
       "5     asmaa n.    mohammed                             [Medicine, Veterinary]   \n",
       "6           r.     rashedi          [Chemical Engineering, Materials Science]   \n",
       "7           i.     thorsen  [Engineering, Decision Sciences, Social Sciences]   \n",
       "8          xin       zhang                     [Earth and Planetary Sciences]   \n",
       "9          ivo  kaunzinger                                       [Psychology]   \n",
       "\n",
       "                                               affil  \n",
       "0                                    [United States]  \n",
       "1                                  Too many results!  \n",
       "2                                            [China]  \n",
       "3                                   [United Kingdom]  \n",
       "4                             [United States, India]  \n",
       "5                                            [Egypt]  \n",
       "6                     [Iran, Malaysia, Iran, Norway]  \n",
       "7                                           [Norway]  \n",
       "8  [China, China, China, China, China, China, Chi...  \n",
       "9                                          [Germany]  "
      ]
     },
     "execution_count": 11,
     "metadata": {},
     "output_type": "execute_result"
    }
   ],
   "source": [
    "pd.DataFrame(author_records6)"
   ]
  },
  {
   "cell_type": "code",
   "execution_count": 13,
   "metadata": {},
   "outputs": [
    {
     "data": {
      "text/plain": [
       "0      1\n",
       "1     17\n",
       "2      1\n",
       "3      1\n",
       "4      2\n",
       "5      1\n",
       "6      4\n",
       "7      1\n",
       "8    823\n",
       "9      1\n",
       "Name: affil, dtype: int64"
      ]
     },
     "execution_count": 13,
     "metadata": {},
     "output_type": "execute_result"
    }
   ],
   "source": [
    "pd.DataFrame(author_records6).affil.map(len)"
   ]
  },
  {
   "cell_type": "code",
   "execution_count": 12,
   "metadata": {},
   "outputs": [],
   "source": [
    "s.get_key_remaining_quota()"
   ]
  },
  {
   "cell_type": "code",
   "execution_count": 14,
   "metadata": {},
   "outputs": [
    {
     "data": {
      "text/html": [
       "<div>\n",
       "<style scoped>\n",
       "    .dataframe tbody tr th:only-of-type {\n",
       "        vertical-align: middle;\n",
       "    }\n",
       "\n",
       "    .dataframe tbody tr th {\n",
       "        vertical-align: top;\n",
       "    }\n",
       "\n",
       "    .dataframe thead th {\n",
       "        text-align: right;\n",
       "    }\n",
       "</style>\n",
       "<table border=\"1\" class=\"dataframe\">\n",
       "  <thead>\n",
       "    <tr style=\"text-align: right;\">\n",
       "      <th></th>\n",
       "      <th>DOI</th>\n",
       "      <th>JRNL_ID</th>\n",
       "      <th>given</th>\n",
       "      <th>family</th>\n",
       "      <th>sequence</th>\n",
       "      <th>affiliation</th>\n",
       "      <th>ORCID</th>\n",
       "      <th>authenticated-orcid</th>\n",
       "      <th>new_given</th>\n",
       "      <th>new_family</th>\n",
       "      <th>SA_list</th>\n",
       "    </tr>\n",
       "  </thead>\n",
       "  <tbody>\n",
       "    <tr>\n",
       "      <th>635885</th>\n",
       "      <td>10.1016/j.ccr.2010.04.025</td>\n",
       "      <td>1_42304</td>\n",
       "      <td>Francesca</td>\n",
       "      <td>Alvarez-Calderon</td>\n",
       "      <td>additional</td>\n",
       "      <td>[]</td>\n",
       "      <td>NaN</td>\n",
       "      <td>NaN</td>\n",
       "      <td>francesca</td>\n",
       "      <td>alvarez-calderon</td>\n",
       "      <td>[Biochemistry, Genetics and Molecular Biology,...</td>\n",
       "    </tr>\n",
       "  </tbody>\n",
       "</table>\n",
       "</div>"
      ],
      "text/plain": [
       "                              DOI  JRNL_ID      given            family  \\\n",
       "635885  10.1016/j.ccr.2010.04.025  1_42304  Francesca  Alvarez-Calderon   \n",
       "\n",
       "          sequence affiliation ORCID authenticated-orcid  new_given  \\\n",
       "635885  additional          []   NaN                 NaN  francesca   \n",
       "\n",
       "              new_family                                            SA_list  \n",
       "635885  alvarez-calderon  [Biochemistry, Genetics and Molecular Biology,...  "
      ]
     },
     "execution_count": 14,
     "metadata": {},
     "output_type": "execute_result"
    }
   ],
   "source": [
    "# Mini-test:\n",
    "q1_author_df.sample(1)"
   ]
  },
  {
   "cell_type": "code",
   "execution_count": 15,
   "metadata": {},
   "outputs": [],
   "source": [
    "s1 = AuthorSearch(f'AUTHLAST(\"Alvarez-Calderon\") AND AUTHFIRST(\"Francesca\")')"
   ]
  },
  {
   "cell_type": "code",
   "execution_count": 16,
   "metadata": {},
   "outputs": [
    {
     "data": {
      "text/plain": [
       "[Author(eid='9-s2.0-16315284500', orcid=None, surname='Alvarez-Calderon', initials='F.', givenname='Francesca', affiliation='University of Colorado Anschutz Medical Campus', documents=9, affiliation_id='60028392', city='Aurora', country='United States', areas='BIOC (10); MEDI (6); AGRI (1)')]"
      ]
     },
     "execution_count": 16,
     "metadata": {},
     "output_type": "execute_result"
    }
   ],
   "source": [
    "s1.authors"
   ]
  },
  {
   "cell_type": "code",
   "execution_count": 17,
   "metadata": {},
   "outputs": [
    {
     "data": {
      "text/plain": [
       "'4830'"
      ]
     },
     "execution_count": 17,
     "metadata": {},
     "output_type": "execute_result"
    }
   ],
   "source": [
    "s1.get_key_remaining_quota()"
   ]
  },
  {
   "cell_type": "code",
   "execution_count": 26,
   "metadata": {},
   "outputs": [
    {
     "data": {
      "text/html": [
       "<div>\n",
       "<style scoped>\n",
       "    .dataframe tbody tr th:only-of-type {\n",
       "        vertical-align: middle;\n",
       "    }\n",
       "\n",
       "    .dataframe tbody tr th {\n",
       "        vertical-align: top;\n",
       "    }\n",
       "\n",
       "    .dataframe thead th {\n",
       "        text-align: right;\n",
       "    }\n",
       "</style>\n",
       "<table border=\"1\" class=\"dataframe\">\n",
       "  <thead>\n",
       "    <tr style=\"text-align: right;\">\n",
       "      <th></th>\n",
       "      <th>DOI</th>\n",
       "      <th>JRNL_ID</th>\n",
       "      <th>given</th>\n",
       "      <th>family</th>\n",
       "      <th>sequence</th>\n",
       "      <th>affiliation</th>\n",
       "      <th>ORCID</th>\n",
       "      <th>authenticated-orcid</th>\n",
       "      <th>new_given</th>\n",
       "      <th>new_family</th>\n",
       "      <th>SA_list</th>\n",
       "    </tr>\n",
       "  </thead>\n",
       "  <tbody>\n",
       "    <tr>\n",
       "      <th>141773</th>\n",
       "      <td>10.1016/j.bbapap.2015.04.011</td>\n",
       "      <td>1_47341</td>\n",
       "      <td>Christian</td>\n",
       "      <td>Doerig</td>\n",
       "      <td>additional</td>\n",
       "      <td>[]</td>\n",
       "      <td>NaN</td>\n",
       "      <td>NaN</td>\n",
       "      <td>christian</td>\n",
       "      <td>doerig</td>\n",
       "      <td>[Chemistry, Biochemistry, Genetics and Molecul...</td>\n",
       "    </tr>\n",
       "  </tbody>\n",
       "</table>\n",
       "</div>"
      ],
      "text/plain": [
       "                                 DOI  JRNL_ID      given  family    sequence  \\\n",
       "141773  10.1016/j.bbapap.2015.04.011  1_47341  Christian  Doerig  additional   \n",
       "\n",
       "       affiliation ORCID authenticated-orcid  new_given new_family  \\\n",
       "141773          []   NaN                 NaN  christian     doerig   \n",
       "\n",
       "                                                  SA_list  \n",
       "141773  [Chemistry, Biochemistry, Genetics and Molecul...  "
      ]
     },
     "execution_count": 26,
     "metadata": {},
     "output_type": "execute_result"
    }
   ],
   "source": [
    "q1_author_df.sample(1)"
   ]
  },
  {
   "cell_type": "code",
   "execution_count": 23,
   "metadata": {},
   "outputs": [],
   "source": [
    "s2 = AuthorSearch(f'AUTHLAST(\"nouri\") AND AUTHFIRST(\"yasir m.\")')"
   ]
  },
  {
   "cell_type": "code",
   "execution_count": 24,
   "metadata": {},
   "outputs": [
    {
     "data": {
      "text/plain": [
       "[Author(eid='9-s2.0-45661660000', orcid=None, surname='Nouri', initials='Y.M.', givenname='Yasir M.', affiliation='University of Ulsan College of Medicine', documents=5, affiliation_id='60006240', city='Seoul', country='South Korea', areas='MEDI (9); HEAL (2)')]"
      ]
     },
     "execution_count": 24,
     "metadata": {},
     "output_type": "execute_result"
    }
   ],
   "source": [
    "s2.authors"
   ]
  },
  {
   "cell_type": "code",
   "execution_count": 25,
   "metadata": {},
   "outputs": [
    {
     "data": {
      "text/plain": [
       "'4828'"
      ]
     },
     "execution_count": 25,
     "metadata": {},
     "output_type": "execute_result"
    }
   ],
   "source": [
    "s2.get_key_remaining_quota()"
   ]
  },
  {
   "cell_type": "code",
   "execution_count": 27,
   "metadata": {},
   "outputs": [],
   "source": [
    "s = AuthorSearch(f'AUTHLAST(\"doerig\") AND AUTHFIRST(\"christian\")')"
   ]
  },
  {
   "cell_type": "code",
   "execution_count": 28,
   "metadata": {},
   "outputs": [
    {
     "data": {
      "text/plain": [
       "'4826'"
      ]
     },
     "execution_count": 28,
     "metadata": {},
     "output_type": "execute_result"
    }
   ],
   "source": [
    "s2.get_key_remaining_quota()"
   ]
  },
  {
   "cell_type": "code",
   "execution_count": 7,
   "metadata": {},
   "outputs": [
    {
     "data": {
      "text/html": [
       "<div>\n",
       "<style scoped>\n",
       "    .dataframe tbody tr th:only-of-type {\n",
       "        vertical-align: middle;\n",
       "    }\n",
       "\n",
       "    .dataframe tbody tr th {\n",
       "        vertical-align: top;\n",
       "    }\n",
       "\n",
       "    .dataframe thead th {\n",
       "        text-align: right;\n",
       "    }\n",
       "</style>\n",
       "<table border=\"1\" class=\"dataframe\">\n",
       "  <thead>\n",
       "    <tr style=\"text-align: right;\">\n",
       "      <th></th>\n",
       "      <th>DOI</th>\n",
       "      <th>JRNL_ID</th>\n",
       "      <th>given</th>\n",
       "      <th>family</th>\n",
       "      <th>sequence</th>\n",
       "      <th>affiliation</th>\n",
       "      <th>ORCID</th>\n",
       "      <th>authenticated-orcid</th>\n",
       "      <th>new_given</th>\n",
       "      <th>new_family</th>\n",
       "      <th>SA_list</th>\n",
       "    </tr>\n",
       "  </thead>\n",
       "  <tbody>\n",
       "    <tr>\n",
       "      <th>57290</th>\n",
       "      <td>10.1007/s10618-011-0221-2</td>\n",
       "      <td>1_30751</td>\n",
       "      <td>Ernest</td>\n",
       "      <td>Monga</td>\n",
       "      <td>additional</td>\n",
       "      <td>[]</td>\n",
       "      <td>NaN</td>\n",
       "      <td>NaN</td>\n",
       "      <td>ernest</td>\n",
       "      <td>monga</td>\n",
       "      <td>[Computer Science]</td>\n",
       "    </tr>\n",
       "  </tbody>\n",
       "</table>\n",
       "</div>"
      ],
      "text/plain": [
       "                             DOI  JRNL_ID   given family    sequence  \\\n",
       "57290  10.1007/s10618-011-0221-2  1_30751  Ernest  Monga  additional   \n",
       "\n",
       "      affiliation ORCID authenticated-orcid new_given new_family  \\\n",
       "57290          []   NaN                 NaN    ernest      monga   \n",
       "\n",
       "                  SA_list  \n",
       "57290  [Computer Science]  "
      ]
     },
     "execution_count": 7,
     "metadata": {},
     "output_type": "execute_result"
    }
   ],
   "source": [
    "q1_author_df.sample(1)"
   ]
  },
  {
   "cell_type": "code",
   "execution_count": 5,
   "metadata": {},
   "outputs": [],
   "source": [
    "s = AuthorSearch(f'AUTHLAST(\"ferretti\") AND AUTHFIRST(\"c.\")',)"
   ]
  },
  {
   "cell_type": "code",
   "execution_count": 6,
   "metadata": {},
   "outputs": [
    {
     "data": {
      "text/plain": [
       "'4824'"
      ]
     },
     "execution_count": 6,
     "metadata": {},
     "output_type": "execute_result"
    }
   ],
   "source": [
    "s.get_key_remaining_quota()"
   ]
  },
  {
   "cell_type": "code",
   "execution_count": 8,
   "metadata": {},
   "outputs": [
    {
     "ename": "NameError",
     "evalue": "name 'warn' is not defined",
     "output_type": "error",
     "traceback": [
      "\u001b[1;31m---------------------------------------------------------------------------\u001b[0m",
      "\u001b[1;31mNameError\u001b[0m                                 Traceback (most recent call last)",
      "\u001b[1;32m<ipython-input-8-0ead07b6d9aa>\u001b[0m in \u001b[0;36m<module>\u001b[1;34m\u001b[0m\n\u001b[1;32m----> 1\u001b[1;33m \u001b[0ms\u001b[0m \u001b[1;33m=\u001b[0m \u001b[0mAuthorSearch\u001b[0m\u001b[1;33m(\u001b[0m\u001b[1;34mf'AUTHLAST(\"monga\") AND AUTHFIRST(\"ernest\")'\u001b[0m\u001b[1;33m,\u001b[0m \u001b[0mcount\u001b[0m\u001b[1;33m=\u001b[0m\u001b[1;36m10\u001b[0m\u001b[1;33m)\u001b[0m\u001b[1;33m\u001b[0m\u001b[1;33m\u001b[0m\u001b[0m\n\u001b[0m",
      "\u001b[1;32mc:\\Users\\oguzk\\anaconda3\\lib\\site-packages\\pybliometrics\\scopus\\author_search.py\u001b[0m in \u001b[0;36m__init__\u001b[1;34m(self, query, refresh, verbose, download, integrity_fields, integrity_action, count, **kwds)\u001b[0m\n\u001b[0;32m    115\u001b[0m             \u001b[0mmsg\u001b[0m \u001b[1;33m=\u001b[0m \u001b[1;34m\"Parameter `count` is deprecated and will be removed in a \"\u001b[0m\u001b[0;31m\\\u001b[0m\u001b[1;33m\u001b[0m\u001b[1;33m\u001b[0m\u001b[0m\n\u001b[0;32m    116\u001b[0m                   \u001b[1;34m\"future release.  There will be no substitute.\"\u001b[0m\u001b[1;33m\u001b[0m\u001b[1;33m\u001b[0m\u001b[0m\n\u001b[1;32m--> 117\u001b[1;33m             \u001b[0mwarn\u001b[0m\u001b[1;33m(\u001b[0m\u001b[0mmsg\u001b[0m\u001b[1;33m,\u001b[0m \u001b[0mFutureWarning\u001b[0m\u001b[1;33m)\u001b[0m\u001b[1;33m\u001b[0m\u001b[1;33m\u001b[0m\u001b[0m\n\u001b[0m\u001b[0;32m    118\u001b[0m \u001b[1;33m\u001b[0m\u001b[0m\n\u001b[0;32m    119\u001b[0m         \u001b[1;31m# Query\u001b[0m\u001b[1;33m\u001b[0m\u001b[1;33m\u001b[0m\u001b[1;33m\u001b[0m\u001b[0m\n",
      "\u001b[1;31mNameError\u001b[0m: name 'warn' is not defined"
     ]
    }
   ],
   "source": [
    "s = AuthorSearch(f'AUTHLAST(\"monga\") AND AUTHFIRST(\"ernest\")', count=10)"
   ]
  },
  {
   "cell_type": "code",
   "execution_count": 11,
   "metadata": {},
   "outputs": [
    {
     "data": {
      "text/plain": [
       "'2022-08-04 07:13:31'"
      ]
     },
     "execution_count": 11,
     "metadata": {},
     "output_type": "execute_result"
    }
   ],
   "source": [
    "s.get_key_reset_time()"
   ]
  },
  {
   "cell_type": "markdown",
   "metadata": {},
   "source": [
    "Unfortunately, the new version of the package does not seem to fix the double token issue. However, when the code is analyzed, there are no apperant double requests rtaking place, which might cause such an issue.\n",
    "\n",
    "The only new idea is to implement the \"count\" argument & try to run it for sample(10) rather than single requests.\n",
    "\n",
    "It is also seen that the API key remaining quota information is taken directly from the Scopus response & not calc. within pybloimetrics, meaning the information is in fact true :( \n",
    "\n",
    "It appears that warnings is not imported, even in the latest release of the package. The search.py file is now modified & kernel will be restarted to try again!"
   ]
  },
  {
   "cell_type": "code",
   "execution_count": 5,
   "metadata": {},
   "outputs": [],
   "source": [
    "author_records7 = q1_author_df[[\"new_given\",\"new_family\",\"SA_list\"]].sample(10).to_dict(\"records\")"
   ]
  },
  {
   "cell_type": "code",
   "execution_count": 6,
   "metadata": {},
   "outputs": [
    {
     "name": "stderr",
     "output_type": "stream",
     "text": [
      "c:\\Users\\oguzk\\anaconda3\\lib\\site-packages\\pybliometrics\\scopus\\author_search.py:119: FutureWarning: Parameter `count` is deprecated and will be removed in a future release.  There will be no substitute.\n",
      "  warn(msg, FutureWarning)\n"
     ]
    }
   ],
   "source": [
    "# Test 7:\n",
    "\n",
    "for author in author_records7:\n",
    "    name = author[\"new_given\"]\n",
    "    surname = author[\"new_family\"]\n",
    "    sa_list = sbj_area_query_creator(author[\"SA_list\"])\n",
    "    \n",
    "    try:\n",
    "        s = AuthorSearch(f'AUTHLAST({surname}) AND AUTHFIRST({name}) AND {sa_list}', count=10)\n",
    "        author[\"affil\"] = [s.authors[i]._asdict()[\"country\"] for i in range(len(s.authors))]\n",
    "\n",
    "    except:\n",
    "        author[\"affil\"] = \"Too many results!\"\n"
   ]
  },
  {
   "cell_type": "code",
   "execution_count": 7,
   "metadata": {},
   "outputs": [
    {
     "data": {
      "text/html": [
       "<div>\n",
       "<style scoped>\n",
       "    .dataframe tbody tr th:only-of-type {\n",
       "        vertical-align: middle;\n",
       "    }\n",
       "\n",
       "    .dataframe tbody tr th {\n",
       "        vertical-align: top;\n",
       "    }\n",
       "\n",
       "    .dataframe thead th {\n",
       "        text-align: right;\n",
       "    }\n",
       "</style>\n",
       "<table border=\"1\" class=\"dataframe\">\n",
       "  <thead>\n",
       "    <tr style=\"text-align: right;\">\n",
       "      <th></th>\n",
       "      <th>new_given</th>\n",
       "      <th>new_family</th>\n",
       "      <th>SA_list</th>\n",
       "      <th>affil</th>\n",
       "    </tr>\n",
       "  </thead>\n",
       "  <tbody>\n",
       "    <tr>\n",
       "      <th>0</th>\n",
       "      <td>david</td>\n",
       "      <td>adams</td>\n",
       "      <td>[Environmental Science, Social Sciences]</td>\n",
       "      <td>[United States, United Kingdom, Australia, Uni...</td>\n",
       "    </tr>\n",
       "    <tr>\n",
       "      <th>1</th>\n",
       "      <td>michela</td>\n",
       "      <td>guidarelli</td>\n",
       "      <td>[Agricultural and Biological Sciences, Biochem...</td>\n",
       "      <td>[Italy]</td>\n",
       "    </tr>\n",
       "    <tr>\n",
       "      <th>2</th>\n",
       "      <td>mathias</td>\n",
       "      <td>peirlinck</td>\n",
       "      <td>[Mathematics, Engineering, Computer Science]</td>\n",
       "      <td>[United States]</td>\n",
       "    </tr>\n",
       "    <tr>\n",
       "      <th>3</th>\n",
       "      <td>kun-jen</td>\n",
       "      <td>chung</td>\n",
       "      <td>[Business, Management and Accounting, Economic...</td>\n",
       "      <td>[Taiwan]</td>\n",
       "    </tr>\n",
       "    <tr>\n",
       "      <th>4</th>\n",
       "      <td>fang</td>\n",
       "      <td>liu</td>\n",
       "      <td>[Biochemistry, Genetics and Molecular Biology]</td>\n",
       "      <td>[China, China, China, China, China, China, Chi...</td>\n",
       "    </tr>\n",
       "    <tr>\n",
       "      <th>5</th>\n",
       "      <td>ran</td>\n",
       "      <td>zhang</td>\n",
       "      <td>[Immunology and Microbiology, Biochemistry, Ge...</td>\n",
       "      <td>[China, China, China]</td>\n",
       "    </tr>\n",
       "    <tr>\n",
       "      <th>6</th>\n",
       "      <td>jai e.</td>\n",
       "      <td>jung</td>\n",
       "      <td>[Computer Science]</td>\n",
       "      <td>[South Korea]</td>\n",
       "    </tr>\n",
       "    <tr>\n",
       "      <th>7</th>\n",
       "      <td>yoshio</td>\n",
       "      <td>kozono</td>\n",
       "      <td>[Materials Science, Dentistry]</td>\n",
       "      <td>[Japan]</td>\n",
       "    </tr>\n",
       "    <tr>\n",
       "      <th>8</th>\n",
       "      <td>fletcher a</td>\n",
       "      <td>white</td>\n",
       "      <td>[Immunology and Microbiology, Neuroscience]</td>\n",
       "      <td>[United States]</td>\n",
       "    </tr>\n",
       "    <tr>\n",
       "      <th>9</th>\n",
       "      <td>mark f.</td>\n",
       "      <td>randolph</td>\n",
       "      <td>[Engineering, Earth and Planetary Sciences, Ma...</td>\n",
       "      <td>[Australia]</td>\n",
       "    </tr>\n",
       "  </tbody>\n",
       "</table>\n",
       "</div>"
      ],
      "text/plain": [
       "    new_given  new_family                                            SA_list  \\\n",
       "0       david       adams           [Environmental Science, Social Sciences]   \n",
       "1     michela  guidarelli  [Agricultural and Biological Sciences, Biochem...   \n",
       "2     mathias   peirlinck       [Mathematics, Engineering, Computer Science]   \n",
       "3     kun-jen       chung  [Business, Management and Accounting, Economic...   \n",
       "4        fang         liu     [Biochemistry, Genetics and Molecular Biology]   \n",
       "5         ran       zhang  [Immunology and Microbiology, Biochemistry, Ge...   \n",
       "6      jai e.        jung                                 [Computer Science]   \n",
       "7      yoshio      kozono                     [Materials Science, Dentistry]   \n",
       "8  fletcher a       white        [Immunology and Microbiology, Neuroscience]   \n",
       "9     mark f.    randolph  [Engineering, Earth and Planetary Sciences, Ma...   \n",
       "\n",
       "                                               affil  \n",
       "0  [United States, United Kingdom, Australia, Uni...  \n",
       "1                                            [Italy]  \n",
       "2                                    [United States]  \n",
       "3                                           [Taiwan]  \n",
       "4  [China, China, China, China, China, China, Chi...  \n",
       "5                              [China, China, China]  \n",
       "6                                      [South Korea]  \n",
       "7                                            [Japan]  \n",
       "8                                    [United States]  \n",
       "9                                        [Australia]  "
      ]
     },
     "execution_count": 7,
     "metadata": {},
     "output_type": "execute_result"
    }
   ],
   "source": [
    "pd.DataFrame(author_records7)"
   ]
  },
  {
   "cell_type": "code",
   "execution_count": 9,
   "metadata": {},
   "outputs": [
    {
     "data": {
      "text/plain": [
       "'4697'"
      ]
     },
     "execution_count": 9,
     "metadata": {},
     "output_type": "execute_result"
    }
   ],
   "source": [
    "s.get_key_remaining_quota()"
   ]
  },
  {
   "cell_type": "code",
   "execution_count": null,
   "metadata": {},
   "outputs": [],
   "source": [
    "4824-4697"
   ]
  },
  {
   "cell_type": "code",
   "execution_count": 16,
   "metadata": {},
   "outputs": [
    {
     "data": {
      "text/html": [
       "<div>\n",
       "<style scoped>\n",
       "    .dataframe tbody tr th:only-of-type {\n",
       "        vertical-align: middle;\n",
       "    }\n",
       "\n",
       "    .dataframe tbody tr th {\n",
       "        vertical-align: top;\n",
       "    }\n",
       "\n",
       "    .dataframe thead th {\n",
       "        text-align: right;\n",
       "    }\n",
       "</style>\n",
       "<table border=\"1\" class=\"dataframe\">\n",
       "  <thead>\n",
       "    <tr style=\"text-align: right;\">\n",
       "      <th></th>\n",
       "      <th>DOI</th>\n",
       "      <th>JRNL_ID</th>\n",
       "      <th>given</th>\n",
       "      <th>family</th>\n",
       "      <th>sequence</th>\n",
       "      <th>affiliation</th>\n",
       "      <th>ORCID</th>\n",
       "      <th>authenticated-orcid</th>\n",
       "      <th>new_given</th>\n",
       "      <th>new_family</th>\n",
       "      <th>SA_list</th>\n",
       "    </tr>\n",
       "  </thead>\n",
       "  <tbody>\n",
       "    <tr>\n",
       "      <th>182487</th>\n",
       "      <td>10.1902/jop.2010.100355</td>\n",
       "      <td>1_4230</td>\n",
       "      <td>P.</td>\n",
       "      <td>Arjun Raju</td>\n",
       "      <td>additional</td>\n",
       "      <td>[]</td>\n",
       "      <td>NaN</td>\n",
       "      <td>NaN</td>\n",
       "      <td>p.</td>\n",
       "      <td>arjun raju</td>\n",
       "      <td>[Dentistry]</td>\n",
       "    </tr>\n",
       "  </tbody>\n",
       "</table>\n",
       "</div>"
      ],
      "text/plain": [
       "                            DOI JRNL_ID given      family    sequence  \\\n",
       "182487  10.1902/jop.2010.100355  1_4230    P.  Arjun Raju  additional   \n",
       "\n",
       "       affiliation ORCID authenticated-orcid new_given  new_family  \\\n",
       "182487          []   NaN                 NaN        p.  arjun raju   \n",
       "\n",
       "            SA_list  \n",
       "182487  [Dentistry]  "
      ]
     },
     "execution_count": 16,
     "metadata": {},
     "output_type": "execute_result"
    }
   ],
   "source": [
    "q1_author_df.sample(1)"
   ]
  },
  {
   "cell_type": "code",
   "execution_count": 17,
   "metadata": {},
   "outputs": [],
   "source": [
    "s = AuthorSearch(f'AUTHLAST(Arjun Raju)')"
   ]
  },
  {
   "cell_type": "code",
   "execution_count": 18,
   "metadata": {},
   "outputs": [
    {
     "data": {
      "text/plain": [
       "1"
      ]
     },
     "execution_count": 18,
     "metadata": {},
     "output_type": "execute_result"
    }
   ],
   "source": [
    "len(s.authors)"
   ]
  },
  {
   "cell_type": "code",
   "execution_count": 15,
   "metadata": {},
   "outputs": [
    {
     "data": {
      "text/plain": [
       "'4569'"
      ]
     },
     "execution_count": 15,
     "metadata": {},
     "output_type": "execute_result"
    }
   ],
   "source": [
    "s.get_key_remaining_quota()"
   ]
  },
  {
   "cell_type": "code",
   "execution_count": 19,
   "metadata": {},
   "outputs": [
    {
     "data": {
      "text/plain": [
       "'4567'"
      ]
     },
     "execution_count": 19,
     "metadata": {},
     "output_type": "execute_result"
    }
   ],
   "source": [
    "s.get_key_remaining_quota()"
   ]
  },
  {
   "cell_type": "code",
   "execution_count": 20,
   "metadata": {},
   "outputs": [],
   "source": [
    "s = AuthorSearch(f'AUTHLAST(kokes)')"
   ]
  },
  {
   "cell_type": "code",
   "execution_count": 21,
   "metadata": {},
   "outputs": [
    {
     "data": {
      "text/plain": [
       "44"
      ]
     },
     "execution_count": 21,
     "metadata": {},
     "output_type": "execute_result"
    }
   ],
   "source": [
    "len(s.authors)"
   ]
  },
  {
   "cell_type": "code",
   "execution_count": null,
   "metadata": {},
   "outputs": [],
   "source": []
  },
  {
   "cell_type": "code",
   "execution_count": 22,
   "metadata": {},
   "outputs": [
    {
     "data": {
      "text/plain": [
       "'4565'"
      ]
     },
     "execution_count": 22,
     "metadata": {},
     "output_type": "execute_result"
    }
   ],
   "source": [
    "s.get_key_remaining_quota()"
   ]
  },
  {
   "cell_type": "code",
   "execution_count": 25,
   "metadata": {},
   "outputs": [],
   "source": [
    "s = AuthorSearch(f'AUTHLAST(asjkhdksjahdjksah)')"
   ]
  },
  {
   "cell_type": "code",
   "execution_count": 26,
   "metadata": {},
   "outputs": [
    {
     "ename": "TypeError",
     "evalue": "object of type 'NoneType' has no len()",
     "output_type": "error",
     "traceback": [
      "\u001b[1;31m---------------------------------------------------------------------------\u001b[0m",
      "\u001b[1;31mTypeError\u001b[0m                                 Traceback (most recent call last)",
      "\u001b[1;32m<ipython-input-26-cca4e8d7ba0f>\u001b[0m in \u001b[0;36m<module>\u001b[1;34m\u001b[0m\n\u001b[1;32m----> 1\u001b[1;33m \u001b[0mlen\u001b[0m\u001b[1;33m(\u001b[0m\u001b[0ms\u001b[0m\u001b[1;33m.\u001b[0m\u001b[0mauthors\u001b[0m\u001b[1;33m)\u001b[0m\u001b[1;33m\u001b[0m\u001b[1;33m\u001b[0m\u001b[0m\n\u001b[0m",
      "\u001b[1;31mTypeError\u001b[0m: object of type 'NoneType' has no len()"
     ]
    }
   ],
   "source": [
    "len(s.authors)"
   ]
  },
  {
   "cell_type": "code",
   "execution_count": 27,
   "metadata": {},
   "outputs": [
    {
     "data": {
      "text/plain": [
       "'4564'"
      ]
     },
     "execution_count": 27,
     "metadata": {},
     "output_type": "execute_result"
    }
   ],
   "source": [
    "s.get_key_remaining_quota()"
   ]
  },
  {
   "cell_type": "markdown",
   "metadata": {},
   "source": [
    "An \"invalid\" (empty) search only uses a single token! \n",
    "\n",
    "If there is a valid response that is len() < 200 -> +1 token\n",
    "\n",
    "If len() > 200 -> even more!! could not work out the logic yet!\n",
    "\n",
    "---\n",
    "\n",
    "The problem is I don't know if every search & result retr. should use 2 tokens OR there is still something wrong w/ pyblio. causing an uncessary token use.\n",
    "\n",
    "The only other option is to try download = False option"
   ]
  },
  {
   "cell_type": "code",
   "execution_count": 42,
   "metadata": {},
   "outputs": [],
   "source": [
    "# Updating results:\n",
    "\n",
    "with open(\"author_records\", \"rb\") as fp:\n",
    "    author_records = pickle.load(fp)\n",
    "    \n",
    "\n",
    "author_records = author_records + author_records6 + author_records7\n",
    "\n",
    "with open(\"author_records\",\"wb\") as p:\n",
    "    pickle.dump(author_records, p)"
   ]
  },
  {
   "cell_type": "code",
   "execution_count": 35,
   "metadata": {},
   "outputs": [
    {
     "data": {
      "text/html": [
       "<div>\n",
       "<style scoped>\n",
       "    .dataframe tbody tr th:only-of-type {\n",
       "        vertical-align: middle;\n",
       "    }\n",
       "\n",
       "    .dataframe tbody tr th {\n",
       "        vertical-align: top;\n",
       "    }\n",
       "\n",
       "    .dataframe thead th {\n",
       "        text-align: right;\n",
       "    }\n",
       "</style>\n",
       "<table border=\"1\" class=\"dataframe\">\n",
       "  <thead>\n",
       "    <tr style=\"text-align: right;\">\n",
       "      <th></th>\n",
       "      <th>DOI</th>\n",
       "      <th>JRNL_ID</th>\n",
       "      <th>given</th>\n",
       "      <th>family</th>\n",
       "      <th>sequence</th>\n",
       "      <th>affiliation</th>\n",
       "      <th>ORCID</th>\n",
       "      <th>authenticated-orcid</th>\n",
       "      <th>new_given</th>\n",
       "      <th>new_family</th>\n",
       "      <th>SA_list</th>\n",
       "    </tr>\n",
       "  </thead>\n",
       "  <tbody>\n",
       "    <tr>\n",
       "      <th>574903</th>\n",
       "      <td>10.3390/biology9090287</td>\n",
       "      <td>1_62801</td>\n",
       "      <td>Tetsu</td>\n",
       "      <td>Shimizu</td>\n",
       "      <td>additional</td>\n",
       "      <td>[]</td>\n",
       "      <td>NaN</td>\n",
       "      <td>NaN</td>\n",
       "      <td>tetsu</td>\n",
       "      <td>shimizu</td>\n",
       "      <td>[Agricultural and Biological Sciences, Biochem...</td>\n",
       "    </tr>\n",
       "  </tbody>\n",
       "</table>\n",
       "</div>"
      ],
      "text/plain": [
       "                           DOI  JRNL_ID  given   family    sequence  \\\n",
       "574903  10.3390/biology9090287  1_62801  Tetsu  Shimizu  additional   \n",
       "\n",
       "       affiliation ORCID authenticated-orcid new_given new_family  \\\n",
       "574903          []   NaN                 NaN     tetsu    shimizu   \n",
       "\n",
       "                                                  SA_list  \n",
       "574903  [Agricultural and Biological Sciences, Biochem...  "
      ]
     },
     "execution_count": 35,
     "metadata": {},
     "output_type": "execute_result"
    }
   ],
   "source": [
    "q1_author_df.sample(1)"
   ]
  },
  {
   "cell_type": "code",
   "execution_count": 36,
   "metadata": {},
   "outputs": [
    {
     "data": {
      "text/plain": [
       "'4563'"
      ]
     },
     "execution_count": 36,
     "metadata": {},
     "output_type": "execute_result"
    }
   ],
   "source": [
    "s.get_key_remaining_quota()"
   ]
  },
  {
   "cell_type": "code",
   "execution_count": 49,
   "metadata": {},
   "outputs": [
    {
     "ename": "Scopus401Error",
     "evalue": "The requestor is not authorized to access the requested view or fields of the resource",
     "output_type": "error",
     "traceback": [
      "\u001b[1;31m---------------------------------------------------------------------------\u001b[0m",
      "\u001b[1;31mScopus401Error\u001b[0m                            Traceback (most recent call last)",
      "\u001b[1;32m<ipython-input-49-d79728f7bdd6>\u001b[0m in \u001b[0;36m<module>\u001b[1;34m\u001b[0m\n\u001b[1;32m----> 1\u001b[1;33m \u001b[0ms\u001b[0m \u001b[1;33m=\u001b[0m \u001b[0mAuthorSearch\u001b[0m\u001b[1;33m(\u001b[0m\u001b[1;34mf'AUTHLAST(\"Shimizu\") AND AUTHFIRST(\"Tetsu\")'\u001b[0m\u001b[1;33m)\u001b[0m\u001b[1;33m\u001b[0m\u001b[1;33m\u001b[0m\u001b[0m\n\u001b[0m",
      "\u001b[1;32mc:\\Users\\oguzk\\anaconda3\\lib\\site-packages\\pybliometrics\\scopus\\author_search.py\u001b[0m in \u001b[0;36m__init__\u001b[1;34m(self, query, refresh, verbose, download, integrity_fields, integrity_action, count, **kwds)\u001b[0m\n\u001b[0;32m    125\u001b[0m         \u001b[0mself\u001b[0m\u001b[1;33m.\u001b[0m\u001b[0m_refresh\u001b[0m \u001b[1;33m=\u001b[0m \u001b[0mrefresh\u001b[0m\u001b[1;33m\u001b[0m\u001b[1;33m\u001b[0m\u001b[0m\n\u001b[0;32m    126\u001b[0m         \u001b[0mself\u001b[0m\u001b[1;33m.\u001b[0m\u001b[0m_view\u001b[0m \u001b[1;33m=\u001b[0m \u001b[1;34m\"STANDARD\"\u001b[0m\u001b[1;33m\u001b[0m\u001b[1;33m\u001b[0m\u001b[0m\n\u001b[1;32m--> 127\u001b[1;33m         Search.__init__(self, query=query, api='AuthorSearch', count=count,\n\u001b[0m\u001b[0;32m    128\u001b[0m                         download=download, verbose=verbose, **kwds)\n\u001b[0;32m    129\u001b[0m \u001b[1;33m\u001b[0m\u001b[0m\n",
      "\u001b[1;32mc:\\Users\\oguzk\\anaconda3\\lib\\site-packages\\pybliometrics\\scopus\\superclasses\\search.py\u001b[0m in \u001b[0;36m__init__\u001b[1;34m(self, query, api, count, cursor, download, verbose, **kwds)\u001b[0m\n\u001b[0;32m     60\u001b[0m \u001b[1;33m\u001b[0m\u001b[0m\n\u001b[0;32m     61\u001b[0m         \u001b[1;31m# Init\u001b[0m\u001b[1;33m\u001b[0m\u001b[1;33m\u001b[0m\u001b[1;33m\u001b[0m\u001b[0m\n\u001b[1;32m---> 62\u001b[1;33m         Base.__init__(self, params=params, url=URLS[api], download=download,\n\u001b[0m\u001b[0;32m     63\u001b[0m                       api=api, verbose=verbose)\n\u001b[0;32m     64\u001b[0m \u001b[1;33m\u001b[0m\u001b[0m\n",
      "\u001b[1;32mc:\\Users\\oguzk\\anaconda3\\lib\\site-packages\\pybliometrics\\scopus\\superclasses\\base.py\u001b[0m in \u001b[0;36m__init__\u001b[1;34m(self, params, url, api, download, verbose, *args, **kwds)\u001b[0m\n\u001b[0;32m     57\u001b[0m                 \u001b[0mself\u001b[0m\u001b[1;33m.\u001b[0m\u001b[0m_json\u001b[0m \u001b[1;33m=\u001b[0m \u001b[0mloads\u001b[0m\u001b[1;33m(\u001b[0m\u001b[0mfname\u001b[0m\u001b[1;33m.\u001b[0m\u001b[0mread_text\u001b[0m\u001b[1;33m(\u001b[0m\u001b[1;33m)\u001b[0m\u001b[1;33m)\u001b[0m\u001b[1;33m\u001b[0m\u001b[1;33m\u001b[0m\u001b[0m\n\u001b[0;32m     58\u001b[0m         \u001b[1;32melse\u001b[0m\u001b[1;33m:\u001b[0m\u001b[1;33m\u001b[0m\u001b[1;33m\u001b[0m\u001b[0m\n\u001b[1;32m---> 59\u001b[1;33m             \u001b[0mresp\u001b[0m \u001b[1;33m=\u001b[0m \u001b[0mget_content\u001b[0m\u001b[1;33m(\u001b[0m\u001b[0murl\u001b[0m\u001b[1;33m,\u001b[0m \u001b[0mapi\u001b[0m\u001b[1;33m,\u001b[0m \u001b[0mparams\u001b[0m\u001b[1;33m,\u001b[0m \u001b[1;33m*\u001b[0m\u001b[0margs\u001b[0m\u001b[1;33m,\u001b[0m \u001b[1;33m**\u001b[0m\u001b[0mkwds\u001b[0m\u001b[1;33m)\u001b[0m\u001b[1;33m\u001b[0m\u001b[1;33m\u001b[0m\u001b[0m\n\u001b[0m\u001b[0;32m     60\u001b[0m             \u001b[0mheader\u001b[0m \u001b[1;33m=\u001b[0m \u001b[0mresp\u001b[0m\u001b[1;33m.\u001b[0m\u001b[0mheaders\u001b[0m\u001b[1;33m\u001b[0m\u001b[1;33m\u001b[0m\u001b[0m\n\u001b[0;32m     61\u001b[0m             \u001b[1;32mif\u001b[0m \u001b[0msearch_request\u001b[0m\u001b[1;33m:\u001b[0m\u001b[1;33m\u001b[0m\u001b[1;33m\u001b[0m\u001b[0m\n",
      "\u001b[1;32mc:\\Users\\oguzk\\anaconda3\\lib\\site-packages\\pybliometrics\\scopus\\utils\\get_content.py\u001b[0m in \u001b[0;36mget_content\u001b[1;34m(url, api, params, **kwds)\u001b[0m\n\u001b[0;32m    110\u001b[0m             \u001b[1;32mexcept\u001b[0m\u001b[1;33m:\u001b[0m\u001b[1;33m\u001b[0m\u001b[1;33m\u001b[0m\u001b[0m\n\u001b[0;32m    111\u001b[0m                 \u001b[0mreason\u001b[0m \u001b[1;33m=\u001b[0m \u001b[1;34m\"\"\u001b[0m\u001b[1;33m\u001b[0m\u001b[1;33m\u001b[0m\u001b[0m\n\u001b[1;32m--> 112\u001b[1;33m         \u001b[1;32mraise\u001b[0m \u001b[0merrors\u001b[0m\u001b[1;33m[\u001b[0m\u001b[0mresp\u001b[0m\u001b[1;33m.\u001b[0m\u001b[0mstatus_code\u001b[0m\u001b[1;33m]\u001b[0m\u001b[1;33m(\u001b[0m\u001b[0mreason\u001b[0m\u001b[1;33m)\u001b[0m\u001b[1;33m\u001b[0m\u001b[1;33m\u001b[0m\u001b[0m\n\u001b[0m\u001b[0;32m    113\u001b[0m     \u001b[1;32mexcept\u001b[0m \u001b[0mKeyError\u001b[0m\u001b[1;33m:\u001b[0m\u001b[1;33m\u001b[0m\u001b[1;33m\u001b[0m\u001b[0m\n\u001b[0;32m    114\u001b[0m         \u001b[0mresp\u001b[0m\u001b[1;33m.\u001b[0m\u001b[0mraise_for_status\u001b[0m\u001b[1;33m(\u001b[0m\u001b[1;33m)\u001b[0m\u001b[1;33m\u001b[0m\u001b[1;33m\u001b[0m\u001b[0m\n",
      "\u001b[1;31mScopus401Error\u001b[0m: The requestor is not authorized to access the requested view or fields of the resource"
     ]
    }
   ],
   "source": [
    "s = AuthorSearch(f'AUTHLAST(\"Shimizu\") AND AUTHFIRST(\"Tetsu\")')"
   ]
  },
  {
   "cell_type": "code",
   "execution_count": 34,
   "metadata": {},
   "outputs": [
    {
     "data": {
      "text/plain": [
       "NoneType"
      ]
     },
     "execution_count": 34,
     "metadata": {},
     "output_type": "execute_result"
    }
   ],
   "source": [
    "type(s.authors)"
   ]
  },
  {
   "cell_type": "code",
   "execution_count": 40,
   "metadata": {},
   "outputs": [
    {
     "data": {
      "text/plain": [
       "'4563'"
      ]
     },
     "execution_count": 40,
     "metadata": {},
     "output_type": "execute_result"
    }
   ],
   "source": [
    "s.get_key_remaining_quota()"
   ]
  },
  {
   "cell_type": "markdown",
   "metadata": {},
   "source": [
    "#### 4.7 - Elsapy package testing:"
   ]
  },
  {
   "cell_type": "markdown",
   "metadata": {},
   "source": [
    "Get elsapy client ready:"
   ]
  },
  {
   "cell_type": "code",
   "execution_count": null,
   "metadata": {},
   "outputs": [],
   "source": [
    "from elsapy.elsclient import ElsClient\n",
    "from elsapy.elsprofile import ElsAuthor, ElsAffil\n",
    "from elsapy.elsdoc import FullDoc, AbsDoc\n",
    "from elsapy.elssearch import ElsSearch\n",
    "\n",
    "## Initialize client\n",
    "client = ElsClient(\"6ae4b5181b374f521e60d2ef4be73ec5\")\n",
    "#client.inst_token = config['insttoken']"
   ]
  },
  {
   "cell_type": "markdown",
   "metadata": {},
   "source": [
    "Use pybliometrics once to get up-to-date quota info:"
   ]
  },
  {
   "cell_type": "code",
   "execution_count": 9,
   "metadata": {},
   "outputs": [],
   "source": [
    "s = AuthorSearch(f'AUTHLAST(\"Shimizu\") AND AUTHFIRST(\"Tetsu\")')"
   ]
  },
  {
   "cell_type": "code",
   "execution_count": 13,
   "metadata": {},
   "outputs": [
    {
     "data": {
      "text/plain": [
       "12"
      ]
     },
     "execution_count": 13,
     "metadata": {},
     "output_type": "execute_result"
    }
   ],
   "source": [
    "len(s.authors)"
   ]
  },
  {
   "cell_type": "code",
   "execution_count": 11,
   "metadata": {},
   "outputs": [
    {
     "data": {
      "text/plain": [
       "'4561'"
      ]
     },
     "execution_count": 11,
     "metadata": {},
     "output_type": "execute_result"
    }
   ],
   "source": [
    "s.get_key_remaining_quota()"
   ]
  },
  {
   "cell_type": "markdown",
   "metadata": {},
   "source": [
    "Use elsapy to retrive the same records:"
   ]
  },
  {
   "cell_type": "code",
   "execution_count": 12,
   "metadata": {},
   "outputs": [
    {
     "name": "stdout",
     "output_type": "stream",
     "text": [
      "auth_srch has 12 results.\n"
     ]
    }
   ],
   "source": [
    "## Initialize author search object and execute search\n",
    "auth_srch = ElsSearch('AUTHLAST(Shimizu) AND AUTHFIRST(Tetsu)','author')\n",
    "auth_srch.execute(client)\n",
    "print (\"auth_srch has\", len(auth_srch.results), \"results.\")"
   ]
  },
  {
   "cell_type": "code",
   "execution_count": 29,
   "metadata": {},
   "outputs": [
    {
     "data": {
      "text/plain": [
       "[{'@_fa': 'true',\n",
       "  'link': [{'@_fa': 'true',\n",
       "    '@ref': 'self',\n",
       "    '@href': 'https://api.elsevier.com/content/author/author_id/7408149816'},\n",
       "   {'@_fa': 'true',\n",
       "    '@ref': 'search',\n",
       "    '@href': 'https://api.elsevier.com/content/search/author?query=au-id%287408149816%29'},\n",
       "   {'@_fa': 'true',\n",
       "    '@ref': 'scopus-citedby',\n",
       "    '@href': 'https://www.scopus.com/author/citedby.uri?partnerID=HzOxMe3b&citedAuthorId=7408149816&origin=inward'},\n",
       "   {'@_fa': 'true',\n",
       "    '@ref': 'scopus-author',\n",
       "    '@href': 'https://www.scopus.com/authid/detail.uri?partnerID=HzOxMe3b&authorId=7408149816&origin=inward'}],\n",
       "  'prism:url': 'https://api.elsevier.com/content/author/author_id/7408149816',\n",
       "  'dc:identifier': 'AUTHOR_ID:7408149816',\n",
       "  'eid': '9-s2.0-7408149816',\n",
       "  'preferred-name': {'surname': 'Shimizu',\n",
       "   'given-name': 'Tetsu',\n",
       "   'initials': 'T.'},\n",
       "  'name-variant': [{'@_fa': 'true',\n",
       "    'surname': 'Shimizu',\n",
       "    'given-name': 'T.',\n",
       "    'initials': 'T.'}],\n",
       "  'document-count': '17',\n",
       "  'subject-area': [{'@abbrev': 'MEDI',\n",
       "    '@frequency': '17',\n",
       "    '$': 'Medicine (all)'},\n",
       "   {'@abbrev': 'BIOC',\n",
       "    '@frequency': '8',\n",
       "    '$': 'Biochemistry, Genetics and Molecular Biology (all)'},\n",
       "   {'@abbrev': 'PHAR',\n",
       "    '@frequency': '3',\n",
       "    '$': 'Pharmacology, Toxicology and Pharmaceutics (all)'}],\n",
       "  'affiliation-current': {'affiliation-url': 'https://api.elsevier.com/content/affiliation/affiliation_id/100313679',\n",
       "   'affiliation-id': '100313679',\n",
       "   'affiliation-name': 'Tottori Prefectural Central Hospital',\n",
       "   'affiliation-city': 'Tottori',\n",
       "   'affiliation-country': 'Japan'}},\n",
       " {'@_fa': 'true',\n",
       "  'link': [{'@_fa': 'true',\n",
       "    '@ref': 'self',\n",
       "    '@href': 'https://api.elsevier.com/content/author/author_id/55502806400'},\n",
       "   {'@_fa': 'true',\n",
       "    '@ref': 'search',\n",
       "    '@href': 'https://api.elsevier.com/content/search/author?query=au-id%2855502806400%29'},\n",
       "   {'@_fa': 'true',\n",
       "    '@ref': 'scopus-citedby',\n",
       "    '@href': 'https://www.scopus.com/author/citedby.uri?partnerID=HzOxMe3b&citedAuthorId=55502806400&origin=inward'},\n",
       "   {'@_fa': 'true',\n",
       "    '@ref': 'scopus-author',\n",
       "    '@href': 'https://www.scopus.com/authid/detail.uri?partnerID=HzOxMe3b&authorId=55502806400&origin=inward'}],\n",
       "  'prism:url': 'https://api.elsevier.com/content/author/author_id/55502806400',\n",
       "  'dc:identifier': 'AUTHOR_ID:55502806400',\n",
       "  'eid': '9-s2.0-55502806400',\n",
       "  'preferred-name': {'surname': 'Shimizu',\n",
       "   'given-name': 'Tetsu',\n",
       "   'initials': 'T.'},\n",
       "  'document-count': '7',\n",
       "  'subject-area': [{'@abbrev': 'BIOC',\n",
       "    '@frequency': '11',\n",
       "    '$': 'Biochemistry, Genetics and Molecular Biology (all)'},\n",
       "   {'@abbrev': 'IMMU',\n",
       "    '@frequency': '3',\n",
       "    '$': 'Immunology and Microbiology (all)'},\n",
       "   {'@abbrev': 'AGRI',\n",
       "    '@frequency': '2',\n",
       "    '$': 'Agricultural and Biological Sciences (all)'}],\n",
       "  'affiliation-current': {'affiliation-url': 'https://api.elsevier.com/content/affiliation/affiliation_id/60014256',\n",
       "   'affiliation-id': '60014256',\n",
       "   'affiliation-name': 'University of Tsukuba',\n",
       "   'affiliation-city': 'Tsukuba',\n",
       "   'affiliation-country': 'Japan'}},\n",
       " {'@_fa': 'true',\n",
       "  'link': [{'@_fa': 'true',\n",
       "    '@ref': 'self',\n",
       "    '@href': 'https://api.elsevier.com/content/author/author_id/7408149996'},\n",
       "   {'@_fa': 'true',\n",
       "    '@ref': 'search',\n",
       "    '@href': 'https://api.elsevier.com/content/search/author?query=au-id%287408149996%29'},\n",
       "   {'@_fa': 'true',\n",
       "    '@ref': 'scopus-citedby',\n",
       "    '@href': 'https://www.scopus.com/author/citedby.uri?partnerID=HzOxMe3b&citedAuthorId=7408149996&origin=inward'},\n",
       "   {'@_fa': 'true',\n",
       "    '@ref': 'scopus-author',\n",
       "    '@href': 'https://www.scopus.com/authid/detail.uri?partnerID=HzOxMe3b&authorId=7408149996&origin=inward'}],\n",
       "  'prism:url': 'https://api.elsevier.com/content/author/author_id/7408149996',\n",
       "  'dc:identifier': 'AUTHOR_ID:7408149996',\n",
       "  'eid': '9-s2.0-7408149996',\n",
       "  'preferred-name': {'surname': 'Shimizu',\n",
       "   'given-name': 'Tetsu',\n",
       "   'initials': 'T.'},\n",
       "  'name-variant': [{'@_fa': 'true',\n",
       "    'surname': 'Shimizu',\n",
       "    'given-name': 'T.',\n",
       "    'initials': 'T.'}],\n",
       "  'document-count': '4',\n",
       "  'subject-area': {'@abbrev': 'ENGI',\n",
       "   '@frequency': '8',\n",
       "   '$': 'Engineering (all)'},\n",
       "  'affiliation-current': {'affiliation-url': 'https://api.elsevier.com/content/affiliation/affiliation_id/60025997',\n",
       "   'affiliation-id': '60025997',\n",
       "   'affiliation-name': 'Keio University',\n",
       "   'affiliation-city': 'Tokyo',\n",
       "   'affiliation-country': 'Japan'}},\n",
       " {'@_fa': 'true',\n",
       "  'link': [{'@_fa': 'true',\n",
       "    '@ref': 'self',\n",
       "    '@href': 'https://api.elsevier.com/content/author/author_id/57205373499'},\n",
       "   {'@_fa': 'true',\n",
       "    '@ref': 'search',\n",
       "    '@href': 'https://api.elsevier.com/content/search/author?query=au-id%2857205373499%29'},\n",
       "   {'@_fa': 'true',\n",
       "    '@ref': 'scopus-citedby',\n",
       "    '@href': 'https://www.scopus.com/author/citedby.uri?partnerID=HzOxMe3b&citedAuthorId=57205373499&origin=inward'},\n",
       "   {'@_fa': 'true',\n",
       "    '@ref': 'scopus-author',\n",
       "    '@href': 'https://www.scopus.com/authid/detail.uri?partnerID=HzOxMe3b&authorId=57205373499&origin=inward'}],\n",
       "  'prism:url': 'https://api.elsevier.com/content/author/author_id/57205373499',\n",
       "  'dc:identifier': 'AUTHOR_ID:57205373499',\n",
       "  'eid': '9-s2.0-57205373499',\n",
       "  'preferred-name': {'surname': 'Shimizu',\n",
       "   'given-name': 'Tetsu',\n",
       "   'initials': 'T.'},\n",
       "  'document-count': '4',\n",
       "  'subject-area': [{'@abbrev': 'BIOC',\n",
       "    '@frequency': '3',\n",
       "    '$': 'Biochemistry, Genetics and Molecular Biology (all)'},\n",
       "   {'@abbrev': 'ENER', '@frequency': '3', '$': 'Energy (all)'},\n",
       "   {'@abbrev': 'IMMU',\n",
       "    '@frequency': '3',\n",
       "    '$': 'Immunology and Microbiology (all)'}],\n",
       "  'affiliation-current': {'affiliation-url': 'https://api.elsevier.com/content/affiliation/affiliation_id/60009059',\n",
       "   'affiliation-id': '60009059',\n",
       "   'affiliation-name': 'Research Institute of Innovative Technology for Earth Kizugawa',\n",
       "   'affiliation-city': 'Kizugawa',\n",
       "   'affiliation-country': 'Japan'}},\n",
       " {'@_fa': 'true',\n",
       "  'link': [{'@_fa': 'true',\n",
       "    '@ref': 'self',\n",
       "    '@href': 'https://api.elsevier.com/content/author/author_id/57189214168'},\n",
       "   {'@_fa': 'true',\n",
       "    '@ref': 'search',\n",
       "    '@href': 'https://api.elsevier.com/content/search/author?query=au-id%2857189214168%29'},\n",
       "   {'@_fa': 'true',\n",
       "    '@ref': 'scopus-citedby',\n",
       "    '@href': 'https://www.scopus.com/author/citedby.uri?partnerID=HzOxMe3b&citedAuthorId=57189214168&origin=inward'},\n",
       "   {'@_fa': 'true',\n",
       "    '@ref': 'scopus-author',\n",
       "    '@href': 'https://www.scopus.com/authid/detail.uri?partnerID=HzOxMe3b&authorId=57189214168&origin=inward'}],\n",
       "  'prism:url': 'https://api.elsevier.com/content/author/author_id/57189214168',\n",
       "  'dc:identifier': 'AUTHOR_ID:57189214168',\n",
       "  'eid': '9-s2.0-57189214168',\n",
       "  'preferred-name': {'surname': 'Shimizu',\n",
       "   'given-name': 'Tetsu',\n",
       "   'initials': 'T.'},\n",
       "  'document-count': '4',\n",
       "  'subject-area': [{'@abbrev': 'BIOC',\n",
       "    '@frequency': '11',\n",
       "    '$': 'Biochemistry, Genetics and Molecular Biology (all)'},\n",
       "   {'@abbrev': 'CHEM', '@frequency': '2', '$': 'Chemistry (all)'},\n",
       "   {'@abbrev': 'IMMU',\n",
       "    '@frequency': '1',\n",
       "    '$': 'Immunology and Microbiology (all)'}],\n",
       "  'affiliation-current': {'affiliation-url': 'https://api.elsevier.com/content/affiliation/affiliation_id/60025272',\n",
       "   'affiliation-id': '60025272',\n",
       "   'affiliation-name': 'University of Tokyo',\n",
       "   'affiliation-city': 'Tokyo',\n",
       "   'affiliation-country': 'Japan'}},\n",
       " {'@_fa': 'true',\n",
       "  'link': [{'@_fa': 'true',\n",
       "    '@ref': 'self',\n",
       "    '@href': 'https://api.elsevier.com/content/author/author_id/57211877053'},\n",
       "   {'@_fa': 'true',\n",
       "    '@ref': 'search',\n",
       "    '@href': 'https://api.elsevier.com/content/search/author?query=au-id%2857211877053%29'},\n",
       "   {'@_fa': 'true',\n",
       "    '@ref': 'scopus-citedby',\n",
       "    '@href': 'https://www.scopus.com/author/citedby.uri?partnerID=HzOxMe3b&citedAuthorId=57211877053&origin=inward'},\n",
       "   {'@_fa': 'true',\n",
       "    '@ref': 'scopus-author',\n",
       "    '@href': 'https://www.scopus.com/authid/detail.uri?partnerID=HzOxMe3b&authorId=57211877053&origin=inward'}],\n",
       "  'prism:url': 'https://api.elsevier.com/content/author/author_id/57211877053',\n",
       "  'dc:identifier': 'AUTHOR_ID:57211877053',\n",
       "  'eid': '9-s2.0-57211877053',\n",
       "  'preferred-name': {'surname': 'Shimizu',\n",
       "   'given-name': 'Tetsu',\n",
       "   'initials': 'T.'},\n",
       "  'document-count': '3',\n",
       "  'subject-area': [{'@abbrev': 'ENGI',\n",
       "    '@frequency': '5',\n",
       "    '$': 'Engineering (all)'},\n",
       "   {'@abbrev': 'MATE', '@frequency': '2', '$': 'Materials Science (all)'},\n",
       "   {'@abbrev': 'CENG', '@frequency': '1', '$': 'Chemical Engineering (all)'}],\n",
       "  'affiliation-current': {'affiliation-url': 'https://api.elsevier.com/content/affiliation/affiliation_id/60025141',\n",
       "   'affiliation-id': '60025141',\n",
       "   'affiliation-name': 'Tokyo University of Science',\n",
       "   'affiliation-city': 'Tokyo',\n",
       "   'affiliation-country': 'Japan'}},\n",
       " {'@_fa': 'true',\n",
       "  'link': [{'@_fa': 'true',\n",
       "    '@ref': 'self',\n",
       "    '@href': 'https://api.elsevier.com/content/author/author_id/56308436400'},\n",
       "   {'@_fa': 'true',\n",
       "    '@ref': 'search',\n",
       "    '@href': 'https://api.elsevier.com/content/search/author?query=au-id%2856308436400%29'},\n",
       "   {'@_fa': 'true',\n",
       "    '@ref': 'scopus-citedby',\n",
       "    '@href': 'https://www.scopus.com/author/citedby.uri?partnerID=HzOxMe3b&citedAuthorId=56308436400&origin=inward'},\n",
       "   {'@_fa': 'true',\n",
       "    '@ref': 'scopus-author',\n",
       "    '@href': 'https://www.scopus.com/authid/detail.uri?partnerID=HzOxMe3b&authorId=56308436400&origin=inward'}],\n",
       "  'prism:url': 'https://api.elsevier.com/content/author/author_id/56308436400',\n",
       "  'dc:identifier': 'AUTHOR_ID:56308436400',\n",
       "  'eid': '9-s2.0-56308436400',\n",
       "  'preferred-name': {'surname': 'Shimizu',\n",
       "   'given-name': 'Tetsu',\n",
       "   'initials': 'T.'},\n",
       "  'name-variant': [{'@_fa': 'true',\n",
       "    'surname': 'Shimizu',\n",
       "    'given-name': None,\n",
       "    'initials': 'Tetsu'}],\n",
       "  'document-count': '3',\n",
       "  'subject-area': {'@abbrev': 'ENGI',\n",
       "   '@frequency': '3',\n",
       "   '$': 'Engineering (all)'}},\n",
       " {'@_fa': 'true',\n",
       "  'link': [{'@_fa': 'true',\n",
       "    '@ref': 'self',\n",
       "    '@href': 'https://api.elsevier.com/content/author/author_id/7408147430'},\n",
       "   {'@_fa': 'true',\n",
       "    '@ref': 'search',\n",
       "    '@href': 'https://api.elsevier.com/content/search/author?query=au-id%287408147430%29'},\n",
       "   {'@_fa': 'true',\n",
       "    '@ref': 'scopus-citedby',\n",
       "    '@href': 'https://www.scopus.com/author/citedby.uri?partnerID=HzOxMe3b&citedAuthorId=7408147430&origin=inward'},\n",
       "   {'@_fa': 'true',\n",
       "    '@ref': 'scopus-author',\n",
       "    '@href': 'https://www.scopus.com/authid/detail.uri?partnerID=HzOxMe3b&authorId=7408147430&origin=inward'}],\n",
       "  'prism:url': 'https://api.elsevier.com/content/author/author_id/7408147430',\n",
       "  'dc:identifier': 'AUTHOR_ID:7408147430',\n",
       "  'eid': '9-s2.0-7408147430',\n",
       "  'preferred-name': {'surname': 'Shimizu',\n",
       "   'given-name': 'Tetsu',\n",
       "   'initials': 'T.'},\n",
       "  'document-count': '1',\n",
       "  'subject-area': [{'@abbrev': 'EART',\n",
       "    '@frequency': '1',\n",
       "    '$': 'Earth and Planetary Sciences (all)'},\n",
       "   {'@abbrev': 'IMMU',\n",
       "    '@frequency': '1',\n",
       "    '$': 'Immunology and Microbiology (all)'},\n",
       "   {'@abbrev': 'AGRI',\n",
       "    '@frequency': '1',\n",
       "    '$': 'Agricultural and Biological Sciences (all)'}],\n",
       "  'affiliation-current': {'affiliation-url': 'https://api.elsevier.com/content/affiliation/affiliation_id/60014652',\n",
       "   'affiliation-id': '60014652',\n",
       "   'affiliation-name': 'Hokkaido University',\n",
       "   'affiliation-city': 'Sapporo',\n",
       "   'affiliation-country': 'Japan'}},\n",
       " {'@_fa': 'true',\n",
       "  'link': [{'@_fa': 'true',\n",
       "    '@ref': 'self',\n",
       "    '@href': 'https://api.elsevier.com/content/author/author_id/57563166100'},\n",
       "   {'@_fa': 'true',\n",
       "    '@ref': 'search',\n",
       "    '@href': 'https://api.elsevier.com/content/search/author?query=au-id%2857563166100%29'},\n",
       "   {'@_fa': 'true',\n",
       "    '@ref': 'scopus-citedby',\n",
       "    '@href': 'https://www.scopus.com/author/citedby.uri?partnerID=HzOxMe3b&citedAuthorId=57563166100&origin=inward'},\n",
       "   {'@_fa': 'true',\n",
       "    '@ref': 'scopus-author',\n",
       "    '@href': 'https://www.scopus.com/authid/detail.uri?partnerID=HzOxMe3b&authorId=57563166100&origin=inward'}],\n",
       "  'prism:url': 'https://api.elsevier.com/content/author/author_id/57563166100',\n",
       "  'dc:identifier': 'AUTHOR_ID:57563166100',\n",
       "  'eid': '9-s2.0-57563166100',\n",
       "  'preferred-name': {'surname': 'Shimizu',\n",
       "   'given-name': 'Tetsu',\n",
       "   'initials': 'T.'},\n",
       "  'document-count': '1',\n",
       "  'subject-area': [{'@abbrev': 'BIOC',\n",
       "    '@frequency': '2',\n",
       "    '$': 'Biochemistry, Genetics and Molecular Biology (all)'},\n",
       "   {'@abbrev': 'MEDI', '@frequency': '1', '$': 'Medicine (all)'}],\n",
       "  'affiliation-current': {'affiliation-url': 'https://api.elsevier.com/content/affiliation/affiliation_id/113079925',\n",
       "   'affiliation-id': '113079925',\n",
       "   'affiliation-name': 'Tokyo Seaside Clinic',\n",
       "   'affiliation-city': 'Tokyo',\n",
       "   'affiliation-country': 'Japan'}},\n",
       " {'@_fa': 'true',\n",
       "  'link': [{'@_fa': 'true',\n",
       "    '@ref': 'self',\n",
       "    '@href': 'https://api.elsevier.com/content/author/author_id/57207467140'},\n",
       "   {'@_fa': 'true',\n",
       "    '@ref': 'search',\n",
       "    '@href': 'https://api.elsevier.com/content/search/author?query=au-id%2857207467140%29'},\n",
       "   {'@_fa': 'true',\n",
       "    '@ref': 'scopus-citedby',\n",
       "    '@href': 'https://www.scopus.com/author/citedby.uri?partnerID=HzOxMe3b&citedAuthorId=57207467140&origin=inward'},\n",
       "   {'@_fa': 'true',\n",
       "    '@ref': 'scopus-author',\n",
       "    '@href': 'https://www.scopus.com/authid/detail.uri?partnerID=HzOxMe3b&authorId=57207467140&origin=inward'}],\n",
       "  'prism:url': 'https://api.elsevier.com/content/author/author_id/57207467140',\n",
       "  'dc:identifier': 'AUTHOR_ID:57207467140',\n",
       "  'eid': '9-s2.0-57207467140',\n",
       "  'preferred-name': {'surname': 'Shimizu',\n",
       "   'given-name': 'Tetsu',\n",
       "   'initials': 'T.'},\n",
       "  'document-count': '1',\n",
       "  'subject-area': {'@abbrev': 'PHAR',\n",
       "   '@frequency': '1',\n",
       "   '$': 'Pharmacology, Toxicology and Pharmaceutics (all)'},\n",
       "  'affiliation-current': {'affiliation-url': 'https://api.elsevier.com/content/affiliation/affiliation_id/60016416',\n",
       "   'affiliation-id': '60016416',\n",
       "   'affiliation-name': 'Tohoku University School of Medicine',\n",
       "   'affiliation-city': 'Sendai',\n",
       "   'affiliation-country': 'Japan'}},\n",
       " {'@_fa': 'true',\n",
       "  'link': [{'@_fa': 'true',\n",
       "    '@ref': 'self',\n",
       "    '@href': 'https://api.elsevier.com/content/author/author_id/57192768680'},\n",
       "   {'@_fa': 'true',\n",
       "    '@ref': 'search',\n",
       "    '@href': 'https://api.elsevier.com/content/search/author?query=au-id%2857192768680%29'},\n",
       "   {'@_fa': 'true',\n",
       "    '@ref': 'scopus-citedby',\n",
       "    '@href': 'https://www.scopus.com/author/citedby.uri?partnerID=HzOxMe3b&citedAuthorId=57192768680&origin=inward'},\n",
       "   {'@_fa': 'true',\n",
       "    '@ref': 'scopus-author',\n",
       "    '@href': 'https://www.scopus.com/authid/detail.uri?partnerID=HzOxMe3b&authorId=57192768680&origin=inward'}],\n",
       "  'prism:url': 'https://api.elsevier.com/content/author/author_id/57192768680',\n",
       "  'dc:identifier': 'AUTHOR_ID:57192768680',\n",
       "  'eid': '9-s2.0-57192768680',\n",
       "  'preferred-name': {'surname': 'Shimizu',\n",
       "   'given-name': 'Tetsu',\n",
       "   'initials': 'T.'},\n",
       "  'document-count': '1',\n",
       "  'subject-area': {'@abbrev': 'MEDI',\n",
       "   '@frequency': '2',\n",
       "   '$': 'Medicine (all)'},\n",
       "  'affiliation-current': {'affiliation-url': 'https://api.elsevier.com/content/affiliation/affiliation_id/60028149',\n",
       "   'affiliation-id': '60028149',\n",
       "   'affiliation-name': 'Showa University School of Medicine',\n",
       "   'affiliation-city': 'Tokyo',\n",
       "   'affiliation-country': 'Japan'}},\n",
       " {'@_fa': 'true',\n",
       "  'link': [{'@_fa': 'true',\n",
       "    '@ref': 'self',\n",
       "    '@href': 'https://api.elsevier.com/content/author/author_id/36651842600'},\n",
       "   {'@_fa': 'true',\n",
       "    '@ref': 'search',\n",
       "    '@href': 'https://api.elsevier.com/content/search/author?query=au-id%2836651842600%29'},\n",
       "   {'@_fa': 'true',\n",
       "    '@ref': 'scopus-citedby',\n",
       "    '@href': 'https://www.scopus.com/author/citedby.uri?partnerID=HzOxMe3b&citedAuthorId=36651842600&origin=inward'},\n",
       "   {'@_fa': 'true',\n",
       "    '@ref': 'scopus-author',\n",
       "    '@href': 'https://www.scopus.com/authid/detail.uri?partnerID=HzOxMe3b&authorId=36651842600&origin=inward'}],\n",
       "  'prism:url': 'https://api.elsevier.com/content/author/author_id/36651842600',\n",
       "  'dc:identifier': 'AUTHOR_ID:36651842600',\n",
       "  'eid': '9-s2.0-36651842600',\n",
       "  'preferred-name': {'surname': 'Shimizu',\n",
       "   'given-name': 'Tetsu',\n",
       "   'initials': 'T.'},\n",
       "  'document-count': '1',\n",
       "  'subject-area': {'@abbrev': 'MEDI',\n",
       "   '@frequency': '1',\n",
       "   '$': 'Medicine (all)'}}]"
      ]
     },
     "execution_count": 29,
     "metadata": {},
     "output_type": "execute_result"
    }
   ],
   "source": [
    "auth_srch.results"
   ]
  },
  {
   "cell_type": "code",
   "execution_count": 34,
   "metadata": {},
   "outputs": [
    {
     "name": "stdout",
     "output_type": "stream",
     "text": [
      "Japan\n",
      "Japan\n",
      "Japan\n",
      "Japan\n",
      "Japan\n",
      "Japan\n",
      "Japan\n",
      "Japan\n",
      "Japan\n",
      "Japan\n"
     ]
    }
   ],
   "source": [
    "for auth in auth_srch.results:\n",
    "    try:\n",
    "        print(auth['affiliation-current']['affiliation-country'])\n",
    "    except KeyError:\n",
    "        pass"
   ]
  },
  {
   "cell_type": "markdown",
   "metadata": {},
   "source": [
    "It appears there is no method within ElsSearch class to check API rem. quaota. \n",
    "\n",
    "So will run pybliometrics again!"
   ]
  },
  {
   "cell_type": "code",
   "execution_count": 23,
   "metadata": {},
   "outputs": [
    {
     "data": {
      "text/html": [
       "<div>\n",
       "<style scoped>\n",
       "    .dataframe tbody tr th:only-of-type {\n",
       "        vertical-align: middle;\n",
       "    }\n",
       "\n",
       "    .dataframe tbody tr th {\n",
       "        vertical-align: top;\n",
       "    }\n",
       "\n",
       "    .dataframe thead th {\n",
       "        text-align: right;\n",
       "    }\n",
       "</style>\n",
       "<table border=\"1\" class=\"dataframe\">\n",
       "  <thead>\n",
       "    <tr style=\"text-align: right;\">\n",
       "      <th></th>\n",
       "      <th>DOI</th>\n",
       "      <th>JRNL_ID</th>\n",
       "      <th>given</th>\n",
       "      <th>family</th>\n",
       "      <th>sequence</th>\n",
       "      <th>affiliation</th>\n",
       "      <th>ORCID</th>\n",
       "      <th>authenticated-orcid</th>\n",
       "      <th>new_given</th>\n",
       "      <th>new_family</th>\n",
       "      <th>SA_list</th>\n",
       "    </tr>\n",
       "  </thead>\n",
       "  <tbody>\n",
       "    <tr>\n",
       "      <th>545947</th>\n",
       "      <td>10.1037/a0037703</td>\n",
       "      <td>1_59793</td>\n",
       "      <td>Jason M.</td>\n",
       "      <td>Holland</td>\n",
       "      <td>additional</td>\n",
       "      <td>[]</td>\n",
       "      <td>NaN</td>\n",
       "      <td>NaN</td>\n",
       "      <td>jason m.</td>\n",
       "      <td>holland</td>\n",
       "      <td>[Psychology, Arts and Humanities]</td>\n",
       "    </tr>\n",
       "  </tbody>\n",
       "</table>\n",
       "</div>"
      ],
      "text/plain": [
       "                     DOI  JRNL_ID     given   family    sequence affiliation  \\\n",
       "545947  10.1037/a0037703  1_59793  Jason M.  Holland  additional          []   \n",
       "\n",
       "       ORCID authenticated-orcid new_given new_family  \\\n",
       "545947   NaN                 NaN  jason m.    holland   \n",
       "\n",
       "                                  SA_list  \n",
       "545947  [Psychology, Arts and Humanities]  "
      ]
     },
     "execution_count": 23,
     "metadata": {},
     "output_type": "execute_result"
    }
   ],
   "source": [
    "q1_author_df.sample(1)"
   ]
  },
  {
   "cell_type": "code",
   "execution_count": 24,
   "metadata": {},
   "outputs": [],
   "source": [
    "s = AuthorSearch(f'AUTHLAST(Holland) AND AUTHFIRST(Jason M.)')"
   ]
  },
  {
   "cell_type": "code",
   "execution_count": 25,
   "metadata": {},
   "outputs": [
    {
     "data": {
      "text/plain": [
       "1"
      ]
     },
     "execution_count": 25,
     "metadata": {},
     "output_type": "execute_result"
    }
   ],
   "source": [
    "len(s.authors)"
   ]
  },
  {
   "cell_type": "code",
   "execution_count": 26,
   "metadata": {},
   "outputs": [
    {
     "data": {
      "text/plain": [
       "'4558'"
      ]
     },
     "execution_count": 26,
     "metadata": {},
     "output_type": "execute_result"
    }
   ],
   "source": [
    "s.get_key_remaining_quota()"
   ]
  },
  {
   "cell_type": "markdown",
   "metadata": {},
   "source": [
    "FINALLY!!!!!!!!!!!!!!!!!!!!\n",
    "\n",
    "It appears that using elsapy is the answer & uses a single token for a Seach query!!!!!!!!!"
   ]
  },
  {
   "cell_type": "markdown",
   "metadata": {},
   "source": [
    "#### 4.8 - elsapy advanced trials:\n",
    "\n",
    "\n",
    "- try to understand 429 error handling & change API keys\n",
    "- try including sbj_area_mapper\n",
    "- try count - FAIL & SKIPPED!\n",
    "- try facets - FAIL & SKIPPED!\n",
    "- try view & fields - FAIL & SKIPPED!\n",
    "\n",
    "- instead, understand _upper_limit_reached() \n"
   ]
  },
  {
   "cell_type": "code",
   "execution_count": 36,
   "metadata": {},
   "outputs": [
    {
     "ename": "HTTPError",
     "evalue": "HTTP 429 Error from https://api.elsevier.com/content/search/author?query=AUTHLAST%28Shimizu%29+AND+AUTHFIRST%28Tetsu%29\nand using headers {'X-ELS-APIKey': 'fbef84d23df19f2796c259b76a273652', 'User-Agent': 'elsapy-v0.5.0', 'Accept': 'application/json'}:\n{\"error-response\":{\"error-code\":\"TOO_MANY_REQUESTS\",\"error-message\":\"Request has been placed in time-out for exceeding quota or rate limits. Please reference HTTP header X-RateLimit-Reset for when requests can resubmitted.\"}}",
     "output_type": "error",
     "traceback": [
      "\u001b[1;31m---------------------------------------------------------------------------\u001b[0m",
      "\u001b[1;31mHTTPError\u001b[0m                                 Traceback (most recent call last)",
      "\u001b[1;32m<ipython-input-36-4fd402be6d77>\u001b[0m in \u001b[0;36m<module>\u001b[1;34m\u001b[0m\n\u001b[0;32m      1\u001b[0m \u001b[1;31m## Initialize author search object and execute search\u001b[0m\u001b[1;33m\u001b[0m\u001b[1;33m\u001b[0m\u001b[1;33m\u001b[0m\u001b[0m\n\u001b[0;32m      2\u001b[0m \u001b[0mauth_srch\u001b[0m \u001b[1;33m=\u001b[0m \u001b[0mElsSearch\u001b[0m\u001b[1;33m(\u001b[0m\u001b[1;34m'AUTHLAST(Shimizu) AND AUTHFIRST(Tetsu)'\u001b[0m\u001b[1;33m,\u001b[0m\u001b[1;34m'author'\u001b[0m\u001b[1;33m)\u001b[0m\u001b[1;33m\u001b[0m\u001b[1;33m\u001b[0m\u001b[0m\n\u001b[1;32m----> 3\u001b[1;33m \u001b[0mauth_srch\u001b[0m\u001b[1;33m.\u001b[0m\u001b[0mexecute\u001b[0m\u001b[1;33m(\u001b[0m\u001b[0mclient\u001b[0m\u001b[1;33m)\u001b[0m\u001b[1;33m\u001b[0m\u001b[1;33m\u001b[0m\u001b[0m\n\u001b[0m\u001b[0;32m      4\u001b[0m \u001b[0mprint\u001b[0m \u001b[1;33m(\u001b[0m\u001b[1;34m\"auth_srch has\"\u001b[0m\u001b[1;33m,\u001b[0m \u001b[0mlen\u001b[0m\u001b[1;33m(\u001b[0m\u001b[0mauth_srch\u001b[0m\u001b[1;33m.\u001b[0m\u001b[0mresults\u001b[0m\u001b[1;33m)\u001b[0m\u001b[1;33m,\u001b[0m \u001b[1;34m\"results.\"\u001b[0m\u001b[1;33m)\u001b[0m\u001b[1;33m\u001b[0m\u001b[1;33m\u001b[0m\u001b[0m\n",
      "\u001b[1;32mc:\\Users\\oguzk\\anaconda3\\lib\\site-packages\\elsapy\\elssearch.py\u001b[0m in \u001b[0;36mexecute\u001b[1;34m(self, els_client, get_all)\u001b[0m\n\u001b[0;32m     93\u001b[0m             all results for the search, up to a maximum of 5,000.\"\"\"\n\u001b[0;32m     94\u001b[0m         \u001b[1;31m## TODO: add exception handling\u001b[0m\u001b[1;33m\u001b[0m\u001b[1;33m\u001b[0m\u001b[1;33m\u001b[0m\u001b[0m\n\u001b[1;32m---> 95\u001b[1;33m         \u001b[0mapi_response\u001b[0m \u001b[1;33m=\u001b[0m \u001b[0mels_client\u001b[0m\u001b[1;33m.\u001b[0m\u001b[0mexec_request\u001b[0m\u001b[1;33m(\u001b[0m\u001b[0mself\u001b[0m\u001b[1;33m.\u001b[0m\u001b[0m_uri\u001b[0m\u001b[1;33m)\u001b[0m\u001b[1;33m\u001b[0m\u001b[1;33m\u001b[0m\u001b[0m\n\u001b[0m\u001b[0;32m     96\u001b[0m         \u001b[0mself\u001b[0m\u001b[1;33m.\u001b[0m\u001b[0m_tot_num_res\u001b[0m \u001b[1;33m=\u001b[0m \u001b[0mint\u001b[0m\u001b[1;33m(\u001b[0m\u001b[0mapi_response\u001b[0m\u001b[1;33m[\u001b[0m\u001b[1;34m'search-results'\u001b[0m\u001b[1;33m]\u001b[0m\u001b[1;33m[\u001b[0m\u001b[1;34m'opensearch:totalResults'\u001b[0m\u001b[1;33m]\u001b[0m\u001b[1;33m)\u001b[0m\u001b[1;33m\u001b[0m\u001b[1;33m\u001b[0m\u001b[0m\n\u001b[0;32m     97\u001b[0m         \u001b[0mself\u001b[0m\u001b[1;33m.\u001b[0m\u001b[0m_results\u001b[0m \u001b[1;33m=\u001b[0m \u001b[0mapi_response\u001b[0m\u001b[1;33m[\u001b[0m\u001b[1;34m'search-results'\u001b[0m\u001b[1;33m]\u001b[0m\u001b[1;33m[\u001b[0m\u001b[1;34m'entry'\u001b[0m\u001b[1;33m]\u001b[0m\u001b[1;33m\u001b[0m\u001b[1;33m\u001b[0m\u001b[0m\n",
      "\u001b[1;32mc:\\Users\\oguzk\\anaconda3\\lib\\site-packages\\elsapy\\elsclient.py\u001b[0m in \u001b[0;36mexec_request\u001b[1;34m(self, URL)\u001b[0m\n\u001b[0;32m    119\u001b[0m         \u001b[1;32melse\u001b[0m\u001b[1;33m:\u001b[0m\u001b[1;33m\u001b[0m\u001b[1;33m\u001b[0m\u001b[0m\n\u001b[0;32m    120\u001b[0m             \u001b[0mself\u001b[0m\u001b[1;33m.\u001b[0m\u001b[0m_status_msg\u001b[0m\u001b[1;33m=\u001b[0m\u001b[1;34m\"HTTP \"\u001b[0m \u001b[1;33m+\u001b[0m \u001b[0mstr\u001b[0m\u001b[1;33m(\u001b[0m\u001b[0mr\u001b[0m\u001b[1;33m.\u001b[0m\u001b[0mstatus_code\u001b[0m\u001b[1;33m)\u001b[0m \u001b[1;33m+\u001b[0m \u001b[1;34m\" Error from \"\u001b[0m \u001b[1;33m+\u001b[0m \u001b[0mURL\u001b[0m \u001b[1;33m+\u001b[0m \u001b[1;34m\" and using headers \"\u001b[0m \u001b[1;33m+\u001b[0m \u001b[0mstr\u001b[0m\u001b[1;33m(\u001b[0m\u001b[0mheaders\u001b[0m\u001b[1;33m)\u001b[0m \u001b[1;33m+\u001b[0m \u001b[1;34m\": \"\u001b[0m \u001b[1;33m+\u001b[0m \u001b[0mr\u001b[0m\u001b[1;33m.\u001b[0m\u001b[0mtext\u001b[0m\u001b[1;33m\u001b[0m\u001b[1;33m\u001b[0m\u001b[0m\n\u001b[1;32m--> 121\u001b[1;33m             \u001b[1;32mraise\u001b[0m \u001b[0mrequests\u001b[0m\u001b[1;33m.\u001b[0m\u001b[0mHTTPError\u001b[0m\u001b[1;33m(\u001b[0m\u001b[1;34m\"HTTP \"\u001b[0m \u001b[1;33m+\u001b[0m \u001b[0mstr\u001b[0m\u001b[1;33m(\u001b[0m\u001b[0mr\u001b[0m\u001b[1;33m.\u001b[0m\u001b[0mstatus_code\u001b[0m\u001b[1;33m)\u001b[0m \u001b[1;33m+\u001b[0m \u001b[1;34m\" Error from \"\u001b[0m \u001b[1;33m+\u001b[0m \u001b[0mURL\u001b[0m \u001b[1;33m+\u001b[0m \u001b[1;34m\"\\nand using headers \"\u001b[0m \u001b[1;33m+\u001b[0m \u001b[0mstr\u001b[0m\u001b[1;33m(\u001b[0m\u001b[0mheaders\u001b[0m\u001b[1;33m)\u001b[0m \u001b[1;33m+\u001b[0m \u001b[1;34m\":\\n\"\u001b[0m \u001b[1;33m+\u001b[0m \u001b[0mr\u001b[0m\u001b[1;33m.\u001b[0m\u001b[0mtext\u001b[0m\u001b[1;33m)\u001b[0m\u001b[1;33m\u001b[0m\u001b[1;33m\u001b[0m\u001b[0m\n\u001b[0m",
      "\u001b[1;31mHTTPError\u001b[0m: HTTP 429 Error from https://api.elsevier.com/content/search/author?query=AUTHLAST%28Shimizu%29+AND+AUTHFIRST%28Tetsu%29\nand using headers {'X-ELS-APIKey': 'fbef84d23df19f2796c259b76a273652', 'User-Agent': 'elsapy-v0.5.0', 'Accept': 'application/json'}:\n{\"error-response\":{\"error-code\":\"TOO_MANY_REQUESTS\",\"error-message\":\"Request has been placed in time-out for exceeding quota or rate limits. Please reference HTTP header X-RateLimit-Reset for when requests can resubmitted.\"}}"
     ]
    }
   ],
   "source": [
    "# 4.8.1 - 429 Error\n",
    "\n",
    "client = ElsClient(\"fbef84d23df19f2796c259b76a273652\")\n",
    "\n",
    "auth_srch = ElsSearch('AUTHLAST(Shimizu) AND AUTHFIRST(Tetsu)','author')\n",
    "auth_srch.execute(client)\n",
    "print (\"auth_srch has\", len(auth_srch.results), \"results.\")"
   ]
  },
  {
   "cell_type": "markdown",
   "metadata": {},
   "source": [
    "HTTPError: HTTP 429 Error from https://api.elsevier.com/content/search/author?query=AUTHLAST%28Shimizu%29+AND+AUTHFIRST%28Tetsu%29\n",
    "and using headers {'X-ELS-APIKey': 'fbef84d23df19f2796c259b76a273652', 'User-Agent': 'elsapy-v0.5.0', 'Accept': 'application/json'}:\n",
    "{\"error-response\":{\"error-code\":\"TOO_MANY_REQUESTS\",\"error-message\":\"Request has been placed in time-out for exceeding quota or rate limits. Please reference HTTP header X-RateLimit-Reset for when requests can resubmitted.\"}}\n",
    "\n"
   ]
  },
  {
   "cell_type": "code",
   "execution_count": 37,
   "metadata": {},
   "outputs": [],
   "source": [
    "client = ElsClient(\"6ae4b5181b374f521e60d2ef4be73ec5\")"
   ]
  },
  {
   "cell_type": "code",
   "execution_count": 38,
   "metadata": {},
   "outputs": [
    {
     "data": {
      "text/plain": [
       "DOI                                     10.1037/a0037703\n",
       "JRNL_ID                                          1_59793\n",
       "given                                           Jason M.\n",
       "family                                           Holland\n",
       "sequence                                      additional\n",
       "affiliation                                           []\n",
       "ORCID                                                NaN\n",
       "authenticated-orcid                                  NaN\n",
       "new_given                                       jason m.\n",
       "new_family                                       holland\n",
       "SA_list                [Psychology, Arts and Humanities]\n",
       "Name: 545947, dtype: object"
      ]
     },
     "execution_count": 38,
     "metadata": {},
     "output_type": "execute_result"
    }
   ],
   "source": [
    "q1_author_df.loc[545947,\"family\"]"
   ]
  },
  {
   "cell_type": "code",
   "execution_count": 39,
   "metadata": {},
   "outputs": [
    {
     "name": "stdout",
     "output_type": "stream",
     "text": [
      "auth_srch has 1 results.\n"
     ]
    }
   ],
   "source": [
    "# 4.8.2 - incl. sbj. area:\n",
    "\n",
    "545947\n",
    "\n",
    "auth_srch = ElsSearch(f'AUTHLAST({q1_author_df.loc[545947,\"family\"]}) AND AUTHFIRST({q1_author_df.loc[545947,\"given\"]}) AND {sbj_area_query_creator(q1_author_df.loc[545947,\"SA_list\"])}','author')\n",
    "auth_srch.execute(client)\n",
    "print (\"auth_srch has\", len(auth_srch.results), \"results.\")"
   ]
  },
  {
   "cell_type": "code",
   "execution_count": 52,
   "metadata": {},
   "outputs": [
    {
     "data": {
      "text/html": [
       "<div>\n",
       "<style scoped>\n",
       "    .dataframe tbody tr th:only-of-type {\n",
       "        vertical-align: middle;\n",
       "    }\n",
       "\n",
       "    .dataframe tbody tr th {\n",
       "        vertical-align: top;\n",
       "    }\n",
       "\n",
       "    .dataframe thead th {\n",
       "        text-align: right;\n",
       "    }\n",
       "</style>\n",
       "<table border=\"1\" class=\"dataframe\">\n",
       "  <thead>\n",
       "    <tr style=\"text-align: right;\">\n",
       "      <th></th>\n",
       "      <th>DOI</th>\n",
       "      <th>JRNL_ID</th>\n",
       "      <th>given</th>\n",
       "      <th>family</th>\n",
       "      <th>sequence</th>\n",
       "      <th>affiliation</th>\n",
       "      <th>ORCID</th>\n",
       "      <th>authenticated-orcid</th>\n",
       "      <th>new_given</th>\n",
       "      <th>new_family</th>\n",
       "      <th>SA_list</th>\n",
       "    </tr>\n",
       "  </thead>\n",
       "  <tbody>\n",
       "    <tr>\n",
       "      <th>339449</th>\n",
       "      <td>10.1155/2019/7276152</td>\n",
       "      <td>1_24233</td>\n",
       "      <td>Bin</td>\n",
       "      <td>Yang</td>\n",
       "      <td>first</td>\n",
       "      <td>[{'name': 'School of Mathematical Science, Hua...</td>\n",
       "      <td>NaN</td>\n",
       "      <td>NaN</td>\n",
       "      <td>bin</td>\n",
       "      <td>yang</td>\n",
       "      <td>[Computer Science, Multidisciplinary]</td>\n",
       "    </tr>\n",
       "  </tbody>\n",
       "</table>\n",
       "</div>"
      ],
      "text/plain": [
       "                         DOI  JRNL_ID given family sequence  \\\n",
       "339449  10.1155/2019/7276152  1_24233   Bin   Yang    first   \n",
       "\n",
       "                                              affiliation ORCID  \\\n",
       "339449  [{'name': 'School of Mathematical Science, Hua...   NaN   \n",
       "\n",
       "       authenticated-orcid new_given new_family  \\\n",
       "339449                 NaN       bin       yang   \n",
       "\n",
       "                                      SA_list  \n",
       "339449  [Computer Science, Multidisciplinary]  "
      ]
     },
     "execution_count": 52,
     "metadata": {},
     "output_type": "execute_result"
    }
   ],
   "source": [
    "q1_author_df.sample(1)"
   ]
  },
  {
   "cell_type": "code",
   "execution_count": 53,
   "metadata": {},
   "outputs": [
    {
     "ename": "TypeError",
     "evalue": "__init__() got an unexpected keyword argument 'count'",
     "output_type": "error",
     "traceback": [
      "\u001b[1;31m---------------------------------------------------------------------------\u001b[0m",
      "\u001b[1;31mTypeError\u001b[0m                                 Traceback (most recent call last)",
      "\u001b[1;32m<ipython-input-53-b16932a1e24f>\u001b[0m in \u001b[0;36m<module>\u001b[1;34m\u001b[0m\n\u001b[0;32m      1\u001b[0m \u001b[1;31m# 4.8.3 - count argument:\u001b[0m\u001b[1;33m\u001b[0m\u001b[1;33m\u001b[0m\u001b[1;33m\u001b[0m\u001b[0m\n\u001b[0;32m      2\u001b[0m \u001b[1;33m\u001b[0m\u001b[0m\n\u001b[1;32m----> 3\u001b[1;33m \u001b[0mauth_srch\u001b[0m \u001b[1;33m=\u001b[0m \u001b[0mElsSearch\u001b[0m\u001b[1;33m(\u001b[0m\u001b[1;34mf'AUTHLAST({q1_author_df.loc[339449,\"family\"]}) AND AUTHFIRST({q1_author_df.loc[339449,\"given\"]}) AND {sbj_area_query_creator(q1_author_df.loc[339449,\"SA_list\"])}'\u001b[0m\u001b[1;33m,\u001b[0m \u001b[1;34m'author'\u001b[0m\u001b[1;33m,\u001b[0m \u001b[0mcount\u001b[0m\u001b[1;33m=\u001b[0m\u001b[1;36m10\u001b[0m\u001b[1;33m)\u001b[0m\u001b[1;33m\u001b[0m\u001b[1;33m\u001b[0m\u001b[0m\n\u001b[0m\u001b[0;32m      4\u001b[0m \u001b[0mauth_srch\u001b[0m\u001b[1;33m.\u001b[0m\u001b[0mexecute\u001b[0m\u001b[1;33m(\u001b[0m\u001b[0mclient\u001b[0m\u001b[1;33m)\u001b[0m\u001b[1;33m\u001b[0m\u001b[1;33m\u001b[0m\u001b[0m\n\u001b[0;32m      5\u001b[0m \u001b[0mprint\u001b[0m \u001b[1;33m(\u001b[0m\u001b[1;34m\"auth_srch has\"\u001b[0m\u001b[1;33m,\u001b[0m \u001b[0mlen\u001b[0m\u001b[1;33m(\u001b[0m\u001b[0mauth_srch\u001b[0m\u001b[1;33m.\u001b[0m\u001b[0mresults\u001b[0m\u001b[1;33m)\u001b[0m\u001b[1;33m,\u001b[0m \u001b[1;34m\"results.\"\u001b[0m\u001b[1;33m)\u001b[0m\u001b[1;33m\u001b[0m\u001b[1;33m\u001b[0m\u001b[0m\n",
      "\u001b[1;31mTypeError\u001b[0m: __init__() got an unexpected keyword argument 'count'"
     ]
    }
   ],
   "source": [
    "# 4.8.3 - count argument:\n",
    "\n",
    "auth_srch = ElsSearch(f'AUTHLAST({q1_author_df.loc[339449,\"family\"]}) AND AUTHFIRST({q1_author_df.loc[339449,\"given\"]}) AND {sbj_area_query_creator(q1_author_df.loc[339449,\"SA_list\"])}', 'author', count=10)\n",
    "auth_srch.execute(client)\n",
    "print (\"auth_srch has\", len(auth_srch.results), \"results.\")"
   ]
  },
  {
   "cell_type": "markdown",
   "metadata": {},
   "source": [
    "It appears that additional params. are not supported by elsapy. However, in elssearch.py the execute function has a default get_all = False, meaning it does not automatically use additional tokens to get all the query results.\n",
    "\n",
    "This means that .count() param is most. prob. not needed. However, still need to understand how to use _upper_limit_reached() param for exception handling!!!"
   ]
  },
  {
   "cell_type": "code",
   "execution_count": 57,
   "metadata": {},
   "outputs": [
    {
     "name": "stdout",
     "output_type": "stream",
     "text": [
      "auth_srch has 25 results.\n"
     ]
    }
   ],
   "source": [
    "# 4.8.3 - _upper_limit_reached argument:\n",
    "\n",
    "# .loc[70] is Wei Yu, which will work nicely \n",
    "\n",
    "auth_srch = ElsSearch(f'AUTHLAST({q1_author_df.loc[70,\"family\"]}) AND AUTHFIRST({q1_author_df.loc[70,\"given\"]}) AND {sbj_area_query_creator(q1_author_df.loc[70,\"SA_list\"])}', 'author')\n",
    "auth_srch.execute(client)\n",
    "print (\"auth_srch has\", len(auth_srch.results), \"results.\")"
   ]
  },
  {
   "cell_type": "code",
   "execution_count": 60,
   "metadata": {},
   "outputs": [
    {
     "data": {
      "text/plain": [
       "False"
      ]
     },
     "execution_count": 60,
     "metadata": {},
     "output_type": "execute_result"
    }
   ],
   "source": [
    "auth_srch._upper_limit_reached()"
   ]
  },
  {
   "cell_type": "code",
   "execution_count": null,
   "metadata": {},
   "outputs": [],
   "source": [
    "# Didn't work will try Wei Wang instead"
   ]
  },
  {
   "cell_type": "code",
   "execution_count": 73,
   "metadata": {},
   "outputs": [
    {
     "name": "stdout",
     "output_type": "stream",
     "text": [
      "auth_srch has 25 results.\n"
     ]
    }
   ],
   "source": [
    "# 4.8.3 - _upper_limit_reached argument - TAKE 2:\n",
    "\n",
    "\n",
    "\n",
    "auth_srch = ElsSearch('AUTHLAST(wang) AND AUTHFIRST(wei)', 'author')\n",
    "auth_srch.execute(client)\n",
    "print (\"auth_srch has\", len(auth_srch.results), \"results.\")"
   ]
  },
  {
   "cell_type": "code",
   "execution_count": 75,
   "metadata": {},
   "outputs": [
    {
     "data": {
      "text/plain": [
       "17043"
      ]
     },
     "execution_count": 75,
     "metadata": {},
     "output_type": "execute_result"
    }
   ],
   "source": [
    "auth_srch.tot_num_res"
   ]
  },
  {
   "cell_type": "code",
   "execution_count": 74,
   "metadata": {},
   "outputs": [
    {
     "data": {
      "text/plain": [
       "False"
      ]
     },
     "execution_count": 74,
     "metadata": {},
     "output_type": "execute_result"
    }
   ],
   "source": [
    "auth_srch._upper_limit_reached()"
   ]
  },
  {
   "cell_type": "markdown",
   "metadata": {},
   "source": [
    "Thanks to Wei Wang, this debate is also settled! Because the elsapy pack. is so amazing, it will retr. the first 25 results even if the total num is over the API threshold of 5K.\n",
    "\n",
    "Meaning, we don't have to use any kind of error handling!"
   ]
  },
  {
   "cell_type": "markdown",
   "metadata": {},
   "source": [
    "This means that after a final trial we are ready to create a loop & use all the API keys available get info for first authors! "
   ]
  },
  {
   "cell_type": "code",
   "execution_count": null,
   "metadata": {},
   "outputs": [],
   "source": []
  },
  {
   "cell_type": "code",
   "execution_count": 63,
   "metadata": {},
   "outputs": [],
   "source": [
    "with open(\"author_records\", \"rb\") as fp:\n",
    "    author_records = pickle.load(fp)"
   ]
  },
  {
   "cell_type": "code",
   "execution_count": 71,
   "metadata": {},
   "outputs": [
    {
     "data": {
      "text/html": [
       "<div>\n",
       "<style scoped>\n",
       "    .dataframe tbody tr th:only-of-type {\n",
       "        vertical-align: middle;\n",
       "    }\n",
       "\n",
       "    .dataframe tbody tr th {\n",
       "        vertical-align: top;\n",
       "    }\n",
       "\n",
       "    .dataframe thead th {\n",
       "        text-align: right;\n",
       "    }\n",
       "</style>\n",
       "<table border=\"1\" class=\"dataframe\">\n",
       "  <thead>\n",
       "    <tr style=\"text-align: right;\">\n",
       "      <th></th>\n",
       "      <th>new_given</th>\n",
       "      <th>new_family</th>\n",
       "      <th>SA_list</th>\n",
       "      <th>affil</th>\n",
       "    </tr>\n",
       "  </thead>\n",
       "  <tbody>\n",
       "    <tr>\n",
       "      <th>0</th>\n",
       "      <td>yichuan</td>\n",
       "      <td>xiao</td>\n",
       "      <td>[Biochemistry, Genetics and Molecular Biology]</td>\n",
       "      <td>[China, China, China, China]</td>\n",
       "    </tr>\n",
       "    <tr>\n",
       "      <th>10</th>\n",
       "      <td>hainan</td>\n",
       "      <td>liu</td>\n",
       "      <td>[Medicine]</td>\n",
       "      <td>[China, China, China, China, None, None]</td>\n",
       "    </tr>\n",
       "    <tr>\n",
       "      <th>11</th>\n",
       "      <td>yougen</td>\n",
       "      <td>chen</td>\n",
       "      <td>[Physics and Astronomy, Materials Science, Mat...</td>\n",
       "      <td>[China]</td>\n",
       "    </tr>\n",
       "    <tr>\n",
       "      <th>36</th>\n",
       "      <td>wei</td>\n",
       "      <td>li</td>\n",
       "      <td>[Energy, Engineering]</td>\n",
       "      <td>[United States, China, China, China, China, Ch...</td>\n",
       "    </tr>\n",
       "    <tr>\n",
       "      <th>40</th>\n",
       "      <td>john r.</td>\n",
       "      <td>agudelo</td>\n",
       "      <td>[Energy, Engineering]</td>\n",
       "      <td>Too many results!</td>\n",
       "    </tr>\n",
       "    <tr>\n",
       "      <th>41</th>\n",
       "      <td>j.</td>\n",
       "      <td>isselstein</td>\n",
       "      <td>[Environmental Science, Agricultural and Biolo...</td>\n",
       "      <td>Too many results!</td>\n",
       "    </tr>\n",
       "    <tr>\n",
       "      <th>42</th>\n",
       "      <td>yanke</td>\n",
       "      <td>zhang</td>\n",
       "      <td>[Multidisciplinary]</td>\n",
       "      <td>Too many results!</td>\n",
       "    </tr>\n",
       "    <tr>\n",
       "      <th>43</th>\n",
       "      <td>wei</td>\n",
       "      <td>wang</td>\n",
       "      <td>[Chemistry]</td>\n",
       "      <td>Too many results!</td>\n",
       "    </tr>\n",
       "    <tr>\n",
       "      <th>44</th>\n",
       "      <td>he qing</td>\n",
       "      <td>huang</td>\n",
       "      <td>[Earth and Planetary Sciences, Environmental S...</td>\n",
       "      <td>Too many results!</td>\n",
       "    </tr>\n",
       "    <tr>\n",
       "      <th>45</th>\n",
       "      <td>fatima r.</td>\n",
       "      <td>qadri</td>\n",
       "      <td>[Medicine]</td>\n",
       "      <td>Too many results!</td>\n",
       "    </tr>\n",
       "    <tr>\n",
       "      <th>46</th>\n",
       "      <td>jos m.</td>\n",
       "      <td>raaijmakers</td>\n",
       "      <td>[Agricultural and Biological Sciences, Medicin...</td>\n",
       "      <td>Too many results!</td>\n",
       "    </tr>\n",
       "    <tr>\n",
       "      <th>47</th>\n",
       "      <td>daniel</td>\n",
       "      <td>bourbonnais</td>\n",
       "      <td>[Health Professions]</td>\n",
       "      <td>Too many results!</td>\n",
       "    </tr>\n",
       "    <tr>\n",
       "      <th>48</th>\n",
       "      <td>xuan</td>\n",
       "      <td>chen</td>\n",
       "      <td>[Earth and Planetary Sciences, Energy]</td>\n",
       "      <td>Too many results!</td>\n",
       "    </tr>\n",
       "    <tr>\n",
       "      <th>49</th>\n",
       "      <td>M. C.</td>\n",
       "      <td>leguy</td>\n",
       "      <td>[Biochemistry, Genetics and Molecular Biology]</td>\n",
       "      <td>Too many results!</td>\n",
       "    </tr>\n",
       "    <tr>\n",
       "      <th>50</th>\n",
       "      <td>michael</td>\n",
       "      <td>winkler</td>\n",
       "      <td>[Mathematics, Engineering]</td>\n",
       "      <td>NaN</td>\n",
       "    </tr>\n",
       "    <tr>\n",
       "      <th>51</th>\n",
       "      <td>sunghyup</td>\n",
       "      <td>sean hyun</td>\n",
       "      <td>[Business, Management and Accounting]</td>\n",
       "      <td>NaN</td>\n",
       "    </tr>\n",
       "    <tr>\n",
       "      <th>52</th>\n",
       "      <td>mantong</td>\n",
       "      <td>jin</td>\n",
       "      <td>[Environmental Science]</td>\n",
       "      <td>NaN</td>\n",
       "    </tr>\n",
       "    <tr>\n",
       "      <th>53</th>\n",
       "      <td>o.</td>\n",
       "      <td>er</td>\n",
       "      <td>[Dentistry]</td>\n",
       "      <td>NaN</td>\n",
       "    </tr>\n",
       "    <tr>\n",
       "      <th>54</th>\n",
       "      <td>wakako</td>\n",
       "      <td>nishikawa</td>\n",
       "      <td>[Pharmacology, Toxicology and Pharmaceutics, I...</td>\n",
       "      <td>NaN</td>\n",
       "    </tr>\n",
       "    <tr>\n",
       "      <th>55</th>\n",
       "      <td>tae-jong</td>\n",
       "      <td>kim</td>\n",
       "      <td>[Engineering, Computer Science, Materials Scie...</td>\n",
       "      <td>NaN</td>\n",
       "    </tr>\n",
       "    <tr>\n",
       "      <th>56</th>\n",
       "      <td>chunhong</td>\n",
       "      <td>li</td>\n",
       "      <td>[Neuroscience, Medicine]</td>\n",
       "      <td>NaN</td>\n",
       "    </tr>\n",
       "    <tr>\n",
       "      <th>57</th>\n",
       "      <td>n.</td>\n",
       "      <td>yuki</td>\n",
       "      <td>[Neuroscience, Medicine]</td>\n",
       "      <td>NaN</td>\n",
       "    </tr>\n",
       "    <tr>\n",
       "      <th>58</th>\n",
       "      <td>l. jeff</td>\n",
       "      <td>hong</td>\n",
       "      <td>[Computer Science, Decision Sciences]</td>\n",
       "      <td>NaN</td>\n",
       "    </tr>\n",
       "    <tr>\n",
       "      <th>59</th>\n",
       "      <td>mark</td>\n",
       "      <td>hoefer</td>\n",
       "      <td>[Engineering, Chemical Engineering]</td>\n",
       "      <td>NaN</td>\n",
       "    </tr>\n",
       "    <tr>\n",
       "      <th>64</th>\n",
       "      <td>fang</td>\n",
       "      <td>liu</td>\n",
       "      <td>[Biochemistry, Genetics and Molecular Biology]</td>\n",
       "      <td>[China, China, China, China, China, China, Chi...</td>\n",
       "    </tr>\n",
       "    <tr>\n",
       "      <th>65</th>\n",
       "      <td>ran</td>\n",
       "      <td>zhang</td>\n",
       "      <td>[Immunology and Microbiology, Biochemistry, Ge...</td>\n",
       "      <td>[China, China, China]</td>\n",
       "    </tr>\n",
       "  </tbody>\n",
       "</table>\n",
       "</div>"
      ],
      "text/plain": [
       "    new_given   new_family                                            SA_list  \\\n",
       "0     yichuan         xiao     [Biochemistry, Genetics and Molecular Biology]   \n",
       "10     hainan          liu                                         [Medicine]   \n",
       "11     yougen         chen  [Physics and Astronomy, Materials Science, Mat...   \n",
       "36        wei           li                              [Energy, Engineering]   \n",
       "40    john r.      agudelo                              [Energy, Engineering]   \n",
       "41         j.   isselstein  [Environmental Science, Agricultural and Biolo...   \n",
       "42      yanke        zhang                                [Multidisciplinary]   \n",
       "43        wei         wang                                        [Chemistry]   \n",
       "44    he qing        huang  [Earth and Planetary Sciences, Environmental S...   \n",
       "45  fatima r.        qadri                                         [Medicine]   \n",
       "46     jos m.  raaijmakers  [Agricultural and Biological Sciences, Medicin...   \n",
       "47     daniel  bourbonnais                               [Health Professions]   \n",
       "48       xuan         chen             [Earth and Planetary Sciences, Energy]   \n",
       "49      M. C.        leguy     [Biochemistry, Genetics and Molecular Biology]   \n",
       "50    michael      winkler                         [Mathematics, Engineering]   \n",
       "51   sunghyup    sean hyun              [Business, Management and Accounting]   \n",
       "52    mantong          jin                            [Environmental Science]   \n",
       "53         o.           er                                        [Dentistry]   \n",
       "54     wakako    nishikawa  [Pharmacology, Toxicology and Pharmaceutics, I...   \n",
       "55   tae-jong          kim  [Engineering, Computer Science, Materials Scie...   \n",
       "56   chunhong           li                           [Neuroscience, Medicine]   \n",
       "57         n.         yuki                           [Neuroscience, Medicine]   \n",
       "58    l. jeff         hong              [Computer Science, Decision Sciences]   \n",
       "59       mark       hoefer                [Engineering, Chemical Engineering]   \n",
       "64       fang          liu     [Biochemistry, Genetics and Molecular Biology]   \n",
       "65        ran        zhang  [Immunology and Microbiology, Biochemistry, Ge...   \n",
       "\n",
       "                                                affil  \n",
       "0                        [China, China, China, China]  \n",
       "10           [China, China, China, China, None, None]  \n",
       "11                                            [China]  \n",
       "36  [United States, China, China, China, China, Ch...  \n",
       "40                                  Too many results!  \n",
       "41                                  Too many results!  \n",
       "42                                  Too many results!  \n",
       "43                                  Too many results!  \n",
       "44                                  Too many results!  \n",
       "45                                  Too many results!  \n",
       "46                                  Too many results!  \n",
       "47                                  Too many results!  \n",
       "48                                  Too many results!  \n",
       "49                                  Too many results!  \n",
       "50                                                NaN  \n",
       "51                                                NaN  \n",
       "52                                                NaN  \n",
       "53                                                NaN  \n",
       "54                                                NaN  \n",
       "55                                                NaN  \n",
       "56                                                NaN  \n",
       "57                                                NaN  \n",
       "58                                                NaN  \n",
       "59                                                NaN  \n",
       "64  [China, China, China, China, China, China, Chi...  \n",
       "65                              [China, China, China]  "
      ]
     },
     "execution_count": 71,
     "metadata": {},
     "output_type": "execute_result"
    }
   ],
   "source": [
    "pd.DataFrame(author_records)[]pd.DataFrame(author_records)[\"affil\"].map(lambda x: \"China\" in x if type(x)== list else True)"
   ]
  },
  {
   "cell_type": "markdown",
   "metadata": {},
   "source": [
    "#### 4.9 - Final Checks:"
   ]
  },
  {
   "cell_type": "code",
   "execution_count": 101,
   "metadata": {},
   "outputs": [
    {
     "data": {
      "text/html": [
       "<div>\n",
       "<style scoped>\n",
       "    .dataframe tbody tr th:only-of-type {\n",
       "        vertical-align: middle;\n",
       "    }\n",
       "\n",
       "    .dataframe tbody tr th {\n",
       "        vertical-align: top;\n",
       "    }\n",
       "\n",
       "    .dataframe thead th {\n",
       "        text-align: right;\n",
       "    }\n",
       "</style>\n",
       "<table border=\"1\" class=\"dataframe\">\n",
       "  <thead>\n",
       "    <tr style=\"text-align: right;\">\n",
       "      <th></th>\n",
       "      <th>DOI</th>\n",
       "      <th>JRNL_ID</th>\n",
       "      <th>given</th>\n",
       "      <th>family</th>\n",
       "      <th>sequence</th>\n",
       "      <th>affiliation</th>\n",
       "      <th>ORCID</th>\n",
       "      <th>authenticated-orcid</th>\n",
       "      <th>new_given</th>\n",
       "      <th>new_family</th>\n",
       "      <th>SA_list</th>\n",
       "    </tr>\n",
       "  </thead>\n",
       "  <tbody>\n",
       "    <tr>\n",
       "      <th>216615</th>\n",
       "      <td>10.1016/j.jss.2012.05.024</td>\n",
       "      <td>1_9552</td>\n",
       "      <td>Rory V.</td>\n",
       "      <td>O’Connor</td>\n",
       "      <td>additional</td>\n",
       "      <td>[]</td>\n",
       "      <td>NaN</td>\n",
       "      <td>NaN</td>\n",
       "      <td>rory v.</td>\n",
       "      <td>o’connor</td>\n",
       "      <td>[Computer Science]</td>\n",
       "    </tr>\n",
       "  </tbody>\n",
       "</table>\n",
       "</div>"
      ],
      "text/plain": [
       "                              DOI JRNL_ID    given    family    sequence  \\\n",
       "216615  10.1016/j.jss.2012.05.024  1_9552  Rory V.  O’Connor  additional   \n",
       "\n",
       "       affiliation ORCID authenticated-orcid new_given new_family  \\\n",
       "216615          []   NaN                 NaN   rory v.   o’connor   \n",
       "\n",
       "                   SA_list  \n",
       "216615  [Computer Science]  "
      ]
     },
     "execution_count": 101,
     "metadata": {},
     "output_type": "execute_result"
    }
   ],
   "source": [
    "q1_author_df.sample(1)"
   ]
  },
  {
   "cell_type": "code",
   "execution_count": 79,
   "metadata": {},
   "outputs": [],
   "source": [
    "n = AuthorSearch(f'AUTHLAST({q1_author_df.loc[106178,\"family\"]}) AND AUTHFIRST({q1_author_df.loc[106178,\"family\"]}) AND {sbj_area_query_creator(q1_author_df.loc[106178,\"SA_list\"])}')\n"
   ]
  },
  {
   "cell_type": "code",
   "execution_count": 81,
   "metadata": {},
   "outputs": [
    {
     "data": {
      "text/plain": [
       "25"
      ]
     },
     "execution_count": 81,
     "metadata": {},
     "output_type": "execute_result"
    }
   ],
   "source": [
    "len(n.authors)"
   ]
  },
  {
   "cell_type": "code",
   "execution_count": 82,
   "metadata": {},
   "outputs": [
    {
     "data": {
      "text/plain": [
       "'4552'"
      ]
     },
     "execution_count": 82,
     "metadata": {},
     "output_type": "execute_result"
    }
   ],
   "source": [
    "n.get_key_remaining_quota()"
   ]
  },
  {
   "cell_type": "code",
   "execution_count": 83,
   "metadata": {},
   "outputs": [
    {
     "name": "stdout",
     "output_type": "stream",
     "text": [
      "auth_srch has 25 results.\n"
     ]
    }
   ],
   "source": [
    "auth_srch = ElsSearch(f'AUTHLAST({q1_author_df.loc[106178,\"family\"]}) AND AUTHFIRST({q1_author_df.loc[106178,\"family\"]}) AND {sbj_area_query_creator(q1_author_df.loc[106178,\"SA_list\"])}', 'author')\n",
    "auth_srch.execute(client)\n",
    "print (\"auth_srch has\", len(auth_srch.results), \"results.\")"
   ]
  },
  {
   "cell_type": "code",
   "execution_count": 84,
   "metadata": {},
   "outputs": [
    {
     "data": {
      "text/plain": [
       "25"
      ]
     },
     "execution_count": 84,
     "metadata": {},
     "output_type": "execute_result"
    }
   ],
   "source": [
    "auth_srch.tot_num_res"
   ]
  },
  {
   "cell_type": "code",
   "execution_count": 85,
   "metadata": {},
   "outputs": [
    {
     "name": "stdout",
     "output_type": "stream",
     "text": [
      "auth_srch has 25 results.\n"
     ]
    }
   ],
   "source": [
    "auth_srch = ElsSearch(f'AUTHLAST({q1_author_df.loc[106178,\"family\"]}) AND AUTHFIRST({q1_author_df.loc[106178,\"family\"]})', 'author')\n",
    "auth_srch.execute(client)\n",
    "print (\"auth_srch has\", len(auth_srch.results), \"results.\")"
   ]
  },
  {
   "cell_type": "code",
   "execution_count": 87,
   "metadata": {},
   "outputs": [],
   "source": [
    "n = AuthorSearch(f'AUTHLAST({q1_author_df.loc[215508,\"family\"]}) AND AUTHFIRST({q1_author_df.loc[215508,\"family\"]}) AND {sbj_area_query_creator(q1_author_df.loc[215508,\"SA_list\"])}')\n"
   ]
  },
  {
   "cell_type": "code",
   "execution_count": 88,
   "metadata": {},
   "outputs": [],
   "source": [
    "n.authors"
   ]
  },
  {
   "cell_type": "code",
   "execution_count": 89,
   "metadata": {},
   "outputs": [
    {
     "data": {
      "text/plain": [
       "'4549'"
      ]
     },
     "execution_count": 89,
     "metadata": {},
     "output_type": "execute_result"
    }
   ],
   "source": [
    "n.get_key_remaining_quota()"
   ]
  },
  {
   "cell_type": "markdown",
   "metadata": {},
   "source": [
    "The numbers add up again! Meaning the elsapy package uses a single token for each query.\n",
    "\n",
    "However, as this package does not store the results, it is important to save everything retrieved to prevent repeat queries!\n",
    "\n",
    "Now the only thing left for this nb is to create a loop for first authors!!!"
   ]
  },
  {
   "cell_type": "markdown",
   "metadata": {},
   "source": [
    "### Part 5 - The ELSAPY LOOP:"
   ]
  },
  {
   "cell_type": "markdown",
   "metadata": {},
   "source": [
    "#### 5.1 - Creating q1_first_author_df & Validating datasets before the loop!\n"
   ]
  },
  {
   "cell_type": "code",
   "execution_count": 106,
   "metadata": {},
   "outputs": [
    {
     "data": {
      "text/plain": [
       "159711"
      ]
     },
     "execution_count": 106,
     "metadata": {},
     "output_type": "execute_result"
    }
   ],
   "source": [
    "len(q1_author_df[q1_author_df.sequence == \"first\"])"
   ]
  },
  {
   "cell_type": "code",
   "execution_count": 107,
   "metadata": {},
   "outputs": [],
   "source": [
    "# Creating a first author df\n",
    "# Using .groupby() to have DOI & SA_list columns \n",
    "\n",
    "\n",
    "q1_first_author_df = q1_author_df[q1_author_df.sequence == \"first\"].groupby([\"new_given\", \"new_family\"])[\"SA_list\"].apply(list)\n",
    "\n",
    "q1_first_author_df = q1_first_author_df.to_frame().merge(q1_author_df[q1_author_df.sequence == \"first\"].groupby([\"new_given\", \"new_family\"])[\"DOI\"].apply(list), how= \"inner\", right_index=True, left_index=True)"
   ]
  },
  {
   "cell_type": "code",
   "execution_count": 131,
   "metadata": {},
   "outputs": [],
   "source": [
    "q1_first_author_df.reset_index(inplace=True)"
   ]
  },
  {
   "cell_type": "code",
   "execution_count": 137,
   "metadata": {},
   "outputs": [
    {
     "data": {
      "text/html": [
       "<div>\n",
       "<style scoped>\n",
       "    .dataframe tbody tr th:only-of-type {\n",
       "        vertical-align: middle;\n",
       "    }\n",
       "\n",
       "    .dataframe tbody tr th {\n",
       "        vertical-align: top;\n",
       "    }\n",
       "\n",
       "    .dataframe thead th {\n",
       "        text-align: right;\n",
       "    }\n",
       "</style>\n",
       "<table border=\"1\" class=\"dataframe\">\n",
       "  <thead>\n",
       "    <tr style=\"text-align: right;\">\n",
       "      <th></th>\n",
       "      <th>new_given</th>\n",
       "      <th>new_family</th>\n",
       "      <th>SA_list</th>\n",
       "      <th>DOI</th>\n",
       "    </tr>\n",
       "  </thead>\n",
       "  <tbody>\n",
       "    <tr>\n",
       "      <th>0</th>\n",
       "      <td></td>\n",
       "      <td></td>\n",
       "      <td>[[Arts and Humanities]]</td>\n",
       "      <td>[10.1177/1606822x14528636]</td>\n",
       "    </tr>\n",
       "    <tr>\n",
       "      <th>1</th>\n",
       "      <td>jing</td>\n",
       "      <td>cai</td>\n",
       "      <td>[[Social Sciences, Arts and Humanities]]</td>\n",
       "      <td>[10.1016/j.jeap.2016.09.002]</td>\n",
       "    </tr>\n",
       "    <tr>\n",
       "      <th>2</th>\n",
       "      <td>qing</td>\n",
       "      <td>hao</td>\n",
       "      <td>[[Economics, Econometrics and Finance]]</td>\n",
       "      <td>[10.1016/j.finmar.2015.11.003]</td>\n",
       "    </tr>\n",
       "    <tr>\n",
       "      <th>3</th>\n",
       "      <td>yong</td>\n",
       "      <td>zhou</td>\n",
       "      <td>[[Business, Management and Accounting]]</td>\n",
       "      <td>[10.1080/10548408.2015.1075933]</td>\n",
       "    </tr>\n",
       "    <tr>\n",
       "      <th>4</th>\n",
       "      <td>.</td>\n",
       "      <td>jasmin</td>\n",
       "      <td>[[Immunology and Microbiology, Chemical Engine...</td>\n",
       "      <td>[10.1186/1477-3155-9-4, 10.1186/1477-3155-9-12]</td>\n",
       "    </tr>\n",
       "  </tbody>\n",
       "</table>\n",
       "</div>"
      ],
      "text/plain": [
       "  new_given new_family                                            SA_list  \\\n",
       "0                                                 [[Arts and Humanities]]   \n",
       "1      jing        cai           [[Social Sciences, Arts and Humanities]]   \n",
       "2      qing        hao            [[Economics, Econometrics and Finance]]   \n",
       "3      yong       zhou            [[Business, Management and Accounting]]   \n",
       "4         .     jasmin  [[Immunology and Microbiology, Chemical Engine...   \n",
       "\n",
       "                                               DOI  \n",
       "0                       [10.1177/1606822x14528636]  \n",
       "1                     [10.1016/j.jeap.2016.09.002]  \n",
       "2                   [10.1016/j.finmar.2015.11.003]  \n",
       "3                  [10.1080/10548408.2015.1075933]  \n",
       "4  [10.1186/1477-3155-9-4, 10.1186/1477-3155-9-12]  "
      ]
     },
     "execution_count": 137,
     "metadata": {},
     "output_type": "execute_result"
    }
   ],
   "source": [
    "q1_first_author_df[:5]"
   ]
  },
  {
   "cell_type": "markdown",
   "metadata": {},
   "source": [
    "The first author has empty strings for name & surname. Must be dropped!\n",
    "\n",
    "---\n",
    "\n",
    "Will analyse the dataset to see if there are any other similar issues!"
   ]
  },
  {
   "cell_type": "code",
   "execution_count": 138,
   "metadata": {},
   "outputs": [],
   "source": [
    "import regex as re"
   ]
  },
  {
   "cell_type": "code",
   "execution_count": 141,
   "metadata": {},
   "outputs": [
    {
     "data": {
      "text/html": [
       "<div>\n",
       "<style scoped>\n",
       "    .dataframe tbody tr th:only-of-type {\n",
       "        vertical-align: middle;\n",
       "    }\n",
       "\n",
       "    .dataframe tbody tr th {\n",
       "        vertical-align: top;\n",
       "    }\n",
       "\n",
       "    .dataframe thead th {\n",
       "        text-align: right;\n",
       "    }\n",
       "</style>\n",
       "<table border=\"1\" class=\"dataframe\">\n",
       "  <thead>\n",
       "    <tr style=\"text-align: right;\">\n",
       "      <th></th>\n",
       "      <th>new_given</th>\n",
       "      <th>new_family</th>\n",
       "      <th>SA_list</th>\n",
       "      <th>DOI</th>\n",
       "    </tr>\n",
       "  </thead>\n",
       "  <tbody>\n",
       "    <tr>\n",
       "      <th>1</th>\n",
       "      <td>jing</td>\n",
       "      <td>cai</td>\n",
       "      <td>[[Social Sciences, Arts and Humanities]]</td>\n",
       "      <td>[10.1016/j.jeap.2016.09.002]</td>\n",
       "    </tr>\n",
       "    <tr>\n",
       "      <th>2</th>\n",
       "      <td>qing</td>\n",
       "      <td>hao</td>\n",
       "      <td>[[Economics, Econometrics and Finance]]</td>\n",
       "      <td>[10.1016/j.finmar.2015.11.003]</td>\n",
       "    </tr>\n",
       "    <tr>\n",
       "      <th>3</th>\n",
       "      <td>yong</td>\n",
       "      <td>zhou</td>\n",
       "      <td>[[Business, Management and Accounting]]</td>\n",
       "      <td>[10.1080/10548408.2015.1075933]</td>\n",
       "    </tr>\n",
       "    <tr>\n",
       "      <th>4</th>\n",
       "      <td>.</td>\n",
       "      <td>jasmin</td>\n",
       "      <td>[[Immunology and Microbiology, Chemical Engine...</td>\n",
       "      <td>[10.1186/1477-3155-9-4, 10.1186/1477-3155-9-12]</td>\n",
       "    </tr>\n",
       "  </tbody>\n",
       "</table>\n",
       "</div>"
      ],
      "text/plain": [
       "  new_given new_family                                            SA_list  \\\n",
       "1      jing        cai           [[Social Sciences, Arts and Humanities]]   \n",
       "2      qing        hao            [[Economics, Econometrics and Finance]]   \n",
       "3      yong       zhou            [[Business, Management and Accounting]]   \n",
       "4         .     jasmin  [[Immunology and Microbiology, Chemical Engine...   \n",
       "\n",
       "                                               DOI  \n",
       "1                     [10.1016/j.jeap.2016.09.002]  \n",
       "2                   [10.1016/j.finmar.2015.11.003]  \n",
       "3                  [10.1080/10548408.2015.1075933]  \n",
       "4  [10.1186/1477-3155-9-4, 10.1186/1477-3155-9-12]  "
      ]
     },
     "execution_count": 141,
     "metadata": {},
     "output_type": "execute_result"
    }
   ],
   "source": [
    "q1_first_author_df[q1_first_author_df.new_given.map(lambda x: bool(re.match(\"\\W\",x)))]"
   ]
  },
  {
   "cell_type": "code",
   "execution_count": 144,
   "metadata": {},
   "outputs": [
    {
     "data": {
      "text/html": [
       "<div>\n",
       "<style scoped>\n",
       "    .dataframe tbody tr th:only-of-type {\n",
       "        vertical-align: middle;\n",
       "    }\n",
       "\n",
       "    .dataframe tbody tr th {\n",
       "        vertical-align: top;\n",
       "    }\n",
       "\n",
       "    .dataframe thead th {\n",
       "        text-align: right;\n",
       "    }\n",
       "</style>\n",
       "<table border=\"1\" class=\"dataframe\">\n",
       "  <thead>\n",
       "    <tr style=\"text-align: right;\">\n",
       "      <th></th>\n",
       "      <th>new_given</th>\n",
       "      <th>new_family</th>\n",
       "      <th>SA_list</th>\n",
       "      <th>DOI</th>\n",
       "    </tr>\n",
       "  </thead>\n",
       "  <tbody>\n",
       "    <tr>\n",
       "      <th>36688</th>\n",
       "      <td>douglas</td>\n",
       "      <td>fairhurst</td>\n",
       "      <td>[[Economics, Econometrics and Finance]]</td>\n",
       "      <td>[10.1016/j.jbankfin.2020.105907]</td>\n",
       "    </tr>\n",
       "    <tr>\n",
       "      <th>46722</th>\n",
       "      <td>gensheng</td>\n",
       "      <td>liu</td>\n",
       "      <td>[[Computer Science, Engineering, Business, Man...</td>\n",
       "      <td>[10.1108/jmtm-08-2017-0162]</td>\n",
       "    </tr>\n",
       "    <tr>\n",
       "      <th>49031</th>\n",
       "      <td>guangling</td>\n",
       "      <td>liu</td>\n",
       "      <td>[[Economics, Econometrics and Finance]]</td>\n",
       "      <td>[10.1108/01443581011043573]</td>\n",
       "    </tr>\n",
       "    <tr>\n",
       "      <th>60680</th>\n",
       "      <td>jasmine</td>\n",
       "      <td>chang</td>\n",
       "      <td>[[Decision Sciences, Business, Management and ...</td>\n",
       "      <td>[10.1016/j.omega.2018.03.001]</td>\n",
       "    </tr>\n",
       "    <tr>\n",
       "      <th>63867</th>\n",
       "      <td>jie</td>\n",
       "      <td>zhang</td>\n",
       "      <td>[[Economics, Econometrics and Finance, Environ...</td>\n",
       "      <td>[10.1016/j.infoecopol.2015.10.002]</td>\n",
       "    </tr>\n",
       "    <tr>\n",
       "      <th>65816</th>\n",
       "      <td>john</td>\n",
       "      <td>jiang</td>\n",
       "      <td>[[Business, Management and Accounting, Economi...</td>\n",
       "      <td>[10.1016/j.jfineco.2010.02.007]</td>\n",
       "    </tr>\n",
       "    <tr>\n",
       "      <th>76930</th>\n",
       "      <td>laura</td>\n",
       "      <td>wahlen</td>\n",
       "      <td>[[Immunology and Microbiology, Agricultural an...</td>\n",
       "      <td>[10.1080/08927014.2016.1192155]</td>\n",
       "    </tr>\n",
       "    <tr>\n",
       "      <th>104492</th>\n",
       "      <td>peng</td>\n",
       "      <td>chen</td>\n",
       "      <td>[[Engineering, Decision Sciences, Social Scien...</td>\n",
       "      <td>[10.1016/j.trb.2014.11.007]</td>\n",
       "    </tr>\n",
       "    <tr>\n",
       "      <th>113548</th>\n",
       "      <td>ruey‐jer</td>\n",
       "      <td>jean</td>\n",
       "      <td>[[Business, Management and Accounting]]</td>\n",
       "      <td>[10.1108/02651331011037520]</td>\n",
       "    </tr>\n",
       "    <tr>\n",
       "      <th>123108</th>\n",
       "      <td>soocheong</td>\n",
       "      <td>jang</td>\n",
       "      <td>[[Business, Management and Accounting]]</td>\n",
       "      <td>[10.1108/09596111111129995]</td>\n",
       "    </tr>\n",
       "    <tr>\n",
       "      <th>145046</th>\n",
       "      <td>zhen</td>\n",
       "      <td>qian</td>\n",
       "      <td>[[Engineering, Decision Sciences, Social Scien...</td>\n",
       "      <td>[10.1016/j.trb.2017.01.011]</td>\n",
       "    </tr>\n",
       "  </tbody>\n",
       "</table>\n",
       "</div>"
      ],
      "text/plain": [
       "        new_given  new_family  \\\n",
       "36688     douglas   fairhurst   \n",
       "46722    gensheng         liu   \n",
       "49031   guangling         liu   \n",
       "60680     jasmine       chang   \n",
       "63867         jie       zhang   \n",
       "65816        john       jiang   \n",
       "76930       laura      wahlen   \n",
       "104492       peng        chen   \n",
       "113548   ruey‐jer        jean   \n",
       "123108  soocheong        jang   \n",
       "145046       zhen        qian   \n",
       "\n",
       "                                                  SA_list  \\\n",
       "36688             [[Economics, Econometrics and Finance]]   \n",
       "46722   [[Computer Science, Engineering, Business, Man...   \n",
       "49031             [[Economics, Econometrics and Finance]]   \n",
       "60680   [[Decision Sciences, Business, Management and ...   \n",
       "63867   [[Economics, Econometrics and Finance, Environ...   \n",
       "65816   [[Business, Management and Accounting, Economi...   \n",
       "76930   [[Immunology and Microbiology, Agricultural an...   \n",
       "104492  [[Engineering, Decision Sciences, Social Scien...   \n",
       "113548            [[Business, Management and Accounting]]   \n",
       "123108            [[Business, Management and Accounting]]   \n",
       "145046  [[Engineering, Decision Sciences, Social Scien...   \n",
       "\n",
       "                                       DOI  \n",
       "36688     [10.1016/j.jbankfin.2020.105907]  \n",
       "46722          [10.1108/jmtm-08-2017-0162]  \n",
       "49031          [10.1108/01443581011043573]  \n",
       "60680        [10.1016/j.omega.2018.03.001]  \n",
       "63867   [10.1016/j.infoecopol.2015.10.002]  \n",
       "65816      [10.1016/j.jfineco.2010.02.007]  \n",
       "76930      [10.1080/08927014.2016.1192155]  \n",
       "104492         [10.1016/j.trb.2014.11.007]  \n",
       "113548         [10.1108/02651331011037520]  \n",
       "123108         [10.1108/09596111111129995]  \n",
       "145046         [10.1016/j.trb.2017.01.011]  "
      ]
     },
     "execution_count": 144,
     "metadata": {},
     "output_type": "execute_result"
    }
   ],
   "source": [
    "q1_first_author_df[q1_first_author_df.new_family.map(lambda x: bool(re.match(\"\\s\",x)))]"
   ]
  },
  {
   "cell_type": "markdown",
   "metadata": {},
   "source": [
    "It is seen that the after-process .strip() was executed on family & given and not the \"new_\" counterparts! This is a mistake on my end & will fix below and check for mistakes again!"
   ]
  },
  {
   "cell_type": "code",
   "execution_count": 148,
   "metadata": {},
   "outputs": [],
   "source": [
    "q1_author_df.new_given = q1_author_df.new_given.str.strip()\n",
    "q1_author_df.new_family = q1_author_df.new_family.str.strip()\n",
    "\n",
    "q1_first_author_df.new_given = q1_first_author_df.new_given.str.strip()\n",
    "q1_first_author_df.new_family = q1_first_author_df.new_family.str.strip()"
   ]
  },
  {
   "cell_type": "code",
   "execution_count": 150,
   "metadata": {},
   "outputs": [
    {
     "data": {
      "text/html": [
       "<div>\n",
       "<style scoped>\n",
       "    .dataframe tbody tr th:only-of-type {\n",
       "        vertical-align: middle;\n",
       "    }\n",
       "\n",
       "    .dataframe tbody tr th {\n",
       "        vertical-align: top;\n",
       "    }\n",
       "\n",
       "    .dataframe thead th {\n",
       "        text-align: right;\n",
       "    }\n",
       "</style>\n",
       "<table border=\"1\" class=\"dataframe\">\n",
       "  <thead>\n",
       "    <tr style=\"text-align: right;\">\n",
       "      <th></th>\n",
       "      <th>new_given</th>\n",
       "      <th>new_family</th>\n",
       "      <th>SA_list</th>\n",
       "      <th>DOI</th>\n",
       "    </tr>\n",
       "  </thead>\n",
       "  <tbody>\n",
       "    <tr>\n",
       "      <th>4</th>\n",
       "      <td>.</td>\n",
       "      <td>jasmin</td>\n",
       "      <td>[[Immunology and Microbiology, Chemical Engine...</td>\n",
       "      <td>[10.1186/1477-3155-9-4, 10.1186/1477-3155-9-12]</td>\n",
       "    </tr>\n",
       "  </tbody>\n",
       "</table>\n",
       "</div>"
      ],
      "text/plain": [
       "  new_given new_family                                            SA_list  \\\n",
       "4         .     jasmin  [[Immunology and Microbiology, Chemical Engine...   \n",
       "\n",
       "                                               DOI  \n",
       "4  [10.1186/1477-3155-9-4, 10.1186/1477-3155-9-12]  "
      ]
     },
     "execution_count": 150,
     "metadata": {},
     "output_type": "execute_result"
    }
   ],
   "source": [
    "q1_first_author_df[q1_first_author_df.new_given.map(lambda x: bool(re.match(\"\\W\",x)))]"
   ]
  },
  {
   "cell_type": "code",
   "execution_count": 151,
   "metadata": {},
   "outputs": [
    {
     "data": {
      "text/html": [
       "<div>\n",
       "<style scoped>\n",
       "    .dataframe tbody tr th:only-of-type {\n",
       "        vertical-align: middle;\n",
       "    }\n",
       "\n",
       "    .dataframe tbody tr th {\n",
       "        vertical-align: top;\n",
       "    }\n",
       "\n",
       "    .dataframe thead th {\n",
       "        text-align: right;\n",
       "    }\n",
       "</style>\n",
       "<table border=\"1\" class=\"dataframe\">\n",
       "  <thead>\n",
       "    <tr style=\"text-align: right;\">\n",
       "      <th></th>\n",
       "      <th>new_given</th>\n",
       "      <th>new_family</th>\n",
       "      <th>SA_list</th>\n",
       "      <th>DOI</th>\n",
       "    </tr>\n",
       "  </thead>\n",
       "  <tbody>\n",
       "    <tr>\n",
       "      <th>123389</th>\n",
       "      <td>sovu</td>\n",
       "      <td>-</td>\n",
       "      <td>[[Agricultural and Biological Sciences]]</td>\n",
       "      <td>[10.14214/sf.444]</td>\n",
       "    </tr>\n",
       "  </tbody>\n",
       "</table>\n",
       "</div>"
      ],
      "text/plain": [
       "       new_given new_family                                   SA_list  \\\n",
       "123389      sovu          -  [[Agricultural and Biological Sciences]]   \n",
       "\n",
       "                      DOI  \n",
       "123389  [10.14214/sf.444]  "
      ]
     },
     "execution_count": 151,
     "metadata": {},
     "output_type": "execute_result"
    }
   ],
   "source": [
    "q1_first_author_df[q1_first_author_df.new_family.map(lambda x: bool(re.match(\"\\W\",x)))]"
   ]
  },
  {
   "cell_type": "markdown",
   "metadata": {},
   "source": [
    "In total there are 3 authors with no name & surname or both!\n",
    "\n",
    "__The problematics DOIs are :__ [10.1177/1606822x14528636, 10.1186/1477-3155-9-4, 10.1186/1477-3155-9-12, 10.14214/sf.444]\n",
    "\n",
    "These will be dropped from q1_first_author_df but NOT from q1_auhtor_df in this nb!\n",
    "\n"
   ]
  },
  {
   "cell_type": "code",
   "execution_count": 152,
   "metadata": {},
   "outputs": [],
   "source": [
    "q1_first_author_df.drop([0,4,123389], inplace=True)"
   ]
  },
  {
   "cell_type": "markdown",
   "metadata": {},
   "source": [
    "__Data Engineering:__"
   ]
  },
  {
   "cell_type": "code",
   "execution_count": 162,
   "metadata": {},
   "outputs": [],
   "source": [
    "# 1- Flattening SA_list col:\n",
    "\n",
    "def flatten(l):\n",
    "    return [item for sublist in l for item in sublist]\n",
    "\n",
    "q1_first_author_df.loc[:,\"SA_list\"] = q1_first_author_df.SA_list.map(flatten)"
   ]
  },
  {
   "cell_type": "code",
   "execution_count": 164,
   "metadata": {},
   "outputs": [],
   "source": [
    "# 2- Creating an Author ID col:\n",
    "\n",
    "q1_first_author_df.reset_index(drop=True, inplace=True)\n",
    "\n",
    "q1_first_author_df.reset_index(drop=False,inplace=True)\n",
    "\n",
    "q1_first_author_df.loc[:,\"index\"] = q1_first_author_df.index.map(lambda x: \"aut_\" + str(x))\n",
    "\n",
    "q1_first_author_df.set_index(\"index\", inplace=True)"
   ]
  },
  {
   "cell_type": "code",
   "execution_count": 173,
   "metadata": {},
   "outputs": [
    {
     "data": {
      "text/html": [
       "<div>\n",
       "<style scoped>\n",
       "    .dataframe tbody tr th:only-of-type {\n",
       "        vertical-align: middle;\n",
       "    }\n",
       "\n",
       "    .dataframe tbody tr th {\n",
       "        vertical-align: top;\n",
       "    }\n",
       "\n",
       "    .dataframe thead th {\n",
       "        text-align: right;\n",
       "    }\n",
       "</style>\n",
       "<table border=\"1\" class=\"dataframe\">\n",
       "  <thead>\n",
       "    <tr style=\"text-align: right;\">\n",
       "      <th></th>\n",
       "      <th>new_given</th>\n",
       "      <th>new_family</th>\n",
       "      <th>SA_list</th>\n",
       "      <th>DOI</th>\n",
       "    </tr>\n",
       "    <tr>\n",
       "      <th>index</th>\n",
       "      <th></th>\n",
       "      <th></th>\n",
       "      <th></th>\n",
       "      <th></th>\n",
       "    </tr>\n",
       "  </thead>\n",
       "  <tbody>\n",
       "    <tr>\n",
       "      <th>aut_0</th>\n",
       "      <td>jing</td>\n",
       "      <td>cai</td>\n",
       "      <td>[Social Sciences, Arts and Humanities]</td>\n",
       "      <td>[10.1016/j.jeap.2016.09.002]</td>\n",
       "    </tr>\n",
       "    <tr>\n",
       "      <th>aut_1</th>\n",
       "      <td>qing</td>\n",
       "      <td>hao</td>\n",
       "      <td>[Economics, Econometrics and Finance]</td>\n",
       "      <td>[10.1016/j.finmar.2015.11.003]</td>\n",
       "    </tr>\n",
       "    <tr>\n",
       "      <th>aut_2</th>\n",
       "      <td>yong</td>\n",
       "      <td>zhou</td>\n",
       "      <td>[Business, Management and Accounting]</td>\n",
       "      <td>[10.1080/10548408.2015.1075933]</td>\n",
       "    </tr>\n",
       "    <tr>\n",
       "      <th>aut_3</th>\n",
       "      <td>A.</td>\n",
       "      <td>abba</td>\n",
       "      <td>[Engineering, Energy]</td>\n",
       "      <td>[10.1109/tns.2010.2049658]</td>\n",
       "    </tr>\n",
       "    <tr>\n",
       "      <th>aut_4</th>\n",
       "      <td>A.</td>\n",
       "      <td>agodi</td>\n",
       "      <td>[Medicine, Nursing]</td>\n",
       "      <td>[10.1038/ejcn.2011.125]</td>\n",
       "    </tr>\n",
       "  </tbody>\n",
       "</table>\n",
       "</div>"
      ],
      "text/plain": [
       "      new_given new_family                                 SA_list  \\\n",
       "index                                                                \n",
       "aut_0      jing        cai  [Social Sciences, Arts and Humanities]   \n",
       "aut_1      qing        hao   [Economics, Econometrics and Finance]   \n",
       "aut_2      yong       zhou   [Business, Management and Accounting]   \n",
       "aut_3        A.       abba                   [Engineering, Energy]   \n",
       "aut_4        A.      agodi                     [Medicine, Nursing]   \n",
       "\n",
       "                                   DOI  \n",
       "index                                   \n",
       "aut_0     [10.1016/j.jeap.2016.09.002]  \n",
       "aut_1   [10.1016/j.finmar.2015.11.003]  \n",
       "aut_2  [10.1080/10548408.2015.1075933]  \n",
       "aut_3       [10.1109/tns.2010.2049658]  \n",
       "aut_4          [10.1038/ejcn.2011.125]  "
      ]
     },
     "execution_count": 173,
     "metadata": {},
     "output_type": "execute_result"
    }
   ],
   "source": [
    "q1_first_author_df.head()"
   ]
  },
  {
   "cell_type": "markdown",
   "metadata": {},
   "source": [
    "q1_first_author_df should be now ready!"
   ]
  },
  {
   "cell_type": "markdown",
   "metadata": {},
   "source": [
    "#### 5.2 - Creating the loop"
   ]
  },
  {
   "cell_type": "code",
   "execution_count": 198,
   "metadata": {},
   "outputs": [],
   "source": [
    "# Step 1- Create input dict:\n",
    "first_author_input_dict =q1_first_author_df[[\"new_given\",\"new_family\",\"SA_list\"]].to_dict(\"index\")"
   ]
  },
  {
   "cell_type": "code",
   "execution_count": null,
   "metadata": {},
   "outputs": [],
   "source": [
    "avail_api_keys_list = []\n",
    "used_api_keys_list = []\n",
    "\n",
    "## Initialize client\n",
    "client = ElsClient(\"6ae4b5181b374f521e60d2ef4be73ec5\")\n",
    "#client.inst_token = config['insttoken']"
   ]
  },
  {
   "cell_type": "code",
   "execution_count": 204,
   "metadata": {},
   "outputs": [],
   "source": [
    "testo_aut_dict = q1_first_author_df[[\"new_given\",\"new_family\",\"SA_list\"]].sample(10).to_dict(\"index\")"
   ]
  },
  {
   "cell_type": "code",
   "execution_count": 205,
   "metadata": {},
   "outputs": [],
   "source": [
    "# Test Loop:\n",
    "\n",
    "author_out_list= list()\n",
    "\n",
    "for auth_id in testo_aut_dict:\n",
    "    given_in = testo_aut_dict[auth_id][\"new_given\"]\n",
    "    family_in = testo_aut_dict[auth_id][\"new_family\"]\n",
    "    sa_in = testo_aut_dict[auth_id][\"SA_list\"]\n",
    "\n",
    "    auth_srch = ElsSearch(f'AUTHLAST({family_in}) AND AUTHFIRST({given_in}) AND {sbj_area_query_creator(sa_in)}','author')\n",
    "    auth_srch.execute(client)\n",
    "\n",
    "    country_out = list()\n",
    "    given_out = list()\n",
    "    family_out = list()\n",
    "    doc_count_out = list()\n",
    "\n",
    "    for auth in auth_srch.results:\n",
    "        # Country:\n",
    "        try:\n",
    "            country_out.append(auth['affiliation-current']['affiliation-country'])\n",
    "        except:\n",
    "            pass\n",
    "\n",
    "        # Given:\n",
    "        try:\n",
    "            given_out.append(auth['preferred-name']['given-name'])\n",
    "        except:\n",
    "            pass\n",
    "\n",
    "        # Family:\n",
    "        try:\n",
    "            family_out.append(auth['preferred-name']['surname'])\n",
    "        except:\n",
    "            pass\n",
    "\n",
    "        # Doc Count:\n",
    "        try:\n",
    "            doc_count_out.append(auth['document-count'])\n",
    "        except:\n",
    "            pass\n",
    "\n",
    "    \n",
    "    author_out_dict = dict(author_id=auth_id, country=country_out, given=given_out, family=family_out, doc_count=doc_count_out)\n",
    "\n",
    "    author_out_list.append(author_out_dict)\n",
    "\n",
    "\n"
   ]
  },
  {
   "cell_type": "code",
   "execution_count": 208,
   "metadata": {},
   "outputs": [
    {
     "data": {
      "text/html": [
       "<div>\n",
       "<style scoped>\n",
       "    .dataframe tbody tr th:only-of-type {\n",
       "        vertical-align: middle;\n",
       "    }\n",
       "\n",
       "    .dataframe tbody tr th {\n",
       "        vertical-align: top;\n",
       "    }\n",
       "\n",
       "    .dataframe thead th {\n",
       "        text-align: right;\n",
       "    }\n",
       "</style>\n",
       "<table border=\"1\" class=\"dataframe\">\n",
       "  <thead>\n",
       "    <tr style=\"text-align: right;\">\n",
       "      <th></th>\n",
       "      <th>author_id</th>\n",
       "      <th>country</th>\n",
       "      <th>given</th>\n",
       "      <th>family</th>\n",
       "      <th>doc_count</th>\n",
       "    </tr>\n",
       "  </thead>\n",
       "  <tbody>\n",
       "    <tr>\n",
       "      <th>0</th>\n",
       "      <td>aut_42341</td>\n",
       "      <td>[France]</td>\n",
       "      <td>[Fabrice]</td>\n",
       "      <td>[Bertile]</td>\n",
       "      <td>[47]</td>\n",
       "    </tr>\n",
       "    <tr>\n",
       "      <th>1</th>\n",
       "      <td>aut_7026</td>\n",
       "      <td>[]</td>\n",
       "      <td>[]</td>\n",
       "      <td>[]</td>\n",
       "      <td>[]</td>\n",
       "    </tr>\n",
       "    <tr>\n",
       "      <th>2</th>\n",
       "      <td>aut_75718</td>\n",
       "      <td>[United States]</td>\n",
       "      <td>[Kurtis M.]</td>\n",
       "      <td>[Anderson]</td>\n",
       "      <td>[5]</td>\n",
       "    </tr>\n",
       "    <tr>\n",
       "      <th>3</th>\n",
       "      <td>aut_57843</td>\n",
       "      <td>[Ireland, United States, United States, United...</td>\n",
       "      <td>[Justin D., Philip J., Jeffrey W., Russell J.,...</td>\n",
       "      <td>[Holmes, Holmes, Holmes, Holmes, Holmes, Holme...</td>\n",
       "      <td>[412, 254, 140, 135, 104, 94, 66, 34, 25, 18, ...</td>\n",
       "    </tr>\n",
       "    <tr>\n",
       "      <th>4</th>\n",
       "      <td>aut_68033</td>\n",
       "      <td>[United States]</td>\n",
       "      <td>[Joshua D.K.]</td>\n",
       "      <td>[Brown]</td>\n",
       "      <td>[4]</td>\n",
       "    </tr>\n",
       "    <tr>\n",
       "      <th>5</th>\n",
       "      <td>aut_55048</td>\n",
       "      <td>[Turkey]</td>\n",
       "      <td>[Huseyin]</td>\n",
       "      <td>[Simsek]</td>\n",
       "      <td>[15]</td>\n",
       "    </tr>\n",
       "    <tr>\n",
       "      <th>6</th>\n",
       "      <td>aut_38275</td>\n",
       "      <td>[United States]</td>\n",
       "      <td>[Elchanan]</td>\n",
       "      <td>[Mossel]</td>\n",
       "      <td>[190]</td>\n",
       "    </tr>\n",
       "    <tr>\n",
       "      <th>7</th>\n",
       "      <td>aut_1113</td>\n",
       "      <td>[United States, United States]</td>\n",
       "      <td>[Daniel M., Daniel M.]</td>\n",
       "      <td>[Gatti, Gatti]</td>\n",
       "      <td>[65, 2]</td>\n",
       "    </tr>\n",
       "    <tr>\n",
       "      <th>8</th>\n",
       "      <td>aut_44651</td>\n",
       "      <td>[Sweden]</td>\n",
       "      <td>[Frank]</td>\n",
       "      <td>[Menger]</td>\n",
       "      <td>[9]</td>\n",
       "    </tr>\n",
       "    <tr>\n",
       "      <th>9</th>\n",
       "      <td>aut_83026</td>\n",
       "      <td>[Australia, Australia]</td>\n",
       "      <td>[M. Ali, Ali M.]</td>\n",
       "      <td>[Darendeliler, Darendeliler]</td>\n",
       "      <td>[189, 5]</td>\n",
       "    </tr>\n",
       "  </tbody>\n",
       "</table>\n",
       "</div>"
      ],
      "text/plain": [
       "   author_id                                            country  \\\n",
       "0  aut_42341                                           [France]   \n",
       "1   aut_7026                                                 []   \n",
       "2  aut_75718                                    [United States]   \n",
       "3  aut_57843  [Ireland, United States, United States, United...   \n",
       "4  aut_68033                                    [United States]   \n",
       "5  aut_55048                                           [Turkey]   \n",
       "6  aut_38275                                    [United States]   \n",
       "7   aut_1113                     [United States, United States]   \n",
       "8  aut_44651                                           [Sweden]   \n",
       "9  aut_83026                             [Australia, Australia]   \n",
       "\n",
       "                                               given  \\\n",
       "0                                          [Fabrice]   \n",
       "1                                                 []   \n",
       "2                                        [Kurtis M.]   \n",
       "3  [Justin D., Philip J., Jeffrey W., Russell J.,...   \n",
       "4                                      [Joshua D.K.]   \n",
       "5                                          [Huseyin]   \n",
       "6                                         [Elchanan]   \n",
       "7                             [Daniel M., Daniel M.]   \n",
       "8                                            [Frank]   \n",
       "9                                   [M. Ali, Ali M.]   \n",
       "\n",
       "                                              family  \\\n",
       "0                                          [Bertile]   \n",
       "1                                                 []   \n",
       "2                                         [Anderson]   \n",
       "3  [Holmes, Holmes, Holmes, Holmes, Holmes, Holme...   \n",
       "4                                            [Brown]   \n",
       "5                                           [Simsek]   \n",
       "6                                           [Mossel]   \n",
       "7                                     [Gatti, Gatti]   \n",
       "8                                           [Menger]   \n",
       "9                       [Darendeliler, Darendeliler]   \n",
       "\n",
       "                                           doc_count  \n",
       "0                                               [47]  \n",
       "1                                                 []  \n",
       "2                                                [5]  \n",
       "3  [412, 254, 140, 135, 104, 94, 66, 34, 25, 18, ...  \n",
       "4                                                [4]  \n",
       "5                                               [15]  \n",
       "6                                              [190]  \n",
       "7                                            [65, 2]  \n",
       "8                                                [9]  \n",
       "9                                           [189, 5]  "
      ]
     },
     "execution_count": 208,
     "metadata": {},
     "output_type": "execute_result"
    }
   ],
   "source": [
    "pd.DataFrame(author_out_list)"
   ]
  },
  {
   "cell_type": "markdown",
   "metadata": {},
   "source": [
    "THE TEST RESULTS ARE PERFECT!!!"
   ]
  },
  {
   "cell_type": "code",
   "execution_count": 225,
   "metadata": {},
   "outputs": [],
   "source": [
    "with open(\"q1_first_author_df\",\"wb\") as p:\n",
    "    pickle.dump(q1_first_author_df, p)\n",
    "\n",
    "with open(\"q1_author_df\",\"wb\") as p:\n",
    "    pickle.dump(q1_author_df, p)"
   ]
  },
  {
   "cell_type": "markdown",
   "metadata": {},
   "source": [
    "#### 5.3 - Full Loop:"
   ]
  },
  {
   "cell_type": "code",
   "execution_count": 7,
   "metadata": {},
   "outputs": [],
   "source": [
    "import pandas as pd\n",
    "import numpy as np\n",
    "import pickle\n",
    "\n",
    "from elsapy.elsclient import ElsClient\n",
    "from elsapy.elsprofile import ElsAuthor, ElsAffil\n",
    "# from elsapy.elsdoc import FullDoc, AbsDoc\n",
    "from elsapy.elssearch import ElsSearch"
   ]
  },
  {
   "cell_type": "code",
   "execution_count": 12,
   "metadata": {},
   "outputs": [],
   "source": [
    "scopus_codes_dict = {'Agricultural and Biological Sciences': 'AGRI',\n",
    " 'Arts and Humanities': 'ARTS',\n",
    " 'Biochemistry, Genetics and Molecular Biology': 'BIOC',\n",
    " 'Business, Management and Accounting': 'BUSI',\n",
    " 'Chemical Engineering': 'CENG',\n",
    " 'Chemistry': 'CHEM',\n",
    " 'Computer Science': 'COMP',\n",
    " 'Decision Sciences': 'DECI',\n",
    " 'Dentistry': 'DENT',\n",
    " 'Earth and Planetary Sciences': 'EART',\n",
    " 'Economics, Econometrics and Finance': 'ECON',\n",
    " 'Energy': 'ENER',\n",
    " 'Engineering': 'ENGI',\n",
    " 'Environmental Science': 'ENVI',\n",
    " 'Health Professions': 'HEAL',\n",
    " 'Immunology and Microbiology': 'IMMU',\n",
    " 'Materials Science': 'MATE',\n",
    " 'Mathematics': 'MATH',\n",
    " 'Medicine': 'MEDI',\n",
    " 'Neuroscience': 'NEUR',\n",
    " 'Nursing': 'NURS',\n",
    " 'Pharmacology, Toxicology and Pharmaceutics': 'PHAR',\n",
    " 'Physics and Astronomy': 'PHYS',\n",
    " 'Psychology': 'PSYC',\n",
    " 'Social Sciences': 'SOCI',\n",
    " 'Veterinary': 'VETE',\n",
    " 'Multidisciplinary': 'MULT'}\n",
    "\n",
    "def sbj_area_query_creator(sbj_list):\n",
    "    query = \" AND \".join([f\"SUBJAREA({scopus_codes_dict[sbj]})\" for sbj in sbj_list])\n",
    "    return query\n"
   ]
  },
  {
   "cell_type": "code",
   "execution_count": 3,
   "metadata": {},
   "outputs": [],
   "source": [
    "with open(\"q1_author_df\", \"rb\") as fp:\n",
    "    q1_author_df = pickle.load(fp)\n",
    "\n",
    "with open(\"q1_first_author_df\", \"rb\") as fp:\n",
    "    q1_first_author_df = pickle.load(fp)"
   ]
  },
  {
   "cell_type": "code",
   "execution_count": 5,
   "metadata": {},
   "outputs": [],
   "source": [
    "first_author_input_dict = q1_first_author_df[[\"new_given\",\"new_family\",\"SA_list\"]].to_dict(\"index\")"
   ]
  },
  {
   "cell_type": "code",
   "execution_count": 8,
   "metadata": {},
   "outputs": [
    {
     "name": "stdout",
     "output_type": "stream",
     "text": [
      "Changed API key, now using key number 2: c14e197a4982e7349247b189ff26da45\n",
      "Changed API key, now using key number 3: fbc5e06467522a07f93e247a24d89d3b\n"
     ]
    },
    {
     "ename": "HTTPError",
     "evalue": "HTTP 400 Error from https://api.elsevier.com/content/search/author?query=AUTHLAST%28castroagud%EF%BF%BDn%29+AND+AUTHFIRST%28V.+L.%29+AND+SUBJAREA%28AGRI%29\nand using headers {'X-ELS-APIKey': 'fbc5e06467522a07f93e247a24d89d3b', 'User-Agent': 'elsapy-v0.5.0', 'Accept': 'application/json'}:\n{\"service-error\":{\"status\":{\"statusCode\":\"INVALID_INPUT\",\"statusText\":\"Error translating query\"}}}",
     "output_type": "error",
     "traceback": [
      "\u001b[1;31m---------------------------------------------------------------------------\u001b[0m",
      "\u001b[1;31mHTTPError\u001b[0m                                 Traceback (most recent call last)",
      "\u001b[1;32m<ipython-input-8-5f2ef730bc08>\u001b[0m in \u001b[0;36m<module>\u001b[1;34m\u001b[0m\n\u001b[0;32m     21\u001b[0m         \u001b[0mauth_srch\u001b[0m \u001b[1;33m=\u001b[0m \u001b[0mElsSearch\u001b[0m\u001b[1;33m(\u001b[0m\u001b[1;34mf'AUTHLAST({family_in}) AND AUTHFIRST({given_in}) AND {sbj_area_query_creator(sa_in)}'\u001b[0m\u001b[1;33m,\u001b[0m\u001b[1;34m'author'\u001b[0m\u001b[1;33m)\u001b[0m\u001b[1;33m\u001b[0m\u001b[1;33m\u001b[0m\u001b[0m\n\u001b[1;32m---> 22\u001b[1;33m         \u001b[0mauth_srch\u001b[0m\u001b[1;33m.\u001b[0m\u001b[0mexecute\u001b[0m\u001b[1;33m(\u001b[0m\u001b[0mclient\u001b[0m\u001b[1;33m)\u001b[0m\u001b[1;33m\u001b[0m\u001b[1;33m\u001b[0m\u001b[0m\n\u001b[0m\u001b[0;32m     23\u001b[0m     \u001b[1;32mexcept\u001b[0m\u001b[1;33m:\u001b[0m\u001b[1;33m\u001b[0m\u001b[1;33m\u001b[0m\u001b[0m\n",
      "\u001b[1;32mc:\\Users\\oguzk\\anaconda3\\lib\\site-packages\\elsapy\\elssearch.py\u001b[0m in \u001b[0;36mexecute\u001b[1;34m(self, els_client, get_all)\u001b[0m\n\u001b[0;32m     94\u001b[0m         \u001b[1;31m## TODO: add exception handling\u001b[0m\u001b[1;33m\u001b[0m\u001b[1;33m\u001b[0m\u001b[1;33m\u001b[0m\u001b[0m\n\u001b[1;32m---> 95\u001b[1;33m         \u001b[0mapi_response\u001b[0m \u001b[1;33m=\u001b[0m \u001b[0mels_client\u001b[0m\u001b[1;33m.\u001b[0m\u001b[0mexec_request\u001b[0m\u001b[1;33m(\u001b[0m\u001b[0mself\u001b[0m\u001b[1;33m.\u001b[0m\u001b[0m_uri\u001b[0m\u001b[1;33m)\u001b[0m\u001b[1;33m\u001b[0m\u001b[1;33m\u001b[0m\u001b[0m\n\u001b[0m\u001b[0;32m     96\u001b[0m         \u001b[0mself\u001b[0m\u001b[1;33m.\u001b[0m\u001b[0m_tot_num_res\u001b[0m \u001b[1;33m=\u001b[0m \u001b[0mint\u001b[0m\u001b[1;33m(\u001b[0m\u001b[0mapi_response\u001b[0m\u001b[1;33m[\u001b[0m\u001b[1;34m'search-results'\u001b[0m\u001b[1;33m]\u001b[0m\u001b[1;33m[\u001b[0m\u001b[1;34m'opensearch:totalResults'\u001b[0m\u001b[1;33m]\u001b[0m\u001b[1;33m)\u001b[0m\u001b[1;33m\u001b[0m\u001b[1;33m\u001b[0m\u001b[0m\n",
      "\u001b[1;32mc:\\Users\\oguzk\\anaconda3\\lib\\site-packages\\elsapy\\elsclient.py\u001b[0m in \u001b[0;36mexec_request\u001b[1;34m(self, URL)\u001b[0m\n\u001b[0;32m    120\u001b[0m             \u001b[0mself\u001b[0m\u001b[1;33m.\u001b[0m\u001b[0m_status_msg\u001b[0m\u001b[1;33m=\u001b[0m\u001b[1;34m\"HTTP \"\u001b[0m \u001b[1;33m+\u001b[0m \u001b[0mstr\u001b[0m\u001b[1;33m(\u001b[0m\u001b[0mr\u001b[0m\u001b[1;33m.\u001b[0m\u001b[0mstatus_code\u001b[0m\u001b[1;33m)\u001b[0m \u001b[1;33m+\u001b[0m \u001b[1;34m\" Error from \"\u001b[0m \u001b[1;33m+\u001b[0m \u001b[0mURL\u001b[0m \u001b[1;33m+\u001b[0m \u001b[1;34m\" and using headers \"\u001b[0m \u001b[1;33m+\u001b[0m \u001b[0mstr\u001b[0m\u001b[1;33m(\u001b[0m\u001b[0mheaders\u001b[0m\u001b[1;33m)\u001b[0m \u001b[1;33m+\u001b[0m \u001b[1;34m\": \"\u001b[0m \u001b[1;33m+\u001b[0m \u001b[0mr\u001b[0m\u001b[1;33m.\u001b[0m\u001b[0mtext\u001b[0m\u001b[1;33m\u001b[0m\u001b[1;33m\u001b[0m\u001b[0m\n\u001b[1;32m--> 121\u001b[1;33m             \u001b[1;32mraise\u001b[0m \u001b[0mrequests\u001b[0m\u001b[1;33m.\u001b[0m\u001b[0mHTTPError\u001b[0m\u001b[1;33m(\u001b[0m\u001b[1;34m\"HTTP \"\u001b[0m \u001b[1;33m+\u001b[0m \u001b[0mstr\u001b[0m\u001b[1;33m(\u001b[0m\u001b[0mr\u001b[0m\u001b[1;33m.\u001b[0m\u001b[0mstatus_code\u001b[0m\u001b[1;33m)\u001b[0m \u001b[1;33m+\u001b[0m \u001b[1;34m\" Error from \"\u001b[0m \u001b[1;33m+\u001b[0m \u001b[0mURL\u001b[0m \u001b[1;33m+\u001b[0m \u001b[1;34m\"\\nand using headers \"\u001b[0m \u001b[1;33m+\u001b[0m \u001b[0mstr\u001b[0m\u001b[1;33m(\u001b[0m\u001b[0mheaders\u001b[0m\u001b[1;33m)\u001b[0m \u001b[1;33m+\u001b[0m \u001b[1;34m\":\\n\"\u001b[0m \u001b[1;33m+\u001b[0m \u001b[0mr\u001b[0m\u001b[1;33m.\u001b[0m\u001b[0mtext\u001b[0m\u001b[1;33m)\u001b[0m\u001b[1;33m\u001b[0m\u001b[1;33m\u001b[0m\u001b[0m\n\u001b[0m",
      "\u001b[1;31mHTTPError\u001b[0m: HTTP 400 Error from https://api.elsevier.com/content/search/author?query=AUTHLAST%28castroagud%EF%BF%BDn%29+AND+AUTHFIRST%28V.+L.%29+AND+SUBJAREA%28AGRI%29\nand using headers {'X-ELS-APIKey': 'c14e197a4982e7349247b189ff26da45', 'User-Agent': 'elsapy-v0.5.0', 'Accept': 'application/json'}:\n{\"service-error\":{\"status\":{\"statusCode\":\"INVALID_INPUT\",\"statusText\":\"Error translating query\"}}}",
      "\nDuring handling of the above exception, another exception occurred:\n",
      "\u001b[1;31mHTTPError\u001b[0m                                 Traceback (most recent call last)",
      "\u001b[1;32m<ipython-input-8-5f2ef730bc08>\u001b[0m in \u001b[0;36m<module>\u001b[1;34m\u001b[0m\n\u001b[0;32m     31\u001b[0m \u001b[1;33m\u001b[0m\u001b[0m\n\u001b[0;32m     32\u001b[0m             \u001b[0mauth_srch\u001b[0m \u001b[1;33m=\u001b[0m \u001b[0mElsSearch\u001b[0m\u001b[1;33m(\u001b[0m\u001b[1;34mf'AUTHLAST({family_in}) AND AUTHFIRST({given_in}) AND {sbj_area_query_creator(sa_in)}'\u001b[0m\u001b[1;33m,\u001b[0m\u001b[1;34m'author'\u001b[0m\u001b[1;33m)\u001b[0m\u001b[1;33m\u001b[0m\u001b[1;33m\u001b[0m\u001b[0m\n\u001b[1;32m---> 33\u001b[1;33m             \u001b[0mauth_srch\u001b[0m\u001b[1;33m.\u001b[0m\u001b[0mexecute\u001b[0m\u001b[1;33m(\u001b[0m\u001b[0mclient\u001b[0m\u001b[1;33m)\u001b[0m\u001b[1;33m\u001b[0m\u001b[1;33m\u001b[0m\u001b[0m\n\u001b[0m\u001b[0;32m     34\u001b[0m \u001b[1;33m\u001b[0m\u001b[0m\n\u001b[0;32m     35\u001b[0m         \u001b[1;32melse\u001b[0m\u001b[1;33m:\u001b[0m\u001b[1;33m\u001b[0m\u001b[1;33m\u001b[0m\u001b[0m\n",
      "\u001b[1;32mc:\\Users\\oguzk\\anaconda3\\lib\\site-packages\\elsapy\\elssearch.py\u001b[0m in \u001b[0;36mexecute\u001b[1;34m(self, els_client, get_all)\u001b[0m\n\u001b[0;32m     93\u001b[0m             all results for the search, up to a maximum of 5,000.\"\"\"\n\u001b[0;32m     94\u001b[0m         \u001b[1;31m## TODO: add exception handling\u001b[0m\u001b[1;33m\u001b[0m\u001b[1;33m\u001b[0m\u001b[1;33m\u001b[0m\u001b[0m\n\u001b[1;32m---> 95\u001b[1;33m         \u001b[0mapi_response\u001b[0m \u001b[1;33m=\u001b[0m \u001b[0mels_client\u001b[0m\u001b[1;33m.\u001b[0m\u001b[0mexec_request\u001b[0m\u001b[1;33m(\u001b[0m\u001b[0mself\u001b[0m\u001b[1;33m.\u001b[0m\u001b[0m_uri\u001b[0m\u001b[1;33m)\u001b[0m\u001b[1;33m\u001b[0m\u001b[1;33m\u001b[0m\u001b[0m\n\u001b[0m\u001b[0;32m     96\u001b[0m         \u001b[0mself\u001b[0m\u001b[1;33m.\u001b[0m\u001b[0m_tot_num_res\u001b[0m \u001b[1;33m=\u001b[0m \u001b[0mint\u001b[0m\u001b[1;33m(\u001b[0m\u001b[0mapi_response\u001b[0m\u001b[1;33m[\u001b[0m\u001b[1;34m'search-results'\u001b[0m\u001b[1;33m]\u001b[0m\u001b[1;33m[\u001b[0m\u001b[1;34m'opensearch:totalResults'\u001b[0m\u001b[1;33m]\u001b[0m\u001b[1;33m)\u001b[0m\u001b[1;33m\u001b[0m\u001b[1;33m\u001b[0m\u001b[0m\n\u001b[0;32m     97\u001b[0m         \u001b[0mself\u001b[0m\u001b[1;33m.\u001b[0m\u001b[0m_results\u001b[0m \u001b[1;33m=\u001b[0m \u001b[0mapi_response\u001b[0m\u001b[1;33m[\u001b[0m\u001b[1;34m'search-results'\u001b[0m\u001b[1;33m]\u001b[0m\u001b[1;33m[\u001b[0m\u001b[1;34m'entry'\u001b[0m\u001b[1;33m]\u001b[0m\u001b[1;33m\u001b[0m\u001b[1;33m\u001b[0m\u001b[0m\n",
      "\u001b[1;32mc:\\Users\\oguzk\\anaconda3\\lib\\site-packages\\elsapy\\elsclient.py\u001b[0m in \u001b[0;36mexec_request\u001b[1;34m(self, URL)\u001b[0m\n\u001b[0;32m    119\u001b[0m         \u001b[1;32melse\u001b[0m\u001b[1;33m:\u001b[0m\u001b[1;33m\u001b[0m\u001b[1;33m\u001b[0m\u001b[0m\n\u001b[0;32m    120\u001b[0m             \u001b[0mself\u001b[0m\u001b[1;33m.\u001b[0m\u001b[0m_status_msg\u001b[0m\u001b[1;33m=\u001b[0m\u001b[1;34m\"HTTP \"\u001b[0m \u001b[1;33m+\u001b[0m \u001b[0mstr\u001b[0m\u001b[1;33m(\u001b[0m\u001b[0mr\u001b[0m\u001b[1;33m.\u001b[0m\u001b[0mstatus_code\u001b[0m\u001b[1;33m)\u001b[0m \u001b[1;33m+\u001b[0m \u001b[1;34m\" Error from \"\u001b[0m \u001b[1;33m+\u001b[0m \u001b[0mURL\u001b[0m \u001b[1;33m+\u001b[0m \u001b[1;34m\" and using headers \"\u001b[0m \u001b[1;33m+\u001b[0m \u001b[0mstr\u001b[0m\u001b[1;33m(\u001b[0m\u001b[0mheaders\u001b[0m\u001b[1;33m)\u001b[0m \u001b[1;33m+\u001b[0m \u001b[1;34m\": \"\u001b[0m \u001b[1;33m+\u001b[0m \u001b[0mr\u001b[0m\u001b[1;33m.\u001b[0m\u001b[0mtext\u001b[0m\u001b[1;33m\u001b[0m\u001b[1;33m\u001b[0m\u001b[0m\n\u001b[1;32m--> 121\u001b[1;33m             \u001b[1;32mraise\u001b[0m \u001b[0mrequests\u001b[0m\u001b[1;33m.\u001b[0m\u001b[0mHTTPError\u001b[0m\u001b[1;33m(\u001b[0m\u001b[1;34m\"HTTP \"\u001b[0m \u001b[1;33m+\u001b[0m \u001b[0mstr\u001b[0m\u001b[1;33m(\u001b[0m\u001b[0mr\u001b[0m\u001b[1;33m.\u001b[0m\u001b[0mstatus_code\u001b[0m\u001b[1;33m)\u001b[0m \u001b[1;33m+\u001b[0m \u001b[1;34m\" Error from \"\u001b[0m \u001b[1;33m+\u001b[0m \u001b[0mURL\u001b[0m \u001b[1;33m+\u001b[0m \u001b[1;34m\"\\nand using headers \"\u001b[0m \u001b[1;33m+\u001b[0m \u001b[0mstr\u001b[0m\u001b[1;33m(\u001b[0m\u001b[0mheaders\u001b[0m\u001b[1;33m)\u001b[0m \u001b[1;33m+\u001b[0m \u001b[1;34m\":\\n\"\u001b[0m \u001b[1;33m+\u001b[0m \u001b[0mr\u001b[0m\u001b[1;33m.\u001b[0m\u001b[0mtext\u001b[0m\u001b[1;33m)\u001b[0m\u001b[1;33m\u001b[0m\u001b[1;33m\u001b[0m\u001b[0m\n\u001b[0m",
      "\u001b[1;31mHTTPError\u001b[0m: HTTP 400 Error from https://api.elsevier.com/content/search/author?query=AUTHLAST%28castroagud%EF%BF%BDn%29+AND+AUTHFIRST%28V.+L.%29+AND+SUBJAREA%28AGRI%29\nand using headers {'X-ELS-APIKey': 'fbc5e06467522a07f93e247a24d89d3b', 'User-Agent': 'elsapy-v0.5.0', 'Accept': 'application/json'}:\n{\"service-error\":{\"status\":{\"statusCode\":\"INVALID_INPUT\",\"statusText\":\"Error translating query\"}}}"
     ]
    }
   ],
   "source": [
    "# Full Loop:\n",
    "\n",
    "author_out_list= list()\n",
    "\n",
    "avail_api_keys_list = [\"c14e197a4982e7349247b189ff26da45\",\"fbc5e06467522a07f93e247a24d89d3b\",\"3bd33d7e35df95cc6dc576fd67e7356d\",\"784ab6b22d3148f3d3f94a75596d0633\",\"63db00d1e8f7e5a5ef223abad3858dfe\",\"3f453389d0cada327703d787cd41b4ec\",\"e989f6eb6ea2a19b104eed28efe11071\",\"1a3f1a762b1e2abec678b08f4d7a1038\",\n",
    "\"e481b6eef24800668a6ee5ea576c1f97\",\"563df86d8ae1a6e62e0f0e4278a45cb9\",\"92975ea2d964ac570219d520aaad1d41\",\"c8eab163448aa6bd54fa97af700a939b\",\"53acda4267b6a5a9a6a87b8767aa8cc6\",\"9289c787b0d98e1a5a7a7fb58e102e1a\",\"1bf711a2bc396e7e99340bdaf2ba29d0\",\"396d5385a697326c03800cf37ca4f1a2\",\"8a9a5beb728f47b401fd145e1bb035ba\",\"cfbe1762b57a3310906c53bbbb3a68e5\",\n",
    "\"7b6016e18d538a15806f172d0ac7a0cd\",\"5d30dea104b6b7c33f6a120619fdbc6e\",\"e6cc81dc4b558be9892fa4e0715822a1\",\"da2094a93eb167105699cfb6c47466b6\",\"a323957ad88e129d8bae2c7b2fd0e63a\",\"a809d51349b6a614581cf57493dc0c94\",\"f36f0ccc1554186bb009e9ca7b3c14c0\",\"a1d21854963d1cca62742c56b5f7633d\",\"f3bdebaa3f41b7443d8d9d8983c00479\",\"bfaac6eb78a88e97874fa1d0bfd8c63e\",\n",
    "\"546932c3fcd8e21fbc6eab08010b9f44\",\"0599d76680c29c71e028fc9b77b0c063\",\"baaa9e51f8a49461352af25710719157\",\"30195f0b2192052a36bcab9ce3c4064f\",\"b7e95f5ea731eb5c9e84e7a1d499f50e\",\"8707db153e4b9672fa6df25b03a5f747\",\"2dab4694b4347fa574d159bb97484fc4\",\"6af3d2c09eb08ec6e12f0cead9a1f5bb\",\"3872e798bf48fa28af583b9ebef5deb6\",\"1473c31dbcdb425f9cdaf75c673279d3\"]\n",
    "\n",
    "used_api_keys_list = []\n",
    "\n",
    "client = ElsClient(\"6ae4b5181b374f521e60d2ef4be73ec5\")\n",
    "key_count = 1\n",
    "\n",
    "for auth_id in first_author_input_dict:\n",
    "    given_in = first_author_input_dict[auth_id][\"new_given\"]\n",
    "    family_in = first_author_input_dict[auth_id][\"new_family\"]\n",
    "    sa_in = first_author_input_dict[auth_id][\"SA_list\"]\n",
    "\n",
    "    try:\n",
    "        auth_srch = ElsSearch(f'AUTHLAST({family_in}) AND AUTHFIRST({given_in}) AND {sbj_area_query_creator(sa_in)}','author')\n",
    "        auth_srch.execute(client)\n",
    "    except:\n",
    "        if len(avail_api_keys_list) >0:\n",
    "            new_key = avail_api_keys_list.pop(0)            \n",
    "            client = ElsClient(new_key)\n",
    "\n",
    "            key_count += 1\n",
    "            print(f\"Changed API key, now using key number {key_count}: {new_key}\")\n",
    "            used_api_keys_list.append(new_key)\n",
    "\n",
    "            auth_srch = ElsSearch(f'AUTHLAST({family_in}) AND AUTHFIRST({given_in}) AND {sbj_area_query_creator(sa_in)}','author')\n",
    "            auth_srch.execute(client)\n",
    "\n",
    "        else:\n",
    "            print(\"No available API keys to use!\")\n",
    "            break\n",
    "\n",
    "\n",
    "    country_out = list()\n",
    "    given_out = list()\n",
    "    family_out = list()\n",
    "    doc_count_out = list()\n",
    "\n",
    "    for auth in auth_srch.results:\n",
    "        # Country:\n",
    "        try:\n",
    "            country_out.append(auth['affiliation-current']['affiliation-country'])\n",
    "        except:\n",
    "            pass\n",
    "\n",
    "        # Given:\n",
    "        try:\n",
    "            given_out.append(auth['preferred-name']['given-name'])\n",
    "        except:\n",
    "            pass\n",
    "\n",
    "        # Family:\n",
    "        try:\n",
    "            family_out.append(auth['preferred-name']['surname'])\n",
    "        except:\n",
    "            pass\n",
    "\n",
    "        # Doc Count:\n",
    "        try:\n",
    "            doc_count_out.append(auth['document-count'])\n",
    "        except:\n",
    "            pass\n",
    "\n",
    "    \n",
    "    author_out_dict = dict(author_id=auth_id, country=country_out, given=given_out, family=family_out, doc_count=doc_count_out)\n",
    "\n",
    "    author_out_list.append(author_out_dict)\n",
    "\n",
    "\n"
   ]
  },
  {
   "cell_type": "code",
   "execution_count": 10,
   "metadata": {},
   "outputs": [
    {
     "data": {
      "text/plain": [
       "4915"
      ]
     },
     "execution_count": 10,
     "metadata": {},
     "output_type": "execute_result"
    }
   ],
   "source": [
    "len(author_out_list)"
   ]
  },
  {
   "cell_type": "code",
   "execution_count": null,
   "metadata": {},
   "outputs": [],
   "source": [
    "first_author_input_dict = q1_first_author_df[[\"new_given\",\"new_family\",\"SA_list\"]].to_dict(\"index\")"
   ]
  },
  {
   "cell_type": "code",
   "execution_count": 11,
   "metadata": {},
   "outputs": [],
   "source": [
    "with open(\"author_out_list\",\"wb\") as p:\n",
    "    pickle.dump(author_out_list, p)"
   ]
  },
  {
   "cell_type": "code",
   "execution_count": 20,
   "metadata": {},
   "outputs": [
    {
     "data": {
      "text/html": [
       "<div>\n",
       "<style scoped>\n",
       "    .dataframe tbody tr th:only-of-type {\n",
       "        vertical-align: middle;\n",
       "    }\n",
       "\n",
       "    .dataframe tbody tr th {\n",
       "        vertical-align: top;\n",
       "    }\n",
       "\n",
       "    .dataframe thead th {\n",
       "        text-align: right;\n",
       "    }\n",
       "</style>\n",
       "<table border=\"1\" class=\"dataframe\">\n",
       "  <thead>\n",
       "    <tr style=\"text-align: right;\">\n",
       "      <th></th>\n",
       "      <th>new_given</th>\n",
       "      <th>new_family</th>\n",
       "      <th>SA_list</th>\n",
       "    </tr>\n",
       "    <tr>\n",
       "      <th>index</th>\n",
       "      <th></th>\n",
       "      <th></th>\n",
       "      <th></th>\n",
       "    </tr>\n",
       "  </thead>\n",
       "  <tbody>\n",
       "    <tr>\n",
       "      <th>aut_4914</th>\n",
       "      <td>V. L.</td>\n",
       "      <td>berdichevsky</td>\n",
       "      <td>[Physics and Astronomy, Engineering]</td>\n",
       "    </tr>\n",
       "    <tr>\n",
       "      <th>aut_4915</th>\n",
       "      <td>V. L.</td>\n",
       "      <td>castroagud�n</td>\n",
       "      <td>[Agricultural and Biological Sciences]</td>\n",
       "    </tr>\n",
       "    <tr>\n",
       "      <th>aut_4916</th>\n",
       "      <td>V. L.</td>\n",
       "      <td>clifton</td>\n",
       "      <td>[Medicine]</td>\n",
       "    </tr>\n",
       "    <tr>\n",
       "      <th>aut_4917</th>\n",
       "      <td>V. L.</td>\n",
       "      <td>kozhevnikov</td>\n",
       "      <td>[Chemistry]</td>\n",
       "    </tr>\n",
       "    <tr>\n",
       "      <th>aut_4918</th>\n",
       "      <td>V. L.</td>\n",
       "      <td>ratia</td>\n",
       "      <td>[Physics and Astronomy, Materials Science, Eng...</td>\n",
       "    </tr>\n",
       "    <tr>\n",
       "      <th>...</th>\n",
       "      <td>...</td>\n",
       "      <td>...</td>\n",
       "      <td>...</td>\n",
       "    </tr>\n",
       "    <tr>\n",
       "      <th>aut_146533</th>\n",
       "      <td>žiga</td>\n",
       "      <td>šušteršic</td>\n",
       "      <td>[Physics and Astronomy, Materials Science, Eng...</td>\n",
       "    </tr>\n",
       "    <tr>\n",
       "      <th>aut_146534</th>\n",
       "      <td>živa bricman</td>\n",
       "      <td>rejc</td>\n",
       "      <td>[Engineering, Energy, Chemical Engineering, En...</td>\n",
       "    </tr>\n",
       "    <tr>\n",
       "      <th>aut_146535</th>\n",
       "      <td>а.kh.</td>\n",
       "      <td>inoyatov</td>\n",
       "      <td>[Materials Science, Physics and Astronomy]</td>\n",
       "    </tr>\n",
       "    <tr>\n",
       "      <th>aut_146536</th>\n",
       "      <td>е.</td>\n",
       "      <td>blagodatskaya</td>\n",
       "      <td>[Agricultural and Biological Sciences, Immunol...</td>\n",
       "    </tr>\n",
       "    <tr>\n",
       "      <th>aut_146537</th>\n",
       "      <td>ᴌukasz</td>\n",
       "      <td>boguszewicz</td>\n",
       "      <td>[Physics and Astronomy]</td>\n",
       "    </tr>\n",
       "  </tbody>\n",
       "</table>\n",
       "<p>141624 rows × 3 columns</p>\n",
       "</div>"
      ],
      "text/plain": [
       "               new_given     new_family  \\\n",
       "index                                     \n",
       "aut_4914           V. L.   berdichevsky   \n",
       "aut_4915           V. L.   castroagud�n   \n",
       "aut_4916           V. L.        clifton   \n",
       "aut_4917           V. L.    kozhevnikov   \n",
       "aut_4918           V. L.          ratia   \n",
       "...                  ...            ...   \n",
       "aut_146533          žiga      šušteršic   \n",
       "aut_146534  živa bricman           rejc   \n",
       "aut_146535         а.kh.       inoyatov   \n",
       "aut_146536            е.  blagodatskaya   \n",
       "aut_146537        ᴌukasz    boguszewicz   \n",
       "\n",
       "                                                      SA_list  \n",
       "index                                                          \n",
       "aut_4914                 [Physics and Astronomy, Engineering]  \n",
       "aut_4915               [Agricultural and Biological Sciences]  \n",
       "aut_4916                                           [Medicine]  \n",
       "aut_4917                                          [Chemistry]  \n",
       "aut_4918    [Physics and Astronomy, Materials Science, Eng...  \n",
       "...                                                       ...  \n",
       "aut_146533  [Physics and Astronomy, Materials Science, Eng...  \n",
       "aut_146534  [Engineering, Energy, Chemical Engineering, En...  \n",
       "aut_146535         [Materials Science, Physics and Astronomy]  \n",
       "aut_146536  [Agricultural and Biological Sciences, Immunol...  \n",
       "aut_146537                            [Physics and Astronomy]  \n",
       "\n",
       "[141624 rows x 3 columns]"
      ]
     },
     "execution_count": 20,
     "metadata": {},
     "output_type": "execute_result"
    }
   ],
   "source": [
    "q1_first_author_df[[\"new_given\",\"new_family\",\"SA_list\"]][4914:]"
   ]
  },
  {
   "cell_type": "markdown",
   "metadata": {},
   "source": [
    "#### 5.4 - Take 2:"
   ]
  },
  {
   "cell_type": "code",
   "execution_count": 21,
   "metadata": {},
   "outputs": [],
   "source": [
    "first_author_input_dict_take2 = q1_first_author_df[[\"new_given\",\"new_family\",\"SA_list\"]][4916:].to_dict(\"index\")"
   ]
  },
  {
   "cell_type": "code",
   "execution_count": 23,
   "metadata": {},
   "outputs": [
    {
     "name": "stdout",
     "output_type": "stream",
     "text": [
      "Changed API key, now using key number 2: c14e197a4982e7349247b189ff26da45\n",
      "Changed API key, now using key number 3: fbc5e06467522a07f93e247a24d89d3b\n",
      "Changed API key, now using key number 4: 3bd33d7e35df95cc6dc576fd67e7356d\n"
     ]
    },
    {
     "ename": "HTTPError",
     "evalue": "HTTP 400 Error from https://api.elsevier.com/content/search/author?query=AUTHLAST%28pieterse%29+AND+AUTHFIRST%28andr%EF%BF%BD+c.%29+AND+SUBJAREA%28ARTS%29\nand using headers {'X-ELS-APIKey': '3bd33d7e35df95cc6dc576fd67e7356d', 'User-Agent': 'elsapy-v0.5.0', 'Accept': 'application/json'}:\n{\"service-error\":{\"status\":{\"statusCode\":\"INVALID_INPUT\",\"statusText\":\"Error translating query\"}}}",
     "output_type": "error",
     "traceback": [
      "\u001b[1;31m---------------------------------------------------------------------------\u001b[0m",
      "\u001b[1;31mHTTPError\u001b[0m                                 Traceback (most recent call last)",
      "\u001b[1;32m<ipython-input-23-ad4001762e87>\u001b[0m in \u001b[0;36m<module>\u001b[1;34m\u001b[0m\n\u001b[0;32m     21\u001b[0m         \u001b[0mauth_srch\u001b[0m \u001b[1;33m=\u001b[0m \u001b[0mElsSearch\u001b[0m\u001b[1;33m(\u001b[0m\u001b[1;34mf'AUTHLAST({family_in}) AND AUTHFIRST({given_in}) AND {sbj_area_query_creator(sa_in)}'\u001b[0m\u001b[1;33m,\u001b[0m\u001b[1;34m'author'\u001b[0m\u001b[1;33m)\u001b[0m\u001b[1;33m\u001b[0m\u001b[1;33m\u001b[0m\u001b[0m\n\u001b[1;32m---> 22\u001b[1;33m         \u001b[0mauth_srch\u001b[0m\u001b[1;33m.\u001b[0m\u001b[0mexecute\u001b[0m\u001b[1;33m(\u001b[0m\u001b[0mclient\u001b[0m\u001b[1;33m)\u001b[0m\u001b[1;33m\u001b[0m\u001b[1;33m\u001b[0m\u001b[0m\n\u001b[0m\u001b[0;32m     23\u001b[0m     \u001b[1;32mexcept\u001b[0m\u001b[1;33m:\u001b[0m\u001b[1;33m\u001b[0m\u001b[1;33m\u001b[0m\u001b[0m\n",
      "\u001b[1;32mc:\\Users\\oguzk\\anaconda3\\lib\\site-packages\\elsapy\\elssearch.py\u001b[0m in \u001b[0;36mexecute\u001b[1;34m(self, els_client, get_all)\u001b[0m\n\u001b[0;32m     94\u001b[0m         \u001b[1;31m## TODO: add exception handling\u001b[0m\u001b[1;33m\u001b[0m\u001b[1;33m\u001b[0m\u001b[1;33m\u001b[0m\u001b[0m\n\u001b[1;32m---> 95\u001b[1;33m         \u001b[0mapi_response\u001b[0m \u001b[1;33m=\u001b[0m \u001b[0mels_client\u001b[0m\u001b[1;33m.\u001b[0m\u001b[0mexec_request\u001b[0m\u001b[1;33m(\u001b[0m\u001b[0mself\u001b[0m\u001b[1;33m.\u001b[0m\u001b[0m_uri\u001b[0m\u001b[1;33m)\u001b[0m\u001b[1;33m\u001b[0m\u001b[1;33m\u001b[0m\u001b[0m\n\u001b[0m\u001b[0;32m     96\u001b[0m         \u001b[0mself\u001b[0m\u001b[1;33m.\u001b[0m\u001b[0m_tot_num_res\u001b[0m \u001b[1;33m=\u001b[0m \u001b[0mint\u001b[0m\u001b[1;33m(\u001b[0m\u001b[0mapi_response\u001b[0m\u001b[1;33m[\u001b[0m\u001b[1;34m'search-results'\u001b[0m\u001b[1;33m]\u001b[0m\u001b[1;33m[\u001b[0m\u001b[1;34m'opensearch:totalResults'\u001b[0m\u001b[1;33m]\u001b[0m\u001b[1;33m)\u001b[0m\u001b[1;33m\u001b[0m\u001b[1;33m\u001b[0m\u001b[0m\n",
      "\u001b[1;32mc:\\Users\\oguzk\\anaconda3\\lib\\site-packages\\elsapy\\elsclient.py\u001b[0m in \u001b[0;36mexec_request\u001b[1;34m(self, URL)\u001b[0m\n\u001b[0;32m    120\u001b[0m             \u001b[0mself\u001b[0m\u001b[1;33m.\u001b[0m\u001b[0m_status_msg\u001b[0m\u001b[1;33m=\u001b[0m\u001b[1;34m\"HTTP \"\u001b[0m \u001b[1;33m+\u001b[0m \u001b[0mstr\u001b[0m\u001b[1;33m(\u001b[0m\u001b[0mr\u001b[0m\u001b[1;33m.\u001b[0m\u001b[0mstatus_code\u001b[0m\u001b[1;33m)\u001b[0m \u001b[1;33m+\u001b[0m \u001b[1;34m\" Error from \"\u001b[0m \u001b[1;33m+\u001b[0m \u001b[0mURL\u001b[0m \u001b[1;33m+\u001b[0m \u001b[1;34m\" and using headers \"\u001b[0m \u001b[1;33m+\u001b[0m \u001b[0mstr\u001b[0m\u001b[1;33m(\u001b[0m\u001b[0mheaders\u001b[0m\u001b[1;33m)\u001b[0m \u001b[1;33m+\u001b[0m \u001b[1;34m\": \"\u001b[0m \u001b[1;33m+\u001b[0m \u001b[0mr\u001b[0m\u001b[1;33m.\u001b[0m\u001b[0mtext\u001b[0m\u001b[1;33m\u001b[0m\u001b[1;33m\u001b[0m\u001b[0m\n\u001b[1;32m--> 121\u001b[1;33m             \u001b[1;32mraise\u001b[0m \u001b[0mrequests\u001b[0m\u001b[1;33m.\u001b[0m\u001b[0mHTTPError\u001b[0m\u001b[1;33m(\u001b[0m\u001b[1;34m\"HTTP \"\u001b[0m \u001b[1;33m+\u001b[0m \u001b[0mstr\u001b[0m\u001b[1;33m(\u001b[0m\u001b[0mr\u001b[0m\u001b[1;33m.\u001b[0m\u001b[0mstatus_code\u001b[0m\u001b[1;33m)\u001b[0m \u001b[1;33m+\u001b[0m \u001b[1;34m\" Error from \"\u001b[0m \u001b[1;33m+\u001b[0m \u001b[0mURL\u001b[0m \u001b[1;33m+\u001b[0m \u001b[1;34m\"\\nand using headers \"\u001b[0m \u001b[1;33m+\u001b[0m \u001b[0mstr\u001b[0m\u001b[1;33m(\u001b[0m\u001b[0mheaders\u001b[0m\u001b[1;33m)\u001b[0m \u001b[1;33m+\u001b[0m \u001b[1;34m\":\\n\"\u001b[0m \u001b[1;33m+\u001b[0m \u001b[0mr\u001b[0m\u001b[1;33m.\u001b[0m\u001b[0mtext\u001b[0m\u001b[1;33m)\u001b[0m\u001b[1;33m\u001b[0m\u001b[1;33m\u001b[0m\u001b[0m\n\u001b[0m",
      "\u001b[1;31mHTTPError\u001b[0m: HTTP 400 Error from https://api.elsevier.com/content/search/author?query=AUTHLAST%28pieterse%29+AND+AUTHFIRST%28andr%EF%BF%BD+c.%29+AND+SUBJAREA%28ARTS%29\nand using headers {'X-ELS-APIKey': 'fbc5e06467522a07f93e247a24d89d3b', 'User-Agent': 'elsapy-v0.5.0', 'Accept': 'application/json'}:\n{\"service-error\":{\"status\":{\"statusCode\":\"INVALID_INPUT\",\"statusText\":\"Error translating query\"}}}",
      "\nDuring handling of the above exception, another exception occurred:\n",
      "\u001b[1;31mHTTPError\u001b[0m                                 Traceback (most recent call last)",
      "\u001b[1;32m<ipython-input-23-ad4001762e87>\u001b[0m in \u001b[0;36m<module>\u001b[1;34m\u001b[0m\n\u001b[0;32m     31\u001b[0m \u001b[1;33m\u001b[0m\u001b[0m\n\u001b[0;32m     32\u001b[0m             \u001b[0mauth_srch\u001b[0m \u001b[1;33m=\u001b[0m \u001b[0mElsSearch\u001b[0m\u001b[1;33m(\u001b[0m\u001b[1;34mf'AUTHLAST({family_in}) AND AUTHFIRST({given_in}) AND {sbj_area_query_creator(sa_in)}'\u001b[0m\u001b[1;33m,\u001b[0m\u001b[1;34m'author'\u001b[0m\u001b[1;33m)\u001b[0m\u001b[1;33m\u001b[0m\u001b[1;33m\u001b[0m\u001b[0m\n\u001b[1;32m---> 33\u001b[1;33m             \u001b[0mauth_srch\u001b[0m\u001b[1;33m.\u001b[0m\u001b[0mexecute\u001b[0m\u001b[1;33m(\u001b[0m\u001b[0mclient\u001b[0m\u001b[1;33m)\u001b[0m\u001b[1;33m\u001b[0m\u001b[1;33m\u001b[0m\u001b[0m\n\u001b[0m\u001b[0;32m     34\u001b[0m \u001b[1;33m\u001b[0m\u001b[0m\n\u001b[0;32m     35\u001b[0m         \u001b[1;32melse\u001b[0m\u001b[1;33m:\u001b[0m\u001b[1;33m\u001b[0m\u001b[1;33m\u001b[0m\u001b[0m\n",
      "\u001b[1;32mc:\\Users\\oguzk\\anaconda3\\lib\\site-packages\\elsapy\\elssearch.py\u001b[0m in \u001b[0;36mexecute\u001b[1;34m(self, els_client, get_all)\u001b[0m\n\u001b[0;32m     93\u001b[0m             all results for the search, up to a maximum of 5,000.\"\"\"\n\u001b[0;32m     94\u001b[0m         \u001b[1;31m## TODO: add exception handling\u001b[0m\u001b[1;33m\u001b[0m\u001b[1;33m\u001b[0m\u001b[1;33m\u001b[0m\u001b[0m\n\u001b[1;32m---> 95\u001b[1;33m         \u001b[0mapi_response\u001b[0m \u001b[1;33m=\u001b[0m \u001b[0mels_client\u001b[0m\u001b[1;33m.\u001b[0m\u001b[0mexec_request\u001b[0m\u001b[1;33m(\u001b[0m\u001b[0mself\u001b[0m\u001b[1;33m.\u001b[0m\u001b[0m_uri\u001b[0m\u001b[1;33m)\u001b[0m\u001b[1;33m\u001b[0m\u001b[1;33m\u001b[0m\u001b[0m\n\u001b[0m\u001b[0;32m     96\u001b[0m         \u001b[0mself\u001b[0m\u001b[1;33m.\u001b[0m\u001b[0m_tot_num_res\u001b[0m \u001b[1;33m=\u001b[0m \u001b[0mint\u001b[0m\u001b[1;33m(\u001b[0m\u001b[0mapi_response\u001b[0m\u001b[1;33m[\u001b[0m\u001b[1;34m'search-results'\u001b[0m\u001b[1;33m]\u001b[0m\u001b[1;33m[\u001b[0m\u001b[1;34m'opensearch:totalResults'\u001b[0m\u001b[1;33m]\u001b[0m\u001b[1;33m)\u001b[0m\u001b[1;33m\u001b[0m\u001b[1;33m\u001b[0m\u001b[0m\n\u001b[0;32m     97\u001b[0m         \u001b[0mself\u001b[0m\u001b[1;33m.\u001b[0m\u001b[0m_results\u001b[0m \u001b[1;33m=\u001b[0m \u001b[0mapi_response\u001b[0m\u001b[1;33m[\u001b[0m\u001b[1;34m'search-results'\u001b[0m\u001b[1;33m]\u001b[0m\u001b[1;33m[\u001b[0m\u001b[1;34m'entry'\u001b[0m\u001b[1;33m]\u001b[0m\u001b[1;33m\u001b[0m\u001b[1;33m\u001b[0m\u001b[0m\n",
      "\u001b[1;32mc:\\Users\\oguzk\\anaconda3\\lib\\site-packages\\elsapy\\elsclient.py\u001b[0m in \u001b[0;36mexec_request\u001b[1;34m(self, URL)\u001b[0m\n\u001b[0;32m    119\u001b[0m         \u001b[1;32melse\u001b[0m\u001b[1;33m:\u001b[0m\u001b[1;33m\u001b[0m\u001b[1;33m\u001b[0m\u001b[0m\n\u001b[0;32m    120\u001b[0m             \u001b[0mself\u001b[0m\u001b[1;33m.\u001b[0m\u001b[0m_status_msg\u001b[0m\u001b[1;33m=\u001b[0m\u001b[1;34m\"HTTP \"\u001b[0m \u001b[1;33m+\u001b[0m \u001b[0mstr\u001b[0m\u001b[1;33m(\u001b[0m\u001b[0mr\u001b[0m\u001b[1;33m.\u001b[0m\u001b[0mstatus_code\u001b[0m\u001b[1;33m)\u001b[0m \u001b[1;33m+\u001b[0m \u001b[1;34m\" Error from \"\u001b[0m \u001b[1;33m+\u001b[0m \u001b[0mURL\u001b[0m \u001b[1;33m+\u001b[0m \u001b[1;34m\" and using headers \"\u001b[0m \u001b[1;33m+\u001b[0m \u001b[0mstr\u001b[0m\u001b[1;33m(\u001b[0m\u001b[0mheaders\u001b[0m\u001b[1;33m)\u001b[0m \u001b[1;33m+\u001b[0m \u001b[1;34m\": \"\u001b[0m \u001b[1;33m+\u001b[0m \u001b[0mr\u001b[0m\u001b[1;33m.\u001b[0m\u001b[0mtext\u001b[0m\u001b[1;33m\u001b[0m\u001b[1;33m\u001b[0m\u001b[0m\n\u001b[1;32m--> 121\u001b[1;33m             \u001b[1;32mraise\u001b[0m \u001b[0mrequests\u001b[0m\u001b[1;33m.\u001b[0m\u001b[0mHTTPError\u001b[0m\u001b[1;33m(\u001b[0m\u001b[1;34m\"HTTP \"\u001b[0m \u001b[1;33m+\u001b[0m \u001b[0mstr\u001b[0m\u001b[1;33m(\u001b[0m\u001b[0mr\u001b[0m\u001b[1;33m.\u001b[0m\u001b[0mstatus_code\u001b[0m\u001b[1;33m)\u001b[0m \u001b[1;33m+\u001b[0m \u001b[1;34m\" Error from \"\u001b[0m \u001b[1;33m+\u001b[0m \u001b[0mURL\u001b[0m \u001b[1;33m+\u001b[0m \u001b[1;34m\"\\nand using headers \"\u001b[0m \u001b[1;33m+\u001b[0m \u001b[0mstr\u001b[0m\u001b[1;33m(\u001b[0m\u001b[0mheaders\u001b[0m\u001b[1;33m)\u001b[0m \u001b[1;33m+\u001b[0m \u001b[1;34m\":\\n\"\u001b[0m \u001b[1;33m+\u001b[0m \u001b[0mr\u001b[0m\u001b[1;33m.\u001b[0m\u001b[0mtext\u001b[0m\u001b[1;33m)\u001b[0m\u001b[1;33m\u001b[0m\u001b[1;33m\u001b[0m\u001b[0m\n\u001b[0m",
      "\u001b[1;31mHTTPError\u001b[0m: HTTP 400 Error from https://api.elsevier.com/content/search/author?query=AUTHLAST%28pieterse%29+AND+AUTHFIRST%28andr%EF%BF%BD+c.%29+AND+SUBJAREA%28ARTS%29\nand using headers {'X-ELS-APIKey': '3bd33d7e35df95cc6dc576fd67e7356d', 'User-Agent': 'elsapy-v0.5.0', 'Accept': 'application/json'}:\n{\"service-error\":{\"status\":{\"statusCode\":\"INVALID_INPUT\",\"statusText\":\"Error translating query\"}}}"
     ]
    }
   ],
   "source": [
    "# Full Loop - Take 2:\n",
    "\n",
    "#author_out_list= list()\n",
    "\n",
    "avail_api_keys_list = [\"c14e197a4982e7349247b189ff26da45\",\"fbc5e06467522a07f93e247a24d89d3b\",\"3bd33d7e35df95cc6dc576fd67e7356d\",\"784ab6b22d3148f3d3f94a75596d0633\",\"63db00d1e8f7e5a5ef223abad3858dfe\",\"3f453389d0cada327703d787cd41b4ec\",\"e989f6eb6ea2a19b104eed28efe11071\",\"1a3f1a762b1e2abec678b08f4d7a1038\",\n",
    "\"e481b6eef24800668a6ee5ea576c1f97\",\"563df86d8ae1a6e62e0f0e4278a45cb9\",\"92975ea2d964ac570219d520aaad1d41\",\"c8eab163448aa6bd54fa97af700a939b\",\"53acda4267b6a5a9a6a87b8767aa8cc6\",\"9289c787b0d98e1a5a7a7fb58e102e1a\",\"1bf711a2bc396e7e99340bdaf2ba29d0\",\"396d5385a697326c03800cf37ca4f1a2\",\"8a9a5beb728f47b401fd145e1bb035ba\",\"cfbe1762b57a3310906c53bbbb3a68e5\",\n",
    "\"7b6016e18d538a15806f172d0ac7a0cd\",\"5d30dea104b6b7c33f6a120619fdbc6e\",\"e6cc81dc4b558be9892fa4e0715822a1\",\"da2094a93eb167105699cfb6c47466b6\",\"a323957ad88e129d8bae2c7b2fd0e63a\",\"a809d51349b6a614581cf57493dc0c94\",\"f36f0ccc1554186bb009e9ca7b3c14c0\",\"a1d21854963d1cca62742c56b5f7633d\",\"f3bdebaa3f41b7443d8d9d8983c00479\",\"bfaac6eb78a88e97874fa1d0bfd8c63e\",\n",
    "\"546932c3fcd8e21fbc6eab08010b9f44\",\"0599d76680c29c71e028fc9b77b0c063\",\"baaa9e51f8a49461352af25710719157\",\"30195f0b2192052a36bcab9ce3c4064f\",\"b7e95f5ea731eb5c9e84e7a1d499f50e\",\"8707db153e4b9672fa6df25b03a5f747\",\"2dab4694b4347fa574d159bb97484fc4\",\"6af3d2c09eb08ec6e12f0cead9a1f5bb\",\"3872e798bf48fa28af583b9ebef5deb6\",\"1473c31dbcdb425f9cdaf75c673279d3\"]\n",
    "\n",
    "used_api_keys_list = []\n",
    "\n",
    "client = ElsClient(\"6ae4b5181b374f521e60d2ef4be73ec5\")\n",
    "key_count = 1\n",
    "\n",
    "for auth_id in first_author_input_dict_take2:\n",
    "    given_in = first_author_input_dict_take2[auth_id][\"new_given\"]\n",
    "    family_in = first_author_input_dict_take2[auth_id][\"new_family\"]\n",
    "    sa_in = first_author_input_dict_take2[auth_id][\"SA_list\"]\n",
    "\n",
    "    try:\n",
    "        auth_srch = ElsSearch(f'AUTHLAST({family_in}) AND AUTHFIRST({given_in}) AND {sbj_area_query_creator(sa_in)}','author')\n",
    "        auth_srch.execute(client)\n",
    "    except:\n",
    "        if len(avail_api_keys_list) >0:\n",
    "            new_key = avail_api_keys_list.pop(0)            \n",
    "            client = ElsClient(new_key)\n",
    "\n",
    "            key_count += 1\n",
    "            print(f\"Changed API key, now using key number {key_count}: {new_key}\")\n",
    "            used_api_keys_list.append(new_key)\n",
    "\n",
    "            auth_srch = ElsSearch(f'AUTHLAST({family_in}) AND AUTHFIRST({given_in}) AND {sbj_area_query_creator(sa_in)}','author')\n",
    "            auth_srch.execute(client)\n",
    "\n",
    "        else:\n",
    "            print(\"No available API keys to use!\")\n",
    "            break\n",
    "\n",
    "\n",
    "    country_out = list()\n",
    "    given_out = list()\n",
    "    family_out = list()\n",
    "    doc_count_out = list()\n",
    "\n",
    "    for auth in auth_srch.results:\n",
    "        # Country:\n",
    "        try:\n",
    "            country_out.append(auth['affiliation-current']['affiliation-country'])\n",
    "        except:\n",
    "            pass\n",
    "\n",
    "        # Given:\n",
    "        try:\n",
    "            given_out.append(auth['preferred-name']['given-name'])\n",
    "        except:\n",
    "            pass\n",
    "\n",
    "        # Family:\n",
    "        try:\n",
    "            family_out.append(auth['preferred-name']['surname'])\n",
    "        except:\n",
    "            pass\n",
    "\n",
    "        # Doc Count:\n",
    "        try:\n",
    "            doc_count_out.append(auth['document-count'])\n",
    "        except:\n",
    "            pass\n",
    "\n",
    "    \n",
    "    author_out_dict = dict(author_id=auth_id, country=country_out, given=given_out, family=family_out, doc_count=doc_count_out)\n",
    "\n",
    "    author_out_list.append(author_out_dict)\n",
    "\n",
    "\n"
   ]
  },
  {
   "cell_type": "code",
   "execution_count": 24,
   "metadata": {},
   "outputs": [
    {
     "data": {
      "text/html": [
       "<div>\n",
       "<style scoped>\n",
       "    .dataframe tbody tr th:only-of-type {\n",
       "        vertical-align: middle;\n",
       "    }\n",
       "\n",
       "    .dataframe tbody tr th {\n",
       "        vertical-align: top;\n",
       "    }\n",
       "\n",
       "    .dataframe thead th {\n",
       "        text-align: right;\n",
       "    }\n",
       "</style>\n",
       "<table border=\"1\" class=\"dataframe\">\n",
       "  <thead>\n",
       "    <tr style=\"text-align: right;\">\n",
       "      <th></th>\n",
       "      <th>author_id</th>\n",
       "      <th>country</th>\n",
       "      <th>given</th>\n",
       "      <th>family</th>\n",
       "      <th>doc_count</th>\n",
       "    </tr>\n",
       "  </thead>\n",
       "  <tbody>\n",
       "    <tr>\n",
       "      <th>0</th>\n",
       "      <td>aut_0</td>\n",
       "      <td>[China, China, China, Hong Kong]</td>\n",
       "      <td>[Jing, Jingheng, Jing, (Luna) Jing]</td>\n",
       "      <td>[Cai, Cai, Cai, Cai]</td>\n",
       "      <td>[23, 22, 1, 1]</td>\n",
       "    </tr>\n",
       "    <tr>\n",
       "      <th>1</th>\n",
       "      <td>aut_1</td>\n",
       "      <td>[United States, United States, United States, ...</td>\n",
       "      <td>[Qing, Qing, (Grace) Qing, Grace Qing]</td>\n",
       "      <td>[Hao, Hao, Hao, Hao]</td>\n",
       "      <td>[86, 11, 2, 1]</td>\n",
       "    </tr>\n",
       "    <tr>\n",
       "      <th>2</th>\n",
       "      <td>aut_2</td>\n",
       "      <td>[China, China, China, China, China, China, Chi...</td>\n",
       "      <td>[Yongquan, Yonghong, Yong, Dayong, Yongwu, Yon...</td>\n",
       "      <td>[Zhou, Zhou, Zhou, Zhou, Zhou, Zhou, Zhou, Zho...</td>\n",
       "      <td>[286, 220, 193, 170, 164, 151, 100, 92, 74, 64...</td>\n",
       "    </tr>\n",
       "    <tr>\n",
       "      <th>3</th>\n",
       "      <td>aut_3</td>\n",
       "      <td>[Italy, Italy, France, Nigeria, Malaysia, Saud...</td>\n",
       "      <td>[Andrea, Alessandro, Ado Adamou Abba, Hafizull...</td>\n",
       "      <td>[Abba, Abbà, Ari, Ahmed, Haruna, Abba, Abba, A...</td>\n",
       "      <td>[75, 65, 44, 19, 17, 15, 8, 3]</td>\n",
       "    </tr>\n",
       "    <tr>\n",
       "      <th>4</th>\n",
       "      <td>aut_4</td>\n",
       "      <td>[Italy]</td>\n",
       "      <td>[Antonella]</td>\n",
       "      <td>[Agodi]</td>\n",
       "      <td>[234]</td>\n",
       "    </tr>\n",
       "    <tr>\n",
       "      <th>...</th>\n",
       "      <td>...</td>\n",
       "      <td>...</td>\n",
       "      <td>...</td>\n",
       "      <td>...</td>\n",
       "      <td>...</td>\n",
       "    </tr>\n",
       "    <tr>\n",
       "      <th>14157</th>\n",
       "      <td>aut_14158</td>\n",
       "      <td>[Poland, Poland, Poland]</td>\n",
       "      <td>[Andrzej, Andrzej, Andrzej]</td>\n",
       "      <td>[Ziółkowski, Ziółkowski, Ziółkowski]</td>\n",
       "      <td>[33, 27, 18]</td>\n",
       "    </tr>\n",
       "    <tr>\n",
       "      <th>14158</th>\n",
       "      <td>aut_14159</td>\n",
       "      <td>[Poland, Poland]</td>\n",
       "      <td>[Andrzej, Andrzej]</td>\n",
       "      <td>[Ziȩba, Zieba]</td>\n",
       "      <td>[103, 41]</td>\n",
       "    </tr>\n",
       "    <tr>\n",
       "      <th>14159</th>\n",
       "      <td>aut_14160</td>\n",
       "      <td>[Poland]</td>\n",
       "      <td>[Andrzej Lech]</td>\n",
       "      <td>[Dawidowicz]</td>\n",
       "      <td>[203]</td>\n",
       "    </tr>\n",
       "    <tr>\n",
       "      <th>14160</th>\n",
       "      <td>aut_14161</td>\n",
       "      <td>[Poland]</td>\n",
       "      <td>[Andrzej R.]</td>\n",
       "      <td>[Reindl]</td>\n",
       "      <td>[20]</td>\n",
       "    </tr>\n",
       "    <tr>\n",
       "      <th>14161</th>\n",
       "      <td>aut_14162</td>\n",
       "      <td>[]</td>\n",
       "      <td>[]</td>\n",
       "      <td>[]</td>\n",
       "      <td>[]</td>\n",
       "    </tr>\n",
       "  </tbody>\n",
       "</table>\n",
       "<p>14162 rows × 5 columns</p>\n",
       "</div>"
      ],
      "text/plain": [
       "       author_id                                            country  \\\n",
       "0          aut_0                   [China, China, China, Hong Kong]   \n",
       "1          aut_1  [United States, United States, United States, ...   \n",
       "2          aut_2  [China, China, China, China, China, China, Chi...   \n",
       "3          aut_3  [Italy, Italy, France, Nigeria, Malaysia, Saud...   \n",
       "4          aut_4                                            [Italy]   \n",
       "...          ...                                                ...   \n",
       "14157  aut_14158                           [Poland, Poland, Poland]   \n",
       "14158  aut_14159                                   [Poland, Poland]   \n",
       "14159  aut_14160                                           [Poland]   \n",
       "14160  aut_14161                                           [Poland]   \n",
       "14161  aut_14162                                                 []   \n",
       "\n",
       "                                                   given  \\\n",
       "0                    [Jing, Jingheng, Jing, (Luna) Jing]   \n",
       "1                 [Qing, Qing, (Grace) Qing, Grace Qing]   \n",
       "2      [Yongquan, Yonghong, Yong, Dayong, Yongwu, Yon...   \n",
       "3      [Andrea, Alessandro, Ado Adamou Abba, Hafizull...   \n",
       "4                                            [Antonella]   \n",
       "...                                                  ...   \n",
       "14157                        [Andrzej, Andrzej, Andrzej]   \n",
       "14158                                 [Andrzej, Andrzej]   \n",
       "14159                                     [Andrzej Lech]   \n",
       "14160                                       [Andrzej R.]   \n",
       "14161                                                 []   \n",
       "\n",
       "                                                  family  \\\n",
       "0                                   [Cai, Cai, Cai, Cai]   \n",
       "1                                   [Hao, Hao, Hao, Hao]   \n",
       "2      [Zhou, Zhou, Zhou, Zhou, Zhou, Zhou, Zhou, Zho...   \n",
       "3      [Abba, Abbà, Ari, Ahmed, Haruna, Abba, Abba, A...   \n",
       "4                                                [Agodi]   \n",
       "...                                                  ...   \n",
       "14157               [Ziółkowski, Ziółkowski, Ziółkowski]   \n",
       "14158                                     [Ziȩba, Zieba]   \n",
       "14159                                       [Dawidowicz]   \n",
       "14160                                           [Reindl]   \n",
       "14161                                                 []   \n",
       "\n",
       "                                               doc_count  \n",
       "0                                         [23, 22, 1, 1]  \n",
       "1                                         [86, 11, 2, 1]  \n",
       "2      [286, 220, 193, 170, 164, 151, 100, 92, 74, 64...  \n",
       "3                         [75, 65, 44, 19, 17, 15, 8, 3]  \n",
       "4                                                  [234]  \n",
       "...                                                  ...  \n",
       "14157                                       [33, 27, 18]  \n",
       "14158                                          [103, 41]  \n",
       "14159                                              [203]  \n",
       "14160                                               [20]  \n",
       "14161                                                 []  \n",
       "\n",
       "[14162 rows x 5 columns]"
      ]
     },
     "execution_count": 24,
     "metadata": {},
     "output_type": "execute_result"
    }
   ],
   "source": [
    "pd.DataFrame(author_out_list)"
   ]
  },
  {
   "cell_type": "code",
   "execution_count": 36,
   "metadata": {},
   "outputs": [],
   "source": [
    "with open(\"author_out_list\",\"wb\") as p:\n",
    "    pickle.dump(author_out_list, p)"
   ]
  },
  {
   "cell_type": "code",
   "execution_count": 40,
   "metadata": {},
   "outputs": [
    {
     "data": {
      "text/html": [
       "<div>\n",
       "<style scoped>\n",
       "    .dataframe tbody tr th:only-of-type {\n",
       "        vertical-align: middle;\n",
       "    }\n",
       "\n",
       "    .dataframe tbody tr th {\n",
       "        vertical-align: top;\n",
       "    }\n",
       "\n",
       "    .dataframe thead th {\n",
       "        text-align: right;\n",
       "    }\n",
       "</style>\n",
       "<table border=\"1\" class=\"dataframe\">\n",
       "  <thead>\n",
       "    <tr style=\"text-align: right;\">\n",
       "      <th></th>\n",
       "      <th>new_given</th>\n",
       "      <th>new_family</th>\n",
       "      <th>SA_list</th>\n",
       "    </tr>\n",
       "    <tr>\n",
       "      <th>index</th>\n",
       "      <th></th>\n",
       "      <th></th>\n",
       "      <th></th>\n",
       "    </tr>\n",
       "  </thead>\n",
       "  <tbody>\n",
       "    <tr>\n",
       "      <th>aut_14161</th>\n",
       "      <td>andrzej r.</td>\n",
       "      <td>reindl</td>\n",
       "      <td>[Medicine, Environmental Science]</td>\n",
       "    </tr>\n",
       "    <tr>\n",
       "      <th>aut_14162</th>\n",
       "      <td>andrzej s.</td>\n",
       "      <td>murawski</td>\n",
       "      <td>[Social Sciences]</td>\n",
       "    </tr>\n",
       "    <tr>\n",
       "      <th>aut_14163</th>\n",
       "      <td>andr� c.</td>\n",
       "      <td>pieterse</td>\n",
       "      <td>[Arts and Humanities]</td>\n",
       "    </tr>\n",
       "    <tr>\n",
       "      <th>aut_14164</th>\n",
       "      <td>andus wing-kuen</td>\n",
       "      <td>wong</td>\n",
       "      <td>[Arts and Humanities, Social Sciences]</td>\n",
       "    </tr>\n",
       "    <tr>\n",
       "      <th>aut_14165</th>\n",
       "      <td>andy</td>\n",
       "      <td>aschwanden</td>\n",
       "      <td>[Multidisciplinary]</td>\n",
       "    </tr>\n",
       "    <tr>\n",
       "      <th>...</th>\n",
       "      <td>...</td>\n",
       "      <td>...</td>\n",
       "      <td>...</td>\n",
       "    </tr>\n",
       "    <tr>\n",
       "      <th>aut_146533</th>\n",
       "      <td>žiga</td>\n",
       "      <td>šušteršic</td>\n",
       "      <td>[Physics and Astronomy, Materials Science, Eng...</td>\n",
       "    </tr>\n",
       "    <tr>\n",
       "      <th>aut_146534</th>\n",
       "      <td>živa bricman</td>\n",
       "      <td>rejc</td>\n",
       "      <td>[Engineering, Energy, Chemical Engineering, En...</td>\n",
       "    </tr>\n",
       "    <tr>\n",
       "      <th>aut_146535</th>\n",
       "      <td>а.kh.</td>\n",
       "      <td>inoyatov</td>\n",
       "      <td>[Materials Science, Physics and Astronomy]</td>\n",
       "    </tr>\n",
       "    <tr>\n",
       "      <th>aut_146536</th>\n",
       "      <td>е.</td>\n",
       "      <td>blagodatskaya</td>\n",
       "      <td>[Agricultural and Biological Sciences, Immunol...</td>\n",
       "    </tr>\n",
       "    <tr>\n",
       "      <th>aut_146537</th>\n",
       "      <td>ᴌukasz</td>\n",
       "      <td>boguszewicz</td>\n",
       "      <td>[Physics and Astronomy]</td>\n",
       "    </tr>\n",
       "  </tbody>\n",
       "</table>\n",
       "<p>132377 rows × 3 columns</p>\n",
       "</div>"
      ],
      "text/plain": [
       "                  new_given     new_family  \\\n",
       "index                                        \n",
       "aut_14161        andrzej r.         reindl   \n",
       "aut_14162        andrzej s.       murawski   \n",
       "aut_14163          andr� c.       pieterse   \n",
       "aut_14164   andus wing-kuen           wong   \n",
       "aut_14165              andy     aschwanden   \n",
       "...                     ...            ...   \n",
       "aut_146533             žiga      šušteršic   \n",
       "aut_146534     živa bricman           rejc   \n",
       "aut_146535            а.kh.       inoyatov   \n",
       "aut_146536               е.  blagodatskaya   \n",
       "aut_146537           ᴌukasz    boguszewicz   \n",
       "\n",
       "                                                      SA_list  \n",
       "index                                                          \n",
       "aut_14161                   [Medicine, Environmental Science]  \n",
       "aut_14162                                   [Social Sciences]  \n",
       "aut_14163                               [Arts and Humanities]  \n",
       "aut_14164              [Arts and Humanities, Social Sciences]  \n",
       "aut_14165                                 [Multidisciplinary]  \n",
       "...                                                       ...  \n",
       "aut_146533  [Physics and Astronomy, Materials Science, Eng...  \n",
       "aut_146534  [Engineering, Energy, Chemical Engineering, En...  \n",
       "aut_146535         [Materials Science, Physics and Astronomy]  \n",
       "aut_146536  [Agricultural and Biological Sciences, Immunol...  \n",
       "aut_146537                            [Physics and Astronomy]  \n",
       "\n",
       "[132377 rows x 3 columns]"
      ]
     },
     "execution_count": 40,
     "metadata": {},
     "output_type": "execute_result"
    }
   ],
   "source": [
    "q1_first_author_df[[\"new_given\",\"new_family\",\"SA_list\"]][14161:]"
   ]
  },
  {
   "cell_type": "code",
   "execution_count": 33,
   "metadata": {},
   "outputs": [
    {
     "data": {
      "text/html": [
       "<div>\n",
       "<style scoped>\n",
       "    .dataframe tbody tr th:only-of-type {\n",
       "        vertical-align: middle;\n",
       "    }\n",
       "\n",
       "    .dataframe tbody tr th {\n",
       "        vertical-align: top;\n",
       "    }\n",
       "\n",
       "    .dataframe thead th {\n",
       "        text-align: right;\n",
       "    }\n",
       "</style>\n",
       "<table border=\"1\" class=\"dataframe\">\n",
       "  <thead>\n",
       "    <tr style=\"text-align: right;\">\n",
       "      <th></th>\n",
       "      <th>new_given</th>\n",
       "      <th>new_family</th>\n",
       "      <th>SA_list</th>\n",
       "      <th>DOI</th>\n",
       "    </tr>\n",
       "    <tr>\n",
       "      <th>index</th>\n",
       "      <th></th>\n",
       "      <th></th>\n",
       "      <th></th>\n",
       "      <th></th>\n",
       "    </tr>\n",
       "  </thead>\n",
       "  <tbody>\n",
       "    <tr>\n",
       "      <th>aut_14163</th>\n",
       "      <td>andr� c.</td>\n",
       "      <td>pieterse</td>\n",
       "      <td>[Arts and Humanities]</td>\n",
       "      <td>[10.4102/ve.v36i1.1420]</td>\n",
       "    </tr>\n",
       "    <tr>\n",
       "      <th>aut_112348</th>\n",
       "      <td>roc��o</td>\n",
       "      <td>perez-iglesias</td>\n",
       "      <td>[Medicine]</td>\n",
       "      <td>[10.1176/appi.ajp.2009.09050716]</td>\n",
       "    </tr>\n",
       "  </tbody>\n",
       "</table>\n",
       "</div>"
      ],
      "text/plain": [
       "           new_given      new_family                SA_list  \\\n",
       "index                                                         \n",
       "aut_14163   andr� c.        pieterse  [Arts and Humanities]   \n",
       "aut_112348    roc��o  perez-iglesias             [Medicine]   \n",
       "\n",
       "                                         DOI  \n",
       "index                                         \n",
       "aut_14163            [10.4102/ve.v36i1.1420]  \n",
       "aut_112348  [10.1176/appi.ajp.2009.09050716]  "
      ]
     },
     "execution_count": 33,
     "metadata": {},
     "output_type": "execute_result"
    }
   ],
   "source": [
    "q1_first_author_df[q1_first_author_df.new_given.map(lambda x: bool(re.search(\"�\", x)))]"
   ]
  },
  {
   "cell_type": "code",
   "execution_count": 32,
   "metadata": {},
   "outputs": [
    {
     "data": {
      "text/html": [
       "<div>\n",
       "<style scoped>\n",
       "    .dataframe tbody tr th:only-of-type {\n",
       "        vertical-align: middle;\n",
       "    }\n",
       "\n",
       "    .dataframe tbody tr th {\n",
       "        vertical-align: top;\n",
       "    }\n",
       "\n",
       "    .dataframe thead th {\n",
       "        text-align: right;\n",
       "    }\n",
       "</style>\n",
       "<table border=\"1\" class=\"dataframe\">\n",
       "  <thead>\n",
       "    <tr style=\"text-align: right;\">\n",
       "      <th></th>\n",
       "      <th>new_given</th>\n",
       "      <th>new_family</th>\n",
       "      <th>SA_list</th>\n",
       "      <th>DOI</th>\n",
       "    </tr>\n",
       "    <tr>\n",
       "      <th>index</th>\n",
       "      <th></th>\n",
       "      <th></th>\n",
       "      <th></th>\n",
       "      <th></th>\n",
       "    </tr>\n",
       "  </thead>\n",
       "  <tbody>\n",
       "    <tr>\n",
       "      <th>aut_4915</th>\n",
       "      <td>V. L.</td>\n",
       "      <td>castroagud�n</td>\n",
       "      <td>[Agricultural and Biological Sciences]</td>\n",
       "      <td>[10.3767/003158516x692149]</td>\n",
       "    </tr>\n",
       "    <tr>\n",
       "      <th>aut_48200</th>\n",
       "      <td>gizem</td>\n",
       "      <td>h�l�r</td>\n",
       "      <td>[Medicine]</td>\n",
       "      <td>[10.1159/000371757]</td>\n",
       "    </tr>\n",
       "    <tr>\n",
       "      <th>aut_124149</th>\n",
       "      <td>stephan</td>\n",
       "      <td>k�hler</td>\n",
       "      <td>[Psychology, Medicine]</td>\n",
       "      <td>[10.1159/000369847]</td>\n",
       "    </tr>\n",
       "  </tbody>\n",
       "</table>\n",
       "</div>"
      ],
      "text/plain": [
       "           new_given    new_family                                 SA_list  \\\n",
       "index                                                                        \n",
       "aut_4915       V. L.  castroagud�n  [Agricultural and Biological Sciences]   \n",
       "aut_48200      gizem         h�l�r                              [Medicine]   \n",
       "aut_124149   stephan        k�hler                  [Psychology, Medicine]   \n",
       "\n",
       "                                   DOI  \n",
       "index                                   \n",
       "aut_4915    [10.3767/003158516x692149]  \n",
       "aut_48200          [10.1159/000371757]  \n",
       "aut_124149         [10.1159/000369847]  "
      ]
     },
     "execution_count": 32,
     "metadata": {},
     "output_type": "execute_result"
    }
   ],
   "source": [
    "q1_first_author_df[q1_first_author_df.new_family.map(lambda x: bool(re.search(\"�\", x)))]"
   ]
  },
  {
   "cell_type": "markdown",
   "metadata": {},
   "source": [
    "It is seen that we are able to capture this character with regex!\n",
    "\n",
    "Will drop them & create the loop once again!"
   ]
  },
  {
   "cell_type": "markdown",
   "metadata": {},
   "source": [
    "#### 5.5 - Take 3:"
   ]
  },
  {
   "cell_type": "code",
   "execution_count": 43,
   "metadata": {},
   "outputs": [],
   "source": [
    "first_author_input_dict_take3 = q1_first_author_df.drop([\"aut_4915\", \"aut_14163\", \"aut_112348\", \"aut_48200\", \"aut_124149\"])[[\"new_given\",\"new_family\",\"SA_list\"]][14162:].to_dict(\"index\")"
   ]
  },
  {
   "cell_type": "code",
   "execution_count": 44,
   "metadata": {},
   "outputs": [
    {
     "name": "stdout",
     "output_type": "stream",
     "text": [
      "Changed API key, now using key number 4: 3bd33d7e35df95cc6dc576fd67e7356d\n",
      "Changed API key, now using key number 5: 784ab6b22d3148f3d3f94a75596d0633\n"
     ]
    },
    {
     "ename": "ConnectionError",
     "evalue": "HTTPSConnectionPool(host='api.elsevier.com', port=443): Max retries exceeded with url: /content/search/author?query=AUTHLAST%28sawle%29+AND+AUTHFIRST%28ashley+d.%29+AND+SUBJAREA%28PHAR%29 (Caused by NewConnectionError('<urllib3.connection.HTTPSConnection object at 0x000001A76DF0A520>: Failed to establish a new connection: [WinError 10060] A connection attempt failed because the connected party did not properly respond after a period of time, or established connection failed because connected host has failed to respond'))",
     "output_type": "error",
     "traceback": [
      "\u001b[1;31m---------------------------------------------------------------------------\u001b[0m",
      "\u001b[1;31mTimeoutError\u001b[0m                              Traceback (most recent call last)",
      "\u001b[1;32mc:\\Users\\oguzk\\anaconda3\\lib\\site-packages\\urllib3\\connectionpool.py\u001b[0m in \u001b[0;36murlopen\u001b[1;34m(self, method, url, body, headers, retries, redirect, assert_same_host, timeout, pool_timeout, release_conn, chunked, body_pos, **response_kw)\u001b[0m\n\u001b[0;32m    698\u001b[0m             \u001b[1;31m# Make the request on the httplib connection object.\u001b[0m\u001b[1;33m\u001b[0m\u001b[1;33m\u001b[0m\u001b[1;33m\u001b[0m\u001b[0m\n\u001b[1;32m--> 699\u001b[1;33m             httplib_response = self._make_request(\n\u001b[0m\u001b[0;32m    700\u001b[0m                 \u001b[0mconn\u001b[0m\u001b[1;33m,\u001b[0m\u001b[1;33m\u001b[0m\u001b[1;33m\u001b[0m\u001b[0m\n",
      "\u001b[1;32mc:\\Users\\oguzk\\anaconda3\\lib\\site-packages\\urllib3\\connectionpool.py\u001b[0m in \u001b[0;36m_make_request\u001b[1;34m(self, conn, method, url, timeout, chunked, **httplib_request_kw)\u001b[0m\n\u001b[0;32m    381\u001b[0m         \u001b[1;32mtry\u001b[0m\u001b[1;33m:\u001b[0m\u001b[1;33m\u001b[0m\u001b[1;33m\u001b[0m\u001b[0m\n\u001b[1;32m--> 382\u001b[1;33m             \u001b[0mself\u001b[0m\u001b[1;33m.\u001b[0m\u001b[0m_validate_conn\u001b[0m\u001b[1;33m(\u001b[0m\u001b[0mconn\u001b[0m\u001b[1;33m)\u001b[0m\u001b[1;33m\u001b[0m\u001b[1;33m\u001b[0m\u001b[0m\n\u001b[0m\u001b[0;32m    383\u001b[0m         \u001b[1;32mexcept\u001b[0m \u001b[1;33m(\u001b[0m\u001b[0mSocketTimeout\u001b[0m\u001b[1;33m,\u001b[0m \u001b[0mBaseSSLError\u001b[0m\u001b[1;33m)\u001b[0m \u001b[1;32mas\u001b[0m \u001b[0me\u001b[0m\u001b[1;33m:\u001b[0m\u001b[1;33m\u001b[0m\u001b[1;33m\u001b[0m\u001b[0m\n",
      "\u001b[1;32mc:\\Users\\oguzk\\anaconda3\\lib\\site-packages\\urllib3\\connectionpool.py\u001b[0m in \u001b[0;36m_validate_conn\u001b[1;34m(self, conn)\u001b[0m\n\u001b[0;32m   1009\u001b[0m         \u001b[1;32mif\u001b[0m \u001b[1;32mnot\u001b[0m \u001b[0mgetattr\u001b[0m\u001b[1;33m(\u001b[0m\u001b[0mconn\u001b[0m\u001b[1;33m,\u001b[0m \u001b[1;34m\"sock\"\u001b[0m\u001b[1;33m,\u001b[0m \u001b[1;32mNone\u001b[0m\u001b[1;33m)\u001b[0m\u001b[1;33m:\u001b[0m  \u001b[1;31m# AppEngine might not have  `.sock`\u001b[0m\u001b[1;33m\u001b[0m\u001b[1;33m\u001b[0m\u001b[0m\n\u001b[1;32m-> 1010\u001b[1;33m             \u001b[0mconn\u001b[0m\u001b[1;33m.\u001b[0m\u001b[0mconnect\u001b[0m\u001b[1;33m(\u001b[0m\u001b[1;33m)\u001b[0m\u001b[1;33m\u001b[0m\u001b[1;33m\u001b[0m\u001b[0m\n\u001b[0m\u001b[0;32m   1011\u001b[0m \u001b[1;33m\u001b[0m\u001b[0m\n",
      "\u001b[1;32mc:\\Users\\oguzk\\anaconda3\\lib\\site-packages\\urllib3\\connection.py\u001b[0m in \u001b[0;36mconnect\u001b[1;34m(self)\u001b[0m\n\u001b[0;32m    410\u001b[0m \u001b[1;33m\u001b[0m\u001b[0m\n\u001b[1;32m--> 411\u001b[1;33m         self.sock = ssl_wrap_socket(\n\u001b[0m\u001b[0;32m    412\u001b[0m             \u001b[0msock\u001b[0m\u001b[1;33m=\u001b[0m\u001b[0mconn\u001b[0m\u001b[1;33m,\u001b[0m\u001b[1;33m\u001b[0m\u001b[1;33m\u001b[0m\u001b[0m\n",
      "\u001b[1;32mc:\\Users\\oguzk\\anaconda3\\lib\\site-packages\\urllib3\\util\\ssl_.py\u001b[0m in \u001b[0;36mssl_wrap_socket\u001b[1;34m(sock, keyfile, certfile, cert_reqs, ca_certs, server_hostname, ssl_version, ciphers, ssl_context, ca_cert_dir, key_password, ca_cert_data, tls_in_tls)\u001b[0m\n\u001b[0;32m    427\u001b[0m     \u001b[1;32mif\u001b[0m \u001b[0msend_sni\u001b[0m\u001b[1;33m:\u001b[0m\u001b[1;33m\u001b[0m\u001b[1;33m\u001b[0m\u001b[0m\n\u001b[1;32m--> 428\u001b[1;33m         ssl_sock = _ssl_wrap_socket_impl(\n\u001b[0m\u001b[0;32m    429\u001b[0m             \u001b[0msock\u001b[0m\u001b[1;33m,\u001b[0m \u001b[0mcontext\u001b[0m\u001b[1;33m,\u001b[0m \u001b[0mtls_in_tls\u001b[0m\u001b[1;33m,\u001b[0m \u001b[0mserver_hostname\u001b[0m\u001b[1;33m=\u001b[0m\u001b[0mserver_hostname\u001b[0m\u001b[1;33m\u001b[0m\u001b[1;33m\u001b[0m\u001b[0m\n",
      "\u001b[1;32mc:\\Users\\oguzk\\anaconda3\\lib\\site-packages\\urllib3\\util\\ssl_.py\u001b[0m in \u001b[0;36m_ssl_wrap_socket_impl\u001b[1;34m(sock, ssl_context, tls_in_tls, server_hostname)\u001b[0m\n\u001b[0;32m    471\u001b[0m     \u001b[1;32mif\u001b[0m \u001b[0mserver_hostname\u001b[0m\u001b[1;33m:\u001b[0m\u001b[1;33m\u001b[0m\u001b[1;33m\u001b[0m\u001b[0m\n\u001b[1;32m--> 472\u001b[1;33m         \u001b[1;32mreturn\u001b[0m \u001b[0mssl_context\u001b[0m\u001b[1;33m.\u001b[0m\u001b[0mwrap_socket\u001b[0m\u001b[1;33m(\u001b[0m\u001b[0msock\u001b[0m\u001b[1;33m,\u001b[0m \u001b[0mserver_hostname\u001b[0m\u001b[1;33m=\u001b[0m\u001b[0mserver_hostname\u001b[0m\u001b[1;33m)\u001b[0m\u001b[1;33m\u001b[0m\u001b[1;33m\u001b[0m\u001b[0m\n\u001b[0m\u001b[0;32m    473\u001b[0m     \u001b[1;32melse\u001b[0m\u001b[1;33m:\u001b[0m\u001b[1;33m\u001b[0m\u001b[1;33m\u001b[0m\u001b[0m\n",
      "\u001b[1;32mc:\\Users\\oguzk\\anaconda3\\lib\\ssl.py\u001b[0m in \u001b[0;36mwrap_socket\u001b[1;34m(self, sock, server_side, do_handshake_on_connect, suppress_ragged_eofs, server_hostname, session)\u001b[0m\n\u001b[0;32m    499\u001b[0m         \u001b[1;31m# ctx._wrap_socket()\u001b[0m\u001b[1;33m\u001b[0m\u001b[1;33m\u001b[0m\u001b[1;33m\u001b[0m\u001b[0m\n\u001b[1;32m--> 500\u001b[1;33m         return self.sslsocket_class._create(\n\u001b[0m\u001b[0;32m    501\u001b[0m             \u001b[0msock\u001b[0m\u001b[1;33m=\u001b[0m\u001b[0msock\u001b[0m\u001b[1;33m,\u001b[0m\u001b[1;33m\u001b[0m\u001b[1;33m\u001b[0m\u001b[0m\n",
      "\u001b[1;32mc:\\Users\\oguzk\\anaconda3\\lib\\ssl.py\u001b[0m in \u001b[0;36m_create\u001b[1;34m(cls, sock, server_side, do_handshake_on_connect, suppress_ragged_eofs, server_hostname, context, session)\u001b[0m\n\u001b[0;32m   1039\u001b[0m                         \u001b[1;32mraise\u001b[0m \u001b[0mValueError\u001b[0m\u001b[1;33m(\u001b[0m\u001b[1;34m\"do_handshake_on_connect should not be specified for non-blocking sockets\"\u001b[0m\u001b[1;33m)\u001b[0m\u001b[1;33m\u001b[0m\u001b[1;33m\u001b[0m\u001b[0m\n\u001b[1;32m-> 1040\u001b[1;33m                     \u001b[0mself\u001b[0m\u001b[1;33m.\u001b[0m\u001b[0mdo_handshake\u001b[0m\u001b[1;33m(\u001b[0m\u001b[1;33m)\u001b[0m\u001b[1;33m\u001b[0m\u001b[1;33m\u001b[0m\u001b[0m\n\u001b[0m\u001b[0;32m   1041\u001b[0m             \u001b[1;32mexcept\u001b[0m \u001b[1;33m(\u001b[0m\u001b[0mOSError\u001b[0m\u001b[1;33m,\u001b[0m \u001b[0mValueError\u001b[0m\u001b[1;33m)\u001b[0m\u001b[1;33m:\u001b[0m\u001b[1;33m\u001b[0m\u001b[1;33m\u001b[0m\u001b[0m\n",
      "\u001b[1;32mc:\\Users\\oguzk\\anaconda3\\lib\\ssl.py\u001b[0m in \u001b[0;36mdo_handshake\u001b[1;34m(self, block)\u001b[0m\n\u001b[0;32m   1308\u001b[0m                 \u001b[0mself\u001b[0m\u001b[1;33m.\u001b[0m\u001b[0msettimeout\u001b[0m\u001b[1;33m(\u001b[0m\u001b[1;32mNone\u001b[0m\u001b[1;33m)\u001b[0m\u001b[1;33m\u001b[0m\u001b[1;33m\u001b[0m\u001b[0m\n\u001b[1;32m-> 1309\u001b[1;33m             \u001b[0mself\u001b[0m\u001b[1;33m.\u001b[0m\u001b[0m_sslobj\u001b[0m\u001b[1;33m.\u001b[0m\u001b[0mdo_handshake\u001b[0m\u001b[1;33m(\u001b[0m\u001b[1;33m)\u001b[0m\u001b[1;33m\u001b[0m\u001b[1;33m\u001b[0m\u001b[0m\n\u001b[0m\u001b[0;32m   1310\u001b[0m         \u001b[1;32mfinally\u001b[0m\u001b[1;33m:\u001b[0m\u001b[1;33m\u001b[0m\u001b[1;33m\u001b[0m\u001b[0m\n",
      "\u001b[1;31mTimeoutError\u001b[0m: [WinError 10060] A connection attempt failed because the connected party did not properly respond after a period of time, or established connection failed because connected host has failed to respond",
      "\nDuring handling of the above exception, another exception occurred:\n",
      "\u001b[1;31mProtocolError\u001b[0m                             Traceback (most recent call last)",
      "\u001b[1;32mc:\\Users\\oguzk\\anaconda3\\lib\\site-packages\\requests\\adapters.py\u001b[0m in \u001b[0;36msend\u001b[1;34m(self, request, stream, timeout, verify, cert, proxies)\u001b[0m\n\u001b[0;32m    438\u001b[0m             \u001b[1;32mif\u001b[0m \u001b[1;32mnot\u001b[0m \u001b[0mchunked\u001b[0m\u001b[1;33m:\u001b[0m\u001b[1;33m\u001b[0m\u001b[1;33m\u001b[0m\u001b[0m\n\u001b[1;32m--> 439\u001b[1;33m                 resp = conn.urlopen(\n\u001b[0m\u001b[0;32m    440\u001b[0m                     \u001b[0mmethod\u001b[0m\u001b[1;33m=\u001b[0m\u001b[0mrequest\u001b[0m\u001b[1;33m.\u001b[0m\u001b[0mmethod\u001b[0m\u001b[1;33m,\u001b[0m\u001b[1;33m\u001b[0m\u001b[1;33m\u001b[0m\u001b[0m\n",
      "\u001b[1;32mc:\\Users\\oguzk\\anaconda3\\lib\\site-packages\\urllib3\\connectionpool.py\u001b[0m in \u001b[0;36murlopen\u001b[1;34m(self, method, url, body, headers, retries, redirect, assert_same_host, timeout, pool_timeout, release_conn, chunked, body_pos, **response_kw)\u001b[0m\n\u001b[0;32m    754\u001b[0m \u001b[1;33m\u001b[0m\u001b[0m\n\u001b[1;32m--> 755\u001b[1;33m             retries = retries.increment(\n\u001b[0m\u001b[0;32m    756\u001b[0m                 \u001b[0mmethod\u001b[0m\u001b[1;33m,\u001b[0m \u001b[0murl\u001b[0m\u001b[1;33m,\u001b[0m \u001b[0merror\u001b[0m\u001b[1;33m=\u001b[0m\u001b[0me\u001b[0m\u001b[1;33m,\u001b[0m \u001b[0m_pool\u001b[0m\u001b[1;33m=\u001b[0m\u001b[0mself\u001b[0m\u001b[1;33m,\u001b[0m \u001b[0m_stacktrace\u001b[0m\u001b[1;33m=\u001b[0m\u001b[0msys\u001b[0m\u001b[1;33m.\u001b[0m\u001b[0mexc_info\u001b[0m\u001b[1;33m(\u001b[0m\u001b[1;33m)\u001b[0m\u001b[1;33m[\u001b[0m\u001b[1;36m2\u001b[0m\u001b[1;33m]\u001b[0m\u001b[1;33m\u001b[0m\u001b[1;33m\u001b[0m\u001b[0m\n",
      "\u001b[1;32mc:\\Users\\oguzk\\anaconda3\\lib\\site-packages\\urllib3\\util\\retry.py\u001b[0m in \u001b[0;36mincrement\u001b[1;34m(self, method, url, response, error, _pool, _stacktrace)\u001b[0m\n\u001b[0;32m    531\u001b[0m             \u001b[1;32mif\u001b[0m \u001b[0mread\u001b[0m \u001b[1;32mis\u001b[0m \u001b[1;32mFalse\u001b[0m \u001b[1;32mor\u001b[0m \u001b[1;32mnot\u001b[0m \u001b[0mself\u001b[0m\u001b[1;33m.\u001b[0m\u001b[0m_is_method_retryable\u001b[0m\u001b[1;33m(\u001b[0m\u001b[0mmethod\u001b[0m\u001b[1;33m)\u001b[0m\u001b[1;33m:\u001b[0m\u001b[1;33m\u001b[0m\u001b[1;33m\u001b[0m\u001b[0m\n\u001b[1;32m--> 532\u001b[1;33m                 \u001b[1;32mraise\u001b[0m \u001b[0msix\u001b[0m\u001b[1;33m.\u001b[0m\u001b[0mreraise\u001b[0m\u001b[1;33m(\u001b[0m\u001b[0mtype\u001b[0m\u001b[1;33m(\u001b[0m\u001b[0merror\u001b[0m\u001b[1;33m)\u001b[0m\u001b[1;33m,\u001b[0m \u001b[0merror\u001b[0m\u001b[1;33m,\u001b[0m \u001b[0m_stacktrace\u001b[0m\u001b[1;33m)\u001b[0m\u001b[1;33m\u001b[0m\u001b[1;33m\u001b[0m\u001b[0m\n\u001b[0m\u001b[0;32m    533\u001b[0m             \u001b[1;32melif\u001b[0m \u001b[0mread\u001b[0m \u001b[1;32mis\u001b[0m \u001b[1;32mnot\u001b[0m \u001b[1;32mNone\u001b[0m\u001b[1;33m:\u001b[0m\u001b[1;33m\u001b[0m\u001b[1;33m\u001b[0m\u001b[0m\n",
      "\u001b[1;32mc:\\Users\\oguzk\\anaconda3\\lib\\site-packages\\urllib3\\packages\\six.py\u001b[0m in \u001b[0;36mreraise\u001b[1;34m(tp, value, tb)\u001b[0m\n\u001b[0;32m    733\u001b[0m             \u001b[1;32mif\u001b[0m \u001b[0mvalue\u001b[0m\u001b[1;33m.\u001b[0m\u001b[0m__traceback__\u001b[0m \u001b[1;32mis\u001b[0m \u001b[1;32mnot\u001b[0m \u001b[0mtb\u001b[0m\u001b[1;33m:\u001b[0m\u001b[1;33m\u001b[0m\u001b[1;33m\u001b[0m\u001b[0m\n\u001b[1;32m--> 734\u001b[1;33m                 \u001b[1;32mraise\u001b[0m \u001b[0mvalue\u001b[0m\u001b[1;33m.\u001b[0m\u001b[0mwith_traceback\u001b[0m\u001b[1;33m(\u001b[0m\u001b[0mtb\u001b[0m\u001b[1;33m)\u001b[0m\u001b[1;33m\u001b[0m\u001b[1;33m\u001b[0m\u001b[0m\n\u001b[0m\u001b[0;32m    735\u001b[0m             \u001b[1;32mraise\u001b[0m \u001b[0mvalue\u001b[0m\u001b[1;33m\u001b[0m\u001b[1;33m\u001b[0m\u001b[0m\n",
      "\u001b[1;32mc:\\Users\\oguzk\\anaconda3\\lib\\site-packages\\urllib3\\connectionpool.py\u001b[0m in \u001b[0;36murlopen\u001b[1;34m(self, method, url, body, headers, retries, redirect, assert_same_host, timeout, pool_timeout, release_conn, chunked, body_pos, **response_kw)\u001b[0m\n\u001b[0;32m    698\u001b[0m             \u001b[1;31m# Make the request on the httplib connection object.\u001b[0m\u001b[1;33m\u001b[0m\u001b[1;33m\u001b[0m\u001b[1;33m\u001b[0m\u001b[0m\n\u001b[1;32m--> 699\u001b[1;33m             httplib_response = self._make_request(\n\u001b[0m\u001b[0;32m    700\u001b[0m                 \u001b[0mconn\u001b[0m\u001b[1;33m,\u001b[0m\u001b[1;33m\u001b[0m\u001b[1;33m\u001b[0m\u001b[0m\n",
      "\u001b[1;32mc:\\Users\\oguzk\\anaconda3\\lib\\site-packages\\urllib3\\connectionpool.py\u001b[0m in \u001b[0;36m_make_request\u001b[1;34m(self, conn, method, url, timeout, chunked, **httplib_request_kw)\u001b[0m\n\u001b[0;32m    381\u001b[0m         \u001b[1;32mtry\u001b[0m\u001b[1;33m:\u001b[0m\u001b[1;33m\u001b[0m\u001b[1;33m\u001b[0m\u001b[0m\n\u001b[1;32m--> 382\u001b[1;33m             \u001b[0mself\u001b[0m\u001b[1;33m.\u001b[0m\u001b[0m_validate_conn\u001b[0m\u001b[1;33m(\u001b[0m\u001b[0mconn\u001b[0m\u001b[1;33m)\u001b[0m\u001b[1;33m\u001b[0m\u001b[1;33m\u001b[0m\u001b[0m\n\u001b[0m\u001b[0;32m    383\u001b[0m         \u001b[1;32mexcept\u001b[0m \u001b[1;33m(\u001b[0m\u001b[0mSocketTimeout\u001b[0m\u001b[1;33m,\u001b[0m \u001b[0mBaseSSLError\u001b[0m\u001b[1;33m)\u001b[0m \u001b[1;32mas\u001b[0m \u001b[0me\u001b[0m\u001b[1;33m:\u001b[0m\u001b[1;33m\u001b[0m\u001b[1;33m\u001b[0m\u001b[0m\n",
      "\u001b[1;32mc:\\Users\\oguzk\\anaconda3\\lib\\site-packages\\urllib3\\connectionpool.py\u001b[0m in \u001b[0;36m_validate_conn\u001b[1;34m(self, conn)\u001b[0m\n\u001b[0;32m   1009\u001b[0m         \u001b[1;32mif\u001b[0m \u001b[1;32mnot\u001b[0m \u001b[0mgetattr\u001b[0m\u001b[1;33m(\u001b[0m\u001b[0mconn\u001b[0m\u001b[1;33m,\u001b[0m \u001b[1;34m\"sock\"\u001b[0m\u001b[1;33m,\u001b[0m \u001b[1;32mNone\u001b[0m\u001b[1;33m)\u001b[0m\u001b[1;33m:\u001b[0m  \u001b[1;31m# AppEngine might not have  `.sock`\u001b[0m\u001b[1;33m\u001b[0m\u001b[1;33m\u001b[0m\u001b[0m\n\u001b[1;32m-> 1010\u001b[1;33m             \u001b[0mconn\u001b[0m\u001b[1;33m.\u001b[0m\u001b[0mconnect\u001b[0m\u001b[1;33m(\u001b[0m\u001b[1;33m)\u001b[0m\u001b[1;33m\u001b[0m\u001b[1;33m\u001b[0m\u001b[0m\n\u001b[0m\u001b[0;32m   1011\u001b[0m \u001b[1;33m\u001b[0m\u001b[0m\n",
      "\u001b[1;32mc:\\Users\\oguzk\\anaconda3\\lib\\site-packages\\urllib3\\connection.py\u001b[0m in \u001b[0;36mconnect\u001b[1;34m(self)\u001b[0m\n\u001b[0;32m    410\u001b[0m \u001b[1;33m\u001b[0m\u001b[0m\n\u001b[1;32m--> 411\u001b[1;33m         self.sock = ssl_wrap_socket(\n\u001b[0m\u001b[0;32m    412\u001b[0m             \u001b[0msock\u001b[0m\u001b[1;33m=\u001b[0m\u001b[0mconn\u001b[0m\u001b[1;33m,\u001b[0m\u001b[1;33m\u001b[0m\u001b[1;33m\u001b[0m\u001b[0m\n",
      "\u001b[1;32mc:\\Users\\oguzk\\anaconda3\\lib\\site-packages\\urllib3\\util\\ssl_.py\u001b[0m in \u001b[0;36mssl_wrap_socket\u001b[1;34m(sock, keyfile, certfile, cert_reqs, ca_certs, server_hostname, ssl_version, ciphers, ssl_context, ca_cert_dir, key_password, ca_cert_data, tls_in_tls)\u001b[0m\n\u001b[0;32m    427\u001b[0m     \u001b[1;32mif\u001b[0m \u001b[0msend_sni\u001b[0m\u001b[1;33m:\u001b[0m\u001b[1;33m\u001b[0m\u001b[1;33m\u001b[0m\u001b[0m\n\u001b[1;32m--> 428\u001b[1;33m         ssl_sock = _ssl_wrap_socket_impl(\n\u001b[0m\u001b[0;32m    429\u001b[0m             \u001b[0msock\u001b[0m\u001b[1;33m,\u001b[0m \u001b[0mcontext\u001b[0m\u001b[1;33m,\u001b[0m \u001b[0mtls_in_tls\u001b[0m\u001b[1;33m,\u001b[0m \u001b[0mserver_hostname\u001b[0m\u001b[1;33m=\u001b[0m\u001b[0mserver_hostname\u001b[0m\u001b[1;33m\u001b[0m\u001b[1;33m\u001b[0m\u001b[0m\n",
      "\u001b[1;32mc:\\Users\\oguzk\\anaconda3\\lib\\site-packages\\urllib3\\util\\ssl_.py\u001b[0m in \u001b[0;36m_ssl_wrap_socket_impl\u001b[1;34m(sock, ssl_context, tls_in_tls, server_hostname)\u001b[0m\n\u001b[0;32m    471\u001b[0m     \u001b[1;32mif\u001b[0m \u001b[0mserver_hostname\u001b[0m\u001b[1;33m:\u001b[0m\u001b[1;33m\u001b[0m\u001b[1;33m\u001b[0m\u001b[0m\n\u001b[1;32m--> 472\u001b[1;33m         \u001b[1;32mreturn\u001b[0m \u001b[0mssl_context\u001b[0m\u001b[1;33m.\u001b[0m\u001b[0mwrap_socket\u001b[0m\u001b[1;33m(\u001b[0m\u001b[0msock\u001b[0m\u001b[1;33m,\u001b[0m \u001b[0mserver_hostname\u001b[0m\u001b[1;33m=\u001b[0m\u001b[0mserver_hostname\u001b[0m\u001b[1;33m)\u001b[0m\u001b[1;33m\u001b[0m\u001b[1;33m\u001b[0m\u001b[0m\n\u001b[0m\u001b[0;32m    473\u001b[0m     \u001b[1;32melse\u001b[0m\u001b[1;33m:\u001b[0m\u001b[1;33m\u001b[0m\u001b[1;33m\u001b[0m\u001b[0m\n",
      "\u001b[1;32mc:\\Users\\oguzk\\anaconda3\\lib\\ssl.py\u001b[0m in \u001b[0;36mwrap_socket\u001b[1;34m(self, sock, server_side, do_handshake_on_connect, suppress_ragged_eofs, server_hostname, session)\u001b[0m\n\u001b[0;32m    499\u001b[0m         \u001b[1;31m# ctx._wrap_socket()\u001b[0m\u001b[1;33m\u001b[0m\u001b[1;33m\u001b[0m\u001b[1;33m\u001b[0m\u001b[0m\n\u001b[1;32m--> 500\u001b[1;33m         return self.sslsocket_class._create(\n\u001b[0m\u001b[0;32m    501\u001b[0m             \u001b[0msock\u001b[0m\u001b[1;33m=\u001b[0m\u001b[0msock\u001b[0m\u001b[1;33m,\u001b[0m\u001b[1;33m\u001b[0m\u001b[1;33m\u001b[0m\u001b[0m\n",
      "\u001b[1;32mc:\\Users\\oguzk\\anaconda3\\lib\\ssl.py\u001b[0m in \u001b[0;36m_create\u001b[1;34m(cls, sock, server_side, do_handshake_on_connect, suppress_ragged_eofs, server_hostname, context, session)\u001b[0m\n\u001b[0;32m   1039\u001b[0m                         \u001b[1;32mraise\u001b[0m \u001b[0mValueError\u001b[0m\u001b[1;33m(\u001b[0m\u001b[1;34m\"do_handshake_on_connect should not be specified for non-blocking sockets\"\u001b[0m\u001b[1;33m)\u001b[0m\u001b[1;33m\u001b[0m\u001b[1;33m\u001b[0m\u001b[0m\n\u001b[1;32m-> 1040\u001b[1;33m                     \u001b[0mself\u001b[0m\u001b[1;33m.\u001b[0m\u001b[0mdo_handshake\u001b[0m\u001b[1;33m(\u001b[0m\u001b[1;33m)\u001b[0m\u001b[1;33m\u001b[0m\u001b[1;33m\u001b[0m\u001b[0m\n\u001b[0m\u001b[0;32m   1041\u001b[0m             \u001b[1;32mexcept\u001b[0m \u001b[1;33m(\u001b[0m\u001b[0mOSError\u001b[0m\u001b[1;33m,\u001b[0m \u001b[0mValueError\u001b[0m\u001b[1;33m)\u001b[0m\u001b[1;33m:\u001b[0m\u001b[1;33m\u001b[0m\u001b[1;33m\u001b[0m\u001b[0m\n",
      "\u001b[1;32mc:\\Users\\oguzk\\anaconda3\\lib\\ssl.py\u001b[0m in \u001b[0;36mdo_handshake\u001b[1;34m(self, block)\u001b[0m\n\u001b[0;32m   1308\u001b[0m                 \u001b[0mself\u001b[0m\u001b[1;33m.\u001b[0m\u001b[0msettimeout\u001b[0m\u001b[1;33m(\u001b[0m\u001b[1;32mNone\u001b[0m\u001b[1;33m)\u001b[0m\u001b[1;33m\u001b[0m\u001b[1;33m\u001b[0m\u001b[0m\n\u001b[1;32m-> 1309\u001b[1;33m             \u001b[0mself\u001b[0m\u001b[1;33m.\u001b[0m\u001b[0m_sslobj\u001b[0m\u001b[1;33m.\u001b[0m\u001b[0mdo_handshake\u001b[0m\u001b[1;33m(\u001b[0m\u001b[1;33m)\u001b[0m\u001b[1;33m\u001b[0m\u001b[1;33m\u001b[0m\u001b[0m\n\u001b[0m\u001b[0;32m   1310\u001b[0m         \u001b[1;32mfinally\u001b[0m\u001b[1;33m:\u001b[0m\u001b[1;33m\u001b[0m\u001b[1;33m\u001b[0m\u001b[0m\n",
      "\u001b[1;31mProtocolError\u001b[0m: ('Connection aborted.', TimeoutError(10060, 'A connection attempt failed because the connected party did not properly respond after a period of time, or established connection failed because connected host has failed to respond', None, 10060, None))",
      "\nDuring handling of the above exception, another exception occurred:\n",
      "\u001b[1;31mConnectionError\u001b[0m                           Traceback (most recent call last)",
      "\u001b[1;32m<ipython-input-44-cbfd4ab5d296>\u001b[0m in \u001b[0;36m<module>\u001b[1;34m\u001b[0m\n\u001b[0;32m     21\u001b[0m         \u001b[0mauth_srch\u001b[0m \u001b[1;33m=\u001b[0m \u001b[0mElsSearch\u001b[0m\u001b[1;33m(\u001b[0m\u001b[1;34mf'AUTHLAST({family_in}) AND AUTHFIRST({given_in}) AND {sbj_area_query_creator(sa_in)}'\u001b[0m\u001b[1;33m,\u001b[0m\u001b[1;34m'author'\u001b[0m\u001b[1;33m)\u001b[0m\u001b[1;33m\u001b[0m\u001b[1;33m\u001b[0m\u001b[0m\n\u001b[1;32m---> 22\u001b[1;33m         \u001b[0mauth_srch\u001b[0m\u001b[1;33m.\u001b[0m\u001b[0mexecute\u001b[0m\u001b[1;33m(\u001b[0m\u001b[0mclient\u001b[0m\u001b[1;33m)\u001b[0m\u001b[1;33m\u001b[0m\u001b[1;33m\u001b[0m\u001b[0m\n\u001b[0m\u001b[0;32m     23\u001b[0m     \u001b[1;32mexcept\u001b[0m\u001b[1;33m:\u001b[0m\u001b[1;33m\u001b[0m\u001b[1;33m\u001b[0m\u001b[0m\n",
      "\u001b[1;32mc:\\Users\\oguzk\\anaconda3\\lib\\site-packages\\elsapy\\elssearch.py\u001b[0m in \u001b[0;36mexecute\u001b[1;34m(self, els_client, get_all)\u001b[0m\n\u001b[0;32m     94\u001b[0m         \u001b[1;31m## TODO: add exception handling\u001b[0m\u001b[1;33m\u001b[0m\u001b[1;33m\u001b[0m\u001b[1;33m\u001b[0m\u001b[0m\n\u001b[1;32m---> 95\u001b[1;33m         \u001b[0mapi_response\u001b[0m \u001b[1;33m=\u001b[0m \u001b[0mels_client\u001b[0m\u001b[1;33m.\u001b[0m\u001b[0mexec_request\u001b[0m\u001b[1;33m(\u001b[0m\u001b[0mself\u001b[0m\u001b[1;33m.\u001b[0m\u001b[0m_uri\u001b[0m\u001b[1;33m)\u001b[0m\u001b[1;33m\u001b[0m\u001b[1;33m\u001b[0m\u001b[0m\n\u001b[0m\u001b[0;32m     96\u001b[0m         \u001b[0mself\u001b[0m\u001b[1;33m.\u001b[0m\u001b[0m_tot_num_res\u001b[0m \u001b[1;33m=\u001b[0m \u001b[0mint\u001b[0m\u001b[1;33m(\u001b[0m\u001b[0mapi_response\u001b[0m\u001b[1;33m[\u001b[0m\u001b[1;34m'search-results'\u001b[0m\u001b[1;33m]\u001b[0m\u001b[1;33m[\u001b[0m\u001b[1;34m'opensearch:totalResults'\u001b[0m\u001b[1;33m]\u001b[0m\u001b[1;33m)\u001b[0m\u001b[1;33m\u001b[0m\u001b[1;33m\u001b[0m\u001b[0m\n",
      "\u001b[1;32mc:\\Users\\oguzk\\anaconda3\\lib\\site-packages\\elsapy\\elsclient.py\u001b[0m in \u001b[0;36mexec_request\u001b[1;34m(self, URL)\u001b[0m\n\u001b[0;32m    109\u001b[0m         \u001b[0mlogger\u001b[0m\u001b[1;33m.\u001b[0m\u001b[0minfo\u001b[0m\u001b[1;33m(\u001b[0m\u001b[1;34m'Sending GET request to '\u001b[0m \u001b[1;33m+\u001b[0m \u001b[0mURL\u001b[0m\u001b[1;33m)\u001b[0m\u001b[1;33m\u001b[0m\u001b[1;33m\u001b[0m\u001b[0m\n\u001b[1;32m--> 110\u001b[1;33m         r = requests.get(\n\u001b[0m\u001b[0;32m    111\u001b[0m             \u001b[0mURL\u001b[0m\u001b[1;33m,\u001b[0m\u001b[1;33m\u001b[0m\u001b[1;33m\u001b[0m\u001b[0m\n",
      "\u001b[1;32mc:\\Users\\oguzk\\anaconda3\\lib\\site-packages\\requests\\api.py\u001b[0m in \u001b[0;36mget\u001b[1;34m(url, params, **kwargs)\u001b[0m\n\u001b[0;32m     75\u001b[0m     \u001b[0mkwargs\u001b[0m\u001b[1;33m.\u001b[0m\u001b[0msetdefault\u001b[0m\u001b[1;33m(\u001b[0m\u001b[1;34m'allow_redirects'\u001b[0m\u001b[1;33m,\u001b[0m \u001b[1;32mTrue\u001b[0m\u001b[1;33m)\u001b[0m\u001b[1;33m\u001b[0m\u001b[1;33m\u001b[0m\u001b[0m\n\u001b[1;32m---> 76\u001b[1;33m     \u001b[1;32mreturn\u001b[0m \u001b[0mrequest\u001b[0m\u001b[1;33m(\u001b[0m\u001b[1;34m'get'\u001b[0m\u001b[1;33m,\u001b[0m \u001b[0murl\u001b[0m\u001b[1;33m,\u001b[0m \u001b[0mparams\u001b[0m\u001b[1;33m=\u001b[0m\u001b[0mparams\u001b[0m\u001b[1;33m,\u001b[0m \u001b[1;33m**\u001b[0m\u001b[0mkwargs\u001b[0m\u001b[1;33m)\u001b[0m\u001b[1;33m\u001b[0m\u001b[1;33m\u001b[0m\u001b[0m\n\u001b[0m\u001b[0;32m     77\u001b[0m \u001b[1;33m\u001b[0m\u001b[0m\n",
      "\u001b[1;32mc:\\Users\\oguzk\\anaconda3\\lib\\site-packages\\requests\\api.py\u001b[0m in \u001b[0;36mrequest\u001b[1;34m(method, url, **kwargs)\u001b[0m\n\u001b[0;32m     60\u001b[0m     \u001b[1;32mwith\u001b[0m \u001b[0msessions\u001b[0m\u001b[1;33m.\u001b[0m\u001b[0mSession\u001b[0m\u001b[1;33m(\u001b[0m\u001b[1;33m)\u001b[0m \u001b[1;32mas\u001b[0m \u001b[0msession\u001b[0m\u001b[1;33m:\u001b[0m\u001b[1;33m\u001b[0m\u001b[1;33m\u001b[0m\u001b[0m\n\u001b[1;32m---> 61\u001b[1;33m         \u001b[1;32mreturn\u001b[0m \u001b[0msession\u001b[0m\u001b[1;33m.\u001b[0m\u001b[0mrequest\u001b[0m\u001b[1;33m(\u001b[0m\u001b[0mmethod\u001b[0m\u001b[1;33m=\u001b[0m\u001b[0mmethod\u001b[0m\u001b[1;33m,\u001b[0m \u001b[0murl\u001b[0m\u001b[1;33m=\u001b[0m\u001b[0murl\u001b[0m\u001b[1;33m,\u001b[0m \u001b[1;33m**\u001b[0m\u001b[0mkwargs\u001b[0m\u001b[1;33m)\u001b[0m\u001b[1;33m\u001b[0m\u001b[1;33m\u001b[0m\u001b[0m\n\u001b[0m\u001b[0;32m     62\u001b[0m \u001b[1;33m\u001b[0m\u001b[0m\n",
      "\u001b[1;32mc:\\Users\\oguzk\\anaconda3\\lib\\site-packages\\requests\\sessions.py\u001b[0m in \u001b[0;36mrequest\u001b[1;34m(self, method, url, params, data, headers, cookies, files, auth, timeout, allow_redirects, proxies, hooks, stream, verify, cert, json)\u001b[0m\n\u001b[0;32m    541\u001b[0m         \u001b[0msend_kwargs\u001b[0m\u001b[1;33m.\u001b[0m\u001b[0mupdate\u001b[0m\u001b[1;33m(\u001b[0m\u001b[0msettings\u001b[0m\u001b[1;33m)\u001b[0m\u001b[1;33m\u001b[0m\u001b[1;33m\u001b[0m\u001b[0m\n\u001b[1;32m--> 542\u001b[1;33m         \u001b[0mresp\u001b[0m \u001b[1;33m=\u001b[0m \u001b[0mself\u001b[0m\u001b[1;33m.\u001b[0m\u001b[0msend\u001b[0m\u001b[1;33m(\u001b[0m\u001b[0mprep\u001b[0m\u001b[1;33m,\u001b[0m \u001b[1;33m**\u001b[0m\u001b[0msend_kwargs\u001b[0m\u001b[1;33m)\u001b[0m\u001b[1;33m\u001b[0m\u001b[1;33m\u001b[0m\u001b[0m\n\u001b[0m\u001b[0;32m    543\u001b[0m \u001b[1;33m\u001b[0m\u001b[0m\n",
      "\u001b[1;32mc:\\Users\\oguzk\\anaconda3\\lib\\site-packages\\requests\\sessions.py\u001b[0m in \u001b[0;36msend\u001b[1;34m(self, request, **kwargs)\u001b[0m\n\u001b[0;32m    654\u001b[0m         \u001b[1;31m# Send the request\u001b[0m\u001b[1;33m\u001b[0m\u001b[1;33m\u001b[0m\u001b[1;33m\u001b[0m\u001b[0m\n\u001b[1;32m--> 655\u001b[1;33m         \u001b[0mr\u001b[0m \u001b[1;33m=\u001b[0m \u001b[0madapter\u001b[0m\u001b[1;33m.\u001b[0m\u001b[0msend\u001b[0m\u001b[1;33m(\u001b[0m\u001b[0mrequest\u001b[0m\u001b[1;33m,\u001b[0m \u001b[1;33m**\u001b[0m\u001b[0mkwargs\u001b[0m\u001b[1;33m)\u001b[0m\u001b[1;33m\u001b[0m\u001b[1;33m\u001b[0m\u001b[0m\n\u001b[0m\u001b[0;32m    656\u001b[0m \u001b[1;33m\u001b[0m\u001b[0m\n",
      "\u001b[1;32mc:\\Users\\oguzk\\anaconda3\\lib\\site-packages\\requests\\adapters.py\u001b[0m in \u001b[0;36msend\u001b[1;34m(self, request, stream, timeout, verify, cert, proxies)\u001b[0m\n\u001b[0;32m    497\u001b[0m         \u001b[1;32mexcept\u001b[0m \u001b[1;33m(\u001b[0m\u001b[0mProtocolError\u001b[0m\u001b[1;33m,\u001b[0m \u001b[0msocket\u001b[0m\u001b[1;33m.\u001b[0m\u001b[0merror\u001b[0m\u001b[1;33m)\u001b[0m \u001b[1;32mas\u001b[0m \u001b[0merr\u001b[0m\u001b[1;33m:\u001b[0m\u001b[1;33m\u001b[0m\u001b[1;33m\u001b[0m\u001b[0m\n\u001b[1;32m--> 498\u001b[1;33m             \u001b[1;32mraise\u001b[0m \u001b[0mConnectionError\u001b[0m\u001b[1;33m(\u001b[0m\u001b[0merr\u001b[0m\u001b[1;33m,\u001b[0m \u001b[0mrequest\u001b[0m\u001b[1;33m=\u001b[0m\u001b[0mrequest\u001b[0m\u001b[1;33m)\u001b[0m\u001b[1;33m\u001b[0m\u001b[1;33m\u001b[0m\u001b[0m\n\u001b[0m\u001b[0;32m    499\u001b[0m \u001b[1;33m\u001b[0m\u001b[0m\n",
      "\u001b[1;31mConnectionError\u001b[0m: ('Connection aborted.', TimeoutError(10060, 'A connection attempt failed because the connected party did not properly respond after a period of time, or established connection failed because connected host has failed to respond', None, 10060, None))",
      "\nDuring handling of the above exception, another exception occurred:\n",
      "\u001b[1;31mTimeoutError\u001b[0m                              Traceback (most recent call last)",
      "\u001b[1;32mc:\\Users\\oguzk\\anaconda3\\lib\\site-packages\\urllib3\\connection.py\u001b[0m in \u001b[0;36m_new_conn\u001b[1;34m(self)\u001b[0m\n\u001b[0;32m    168\u001b[0m         \u001b[1;32mtry\u001b[0m\u001b[1;33m:\u001b[0m\u001b[1;33m\u001b[0m\u001b[1;33m\u001b[0m\u001b[0m\n\u001b[1;32m--> 169\u001b[1;33m             conn = connection.create_connection(\n\u001b[0m\u001b[0;32m    170\u001b[0m                 \u001b[1;33m(\u001b[0m\u001b[0mself\u001b[0m\u001b[1;33m.\u001b[0m\u001b[0m_dns_host\u001b[0m\u001b[1;33m,\u001b[0m \u001b[0mself\u001b[0m\u001b[1;33m.\u001b[0m\u001b[0mport\u001b[0m\u001b[1;33m)\u001b[0m\u001b[1;33m,\u001b[0m \u001b[0mself\u001b[0m\u001b[1;33m.\u001b[0m\u001b[0mtimeout\u001b[0m\u001b[1;33m,\u001b[0m \u001b[1;33m**\u001b[0m\u001b[0mextra_kw\u001b[0m\u001b[1;33m\u001b[0m\u001b[1;33m\u001b[0m\u001b[0m\n",
      "\u001b[1;32mc:\\Users\\oguzk\\anaconda3\\lib\\site-packages\\urllib3\\util\\connection.py\u001b[0m in \u001b[0;36mcreate_connection\u001b[1;34m(address, timeout, source_address, socket_options)\u001b[0m\n\u001b[0;32m     95\u001b[0m     \u001b[1;32mif\u001b[0m \u001b[0merr\u001b[0m \u001b[1;32mis\u001b[0m \u001b[1;32mnot\u001b[0m \u001b[1;32mNone\u001b[0m\u001b[1;33m:\u001b[0m\u001b[1;33m\u001b[0m\u001b[1;33m\u001b[0m\u001b[0m\n\u001b[1;32m---> 96\u001b[1;33m         \u001b[1;32mraise\u001b[0m \u001b[0merr\u001b[0m\u001b[1;33m\u001b[0m\u001b[1;33m\u001b[0m\u001b[0m\n\u001b[0m\u001b[0;32m     97\u001b[0m \u001b[1;33m\u001b[0m\u001b[0m\n",
      "\u001b[1;32mc:\\Users\\oguzk\\anaconda3\\lib\\site-packages\\urllib3\\util\\connection.py\u001b[0m in \u001b[0;36mcreate_connection\u001b[1;34m(address, timeout, source_address, socket_options)\u001b[0m\n\u001b[0;32m     85\u001b[0m                 \u001b[0msock\u001b[0m\u001b[1;33m.\u001b[0m\u001b[0mbind\u001b[0m\u001b[1;33m(\u001b[0m\u001b[0msource_address\u001b[0m\u001b[1;33m)\u001b[0m\u001b[1;33m\u001b[0m\u001b[1;33m\u001b[0m\u001b[0m\n\u001b[1;32m---> 86\u001b[1;33m             \u001b[0msock\u001b[0m\u001b[1;33m.\u001b[0m\u001b[0mconnect\u001b[0m\u001b[1;33m(\u001b[0m\u001b[0msa\u001b[0m\u001b[1;33m)\u001b[0m\u001b[1;33m\u001b[0m\u001b[1;33m\u001b[0m\u001b[0m\n\u001b[0m\u001b[0;32m     87\u001b[0m             \u001b[1;32mreturn\u001b[0m \u001b[0msock\u001b[0m\u001b[1;33m\u001b[0m\u001b[1;33m\u001b[0m\u001b[0m\n",
      "\u001b[1;31mTimeoutError\u001b[0m: [WinError 10060] A connection attempt failed because the connected party did not properly respond after a period of time, or established connection failed because connected host has failed to respond",
      "\nDuring handling of the above exception, another exception occurred:\n",
      "\u001b[1;31mNewConnectionError\u001b[0m                        Traceback (most recent call last)",
      "\u001b[1;32mc:\\Users\\oguzk\\anaconda3\\lib\\site-packages\\urllib3\\connectionpool.py\u001b[0m in \u001b[0;36murlopen\u001b[1;34m(self, method, url, body, headers, retries, redirect, assert_same_host, timeout, pool_timeout, release_conn, chunked, body_pos, **response_kw)\u001b[0m\n\u001b[0;32m    698\u001b[0m             \u001b[1;31m# Make the request on the httplib connection object.\u001b[0m\u001b[1;33m\u001b[0m\u001b[1;33m\u001b[0m\u001b[1;33m\u001b[0m\u001b[0m\n\u001b[1;32m--> 699\u001b[1;33m             httplib_response = self._make_request(\n\u001b[0m\u001b[0;32m    700\u001b[0m                 \u001b[0mconn\u001b[0m\u001b[1;33m,\u001b[0m\u001b[1;33m\u001b[0m\u001b[1;33m\u001b[0m\u001b[0m\n",
      "\u001b[1;32mc:\\Users\\oguzk\\anaconda3\\lib\\site-packages\\urllib3\\connectionpool.py\u001b[0m in \u001b[0;36m_make_request\u001b[1;34m(self, conn, method, url, timeout, chunked, **httplib_request_kw)\u001b[0m\n\u001b[0;32m    381\u001b[0m         \u001b[1;32mtry\u001b[0m\u001b[1;33m:\u001b[0m\u001b[1;33m\u001b[0m\u001b[1;33m\u001b[0m\u001b[0m\n\u001b[1;32m--> 382\u001b[1;33m             \u001b[0mself\u001b[0m\u001b[1;33m.\u001b[0m\u001b[0m_validate_conn\u001b[0m\u001b[1;33m(\u001b[0m\u001b[0mconn\u001b[0m\u001b[1;33m)\u001b[0m\u001b[1;33m\u001b[0m\u001b[1;33m\u001b[0m\u001b[0m\n\u001b[0m\u001b[0;32m    383\u001b[0m         \u001b[1;32mexcept\u001b[0m \u001b[1;33m(\u001b[0m\u001b[0mSocketTimeout\u001b[0m\u001b[1;33m,\u001b[0m \u001b[0mBaseSSLError\u001b[0m\u001b[1;33m)\u001b[0m \u001b[1;32mas\u001b[0m \u001b[0me\u001b[0m\u001b[1;33m:\u001b[0m\u001b[1;33m\u001b[0m\u001b[1;33m\u001b[0m\u001b[0m\n",
      "\u001b[1;32mc:\\Users\\oguzk\\anaconda3\\lib\\site-packages\\urllib3\\connectionpool.py\u001b[0m in \u001b[0;36m_validate_conn\u001b[1;34m(self, conn)\u001b[0m\n\u001b[0;32m   1009\u001b[0m         \u001b[1;32mif\u001b[0m \u001b[1;32mnot\u001b[0m \u001b[0mgetattr\u001b[0m\u001b[1;33m(\u001b[0m\u001b[0mconn\u001b[0m\u001b[1;33m,\u001b[0m \u001b[1;34m\"sock\"\u001b[0m\u001b[1;33m,\u001b[0m \u001b[1;32mNone\u001b[0m\u001b[1;33m)\u001b[0m\u001b[1;33m:\u001b[0m  \u001b[1;31m# AppEngine might not have  `.sock`\u001b[0m\u001b[1;33m\u001b[0m\u001b[1;33m\u001b[0m\u001b[0m\n\u001b[1;32m-> 1010\u001b[1;33m             \u001b[0mconn\u001b[0m\u001b[1;33m.\u001b[0m\u001b[0mconnect\u001b[0m\u001b[1;33m(\u001b[0m\u001b[1;33m)\u001b[0m\u001b[1;33m\u001b[0m\u001b[1;33m\u001b[0m\u001b[0m\n\u001b[0m\u001b[0;32m   1011\u001b[0m \u001b[1;33m\u001b[0m\u001b[0m\n",
      "\u001b[1;32mc:\\Users\\oguzk\\anaconda3\\lib\\site-packages\\urllib3\\connection.py\u001b[0m in \u001b[0;36mconnect\u001b[1;34m(self)\u001b[0m\n\u001b[0;32m    352\u001b[0m         \u001b[1;31m# Add certificate verification\u001b[0m\u001b[1;33m\u001b[0m\u001b[1;33m\u001b[0m\u001b[1;33m\u001b[0m\u001b[0m\n\u001b[1;32m--> 353\u001b[1;33m         \u001b[0mconn\u001b[0m \u001b[1;33m=\u001b[0m \u001b[0mself\u001b[0m\u001b[1;33m.\u001b[0m\u001b[0m_new_conn\u001b[0m\u001b[1;33m(\u001b[0m\u001b[1;33m)\u001b[0m\u001b[1;33m\u001b[0m\u001b[1;33m\u001b[0m\u001b[0m\n\u001b[0m\u001b[0;32m    354\u001b[0m         \u001b[0mhostname\u001b[0m \u001b[1;33m=\u001b[0m \u001b[0mself\u001b[0m\u001b[1;33m.\u001b[0m\u001b[0mhost\u001b[0m\u001b[1;33m\u001b[0m\u001b[1;33m\u001b[0m\u001b[0m\n",
      "\u001b[1;32mc:\\Users\\oguzk\\anaconda3\\lib\\site-packages\\urllib3\\connection.py\u001b[0m in \u001b[0;36m_new_conn\u001b[1;34m(self)\u001b[0m\n\u001b[0;32m    180\u001b[0m         \u001b[1;32mexcept\u001b[0m \u001b[0mSocketError\u001b[0m \u001b[1;32mas\u001b[0m \u001b[0me\u001b[0m\u001b[1;33m:\u001b[0m\u001b[1;33m\u001b[0m\u001b[1;33m\u001b[0m\u001b[0m\n\u001b[1;32m--> 181\u001b[1;33m             raise NewConnectionError(\n\u001b[0m\u001b[0;32m    182\u001b[0m                 \u001b[0mself\u001b[0m\u001b[1;33m,\u001b[0m \u001b[1;34m\"Failed to establish a new connection: %s\"\u001b[0m \u001b[1;33m%\u001b[0m \u001b[0me\u001b[0m\u001b[1;33m\u001b[0m\u001b[1;33m\u001b[0m\u001b[0m\n",
      "\u001b[1;31mNewConnectionError\u001b[0m: <urllib3.connection.HTTPSConnection object at 0x000001A76DF0A520>: Failed to establish a new connection: [WinError 10060] A connection attempt failed because the connected party did not properly respond after a period of time, or established connection failed because connected host has failed to respond",
      "\nDuring handling of the above exception, another exception occurred:\n",
      "\u001b[1;31mMaxRetryError\u001b[0m                             Traceback (most recent call last)",
      "\u001b[1;32mc:\\Users\\oguzk\\anaconda3\\lib\\site-packages\\requests\\adapters.py\u001b[0m in \u001b[0;36msend\u001b[1;34m(self, request, stream, timeout, verify, cert, proxies)\u001b[0m\n\u001b[0;32m    438\u001b[0m             \u001b[1;32mif\u001b[0m \u001b[1;32mnot\u001b[0m \u001b[0mchunked\u001b[0m\u001b[1;33m:\u001b[0m\u001b[1;33m\u001b[0m\u001b[1;33m\u001b[0m\u001b[0m\n\u001b[1;32m--> 439\u001b[1;33m                 resp = conn.urlopen(\n\u001b[0m\u001b[0;32m    440\u001b[0m                     \u001b[0mmethod\u001b[0m\u001b[1;33m=\u001b[0m\u001b[0mrequest\u001b[0m\u001b[1;33m.\u001b[0m\u001b[0mmethod\u001b[0m\u001b[1;33m,\u001b[0m\u001b[1;33m\u001b[0m\u001b[1;33m\u001b[0m\u001b[0m\n",
      "\u001b[1;32mc:\\Users\\oguzk\\anaconda3\\lib\\site-packages\\urllib3\\connectionpool.py\u001b[0m in \u001b[0;36murlopen\u001b[1;34m(self, method, url, body, headers, retries, redirect, assert_same_host, timeout, pool_timeout, release_conn, chunked, body_pos, **response_kw)\u001b[0m\n\u001b[0;32m    754\u001b[0m \u001b[1;33m\u001b[0m\u001b[0m\n\u001b[1;32m--> 755\u001b[1;33m             retries = retries.increment(\n\u001b[0m\u001b[0;32m    756\u001b[0m                 \u001b[0mmethod\u001b[0m\u001b[1;33m,\u001b[0m \u001b[0murl\u001b[0m\u001b[1;33m,\u001b[0m \u001b[0merror\u001b[0m\u001b[1;33m=\u001b[0m\u001b[0me\u001b[0m\u001b[1;33m,\u001b[0m \u001b[0m_pool\u001b[0m\u001b[1;33m=\u001b[0m\u001b[0mself\u001b[0m\u001b[1;33m,\u001b[0m \u001b[0m_stacktrace\u001b[0m\u001b[1;33m=\u001b[0m\u001b[0msys\u001b[0m\u001b[1;33m.\u001b[0m\u001b[0mexc_info\u001b[0m\u001b[1;33m(\u001b[0m\u001b[1;33m)\u001b[0m\u001b[1;33m[\u001b[0m\u001b[1;36m2\u001b[0m\u001b[1;33m]\u001b[0m\u001b[1;33m\u001b[0m\u001b[1;33m\u001b[0m\u001b[0m\n",
      "\u001b[1;32mc:\\Users\\oguzk\\anaconda3\\lib\\site-packages\\urllib3\\util\\retry.py\u001b[0m in \u001b[0;36mincrement\u001b[1;34m(self, method, url, response, error, _pool, _stacktrace)\u001b[0m\n\u001b[0;32m    573\u001b[0m         \u001b[1;32mif\u001b[0m \u001b[0mnew_retry\u001b[0m\u001b[1;33m.\u001b[0m\u001b[0mis_exhausted\u001b[0m\u001b[1;33m(\u001b[0m\u001b[1;33m)\u001b[0m\u001b[1;33m:\u001b[0m\u001b[1;33m\u001b[0m\u001b[1;33m\u001b[0m\u001b[0m\n\u001b[1;32m--> 574\u001b[1;33m             \u001b[1;32mraise\u001b[0m \u001b[0mMaxRetryError\u001b[0m\u001b[1;33m(\u001b[0m\u001b[0m_pool\u001b[0m\u001b[1;33m,\u001b[0m \u001b[0murl\u001b[0m\u001b[1;33m,\u001b[0m \u001b[0merror\u001b[0m \u001b[1;32mor\u001b[0m \u001b[0mResponseError\u001b[0m\u001b[1;33m(\u001b[0m\u001b[0mcause\u001b[0m\u001b[1;33m)\u001b[0m\u001b[1;33m)\u001b[0m\u001b[1;33m\u001b[0m\u001b[1;33m\u001b[0m\u001b[0m\n\u001b[0m\u001b[0;32m    575\u001b[0m \u001b[1;33m\u001b[0m\u001b[0m\n",
      "\u001b[1;31mMaxRetryError\u001b[0m: HTTPSConnectionPool(host='api.elsevier.com', port=443): Max retries exceeded with url: /content/search/author?query=AUTHLAST%28sawle%29+AND+AUTHFIRST%28ashley+d.%29+AND+SUBJAREA%28PHAR%29 (Caused by NewConnectionError('<urllib3.connection.HTTPSConnection object at 0x000001A76DF0A520>: Failed to establish a new connection: [WinError 10060] A connection attempt failed because the connected party did not properly respond after a period of time, or established connection failed because connected host has failed to respond'))",
      "\nDuring handling of the above exception, another exception occurred:\n",
      "\u001b[1;31mConnectionError\u001b[0m                           Traceback (most recent call last)",
      "\u001b[1;32m<ipython-input-44-cbfd4ab5d296>\u001b[0m in \u001b[0;36m<module>\u001b[1;34m\u001b[0m\n\u001b[0;32m     31\u001b[0m \u001b[1;33m\u001b[0m\u001b[0m\n\u001b[0;32m     32\u001b[0m             \u001b[0mauth_srch\u001b[0m \u001b[1;33m=\u001b[0m \u001b[0mElsSearch\u001b[0m\u001b[1;33m(\u001b[0m\u001b[1;34mf'AUTHLAST({family_in}) AND AUTHFIRST({given_in}) AND {sbj_area_query_creator(sa_in)}'\u001b[0m\u001b[1;33m,\u001b[0m\u001b[1;34m'author'\u001b[0m\u001b[1;33m)\u001b[0m\u001b[1;33m\u001b[0m\u001b[1;33m\u001b[0m\u001b[0m\n\u001b[1;32m---> 33\u001b[1;33m             \u001b[0mauth_srch\u001b[0m\u001b[1;33m.\u001b[0m\u001b[0mexecute\u001b[0m\u001b[1;33m(\u001b[0m\u001b[0mclient\u001b[0m\u001b[1;33m)\u001b[0m\u001b[1;33m\u001b[0m\u001b[1;33m\u001b[0m\u001b[0m\n\u001b[0m\u001b[0;32m     34\u001b[0m \u001b[1;33m\u001b[0m\u001b[0m\n\u001b[0;32m     35\u001b[0m         \u001b[1;32melse\u001b[0m\u001b[1;33m:\u001b[0m\u001b[1;33m\u001b[0m\u001b[1;33m\u001b[0m\u001b[0m\n",
      "\u001b[1;32mc:\\Users\\oguzk\\anaconda3\\lib\\site-packages\\elsapy\\elssearch.py\u001b[0m in \u001b[0;36mexecute\u001b[1;34m(self, els_client, get_all)\u001b[0m\n\u001b[0;32m     93\u001b[0m             all results for the search, up to a maximum of 5,000.\"\"\"\n\u001b[0;32m     94\u001b[0m         \u001b[1;31m## TODO: add exception handling\u001b[0m\u001b[1;33m\u001b[0m\u001b[1;33m\u001b[0m\u001b[1;33m\u001b[0m\u001b[0m\n\u001b[1;32m---> 95\u001b[1;33m         \u001b[0mapi_response\u001b[0m \u001b[1;33m=\u001b[0m \u001b[0mels_client\u001b[0m\u001b[1;33m.\u001b[0m\u001b[0mexec_request\u001b[0m\u001b[1;33m(\u001b[0m\u001b[0mself\u001b[0m\u001b[1;33m.\u001b[0m\u001b[0m_uri\u001b[0m\u001b[1;33m)\u001b[0m\u001b[1;33m\u001b[0m\u001b[1;33m\u001b[0m\u001b[0m\n\u001b[0m\u001b[0;32m     96\u001b[0m         \u001b[0mself\u001b[0m\u001b[1;33m.\u001b[0m\u001b[0m_tot_num_res\u001b[0m \u001b[1;33m=\u001b[0m \u001b[0mint\u001b[0m\u001b[1;33m(\u001b[0m\u001b[0mapi_response\u001b[0m\u001b[1;33m[\u001b[0m\u001b[1;34m'search-results'\u001b[0m\u001b[1;33m]\u001b[0m\u001b[1;33m[\u001b[0m\u001b[1;34m'opensearch:totalResults'\u001b[0m\u001b[1;33m]\u001b[0m\u001b[1;33m)\u001b[0m\u001b[1;33m\u001b[0m\u001b[1;33m\u001b[0m\u001b[0m\n\u001b[0;32m     97\u001b[0m         \u001b[0mself\u001b[0m\u001b[1;33m.\u001b[0m\u001b[0m_results\u001b[0m \u001b[1;33m=\u001b[0m \u001b[0mapi_response\u001b[0m\u001b[1;33m[\u001b[0m\u001b[1;34m'search-results'\u001b[0m\u001b[1;33m]\u001b[0m\u001b[1;33m[\u001b[0m\u001b[1;34m'entry'\u001b[0m\u001b[1;33m]\u001b[0m\u001b[1;33m\u001b[0m\u001b[1;33m\u001b[0m\u001b[0m\n",
      "\u001b[1;32mc:\\Users\\oguzk\\anaconda3\\lib\\site-packages\\elsapy\\elsclient.py\u001b[0m in \u001b[0;36mexec_request\u001b[1;34m(self, URL)\u001b[0m\n\u001b[0;32m    108\u001b[0m             \u001b[0mheaders\u001b[0m\u001b[1;33m[\u001b[0m\u001b[1;34m\"X-ELS-Insttoken\"\u001b[0m\u001b[1;33m]\u001b[0m \u001b[1;33m=\u001b[0m \u001b[0mself\u001b[0m\u001b[1;33m.\u001b[0m\u001b[0minst_token\u001b[0m\u001b[1;33m\u001b[0m\u001b[1;33m\u001b[0m\u001b[0m\n\u001b[0;32m    109\u001b[0m         \u001b[0mlogger\u001b[0m\u001b[1;33m.\u001b[0m\u001b[0minfo\u001b[0m\u001b[1;33m(\u001b[0m\u001b[1;34m'Sending GET request to '\u001b[0m \u001b[1;33m+\u001b[0m \u001b[0mURL\u001b[0m\u001b[1;33m)\u001b[0m\u001b[1;33m\u001b[0m\u001b[1;33m\u001b[0m\u001b[0m\n\u001b[1;32m--> 110\u001b[1;33m         r = requests.get(\n\u001b[0m\u001b[0;32m    111\u001b[0m             \u001b[0mURL\u001b[0m\u001b[1;33m,\u001b[0m\u001b[1;33m\u001b[0m\u001b[1;33m\u001b[0m\u001b[0m\n\u001b[0;32m    112\u001b[0m             \u001b[0mheaders\u001b[0m \u001b[1;33m=\u001b[0m \u001b[0mheaders\u001b[0m\u001b[1;33m\u001b[0m\u001b[1;33m\u001b[0m\u001b[0m\n",
      "\u001b[1;32mc:\\Users\\oguzk\\anaconda3\\lib\\site-packages\\requests\\api.py\u001b[0m in \u001b[0;36mget\u001b[1;34m(url, params, **kwargs)\u001b[0m\n\u001b[0;32m     74\u001b[0m \u001b[1;33m\u001b[0m\u001b[0m\n\u001b[0;32m     75\u001b[0m     \u001b[0mkwargs\u001b[0m\u001b[1;33m.\u001b[0m\u001b[0msetdefault\u001b[0m\u001b[1;33m(\u001b[0m\u001b[1;34m'allow_redirects'\u001b[0m\u001b[1;33m,\u001b[0m \u001b[1;32mTrue\u001b[0m\u001b[1;33m)\u001b[0m\u001b[1;33m\u001b[0m\u001b[1;33m\u001b[0m\u001b[0m\n\u001b[1;32m---> 76\u001b[1;33m     \u001b[1;32mreturn\u001b[0m \u001b[0mrequest\u001b[0m\u001b[1;33m(\u001b[0m\u001b[1;34m'get'\u001b[0m\u001b[1;33m,\u001b[0m \u001b[0murl\u001b[0m\u001b[1;33m,\u001b[0m \u001b[0mparams\u001b[0m\u001b[1;33m=\u001b[0m\u001b[0mparams\u001b[0m\u001b[1;33m,\u001b[0m \u001b[1;33m**\u001b[0m\u001b[0mkwargs\u001b[0m\u001b[1;33m)\u001b[0m\u001b[1;33m\u001b[0m\u001b[1;33m\u001b[0m\u001b[0m\n\u001b[0m\u001b[0;32m     77\u001b[0m \u001b[1;33m\u001b[0m\u001b[0m\n\u001b[0;32m     78\u001b[0m \u001b[1;33m\u001b[0m\u001b[0m\n",
      "\u001b[1;32mc:\\Users\\oguzk\\anaconda3\\lib\\site-packages\\requests\\api.py\u001b[0m in \u001b[0;36mrequest\u001b[1;34m(method, url, **kwargs)\u001b[0m\n\u001b[0;32m     59\u001b[0m     \u001b[1;31m# cases, and look like a memory leak in others.\u001b[0m\u001b[1;33m\u001b[0m\u001b[1;33m\u001b[0m\u001b[1;33m\u001b[0m\u001b[0m\n\u001b[0;32m     60\u001b[0m     \u001b[1;32mwith\u001b[0m \u001b[0msessions\u001b[0m\u001b[1;33m.\u001b[0m\u001b[0mSession\u001b[0m\u001b[1;33m(\u001b[0m\u001b[1;33m)\u001b[0m \u001b[1;32mas\u001b[0m \u001b[0msession\u001b[0m\u001b[1;33m:\u001b[0m\u001b[1;33m\u001b[0m\u001b[1;33m\u001b[0m\u001b[0m\n\u001b[1;32m---> 61\u001b[1;33m         \u001b[1;32mreturn\u001b[0m \u001b[0msession\u001b[0m\u001b[1;33m.\u001b[0m\u001b[0mrequest\u001b[0m\u001b[1;33m(\u001b[0m\u001b[0mmethod\u001b[0m\u001b[1;33m=\u001b[0m\u001b[0mmethod\u001b[0m\u001b[1;33m,\u001b[0m \u001b[0murl\u001b[0m\u001b[1;33m=\u001b[0m\u001b[0murl\u001b[0m\u001b[1;33m,\u001b[0m \u001b[1;33m**\u001b[0m\u001b[0mkwargs\u001b[0m\u001b[1;33m)\u001b[0m\u001b[1;33m\u001b[0m\u001b[1;33m\u001b[0m\u001b[0m\n\u001b[0m\u001b[0;32m     62\u001b[0m \u001b[1;33m\u001b[0m\u001b[0m\n\u001b[0;32m     63\u001b[0m \u001b[1;33m\u001b[0m\u001b[0m\n",
      "\u001b[1;32mc:\\Users\\oguzk\\anaconda3\\lib\\site-packages\\requests\\sessions.py\u001b[0m in \u001b[0;36mrequest\u001b[1;34m(self, method, url, params, data, headers, cookies, files, auth, timeout, allow_redirects, proxies, hooks, stream, verify, cert, json)\u001b[0m\n\u001b[0;32m    540\u001b[0m         }\n\u001b[0;32m    541\u001b[0m         \u001b[0msend_kwargs\u001b[0m\u001b[1;33m.\u001b[0m\u001b[0mupdate\u001b[0m\u001b[1;33m(\u001b[0m\u001b[0msettings\u001b[0m\u001b[1;33m)\u001b[0m\u001b[1;33m\u001b[0m\u001b[1;33m\u001b[0m\u001b[0m\n\u001b[1;32m--> 542\u001b[1;33m         \u001b[0mresp\u001b[0m \u001b[1;33m=\u001b[0m \u001b[0mself\u001b[0m\u001b[1;33m.\u001b[0m\u001b[0msend\u001b[0m\u001b[1;33m(\u001b[0m\u001b[0mprep\u001b[0m\u001b[1;33m,\u001b[0m \u001b[1;33m**\u001b[0m\u001b[0msend_kwargs\u001b[0m\u001b[1;33m)\u001b[0m\u001b[1;33m\u001b[0m\u001b[1;33m\u001b[0m\u001b[0m\n\u001b[0m\u001b[0;32m    543\u001b[0m \u001b[1;33m\u001b[0m\u001b[0m\n\u001b[0;32m    544\u001b[0m         \u001b[1;32mreturn\u001b[0m \u001b[0mresp\u001b[0m\u001b[1;33m\u001b[0m\u001b[1;33m\u001b[0m\u001b[0m\n",
      "\u001b[1;32mc:\\Users\\oguzk\\anaconda3\\lib\\site-packages\\requests\\sessions.py\u001b[0m in \u001b[0;36msend\u001b[1;34m(self, request, **kwargs)\u001b[0m\n\u001b[0;32m    653\u001b[0m \u001b[1;33m\u001b[0m\u001b[0m\n\u001b[0;32m    654\u001b[0m         \u001b[1;31m# Send the request\u001b[0m\u001b[1;33m\u001b[0m\u001b[1;33m\u001b[0m\u001b[1;33m\u001b[0m\u001b[0m\n\u001b[1;32m--> 655\u001b[1;33m         \u001b[0mr\u001b[0m \u001b[1;33m=\u001b[0m \u001b[0madapter\u001b[0m\u001b[1;33m.\u001b[0m\u001b[0msend\u001b[0m\u001b[1;33m(\u001b[0m\u001b[0mrequest\u001b[0m\u001b[1;33m,\u001b[0m \u001b[1;33m**\u001b[0m\u001b[0mkwargs\u001b[0m\u001b[1;33m)\u001b[0m\u001b[1;33m\u001b[0m\u001b[1;33m\u001b[0m\u001b[0m\n\u001b[0m\u001b[0;32m    656\u001b[0m \u001b[1;33m\u001b[0m\u001b[0m\n\u001b[0;32m    657\u001b[0m         \u001b[1;31m# Total elapsed time of the request (approximately)\u001b[0m\u001b[1;33m\u001b[0m\u001b[1;33m\u001b[0m\u001b[1;33m\u001b[0m\u001b[0m\n",
      "\u001b[1;32mc:\\Users\\oguzk\\anaconda3\\lib\\site-packages\\requests\\adapters.py\u001b[0m in \u001b[0;36msend\u001b[1;34m(self, request, stream, timeout, verify, cert, proxies)\u001b[0m\n\u001b[0;32m    514\u001b[0m                 \u001b[1;32mraise\u001b[0m \u001b[0mSSLError\u001b[0m\u001b[1;33m(\u001b[0m\u001b[0me\u001b[0m\u001b[1;33m,\u001b[0m \u001b[0mrequest\u001b[0m\u001b[1;33m=\u001b[0m\u001b[0mrequest\u001b[0m\u001b[1;33m)\u001b[0m\u001b[1;33m\u001b[0m\u001b[1;33m\u001b[0m\u001b[0m\n\u001b[0;32m    515\u001b[0m \u001b[1;33m\u001b[0m\u001b[0m\n\u001b[1;32m--> 516\u001b[1;33m             \u001b[1;32mraise\u001b[0m \u001b[0mConnectionError\u001b[0m\u001b[1;33m(\u001b[0m\u001b[0me\u001b[0m\u001b[1;33m,\u001b[0m \u001b[0mrequest\u001b[0m\u001b[1;33m=\u001b[0m\u001b[0mrequest\u001b[0m\u001b[1;33m)\u001b[0m\u001b[1;33m\u001b[0m\u001b[1;33m\u001b[0m\u001b[0m\n\u001b[0m\u001b[0;32m    517\u001b[0m \u001b[1;33m\u001b[0m\u001b[0m\n\u001b[0;32m    518\u001b[0m         \u001b[1;32mexcept\u001b[0m \u001b[0mClosedPoolError\u001b[0m \u001b[1;32mas\u001b[0m \u001b[0me\u001b[0m\u001b[1;33m:\u001b[0m\u001b[1;33m\u001b[0m\u001b[1;33m\u001b[0m\u001b[0m\n",
      "\u001b[1;31mConnectionError\u001b[0m: HTTPSConnectionPool(host='api.elsevier.com', port=443): Max retries exceeded with url: /content/search/author?query=AUTHLAST%28sawle%29+AND+AUTHFIRST%28ashley+d.%29+AND+SUBJAREA%28PHAR%29 (Caused by NewConnectionError('<urllib3.connection.HTTPSConnection object at 0x000001A76DF0A520>: Failed to establish a new connection: [WinError 10060] A connection attempt failed because the connected party did not properly respond after a period of time, or established connection failed because connected host has failed to respond'))"
     ]
    }
   ],
   "source": [
    "# Full Loop - Take 3:\n",
    "\n",
    "#author_out_list= list()\n",
    "\n",
    "avail_api_keys_list = [\"3bd33d7e35df95cc6dc576fd67e7356d\",\"784ab6b22d3148f3d3f94a75596d0633\",\"63db00d1e8f7e5a5ef223abad3858dfe\",\"3f453389d0cada327703d787cd41b4ec\",\"e989f6eb6ea2a19b104eed28efe11071\",\"1a3f1a762b1e2abec678b08f4d7a1038\",\n",
    "\"e481b6eef24800668a6ee5ea576c1f97\",\"563df86d8ae1a6e62e0f0e4278a45cb9\",\"92975ea2d964ac570219d520aaad1d41\",\"c8eab163448aa6bd54fa97af700a939b\",\"53acda4267b6a5a9a6a87b8767aa8cc6\",\"9289c787b0d98e1a5a7a7fb58e102e1a\",\"1bf711a2bc396e7e99340bdaf2ba29d0\",\"396d5385a697326c03800cf37ca4f1a2\",\"8a9a5beb728f47b401fd145e1bb035ba\",\"cfbe1762b57a3310906c53bbbb3a68e5\",\n",
    "\"7b6016e18d538a15806f172d0ac7a0cd\",\"5d30dea104b6b7c33f6a120619fdbc6e\",\"e6cc81dc4b558be9892fa4e0715822a1\",\"da2094a93eb167105699cfb6c47466b6\",\"a323957ad88e129d8bae2c7b2fd0e63a\",\"a809d51349b6a614581cf57493dc0c94\",\"f36f0ccc1554186bb009e9ca7b3c14c0\",\"a1d21854963d1cca62742c56b5f7633d\",\"f3bdebaa3f41b7443d8d9d8983c00479\",\"bfaac6eb78a88e97874fa1d0bfd8c63e\",\n",
    "\"546932c3fcd8e21fbc6eab08010b9f44\",\"0599d76680c29c71e028fc9b77b0c063\",\"baaa9e51f8a49461352af25710719157\",\"30195f0b2192052a36bcab9ce3c4064f\",\"b7e95f5ea731eb5c9e84e7a1d499f50e\",\"8707db153e4b9672fa6df25b03a5f747\",\"2dab4694b4347fa574d159bb97484fc4\",\"6af3d2c09eb08ec6e12f0cead9a1f5bb\",\"3872e798bf48fa28af583b9ebef5deb6\",\"1473c31dbcdb425f9cdaf75c673279d3\"]\n",
    "\n",
    "used_api_keys_list = [\"6ae4b5181b374f521e60d2ef4be73ec5\", \"c14e197a4982e7349247b189ff26da45\"]\n",
    "\n",
    "client = ElsClient(\"fbc5e06467522a07f93e247a24d89d3b\")\n",
    "key_count = 3\n",
    "\n",
    "for auth_id in first_author_input_dict_take3:\n",
    "    given_in = first_author_input_dict_take3[auth_id][\"new_given\"]\n",
    "    family_in = first_author_input_dict_take3[auth_id][\"new_family\"]\n",
    "    sa_in = first_author_input_dict_take3[auth_id][\"SA_list\"]\n",
    "\n",
    "    try:\n",
    "        auth_srch = ElsSearch(f'AUTHLAST({family_in}) AND AUTHFIRST({given_in}) AND {sbj_area_query_creator(sa_in)}','author')\n",
    "        auth_srch.execute(client)\n",
    "    except:\n",
    "        if len(avail_api_keys_list) >0:\n",
    "            new_key = avail_api_keys_list.pop(0)            \n",
    "            client = ElsClient(new_key)\n",
    "\n",
    "            key_count += 1\n",
    "            print(f\"Changed API key, now using key number {key_count}: {new_key}\")\n",
    "            used_api_keys_list.append(new_key)\n",
    "\n",
    "            auth_srch = ElsSearch(f'AUTHLAST({family_in}) AND AUTHFIRST({given_in}) AND {sbj_area_query_creator(sa_in)}','author')\n",
    "            auth_srch.execute(client)\n",
    "\n",
    "        else:\n",
    "            print(\"No available API keys to use!\")\n",
    "            break\n",
    "\n",
    "\n",
    "    country_out = list()\n",
    "    given_out = list()\n",
    "    family_out = list()\n",
    "    doc_count_out = list()\n",
    "\n",
    "    for auth in auth_srch.results:\n",
    "        # Country:\n",
    "        try:\n",
    "            country_out.append(auth['affiliation-current']['affiliation-country'])\n",
    "        except:\n",
    "            pass\n",
    "\n",
    "        # Given:\n",
    "        try:\n",
    "            given_out.append(auth['preferred-name']['given-name'])\n",
    "        except:\n",
    "            pass\n",
    "\n",
    "        # Family:\n",
    "        try:\n",
    "            family_out.append(auth['preferred-name']['surname'])\n",
    "        except:\n",
    "            pass\n",
    "\n",
    "        # Doc Count:\n",
    "        try:\n",
    "            doc_count_out.append(auth['document-count'])\n",
    "        except:\n",
    "            pass\n",
    "\n",
    "    \n",
    "    author_out_dict = dict(author_id=auth_id, country=country_out, given=given_out, family=family_out, doc_count=doc_count_out)\n",
    "\n",
    "    author_out_list.append(author_out_dict)\n",
    "\n",
    "\n"
   ]
  },
  {
   "cell_type": "markdown",
   "metadata": {},
   "source": [
    "Had a connection error - will  fix & start again! "
   ]
  },
  {
   "cell_type": "code",
   "execution_count": 45,
   "metadata": {},
   "outputs": [
    {
     "data": {
      "text/html": [
       "<div>\n",
       "<style scoped>\n",
       "    .dataframe tbody tr th:only-of-type {\n",
       "        vertical-align: middle;\n",
       "    }\n",
       "\n",
       "    .dataframe tbody tr th {\n",
       "        vertical-align: top;\n",
       "    }\n",
       "\n",
       "    .dataframe thead th {\n",
       "        text-align: right;\n",
       "    }\n",
       "</style>\n",
       "<table border=\"1\" class=\"dataframe\">\n",
       "  <thead>\n",
       "    <tr style=\"text-align: right;\">\n",
       "      <th></th>\n",
       "      <th>author_id</th>\n",
       "      <th>country</th>\n",
       "      <th>given</th>\n",
       "      <th>family</th>\n",
       "      <th>doc_count</th>\n",
       "    </tr>\n",
       "  </thead>\n",
       "  <tbody>\n",
       "    <tr>\n",
       "      <th>0</th>\n",
       "      <td>aut_0</td>\n",
       "      <td>[China, China, China, Hong Kong]</td>\n",
       "      <td>[Jing, Jingheng, Jing, (Luna) Jing]</td>\n",
       "      <td>[Cai, Cai, Cai, Cai]</td>\n",
       "      <td>[23, 22, 1, 1]</td>\n",
       "    </tr>\n",
       "    <tr>\n",
       "      <th>1</th>\n",
       "      <td>aut_1</td>\n",
       "      <td>[United States, United States, United States, ...</td>\n",
       "      <td>[Qing, Qing, (Grace) Qing, Grace Qing]</td>\n",
       "      <td>[Hao, Hao, Hao, Hao]</td>\n",
       "      <td>[86, 11, 2, 1]</td>\n",
       "    </tr>\n",
       "    <tr>\n",
       "      <th>2</th>\n",
       "      <td>aut_2</td>\n",
       "      <td>[China, China, China, China, China, China, Chi...</td>\n",
       "      <td>[Yongquan, Yonghong, Yong, Dayong, Yongwu, Yon...</td>\n",
       "      <td>[Zhou, Zhou, Zhou, Zhou, Zhou, Zhou, Zhou, Zho...</td>\n",
       "      <td>[286, 220, 193, 170, 164, 151, 100, 92, 74, 64...</td>\n",
       "    </tr>\n",
       "    <tr>\n",
       "      <th>3</th>\n",
       "      <td>aut_3</td>\n",
       "      <td>[Italy, Italy, France, Nigeria, Malaysia, Saud...</td>\n",
       "      <td>[Andrea, Alessandro, Ado Adamou Abba, Hafizull...</td>\n",
       "      <td>[Abba, Abbà, Ari, Ahmed, Haruna, Abba, Abba, A...</td>\n",
       "      <td>[75, 65, 44, 19, 17, 15, 8, 3]</td>\n",
       "    </tr>\n",
       "    <tr>\n",
       "      <th>4</th>\n",
       "      <td>aut_4</td>\n",
       "      <td>[Italy]</td>\n",
       "      <td>[Antonella]</td>\n",
       "      <td>[Agodi]</td>\n",
       "      <td>[234]</td>\n",
       "    </tr>\n",
       "    <tr>\n",
       "      <th>...</th>\n",
       "      <td>...</td>\n",
       "      <td>...</td>\n",
       "      <td>...</td>\n",
       "      <td>...</td>\n",
       "      <td>...</td>\n",
       "    </tr>\n",
       "    <tr>\n",
       "      <th>17384</th>\n",
       "      <td>aut_17386</td>\n",
       "      <td>[United States]</td>\n",
       "      <td>[Peter Ashley]</td>\n",
       "      <td>[Burke]</td>\n",
       "      <td>[113]</td>\n",
       "    </tr>\n",
       "    <tr>\n",
       "      <th>17385</th>\n",
       "      <td>aut_17387</td>\n",
       "      <td>[United States]</td>\n",
       "      <td>[Ashley B.]</td>\n",
       "      <td>[Saunders]</td>\n",
       "      <td>[90]</td>\n",
       "    </tr>\n",
       "    <tr>\n",
       "      <th>17386</th>\n",
       "      <td>aut_17388</td>\n",
       "      <td>[United States]</td>\n",
       "      <td>[Ashley C.]</td>\n",
       "      <td>[Harmon]</td>\n",
       "      <td>[2]</td>\n",
       "    </tr>\n",
       "    <tr>\n",
       "      <th>17387</th>\n",
       "      <td>aut_17389</td>\n",
       "      <td>[United States]</td>\n",
       "      <td>[Ashley C.]</td>\n",
       "      <td>[Hechler]</td>\n",
       "      <td>[5]</td>\n",
       "    </tr>\n",
       "    <tr>\n",
       "      <th>17388</th>\n",
       "      <td>aut_17390</td>\n",
       "      <td>[United States]</td>\n",
       "      <td>[Ashley D.]</td>\n",
       "      <td>[Kendall]</td>\n",
       "      <td>[24]</td>\n",
       "    </tr>\n",
       "  </tbody>\n",
       "</table>\n",
       "<p>17389 rows × 5 columns</p>\n",
       "</div>"
      ],
      "text/plain": [
       "       author_id                                            country  \\\n",
       "0          aut_0                   [China, China, China, Hong Kong]   \n",
       "1          aut_1  [United States, United States, United States, ...   \n",
       "2          aut_2  [China, China, China, China, China, China, Chi...   \n",
       "3          aut_3  [Italy, Italy, France, Nigeria, Malaysia, Saud...   \n",
       "4          aut_4                                            [Italy]   \n",
       "...          ...                                                ...   \n",
       "17384  aut_17386                                    [United States]   \n",
       "17385  aut_17387                                    [United States]   \n",
       "17386  aut_17388                                    [United States]   \n",
       "17387  aut_17389                                    [United States]   \n",
       "17388  aut_17390                                    [United States]   \n",
       "\n",
       "                                                   given  \\\n",
       "0                    [Jing, Jingheng, Jing, (Luna) Jing]   \n",
       "1                 [Qing, Qing, (Grace) Qing, Grace Qing]   \n",
       "2      [Yongquan, Yonghong, Yong, Dayong, Yongwu, Yon...   \n",
       "3      [Andrea, Alessandro, Ado Adamou Abba, Hafizull...   \n",
       "4                                            [Antonella]   \n",
       "...                                                  ...   \n",
       "17384                                     [Peter Ashley]   \n",
       "17385                                        [Ashley B.]   \n",
       "17386                                        [Ashley C.]   \n",
       "17387                                        [Ashley C.]   \n",
       "17388                                        [Ashley D.]   \n",
       "\n",
       "                                                  family  \\\n",
       "0                                   [Cai, Cai, Cai, Cai]   \n",
       "1                                   [Hao, Hao, Hao, Hao]   \n",
       "2      [Zhou, Zhou, Zhou, Zhou, Zhou, Zhou, Zhou, Zho...   \n",
       "3      [Abba, Abbà, Ari, Ahmed, Haruna, Abba, Abba, A...   \n",
       "4                                                [Agodi]   \n",
       "...                                                  ...   \n",
       "17384                                            [Burke]   \n",
       "17385                                         [Saunders]   \n",
       "17386                                           [Harmon]   \n",
       "17387                                          [Hechler]   \n",
       "17388                                          [Kendall]   \n",
       "\n",
       "                                               doc_count  \n",
       "0                                         [23, 22, 1, 1]  \n",
       "1                                         [86, 11, 2, 1]  \n",
       "2      [286, 220, 193, 170, 164, 151, 100, 92, 74, 64...  \n",
       "3                         [75, 65, 44, 19, 17, 15, 8, 3]  \n",
       "4                                                  [234]  \n",
       "...                                                  ...  \n",
       "17384                                              [113]  \n",
       "17385                                               [90]  \n",
       "17386                                                [2]  \n",
       "17387                                                [5]  \n",
       "17388                                               [24]  \n",
       "\n",
       "[17389 rows x 5 columns]"
      ]
     },
     "execution_count": 45,
     "metadata": {},
     "output_type": "execute_result"
    }
   ],
   "source": [
    "pd.DataFrame(author_out_list)"
   ]
  },
  {
   "cell_type": "code",
   "execution_count": 48,
   "metadata": {},
   "outputs": [],
   "source": [
    "with open(\"author_out_list\",\"wb\") as p:\n",
    "    pickle.dump(author_out_list, p)"
   ]
  },
  {
   "cell_type": "code",
   "execution_count": 49,
   "metadata": {},
   "outputs": [],
   "source": [
    "# To ease memory usage:\n",
    "\n",
    "del first_author_input_dict_take2\n",
    "del first_author_input_dict\n",
    "del first_author_input_dict_take3\n"
   ]
  },
  {
   "cell_type": "markdown",
   "metadata": {},
   "source": [
    "#### 5.6 - Take 4:"
   ]
  },
  {
   "cell_type": "code",
   "execution_count": 51,
   "metadata": {},
   "outputs": [],
   "source": [
    "first_author_input_dict_take4 = q1_first_author_df.drop([\"aut_4915\", \"aut_14163\", \"aut_112348\", \"aut_48200\", \"aut_124149\"])[[\"new_given\",\"new_family\",\"SA_list\"]][17389:].to_dict(\"index\")"
   ]
  },
  {
   "cell_type": "code",
   "execution_count": 53,
   "metadata": {},
   "outputs": [
    {
     "name": "stdout",
     "output_type": "stream",
     "text": [
      "Changed API key, now using key number 4: 784ab6b22d3148f3d3f94a75596d0633\n"
     ]
    },
    {
     "ename": "HTTPError",
     "evalue": "HTTP 400 Error from https://api.elsevier.com/content/search/author?query=AUTHLAST%28frana%C2%A7a%29+AND+AUTHFIRST%28a%C2%81ngela%29+AND+SUBJAREA%28MATE%29+AND+SUBJAREA%28BIOC%29+AND+SUBJAREA%28ENGI%29+AND+SUBJAREA%28MEDI%29\nand using headers {'X-ELS-APIKey': '784ab6b22d3148f3d3f94a75596d0633', 'User-Agent': 'elsapy-v0.5.0', 'Accept': 'application/json'}:\n{\"service-error\":{\"status\":{\"statusCode\":\"INVALID_INPUT\",\"statusText\":\"Error translating query\"}}}",
     "output_type": "error",
     "traceback": [
      "\u001b[1;31m---------------------------------------------------------------------------\u001b[0m",
      "\u001b[1;31mHTTPError\u001b[0m                                 Traceback (most recent call last)",
      "\u001b[1;32m<ipython-input-53-f5f60b3ae453>\u001b[0m in \u001b[0;36m<module>\u001b[1;34m\u001b[0m\n\u001b[0;32m     21\u001b[0m         \u001b[0mauth_srch\u001b[0m \u001b[1;33m=\u001b[0m \u001b[0mElsSearch\u001b[0m\u001b[1;33m(\u001b[0m\u001b[1;34mf'AUTHLAST({family_in}) AND AUTHFIRST({given_in}) AND {sbj_area_query_creator(sa_in)}'\u001b[0m\u001b[1;33m,\u001b[0m\u001b[1;34m'author'\u001b[0m\u001b[1;33m)\u001b[0m\u001b[1;33m\u001b[0m\u001b[1;33m\u001b[0m\u001b[0m\n\u001b[1;32m---> 22\u001b[1;33m         \u001b[0mauth_srch\u001b[0m\u001b[1;33m.\u001b[0m\u001b[0mexecute\u001b[0m\u001b[1;33m(\u001b[0m\u001b[0mclient\u001b[0m\u001b[1;33m)\u001b[0m\u001b[1;33m\u001b[0m\u001b[1;33m\u001b[0m\u001b[0m\n\u001b[0m\u001b[0;32m     23\u001b[0m     \u001b[1;32mexcept\u001b[0m\u001b[1;33m:\u001b[0m\u001b[1;33m\u001b[0m\u001b[1;33m\u001b[0m\u001b[0m\n",
      "\u001b[1;32mc:\\Users\\oguzk\\anaconda3\\lib\\site-packages\\elsapy\\elssearch.py\u001b[0m in \u001b[0;36mexecute\u001b[1;34m(self, els_client, get_all)\u001b[0m\n\u001b[0;32m     94\u001b[0m         \u001b[1;31m## TODO: add exception handling\u001b[0m\u001b[1;33m\u001b[0m\u001b[1;33m\u001b[0m\u001b[1;33m\u001b[0m\u001b[0m\n\u001b[1;32m---> 95\u001b[1;33m         \u001b[0mapi_response\u001b[0m \u001b[1;33m=\u001b[0m \u001b[0mels_client\u001b[0m\u001b[1;33m.\u001b[0m\u001b[0mexec_request\u001b[0m\u001b[1;33m(\u001b[0m\u001b[0mself\u001b[0m\u001b[1;33m.\u001b[0m\u001b[0m_uri\u001b[0m\u001b[1;33m)\u001b[0m\u001b[1;33m\u001b[0m\u001b[1;33m\u001b[0m\u001b[0m\n\u001b[0m\u001b[0;32m     96\u001b[0m         \u001b[0mself\u001b[0m\u001b[1;33m.\u001b[0m\u001b[0m_tot_num_res\u001b[0m \u001b[1;33m=\u001b[0m \u001b[0mint\u001b[0m\u001b[1;33m(\u001b[0m\u001b[0mapi_response\u001b[0m\u001b[1;33m[\u001b[0m\u001b[1;34m'search-results'\u001b[0m\u001b[1;33m]\u001b[0m\u001b[1;33m[\u001b[0m\u001b[1;34m'opensearch:totalResults'\u001b[0m\u001b[1;33m]\u001b[0m\u001b[1;33m)\u001b[0m\u001b[1;33m\u001b[0m\u001b[1;33m\u001b[0m\u001b[0m\n",
      "\u001b[1;32mc:\\Users\\oguzk\\anaconda3\\lib\\site-packages\\elsapy\\elsclient.py\u001b[0m in \u001b[0;36mexec_request\u001b[1;34m(self, URL)\u001b[0m\n\u001b[0;32m    120\u001b[0m             \u001b[0mself\u001b[0m\u001b[1;33m.\u001b[0m\u001b[0m_status_msg\u001b[0m\u001b[1;33m=\u001b[0m\u001b[1;34m\"HTTP \"\u001b[0m \u001b[1;33m+\u001b[0m \u001b[0mstr\u001b[0m\u001b[1;33m(\u001b[0m\u001b[0mr\u001b[0m\u001b[1;33m.\u001b[0m\u001b[0mstatus_code\u001b[0m\u001b[1;33m)\u001b[0m \u001b[1;33m+\u001b[0m \u001b[1;34m\" Error from \"\u001b[0m \u001b[1;33m+\u001b[0m \u001b[0mURL\u001b[0m \u001b[1;33m+\u001b[0m \u001b[1;34m\" and using headers \"\u001b[0m \u001b[1;33m+\u001b[0m \u001b[0mstr\u001b[0m\u001b[1;33m(\u001b[0m\u001b[0mheaders\u001b[0m\u001b[1;33m)\u001b[0m \u001b[1;33m+\u001b[0m \u001b[1;34m\": \"\u001b[0m \u001b[1;33m+\u001b[0m \u001b[0mr\u001b[0m\u001b[1;33m.\u001b[0m\u001b[0mtext\u001b[0m\u001b[1;33m\u001b[0m\u001b[1;33m\u001b[0m\u001b[0m\n\u001b[1;32m--> 121\u001b[1;33m             \u001b[1;32mraise\u001b[0m \u001b[0mrequests\u001b[0m\u001b[1;33m.\u001b[0m\u001b[0mHTTPError\u001b[0m\u001b[1;33m(\u001b[0m\u001b[1;34m\"HTTP \"\u001b[0m \u001b[1;33m+\u001b[0m \u001b[0mstr\u001b[0m\u001b[1;33m(\u001b[0m\u001b[0mr\u001b[0m\u001b[1;33m.\u001b[0m\u001b[0mstatus_code\u001b[0m\u001b[1;33m)\u001b[0m \u001b[1;33m+\u001b[0m \u001b[1;34m\" Error from \"\u001b[0m \u001b[1;33m+\u001b[0m \u001b[0mURL\u001b[0m \u001b[1;33m+\u001b[0m \u001b[1;34m\"\\nand using headers \"\u001b[0m \u001b[1;33m+\u001b[0m \u001b[0mstr\u001b[0m\u001b[1;33m(\u001b[0m\u001b[0mheaders\u001b[0m\u001b[1;33m)\u001b[0m \u001b[1;33m+\u001b[0m \u001b[1;34m\":\\n\"\u001b[0m \u001b[1;33m+\u001b[0m \u001b[0mr\u001b[0m\u001b[1;33m.\u001b[0m\u001b[0mtext\u001b[0m\u001b[1;33m)\u001b[0m\u001b[1;33m\u001b[0m\u001b[1;33m\u001b[0m\u001b[0m\n\u001b[0m",
      "\u001b[1;31mHTTPError\u001b[0m: HTTP 400 Error from https://api.elsevier.com/content/search/author?query=AUTHLAST%28frana%C2%A7a%29+AND+AUTHFIRST%28a%C2%81ngela%29+AND+SUBJAREA%28MATE%29+AND+SUBJAREA%28BIOC%29+AND+SUBJAREA%28ENGI%29+AND+SUBJAREA%28MEDI%29\nand using headers {'X-ELS-APIKey': '3bd33d7e35df95cc6dc576fd67e7356d', 'User-Agent': 'elsapy-v0.5.0', 'Accept': 'application/json'}:\n{\"service-error\":{\"status\":{\"statusCode\":\"INVALID_INPUT\",\"statusText\":\"Error translating query\"}}}",
      "\nDuring handling of the above exception, another exception occurred:\n",
      "\u001b[1;31mHTTPError\u001b[0m                                 Traceback (most recent call last)",
      "\u001b[1;32m<ipython-input-53-f5f60b3ae453>\u001b[0m in \u001b[0;36m<module>\u001b[1;34m\u001b[0m\n\u001b[0;32m     31\u001b[0m \u001b[1;33m\u001b[0m\u001b[0m\n\u001b[0;32m     32\u001b[0m             \u001b[0mauth_srch\u001b[0m \u001b[1;33m=\u001b[0m \u001b[0mElsSearch\u001b[0m\u001b[1;33m(\u001b[0m\u001b[1;34mf'AUTHLAST({family_in}) AND AUTHFIRST({given_in}) AND {sbj_area_query_creator(sa_in)}'\u001b[0m\u001b[1;33m,\u001b[0m\u001b[1;34m'author'\u001b[0m\u001b[1;33m)\u001b[0m\u001b[1;33m\u001b[0m\u001b[1;33m\u001b[0m\u001b[0m\n\u001b[1;32m---> 33\u001b[1;33m             \u001b[0mauth_srch\u001b[0m\u001b[1;33m.\u001b[0m\u001b[0mexecute\u001b[0m\u001b[1;33m(\u001b[0m\u001b[0mclient\u001b[0m\u001b[1;33m)\u001b[0m\u001b[1;33m\u001b[0m\u001b[1;33m\u001b[0m\u001b[0m\n\u001b[0m\u001b[0;32m     34\u001b[0m \u001b[1;33m\u001b[0m\u001b[0m\n\u001b[0;32m     35\u001b[0m         \u001b[1;32melse\u001b[0m\u001b[1;33m:\u001b[0m\u001b[1;33m\u001b[0m\u001b[1;33m\u001b[0m\u001b[0m\n",
      "\u001b[1;32mc:\\Users\\oguzk\\anaconda3\\lib\\site-packages\\elsapy\\elssearch.py\u001b[0m in \u001b[0;36mexecute\u001b[1;34m(self, els_client, get_all)\u001b[0m\n\u001b[0;32m     93\u001b[0m             all results for the search, up to a maximum of 5,000.\"\"\"\n\u001b[0;32m     94\u001b[0m         \u001b[1;31m## TODO: add exception handling\u001b[0m\u001b[1;33m\u001b[0m\u001b[1;33m\u001b[0m\u001b[1;33m\u001b[0m\u001b[0m\n\u001b[1;32m---> 95\u001b[1;33m         \u001b[0mapi_response\u001b[0m \u001b[1;33m=\u001b[0m \u001b[0mels_client\u001b[0m\u001b[1;33m.\u001b[0m\u001b[0mexec_request\u001b[0m\u001b[1;33m(\u001b[0m\u001b[0mself\u001b[0m\u001b[1;33m.\u001b[0m\u001b[0m_uri\u001b[0m\u001b[1;33m)\u001b[0m\u001b[1;33m\u001b[0m\u001b[1;33m\u001b[0m\u001b[0m\n\u001b[0m\u001b[0;32m     96\u001b[0m         \u001b[0mself\u001b[0m\u001b[1;33m.\u001b[0m\u001b[0m_tot_num_res\u001b[0m \u001b[1;33m=\u001b[0m \u001b[0mint\u001b[0m\u001b[1;33m(\u001b[0m\u001b[0mapi_response\u001b[0m\u001b[1;33m[\u001b[0m\u001b[1;34m'search-results'\u001b[0m\u001b[1;33m]\u001b[0m\u001b[1;33m[\u001b[0m\u001b[1;34m'opensearch:totalResults'\u001b[0m\u001b[1;33m]\u001b[0m\u001b[1;33m)\u001b[0m\u001b[1;33m\u001b[0m\u001b[1;33m\u001b[0m\u001b[0m\n\u001b[0;32m     97\u001b[0m         \u001b[0mself\u001b[0m\u001b[1;33m.\u001b[0m\u001b[0m_results\u001b[0m \u001b[1;33m=\u001b[0m \u001b[0mapi_response\u001b[0m\u001b[1;33m[\u001b[0m\u001b[1;34m'search-results'\u001b[0m\u001b[1;33m]\u001b[0m\u001b[1;33m[\u001b[0m\u001b[1;34m'entry'\u001b[0m\u001b[1;33m]\u001b[0m\u001b[1;33m\u001b[0m\u001b[1;33m\u001b[0m\u001b[0m\n",
      "\u001b[1;32mc:\\Users\\oguzk\\anaconda3\\lib\\site-packages\\elsapy\\elsclient.py\u001b[0m in \u001b[0;36mexec_request\u001b[1;34m(self, URL)\u001b[0m\n\u001b[0;32m    119\u001b[0m         \u001b[1;32melse\u001b[0m\u001b[1;33m:\u001b[0m\u001b[1;33m\u001b[0m\u001b[1;33m\u001b[0m\u001b[0m\n\u001b[0;32m    120\u001b[0m             \u001b[0mself\u001b[0m\u001b[1;33m.\u001b[0m\u001b[0m_status_msg\u001b[0m\u001b[1;33m=\u001b[0m\u001b[1;34m\"HTTP \"\u001b[0m \u001b[1;33m+\u001b[0m \u001b[0mstr\u001b[0m\u001b[1;33m(\u001b[0m\u001b[0mr\u001b[0m\u001b[1;33m.\u001b[0m\u001b[0mstatus_code\u001b[0m\u001b[1;33m)\u001b[0m \u001b[1;33m+\u001b[0m \u001b[1;34m\" Error from \"\u001b[0m \u001b[1;33m+\u001b[0m \u001b[0mURL\u001b[0m \u001b[1;33m+\u001b[0m \u001b[1;34m\" and using headers \"\u001b[0m \u001b[1;33m+\u001b[0m \u001b[0mstr\u001b[0m\u001b[1;33m(\u001b[0m\u001b[0mheaders\u001b[0m\u001b[1;33m)\u001b[0m \u001b[1;33m+\u001b[0m \u001b[1;34m\": \"\u001b[0m \u001b[1;33m+\u001b[0m \u001b[0mr\u001b[0m\u001b[1;33m.\u001b[0m\u001b[0mtext\u001b[0m\u001b[1;33m\u001b[0m\u001b[1;33m\u001b[0m\u001b[0m\n\u001b[1;32m--> 121\u001b[1;33m             \u001b[1;32mraise\u001b[0m \u001b[0mrequests\u001b[0m\u001b[1;33m.\u001b[0m\u001b[0mHTTPError\u001b[0m\u001b[1;33m(\u001b[0m\u001b[1;34m\"HTTP \"\u001b[0m \u001b[1;33m+\u001b[0m \u001b[0mstr\u001b[0m\u001b[1;33m(\u001b[0m\u001b[0mr\u001b[0m\u001b[1;33m.\u001b[0m\u001b[0mstatus_code\u001b[0m\u001b[1;33m)\u001b[0m \u001b[1;33m+\u001b[0m \u001b[1;34m\" Error from \"\u001b[0m \u001b[1;33m+\u001b[0m \u001b[0mURL\u001b[0m \u001b[1;33m+\u001b[0m \u001b[1;34m\"\\nand using headers \"\u001b[0m \u001b[1;33m+\u001b[0m \u001b[0mstr\u001b[0m\u001b[1;33m(\u001b[0m\u001b[0mheaders\u001b[0m\u001b[1;33m)\u001b[0m \u001b[1;33m+\u001b[0m \u001b[1;34m\":\\n\"\u001b[0m \u001b[1;33m+\u001b[0m \u001b[0mr\u001b[0m\u001b[1;33m.\u001b[0m\u001b[0mtext\u001b[0m\u001b[1;33m)\u001b[0m\u001b[1;33m\u001b[0m\u001b[1;33m\u001b[0m\u001b[0m\n\u001b[0m",
      "\u001b[1;31mHTTPError\u001b[0m: HTTP 400 Error from https://api.elsevier.com/content/search/author?query=AUTHLAST%28frana%C2%A7a%29+AND+AUTHFIRST%28a%C2%81ngela%29+AND+SUBJAREA%28MATE%29+AND+SUBJAREA%28BIOC%29+AND+SUBJAREA%28ENGI%29+AND+SUBJAREA%28MEDI%29\nand using headers {'X-ELS-APIKey': '784ab6b22d3148f3d3f94a75596d0633', 'User-Agent': 'elsapy-v0.5.0', 'Accept': 'application/json'}:\n{\"service-error\":{\"status\":{\"statusCode\":\"INVALID_INPUT\",\"statusText\":\"Error translating query\"}}}"
     ]
    }
   ],
   "source": [
    "# Full Loop - Take 4:\n",
    "\n",
    "#author_out_list= list()\n",
    "\n",
    "avail_api_keys_list = [\"784ab6b22d3148f3d3f94a75596d0633\",\"63db00d1e8f7e5a5ef223abad3858dfe\",\"3f453389d0cada327703d787cd41b4ec\",\"e989f6eb6ea2a19b104eed28efe11071\",\"1a3f1a762b1e2abec678b08f4d7a1038\",\n",
    "\"e481b6eef24800668a6ee5ea576c1f97\",\"563df86d8ae1a6e62e0f0e4278a45cb9\",\"92975ea2d964ac570219d520aaad1d41\",\"c8eab163448aa6bd54fa97af700a939b\",\"53acda4267b6a5a9a6a87b8767aa8cc6\",\"9289c787b0d98e1a5a7a7fb58e102e1a\",\"1bf711a2bc396e7e99340bdaf2ba29d0\",\"396d5385a697326c03800cf37ca4f1a2\",\"8a9a5beb728f47b401fd145e1bb035ba\",\"cfbe1762b57a3310906c53bbbb3a68e5\",\n",
    "\"7b6016e18d538a15806f172d0ac7a0cd\",\"5d30dea104b6b7c33f6a120619fdbc6e\",\"e6cc81dc4b558be9892fa4e0715822a1\",\"da2094a93eb167105699cfb6c47466b6\",\"a323957ad88e129d8bae2c7b2fd0e63a\",\"a809d51349b6a614581cf57493dc0c94\",\"f36f0ccc1554186bb009e9ca7b3c14c0\",\"a1d21854963d1cca62742c56b5f7633d\",\"f3bdebaa3f41b7443d8d9d8983c00479\",\"bfaac6eb78a88e97874fa1d0bfd8c63e\",\n",
    "\"546932c3fcd8e21fbc6eab08010b9f44\",\"0599d76680c29c71e028fc9b77b0c063\",\"baaa9e51f8a49461352af25710719157\",\"30195f0b2192052a36bcab9ce3c4064f\",\"b7e95f5ea731eb5c9e84e7a1d499f50e\",\"8707db153e4b9672fa6df25b03a5f747\",\"2dab4694b4347fa574d159bb97484fc4\",\"6af3d2c09eb08ec6e12f0cead9a1f5bb\",\"3872e798bf48fa28af583b9ebef5deb6\",\"1473c31dbcdb425f9cdaf75c673279d3\"]\n",
    "\n",
    "used_api_keys_list = [\"6ae4b5181b374f521e60d2ef4be73ec5\", \"c14e197a4982e7349247b189ff26da45\", \"fbc5e06467522a07f93e247a24d89d3b\"]\n",
    "\n",
    "client = ElsClient(\"3bd33d7e35df95cc6dc576fd67e7356d\")\n",
    "key_count = 3\n",
    "\n",
    "for auth_id in first_author_input_dict_take4:\n",
    "    given_in = first_author_input_dict_take4[auth_id][\"new_given\"]\n",
    "    family_in = first_author_input_dict_take4[auth_id][\"new_family\"]\n",
    "    sa_in = first_author_input_dict_take4[auth_id][\"SA_list\"]\n",
    "\n",
    "    try:\n",
    "        auth_srch = ElsSearch(f'AUTHLAST({family_in}) AND AUTHFIRST({given_in}) AND {sbj_area_query_creator(sa_in)}','author')\n",
    "        auth_srch.execute(client)\n",
    "    except:\n",
    "        if len(avail_api_keys_list) >0:\n",
    "            new_key = avail_api_keys_list.pop(0)            \n",
    "            client = ElsClient(new_key)\n",
    "\n",
    "            key_count += 1\n",
    "            print(f\"Changed API key, now using key number {key_count}: {new_key}\")\n",
    "            used_api_keys_list.append(new_key)\n",
    "\n",
    "            auth_srch = ElsSearch(f'AUTHLAST({family_in}) AND AUTHFIRST({given_in}) AND {sbj_area_query_creator(sa_in)}','author')\n",
    "            auth_srch.execute(client)\n",
    "\n",
    "        else:\n",
    "            print(\"No available API keys to use!\")\n",
    "            break\n",
    "\n",
    "\n",
    "    country_out = list()\n",
    "    given_out = list()\n",
    "    family_out = list()\n",
    "    doc_count_out = list()\n",
    "\n",
    "    for auth in auth_srch.results:\n",
    "        # Country:\n",
    "        try:\n",
    "            country_out.append(auth['affiliation-current']['affiliation-country'])\n",
    "        except:\n",
    "            pass\n",
    "\n",
    "        # Given:\n",
    "        try:\n",
    "            given_out.append(auth['preferred-name']['given-name'])\n",
    "        except:\n",
    "            pass\n",
    "\n",
    "        # Family:\n",
    "        try:\n",
    "            family_out.append(auth['preferred-name']['surname'])\n",
    "        except:\n",
    "            pass\n",
    "\n",
    "        # Doc Count:\n",
    "        try:\n",
    "            doc_count_out.append(auth['document-count'])\n",
    "        except:\n",
    "            pass\n",
    "\n",
    "    \n",
    "    author_out_dict = dict(author_id=auth_id, country=country_out, given=given_out, family=family_out, doc_count=doc_count_out)\n",
    "\n",
    "    author_out_list.append(author_out_dict)\n",
    "\n",
    "\n"
   ]
  },
  {
   "cell_type": "code",
   "execution_count": 54,
   "metadata": {},
   "outputs": [
    {
     "data": {
      "text/html": [
       "<div>\n",
       "<style scoped>\n",
       "    .dataframe tbody tr th:only-of-type {\n",
       "        vertical-align: middle;\n",
       "    }\n",
       "\n",
       "    .dataframe tbody tr th {\n",
       "        vertical-align: top;\n",
       "    }\n",
       "\n",
       "    .dataframe thead th {\n",
       "        text-align: right;\n",
       "    }\n",
       "</style>\n",
       "<table border=\"1\" class=\"dataframe\">\n",
       "  <thead>\n",
       "    <tr style=\"text-align: right;\">\n",
       "      <th></th>\n",
       "      <th>author_id</th>\n",
       "      <th>country</th>\n",
       "      <th>given</th>\n",
       "      <th>family</th>\n",
       "      <th>doc_count</th>\n",
       "    </tr>\n",
       "  </thead>\n",
       "  <tbody>\n",
       "    <tr>\n",
       "      <th>0</th>\n",
       "      <td>aut_0</td>\n",
       "      <td>[China, China, China, Hong Kong]</td>\n",
       "      <td>[Jing, Jingheng, Jing, (Luna) Jing]</td>\n",
       "      <td>[Cai, Cai, Cai, Cai]</td>\n",
       "      <td>[23, 22, 1, 1]</td>\n",
       "    </tr>\n",
       "    <tr>\n",
       "      <th>1</th>\n",
       "      <td>aut_1</td>\n",
       "      <td>[United States, United States, United States, ...</td>\n",
       "      <td>[Qing, Qing, (Grace) Qing, Grace Qing]</td>\n",
       "      <td>[Hao, Hao, Hao, Hao]</td>\n",
       "      <td>[86, 11, 2, 1]</td>\n",
       "    </tr>\n",
       "    <tr>\n",
       "      <th>2</th>\n",
       "      <td>aut_2</td>\n",
       "      <td>[China, China, China, China, China, China, Chi...</td>\n",
       "      <td>[Yongquan, Yonghong, Yong, Dayong, Yongwu, Yon...</td>\n",
       "      <td>[Zhou, Zhou, Zhou, Zhou, Zhou, Zhou, Zhou, Zho...</td>\n",
       "      <td>[286, 220, 193, 170, 164, 151, 100, 92, 74, 64...</td>\n",
       "    </tr>\n",
       "    <tr>\n",
       "      <th>3</th>\n",
       "      <td>aut_3</td>\n",
       "      <td>[Italy, Italy, France, Nigeria, Malaysia, Saud...</td>\n",
       "      <td>[Andrea, Alessandro, Ado Adamou Abba, Hafizull...</td>\n",
       "      <td>[Abba, Abbà, Ari, Ahmed, Haruna, Abba, Abba, A...</td>\n",
       "      <td>[75, 65, 44, 19, 17, 15, 8, 3]</td>\n",
       "    </tr>\n",
       "    <tr>\n",
       "      <th>4</th>\n",
       "      <td>aut_4</td>\n",
       "      <td>[Italy]</td>\n",
       "      <td>[Antonella]</td>\n",
       "      <td>[Agodi]</td>\n",
       "      <td>[234]</td>\n",
       "    </tr>\n",
       "    <tr>\n",
       "      <th>...</th>\n",
       "      <td>...</td>\n",
       "      <td>...</td>\n",
       "      <td>...</td>\n",
       "      <td>...</td>\n",
       "      <td>...</td>\n",
       "    </tr>\n",
       "    <tr>\n",
       "      <th>18308</th>\n",
       "      <td>aut_18310</td>\n",
       "      <td>[Indonesia]</td>\n",
       "      <td>[Azzara]</td>\n",
       "      <td>[Nurfitri]</td>\n",
       "      <td>[1]</td>\n",
       "    </tr>\n",
       "    <tr>\n",
       "      <th>18309</th>\n",
       "      <td>aut_18311</td>\n",
       "      <td>[Canada]</td>\n",
       "      <td>[Azzedine]</td>\n",
       "      <td>[Boukerche]</td>\n",
       "      <td>[1041]</td>\n",
       "    </tr>\n",
       "    <tr>\n",
       "      <th>18310</th>\n",
       "      <td>aut_18312</td>\n",
       "      <td>[Italy]</td>\n",
       "      <td>[Azzurra]</td>\n",
       "      <td>[Meoli]</td>\n",
       "      <td>[4]</td>\n",
       "    </tr>\n",
       "    <tr>\n",
       "      <th>18311</th>\n",
       "      <td>aut_18313</td>\n",
       "      <td>[Italy]</td>\n",
       "      <td>[Azzurra]</td>\n",
       "      <td>[Santoro]</td>\n",
       "      <td>[16]</td>\n",
       "    </tr>\n",
       "    <tr>\n",
       "      <th>18312</th>\n",
       "      <td>aut_18314</td>\n",
       "      <td>[Italy]</td>\n",
       "      <td>[Azzurra]</td>\n",
       "      <td>[Sargenti]</td>\n",
       "      <td>[28]</td>\n",
       "    </tr>\n",
       "  </tbody>\n",
       "</table>\n",
       "<p>18313 rows × 5 columns</p>\n",
       "</div>"
      ],
      "text/plain": [
       "       author_id                                            country  \\\n",
       "0          aut_0                   [China, China, China, Hong Kong]   \n",
       "1          aut_1  [United States, United States, United States, ...   \n",
       "2          aut_2  [China, China, China, China, China, China, Chi...   \n",
       "3          aut_3  [Italy, Italy, France, Nigeria, Malaysia, Saud...   \n",
       "4          aut_4                                            [Italy]   \n",
       "...          ...                                                ...   \n",
       "18308  aut_18310                                        [Indonesia]   \n",
       "18309  aut_18311                                           [Canada]   \n",
       "18310  aut_18312                                            [Italy]   \n",
       "18311  aut_18313                                            [Italy]   \n",
       "18312  aut_18314                                            [Italy]   \n",
       "\n",
       "                                                   given  \\\n",
       "0                    [Jing, Jingheng, Jing, (Luna) Jing]   \n",
       "1                 [Qing, Qing, (Grace) Qing, Grace Qing]   \n",
       "2      [Yongquan, Yonghong, Yong, Dayong, Yongwu, Yon...   \n",
       "3      [Andrea, Alessandro, Ado Adamou Abba, Hafizull...   \n",
       "4                                            [Antonella]   \n",
       "...                                                  ...   \n",
       "18308                                           [Azzara]   \n",
       "18309                                         [Azzedine]   \n",
       "18310                                          [Azzurra]   \n",
       "18311                                          [Azzurra]   \n",
       "18312                                          [Azzurra]   \n",
       "\n",
       "                                                  family  \\\n",
       "0                                   [Cai, Cai, Cai, Cai]   \n",
       "1                                   [Hao, Hao, Hao, Hao]   \n",
       "2      [Zhou, Zhou, Zhou, Zhou, Zhou, Zhou, Zhou, Zho...   \n",
       "3      [Abba, Abbà, Ari, Ahmed, Haruna, Abba, Abba, A...   \n",
       "4                                                [Agodi]   \n",
       "...                                                  ...   \n",
       "18308                                         [Nurfitri]   \n",
       "18309                                        [Boukerche]   \n",
       "18310                                            [Meoli]   \n",
       "18311                                          [Santoro]   \n",
       "18312                                         [Sargenti]   \n",
       "\n",
       "                                               doc_count  \n",
       "0                                         [23, 22, 1, 1]  \n",
       "1                                         [86, 11, 2, 1]  \n",
       "2      [286, 220, 193, 170, 164, 151, 100, 92, 74, 64...  \n",
       "3                         [75, 65, 44, 19, 17, 15, 8, 3]  \n",
       "4                                                  [234]  \n",
       "...                                                  ...  \n",
       "18308                                                [1]  \n",
       "18309                                             [1041]  \n",
       "18310                                                [4]  \n",
       "18311                                               [16]  \n",
       "18312                                               [28]  \n",
       "\n",
       "[18313 rows x 5 columns]"
      ]
     },
     "execution_count": 54,
     "metadata": {},
     "output_type": "execute_result"
    }
   ],
   "source": [
    "pd.DataFrame(author_out_list)"
   ]
  },
  {
   "cell_type": "code",
   "execution_count": 61,
   "metadata": {},
   "outputs": [],
   "source": [
    "with open(\"author_out_list\",\"wb\") as p:\n",
    "    pickle.dump(author_out_list, p)"
   ]
  },
  {
   "cell_type": "code",
   "execution_count": 56,
   "metadata": {},
   "outputs": [
    {
     "data": {
      "text/html": [
       "<div>\n",
       "<style scoped>\n",
       "    .dataframe tbody tr th:only-of-type {\n",
       "        vertical-align: middle;\n",
       "    }\n",
       "\n",
       "    .dataframe tbody tr th {\n",
       "        vertical-align: top;\n",
       "    }\n",
       "\n",
       "    .dataframe thead th {\n",
       "        text-align: right;\n",
       "    }\n",
       "</style>\n",
       "<table border=\"1\" class=\"dataframe\">\n",
       "  <thead>\n",
       "    <tr style=\"text-align: right;\">\n",
       "      <th></th>\n",
       "      <th>new_given</th>\n",
       "      <th>new_family</th>\n",
       "      <th>SA_list</th>\n",
       "      <th>DOI</th>\n",
       "    </tr>\n",
       "    <tr>\n",
       "      <th>index</th>\n",
       "      <th></th>\n",
       "      <th></th>\n",
       "      <th></th>\n",
       "      <th></th>\n",
       "    </tr>\n",
       "  </thead>\n",
       "  <tbody>\n",
       "    <tr>\n",
       "      <th>aut_18315</th>\n",
       "      <td>angela</td>\n",
       "      <td>frana§a</td>\n",
       "      <td>[Materials Science, Biochemistry, Genetics and...</td>\n",
       "      <td>[10.1002/smll.200901006]</td>\n",
       "    </tr>\n",
       "  </tbody>\n",
       "</table>\n",
       "</div>"
      ],
      "text/plain": [
       "          new_given new_family  \\\n",
       "index                            \n",
       "aut_18315   angela    frana§a   \n",
       "\n",
       "                                                     SA_list  \\\n",
       "index                                                          \n",
       "aut_18315  [Materials Science, Biochemistry, Genetics and...   \n",
       "\n",
       "                                DOI  \n",
       "index                                \n",
       "aut_18315  [10.1002/smll.200901006]  "
      ]
     },
     "execution_count": 56,
     "metadata": {},
     "output_type": "execute_result"
    }
   ],
   "source": [
    "q1_first_author_df[q1_first_author_df.new_given.map(lambda x: bool(re.search(\"\", x)))]"
   ]
  },
  {
   "cell_type": "code",
   "execution_count": 57,
   "metadata": {},
   "outputs": [
    {
     "data": {
      "text/html": [
       "<div>\n",
       "<style scoped>\n",
       "    .dataframe tbody tr th:only-of-type {\n",
       "        vertical-align: middle;\n",
       "    }\n",
       "\n",
       "    .dataframe tbody tr th {\n",
       "        vertical-align: top;\n",
       "    }\n",
       "\n",
       "    .dataframe thead th {\n",
       "        text-align: right;\n",
       "    }\n",
       "</style>\n",
       "<table border=\"1\" class=\"dataframe\">\n",
       "  <thead>\n",
       "    <tr style=\"text-align: right;\">\n",
       "      <th></th>\n",
       "      <th>new_given</th>\n",
       "      <th>new_family</th>\n",
       "      <th>SA_list</th>\n",
       "      <th>DOI</th>\n",
       "    </tr>\n",
       "    <tr>\n",
       "      <th>index</th>\n",
       "      <th></th>\n",
       "      <th></th>\n",
       "      <th></th>\n",
       "      <th></th>\n",
       "    </tr>\n",
       "  </thead>\n",
       "  <tbody>\n",
       "    <tr>\n",
       "      <th>aut_23897</th>\n",
       "      <td>carlos</td>\n",
       "      <td>capistran</td>\n",
       "      <td>[Business, Management and Accounting, Economic...</td>\n",
       "      <td>[10.1111/j.1538-4616.2009.00280.x]</td>\n",
       "    </tr>\n",
       "  </tbody>\n",
       "</table>\n",
       "</div>"
      ],
      "text/plain": [
       "          new_given  new_family  \\\n",
       "index                             \n",
       "aut_23897    carlos  capistran   \n",
       "\n",
       "                                                     SA_list  \\\n",
       "index                                                          \n",
       "aut_23897  [Business, Management and Accounting, Economic...   \n",
       "\n",
       "                                          DOI  \n",
       "index                                          \n",
       "aut_23897  [10.1111/j.1538-4616.2009.00280.x]  "
      ]
     },
     "execution_count": 57,
     "metadata": {},
     "output_type": "execute_result"
    }
   ],
   "source": [
    "q1_first_author_df[q1_first_author_df.new_family.map(lambda x: bool(re.search(\"\", x)))]"
   ]
  },
  {
   "cell_type": "markdown",
   "metadata": {},
   "source": [
    "It is seen that there is another problematic character !\n",
    "\n",
    "Will be fixed accordingly."
   ]
  },
  {
   "cell_type": "markdown",
   "metadata": {},
   "source": [
    "#### 5.7 - Take 5:"
   ]
  },
  {
   "cell_type": "code",
   "execution_count": 63,
   "metadata": {},
   "outputs": [],
   "source": [
    "first_author_input_dict_take5 = q1_first_author_df.drop([\"aut_4915\", \"aut_14163\", \"aut_18315\", \"aut_23897\",\"aut_112348\", \"aut_48200\", \"aut_124149\"])[[\"new_given\",\"new_family\",\"SA_list\"]][18313:].to_dict(\"index\")"
   ]
  },
  {
   "cell_type": "code",
   "execution_count": 64,
   "metadata": {},
   "outputs": [],
   "source": [
    "del first_author_input_dict_take4"
   ]
  },
  {
   "cell_type": "code",
   "execution_count": 67,
   "metadata": {},
   "outputs": [
    {
     "name": "stdout",
     "output_type": "stream",
     "text": [
      "Changed API key, now using key number 4: 784ab6b22d3148f3d3f94a75596d0633\n",
      "Changed API key, now using key number 5: 63db00d1e8f7e5a5ef223abad3858dfe\n",
      "Changed API key, now using key number 6: 3f453389d0cada327703d787cd41b4ec\n",
      "Changed API key, now using key number 7: e989f6eb6ea2a19b104eed28efe11071\n",
      "Changed API key, now using key number 8: 1a3f1a762b1e2abec678b08f4d7a1038\n",
      "Changed API key, now using key number 9: e481b6eef24800668a6ee5ea576c1f97\n"
     ]
    },
    {
     "ename": "HTTPError",
     "evalue": "HTTP 500 Error from https://api.elsevier.com/content/search/author?query=AUTHLAST%28fisher%29+AND+AUTHFIRST%28david%29+AND+SUBJAREA%28MEDI%29+AND+SUBJAREA%28DENT%29+AND+SUBJAREA%28MEDI%29+AND+SUBJAREA%28DENT%29\nand using headers {'X-ELS-APIKey': 'e481b6eef24800668a6ee5ea576c1f97', 'User-Agent': 'elsapy-v0.5.0', 'Accept': 'application/json'}:\n{\"service-error\":{\"status\":{\"statusCode\":\"GENERAL_SYSTEM_ERROR\",\"statusText\":\"Unable to authenticate.\"}}}",
     "output_type": "error",
     "traceback": [
      "\u001b[1;31m---------------------------------------------------------------------------\u001b[0m",
      "\u001b[1;31mHTTPError\u001b[0m                                 Traceback (most recent call last)",
      "\u001b[1;32m<ipython-input-67-5d63b415eefa>\u001b[0m in \u001b[0;36m<module>\u001b[1;34m\u001b[0m\n\u001b[0;32m     21\u001b[0m         \u001b[0mauth_srch\u001b[0m \u001b[1;33m=\u001b[0m \u001b[0mElsSearch\u001b[0m\u001b[1;33m(\u001b[0m\u001b[1;34mf'AUTHLAST({family_in}) AND AUTHFIRST({given_in}) AND {sbj_area_query_creator(sa_in)}'\u001b[0m\u001b[1;33m,\u001b[0m\u001b[1;34m'author'\u001b[0m\u001b[1;33m)\u001b[0m\u001b[1;33m\u001b[0m\u001b[1;33m\u001b[0m\u001b[0m\n\u001b[1;32m---> 22\u001b[1;33m         \u001b[0mauth_srch\u001b[0m\u001b[1;33m.\u001b[0m\u001b[0mexecute\u001b[0m\u001b[1;33m(\u001b[0m\u001b[0mclient\u001b[0m\u001b[1;33m)\u001b[0m\u001b[1;33m\u001b[0m\u001b[1;33m\u001b[0m\u001b[0m\n\u001b[0m\u001b[0;32m     23\u001b[0m     \u001b[1;32mexcept\u001b[0m\u001b[1;33m:\u001b[0m\u001b[1;33m\u001b[0m\u001b[1;33m\u001b[0m\u001b[0m\n",
      "\u001b[1;32mc:\\Users\\oguzk\\anaconda3\\lib\\site-packages\\elsapy\\elssearch.py\u001b[0m in \u001b[0;36mexecute\u001b[1;34m(self, els_client, get_all)\u001b[0m\n\u001b[0;32m     94\u001b[0m         \u001b[1;31m## TODO: add exception handling\u001b[0m\u001b[1;33m\u001b[0m\u001b[1;33m\u001b[0m\u001b[1;33m\u001b[0m\u001b[0m\n\u001b[1;32m---> 95\u001b[1;33m         \u001b[0mapi_response\u001b[0m \u001b[1;33m=\u001b[0m \u001b[0mels_client\u001b[0m\u001b[1;33m.\u001b[0m\u001b[0mexec_request\u001b[0m\u001b[1;33m(\u001b[0m\u001b[0mself\u001b[0m\u001b[1;33m.\u001b[0m\u001b[0m_uri\u001b[0m\u001b[1;33m)\u001b[0m\u001b[1;33m\u001b[0m\u001b[1;33m\u001b[0m\u001b[0m\n\u001b[0m\u001b[0;32m     96\u001b[0m         \u001b[0mself\u001b[0m\u001b[1;33m.\u001b[0m\u001b[0m_tot_num_res\u001b[0m \u001b[1;33m=\u001b[0m \u001b[0mint\u001b[0m\u001b[1;33m(\u001b[0m\u001b[0mapi_response\u001b[0m\u001b[1;33m[\u001b[0m\u001b[1;34m'search-results'\u001b[0m\u001b[1;33m]\u001b[0m\u001b[1;33m[\u001b[0m\u001b[1;34m'opensearch:totalResults'\u001b[0m\u001b[1;33m]\u001b[0m\u001b[1;33m)\u001b[0m\u001b[1;33m\u001b[0m\u001b[1;33m\u001b[0m\u001b[0m\n",
      "\u001b[1;32mc:\\Users\\oguzk\\anaconda3\\lib\\site-packages\\elsapy\\elsclient.py\u001b[0m in \u001b[0;36mexec_request\u001b[1;34m(self, URL)\u001b[0m\n\u001b[0;32m    120\u001b[0m             \u001b[0mself\u001b[0m\u001b[1;33m.\u001b[0m\u001b[0m_status_msg\u001b[0m\u001b[1;33m=\u001b[0m\u001b[1;34m\"HTTP \"\u001b[0m \u001b[1;33m+\u001b[0m \u001b[0mstr\u001b[0m\u001b[1;33m(\u001b[0m\u001b[0mr\u001b[0m\u001b[1;33m.\u001b[0m\u001b[0mstatus_code\u001b[0m\u001b[1;33m)\u001b[0m \u001b[1;33m+\u001b[0m \u001b[1;34m\" Error from \"\u001b[0m \u001b[1;33m+\u001b[0m \u001b[0mURL\u001b[0m \u001b[1;33m+\u001b[0m \u001b[1;34m\" and using headers \"\u001b[0m \u001b[1;33m+\u001b[0m \u001b[0mstr\u001b[0m\u001b[1;33m(\u001b[0m\u001b[0mheaders\u001b[0m\u001b[1;33m)\u001b[0m \u001b[1;33m+\u001b[0m \u001b[1;34m\": \"\u001b[0m \u001b[1;33m+\u001b[0m \u001b[0mr\u001b[0m\u001b[1;33m.\u001b[0m\u001b[0mtext\u001b[0m\u001b[1;33m\u001b[0m\u001b[1;33m\u001b[0m\u001b[0m\n\u001b[1;32m--> 121\u001b[1;33m             \u001b[1;32mraise\u001b[0m \u001b[0mrequests\u001b[0m\u001b[1;33m.\u001b[0m\u001b[0mHTTPError\u001b[0m\u001b[1;33m(\u001b[0m\u001b[1;34m\"HTTP \"\u001b[0m \u001b[1;33m+\u001b[0m \u001b[0mstr\u001b[0m\u001b[1;33m(\u001b[0m\u001b[0mr\u001b[0m\u001b[1;33m.\u001b[0m\u001b[0mstatus_code\u001b[0m\u001b[1;33m)\u001b[0m \u001b[1;33m+\u001b[0m \u001b[1;34m\" Error from \"\u001b[0m \u001b[1;33m+\u001b[0m \u001b[0mURL\u001b[0m \u001b[1;33m+\u001b[0m \u001b[1;34m\"\\nand using headers \"\u001b[0m \u001b[1;33m+\u001b[0m \u001b[0mstr\u001b[0m\u001b[1;33m(\u001b[0m\u001b[0mheaders\u001b[0m\u001b[1;33m)\u001b[0m \u001b[1;33m+\u001b[0m \u001b[1;34m\":\\n\"\u001b[0m \u001b[1;33m+\u001b[0m \u001b[0mr\u001b[0m\u001b[1;33m.\u001b[0m\u001b[0mtext\u001b[0m\u001b[1;33m)\u001b[0m\u001b[1;33m\u001b[0m\u001b[1;33m\u001b[0m\u001b[0m\n\u001b[0m",
      "\u001b[1;31mHTTPError\u001b[0m: HTTP 500 Error from https://api.elsevier.com/content/search/author?query=AUTHLAST%28fisher%29+AND+AUTHFIRST%28david%29+AND+SUBJAREA%28MEDI%29+AND+SUBJAREA%28DENT%29+AND+SUBJAREA%28MEDI%29+AND+SUBJAREA%28DENT%29\nand using headers {'X-ELS-APIKey': '1a3f1a762b1e2abec678b08f4d7a1038', 'User-Agent': 'elsapy-v0.5.0', 'Accept': 'application/json'}:\n{\"service-error\":{\"status\":{\"statusCode\":\"GENERAL_SYSTEM_ERROR\",\"statusText\":\"Unable to authenticate.\"}}}",
      "\nDuring handling of the above exception, another exception occurred:\n",
      "\u001b[1;31mHTTPError\u001b[0m                                 Traceback (most recent call last)",
      "\u001b[1;32m<ipython-input-67-5d63b415eefa>\u001b[0m in \u001b[0;36m<module>\u001b[1;34m\u001b[0m\n\u001b[0;32m     31\u001b[0m \u001b[1;33m\u001b[0m\u001b[0m\n\u001b[0;32m     32\u001b[0m             \u001b[0mauth_srch\u001b[0m \u001b[1;33m=\u001b[0m \u001b[0mElsSearch\u001b[0m\u001b[1;33m(\u001b[0m\u001b[1;34mf'AUTHLAST({family_in}) AND AUTHFIRST({given_in}) AND {sbj_area_query_creator(sa_in)}'\u001b[0m\u001b[1;33m,\u001b[0m\u001b[1;34m'author'\u001b[0m\u001b[1;33m)\u001b[0m\u001b[1;33m\u001b[0m\u001b[1;33m\u001b[0m\u001b[0m\n\u001b[1;32m---> 33\u001b[1;33m             \u001b[0mauth_srch\u001b[0m\u001b[1;33m.\u001b[0m\u001b[0mexecute\u001b[0m\u001b[1;33m(\u001b[0m\u001b[0mclient\u001b[0m\u001b[1;33m)\u001b[0m\u001b[1;33m\u001b[0m\u001b[1;33m\u001b[0m\u001b[0m\n\u001b[0m\u001b[0;32m     34\u001b[0m \u001b[1;33m\u001b[0m\u001b[0m\n\u001b[0;32m     35\u001b[0m         \u001b[1;32melse\u001b[0m\u001b[1;33m:\u001b[0m\u001b[1;33m\u001b[0m\u001b[1;33m\u001b[0m\u001b[0m\n",
      "\u001b[1;32mc:\\Users\\oguzk\\anaconda3\\lib\\site-packages\\elsapy\\elssearch.py\u001b[0m in \u001b[0;36mexecute\u001b[1;34m(self, els_client, get_all)\u001b[0m\n\u001b[0;32m     93\u001b[0m             all results for the search, up to a maximum of 5,000.\"\"\"\n\u001b[0;32m     94\u001b[0m         \u001b[1;31m## TODO: add exception handling\u001b[0m\u001b[1;33m\u001b[0m\u001b[1;33m\u001b[0m\u001b[1;33m\u001b[0m\u001b[0m\n\u001b[1;32m---> 95\u001b[1;33m         \u001b[0mapi_response\u001b[0m \u001b[1;33m=\u001b[0m \u001b[0mels_client\u001b[0m\u001b[1;33m.\u001b[0m\u001b[0mexec_request\u001b[0m\u001b[1;33m(\u001b[0m\u001b[0mself\u001b[0m\u001b[1;33m.\u001b[0m\u001b[0m_uri\u001b[0m\u001b[1;33m)\u001b[0m\u001b[1;33m\u001b[0m\u001b[1;33m\u001b[0m\u001b[0m\n\u001b[0m\u001b[0;32m     96\u001b[0m         \u001b[0mself\u001b[0m\u001b[1;33m.\u001b[0m\u001b[0m_tot_num_res\u001b[0m \u001b[1;33m=\u001b[0m \u001b[0mint\u001b[0m\u001b[1;33m(\u001b[0m\u001b[0mapi_response\u001b[0m\u001b[1;33m[\u001b[0m\u001b[1;34m'search-results'\u001b[0m\u001b[1;33m]\u001b[0m\u001b[1;33m[\u001b[0m\u001b[1;34m'opensearch:totalResults'\u001b[0m\u001b[1;33m]\u001b[0m\u001b[1;33m)\u001b[0m\u001b[1;33m\u001b[0m\u001b[1;33m\u001b[0m\u001b[0m\n\u001b[0;32m     97\u001b[0m         \u001b[0mself\u001b[0m\u001b[1;33m.\u001b[0m\u001b[0m_results\u001b[0m \u001b[1;33m=\u001b[0m \u001b[0mapi_response\u001b[0m\u001b[1;33m[\u001b[0m\u001b[1;34m'search-results'\u001b[0m\u001b[1;33m]\u001b[0m\u001b[1;33m[\u001b[0m\u001b[1;34m'entry'\u001b[0m\u001b[1;33m]\u001b[0m\u001b[1;33m\u001b[0m\u001b[1;33m\u001b[0m\u001b[0m\n",
      "\u001b[1;32mc:\\Users\\oguzk\\anaconda3\\lib\\site-packages\\elsapy\\elsclient.py\u001b[0m in \u001b[0;36mexec_request\u001b[1;34m(self, URL)\u001b[0m\n\u001b[0;32m    119\u001b[0m         \u001b[1;32melse\u001b[0m\u001b[1;33m:\u001b[0m\u001b[1;33m\u001b[0m\u001b[1;33m\u001b[0m\u001b[0m\n\u001b[0;32m    120\u001b[0m             \u001b[0mself\u001b[0m\u001b[1;33m.\u001b[0m\u001b[0m_status_msg\u001b[0m\u001b[1;33m=\u001b[0m\u001b[1;34m\"HTTP \"\u001b[0m \u001b[1;33m+\u001b[0m \u001b[0mstr\u001b[0m\u001b[1;33m(\u001b[0m\u001b[0mr\u001b[0m\u001b[1;33m.\u001b[0m\u001b[0mstatus_code\u001b[0m\u001b[1;33m)\u001b[0m \u001b[1;33m+\u001b[0m \u001b[1;34m\" Error from \"\u001b[0m \u001b[1;33m+\u001b[0m \u001b[0mURL\u001b[0m \u001b[1;33m+\u001b[0m \u001b[1;34m\" and using headers \"\u001b[0m \u001b[1;33m+\u001b[0m \u001b[0mstr\u001b[0m\u001b[1;33m(\u001b[0m\u001b[0mheaders\u001b[0m\u001b[1;33m)\u001b[0m \u001b[1;33m+\u001b[0m \u001b[1;34m\": \"\u001b[0m \u001b[1;33m+\u001b[0m \u001b[0mr\u001b[0m\u001b[1;33m.\u001b[0m\u001b[0mtext\u001b[0m\u001b[1;33m\u001b[0m\u001b[1;33m\u001b[0m\u001b[0m\n\u001b[1;32m--> 121\u001b[1;33m             \u001b[1;32mraise\u001b[0m \u001b[0mrequests\u001b[0m\u001b[1;33m.\u001b[0m\u001b[0mHTTPError\u001b[0m\u001b[1;33m(\u001b[0m\u001b[1;34m\"HTTP \"\u001b[0m \u001b[1;33m+\u001b[0m \u001b[0mstr\u001b[0m\u001b[1;33m(\u001b[0m\u001b[0mr\u001b[0m\u001b[1;33m.\u001b[0m\u001b[0mstatus_code\u001b[0m\u001b[1;33m)\u001b[0m \u001b[1;33m+\u001b[0m \u001b[1;34m\" Error from \"\u001b[0m \u001b[1;33m+\u001b[0m \u001b[0mURL\u001b[0m \u001b[1;33m+\u001b[0m \u001b[1;34m\"\\nand using headers \"\u001b[0m \u001b[1;33m+\u001b[0m \u001b[0mstr\u001b[0m\u001b[1;33m(\u001b[0m\u001b[0mheaders\u001b[0m\u001b[1;33m)\u001b[0m \u001b[1;33m+\u001b[0m \u001b[1;34m\":\\n\"\u001b[0m \u001b[1;33m+\u001b[0m \u001b[0mr\u001b[0m\u001b[1;33m.\u001b[0m\u001b[0mtext\u001b[0m\u001b[1;33m)\u001b[0m\u001b[1;33m\u001b[0m\u001b[1;33m\u001b[0m\u001b[0m\n\u001b[0m",
      "\u001b[1;31mHTTPError\u001b[0m: HTTP 500 Error from https://api.elsevier.com/content/search/author?query=AUTHLAST%28fisher%29+AND+AUTHFIRST%28david%29+AND+SUBJAREA%28MEDI%29+AND+SUBJAREA%28DENT%29+AND+SUBJAREA%28MEDI%29+AND+SUBJAREA%28DENT%29\nand using headers {'X-ELS-APIKey': 'e481b6eef24800668a6ee5ea576c1f97', 'User-Agent': 'elsapy-v0.5.0', 'Accept': 'application/json'}:\n{\"service-error\":{\"status\":{\"statusCode\":\"GENERAL_SYSTEM_ERROR\",\"statusText\":\"Unable to authenticate.\"}}}"
     ]
    }
   ],
   "source": [
    "# Full Loop - Take 5:\n",
    "\n",
    "#author_out_list= list()\n",
    "\n",
    "avail_api_keys_list = [\"784ab6b22d3148f3d3f94a75596d0633\",\"63db00d1e8f7e5a5ef223abad3858dfe\",\"3f453389d0cada327703d787cd41b4ec\",\"e989f6eb6ea2a19b104eed28efe11071\",\"1a3f1a762b1e2abec678b08f4d7a1038\",\n",
    "\"e481b6eef24800668a6ee5ea576c1f97\",\"563df86d8ae1a6e62e0f0e4278a45cb9\",\"92975ea2d964ac570219d520aaad1d41\",\"c8eab163448aa6bd54fa97af700a939b\",\"53acda4267b6a5a9a6a87b8767aa8cc6\",\"9289c787b0d98e1a5a7a7fb58e102e1a\",\"1bf711a2bc396e7e99340bdaf2ba29d0\",\"396d5385a697326c03800cf37ca4f1a2\",\"8a9a5beb728f47b401fd145e1bb035ba\",\"cfbe1762b57a3310906c53bbbb3a68e5\",\n",
    "\"7b6016e18d538a15806f172d0ac7a0cd\",\"5d30dea104b6b7c33f6a120619fdbc6e\",\"e6cc81dc4b558be9892fa4e0715822a1\",\"da2094a93eb167105699cfb6c47466b6\",\"a323957ad88e129d8bae2c7b2fd0e63a\",\"a809d51349b6a614581cf57493dc0c94\",\"f36f0ccc1554186bb009e9ca7b3c14c0\",\"a1d21854963d1cca62742c56b5f7633d\",\"f3bdebaa3f41b7443d8d9d8983c00479\",\"bfaac6eb78a88e97874fa1d0bfd8c63e\",\n",
    "\"546932c3fcd8e21fbc6eab08010b9f44\",\"0599d76680c29c71e028fc9b77b0c063\",\"baaa9e51f8a49461352af25710719157\",\"30195f0b2192052a36bcab9ce3c4064f\",\"b7e95f5ea731eb5c9e84e7a1d499f50e\",\"8707db153e4b9672fa6df25b03a5f747\",\"2dab4694b4347fa574d159bb97484fc4\",\"6af3d2c09eb08ec6e12f0cead9a1f5bb\",\"3872e798bf48fa28af583b9ebef5deb6\",\"1473c31dbcdb425f9cdaf75c673279d3\"]\n",
    "\n",
    "used_api_keys_list = [\"6ae4b5181b374f521e60d2ef4be73ec5\", \"c14e197a4982e7349247b189ff26da45\", \"fbc5e06467522a07f93e247a24d89d3b\"]\n",
    "\n",
    "client = ElsClient(\"3bd33d7e35df95cc6dc576fd67e7356d\")\n",
    "key_count = 3\n",
    "\n",
    "for auth_id in first_author_input_dict_take5:\n",
    "    given_in = first_author_input_dict_take5[auth_id][\"new_given\"]\n",
    "    family_in = first_author_input_dict_take5[auth_id][\"new_family\"]\n",
    "    sa_in = first_author_input_dict_take5[auth_id][\"SA_list\"]\n",
    "\n",
    "    try:\n",
    "        auth_srch = ElsSearch(f'AUTHLAST({family_in}) AND AUTHFIRST({given_in}) AND {sbj_area_query_creator(sa_in)}','author')\n",
    "        auth_srch.execute(client)\n",
    "    except:\n",
    "        if len(avail_api_keys_list) >0:\n",
    "            new_key = avail_api_keys_list.pop(0)            \n",
    "            client = ElsClient(new_key)\n",
    "\n",
    "            key_count += 1\n",
    "            print(f\"Changed API key, now using key number {key_count}: {new_key}\")\n",
    "            used_api_keys_list.append(new_key)\n",
    "\n",
    "            auth_srch = ElsSearch(f'AUTHLAST({family_in}) AND AUTHFIRST({given_in}) AND {sbj_area_query_creator(sa_in)}','author')\n",
    "            auth_srch.execute(client)\n",
    "\n",
    "        else:\n",
    "            print(\"No available API keys to use!\")\n",
    "            break\n",
    "\n",
    "\n",
    "    country_out = list()\n",
    "    given_out = list()\n",
    "    family_out = list()\n",
    "    doc_count_out = list()\n",
    "\n",
    "    for auth in auth_srch.results:\n",
    "        # Country:\n",
    "        try:\n",
    "            country_out.append(auth['affiliation-current']['affiliation-country'])\n",
    "        except:\n",
    "            pass\n",
    "\n",
    "        # Given:\n",
    "        try:\n",
    "            given_out.append(auth['preferred-name']['given-name'])\n",
    "        except:\n",
    "            pass\n",
    "\n",
    "        # Family:\n",
    "        try:\n",
    "            family_out.append(auth['preferred-name']['surname'])\n",
    "        except:\n",
    "            pass\n",
    "\n",
    "        # Doc Count:\n",
    "        try:\n",
    "            doc_count_out.append(auth['document-count'])\n",
    "        except:\n",
    "            pass\n",
    "\n",
    "    \n",
    "    author_out_dict = dict(author_id=auth_id, country=country_out, given=given_out, family=family_out, doc_count=doc_count_out)\n",
    "\n",
    "    author_out_list.append(author_out_dict)\n",
    "\n",
    "\n"
   ]
  },
  {
   "cell_type": "markdown",
   "metadata": {},
   "source": [
    "The internet briefly got disconnected, causing a retry!!! twice!\n",
    "\n",
    "__API keys 3bd33d7e35df95cc6dc576fd67e7356d & 784ab6b22d3148f3d3f94a75596d0633 are not finised!!!__"
   ]
  },
  {
   "cell_type": "code",
   "execution_count": 68,
   "metadata": {},
   "outputs": [
    {
     "data": {
      "text/html": [
       "<div>\n",
       "<style scoped>\n",
       "    .dataframe tbody tr th:only-of-type {\n",
       "        vertical-align: middle;\n",
       "    }\n",
       "\n",
       "    .dataframe tbody tr th {\n",
       "        vertical-align: top;\n",
       "    }\n",
       "\n",
       "    .dataframe thead th {\n",
       "        text-align: right;\n",
       "    }\n",
       "</style>\n",
       "<table border=\"1\" class=\"dataframe\">\n",
       "  <thead>\n",
       "    <tr style=\"text-align: right;\">\n",
       "      <th></th>\n",
       "      <th>author_id</th>\n",
       "      <th>country</th>\n",
       "      <th>given</th>\n",
       "      <th>family</th>\n",
       "      <th>doc_count</th>\n",
       "    </tr>\n",
       "  </thead>\n",
       "  <tbody>\n",
       "    <tr>\n",
       "      <th>0</th>\n",
       "      <td>aut_0</td>\n",
       "      <td>[China, China, China, Hong Kong]</td>\n",
       "      <td>[Jing, Jingheng, Jing, (Luna) Jing]</td>\n",
       "      <td>[Cai, Cai, Cai, Cai]</td>\n",
       "      <td>[23, 22, 1, 1]</td>\n",
       "    </tr>\n",
       "    <tr>\n",
       "      <th>1</th>\n",
       "      <td>aut_1</td>\n",
       "      <td>[United States, United States, United States, ...</td>\n",
       "      <td>[Qing, Qing, (Grace) Qing, Grace Qing]</td>\n",
       "      <td>[Hao, Hao, Hao, Hao]</td>\n",
       "      <td>[86, 11, 2, 1]</td>\n",
       "    </tr>\n",
       "    <tr>\n",
       "      <th>2</th>\n",
       "      <td>aut_2</td>\n",
       "      <td>[China, China, China, China, China, China, Chi...</td>\n",
       "      <td>[Yongquan, Yonghong, Yong, Dayong, Yongwu, Yon...</td>\n",
       "      <td>[Zhou, Zhou, Zhou, Zhou, Zhou, Zhou, Zhou, Zho...</td>\n",
       "      <td>[286, 220, 193, 170, 164, 151, 100, 92, 74, 64...</td>\n",
       "    </tr>\n",
       "    <tr>\n",
       "      <th>3</th>\n",
       "      <td>aut_3</td>\n",
       "      <td>[Italy, Italy, France, Nigeria, Malaysia, Saud...</td>\n",
       "      <td>[Andrea, Alessandro, Ado Adamou Abba, Hafizull...</td>\n",
       "      <td>[Abba, Abbà, Ari, Ahmed, Haruna, Abba, Abba, A...</td>\n",
       "      <td>[75, 65, 44, 19, 17, 15, 8, 3]</td>\n",
       "    </tr>\n",
       "    <tr>\n",
       "      <th>4</th>\n",
       "      <td>aut_4</td>\n",
       "      <td>[Italy]</td>\n",
       "      <td>[Antonella]</td>\n",
       "      <td>[Agodi]</td>\n",
       "      <td>[234]</td>\n",
       "    </tr>\n",
       "    <tr>\n",
       "      <th>...</th>\n",
       "      <td>...</td>\n",
       "      <td>...</td>\n",
       "      <td>...</td>\n",
       "      <td>...</td>\n",
       "      <td>...</td>\n",
       "    </tr>\n",
       "    <tr>\n",
       "      <th>33027</th>\n",
       "      <td>aut_33031</td>\n",
       "      <td>[Netherlands]</td>\n",
       "      <td>[David]</td>\n",
       "      <td>[Fernández-Rivas]</td>\n",
       "      <td>[60]</td>\n",
       "    </tr>\n",
       "    <tr>\n",
       "      <th>33028</th>\n",
       "      <td>aut_33032</td>\n",
       "      <td>[Spain]</td>\n",
       "      <td>[David]</td>\n",
       "      <td>[Fernández-Blanco]</td>\n",
       "      <td>[15]</td>\n",
       "    </tr>\n",
       "    <tr>\n",
       "      <th>33029</th>\n",
       "      <td>aut_33033</td>\n",
       "      <td>[United Kingdom, Portugal, Brazil, Brazil]</td>\n",
       "      <td>[David, David, David Figueiredo, David L.C.]</td>\n",
       "      <td>[Ferreira, Ferreira, Ferreira Filho, Ferreira]</td>\n",
       "      <td>[61, 27, 1, 1]</td>\n",
       "    </tr>\n",
       "    <tr>\n",
       "      <th>33030</th>\n",
       "      <td>aut_33034</td>\n",
       "      <td>[United States]</td>\n",
       "      <td>[David A.]</td>\n",
       "      <td>[Ferrucci]</td>\n",
       "      <td>[19]</td>\n",
       "    </tr>\n",
       "    <tr>\n",
       "      <th>33031</th>\n",
       "      <td>aut_33035</td>\n",
       "      <td>[United Kingdom]</td>\n",
       "      <td>[David]</td>\n",
       "      <td>[Fielding]</td>\n",
       "      <td>[95]</td>\n",
       "    </tr>\n",
       "  </tbody>\n",
       "</table>\n",
       "<p>33032 rows × 5 columns</p>\n",
       "</div>"
      ],
      "text/plain": [
       "       author_id                                            country  \\\n",
       "0          aut_0                   [China, China, China, Hong Kong]   \n",
       "1          aut_1  [United States, United States, United States, ...   \n",
       "2          aut_2  [China, China, China, China, China, China, Chi...   \n",
       "3          aut_3  [Italy, Italy, France, Nigeria, Malaysia, Saud...   \n",
       "4          aut_4                                            [Italy]   \n",
       "...          ...                                                ...   \n",
       "33027  aut_33031                                      [Netherlands]   \n",
       "33028  aut_33032                                            [Spain]   \n",
       "33029  aut_33033         [United Kingdom, Portugal, Brazil, Brazil]   \n",
       "33030  aut_33034                                    [United States]   \n",
       "33031  aut_33035                                   [United Kingdom]   \n",
       "\n",
       "                                                   given  \\\n",
       "0                    [Jing, Jingheng, Jing, (Luna) Jing]   \n",
       "1                 [Qing, Qing, (Grace) Qing, Grace Qing]   \n",
       "2      [Yongquan, Yonghong, Yong, Dayong, Yongwu, Yon...   \n",
       "3      [Andrea, Alessandro, Ado Adamou Abba, Hafizull...   \n",
       "4                                            [Antonella]   \n",
       "...                                                  ...   \n",
       "33027                                            [David]   \n",
       "33028                                            [David]   \n",
       "33029       [David, David, David Figueiredo, David L.C.]   \n",
       "33030                                         [David A.]   \n",
       "33031                                            [David]   \n",
       "\n",
       "                                                  family  \\\n",
       "0                                   [Cai, Cai, Cai, Cai]   \n",
       "1                                   [Hao, Hao, Hao, Hao]   \n",
       "2      [Zhou, Zhou, Zhou, Zhou, Zhou, Zhou, Zhou, Zho...   \n",
       "3      [Abba, Abbà, Ari, Ahmed, Haruna, Abba, Abba, A...   \n",
       "4                                                [Agodi]   \n",
       "...                                                  ...   \n",
       "33027                                  [Fernández-Rivas]   \n",
       "33028                                 [Fernández-Blanco]   \n",
       "33029     [Ferreira, Ferreira, Ferreira Filho, Ferreira]   \n",
       "33030                                         [Ferrucci]   \n",
       "33031                                         [Fielding]   \n",
       "\n",
       "                                               doc_count  \n",
       "0                                         [23, 22, 1, 1]  \n",
       "1                                         [86, 11, 2, 1]  \n",
       "2      [286, 220, 193, 170, 164, 151, 100, 92, 74, 64...  \n",
       "3                         [75, 65, 44, 19, 17, 15, 8, 3]  \n",
       "4                                                  [234]  \n",
       "...                                                  ...  \n",
       "33027                                               [60]  \n",
       "33028                                               [15]  \n",
       "33029                                     [61, 27, 1, 1]  \n",
       "33030                                               [19]  \n",
       "33031                                               [95]  \n",
       "\n",
       "[33032 rows x 5 columns]"
      ]
     },
     "execution_count": 68,
     "metadata": {},
     "output_type": "execute_result"
    }
   ],
   "source": [
    "pd.DataFrame(author_out_list)"
   ]
  },
  {
   "cell_type": "markdown",
   "metadata": {},
   "source": [
    "1a3f1a762b1e2abec678b08f4d7a1038 & e481b6eef24800668a6ee5ea576c1f97 are also most probably not finished!"
   ]
  },
  {
   "cell_type": "code",
   "execution_count": 69,
   "metadata": {},
   "outputs": [],
   "source": [
    "with open(\"author_out_list\",\"wb\") as p:\n",
    "    pickle.dump(author_out_list, p)"
   ]
  },
  {
   "cell_type": "code",
   "execution_count": 70,
   "metadata": {},
   "outputs": [],
   "source": [
    "with open(\"q1_first_author_df\",\"wb\") as p:\n",
    "    pickle.dump(q1_first_author_df, p)"
   ]
  },
  {
   "cell_type": "markdown",
   "metadata": {},
   "source": [
    "#### 5.8 - Take 6:"
   ]
  },
  {
   "cell_type": "code",
   "execution_count": 3,
   "metadata": {},
   "outputs": [],
   "source": [
    "# Restarted the PC, re-loading variables:\n",
    "\n",
    "with open(\"author_out_list\", \"rb\") as fp:\n",
    "    author_out_list = pickle.load(fp)\n",
    "\n",
    "with open(\"q1_first_author_df\", \"rb\") as fp:\n",
    "    q1_first_author_df = pickle.load(fp)\n"
   ]
  },
  {
   "cell_type": "code",
   "execution_count": 10,
   "metadata": {},
   "outputs": [],
   "source": [
    "first_author_input_dict_take6 = q1_first_author_df.drop([\"aut_4915\", \"aut_14163\", \"aut_18315\", \"aut_23897\",\"aut_112348\", \"aut_48200\", \"aut_124149\"])[[\"new_given\",\"new_family\",\"SA_list\"]][33032:].to_dict(\"index\")"
   ]
  },
  {
   "cell_type": "code",
   "execution_count": 13,
   "metadata": {},
   "outputs": [
    {
     "name": "stdout",
     "output_type": "stream",
     "text": [
      "Changed API key, now using key number 4: 784ab6b22d3148f3d3f94a75596d0633\n",
      "Changed API key, now using key number 5: 1a3f1a762b1e2abec678b08f4d7a1038\n",
      "Changed API key, now using key number 6: e481b6eef24800668a6ee5ea576c1f97\n",
      "Changed API key, now using key number 7: 563df86d8ae1a6e62e0f0e4278a45cb9\n",
      "Changed API key, now using key number 8: 92975ea2d964ac570219d520aaad1d41\n",
      "Changed API key, now using key number 9: c8eab163448aa6bd54fa97af700a939b\n",
      "Changed API key, now using key number 10: 53acda4267b6a5a9a6a87b8767aa8cc6\n",
      "Changed API key, now using key number 11: 9289c787b0d98e1a5a7a7fb58e102e1a\n",
      "Changed API key, now using key number 12: 1bf711a2bc396e7e99340bdaf2ba29d0\n",
      "Changed API key, now using key number 13: 396d5385a697326c03800cf37ca4f1a2\n",
      "Changed API key, now using key number 14: 8a9a5beb728f47b401fd145e1bb035ba\n",
      "Changed API key, now using key number 15: cfbe1762b57a3310906c53bbbb3a68e5\n"
     ]
    },
    {
     "ename": "HTTPError",
     "evalue": "HTTP 401 Error from https://api.elsevier.com/content/search/author?query=AUTHLAST%28krummenacher%29+AND+AUTHFIRST%28isabelle%29+AND+SUBJAREA%28HEAL%29\nand using headers {'X-ELS-APIKey': 'cfbe1762b57a3310906c53bbbb3a68e5', 'User-Agent': 'elsapy-v0.5.0', 'Accept': 'application/json'}:\n{\"service-error\":{\"status\":{\"statusCode\":\"AUTHORIZATION_ERROR\",\"statusText\":\"The requestor is not authorized to access the requested view or fields of the resource\"}}}",
     "output_type": "error",
     "traceback": [
      "\u001b[1;31m---------------------------------------------------------------------------\u001b[0m",
      "\u001b[1;31mKeyboardInterrupt\u001b[0m                         Traceback (most recent call last)",
      "\u001b[1;32m<ipython-input-13-b5da78f6ea50>\u001b[0m in \u001b[0;36m<module>\u001b[1;34m\u001b[0m\n\u001b[0;32m     22\u001b[0m         \u001b[0mauth_srch\u001b[0m \u001b[1;33m=\u001b[0m \u001b[0mElsSearch\u001b[0m\u001b[1;33m(\u001b[0m\u001b[1;34mf'AUTHLAST({family_in}) AND AUTHFIRST({given_in}) AND {sbj_area_query_creator(sa_in)}'\u001b[0m\u001b[1;33m,\u001b[0m\u001b[1;34m'author'\u001b[0m\u001b[1;33m)\u001b[0m\u001b[1;33m\u001b[0m\u001b[1;33m\u001b[0m\u001b[0m\n\u001b[1;32m---> 23\u001b[1;33m         \u001b[0mauth_srch\u001b[0m\u001b[1;33m.\u001b[0m\u001b[0mexecute\u001b[0m\u001b[1;33m(\u001b[0m\u001b[0mclient\u001b[0m\u001b[1;33m)\u001b[0m\u001b[1;33m\u001b[0m\u001b[1;33m\u001b[0m\u001b[0m\n\u001b[0m\u001b[0;32m     24\u001b[0m     \u001b[1;32mexcept\u001b[0m\u001b[1;33m:\u001b[0m\u001b[1;33m\u001b[0m\u001b[1;33m\u001b[0m\u001b[0m\n",
      "\u001b[1;32mc:\\Users\\oguzk\\anaconda3\\lib\\site-packages\\elsapy\\elssearch.py\u001b[0m in \u001b[0;36mexecute\u001b[1;34m(self, els_client, get_all)\u001b[0m\n\u001b[0;32m     94\u001b[0m         \u001b[1;31m## TODO: add exception handling\u001b[0m\u001b[1;33m\u001b[0m\u001b[1;33m\u001b[0m\u001b[1;33m\u001b[0m\u001b[0m\n\u001b[1;32m---> 95\u001b[1;33m         \u001b[0mapi_response\u001b[0m \u001b[1;33m=\u001b[0m \u001b[0mels_client\u001b[0m\u001b[1;33m.\u001b[0m\u001b[0mexec_request\u001b[0m\u001b[1;33m(\u001b[0m\u001b[0mself\u001b[0m\u001b[1;33m.\u001b[0m\u001b[0m_uri\u001b[0m\u001b[1;33m)\u001b[0m\u001b[1;33m\u001b[0m\u001b[1;33m\u001b[0m\u001b[0m\n\u001b[0m\u001b[0;32m     96\u001b[0m         \u001b[0mself\u001b[0m\u001b[1;33m.\u001b[0m\u001b[0m_tot_num_res\u001b[0m \u001b[1;33m=\u001b[0m \u001b[0mint\u001b[0m\u001b[1;33m(\u001b[0m\u001b[0mapi_response\u001b[0m\u001b[1;33m[\u001b[0m\u001b[1;34m'search-results'\u001b[0m\u001b[1;33m]\u001b[0m\u001b[1;33m[\u001b[0m\u001b[1;34m'opensearch:totalResults'\u001b[0m\u001b[1;33m]\u001b[0m\u001b[1;33m)\u001b[0m\u001b[1;33m\u001b[0m\u001b[1;33m\u001b[0m\u001b[0m\n",
      "\u001b[1;32mc:\\Users\\oguzk\\anaconda3\\lib\\site-packages\\elsapy\\elsclient.py\u001b[0m in \u001b[0;36mexec_request\u001b[1;34m(self, URL)\u001b[0m\n\u001b[0;32m    109\u001b[0m         \u001b[0mlogger\u001b[0m\u001b[1;33m.\u001b[0m\u001b[0minfo\u001b[0m\u001b[1;33m(\u001b[0m\u001b[1;34m'Sending GET request to '\u001b[0m \u001b[1;33m+\u001b[0m \u001b[0mURL\u001b[0m\u001b[1;33m)\u001b[0m\u001b[1;33m\u001b[0m\u001b[1;33m\u001b[0m\u001b[0m\n\u001b[1;32m--> 110\u001b[1;33m         r = requests.get(\n\u001b[0m\u001b[0;32m    111\u001b[0m             \u001b[0mURL\u001b[0m\u001b[1;33m,\u001b[0m\u001b[1;33m\u001b[0m\u001b[1;33m\u001b[0m\u001b[0m\n",
      "\u001b[1;32mc:\\Users\\oguzk\\anaconda3\\lib\\site-packages\\requests\\api.py\u001b[0m in \u001b[0;36mget\u001b[1;34m(url, params, **kwargs)\u001b[0m\n\u001b[0;32m     75\u001b[0m     \u001b[0mkwargs\u001b[0m\u001b[1;33m.\u001b[0m\u001b[0msetdefault\u001b[0m\u001b[1;33m(\u001b[0m\u001b[1;34m'allow_redirects'\u001b[0m\u001b[1;33m,\u001b[0m \u001b[1;32mTrue\u001b[0m\u001b[1;33m)\u001b[0m\u001b[1;33m\u001b[0m\u001b[1;33m\u001b[0m\u001b[0m\n\u001b[1;32m---> 76\u001b[1;33m     \u001b[1;32mreturn\u001b[0m \u001b[0mrequest\u001b[0m\u001b[1;33m(\u001b[0m\u001b[1;34m'get'\u001b[0m\u001b[1;33m,\u001b[0m \u001b[0murl\u001b[0m\u001b[1;33m,\u001b[0m \u001b[0mparams\u001b[0m\u001b[1;33m=\u001b[0m\u001b[0mparams\u001b[0m\u001b[1;33m,\u001b[0m \u001b[1;33m**\u001b[0m\u001b[0mkwargs\u001b[0m\u001b[1;33m)\u001b[0m\u001b[1;33m\u001b[0m\u001b[1;33m\u001b[0m\u001b[0m\n\u001b[0m\u001b[0;32m     77\u001b[0m \u001b[1;33m\u001b[0m\u001b[0m\n",
      "\u001b[1;32mc:\\Users\\oguzk\\anaconda3\\lib\\site-packages\\requests\\api.py\u001b[0m in \u001b[0;36mrequest\u001b[1;34m(method, url, **kwargs)\u001b[0m\n\u001b[0;32m     60\u001b[0m     \u001b[1;32mwith\u001b[0m \u001b[0msessions\u001b[0m\u001b[1;33m.\u001b[0m\u001b[0mSession\u001b[0m\u001b[1;33m(\u001b[0m\u001b[1;33m)\u001b[0m \u001b[1;32mas\u001b[0m \u001b[0msession\u001b[0m\u001b[1;33m:\u001b[0m\u001b[1;33m\u001b[0m\u001b[1;33m\u001b[0m\u001b[0m\n\u001b[1;32m---> 61\u001b[1;33m         \u001b[1;32mreturn\u001b[0m \u001b[0msession\u001b[0m\u001b[1;33m.\u001b[0m\u001b[0mrequest\u001b[0m\u001b[1;33m(\u001b[0m\u001b[0mmethod\u001b[0m\u001b[1;33m=\u001b[0m\u001b[0mmethod\u001b[0m\u001b[1;33m,\u001b[0m \u001b[0murl\u001b[0m\u001b[1;33m=\u001b[0m\u001b[0murl\u001b[0m\u001b[1;33m,\u001b[0m \u001b[1;33m**\u001b[0m\u001b[0mkwargs\u001b[0m\u001b[1;33m)\u001b[0m\u001b[1;33m\u001b[0m\u001b[1;33m\u001b[0m\u001b[0m\n\u001b[0m\u001b[0;32m     62\u001b[0m \u001b[1;33m\u001b[0m\u001b[0m\n",
      "\u001b[1;32mc:\\Users\\oguzk\\anaconda3\\lib\\site-packages\\requests\\sessions.py\u001b[0m in \u001b[0;36mrequest\u001b[1;34m(self, method, url, params, data, headers, cookies, files, auth, timeout, allow_redirects, proxies, hooks, stream, verify, cert, json)\u001b[0m\n\u001b[0;32m    541\u001b[0m         \u001b[0msend_kwargs\u001b[0m\u001b[1;33m.\u001b[0m\u001b[0mupdate\u001b[0m\u001b[1;33m(\u001b[0m\u001b[0msettings\u001b[0m\u001b[1;33m)\u001b[0m\u001b[1;33m\u001b[0m\u001b[1;33m\u001b[0m\u001b[0m\n\u001b[1;32m--> 542\u001b[1;33m         \u001b[0mresp\u001b[0m \u001b[1;33m=\u001b[0m \u001b[0mself\u001b[0m\u001b[1;33m.\u001b[0m\u001b[0msend\u001b[0m\u001b[1;33m(\u001b[0m\u001b[0mprep\u001b[0m\u001b[1;33m,\u001b[0m \u001b[1;33m**\u001b[0m\u001b[0msend_kwargs\u001b[0m\u001b[1;33m)\u001b[0m\u001b[1;33m\u001b[0m\u001b[1;33m\u001b[0m\u001b[0m\n\u001b[0m\u001b[0;32m    543\u001b[0m \u001b[1;33m\u001b[0m\u001b[0m\n",
      "\u001b[1;32mc:\\Users\\oguzk\\anaconda3\\lib\\site-packages\\requests\\sessions.py\u001b[0m in \u001b[0;36msend\u001b[1;34m(self, request, **kwargs)\u001b[0m\n\u001b[0;32m    654\u001b[0m         \u001b[1;31m# Send the request\u001b[0m\u001b[1;33m\u001b[0m\u001b[1;33m\u001b[0m\u001b[1;33m\u001b[0m\u001b[0m\n\u001b[1;32m--> 655\u001b[1;33m         \u001b[0mr\u001b[0m \u001b[1;33m=\u001b[0m \u001b[0madapter\u001b[0m\u001b[1;33m.\u001b[0m\u001b[0msend\u001b[0m\u001b[1;33m(\u001b[0m\u001b[0mrequest\u001b[0m\u001b[1;33m,\u001b[0m \u001b[1;33m**\u001b[0m\u001b[0mkwargs\u001b[0m\u001b[1;33m)\u001b[0m\u001b[1;33m\u001b[0m\u001b[1;33m\u001b[0m\u001b[0m\n\u001b[0m\u001b[0;32m    656\u001b[0m \u001b[1;33m\u001b[0m\u001b[0m\n",
      "\u001b[1;32mc:\\Users\\oguzk\\anaconda3\\lib\\site-packages\\requests\\adapters.py\u001b[0m in \u001b[0;36msend\u001b[1;34m(self, request, stream, timeout, verify, cert, proxies)\u001b[0m\n\u001b[0;32m    438\u001b[0m             \u001b[1;32mif\u001b[0m \u001b[1;32mnot\u001b[0m \u001b[0mchunked\u001b[0m\u001b[1;33m:\u001b[0m\u001b[1;33m\u001b[0m\u001b[1;33m\u001b[0m\u001b[0m\n\u001b[1;32m--> 439\u001b[1;33m                 resp = conn.urlopen(\n\u001b[0m\u001b[0;32m    440\u001b[0m                     \u001b[0mmethod\u001b[0m\u001b[1;33m=\u001b[0m\u001b[0mrequest\u001b[0m\u001b[1;33m.\u001b[0m\u001b[0mmethod\u001b[0m\u001b[1;33m,\u001b[0m\u001b[1;33m\u001b[0m\u001b[1;33m\u001b[0m\u001b[0m\n",
      "\u001b[1;32mc:\\Users\\oguzk\\anaconda3\\lib\\site-packages\\urllib3\\connectionpool.py\u001b[0m in \u001b[0;36murlopen\u001b[1;34m(self, method, url, body, headers, retries, redirect, assert_same_host, timeout, pool_timeout, release_conn, chunked, body_pos, **response_kw)\u001b[0m\n\u001b[0;32m    698\u001b[0m             \u001b[1;31m# Make the request on the httplib connection object.\u001b[0m\u001b[1;33m\u001b[0m\u001b[1;33m\u001b[0m\u001b[1;33m\u001b[0m\u001b[0m\n\u001b[1;32m--> 699\u001b[1;33m             httplib_response = self._make_request(\n\u001b[0m\u001b[0;32m    700\u001b[0m                 \u001b[0mconn\u001b[0m\u001b[1;33m,\u001b[0m\u001b[1;33m\u001b[0m\u001b[1;33m\u001b[0m\u001b[0m\n",
      "\u001b[1;32mc:\\Users\\oguzk\\anaconda3\\lib\\site-packages\\urllib3\\connectionpool.py\u001b[0m in \u001b[0;36m_make_request\u001b[1;34m(self, conn, method, url, timeout, chunked, **httplib_request_kw)\u001b[0m\n\u001b[0;32m    444\u001b[0m                     \u001b[1;31m# Otherwise it looks like a bug in the code.\u001b[0m\u001b[1;33m\u001b[0m\u001b[1;33m\u001b[0m\u001b[1;33m\u001b[0m\u001b[0m\n\u001b[1;32m--> 445\u001b[1;33m                     \u001b[0msix\u001b[0m\u001b[1;33m.\u001b[0m\u001b[0mraise_from\u001b[0m\u001b[1;33m(\u001b[0m\u001b[0me\u001b[0m\u001b[1;33m,\u001b[0m \u001b[1;32mNone\u001b[0m\u001b[1;33m)\u001b[0m\u001b[1;33m\u001b[0m\u001b[1;33m\u001b[0m\u001b[0m\n\u001b[0m\u001b[0;32m    446\u001b[0m         \u001b[1;32mexcept\u001b[0m \u001b[1;33m(\u001b[0m\u001b[0mSocketTimeout\u001b[0m\u001b[1;33m,\u001b[0m \u001b[0mBaseSSLError\u001b[0m\u001b[1;33m,\u001b[0m \u001b[0mSocketError\u001b[0m\u001b[1;33m)\u001b[0m \u001b[1;32mas\u001b[0m \u001b[0me\u001b[0m\u001b[1;33m:\u001b[0m\u001b[1;33m\u001b[0m\u001b[1;33m\u001b[0m\u001b[0m\n",
      "\u001b[1;32mc:\\Users\\oguzk\\anaconda3\\lib\\site-packages\\urllib3\\packages\\six.py\u001b[0m in \u001b[0;36mraise_from\u001b[1;34m(value, from_value)\u001b[0m\n",
      "\u001b[1;32mc:\\Users\\oguzk\\anaconda3\\lib\\site-packages\\urllib3\\connectionpool.py\u001b[0m in \u001b[0;36m_make_request\u001b[1;34m(self, conn, method, url, timeout, chunked, **httplib_request_kw)\u001b[0m\n\u001b[0;32m    439\u001b[0m                 \u001b[1;32mtry\u001b[0m\u001b[1;33m:\u001b[0m\u001b[1;33m\u001b[0m\u001b[1;33m\u001b[0m\u001b[0m\n\u001b[1;32m--> 440\u001b[1;33m                     \u001b[0mhttplib_response\u001b[0m \u001b[1;33m=\u001b[0m \u001b[0mconn\u001b[0m\u001b[1;33m.\u001b[0m\u001b[0mgetresponse\u001b[0m\u001b[1;33m(\u001b[0m\u001b[1;33m)\u001b[0m\u001b[1;33m\u001b[0m\u001b[1;33m\u001b[0m\u001b[0m\n\u001b[0m\u001b[0;32m    441\u001b[0m                 \u001b[1;32mexcept\u001b[0m \u001b[0mBaseException\u001b[0m \u001b[1;32mas\u001b[0m \u001b[0me\u001b[0m\u001b[1;33m:\u001b[0m\u001b[1;33m\u001b[0m\u001b[1;33m\u001b[0m\u001b[0m\n",
      "\u001b[1;32mc:\\Users\\oguzk\\anaconda3\\lib\\http\\client.py\u001b[0m in \u001b[0;36mgetresponse\u001b[1;34m(self)\u001b[0m\n\u001b[0;32m   1343\u001b[0m             \u001b[1;32mtry\u001b[0m\u001b[1;33m:\u001b[0m\u001b[1;33m\u001b[0m\u001b[1;33m\u001b[0m\u001b[0m\n\u001b[1;32m-> 1344\u001b[1;33m                 \u001b[0mresponse\u001b[0m\u001b[1;33m.\u001b[0m\u001b[0mbegin\u001b[0m\u001b[1;33m(\u001b[0m\u001b[1;33m)\u001b[0m\u001b[1;33m\u001b[0m\u001b[1;33m\u001b[0m\u001b[0m\n\u001b[0m\u001b[0;32m   1345\u001b[0m             \u001b[1;32mexcept\u001b[0m \u001b[0mConnectionError\u001b[0m\u001b[1;33m:\u001b[0m\u001b[1;33m\u001b[0m\u001b[1;33m\u001b[0m\u001b[0m\n",
      "\u001b[1;32mc:\\Users\\oguzk\\anaconda3\\lib\\http\\client.py\u001b[0m in \u001b[0;36mbegin\u001b[1;34m(self)\u001b[0m\n\u001b[0;32m    306\u001b[0m         \u001b[1;32mwhile\u001b[0m \u001b[1;32mTrue\u001b[0m\u001b[1;33m:\u001b[0m\u001b[1;33m\u001b[0m\u001b[1;33m\u001b[0m\u001b[0m\n\u001b[1;32m--> 307\u001b[1;33m             \u001b[0mversion\u001b[0m\u001b[1;33m,\u001b[0m \u001b[0mstatus\u001b[0m\u001b[1;33m,\u001b[0m \u001b[0mreason\u001b[0m \u001b[1;33m=\u001b[0m \u001b[0mself\u001b[0m\u001b[1;33m.\u001b[0m\u001b[0m_read_status\u001b[0m\u001b[1;33m(\u001b[0m\u001b[1;33m)\u001b[0m\u001b[1;33m\u001b[0m\u001b[1;33m\u001b[0m\u001b[0m\n\u001b[0m\u001b[0;32m    308\u001b[0m             \u001b[1;32mif\u001b[0m \u001b[0mstatus\u001b[0m \u001b[1;33m!=\u001b[0m \u001b[0mCONTINUE\u001b[0m\u001b[1;33m:\u001b[0m\u001b[1;33m\u001b[0m\u001b[1;33m\u001b[0m\u001b[0m\n",
      "\u001b[1;32mc:\\Users\\oguzk\\anaconda3\\lib\\http\\client.py\u001b[0m in \u001b[0;36m_read_status\u001b[1;34m(self)\u001b[0m\n\u001b[0;32m    267\u001b[0m     \u001b[1;32mdef\u001b[0m \u001b[0m_read_status\u001b[0m\u001b[1;33m(\u001b[0m\u001b[0mself\u001b[0m\u001b[1;33m)\u001b[0m\u001b[1;33m:\u001b[0m\u001b[1;33m\u001b[0m\u001b[1;33m\u001b[0m\u001b[0m\n\u001b[1;32m--> 268\u001b[1;33m         \u001b[0mline\u001b[0m \u001b[1;33m=\u001b[0m \u001b[0mstr\u001b[0m\u001b[1;33m(\u001b[0m\u001b[0mself\u001b[0m\u001b[1;33m.\u001b[0m\u001b[0mfp\u001b[0m\u001b[1;33m.\u001b[0m\u001b[0mreadline\u001b[0m\u001b[1;33m(\u001b[0m\u001b[0m_MAXLINE\u001b[0m \u001b[1;33m+\u001b[0m \u001b[1;36m1\u001b[0m\u001b[1;33m)\u001b[0m\u001b[1;33m,\u001b[0m \u001b[1;34m\"iso-8859-1\"\u001b[0m\u001b[1;33m)\u001b[0m\u001b[1;33m\u001b[0m\u001b[1;33m\u001b[0m\u001b[0m\n\u001b[0m\u001b[0;32m    269\u001b[0m         \u001b[1;32mif\u001b[0m \u001b[0mlen\u001b[0m\u001b[1;33m(\u001b[0m\u001b[0mline\u001b[0m\u001b[1;33m)\u001b[0m \u001b[1;33m>\u001b[0m \u001b[0m_MAXLINE\u001b[0m\u001b[1;33m:\u001b[0m\u001b[1;33m\u001b[0m\u001b[1;33m\u001b[0m\u001b[0m\n",
      "\u001b[1;32mc:\\Users\\oguzk\\anaconda3\\lib\\socket.py\u001b[0m in \u001b[0;36mreadinto\u001b[1;34m(self, b)\u001b[0m\n\u001b[0;32m    668\u001b[0m             \u001b[1;32mtry\u001b[0m\u001b[1;33m:\u001b[0m\u001b[1;33m\u001b[0m\u001b[1;33m\u001b[0m\u001b[0m\n\u001b[1;32m--> 669\u001b[1;33m                 \u001b[1;32mreturn\u001b[0m \u001b[0mself\u001b[0m\u001b[1;33m.\u001b[0m\u001b[0m_sock\u001b[0m\u001b[1;33m.\u001b[0m\u001b[0mrecv_into\u001b[0m\u001b[1;33m(\u001b[0m\u001b[0mb\u001b[0m\u001b[1;33m)\u001b[0m\u001b[1;33m\u001b[0m\u001b[1;33m\u001b[0m\u001b[0m\n\u001b[0m\u001b[0;32m    670\u001b[0m             \u001b[1;32mexcept\u001b[0m \u001b[0mtimeout\u001b[0m\u001b[1;33m:\u001b[0m\u001b[1;33m\u001b[0m\u001b[1;33m\u001b[0m\u001b[0m\n",
      "\u001b[1;32mc:\\Users\\oguzk\\anaconda3\\lib\\ssl.py\u001b[0m in \u001b[0;36mrecv_into\u001b[1;34m(self, buffer, nbytes, flags)\u001b[0m\n\u001b[0;32m   1240\u001b[0m                   self.__class__)\n\u001b[1;32m-> 1241\u001b[1;33m             \u001b[1;32mreturn\u001b[0m \u001b[0mself\u001b[0m\u001b[1;33m.\u001b[0m\u001b[0mread\u001b[0m\u001b[1;33m(\u001b[0m\u001b[0mnbytes\u001b[0m\u001b[1;33m,\u001b[0m \u001b[0mbuffer\u001b[0m\u001b[1;33m)\u001b[0m\u001b[1;33m\u001b[0m\u001b[1;33m\u001b[0m\u001b[0m\n\u001b[0m\u001b[0;32m   1242\u001b[0m         \u001b[1;32melse\u001b[0m\u001b[1;33m:\u001b[0m\u001b[1;33m\u001b[0m\u001b[1;33m\u001b[0m\u001b[0m\n",
      "\u001b[1;32mc:\\Users\\oguzk\\anaconda3\\lib\\ssl.py\u001b[0m in \u001b[0;36mread\u001b[1;34m(self, len, buffer)\u001b[0m\n\u001b[0;32m   1098\u001b[0m             \u001b[1;32mif\u001b[0m \u001b[0mbuffer\u001b[0m \u001b[1;32mis\u001b[0m \u001b[1;32mnot\u001b[0m \u001b[1;32mNone\u001b[0m\u001b[1;33m:\u001b[0m\u001b[1;33m\u001b[0m\u001b[1;33m\u001b[0m\u001b[0m\n\u001b[1;32m-> 1099\u001b[1;33m                 \u001b[1;32mreturn\u001b[0m \u001b[0mself\u001b[0m\u001b[1;33m.\u001b[0m\u001b[0m_sslobj\u001b[0m\u001b[1;33m.\u001b[0m\u001b[0mread\u001b[0m\u001b[1;33m(\u001b[0m\u001b[0mlen\u001b[0m\u001b[1;33m,\u001b[0m \u001b[0mbuffer\u001b[0m\u001b[1;33m)\u001b[0m\u001b[1;33m\u001b[0m\u001b[1;33m\u001b[0m\u001b[0m\n\u001b[0m\u001b[0;32m   1100\u001b[0m             \u001b[1;32melse\u001b[0m\u001b[1;33m:\u001b[0m\u001b[1;33m\u001b[0m\u001b[1;33m\u001b[0m\u001b[0m\n",
      "\u001b[1;31mKeyboardInterrupt\u001b[0m: ",
      "\nDuring handling of the above exception, another exception occurred:\n",
      "\u001b[1;31mHTTPError\u001b[0m                                 Traceback (most recent call last)",
      "\u001b[1;32m<ipython-input-13-b5da78f6ea50>\u001b[0m in \u001b[0;36m<module>\u001b[1;34m\u001b[0m\n\u001b[0;32m     32\u001b[0m \u001b[1;33m\u001b[0m\u001b[0m\n\u001b[0;32m     33\u001b[0m             \u001b[0mauth_srch\u001b[0m \u001b[1;33m=\u001b[0m \u001b[0mElsSearch\u001b[0m\u001b[1;33m(\u001b[0m\u001b[1;34mf'AUTHLAST({family_in}) AND AUTHFIRST({given_in}) AND {sbj_area_query_creator(sa_in)}'\u001b[0m\u001b[1;33m,\u001b[0m\u001b[1;34m'author'\u001b[0m\u001b[1;33m)\u001b[0m\u001b[1;33m\u001b[0m\u001b[1;33m\u001b[0m\u001b[0m\n\u001b[1;32m---> 34\u001b[1;33m             \u001b[0mauth_srch\u001b[0m\u001b[1;33m.\u001b[0m\u001b[0mexecute\u001b[0m\u001b[1;33m(\u001b[0m\u001b[0mclient\u001b[0m\u001b[1;33m)\u001b[0m\u001b[1;33m\u001b[0m\u001b[1;33m\u001b[0m\u001b[0m\n\u001b[0m\u001b[0;32m     35\u001b[0m \u001b[1;33m\u001b[0m\u001b[0m\n\u001b[0;32m     36\u001b[0m         \u001b[1;32melse\u001b[0m\u001b[1;33m:\u001b[0m\u001b[1;33m\u001b[0m\u001b[1;33m\u001b[0m\u001b[0m\n",
      "\u001b[1;32mc:\\Users\\oguzk\\anaconda3\\lib\\site-packages\\elsapy\\elssearch.py\u001b[0m in \u001b[0;36mexecute\u001b[1;34m(self, els_client, get_all)\u001b[0m\n\u001b[0;32m     93\u001b[0m             all results for the search, up to a maximum of 5,000.\"\"\"\n\u001b[0;32m     94\u001b[0m         \u001b[1;31m## TODO: add exception handling\u001b[0m\u001b[1;33m\u001b[0m\u001b[1;33m\u001b[0m\u001b[1;33m\u001b[0m\u001b[0m\n\u001b[1;32m---> 95\u001b[1;33m         \u001b[0mapi_response\u001b[0m \u001b[1;33m=\u001b[0m \u001b[0mels_client\u001b[0m\u001b[1;33m.\u001b[0m\u001b[0mexec_request\u001b[0m\u001b[1;33m(\u001b[0m\u001b[0mself\u001b[0m\u001b[1;33m.\u001b[0m\u001b[0m_uri\u001b[0m\u001b[1;33m)\u001b[0m\u001b[1;33m\u001b[0m\u001b[1;33m\u001b[0m\u001b[0m\n\u001b[0m\u001b[0;32m     96\u001b[0m         \u001b[0mself\u001b[0m\u001b[1;33m.\u001b[0m\u001b[0m_tot_num_res\u001b[0m \u001b[1;33m=\u001b[0m \u001b[0mint\u001b[0m\u001b[1;33m(\u001b[0m\u001b[0mapi_response\u001b[0m\u001b[1;33m[\u001b[0m\u001b[1;34m'search-results'\u001b[0m\u001b[1;33m]\u001b[0m\u001b[1;33m[\u001b[0m\u001b[1;34m'opensearch:totalResults'\u001b[0m\u001b[1;33m]\u001b[0m\u001b[1;33m)\u001b[0m\u001b[1;33m\u001b[0m\u001b[1;33m\u001b[0m\u001b[0m\n\u001b[0;32m     97\u001b[0m         \u001b[0mself\u001b[0m\u001b[1;33m.\u001b[0m\u001b[0m_results\u001b[0m \u001b[1;33m=\u001b[0m \u001b[0mapi_response\u001b[0m\u001b[1;33m[\u001b[0m\u001b[1;34m'search-results'\u001b[0m\u001b[1;33m]\u001b[0m\u001b[1;33m[\u001b[0m\u001b[1;34m'entry'\u001b[0m\u001b[1;33m]\u001b[0m\u001b[1;33m\u001b[0m\u001b[1;33m\u001b[0m\u001b[0m\n",
      "\u001b[1;32mc:\\Users\\oguzk\\anaconda3\\lib\\site-packages\\elsapy\\elsclient.py\u001b[0m in \u001b[0;36mexec_request\u001b[1;34m(self, URL)\u001b[0m\n\u001b[0;32m    119\u001b[0m         \u001b[1;32melse\u001b[0m\u001b[1;33m:\u001b[0m\u001b[1;33m\u001b[0m\u001b[1;33m\u001b[0m\u001b[0m\n\u001b[0;32m    120\u001b[0m             \u001b[0mself\u001b[0m\u001b[1;33m.\u001b[0m\u001b[0m_status_msg\u001b[0m\u001b[1;33m=\u001b[0m\u001b[1;34m\"HTTP \"\u001b[0m \u001b[1;33m+\u001b[0m \u001b[0mstr\u001b[0m\u001b[1;33m(\u001b[0m\u001b[0mr\u001b[0m\u001b[1;33m.\u001b[0m\u001b[0mstatus_code\u001b[0m\u001b[1;33m)\u001b[0m \u001b[1;33m+\u001b[0m \u001b[1;34m\" Error from \"\u001b[0m \u001b[1;33m+\u001b[0m \u001b[0mURL\u001b[0m \u001b[1;33m+\u001b[0m \u001b[1;34m\" and using headers \"\u001b[0m \u001b[1;33m+\u001b[0m \u001b[0mstr\u001b[0m\u001b[1;33m(\u001b[0m\u001b[0mheaders\u001b[0m\u001b[1;33m)\u001b[0m \u001b[1;33m+\u001b[0m \u001b[1;34m\": \"\u001b[0m \u001b[1;33m+\u001b[0m \u001b[0mr\u001b[0m\u001b[1;33m.\u001b[0m\u001b[0mtext\u001b[0m\u001b[1;33m\u001b[0m\u001b[1;33m\u001b[0m\u001b[0m\n\u001b[1;32m--> 121\u001b[1;33m             \u001b[1;32mraise\u001b[0m \u001b[0mrequests\u001b[0m\u001b[1;33m.\u001b[0m\u001b[0mHTTPError\u001b[0m\u001b[1;33m(\u001b[0m\u001b[1;34m\"HTTP \"\u001b[0m \u001b[1;33m+\u001b[0m \u001b[0mstr\u001b[0m\u001b[1;33m(\u001b[0m\u001b[0mr\u001b[0m\u001b[1;33m.\u001b[0m\u001b[0mstatus_code\u001b[0m\u001b[1;33m)\u001b[0m \u001b[1;33m+\u001b[0m \u001b[1;34m\" Error from \"\u001b[0m \u001b[1;33m+\u001b[0m \u001b[0mURL\u001b[0m \u001b[1;33m+\u001b[0m \u001b[1;34m\"\\nand using headers \"\u001b[0m \u001b[1;33m+\u001b[0m \u001b[0mstr\u001b[0m\u001b[1;33m(\u001b[0m\u001b[0mheaders\u001b[0m\u001b[1;33m)\u001b[0m \u001b[1;33m+\u001b[0m \u001b[1;34m\":\\n\"\u001b[0m \u001b[1;33m+\u001b[0m \u001b[0mr\u001b[0m\u001b[1;33m.\u001b[0m\u001b[0mtext\u001b[0m\u001b[1;33m)\u001b[0m\u001b[1;33m\u001b[0m\u001b[1;33m\u001b[0m\u001b[0m\n\u001b[0m",
      "\u001b[1;31mHTTPError\u001b[0m: HTTP 401 Error from https://api.elsevier.com/content/search/author?query=AUTHLAST%28krummenacher%29+AND+AUTHFIRST%28isabelle%29+AND+SUBJAREA%28HEAL%29\nand using headers {'X-ELS-APIKey': 'cfbe1762b57a3310906c53bbbb3a68e5', 'User-Agent': 'elsapy-v0.5.0', 'Accept': 'application/json'}:\n{\"service-error\":{\"status\":{\"statusCode\":\"AUTHORIZATION_ERROR\",\"statusText\":\"The requestor is not authorized to access the requested view or fields of the resource\"}}}"
     ]
    }
   ],
   "source": [
    "# Full Loop - Take 6:\n",
    "# Fixed API keys lists\n",
    "\n",
    "#author_out_list= list()\n",
    "\n",
    "avail_api_keys_list = [\"784ab6b22d3148f3d3f94a75596d0633\",\"1a3f1a762b1e2abec678b08f4d7a1038\",\n",
    "\"e481b6eef24800668a6ee5ea576c1f97\",\"563df86d8ae1a6e62e0f0e4278a45cb9\",\"92975ea2d964ac570219d520aaad1d41\",\"c8eab163448aa6bd54fa97af700a939b\",\"53acda4267b6a5a9a6a87b8767aa8cc6\",\"9289c787b0d98e1a5a7a7fb58e102e1a\",\"1bf711a2bc396e7e99340bdaf2ba29d0\",\"396d5385a697326c03800cf37ca4f1a2\",\"8a9a5beb728f47b401fd145e1bb035ba\",\"cfbe1762b57a3310906c53bbbb3a68e5\",\n",
    "\"7b6016e18d538a15806f172d0ac7a0cd\",\"5d30dea104b6b7c33f6a120619fdbc6e\",\"e6cc81dc4b558be9892fa4e0715822a1\",\"da2094a93eb167105699cfb6c47466b6\",\"a323957ad88e129d8bae2c7b2fd0e63a\",\"a809d51349b6a614581cf57493dc0c94\",\"f36f0ccc1554186bb009e9ca7b3c14c0\",\"a1d21854963d1cca62742c56b5f7633d\",\"f3bdebaa3f41b7443d8d9d8983c00479\",\"bfaac6eb78a88e97874fa1d0bfd8c63e\",\n",
    "\"546932c3fcd8e21fbc6eab08010b9f44\",\"0599d76680c29c71e028fc9b77b0c063\",\"baaa9e51f8a49461352af25710719157\",\"30195f0b2192052a36bcab9ce3c4064f\",\"b7e95f5ea731eb5c9e84e7a1d499f50e\",\"8707db153e4b9672fa6df25b03a5f747\",\"2dab4694b4347fa574d159bb97484fc4\",\"6af3d2c09eb08ec6e12f0cead9a1f5bb\",\"3872e798bf48fa28af583b9ebef5deb6\",\"1473c31dbcdb425f9cdaf75c673279d3\"]\n",
    "\n",
    "used_api_keys_list = [\"6ae4b5181b374f521e60d2ef4be73ec5\", \"c14e197a4982e7349247b189ff26da45\", \"fbc5e06467522a07f93e247a24d89d3b\", \"63db00d1e8f7e5a5ef223abad3858dfe\",\"3f453389d0cada327703d787cd41b4ec\",\"e989f6eb6ea2a19b104eed28efe11071\"]\n",
    "\n",
    "client = ElsClient(\"3bd33d7e35df95cc6dc576fd67e7356d\")\n",
    "key_count = 3\n",
    "\n",
    "for auth_id in first_author_input_dict_take6:\n",
    "    given_in = first_author_input_dict_take6[auth_id][\"new_given\"]\n",
    "    family_in = first_author_input_dict_take6[auth_id][\"new_family\"]\n",
    "    sa_in = first_author_input_dict_take6[auth_id][\"SA_list\"]\n",
    "\n",
    "    try:\n",
    "        auth_srch = ElsSearch(f'AUTHLAST({family_in}) AND AUTHFIRST({given_in}) AND {sbj_area_query_creator(sa_in)}','author')\n",
    "        auth_srch.execute(client)\n",
    "    except:\n",
    "        if len(avail_api_keys_list) >0:\n",
    "            new_key = avail_api_keys_list.pop(0)            \n",
    "            client = ElsClient(new_key)\n",
    "\n",
    "            key_count += 1\n",
    "            print(f\"Changed API key, now using key number {key_count}: {new_key}\")\n",
    "            used_api_keys_list.append(new_key)\n",
    "\n",
    "            auth_srch = ElsSearch(f'AUTHLAST({family_in}) AND AUTHFIRST({given_in}) AND {sbj_area_query_creator(sa_in)}','author')\n",
    "            auth_srch.execute(client)\n",
    "\n",
    "        else:\n",
    "            print(\"No available API keys to use!\")\n",
    "            break\n",
    "\n",
    "\n",
    "    country_out = list()\n",
    "    given_out = list()\n",
    "    family_out = list()\n",
    "    doc_count_out = list()\n",
    "\n",
    "    for auth in auth_srch.results:\n",
    "        # Country:\n",
    "        try:\n",
    "            country_out.append(auth['affiliation-current']['affiliation-country'])\n",
    "        except:\n",
    "            pass\n",
    "\n",
    "        # Given:\n",
    "        try:\n",
    "            given_out.append(auth['preferred-name']['given-name'])\n",
    "        except:\n",
    "            pass\n",
    "\n",
    "        # Family:\n",
    "        try:\n",
    "            family_out.append(auth['preferred-name']['surname'])\n",
    "        except:\n",
    "            pass\n",
    "\n",
    "        # Doc Count:\n",
    "        try:\n",
    "            doc_count_out.append(auth['document-count'])\n",
    "        except:\n",
    "            pass\n",
    "\n",
    "    \n",
    "    author_out_dict = dict(author_id=auth_id, country=country_out, given=given_out, family=family_out, doc_count=doc_count_out)\n",
    "\n",
    "    author_out_list.append(author_out_dict)\n",
    "\n",
    "\n"
   ]
  },
  {
   "cell_type": "code",
   "execution_count": 14,
   "metadata": {},
   "outputs": [
    {
     "data": {
      "text/html": [
       "<div>\n",
       "<style scoped>\n",
       "    .dataframe tbody tr th:only-of-type {\n",
       "        vertical-align: middle;\n",
       "    }\n",
       "\n",
       "    .dataframe tbody tr th {\n",
       "        vertical-align: top;\n",
       "    }\n",
       "\n",
       "    .dataframe thead th {\n",
       "        text-align: right;\n",
       "    }\n",
       "</style>\n",
       "<table border=\"1\" class=\"dataframe\">\n",
       "  <thead>\n",
       "    <tr style=\"text-align: right;\">\n",
       "      <th></th>\n",
       "      <th>author_id</th>\n",
       "      <th>country</th>\n",
       "      <th>given</th>\n",
       "      <th>family</th>\n",
       "      <th>doc_count</th>\n",
       "    </tr>\n",
       "  </thead>\n",
       "  <tbody>\n",
       "    <tr>\n",
       "      <th>0</th>\n",
       "      <td>aut_0</td>\n",
       "      <td>[China, China, China, Hong Kong]</td>\n",
       "      <td>[Jing, Jingheng, Jing, (Luna) Jing]</td>\n",
       "      <td>[Cai, Cai, Cai, Cai]</td>\n",
       "      <td>[23, 22, 1, 1]</td>\n",
       "    </tr>\n",
       "    <tr>\n",
       "      <th>1</th>\n",
       "      <td>aut_1</td>\n",
       "      <td>[United States, United States, United States, ...</td>\n",
       "      <td>[Qing, Qing, (Grace) Qing, Grace Qing]</td>\n",
       "      <td>[Hao, Hao, Hao, Hao]</td>\n",
       "      <td>[86, 11, 2, 1]</td>\n",
       "    </tr>\n",
       "    <tr>\n",
       "      <th>2</th>\n",
       "      <td>aut_2</td>\n",
       "      <td>[China, China, China, China, China, China, Chi...</td>\n",
       "      <td>[Yongquan, Yonghong, Yong, Dayong, Yongwu, Yon...</td>\n",
       "      <td>[Zhou, Zhou, Zhou, Zhou, Zhou, Zhou, Zhou, Zho...</td>\n",
       "      <td>[286, 220, 193, 170, 164, 151, 100, 92, 74, 64...</td>\n",
       "    </tr>\n",
       "    <tr>\n",
       "      <th>3</th>\n",
       "      <td>aut_3</td>\n",
       "      <td>[Italy, Italy, France, Nigeria, Malaysia, Saud...</td>\n",
       "      <td>[Andrea, Alessandro, Ado Adamou Abba, Hafizull...</td>\n",
       "      <td>[Abba, Abbà, Ari, Ahmed, Haruna, Abba, Abba, A...</td>\n",
       "      <td>[75, 65, 44, 19, 17, 15, 8, 3]</td>\n",
       "    </tr>\n",
       "    <tr>\n",
       "      <th>4</th>\n",
       "      <td>aut_4</td>\n",
       "      <td>[Italy]</td>\n",
       "      <td>[Antonella]</td>\n",
       "      <td>[Agodi]</td>\n",
       "      <td>[234]</td>\n",
       "    </tr>\n",
       "    <tr>\n",
       "      <th>...</th>\n",
       "      <td>...</td>\n",
       "      <td>...</td>\n",
       "      <td>...</td>\n",
       "      <td>...</td>\n",
       "      <td>...</td>\n",
       "    </tr>\n",
       "    <tr>\n",
       "      <th>57075</th>\n",
       "      <td>aut_57080</td>\n",
       "      <td>[France]</td>\n",
       "      <td>[Isabelle]</td>\n",
       "      <td>[Fort]</td>\n",
       "      <td>[14]</td>\n",
       "    </tr>\n",
       "    <tr>\n",
       "      <th>57076</th>\n",
       "      <td>aut_57081</td>\n",
       "      <td>[France]</td>\n",
       "      <td>[Isabelle]</td>\n",
       "      <td>[Gallagher]</td>\n",
       "      <td>[80]</td>\n",
       "    </tr>\n",
       "    <tr>\n",
       "      <th>57077</th>\n",
       "      <td>aut_57082</td>\n",
       "      <td>[Switzerland]</td>\n",
       "      <td>[Isabelle]</td>\n",
       "      <td>[Herter-Aeberli]</td>\n",
       "      <td>[40]</td>\n",
       "    </tr>\n",
       "    <tr>\n",
       "      <th>57078</th>\n",
       "      <td>aut_57083</td>\n",
       "      <td>[France]</td>\n",
       "      <td>[Isabelle]</td>\n",
       "      <td>[Hippolyte]</td>\n",
       "      <td>[12]</td>\n",
       "    </tr>\n",
       "    <tr>\n",
       "      <th>57079</th>\n",
       "      <td>aut_57084</td>\n",
       "      <td>[Canada]</td>\n",
       "      <td>[Isabelle]</td>\n",
       "      <td>[Jean]</td>\n",
       "      <td>[9]</td>\n",
       "    </tr>\n",
       "  </tbody>\n",
       "</table>\n",
       "<p>57080 rows × 5 columns</p>\n",
       "</div>"
      ],
      "text/plain": [
       "       author_id                                            country  \\\n",
       "0          aut_0                   [China, China, China, Hong Kong]   \n",
       "1          aut_1  [United States, United States, United States, ...   \n",
       "2          aut_2  [China, China, China, China, China, China, Chi...   \n",
       "3          aut_3  [Italy, Italy, France, Nigeria, Malaysia, Saud...   \n",
       "4          aut_4                                            [Italy]   \n",
       "...          ...                                                ...   \n",
       "57075  aut_57080                                           [France]   \n",
       "57076  aut_57081                                           [France]   \n",
       "57077  aut_57082                                      [Switzerland]   \n",
       "57078  aut_57083                                           [France]   \n",
       "57079  aut_57084                                           [Canada]   \n",
       "\n",
       "                                                   given  \\\n",
       "0                    [Jing, Jingheng, Jing, (Luna) Jing]   \n",
       "1                 [Qing, Qing, (Grace) Qing, Grace Qing]   \n",
       "2      [Yongquan, Yonghong, Yong, Dayong, Yongwu, Yon...   \n",
       "3      [Andrea, Alessandro, Ado Adamou Abba, Hafizull...   \n",
       "4                                            [Antonella]   \n",
       "...                                                  ...   \n",
       "57075                                         [Isabelle]   \n",
       "57076                                         [Isabelle]   \n",
       "57077                                         [Isabelle]   \n",
       "57078                                         [Isabelle]   \n",
       "57079                                         [Isabelle]   \n",
       "\n",
       "                                                  family  \\\n",
       "0                                   [Cai, Cai, Cai, Cai]   \n",
       "1                                   [Hao, Hao, Hao, Hao]   \n",
       "2      [Zhou, Zhou, Zhou, Zhou, Zhou, Zhou, Zhou, Zho...   \n",
       "3      [Abba, Abbà, Ari, Ahmed, Haruna, Abba, Abba, A...   \n",
       "4                                                [Agodi]   \n",
       "...                                                  ...   \n",
       "57075                                             [Fort]   \n",
       "57076                                        [Gallagher]   \n",
       "57077                                   [Herter-Aeberli]   \n",
       "57078                                        [Hippolyte]   \n",
       "57079                                             [Jean]   \n",
       "\n",
       "                                               doc_count  \n",
       "0                                         [23, 22, 1, 1]  \n",
       "1                                         [86, 11, 2, 1]  \n",
       "2      [286, 220, 193, 170, 164, 151, 100, 92, 74, 64...  \n",
       "3                         [75, 65, 44, 19, 17, 15, 8, 3]  \n",
       "4                                                  [234]  \n",
       "...                                                  ...  \n",
       "57075                                               [14]  \n",
       "57076                                               [80]  \n",
       "57077                                               [40]  \n",
       "57078                                               [12]  \n",
       "57079                                                [9]  \n",
       "\n",
       "[57080 rows x 5 columns]"
      ]
     },
     "execution_count": 14,
     "metadata": {},
     "output_type": "execute_result"
    }
   ],
   "source": [
    "pd.DataFrame(author_out_list)"
   ]
  },
  {
   "cell_type": "code",
   "execution_count": 15,
   "metadata": {},
   "outputs": [],
   "source": [
    "with open(\"author_out_list\",\"wb\") as p:\n",
    "    pickle.dump(author_out_list, p)"
   ]
  },
  {
   "cell_type": "code",
   "execution_count": 17,
   "metadata": {},
   "outputs": [],
   "source": [
    "with open(\"author_out_list_copy\",\"wb\") as p:\n",
    "    pickle.dump(author_out_list, p)"
   ]
  },
  {
   "cell_type": "markdown",
   "metadata": {},
   "source": [
    "e481b6eef24800668a6ee5ea576c1f97 is not finished!\n",
    "\n",
    "Till 53acda4267b6a5a9a6a87b8767aa8cc6 not finished! \n",
    "\n",
    "A lot of internet issues!"
   ]
  },
  {
   "cell_type": "markdown",
   "metadata": {},
   "source": [
    "#### Take 7:"
   ]
  },
  {
   "cell_type": "code",
   "execution_count": 3,
   "metadata": {},
   "outputs": [],
   "source": [
    "# Restarted the PC, re-loading variables:\n",
    "\n",
    "with open(\"author_out_list\", \"rb\") as fp:\n",
    "    author_out_list = pickle.load(fp)\n",
    "\n",
    "with open(\"q1_first_author_df\", \"rb\") as fp:\n",
    "    q1_first_author_df = pickle.load(fp)\n"
   ]
  },
  {
   "cell_type": "code",
   "execution_count": 9,
   "metadata": {},
   "outputs": [],
   "source": [
    "first_author_input_dict_take7 = q1_first_author_df.drop([\"aut_4915\", \"aut_14163\", \"aut_18315\", \"aut_23897\",\"aut_112348\", \"aut_48200\", \"aut_124149\"])[[\"new_given\",\"new_family\",\"SA_list\"]][57085:].to_dict(\"index\")"
   ]
  },
  {
   "cell_type": "code",
   "execution_count": 11,
   "metadata": {},
   "outputs": [
    {
     "name": "stdout",
     "output_type": "stream",
     "text": [
      "Loop save complete!\n",
      "Changed API key, now using key: 563df86d8ae1a6e62e0f0e4278a45cb9\n",
      "Loop save complete!\n",
      "Changed API key, now using key: 92975ea2d964ac570219d520aaad1d41\n",
      "Loop save complete!\n",
      "Changed API key, now using key: c8eab163448aa6bd54fa97af700a939b\n"
     ]
    },
    {
     "ename": "ConnectionError",
     "evalue": "HTTPSConnectionPool(host='api.elsevier.com', port=443): Max retries exceeded with url: /content/search/author?query=AUTHLAST%28bai%29+AND+AUTHFIRST%28jiaru%29+AND+SUBJAREA%28DECI%29+AND+SUBJAREA%28BUSI%29 (Caused by NewConnectionError('<urllib3.connection.HTTPSConnection object at 0x000001A928B3C550>: Failed to establish a new connection: [WinError 10060] A connection attempt failed because the connected party did not properly respond after a period of time, or established connection failed because connected host has failed to respond'))",
     "output_type": "error",
     "traceback": [
      "\u001b[1;31m---------------------------------------------------------------------------\u001b[0m",
      "\u001b[1;31mTimeoutError\u001b[0m                              Traceback (most recent call last)",
      "\u001b[1;32mc:\\Users\\oguzk\\anaconda3\\lib\\site-packages\\urllib3\\connectionpool.py\u001b[0m in \u001b[0;36murlopen\u001b[1;34m(self, method, url, body, headers, retries, redirect, assert_same_host, timeout, pool_timeout, release_conn, chunked, body_pos, **response_kw)\u001b[0m\n\u001b[0;32m    698\u001b[0m             \u001b[1;31m# Make the request on the httplib connection object.\u001b[0m\u001b[1;33m\u001b[0m\u001b[1;33m\u001b[0m\u001b[1;33m\u001b[0m\u001b[0m\n\u001b[1;32m--> 699\u001b[1;33m             httplib_response = self._make_request(\n\u001b[0m\u001b[0;32m    700\u001b[0m                 \u001b[0mconn\u001b[0m\u001b[1;33m,\u001b[0m\u001b[1;33m\u001b[0m\u001b[1;33m\u001b[0m\u001b[0m\n",
      "\u001b[1;32mc:\\Users\\oguzk\\anaconda3\\lib\\site-packages\\urllib3\\connectionpool.py\u001b[0m in \u001b[0;36m_make_request\u001b[1;34m(self, conn, method, url, timeout, chunked, **httplib_request_kw)\u001b[0m\n\u001b[0;32m    381\u001b[0m         \u001b[1;32mtry\u001b[0m\u001b[1;33m:\u001b[0m\u001b[1;33m\u001b[0m\u001b[1;33m\u001b[0m\u001b[0m\n\u001b[1;32m--> 382\u001b[1;33m             \u001b[0mself\u001b[0m\u001b[1;33m.\u001b[0m\u001b[0m_validate_conn\u001b[0m\u001b[1;33m(\u001b[0m\u001b[0mconn\u001b[0m\u001b[1;33m)\u001b[0m\u001b[1;33m\u001b[0m\u001b[1;33m\u001b[0m\u001b[0m\n\u001b[0m\u001b[0;32m    383\u001b[0m         \u001b[1;32mexcept\u001b[0m \u001b[1;33m(\u001b[0m\u001b[0mSocketTimeout\u001b[0m\u001b[1;33m,\u001b[0m \u001b[0mBaseSSLError\u001b[0m\u001b[1;33m)\u001b[0m \u001b[1;32mas\u001b[0m \u001b[0me\u001b[0m\u001b[1;33m:\u001b[0m\u001b[1;33m\u001b[0m\u001b[1;33m\u001b[0m\u001b[0m\n",
      "\u001b[1;32mc:\\Users\\oguzk\\anaconda3\\lib\\site-packages\\urllib3\\connectionpool.py\u001b[0m in \u001b[0;36m_validate_conn\u001b[1;34m(self, conn)\u001b[0m\n\u001b[0;32m   1009\u001b[0m         \u001b[1;32mif\u001b[0m \u001b[1;32mnot\u001b[0m \u001b[0mgetattr\u001b[0m\u001b[1;33m(\u001b[0m\u001b[0mconn\u001b[0m\u001b[1;33m,\u001b[0m \u001b[1;34m\"sock\"\u001b[0m\u001b[1;33m,\u001b[0m \u001b[1;32mNone\u001b[0m\u001b[1;33m)\u001b[0m\u001b[1;33m:\u001b[0m  \u001b[1;31m# AppEngine might not have  `.sock`\u001b[0m\u001b[1;33m\u001b[0m\u001b[1;33m\u001b[0m\u001b[0m\n\u001b[1;32m-> 1010\u001b[1;33m             \u001b[0mconn\u001b[0m\u001b[1;33m.\u001b[0m\u001b[0mconnect\u001b[0m\u001b[1;33m(\u001b[0m\u001b[1;33m)\u001b[0m\u001b[1;33m\u001b[0m\u001b[1;33m\u001b[0m\u001b[0m\n\u001b[0m\u001b[0;32m   1011\u001b[0m \u001b[1;33m\u001b[0m\u001b[0m\n",
      "\u001b[1;32mc:\\Users\\oguzk\\anaconda3\\lib\\site-packages\\urllib3\\connection.py\u001b[0m in \u001b[0;36mconnect\u001b[1;34m(self)\u001b[0m\n\u001b[0;32m    410\u001b[0m \u001b[1;33m\u001b[0m\u001b[0m\n\u001b[1;32m--> 411\u001b[1;33m         self.sock = ssl_wrap_socket(\n\u001b[0m\u001b[0;32m    412\u001b[0m             \u001b[0msock\u001b[0m\u001b[1;33m=\u001b[0m\u001b[0mconn\u001b[0m\u001b[1;33m,\u001b[0m\u001b[1;33m\u001b[0m\u001b[1;33m\u001b[0m\u001b[0m\n",
      "\u001b[1;32mc:\\Users\\oguzk\\anaconda3\\lib\\site-packages\\urllib3\\util\\ssl_.py\u001b[0m in \u001b[0;36mssl_wrap_socket\u001b[1;34m(sock, keyfile, certfile, cert_reqs, ca_certs, server_hostname, ssl_version, ciphers, ssl_context, ca_cert_dir, key_password, ca_cert_data, tls_in_tls)\u001b[0m\n\u001b[0;32m    427\u001b[0m     \u001b[1;32mif\u001b[0m \u001b[0msend_sni\u001b[0m\u001b[1;33m:\u001b[0m\u001b[1;33m\u001b[0m\u001b[1;33m\u001b[0m\u001b[0m\n\u001b[1;32m--> 428\u001b[1;33m         ssl_sock = _ssl_wrap_socket_impl(\n\u001b[0m\u001b[0;32m    429\u001b[0m             \u001b[0msock\u001b[0m\u001b[1;33m,\u001b[0m \u001b[0mcontext\u001b[0m\u001b[1;33m,\u001b[0m \u001b[0mtls_in_tls\u001b[0m\u001b[1;33m,\u001b[0m \u001b[0mserver_hostname\u001b[0m\u001b[1;33m=\u001b[0m\u001b[0mserver_hostname\u001b[0m\u001b[1;33m\u001b[0m\u001b[1;33m\u001b[0m\u001b[0m\n",
      "\u001b[1;32mc:\\Users\\oguzk\\anaconda3\\lib\\site-packages\\urllib3\\util\\ssl_.py\u001b[0m in \u001b[0;36m_ssl_wrap_socket_impl\u001b[1;34m(sock, ssl_context, tls_in_tls, server_hostname)\u001b[0m\n\u001b[0;32m    471\u001b[0m     \u001b[1;32mif\u001b[0m \u001b[0mserver_hostname\u001b[0m\u001b[1;33m:\u001b[0m\u001b[1;33m\u001b[0m\u001b[1;33m\u001b[0m\u001b[0m\n\u001b[1;32m--> 472\u001b[1;33m         \u001b[1;32mreturn\u001b[0m \u001b[0mssl_context\u001b[0m\u001b[1;33m.\u001b[0m\u001b[0mwrap_socket\u001b[0m\u001b[1;33m(\u001b[0m\u001b[0msock\u001b[0m\u001b[1;33m,\u001b[0m \u001b[0mserver_hostname\u001b[0m\u001b[1;33m=\u001b[0m\u001b[0mserver_hostname\u001b[0m\u001b[1;33m)\u001b[0m\u001b[1;33m\u001b[0m\u001b[1;33m\u001b[0m\u001b[0m\n\u001b[0m\u001b[0;32m    473\u001b[0m     \u001b[1;32melse\u001b[0m\u001b[1;33m:\u001b[0m\u001b[1;33m\u001b[0m\u001b[1;33m\u001b[0m\u001b[0m\n",
      "\u001b[1;32mc:\\Users\\oguzk\\anaconda3\\lib\\ssl.py\u001b[0m in \u001b[0;36mwrap_socket\u001b[1;34m(self, sock, server_side, do_handshake_on_connect, suppress_ragged_eofs, server_hostname, session)\u001b[0m\n\u001b[0;32m    499\u001b[0m         \u001b[1;31m# ctx._wrap_socket()\u001b[0m\u001b[1;33m\u001b[0m\u001b[1;33m\u001b[0m\u001b[1;33m\u001b[0m\u001b[0m\n\u001b[1;32m--> 500\u001b[1;33m         return self.sslsocket_class._create(\n\u001b[0m\u001b[0;32m    501\u001b[0m             \u001b[0msock\u001b[0m\u001b[1;33m=\u001b[0m\u001b[0msock\u001b[0m\u001b[1;33m,\u001b[0m\u001b[1;33m\u001b[0m\u001b[1;33m\u001b[0m\u001b[0m\n",
      "\u001b[1;32mc:\\Users\\oguzk\\anaconda3\\lib\\ssl.py\u001b[0m in \u001b[0;36m_create\u001b[1;34m(cls, sock, server_side, do_handshake_on_connect, suppress_ragged_eofs, server_hostname, context, session)\u001b[0m\n\u001b[0;32m   1039\u001b[0m                         \u001b[1;32mraise\u001b[0m \u001b[0mValueError\u001b[0m\u001b[1;33m(\u001b[0m\u001b[1;34m\"do_handshake_on_connect should not be specified for non-blocking sockets\"\u001b[0m\u001b[1;33m)\u001b[0m\u001b[1;33m\u001b[0m\u001b[1;33m\u001b[0m\u001b[0m\n\u001b[1;32m-> 1040\u001b[1;33m                     \u001b[0mself\u001b[0m\u001b[1;33m.\u001b[0m\u001b[0mdo_handshake\u001b[0m\u001b[1;33m(\u001b[0m\u001b[1;33m)\u001b[0m\u001b[1;33m\u001b[0m\u001b[1;33m\u001b[0m\u001b[0m\n\u001b[0m\u001b[0;32m   1041\u001b[0m             \u001b[1;32mexcept\u001b[0m \u001b[1;33m(\u001b[0m\u001b[0mOSError\u001b[0m\u001b[1;33m,\u001b[0m \u001b[0mValueError\u001b[0m\u001b[1;33m)\u001b[0m\u001b[1;33m:\u001b[0m\u001b[1;33m\u001b[0m\u001b[1;33m\u001b[0m\u001b[0m\n",
      "\u001b[1;32mc:\\Users\\oguzk\\anaconda3\\lib\\ssl.py\u001b[0m in \u001b[0;36mdo_handshake\u001b[1;34m(self, block)\u001b[0m\n\u001b[0;32m   1308\u001b[0m                 \u001b[0mself\u001b[0m\u001b[1;33m.\u001b[0m\u001b[0msettimeout\u001b[0m\u001b[1;33m(\u001b[0m\u001b[1;32mNone\u001b[0m\u001b[1;33m)\u001b[0m\u001b[1;33m\u001b[0m\u001b[1;33m\u001b[0m\u001b[0m\n\u001b[1;32m-> 1309\u001b[1;33m             \u001b[0mself\u001b[0m\u001b[1;33m.\u001b[0m\u001b[0m_sslobj\u001b[0m\u001b[1;33m.\u001b[0m\u001b[0mdo_handshake\u001b[0m\u001b[1;33m(\u001b[0m\u001b[1;33m)\u001b[0m\u001b[1;33m\u001b[0m\u001b[1;33m\u001b[0m\u001b[0m\n\u001b[0m\u001b[0;32m   1310\u001b[0m         \u001b[1;32mfinally\u001b[0m\u001b[1;33m:\u001b[0m\u001b[1;33m\u001b[0m\u001b[1;33m\u001b[0m\u001b[0m\n",
      "\u001b[1;31mTimeoutError\u001b[0m: [WinError 10060] A connection attempt failed because the connected party did not properly respond after a period of time, or established connection failed because connected host has failed to respond",
      "\nDuring handling of the above exception, another exception occurred:\n",
      "\u001b[1;31mProtocolError\u001b[0m                             Traceback (most recent call last)",
      "\u001b[1;32mc:\\Users\\oguzk\\anaconda3\\lib\\site-packages\\requests\\adapters.py\u001b[0m in \u001b[0;36msend\u001b[1;34m(self, request, stream, timeout, verify, cert, proxies)\u001b[0m\n\u001b[0;32m    438\u001b[0m             \u001b[1;32mif\u001b[0m \u001b[1;32mnot\u001b[0m \u001b[0mchunked\u001b[0m\u001b[1;33m:\u001b[0m\u001b[1;33m\u001b[0m\u001b[1;33m\u001b[0m\u001b[0m\n\u001b[1;32m--> 439\u001b[1;33m                 resp = conn.urlopen(\n\u001b[0m\u001b[0;32m    440\u001b[0m                     \u001b[0mmethod\u001b[0m\u001b[1;33m=\u001b[0m\u001b[0mrequest\u001b[0m\u001b[1;33m.\u001b[0m\u001b[0mmethod\u001b[0m\u001b[1;33m,\u001b[0m\u001b[1;33m\u001b[0m\u001b[1;33m\u001b[0m\u001b[0m\n",
      "\u001b[1;32mc:\\Users\\oguzk\\anaconda3\\lib\\site-packages\\urllib3\\connectionpool.py\u001b[0m in \u001b[0;36murlopen\u001b[1;34m(self, method, url, body, headers, retries, redirect, assert_same_host, timeout, pool_timeout, release_conn, chunked, body_pos, **response_kw)\u001b[0m\n\u001b[0;32m    754\u001b[0m \u001b[1;33m\u001b[0m\u001b[0m\n\u001b[1;32m--> 755\u001b[1;33m             retries = retries.increment(\n\u001b[0m\u001b[0;32m    756\u001b[0m                 \u001b[0mmethod\u001b[0m\u001b[1;33m,\u001b[0m \u001b[0murl\u001b[0m\u001b[1;33m,\u001b[0m \u001b[0merror\u001b[0m\u001b[1;33m=\u001b[0m\u001b[0me\u001b[0m\u001b[1;33m,\u001b[0m \u001b[0m_pool\u001b[0m\u001b[1;33m=\u001b[0m\u001b[0mself\u001b[0m\u001b[1;33m,\u001b[0m \u001b[0m_stacktrace\u001b[0m\u001b[1;33m=\u001b[0m\u001b[0msys\u001b[0m\u001b[1;33m.\u001b[0m\u001b[0mexc_info\u001b[0m\u001b[1;33m(\u001b[0m\u001b[1;33m)\u001b[0m\u001b[1;33m[\u001b[0m\u001b[1;36m2\u001b[0m\u001b[1;33m]\u001b[0m\u001b[1;33m\u001b[0m\u001b[1;33m\u001b[0m\u001b[0m\n",
      "\u001b[1;32mc:\\Users\\oguzk\\anaconda3\\lib\\site-packages\\urllib3\\util\\retry.py\u001b[0m in \u001b[0;36mincrement\u001b[1;34m(self, method, url, response, error, _pool, _stacktrace)\u001b[0m\n\u001b[0;32m    531\u001b[0m             \u001b[1;32mif\u001b[0m \u001b[0mread\u001b[0m \u001b[1;32mis\u001b[0m \u001b[1;32mFalse\u001b[0m \u001b[1;32mor\u001b[0m \u001b[1;32mnot\u001b[0m \u001b[0mself\u001b[0m\u001b[1;33m.\u001b[0m\u001b[0m_is_method_retryable\u001b[0m\u001b[1;33m(\u001b[0m\u001b[0mmethod\u001b[0m\u001b[1;33m)\u001b[0m\u001b[1;33m:\u001b[0m\u001b[1;33m\u001b[0m\u001b[1;33m\u001b[0m\u001b[0m\n\u001b[1;32m--> 532\u001b[1;33m                 \u001b[1;32mraise\u001b[0m \u001b[0msix\u001b[0m\u001b[1;33m.\u001b[0m\u001b[0mreraise\u001b[0m\u001b[1;33m(\u001b[0m\u001b[0mtype\u001b[0m\u001b[1;33m(\u001b[0m\u001b[0merror\u001b[0m\u001b[1;33m)\u001b[0m\u001b[1;33m,\u001b[0m \u001b[0merror\u001b[0m\u001b[1;33m,\u001b[0m \u001b[0m_stacktrace\u001b[0m\u001b[1;33m)\u001b[0m\u001b[1;33m\u001b[0m\u001b[1;33m\u001b[0m\u001b[0m\n\u001b[0m\u001b[0;32m    533\u001b[0m             \u001b[1;32melif\u001b[0m \u001b[0mread\u001b[0m \u001b[1;32mis\u001b[0m \u001b[1;32mnot\u001b[0m \u001b[1;32mNone\u001b[0m\u001b[1;33m:\u001b[0m\u001b[1;33m\u001b[0m\u001b[1;33m\u001b[0m\u001b[0m\n",
      "\u001b[1;32mc:\\Users\\oguzk\\anaconda3\\lib\\site-packages\\urllib3\\packages\\six.py\u001b[0m in \u001b[0;36mreraise\u001b[1;34m(tp, value, tb)\u001b[0m\n\u001b[0;32m    733\u001b[0m             \u001b[1;32mif\u001b[0m \u001b[0mvalue\u001b[0m\u001b[1;33m.\u001b[0m\u001b[0m__traceback__\u001b[0m \u001b[1;32mis\u001b[0m \u001b[1;32mnot\u001b[0m \u001b[0mtb\u001b[0m\u001b[1;33m:\u001b[0m\u001b[1;33m\u001b[0m\u001b[1;33m\u001b[0m\u001b[0m\n\u001b[1;32m--> 734\u001b[1;33m                 \u001b[1;32mraise\u001b[0m \u001b[0mvalue\u001b[0m\u001b[1;33m.\u001b[0m\u001b[0mwith_traceback\u001b[0m\u001b[1;33m(\u001b[0m\u001b[0mtb\u001b[0m\u001b[1;33m)\u001b[0m\u001b[1;33m\u001b[0m\u001b[1;33m\u001b[0m\u001b[0m\n\u001b[0m\u001b[0;32m    735\u001b[0m             \u001b[1;32mraise\u001b[0m \u001b[0mvalue\u001b[0m\u001b[1;33m\u001b[0m\u001b[1;33m\u001b[0m\u001b[0m\n",
      "\u001b[1;32mc:\\Users\\oguzk\\anaconda3\\lib\\site-packages\\urllib3\\connectionpool.py\u001b[0m in \u001b[0;36murlopen\u001b[1;34m(self, method, url, body, headers, retries, redirect, assert_same_host, timeout, pool_timeout, release_conn, chunked, body_pos, **response_kw)\u001b[0m\n\u001b[0;32m    698\u001b[0m             \u001b[1;31m# Make the request on the httplib connection object.\u001b[0m\u001b[1;33m\u001b[0m\u001b[1;33m\u001b[0m\u001b[1;33m\u001b[0m\u001b[0m\n\u001b[1;32m--> 699\u001b[1;33m             httplib_response = self._make_request(\n\u001b[0m\u001b[0;32m    700\u001b[0m                 \u001b[0mconn\u001b[0m\u001b[1;33m,\u001b[0m\u001b[1;33m\u001b[0m\u001b[1;33m\u001b[0m\u001b[0m\n",
      "\u001b[1;32mc:\\Users\\oguzk\\anaconda3\\lib\\site-packages\\urllib3\\connectionpool.py\u001b[0m in \u001b[0;36m_make_request\u001b[1;34m(self, conn, method, url, timeout, chunked, **httplib_request_kw)\u001b[0m\n\u001b[0;32m    381\u001b[0m         \u001b[1;32mtry\u001b[0m\u001b[1;33m:\u001b[0m\u001b[1;33m\u001b[0m\u001b[1;33m\u001b[0m\u001b[0m\n\u001b[1;32m--> 382\u001b[1;33m             \u001b[0mself\u001b[0m\u001b[1;33m.\u001b[0m\u001b[0m_validate_conn\u001b[0m\u001b[1;33m(\u001b[0m\u001b[0mconn\u001b[0m\u001b[1;33m)\u001b[0m\u001b[1;33m\u001b[0m\u001b[1;33m\u001b[0m\u001b[0m\n\u001b[0m\u001b[0;32m    383\u001b[0m         \u001b[1;32mexcept\u001b[0m \u001b[1;33m(\u001b[0m\u001b[0mSocketTimeout\u001b[0m\u001b[1;33m,\u001b[0m \u001b[0mBaseSSLError\u001b[0m\u001b[1;33m)\u001b[0m \u001b[1;32mas\u001b[0m \u001b[0me\u001b[0m\u001b[1;33m:\u001b[0m\u001b[1;33m\u001b[0m\u001b[1;33m\u001b[0m\u001b[0m\n",
      "\u001b[1;32mc:\\Users\\oguzk\\anaconda3\\lib\\site-packages\\urllib3\\connectionpool.py\u001b[0m in \u001b[0;36m_validate_conn\u001b[1;34m(self, conn)\u001b[0m\n\u001b[0;32m   1009\u001b[0m         \u001b[1;32mif\u001b[0m \u001b[1;32mnot\u001b[0m \u001b[0mgetattr\u001b[0m\u001b[1;33m(\u001b[0m\u001b[0mconn\u001b[0m\u001b[1;33m,\u001b[0m \u001b[1;34m\"sock\"\u001b[0m\u001b[1;33m,\u001b[0m \u001b[1;32mNone\u001b[0m\u001b[1;33m)\u001b[0m\u001b[1;33m:\u001b[0m  \u001b[1;31m# AppEngine might not have  `.sock`\u001b[0m\u001b[1;33m\u001b[0m\u001b[1;33m\u001b[0m\u001b[0m\n\u001b[1;32m-> 1010\u001b[1;33m             \u001b[0mconn\u001b[0m\u001b[1;33m.\u001b[0m\u001b[0mconnect\u001b[0m\u001b[1;33m(\u001b[0m\u001b[1;33m)\u001b[0m\u001b[1;33m\u001b[0m\u001b[1;33m\u001b[0m\u001b[0m\n\u001b[0m\u001b[0;32m   1011\u001b[0m \u001b[1;33m\u001b[0m\u001b[0m\n",
      "\u001b[1;32mc:\\Users\\oguzk\\anaconda3\\lib\\site-packages\\urllib3\\connection.py\u001b[0m in \u001b[0;36mconnect\u001b[1;34m(self)\u001b[0m\n\u001b[0;32m    410\u001b[0m \u001b[1;33m\u001b[0m\u001b[0m\n\u001b[1;32m--> 411\u001b[1;33m         self.sock = ssl_wrap_socket(\n\u001b[0m\u001b[0;32m    412\u001b[0m             \u001b[0msock\u001b[0m\u001b[1;33m=\u001b[0m\u001b[0mconn\u001b[0m\u001b[1;33m,\u001b[0m\u001b[1;33m\u001b[0m\u001b[1;33m\u001b[0m\u001b[0m\n",
      "\u001b[1;32mc:\\Users\\oguzk\\anaconda3\\lib\\site-packages\\urllib3\\util\\ssl_.py\u001b[0m in \u001b[0;36mssl_wrap_socket\u001b[1;34m(sock, keyfile, certfile, cert_reqs, ca_certs, server_hostname, ssl_version, ciphers, ssl_context, ca_cert_dir, key_password, ca_cert_data, tls_in_tls)\u001b[0m\n\u001b[0;32m    427\u001b[0m     \u001b[1;32mif\u001b[0m \u001b[0msend_sni\u001b[0m\u001b[1;33m:\u001b[0m\u001b[1;33m\u001b[0m\u001b[1;33m\u001b[0m\u001b[0m\n\u001b[1;32m--> 428\u001b[1;33m         ssl_sock = _ssl_wrap_socket_impl(\n\u001b[0m\u001b[0;32m    429\u001b[0m             \u001b[0msock\u001b[0m\u001b[1;33m,\u001b[0m \u001b[0mcontext\u001b[0m\u001b[1;33m,\u001b[0m \u001b[0mtls_in_tls\u001b[0m\u001b[1;33m,\u001b[0m \u001b[0mserver_hostname\u001b[0m\u001b[1;33m=\u001b[0m\u001b[0mserver_hostname\u001b[0m\u001b[1;33m\u001b[0m\u001b[1;33m\u001b[0m\u001b[0m\n",
      "\u001b[1;32mc:\\Users\\oguzk\\anaconda3\\lib\\site-packages\\urllib3\\util\\ssl_.py\u001b[0m in \u001b[0;36m_ssl_wrap_socket_impl\u001b[1;34m(sock, ssl_context, tls_in_tls, server_hostname)\u001b[0m\n\u001b[0;32m    471\u001b[0m     \u001b[1;32mif\u001b[0m \u001b[0mserver_hostname\u001b[0m\u001b[1;33m:\u001b[0m\u001b[1;33m\u001b[0m\u001b[1;33m\u001b[0m\u001b[0m\n\u001b[1;32m--> 472\u001b[1;33m         \u001b[1;32mreturn\u001b[0m \u001b[0mssl_context\u001b[0m\u001b[1;33m.\u001b[0m\u001b[0mwrap_socket\u001b[0m\u001b[1;33m(\u001b[0m\u001b[0msock\u001b[0m\u001b[1;33m,\u001b[0m \u001b[0mserver_hostname\u001b[0m\u001b[1;33m=\u001b[0m\u001b[0mserver_hostname\u001b[0m\u001b[1;33m)\u001b[0m\u001b[1;33m\u001b[0m\u001b[1;33m\u001b[0m\u001b[0m\n\u001b[0m\u001b[0;32m    473\u001b[0m     \u001b[1;32melse\u001b[0m\u001b[1;33m:\u001b[0m\u001b[1;33m\u001b[0m\u001b[1;33m\u001b[0m\u001b[0m\n",
      "\u001b[1;32mc:\\Users\\oguzk\\anaconda3\\lib\\ssl.py\u001b[0m in \u001b[0;36mwrap_socket\u001b[1;34m(self, sock, server_side, do_handshake_on_connect, suppress_ragged_eofs, server_hostname, session)\u001b[0m\n\u001b[0;32m    499\u001b[0m         \u001b[1;31m# ctx._wrap_socket()\u001b[0m\u001b[1;33m\u001b[0m\u001b[1;33m\u001b[0m\u001b[1;33m\u001b[0m\u001b[0m\n\u001b[1;32m--> 500\u001b[1;33m         return self.sslsocket_class._create(\n\u001b[0m\u001b[0;32m    501\u001b[0m             \u001b[0msock\u001b[0m\u001b[1;33m=\u001b[0m\u001b[0msock\u001b[0m\u001b[1;33m,\u001b[0m\u001b[1;33m\u001b[0m\u001b[1;33m\u001b[0m\u001b[0m\n",
      "\u001b[1;32mc:\\Users\\oguzk\\anaconda3\\lib\\ssl.py\u001b[0m in \u001b[0;36m_create\u001b[1;34m(cls, sock, server_side, do_handshake_on_connect, suppress_ragged_eofs, server_hostname, context, session)\u001b[0m\n\u001b[0;32m   1039\u001b[0m                         \u001b[1;32mraise\u001b[0m \u001b[0mValueError\u001b[0m\u001b[1;33m(\u001b[0m\u001b[1;34m\"do_handshake_on_connect should not be specified for non-blocking sockets\"\u001b[0m\u001b[1;33m)\u001b[0m\u001b[1;33m\u001b[0m\u001b[1;33m\u001b[0m\u001b[0m\n\u001b[1;32m-> 1040\u001b[1;33m                     \u001b[0mself\u001b[0m\u001b[1;33m.\u001b[0m\u001b[0mdo_handshake\u001b[0m\u001b[1;33m(\u001b[0m\u001b[1;33m)\u001b[0m\u001b[1;33m\u001b[0m\u001b[1;33m\u001b[0m\u001b[0m\n\u001b[0m\u001b[0;32m   1041\u001b[0m             \u001b[1;32mexcept\u001b[0m \u001b[1;33m(\u001b[0m\u001b[0mOSError\u001b[0m\u001b[1;33m,\u001b[0m \u001b[0mValueError\u001b[0m\u001b[1;33m)\u001b[0m\u001b[1;33m:\u001b[0m\u001b[1;33m\u001b[0m\u001b[1;33m\u001b[0m\u001b[0m\n",
      "\u001b[1;32mc:\\Users\\oguzk\\anaconda3\\lib\\ssl.py\u001b[0m in \u001b[0;36mdo_handshake\u001b[1;34m(self, block)\u001b[0m\n\u001b[0;32m   1308\u001b[0m                 \u001b[0mself\u001b[0m\u001b[1;33m.\u001b[0m\u001b[0msettimeout\u001b[0m\u001b[1;33m(\u001b[0m\u001b[1;32mNone\u001b[0m\u001b[1;33m)\u001b[0m\u001b[1;33m\u001b[0m\u001b[1;33m\u001b[0m\u001b[0m\n\u001b[1;32m-> 1309\u001b[1;33m             \u001b[0mself\u001b[0m\u001b[1;33m.\u001b[0m\u001b[0m_sslobj\u001b[0m\u001b[1;33m.\u001b[0m\u001b[0mdo_handshake\u001b[0m\u001b[1;33m(\u001b[0m\u001b[1;33m)\u001b[0m\u001b[1;33m\u001b[0m\u001b[1;33m\u001b[0m\u001b[0m\n\u001b[0m\u001b[0;32m   1310\u001b[0m         \u001b[1;32mfinally\u001b[0m\u001b[1;33m:\u001b[0m\u001b[1;33m\u001b[0m\u001b[1;33m\u001b[0m\u001b[0m\n",
      "\u001b[1;31mProtocolError\u001b[0m: ('Connection aborted.', TimeoutError(10060, 'A connection attempt failed because the connected party did not properly respond after a period of time, or established connection failed because connected host has failed to respond', None, 10060, None))",
      "\nDuring handling of the above exception, another exception occurred:\n",
      "\u001b[1;31mConnectionError\u001b[0m                           Traceback (most recent call last)",
      "\u001b[1;32m<ipython-input-11-76cf6c3cf463>\u001b[0m in \u001b[0;36m<module>\u001b[1;34m\u001b[0m\n\u001b[0;32m     21\u001b[0m         \u001b[0mauth_srch\u001b[0m \u001b[1;33m=\u001b[0m \u001b[0mElsSearch\u001b[0m\u001b[1;33m(\u001b[0m\u001b[1;34mf'AUTHLAST({family_in}) AND AUTHFIRST({given_in}) AND {sbj_area_query_creator(sa_in)}'\u001b[0m\u001b[1;33m,\u001b[0m\u001b[1;34m'author'\u001b[0m\u001b[1;33m)\u001b[0m\u001b[1;33m\u001b[0m\u001b[1;33m\u001b[0m\u001b[0m\n\u001b[1;32m---> 22\u001b[1;33m         \u001b[0mauth_srch\u001b[0m\u001b[1;33m.\u001b[0m\u001b[0mexecute\u001b[0m\u001b[1;33m(\u001b[0m\u001b[0mclient\u001b[0m\u001b[1;33m)\u001b[0m\u001b[1;33m\u001b[0m\u001b[1;33m\u001b[0m\u001b[0m\n\u001b[0m\u001b[0;32m     23\u001b[0m     \u001b[1;32mexcept\u001b[0m\u001b[1;33m:\u001b[0m\u001b[1;33m\u001b[0m\u001b[1;33m\u001b[0m\u001b[0m\n",
      "\u001b[1;32mc:\\Users\\oguzk\\anaconda3\\lib\\site-packages\\elsapy\\elssearch.py\u001b[0m in \u001b[0;36mexecute\u001b[1;34m(self, els_client, get_all)\u001b[0m\n\u001b[0;32m     94\u001b[0m         \u001b[1;31m## TODO: add exception handling\u001b[0m\u001b[1;33m\u001b[0m\u001b[1;33m\u001b[0m\u001b[1;33m\u001b[0m\u001b[0m\n\u001b[1;32m---> 95\u001b[1;33m         \u001b[0mapi_response\u001b[0m \u001b[1;33m=\u001b[0m \u001b[0mels_client\u001b[0m\u001b[1;33m.\u001b[0m\u001b[0mexec_request\u001b[0m\u001b[1;33m(\u001b[0m\u001b[0mself\u001b[0m\u001b[1;33m.\u001b[0m\u001b[0m_uri\u001b[0m\u001b[1;33m)\u001b[0m\u001b[1;33m\u001b[0m\u001b[1;33m\u001b[0m\u001b[0m\n\u001b[0m\u001b[0;32m     96\u001b[0m         \u001b[0mself\u001b[0m\u001b[1;33m.\u001b[0m\u001b[0m_tot_num_res\u001b[0m \u001b[1;33m=\u001b[0m \u001b[0mint\u001b[0m\u001b[1;33m(\u001b[0m\u001b[0mapi_response\u001b[0m\u001b[1;33m[\u001b[0m\u001b[1;34m'search-results'\u001b[0m\u001b[1;33m]\u001b[0m\u001b[1;33m[\u001b[0m\u001b[1;34m'opensearch:totalResults'\u001b[0m\u001b[1;33m]\u001b[0m\u001b[1;33m)\u001b[0m\u001b[1;33m\u001b[0m\u001b[1;33m\u001b[0m\u001b[0m\n",
      "\u001b[1;32mc:\\Users\\oguzk\\anaconda3\\lib\\site-packages\\elsapy\\elsclient.py\u001b[0m in \u001b[0;36mexec_request\u001b[1;34m(self, URL)\u001b[0m\n\u001b[0;32m    109\u001b[0m         \u001b[0mlogger\u001b[0m\u001b[1;33m.\u001b[0m\u001b[0minfo\u001b[0m\u001b[1;33m(\u001b[0m\u001b[1;34m'Sending GET request to '\u001b[0m \u001b[1;33m+\u001b[0m \u001b[0mURL\u001b[0m\u001b[1;33m)\u001b[0m\u001b[1;33m\u001b[0m\u001b[1;33m\u001b[0m\u001b[0m\n\u001b[1;32m--> 110\u001b[1;33m         r = requests.get(\n\u001b[0m\u001b[0;32m    111\u001b[0m             \u001b[0mURL\u001b[0m\u001b[1;33m,\u001b[0m\u001b[1;33m\u001b[0m\u001b[1;33m\u001b[0m\u001b[0m\n",
      "\u001b[1;32mc:\\Users\\oguzk\\anaconda3\\lib\\site-packages\\requests\\api.py\u001b[0m in \u001b[0;36mget\u001b[1;34m(url, params, **kwargs)\u001b[0m\n\u001b[0;32m     75\u001b[0m     \u001b[0mkwargs\u001b[0m\u001b[1;33m.\u001b[0m\u001b[0msetdefault\u001b[0m\u001b[1;33m(\u001b[0m\u001b[1;34m'allow_redirects'\u001b[0m\u001b[1;33m,\u001b[0m \u001b[1;32mTrue\u001b[0m\u001b[1;33m)\u001b[0m\u001b[1;33m\u001b[0m\u001b[1;33m\u001b[0m\u001b[0m\n\u001b[1;32m---> 76\u001b[1;33m     \u001b[1;32mreturn\u001b[0m \u001b[0mrequest\u001b[0m\u001b[1;33m(\u001b[0m\u001b[1;34m'get'\u001b[0m\u001b[1;33m,\u001b[0m \u001b[0murl\u001b[0m\u001b[1;33m,\u001b[0m \u001b[0mparams\u001b[0m\u001b[1;33m=\u001b[0m\u001b[0mparams\u001b[0m\u001b[1;33m,\u001b[0m \u001b[1;33m**\u001b[0m\u001b[0mkwargs\u001b[0m\u001b[1;33m)\u001b[0m\u001b[1;33m\u001b[0m\u001b[1;33m\u001b[0m\u001b[0m\n\u001b[0m\u001b[0;32m     77\u001b[0m \u001b[1;33m\u001b[0m\u001b[0m\n",
      "\u001b[1;32mc:\\Users\\oguzk\\anaconda3\\lib\\site-packages\\requests\\api.py\u001b[0m in \u001b[0;36mrequest\u001b[1;34m(method, url, **kwargs)\u001b[0m\n\u001b[0;32m     60\u001b[0m     \u001b[1;32mwith\u001b[0m \u001b[0msessions\u001b[0m\u001b[1;33m.\u001b[0m\u001b[0mSession\u001b[0m\u001b[1;33m(\u001b[0m\u001b[1;33m)\u001b[0m \u001b[1;32mas\u001b[0m \u001b[0msession\u001b[0m\u001b[1;33m:\u001b[0m\u001b[1;33m\u001b[0m\u001b[1;33m\u001b[0m\u001b[0m\n\u001b[1;32m---> 61\u001b[1;33m         \u001b[1;32mreturn\u001b[0m \u001b[0msession\u001b[0m\u001b[1;33m.\u001b[0m\u001b[0mrequest\u001b[0m\u001b[1;33m(\u001b[0m\u001b[0mmethod\u001b[0m\u001b[1;33m=\u001b[0m\u001b[0mmethod\u001b[0m\u001b[1;33m,\u001b[0m \u001b[0murl\u001b[0m\u001b[1;33m=\u001b[0m\u001b[0murl\u001b[0m\u001b[1;33m,\u001b[0m \u001b[1;33m**\u001b[0m\u001b[0mkwargs\u001b[0m\u001b[1;33m)\u001b[0m\u001b[1;33m\u001b[0m\u001b[1;33m\u001b[0m\u001b[0m\n\u001b[0m\u001b[0;32m     62\u001b[0m \u001b[1;33m\u001b[0m\u001b[0m\n",
      "\u001b[1;32mc:\\Users\\oguzk\\anaconda3\\lib\\site-packages\\requests\\sessions.py\u001b[0m in \u001b[0;36mrequest\u001b[1;34m(self, method, url, params, data, headers, cookies, files, auth, timeout, allow_redirects, proxies, hooks, stream, verify, cert, json)\u001b[0m\n\u001b[0;32m    541\u001b[0m         \u001b[0msend_kwargs\u001b[0m\u001b[1;33m.\u001b[0m\u001b[0mupdate\u001b[0m\u001b[1;33m(\u001b[0m\u001b[0msettings\u001b[0m\u001b[1;33m)\u001b[0m\u001b[1;33m\u001b[0m\u001b[1;33m\u001b[0m\u001b[0m\n\u001b[1;32m--> 542\u001b[1;33m         \u001b[0mresp\u001b[0m \u001b[1;33m=\u001b[0m \u001b[0mself\u001b[0m\u001b[1;33m.\u001b[0m\u001b[0msend\u001b[0m\u001b[1;33m(\u001b[0m\u001b[0mprep\u001b[0m\u001b[1;33m,\u001b[0m \u001b[1;33m**\u001b[0m\u001b[0msend_kwargs\u001b[0m\u001b[1;33m)\u001b[0m\u001b[1;33m\u001b[0m\u001b[1;33m\u001b[0m\u001b[0m\n\u001b[0m\u001b[0;32m    543\u001b[0m \u001b[1;33m\u001b[0m\u001b[0m\n",
      "\u001b[1;32mc:\\Users\\oguzk\\anaconda3\\lib\\site-packages\\requests\\sessions.py\u001b[0m in \u001b[0;36msend\u001b[1;34m(self, request, **kwargs)\u001b[0m\n\u001b[0;32m    654\u001b[0m         \u001b[1;31m# Send the request\u001b[0m\u001b[1;33m\u001b[0m\u001b[1;33m\u001b[0m\u001b[1;33m\u001b[0m\u001b[0m\n\u001b[1;32m--> 655\u001b[1;33m         \u001b[0mr\u001b[0m \u001b[1;33m=\u001b[0m \u001b[0madapter\u001b[0m\u001b[1;33m.\u001b[0m\u001b[0msend\u001b[0m\u001b[1;33m(\u001b[0m\u001b[0mrequest\u001b[0m\u001b[1;33m,\u001b[0m \u001b[1;33m**\u001b[0m\u001b[0mkwargs\u001b[0m\u001b[1;33m)\u001b[0m\u001b[1;33m\u001b[0m\u001b[1;33m\u001b[0m\u001b[0m\n\u001b[0m\u001b[0;32m    656\u001b[0m \u001b[1;33m\u001b[0m\u001b[0m\n",
      "\u001b[1;32mc:\\Users\\oguzk\\anaconda3\\lib\\site-packages\\requests\\adapters.py\u001b[0m in \u001b[0;36msend\u001b[1;34m(self, request, stream, timeout, verify, cert, proxies)\u001b[0m\n\u001b[0;32m    497\u001b[0m         \u001b[1;32mexcept\u001b[0m \u001b[1;33m(\u001b[0m\u001b[0mProtocolError\u001b[0m\u001b[1;33m,\u001b[0m \u001b[0msocket\u001b[0m\u001b[1;33m.\u001b[0m\u001b[0merror\u001b[0m\u001b[1;33m)\u001b[0m \u001b[1;32mas\u001b[0m \u001b[0merr\u001b[0m\u001b[1;33m:\u001b[0m\u001b[1;33m\u001b[0m\u001b[1;33m\u001b[0m\u001b[0m\n\u001b[1;32m--> 498\u001b[1;33m             \u001b[1;32mraise\u001b[0m \u001b[0mConnectionError\u001b[0m\u001b[1;33m(\u001b[0m\u001b[0merr\u001b[0m\u001b[1;33m,\u001b[0m \u001b[0mrequest\u001b[0m\u001b[1;33m=\u001b[0m\u001b[0mrequest\u001b[0m\u001b[1;33m)\u001b[0m\u001b[1;33m\u001b[0m\u001b[1;33m\u001b[0m\u001b[0m\n\u001b[0m\u001b[0;32m    499\u001b[0m \u001b[1;33m\u001b[0m\u001b[0m\n",
      "\u001b[1;31mConnectionError\u001b[0m: ('Connection aborted.', TimeoutError(10060, 'A connection attempt failed because the connected party did not properly respond after a period of time, or established connection failed because connected host has failed to respond', None, 10060, None))",
      "\nDuring handling of the above exception, another exception occurred:\n",
      "\u001b[1;31mTimeoutError\u001b[0m                              Traceback (most recent call last)",
      "\u001b[1;32mc:\\Users\\oguzk\\anaconda3\\lib\\site-packages\\urllib3\\connection.py\u001b[0m in \u001b[0;36m_new_conn\u001b[1;34m(self)\u001b[0m\n\u001b[0;32m    168\u001b[0m         \u001b[1;32mtry\u001b[0m\u001b[1;33m:\u001b[0m\u001b[1;33m\u001b[0m\u001b[1;33m\u001b[0m\u001b[0m\n\u001b[1;32m--> 169\u001b[1;33m             conn = connection.create_connection(\n\u001b[0m\u001b[0;32m    170\u001b[0m                 \u001b[1;33m(\u001b[0m\u001b[0mself\u001b[0m\u001b[1;33m.\u001b[0m\u001b[0m_dns_host\u001b[0m\u001b[1;33m,\u001b[0m \u001b[0mself\u001b[0m\u001b[1;33m.\u001b[0m\u001b[0mport\u001b[0m\u001b[1;33m)\u001b[0m\u001b[1;33m,\u001b[0m \u001b[0mself\u001b[0m\u001b[1;33m.\u001b[0m\u001b[0mtimeout\u001b[0m\u001b[1;33m,\u001b[0m \u001b[1;33m**\u001b[0m\u001b[0mextra_kw\u001b[0m\u001b[1;33m\u001b[0m\u001b[1;33m\u001b[0m\u001b[0m\n",
      "\u001b[1;32mc:\\Users\\oguzk\\anaconda3\\lib\\site-packages\\urllib3\\util\\connection.py\u001b[0m in \u001b[0;36mcreate_connection\u001b[1;34m(address, timeout, source_address, socket_options)\u001b[0m\n\u001b[0;32m     95\u001b[0m     \u001b[1;32mif\u001b[0m \u001b[0merr\u001b[0m \u001b[1;32mis\u001b[0m \u001b[1;32mnot\u001b[0m \u001b[1;32mNone\u001b[0m\u001b[1;33m:\u001b[0m\u001b[1;33m\u001b[0m\u001b[1;33m\u001b[0m\u001b[0m\n\u001b[1;32m---> 96\u001b[1;33m         \u001b[1;32mraise\u001b[0m \u001b[0merr\u001b[0m\u001b[1;33m\u001b[0m\u001b[1;33m\u001b[0m\u001b[0m\n\u001b[0m\u001b[0;32m     97\u001b[0m \u001b[1;33m\u001b[0m\u001b[0m\n",
      "\u001b[1;32mc:\\Users\\oguzk\\anaconda3\\lib\\site-packages\\urllib3\\util\\connection.py\u001b[0m in \u001b[0;36mcreate_connection\u001b[1;34m(address, timeout, source_address, socket_options)\u001b[0m\n\u001b[0;32m     85\u001b[0m                 \u001b[0msock\u001b[0m\u001b[1;33m.\u001b[0m\u001b[0mbind\u001b[0m\u001b[1;33m(\u001b[0m\u001b[0msource_address\u001b[0m\u001b[1;33m)\u001b[0m\u001b[1;33m\u001b[0m\u001b[1;33m\u001b[0m\u001b[0m\n\u001b[1;32m---> 86\u001b[1;33m             \u001b[0msock\u001b[0m\u001b[1;33m.\u001b[0m\u001b[0mconnect\u001b[0m\u001b[1;33m(\u001b[0m\u001b[0msa\u001b[0m\u001b[1;33m)\u001b[0m\u001b[1;33m\u001b[0m\u001b[1;33m\u001b[0m\u001b[0m\n\u001b[0m\u001b[0;32m     87\u001b[0m             \u001b[1;32mreturn\u001b[0m \u001b[0msock\u001b[0m\u001b[1;33m\u001b[0m\u001b[1;33m\u001b[0m\u001b[0m\n",
      "\u001b[1;31mTimeoutError\u001b[0m: [WinError 10060] A connection attempt failed because the connected party did not properly respond after a period of time, or established connection failed because connected host has failed to respond",
      "\nDuring handling of the above exception, another exception occurred:\n",
      "\u001b[1;31mNewConnectionError\u001b[0m                        Traceback (most recent call last)",
      "\u001b[1;32mc:\\Users\\oguzk\\anaconda3\\lib\\site-packages\\urllib3\\connectionpool.py\u001b[0m in \u001b[0;36murlopen\u001b[1;34m(self, method, url, body, headers, retries, redirect, assert_same_host, timeout, pool_timeout, release_conn, chunked, body_pos, **response_kw)\u001b[0m\n\u001b[0;32m    698\u001b[0m             \u001b[1;31m# Make the request on the httplib connection object.\u001b[0m\u001b[1;33m\u001b[0m\u001b[1;33m\u001b[0m\u001b[1;33m\u001b[0m\u001b[0m\n\u001b[1;32m--> 699\u001b[1;33m             httplib_response = self._make_request(\n\u001b[0m\u001b[0;32m    700\u001b[0m                 \u001b[0mconn\u001b[0m\u001b[1;33m,\u001b[0m\u001b[1;33m\u001b[0m\u001b[1;33m\u001b[0m\u001b[0m\n",
      "\u001b[1;32mc:\\Users\\oguzk\\anaconda3\\lib\\site-packages\\urllib3\\connectionpool.py\u001b[0m in \u001b[0;36m_make_request\u001b[1;34m(self, conn, method, url, timeout, chunked, **httplib_request_kw)\u001b[0m\n\u001b[0;32m    381\u001b[0m         \u001b[1;32mtry\u001b[0m\u001b[1;33m:\u001b[0m\u001b[1;33m\u001b[0m\u001b[1;33m\u001b[0m\u001b[0m\n\u001b[1;32m--> 382\u001b[1;33m             \u001b[0mself\u001b[0m\u001b[1;33m.\u001b[0m\u001b[0m_validate_conn\u001b[0m\u001b[1;33m(\u001b[0m\u001b[0mconn\u001b[0m\u001b[1;33m)\u001b[0m\u001b[1;33m\u001b[0m\u001b[1;33m\u001b[0m\u001b[0m\n\u001b[0m\u001b[0;32m    383\u001b[0m         \u001b[1;32mexcept\u001b[0m \u001b[1;33m(\u001b[0m\u001b[0mSocketTimeout\u001b[0m\u001b[1;33m,\u001b[0m \u001b[0mBaseSSLError\u001b[0m\u001b[1;33m)\u001b[0m \u001b[1;32mas\u001b[0m \u001b[0me\u001b[0m\u001b[1;33m:\u001b[0m\u001b[1;33m\u001b[0m\u001b[1;33m\u001b[0m\u001b[0m\n",
      "\u001b[1;32mc:\\Users\\oguzk\\anaconda3\\lib\\site-packages\\urllib3\\connectionpool.py\u001b[0m in \u001b[0;36m_validate_conn\u001b[1;34m(self, conn)\u001b[0m\n\u001b[0;32m   1009\u001b[0m         \u001b[1;32mif\u001b[0m \u001b[1;32mnot\u001b[0m \u001b[0mgetattr\u001b[0m\u001b[1;33m(\u001b[0m\u001b[0mconn\u001b[0m\u001b[1;33m,\u001b[0m \u001b[1;34m\"sock\"\u001b[0m\u001b[1;33m,\u001b[0m \u001b[1;32mNone\u001b[0m\u001b[1;33m)\u001b[0m\u001b[1;33m:\u001b[0m  \u001b[1;31m# AppEngine might not have  `.sock`\u001b[0m\u001b[1;33m\u001b[0m\u001b[1;33m\u001b[0m\u001b[0m\n\u001b[1;32m-> 1010\u001b[1;33m             \u001b[0mconn\u001b[0m\u001b[1;33m.\u001b[0m\u001b[0mconnect\u001b[0m\u001b[1;33m(\u001b[0m\u001b[1;33m)\u001b[0m\u001b[1;33m\u001b[0m\u001b[1;33m\u001b[0m\u001b[0m\n\u001b[0m\u001b[0;32m   1011\u001b[0m \u001b[1;33m\u001b[0m\u001b[0m\n",
      "\u001b[1;32mc:\\Users\\oguzk\\anaconda3\\lib\\site-packages\\urllib3\\connection.py\u001b[0m in \u001b[0;36mconnect\u001b[1;34m(self)\u001b[0m\n\u001b[0;32m    352\u001b[0m         \u001b[1;31m# Add certificate verification\u001b[0m\u001b[1;33m\u001b[0m\u001b[1;33m\u001b[0m\u001b[1;33m\u001b[0m\u001b[0m\n\u001b[1;32m--> 353\u001b[1;33m         \u001b[0mconn\u001b[0m \u001b[1;33m=\u001b[0m \u001b[0mself\u001b[0m\u001b[1;33m.\u001b[0m\u001b[0m_new_conn\u001b[0m\u001b[1;33m(\u001b[0m\u001b[1;33m)\u001b[0m\u001b[1;33m\u001b[0m\u001b[1;33m\u001b[0m\u001b[0m\n\u001b[0m\u001b[0;32m    354\u001b[0m         \u001b[0mhostname\u001b[0m \u001b[1;33m=\u001b[0m \u001b[0mself\u001b[0m\u001b[1;33m.\u001b[0m\u001b[0mhost\u001b[0m\u001b[1;33m\u001b[0m\u001b[1;33m\u001b[0m\u001b[0m\n",
      "\u001b[1;32mc:\\Users\\oguzk\\anaconda3\\lib\\site-packages\\urllib3\\connection.py\u001b[0m in \u001b[0;36m_new_conn\u001b[1;34m(self)\u001b[0m\n\u001b[0;32m    180\u001b[0m         \u001b[1;32mexcept\u001b[0m \u001b[0mSocketError\u001b[0m \u001b[1;32mas\u001b[0m \u001b[0me\u001b[0m\u001b[1;33m:\u001b[0m\u001b[1;33m\u001b[0m\u001b[1;33m\u001b[0m\u001b[0m\n\u001b[1;32m--> 181\u001b[1;33m             raise NewConnectionError(\n\u001b[0m\u001b[0;32m    182\u001b[0m                 \u001b[0mself\u001b[0m\u001b[1;33m,\u001b[0m \u001b[1;34m\"Failed to establish a new connection: %s\"\u001b[0m \u001b[1;33m%\u001b[0m \u001b[0me\u001b[0m\u001b[1;33m\u001b[0m\u001b[1;33m\u001b[0m\u001b[0m\n",
      "\u001b[1;31mNewConnectionError\u001b[0m: <urllib3.connection.HTTPSConnection object at 0x000001A928B3C550>: Failed to establish a new connection: [WinError 10060] A connection attempt failed because the connected party did not properly respond after a period of time, or established connection failed because connected host has failed to respond",
      "\nDuring handling of the above exception, another exception occurred:\n",
      "\u001b[1;31mMaxRetryError\u001b[0m                             Traceback (most recent call last)",
      "\u001b[1;32mc:\\Users\\oguzk\\anaconda3\\lib\\site-packages\\requests\\adapters.py\u001b[0m in \u001b[0;36msend\u001b[1;34m(self, request, stream, timeout, verify, cert, proxies)\u001b[0m\n\u001b[0;32m    438\u001b[0m             \u001b[1;32mif\u001b[0m \u001b[1;32mnot\u001b[0m \u001b[0mchunked\u001b[0m\u001b[1;33m:\u001b[0m\u001b[1;33m\u001b[0m\u001b[1;33m\u001b[0m\u001b[0m\n\u001b[1;32m--> 439\u001b[1;33m                 resp = conn.urlopen(\n\u001b[0m\u001b[0;32m    440\u001b[0m                     \u001b[0mmethod\u001b[0m\u001b[1;33m=\u001b[0m\u001b[0mrequest\u001b[0m\u001b[1;33m.\u001b[0m\u001b[0mmethod\u001b[0m\u001b[1;33m,\u001b[0m\u001b[1;33m\u001b[0m\u001b[1;33m\u001b[0m\u001b[0m\n",
      "\u001b[1;32mc:\\Users\\oguzk\\anaconda3\\lib\\site-packages\\urllib3\\connectionpool.py\u001b[0m in \u001b[0;36murlopen\u001b[1;34m(self, method, url, body, headers, retries, redirect, assert_same_host, timeout, pool_timeout, release_conn, chunked, body_pos, **response_kw)\u001b[0m\n\u001b[0;32m    754\u001b[0m \u001b[1;33m\u001b[0m\u001b[0m\n\u001b[1;32m--> 755\u001b[1;33m             retries = retries.increment(\n\u001b[0m\u001b[0;32m    756\u001b[0m                 \u001b[0mmethod\u001b[0m\u001b[1;33m,\u001b[0m \u001b[0murl\u001b[0m\u001b[1;33m,\u001b[0m \u001b[0merror\u001b[0m\u001b[1;33m=\u001b[0m\u001b[0me\u001b[0m\u001b[1;33m,\u001b[0m \u001b[0m_pool\u001b[0m\u001b[1;33m=\u001b[0m\u001b[0mself\u001b[0m\u001b[1;33m,\u001b[0m \u001b[0m_stacktrace\u001b[0m\u001b[1;33m=\u001b[0m\u001b[0msys\u001b[0m\u001b[1;33m.\u001b[0m\u001b[0mexc_info\u001b[0m\u001b[1;33m(\u001b[0m\u001b[1;33m)\u001b[0m\u001b[1;33m[\u001b[0m\u001b[1;36m2\u001b[0m\u001b[1;33m]\u001b[0m\u001b[1;33m\u001b[0m\u001b[1;33m\u001b[0m\u001b[0m\n",
      "\u001b[1;32mc:\\Users\\oguzk\\anaconda3\\lib\\site-packages\\urllib3\\util\\retry.py\u001b[0m in \u001b[0;36mincrement\u001b[1;34m(self, method, url, response, error, _pool, _stacktrace)\u001b[0m\n\u001b[0;32m    573\u001b[0m         \u001b[1;32mif\u001b[0m \u001b[0mnew_retry\u001b[0m\u001b[1;33m.\u001b[0m\u001b[0mis_exhausted\u001b[0m\u001b[1;33m(\u001b[0m\u001b[1;33m)\u001b[0m\u001b[1;33m:\u001b[0m\u001b[1;33m\u001b[0m\u001b[1;33m\u001b[0m\u001b[0m\n\u001b[1;32m--> 574\u001b[1;33m             \u001b[1;32mraise\u001b[0m \u001b[0mMaxRetryError\u001b[0m\u001b[1;33m(\u001b[0m\u001b[0m_pool\u001b[0m\u001b[1;33m,\u001b[0m \u001b[0murl\u001b[0m\u001b[1;33m,\u001b[0m \u001b[0merror\u001b[0m \u001b[1;32mor\u001b[0m \u001b[0mResponseError\u001b[0m\u001b[1;33m(\u001b[0m\u001b[0mcause\u001b[0m\u001b[1;33m)\u001b[0m\u001b[1;33m)\u001b[0m\u001b[1;33m\u001b[0m\u001b[1;33m\u001b[0m\u001b[0m\n\u001b[0m\u001b[0;32m    575\u001b[0m \u001b[1;33m\u001b[0m\u001b[0m\n",
      "\u001b[1;31mMaxRetryError\u001b[0m: HTTPSConnectionPool(host='api.elsevier.com', port=443): Max retries exceeded with url: /content/search/author?query=AUTHLAST%28bai%29+AND+AUTHFIRST%28jiaru%29+AND+SUBJAREA%28DECI%29+AND+SUBJAREA%28BUSI%29 (Caused by NewConnectionError('<urllib3.connection.HTTPSConnection object at 0x000001A928B3C550>: Failed to establish a new connection: [WinError 10060] A connection attempt failed because the connected party did not properly respond after a period of time, or established connection failed because connected host has failed to respond'))",
      "\nDuring handling of the above exception, another exception occurred:\n",
      "\u001b[1;31mConnectionError\u001b[0m                           Traceback (most recent call last)",
      "\u001b[1;32m<ipython-input-11-76cf6c3cf463>\u001b[0m in \u001b[0;36m<module>\u001b[1;34m\u001b[0m\n\u001b[0;32m     33\u001b[0m \u001b[1;33m\u001b[0m\u001b[0m\n\u001b[0;32m     34\u001b[0m             \u001b[0mauth_srch\u001b[0m \u001b[1;33m=\u001b[0m \u001b[0mElsSearch\u001b[0m\u001b[1;33m(\u001b[0m\u001b[1;34mf'AUTHLAST({family_in}) AND AUTHFIRST({given_in}) AND {sbj_area_query_creator(sa_in)}'\u001b[0m\u001b[1;33m,\u001b[0m\u001b[1;34m'author'\u001b[0m\u001b[1;33m)\u001b[0m\u001b[1;33m\u001b[0m\u001b[1;33m\u001b[0m\u001b[0m\n\u001b[1;32m---> 35\u001b[1;33m             \u001b[0mauth_srch\u001b[0m\u001b[1;33m.\u001b[0m\u001b[0mexecute\u001b[0m\u001b[1;33m(\u001b[0m\u001b[0mclient\u001b[0m\u001b[1;33m)\u001b[0m\u001b[1;33m\u001b[0m\u001b[1;33m\u001b[0m\u001b[0m\n\u001b[0m\u001b[0;32m     36\u001b[0m \u001b[1;33m\u001b[0m\u001b[0m\n\u001b[0;32m     37\u001b[0m         \u001b[1;32melse\u001b[0m\u001b[1;33m:\u001b[0m\u001b[1;33m\u001b[0m\u001b[1;33m\u001b[0m\u001b[0m\n",
      "\u001b[1;32mc:\\Users\\oguzk\\anaconda3\\lib\\site-packages\\elsapy\\elssearch.py\u001b[0m in \u001b[0;36mexecute\u001b[1;34m(self, els_client, get_all)\u001b[0m\n\u001b[0;32m     93\u001b[0m             all results for the search, up to a maximum of 5,000.\"\"\"\n\u001b[0;32m     94\u001b[0m         \u001b[1;31m## TODO: add exception handling\u001b[0m\u001b[1;33m\u001b[0m\u001b[1;33m\u001b[0m\u001b[1;33m\u001b[0m\u001b[0m\n\u001b[1;32m---> 95\u001b[1;33m         \u001b[0mapi_response\u001b[0m \u001b[1;33m=\u001b[0m \u001b[0mels_client\u001b[0m\u001b[1;33m.\u001b[0m\u001b[0mexec_request\u001b[0m\u001b[1;33m(\u001b[0m\u001b[0mself\u001b[0m\u001b[1;33m.\u001b[0m\u001b[0m_uri\u001b[0m\u001b[1;33m)\u001b[0m\u001b[1;33m\u001b[0m\u001b[1;33m\u001b[0m\u001b[0m\n\u001b[0m\u001b[0;32m     96\u001b[0m         \u001b[0mself\u001b[0m\u001b[1;33m.\u001b[0m\u001b[0m_tot_num_res\u001b[0m \u001b[1;33m=\u001b[0m \u001b[0mint\u001b[0m\u001b[1;33m(\u001b[0m\u001b[0mapi_response\u001b[0m\u001b[1;33m[\u001b[0m\u001b[1;34m'search-results'\u001b[0m\u001b[1;33m]\u001b[0m\u001b[1;33m[\u001b[0m\u001b[1;34m'opensearch:totalResults'\u001b[0m\u001b[1;33m]\u001b[0m\u001b[1;33m)\u001b[0m\u001b[1;33m\u001b[0m\u001b[1;33m\u001b[0m\u001b[0m\n\u001b[0;32m     97\u001b[0m         \u001b[0mself\u001b[0m\u001b[1;33m.\u001b[0m\u001b[0m_results\u001b[0m \u001b[1;33m=\u001b[0m \u001b[0mapi_response\u001b[0m\u001b[1;33m[\u001b[0m\u001b[1;34m'search-results'\u001b[0m\u001b[1;33m]\u001b[0m\u001b[1;33m[\u001b[0m\u001b[1;34m'entry'\u001b[0m\u001b[1;33m]\u001b[0m\u001b[1;33m\u001b[0m\u001b[1;33m\u001b[0m\u001b[0m\n",
      "\u001b[1;32mc:\\Users\\oguzk\\anaconda3\\lib\\site-packages\\elsapy\\elsclient.py\u001b[0m in \u001b[0;36mexec_request\u001b[1;34m(self, URL)\u001b[0m\n\u001b[0;32m    108\u001b[0m             \u001b[0mheaders\u001b[0m\u001b[1;33m[\u001b[0m\u001b[1;34m\"X-ELS-Insttoken\"\u001b[0m\u001b[1;33m]\u001b[0m \u001b[1;33m=\u001b[0m \u001b[0mself\u001b[0m\u001b[1;33m.\u001b[0m\u001b[0minst_token\u001b[0m\u001b[1;33m\u001b[0m\u001b[1;33m\u001b[0m\u001b[0m\n\u001b[0;32m    109\u001b[0m         \u001b[0mlogger\u001b[0m\u001b[1;33m.\u001b[0m\u001b[0minfo\u001b[0m\u001b[1;33m(\u001b[0m\u001b[1;34m'Sending GET request to '\u001b[0m \u001b[1;33m+\u001b[0m \u001b[0mURL\u001b[0m\u001b[1;33m)\u001b[0m\u001b[1;33m\u001b[0m\u001b[1;33m\u001b[0m\u001b[0m\n\u001b[1;32m--> 110\u001b[1;33m         r = requests.get(\n\u001b[0m\u001b[0;32m    111\u001b[0m             \u001b[0mURL\u001b[0m\u001b[1;33m,\u001b[0m\u001b[1;33m\u001b[0m\u001b[1;33m\u001b[0m\u001b[0m\n\u001b[0;32m    112\u001b[0m             \u001b[0mheaders\u001b[0m \u001b[1;33m=\u001b[0m \u001b[0mheaders\u001b[0m\u001b[1;33m\u001b[0m\u001b[1;33m\u001b[0m\u001b[0m\n",
      "\u001b[1;32mc:\\Users\\oguzk\\anaconda3\\lib\\site-packages\\requests\\api.py\u001b[0m in \u001b[0;36mget\u001b[1;34m(url, params, **kwargs)\u001b[0m\n\u001b[0;32m     74\u001b[0m \u001b[1;33m\u001b[0m\u001b[0m\n\u001b[0;32m     75\u001b[0m     \u001b[0mkwargs\u001b[0m\u001b[1;33m.\u001b[0m\u001b[0msetdefault\u001b[0m\u001b[1;33m(\u001b[0m\u001b[1;34m'allow_redirects'\u001b[0m\u001b[1;33m,\u001b[0m \u001b[1;32mTrue\u001b[0m\u001b[1;33m)\u001b[0m\u001b[1;33m\u001b[0m\u001b[1;33m\u001b[0m\u001b[0m\n\u001b[1;32m---> 76\u001b[1;33m     \u001b[1;32mreturn\u001b[0m \u001b[0mrequest\u001b[0m\u001b[1;33m(\u001b[0m\u001b[1;34m'get'\u001b[0m\u001b[1;33m,\u001b[0m \u001b[0murl\u001b[0m\u001b[1;33m,\u001b[0m \u001b[0mparams\u001b[0m\u001b[1;33m=\u001b[0m\u001b[0mparams\u001b[0m\u001b[1;33m,\u001b[0m \u001b[1;33m**\u001b[0m\u001b[0mkwargs\u001b[0m\u001b[1;33m)\u001b[0m\u001b[1;33m\u001b[0m\u001b[1;33m\u001b[0m\u001b[0m\n\u001b[0m\u001b[0;32m     77\u001b[0m \u001b[1;33m\u001b[0m\u001b[0m\n\u001b[0;32m     78\u001b[0m \u001b[1;33m\u001b[0m\u001b[0m\n",
      "\u001b[1;32mc:\\Users\\oguzk\\anaconda3\\lib\\site-packages\\requests\\api.py\u001b[0m in \u001b[0;36mrequest\u001b[1;34m(method, url, **kwargs)\u001b[0m\n\u001b[0;32m     59\u001b[0m     \u001b[1;31m# cases, and look like a memory leak in others.\u001b[0m\u001b[1;33m\u001b[0m\u001b[1;33m\u001b[0m\u001b[1;33m\u001b[0m\u001b[0m\n\u001b[0;32m     60\u001b[0m     \u001b[1;32mwith\u001b[0m \u001b[0msessions\u001b[0m\u001b[1;33m.\u001b[0m\u001b[0mSession\u001b[0m\u001b[1;33m(\u001b[0m\u001b[1;33m)\u001b[0m \u001b[1;32mas\u001b[0m \u001b[0msession\u001b[0m\u001b[1;33m:\u001b[0m\u001b[1;33m\u001b[0m\u001b[1;33m\u001b[0m\u001b[0m\n\u001b[1;32m---> 61\u001b[1;33m         \u001b[1;32mreturn\u001b[0m \u001b[0msession\u001b[0m\u001b[1;33m.\u001b[0m\u001b[0mrequest\u001b[0m\u001b[1;33m(\u001b[0m\u001b[0mmethod\u001b[0m\u001b[1;33m=\u001b[0m\u001b[0mmethod\u001b[0m\u001b[1;33m,\u001b[0m \u001b[0murl\u001b[0m\u001b[1;33m=\u001b[0m\u001b[0murl\u001b[0m\u001b[1;33m,\u001b[0m \u001b[1;33m**\u001b[0m\u001b[0mkwargs\u001b[0m\u001b[1;33m)\u001b[0m\u001b[1;33m\u001b[0m\u001b[1;33m\u001b[0m\u001b[0m\n\u001b[0m\u001b[0;32m     62\u001b[0m \u001b[1;33m\u001b[0m\u001b[0m\n\u001b[0;32m     63\u001b[0m \u001b[1;33m\u001b[0m\u001b[0m\n",
      "\u001b[1;32mc:\\Users\\oguzk\\anaconda3\\lib\\site-packages\\requests\\sessions.py\u001b[0m in \u001b[0;36mrequest\u001b[1;34m(self, method, url, params, data, headers, cookies, files, auth, timeout, allow_redirects, proxies, hooks, stream, verify, cert, json)\u001b[0m\n\u001b[0;32m    540\u001b[0m         }\n\u001b[0;32m    541\u001b[0m         \u001b[0msend_kwargs\u001b[0m\u001b[1;33m.\u001b[0m\u001b[0mupdate\u001b[0m\u001b[1;33m(\u001b[0m\u001b[0msettings\u001b[0m\u001b[1;33m)\u001b[0m\u001b[1;33m\u001b[0m\u001b[1;33m\u001b[0m\u001b[0m\n\u001b[1;32m--> 542\u001b[1;33m         \u001b[0mresp\u001b[0m \u001b[1;33m=\u001b[0m \u001b[0mself\u001b[0m\u001b[1;33m.\u001b[0m\u001b[0msend\u001b[0m\u001b[1;33m(\u001b[0m\u001b[0mprep\u001b[0m\u001b[1;33m,\u001b[0m \u001b[1;33m**\u001b[0m\u001b[0msend_kwargs\u001b[0m\u001b[1;33m)\u001b[0m\u001b[1;33m\u001b[0m\u001b[1;33m\u001b[0m\u001b[0m\n\u001b[0m\u001b[0;32m    543\u001b[0m \u001b[1;33m\u001b[0m\u001b[0m\n\u001b[0;32m    544\u001b[0m         \u001b[1;32mreturn\u001b[0m \u001b[0mresp\u001b[0m\u001b[1;33m\u001b[0m\u001b[1;33m\u001b[0m\u001b[0m\n",
      "\u001b[1;32mc:\\Users\\oguzk\\anaconda3\\lib\\site-packages\\requests\\sessions.py\u001b[0m in \u001b[0;36msend\u001b[1;34m(self, request, **kwargs)\u001b[0m\n\u001b[0;32m    653\u001b[0m \u001b[1;33m\u001b[0m\u001b[0m\n\u001b[0;32m    654\u001b[0m         \u001b[1;31m# Send the request\u001b[0m\u001b[1;33m\u001b[0m\u001b[1;33m\u001b[0m\u001b[1;33m\u001b[0m\u001b[0m\n\u001b[1;32m--> 655\u001b[1;33m         \u001b[0mr\u001b[0m \u001b[1;33m=\u001b[0m \u001b[0madapter\u001b[0m\u001b[1;33m.\u001b[0m\u001b[0msend\u001b[0m\u001b[1;33m(\u001b[0m\u001b[0mrequest\u001b[0m\u001b[1;33m,\u001b[0m \u001b[1;33m**\u001b[0m\u001b[0mkwargs\u001b[0m\u001b[1;33m)\u001b[0m\u001b[1;33m\u001b[0m\u001b[1;33m\u001b[0m\u001b[0m\n\u001b[0m\u001b[0;32m    656\u001b[0m \u001b[1;33m\u001b[0m\u001b[0m\n\u001b[0;32m    657\u001b[0m         \u001b[1;31m# Total elapsed time of the request (approximately)\u001b[0m\u001b[1;33m\u001b[0m\u001b[1;33m\u001b[0m\u001b[1;33m\u001b[0m\u001b[0m\n",
      "\u001b[1;32mc:\\Users\\oguzk\\anaconda3\\lib\\site-packages\\requests\\adapters.py\u001b[0m in \u001b[0;36msend\u001b[1;34m(self, request, stream, timeout, verify, cert, proxies)\u001b[0m\n\u001b[0;32m    514\u001b[0m                 \u001b[1;32mraise\u001b[0m \u001b[0mSSLError\u001b[0m\u001b[1;33m(\u001b[0m\u001b[0me\u001b[0m\u001b[1;33m,\u001b[0m \u001b[0mrequest\u001b[0m\u001b[1;33m=\u001b[0m\u001b[0mrequest\u001b[0m\u001b[1;33m)\u001b[0m\u001b[1;33m\u001b[0m\u001b[1;33m\u001b[0m\u001b[0m\n\u001b[0;32m    515\u001b[0m \u001b[1;33m\u001b[0m\u001b[0m\n\u001b[1;32m--> 516\u001b[1;33m             \u001b[1;32mraise\u001b[0m \u001b[0mConnectionError\u001b[0m\u001b[1;33m(\u001b[0m\u001b[0me\u001b[0m\u001b[1;33m,\u001b[0m \u001b[0mrequest\u001b[0m\u001b[1;33m=\u001b[0m\u001b[0mrequest\u001b[0m\u001b[1;33m)\u001b[0m\u001b[1;33m\u001b[0m\u001b[1;33m\u001b[0m\u001b[0m\n\u001b[0m\u001b[0;32m    517\u001b[0m \u001b[1;33m\u001b[0m\u001b[0m\n\u001b[0;32m    518\u001b[0m         \u001b[1;32mexcept\u001b[0m \u001b[0mClosedPoolError\u001b[0m \u001b[1;32mas\u001b[0m \u001b[0me\u001b[0m\u001b[1;33m:\u001b[0m\u001b[1;33m\u001b[0m\u001b[1;33m\u001b[0m\u001b[0m\n",
      "\u001b[1;31mConnectionError\u001b[0m: HTTPSConnectionPool(host='api.elsevier.com', port=443): Max retries exceeded with url: /content/search/author?query=AUTHLAST%28bai%29+AND+AUTHFIRST%28jiaru%29+AND+SUBJAREA%28DECI%29+AND+SUBJAREA%28BUSI%29 (Caused by NewConnectionError('<urllib3.connection.HTTPSConnection object at 0x000001A928B3C550>: Failed to establish a new connection: [WinError 10060] A connection attempt failed because the connected party did not properly respond after a period of time, or established connection failed because connected host has failed to respond'))"
     ]
    }
   ],
   "source": [
    "# Full Loop - Take 7:\n",
    "# Fixed API keys lists\n",
    "\n",
    "#author_out_list= list()\n",
    "\n",
    "avail_api_keys_list = [\"563df86d8ae1a6e62e0f0e4278a45cb9\",\"92975ea2d964ac570219d520aaad1d41\",\"c8eab163448aa6bd54fa97af700a939b\",\"396d5385a697326c03800cf37ca4f1a2\",\"8a9a5beb728f47b401fd145e1bb035ba\",\"cfbe1762b57a3310906c53bbbb3a68e5\",\n",
    "\"7b6016e18d538a15806f172d0ac7a0cd\",\"5d30dea104b6b7c33f6a120619fdbc6e\",\"e6cc81dc4b558be9892fa4e0715822a1\",\"da2094a93eb167105699cfb6c47466b6\",\"a323957ad88e129d8bae2c7b2fd0e63a\",\"a809d51349b6a614581cf57493dc0c94\",\"f36f0ccc1554186bb009e9ca7b3c14c0\",\"a1d21854963d1cca62742c56b5f7633d\",\"f3bdebaa3f41b7443d8d9d8983c00479\",\"bfaac6eb78a88e97874fa1d0bfd8c63e\",\n",
    "\"546932c3fcd8e21fbc6eab08010b9f44\",\"0599d76680c29c71e028fc9b77b0c063\",\"baaa9e51f8a49461352af25710719157\",\"30195f0b2192052a36bcab9ce3c4064f\",\"b7e95f5ea731eb5c9e84e7a1d499f50e\",\"8707db153e4b9672fa6df25b03a5f747\",\"2dab4694b4347fa574d159bb97484fc4\",\"6af3d2c09eb08ec6e12f0cead9a1f5bb\",\"3872e798bf48fa28af583b9ebef5deb6\",\"1473c31dbcdb425f9cdaf75c673279d3\"]\n",
    "\n",
    "used_api_keys_list = [\"6ae4b5181b374f521e60d2ef4be73ec5\", \"c14e197a4982e7349247b189ff26da45\", \"fbc5e06467522a07f93e247a24d89d3b\", \"63db00d1e8f7e5a5ef223abad3858dfe\",\"3f453389d0cada327703d787cd41b4ec\",\"e989f6eb6ea2a19b104eed28efe11071\",\n",
    "\"784ab6b22d3148f3d3f94a75596d0633\",\"1a3f1a762b1e2abec678b08f4d7a1038\",\"53acda4267b6a5a9a6a87b8767aa8cc6\",\"9289c787b0d98e1a5a7a7fb58e102e1a\",\"1bf711a2bc396e7e99340bdaf2ba29d0\",\"3bd33d7e35df95cc6dc576fd67e7356d\"]\n",
    "\n",
    "client = ElsClient(\"e481b6eef24800668a6ee5ea576c1f97\")\n",
    "\n",
    "for auth_id in first_author_input_dict_take7:\n",
    "    given_in = first_author_input_dict_take7[auth_id][\"new_given\"]\n",
    "    family_in = first_author_input_dict_take7[auth_id][\"new_family\"]\n",
    "    sa_in = first_author_input_dict_take7[auth_id][\"SA_list\"]\n",
    "\n",
    "    try:\n",
    "        auth_srch = ElsSearch(f'AUTHLAST({family_in}) AND AUTHFIRST({given_in}) AND {sbj_area_query_creator(sa_in)}','author')\n",
    "        auth_srch.execute(client)\n",
    "    except:\n",
    "        if len(avail_api_keys_list) >0:\n",
    "            with open(\"author_out_list_loop_save\",\"wb\") as p:\n",
    "                pickle.dump(author_out_list, p)\n",
    "            print(\"Loop save complete!\")\n",
    "            new_key = avail_api_keys_list.pop(0)            \n",
    "            client = ElsClient(new_key)\n",
    "\n",
    "            print(f\"Changed API key, now using key: {new_key}\")\n",
    "            used_api_keys_list.append(new_key)\n",
    "\n",
    "            auth_srch = ElsSearch(f'AUTHLAST({family_in}) AND AUTHFIRST({given_in}) AND {sbj_area_query_creator(sa_in)}','author')\n",
    "            auth_srch.execute(client)\n",
    "\n",
    "        else:\n",
    "            print(\"No available API keys to use!\")\n",
    "            break\n",
    "\n",
    "\n",
    "    country_out = list()\n",
    "    given_out = list()\n",
    "    family_out = list()\n",
    "    doc_count_out = list()\n",
    "\n",
    "    for auth in auth_srch.results:\n",
    "        # Country:\n",
    "        try:\n",
    "            country_out.append(auth['affiliation-current']['affiliation-country'])\n",
    "        except:\n",
    "            pass\n",
    "\n",
    "        # Given:\n",
    "        try:\n",
    "            given_out.append(auth['preferred-name']['given-name'])\n",
    "        except:\n",
    "            pass\n",
    "\n",
    "        # Family:\n",
    "        try:\n",
    "            family_out.append(auth['preferred-name']['surname'])\n",
    "        except:\n",
    "            pass\n",
    "\n",
    "        # Doc Count:\n",
    "        try:\n",
    "            doc_count_out.append(auth['document-count'])\n",
    "        except:\n",
    "            pass\n",
    "\n",
    "    \n",
    "    author_out_dict = dict(author_id=auth_id, country=country_out, given=given_out, family=family_out, doc_count=doc_count_out)\n",
    "\n",
    "    author_out_list.append(author_out_dict)\n",
    "\n",
    "\n"
   ]
  },
  {
   "cell_type": "code",
   "execution_count": 12,
   "metadata": {},
   "outputs": [
    {
     "data": {
      "text/html": [
       "<div>\n",
       "<style scoped>\n",
       "    .dataframe tbody tr th:only-of-type {\n",
       "        vertical-align: middle;\n",
       "    }\n",
       "\n",
       "    .dataframe tbody tr th {\n",
       "        vertical-align: top;\n",
       "    }\n",
       "\n",
       "    .dataframe thead th {\n",
       "        text-align: right;\n",
       "    }\n",
       "</style>\n",
       "<table border=\"1\" class=\"dataframe\">\n",
       "  <thead>\n",
       "    <tr style=\"text-align: right;\">\n",
       "      <th></th>\n",
       "      <th>author_id</th>\n",
       "      <th>country</th>\n",
       "      <th>given</th>\n",
       "      <th>family</th>\n",
       "      <th>doc_count</th>\n",
       "    </tr>\n",
       "  </thead>\n",
       "  <tbody>\n",
       "    <tr>\n",
       "      <th>0</th>\n",
       "      <td>aut_0</td>\n",
       "      <td>[China, China, China, Hong Kong]</td>\n",
       "      <td>[Jing, Jingheng, Jing, (Luna) Jing]</td>\n",
       "      <td>[Cai, Cai, Cai, Cai]</td>\n",
       "      <td>[23, 22, 1, 1]</td>\n",
       "    </tr>\n",
       "    <tr>\n",
       "      <th>1</th>\n",
       "      <td>aut_1</td>\n",
       "      <td>[United States, United States, United States, ...</td>\n",
       "      <td>[Qing, Qing, (Grace) Qing, Grace Qing]</td>\n",
       "      <td>[Hao, Hao, Hao, Hao]</td>\n",
       "      <td>[86, 11, 2, 1]</td>\n",
       "    </tr>\n",
       "    <tr>\n",
       "      <th>2</th>\n",
       "      <td>aut_2</td>\n",
       "      <td>[China, China, China, China, China, China, Chi...</td>\n",
       "      <td>[Yongquan, Yonghong, Yong, Dayong, Yongwu, Yon...</td>\n",
       "      <td>[Zhou, Zhou, Zhou, Zhou, Zhou, Zhou, Zhou, Zho...</td>\n",
       "      <td>[286, 220, 193, 170, 164, 151, 100, 92, 74, 64...</td>\n",
       "    </tr>\n",
       "    <tr>\n",
       "      <th>3</th>\n",
       "      <td>aut_3</td>\n",
       "      <td>[Italy, Italy, France, Nigeria, Malaysia, Saud...</td>\n",
       "      <td>[Andrea, Alessandro, Ado Adamou Abba, Hafizull...</td>\n",
       "      <td>[Abba, Abbà, Ari, Ahmed, Haruna, Abba, Abba, A...</td>\n",
       "      <td>[75, 65, 44, 19, 17, 15, 8, 3]</td>\n",
       "    </tr>\n",
       "    <tr>\n",
       "      <th>4</th>\n",
       "      <td>aut_4</td>\n",
       "      <td>[Italy]</td>\n",
       "      <td>[Antonella]</td>\n",
       "      <td>[Agodi]</td>\n",
       "      <td>[234]</td>\n",
       "    </tr>\n",
       "    <tr>\n",
       "      <th>...</th>\n",
       "      <td>...</td>\n",
       "      <td>...</td>\n",
       "      <td>...</td>\n",
       "      <td>...</td>\n",
       "      <td>...</td>\n",
       "    </tr>\n",
       "    <tr>\n",
       "      <th>63754</th>\n",
       "      <td>aut_63764</td>\n",
       "      <td>[China, China, China]</td>\n",
       "      <td>[Jiaquan, Jiaquan, Jiaquan]</td>\n",
       "      <td>[Zhang, Zhang, Zhang]</td>\n",
       "      <td>[165, 76, 4]</td>\n",
       "    </tr>\n",
       "    <tr>\n",
       "      <th>63755</th>\n",
       "      <td>aut_63765</td>\n",
       "      <td>[China]</td>\n",
       "      <td>[Jiaqun]</td>\n",
       "      <td>[Wei]</td>\n",
       "      <td>[70]</td>\n",
       "    </tr>\n",
       "    <tr>\n",
       "      <th>63756</th>\n",
       "      <td>aut_63766</td>\n",
       "      <td>[China, United Kingdom, China, Japan, China, C...</td>\n",
       "      <td>[Jiarong, Jiarong, Jiarong, Jiarong, Jiarong, ...</td>\n",
       "      <td>[Chen, Chen, Chen, Chen, Chen, Chen, Chen, Che...</td>\n",
       "      <td>[174, 22, 12, 7, 6, 5, 3, 1, 1, 1]</td>\n",
       "    </tr>\n",
       "    <tr>\n",
       "      <th>63757</th>\n",
       "      <td>aut_63767</td>\n",
       "      <td>[China, China, China, China, China]</td>\n",
       "      <td>[Jiayi, Jiarong, Jiarong, Jiarong, Jiarong]</td>\n",
       "      <td>[Li, Li, Li, Li, Li]</td>\n",
       "      <td>[217, 25, 18, 11, 1]</td>\n",
       "    </tr>\n",
       "    <tr>\n",
       "      <th>63758</th>\n",
       "      <td>aut_63768</td>\n",
       "      <td>[China]</td>\n",
       "      <td>[Jiarong]</td>\n",
       "      <td>[Liu]</td>\n",
       "      <td>[20]</td>\n",
       "    </tr>\n",
       "  </tbody>\n",
       "</table>\n",
       "<p>63759 rows × 5 columns</p>\n",
       "</div>"
      ],
      "text/plain": [
       "       author_id                                            country  \\\n",
       "0          aut_0                   [China, China, China, Hong Kong]   \n",
       "1          aut_1  [United States, United States, United States, ...   \n",
       "2          aut_2  [China, China, China, China, China, China, Chi...   \n",
       "3          aut_3  [Italy, Italy, France, Nigeria, Malaysia, Saud...   \n",
       "4          aut_4                                            [Italy]   \n",
       "...          ...                                                ...   \n",
       "63754  aut_63764                              [China, China, China]   \n",
       "63755  aut_63765                                            [China]   \n",
       "63756  aut_63766  [China, United Kingdom, China, Japan, China, C...   \n",
       "63757  aut_63767                [China, China, China, China, China]   \n",
       "63758  aut_63768                                            [China]   \n",
       "\n",
       "                                                   given  \\\n",
       "0                    [Jing, Jingheng, Jing, (Luna) Jing]   \n",
       "1                 [Qing, Qing, (Grace) Qing, Grace Qing]   \n",
       "2      [Yongquan, Yonghong, Yong, Dayong, Yongwu, Yon...   \n",
       "3      [Andrea, Alessandro, Ado Adamou Abba, Hafizull...   \n",
       "4                                            [Antonella]   \n",
       "...                                                  ...   \n",
       "63754                        [Jiaquan, Jiaquan, Jiaquan]   \n",
       "63755                                           [Jiaqun]   \n",
       "63756  [Jiarong, Jiarong, Jiarong, Jiarong, Jiarong, ...   \n",
       "63757        [Jiayi, Jiarong, Jiarong, Jiarong, Jiarong]   \n",
       "63758                                          [Jiarong]   \n",
       "\n",
       "                                                  family  \\\n",
       "0                                   [Cai, Cai, Cai, Cai]   \n",
       "1                                   [Hao, Hao, Hao, Hao]   \n",
       "2      [Zhou, Zhou, Zhou, Zhou, Zhou, Zhou, Zhou, Zho...   \n",
       "3      [Abba, Abbà, Ari, Ahmed, Haruna, Abba, Abba, A...   \n",
       "4                                                [Agodi]   \n",
       "...                                                  ...   \n",
       "63754                              [Zhang, Zhang, Zhang]   \n",
       "63755                                              [Wei]   \n",
       "63756  [Chen, Chen, Chen, Chen, Chen, Chen, Chen, Che...   \n",
       "63757                               [Li, Li, Li, Li, Li]   \n",
       "63758                                              [Liu]   \n",
       "\n",
       "                                               doc_count  \n",
       "0                                         [23, 22, 1, 1]  \n",
       "1                                         [86, 11, 2, 1]  \n",
       "2      [286, 220, 193, 170, 164, 151, 100, 92, 74, 64...  \n",
       "3                         [75, 65, 44, 19, 17, 15, 8, 3]  \n",
       "4                                                  [234]  \n",
       "...                                                  ...  \n",
       "63754                                       [165, 76, 4]  \n",
       "63755                                               [70]  \n",
       "63756                 [174, 22, 12, 7, 6, 5, 3, 1, 1, 1]  \n",
       "63757                               [217, 25, 18, 11, 1]  \n",
       "63758                                               [20]  \n",
       "\n",
       "[63759 rows x 5 columns]"
      ]
     },
     "execution_count": 12,
     "metadata": {},
     "output_type": "execute_result"
    }
   ],
   "source": [
    "pd.DataFrame(author_out_list)"
   ]
  },
  {
   "cell_type": "code",
   "execution_count": 13,
   "metadata": {},
   "outputs": [],
   "source": [
    "with open(\"author_out_list\",\"wb\") as p:\n",
    "    pickle.dump(author_out_list, p)"
   ]
  },
  {
   "cell_type": "markdown",
   "metadata": {},
   "source": [
    "#### Take 8: - Missing btw. aut_57084-aut_57090"
   ]
  },
  {
   "cell_type": "code",
   "execution_count": 21,
   "metadata": {},
   "outputs": [
    {
     "data": {
      "text/html": [
       "<div>\n",
       "<style scoped>\n",
       "    .dataframe tbody tr th:only-of-type {\n",
       "        vertical-align: middle;\n",
       "    }\n",
       "\n",
       "    .dataframe tbody tr th {\n",
       "        vertical-align: top;\n",
       "    }\n",
       "\n",
       "    .dataframe thead th {\n",
       "        text-align: right;\n",
       "    }\n",
       "</style>\n",
       "<table border=\"1\" class=\"dataframe\">\n",
       "  <thead>\n",
       "    <tr style=\"text-align: right;\">\n",
       "      <th></th>\n",
       "      <th>author_id</th>\n",
       "      <th>country</th>\n",
       "      <th>given</th>\n",
       "      <th>family</th>\n",
       "      <th>doc_count</th>\n",
       "    </tr>\n",
       "  </thead>\n",
       "  <tbody>\n",
       "    <tr>\n",
       "      <th>57079</th>\n",
       "      <td>aut_57084</td>\n",
       "      <td>[Canada]</td>\n",
       "      <td>[Isabelle]</td>\n",
       "      <td>[Jean]</td>\n",
       "      <td>[9]</td>\n",
       "    </tr>\n",
       "    <tr>\n",
       "      <th>57080</th>\n",
       "      <td>aut_57090</td>\n",
       "      <td>[France]</td>\n",
       "      <td>[Isabelle]</td>\n",
       "      <td>[Mirouze]</td>\n",
       "      <td>[15]</td>\n",
       "    </tr>\n",
       "    <tr>\n",
       "      <th>57081</th>\n",
       "      <td>aut_57091</td>\n",
       "      <td>[France]</td>\n",
       "      <td>[Isabelle]</td>\n",
       "      <td>[Munoz]</td>\n",
       "      <td>[3]</td>\n",
       "    </tr>\n",
       "    <tr>\n",
       "      <th>57082</th>\n",
       "      <td>aut_57092</td>\n",
       "      <td>[United States]</td>\n",
       "      <td>[Isabelle M.]</td>\n",
       "      <td>[Nilsson]</td>\n",
       "      <td>[25]</td>\n",
       "    </tr>\n",
       "    <tr>\n",
       "      <th>57083</th>\n",
       "      <td>aut_57093</td>\n",
       "      <td>[Canada]</td>\n",
       "      <td>[Isabelle]</td>\n",
       "      <td>[Pagé]</td>\n",
       "      <td>[40]</td>\n",
       "    </tr>\n",
       "    <tr>\n",
       "      <th>57084</th>\n",
       "      <td>aut_57094</td>\n",
       "      <td>[Canada]</td>\n",
       "      <td>[Isabelle]</td>\n",
       "      <td>[Pitrou]</td>\n",
       "      <td>[31]</td>\n",
       "    </tr>\n",
       "    <tr>\n",
       "      <th>57085</th>\n",
       "      <td>aut_57095</td>\n",
       "      <td>[France]</td>\n",
       "      <td>[Isabelle]</td>\n",
       "      <td>[Polaert]</td>\n",
       "      <td>[46]</td>\n",
       "    </tr>\n",
       "    <tr>\n",
       "      <th>57086</th>\n",
       "      <td>aut_57096</td>\n",
       "      <td>[France]</td>\n",
       "      <td>[Isabelle]</td>\n",
       "      <td>[Récoché]</td>\n",
       "      <td>[4]</td>\n",
       "    </tr>\n",
       "    <tr>\n",
       "      <th>57087</th>\n",
       "      <td>aut_57097</td>\n",
       "      <td>[Belgium]</td>\n",
       "      <td>[Isabelle]</td>\n",
       "      <td>[Simoes Loureiro]</td>\n",
       "      <td>[17]</td>\n",
       "    </tr>\n",
       "    <tr>\n",
       "      <th>57088</th>\n",
       "      <td>aut_57098</td>\n",
       "      <td>[Belgium]</td>\n",
       "      <td>[Isabelle A.]</td>\n",
       "      <td>[Sioen]</td>\n",
       "      <td>[157]</td>\n",
       "    </tr>\n",
       "  </tbody>\n",
       "</table>\n",
       "</div>"
      ],
      "text/plain": [
       "       author_id          country          given             family doc_count\n",
       "57079  aut_57084         [Canada]     [Isabelle]             [Jean]       [9]\n",
       "57080  aut_57090         [France]     [Isabelle]          [Mirouze]      [15]\n",
       "57081  aut_57091         [France]     [Isabelle]            [Munoz]       [3]\n",
       "57082  aut_57092  [United States]  [Isabelle M.]          [Nilsson]      [25]\n",
       "57083  aut_57093         [Canada]     [Isabelle]             [Pagé]      [40]\n",
       "57084  aut_57094         [Canada]     [Isabelle]           [Pitrou]      [31]\n",
       "57085  aut_57095         [France]     [Isabelle]          [Polaert]      [46]\n",
       "57086  aut_57096         [France]     [Isabelle]          [Récoché]       [4]\n",
       "57087  aut_57097        [Belgium]     [Isabelle]  [Simoes Loureiro]      [17]\n",
       "57088  aut_57098        [Belgium]  [Isabelle A.]            [Sioen]     [157]"
      ]
     },
     "execution_count": 21,
     "metadata": {},
     "output_type": "execute_result"
    }
   ],
   "source": [
    "# Proof of missing:\n",
    "\n",
    "pd.DataFrame(author_out_list)[57079:57089]"
   ]
  },
  {
   "cell_type": "code",
   "execution_count": 27,
   "metadata": {},
   "outputs": [],
   "source": [
    "first_author_input_dict_take8 = q1_first_author_df.drop([\"aut_4915\", \"aut_14163\", \"aut_18315\", \"aut_23897\",\"aut_112348\", \"aut_48200\", \"aut_124149\"])[[\"new_given\",\"new_family\",\"SA_list\"]][57080:57085].to_dict(\"index\")"
   ]
  },
  {
   "cell_type": "code",
   "execution_count": 28,
   "metadata": {},
   "outputs": [
    {
     "name": "stdout",
     "output_type": "stream",
     "text": [
      "Loop save complete!\n",
      "Changed API key, now using key: 92975ea2d964ac570219d520aaad1d41\n"
     ]
    }
   ],
   "source": [
    "# Full Loop - Take 8:\n",
    "# Fixed API keys lists\n",
    "\n",
    "#author_out_list= list()\n",
    "\n",
    "avail_api_keys_list = [\"92975ea2d964ac570219d520aaad1d41\",\"c8eab163448aa6bd54fa97af700a939b\",\"396d5385a697326c03800cf37ca4f1a2\",\"8a9a5beb728f47b401fd145e1bb035ba\",\"cfbe1762b57a3310906c53bbbb3a68e5\",\n",
    "\"7b6016e18d538a15806f172d0ac7a0cd\",\"5d30dea104b6b7c33f6a120619fdbc6e\",\"e6cc81dc4b558be9892fa4e0715822a1\",\"da2094a93eb167105699cfb6c47466b6\",\"a323957ad88e129d8bae2c7b2fd0e63a\",\"a809d51349b6a614581cf57493dc0c94\",\"f36f0ccc1554186bb009e9ca7b3c14c0\",\"a1d21854963d1cca62742c56b5f7633d\",\"f3bdebaa3f41b7443d8d9d8983c00479\",\"bfaac6eb78a88e97874fa1d0bfd8c63e\",\n",
    "\"546932c3fcd8e21fbc6eab08010b9f44\",\"0599d76680c29c71e028fc9b77b0c063\",\"baaa9e51f8a49461352af25710719157\",\"30195f0b2192052a36bcab9ce3c4064f\",\"b7e95f5ea731eb5c9e84e7a1d499f50e\",\"8707db153e4b9672fa6df25b03a5f747\",\"2dab4694b4347fa574d159bb97484fc4\",\"6af3d2c09eb08ec6e12f0cead9a1f5bb\",\"3872e798bf48fa28af583b9ebef5deb6\",\"1473c31dbcdb425f9cdaf75c673279d3\"]\n",
    "\n",
    "used_api_keys_list = [\"6ae4b5181b374f521e60d2ef4be73ec5\", \"c14e197a4982e7349247b189ff26da45\", \"fbc5e06467522a07f93e247a24d89d3b\", \"63db00d1e8f7e5a5ef223abad3858dfe\",\"3f453389d0cada327703d787cd41b4ec\",\"e989f6eb6ea2a19b104eed28efe11071\",\n",
    "\"784ab6b22d3148f3d3f94a75596d0633\",\"1a3f1a762b1e2abec678b08f4d7a1038\",\"53acda4267b6a5a9a6a87b8767aa8cc6\",\"9289c787b0d98e1a5a7a7fb58e102e1a\",\"1bf711a2bc396e7e99340bdaf2ba29d0\",\"3bd33d7e35df95cc6dc576fd67e7356d\",\n",
    "\"e481b6eef24800668a6ee5ea576c1f97\"]\n",
    "\n",
    "client = ElsClient(\"563df86d8ae1a6e62e0f0e4278a45cb9\")\n",
    "\n",
    "for auth_id in first_author_input_dict_take8:\n",
    "    given_in = first_author_input_dict_take8[auth_id][\"new_given\"]\n",
    "    family_in = first_author_input_dict_take8[auth_id][\"new_family\"]\n",
    "    sa_in = first_author_input_dict_take8[auth_id][\"SA_list\"]\n",
    "\n",
    "    try:\n",
    "        auth_srch = ElsSearch(f'AUTHLAST({family_in}) AND AUTHFIRST({given_in}) AND {sbj_area_query_creator(sa_in)}','author')\n",
    "        auth_srch.execute(client)\n",
    "    except:\n",
    "        if len(avail_api_keys_list) >0:\n",
    "            with open(\"author_out_list_loop_save\",\"wb\") as p:\n",
    "                pickle.dump(author_out_list, p)\n",
    "            print(\"Loop save complete!\")\n",
    "            new_key = avail_api_keys_list.pop(0)            \n",
    "            client = ElsClient(new_key)\n",
    "\n",
    "            print(f\"Changed API key, now using key: {new_key}\")\n",
    "            used_api_keys_list.append(new_key)\n",
    "\n",
    "            auth_srch = ElsSearch(f'AUTHLAST({family_in}) AND AUTHFIRST({given_in}) AND {sbj_area_query_creator(sa_in)}','author')\n",
    "            auth_srch.execute(client)\n",
    "\n",
    "        else:\n",
    "            print(\"No available API keys to use!\")\n",
    "            break\n",
    "\n",
    "\n",
    "    country_out = list()\n",
    "    given_out = list()\n",
    "    family_out = list()\n",
    "    doc_count_out = list()\n",
    "\n",
    "    for auth in auth_srch.results:\n",
    "        # Country:\n",
    "        try:\n",
    "            country_out.append(auth['affiliation-current']['affiliation-country'])\n",
    "        except:\n",
    "            pass\n",
    "\n",
    "        # Given:\n",
    "        try:\n",
    "            given_out.append(auth['preferred-name']['given-name'])\n",
    "        except:\n",
    "            pass\n",
    "\n",
    "        # Family:\n",
    "        try:\n",
    "            family_out.append(auth['preferred-name']['surname'])\n",
    "        except:\n",
    "            pass\n",
    "\n",
    "        # Doc Count:\n",
    "        try:\n",
    "            doc_count_out.append(auth['document-count'])\n",
    "        except:\n",
    "            pass\n",
    "\n",
    "    \n",
    "    author_out_dict = dict(author_id=auth_id, country=country_out, given=given_out, family=family_out, doc_count=doc_count_out)\n",
    "\n",
    "    author_out_list.append(author_out_dict)\n",
    "\n",
    "\n"
   ]
  },
  {
   "cell_type": "code",
   "execution_count": 31,
   "metadata": {},
   "outputs": [
    {
     "data": {
      "text/html": [
       "<div>\n",
       "<style scoped>\n",
       "    .dataframe tbody tr th:only-of-type {\n",
       "        vertical-align: middle;\n",
       "    }\n",
       "\n",
       "    .dataframe tbody tr th {\n",
       "        vertical-align: top;\n",
       "    }\n",
       "\n",
       "    .dataframe thead th {\n",
       "        text-align: right;\n",
       "    }\n",
       "</style>\n",
       "<table border=\"1\" class=\"dataframe\">\n",
       "  <thead>\n",
       "    <tr style=\"text-align: right;\">\n",
       "      <th></th>\n",
       "      <th>author_id</th>\n",
       "      <th>country</th>\n",
       "      <th>given</th>\n",
       "      <th>family</th>\n",
       "      <th>doc_count</th>\n",
       "    </tr>\n",
       "  </thead>\n",
       "  <tbody>\n",
       "    <tr>\n",
       "      <th>63754</th>\n",
       "      <td>aut_63764</td>\n",
       "      <td>[China, China, China]</td>\n",
       "      <td>[Jiaquan, Jiaquan, Jiaquan]</td>\n",
       "      <td>[Zhang, Zhang, Zhang]</td>\n",
       "      <td>[165, 76, 4]</td>\n",
       "    </tr>\n",
       "    <tr>\n",
       "      <th>63755</th>\n",
       "      <td>aut_63765</td>\n",
       "      <td>[China]</td>\n",
       "      <td>[Jiaqun]</td>\n",
       "      <td>[Wei]</td>\n",
       "      <td>[70]</td>\n",
       "    </tr>\n",
       "    <tr>\n",
       "      <th>63756</th>\n",
       "      <td>aut_63766</td>\n",
       "      <td>[China, United Kingdom, China, Japan, China, C...</td>\n",
       "      <td>[Jiarong, Jiarong, Jiarong, Jiarong, Jiarong, ...</td>\n",
       "      <td>[Chen, Chen, Chen, Chen, Chen, Chen, Chen, Che...</td>\n",
       "      <td>[174, 22, 12, 7, 6, 5, 3, 1, 1, 1]</td>\n",
       "    </tr>\n",
       "    <tr>\n",
       "      <th>63757</th>\n",
       "      <td>aut_63767</td>\n",
       "      <td>[China, China, China, China, China]</td>\n",
       "      <td>[Jiayi, Jiarong, Jiarong, Jiarong, Jiarong]</td>\n",
       "      <td>[Li, Li, Li, Li, Li]</td>\n",
       "      <td>[217, 25, 18, 11, 1]</td>\n",
       "    </tr>\n",
       "    <tr>\n",
       "      <th>63758</th>\n",
       "      <td>aut_63768</td>\n",
       "      <td>[China]</td>\n",
       "      <td>[Jiarong]</td>\n",
       "      <td>[Liu]</td>\n",
       "      <td>[20]</td>\n",
       "    </tr>\n",
       "    <tr>\n",
       "      <th>63759</th>\n",
       "      <td>aut_57085</td>\n",
       "      <td>[Switzerland]</td>\n",
       "      <td>[Isabelle]</td>\n",
       "      <td>[Krummenacher]</td>\n",
       "      <td>[6]</td>\n",
       "    </tr>\n",
       "    <tr>\n",
       "      <th>63760</th>\n",
       "      <td>aut_57086</td>\n",
       "      <td>[Canada]</td>\n",
       "      <td>[Isabelle]</td>\n",
       "      <td>[Laforest-Lapointe]</td>\n",
       "      <td>[23]</td>\n",
       "    </tr>\n",
       "    <tr>\n",
       "      <th>63761</th>\n",
       "      <td>aut_57087</td>\n",
       "      <td>[Canada]</td>\n",
       "      <td>[Isabelle]</td>\n",
       "      <td>[Masseau]</td>\n",
       "      <td>[39]</td>\n",
       "    </tr>\n",
       "    <tr>\n",
       "      <th>63762</th>\n",
       "      <td>aut_57088</td>\n",
       "      <td>[France, Canada, Brazil]</td>\n",
       "      <td>[Isabelle, Isabelle, Isabelle Maria Jaqueline]</td>\n",
       "      <td>[Meunier, Meunier, Meunier]</td>\n",
       "      <td>[108, 12, 2]</td>\n",
       "    </tr>\n",
       "    <tr>\n",
       "      <th>63763</th>\n",
       "      <td>aut_57089</td>\n",
       "      <td>[Canada]</td>\n",
       "      <td>[Isabelle]</td>\n",
       "      <td>[Michaud-Létourneau]</td>\n",
       "      <td>[9]</td>\n",
       "    </tr>\n",
       "  </tbody>\n",
       "</table>\n",
       "</div>"
      ],
      "text/plain": [
       "       author_id                                            country  \\\n",
       "63754  aut_63764                              [China, China, China]   \n",
       "63755  aut_63765                                            [China]   \n",
       "63756  aut_63766  [China, United Kingdom, China, Japan, China, C...   \n",
       "63757  aut_63767                [China, China, China, China, China]   \n",
       "63758  aut_63768                                            [China]   \n",
       "63759  aut_57085                                      [Switzerland]   \n",
       "63760  aut_57086                                           [Canada]   \n",
       "63761  aut_57087                                           [Canada]   \n",
       "63762  aut_57088                           [France, Canada, Brazil]   \n",
       "63763  aut_57089                                           [Canada]   \n",
       "\n",
       "                                                   given  \\\n",
       "63754                        [Jiaquan, Jiaquan, Jiaquan]   \n",
       "63755                                           [Jiaqun]   \n",
       "63756  [Jiarong, Jiarong, Jiarong, Jiarong, Jiarong, ...   \n",
       "63757        [Jiayi, Jiarong, Jiarong, Jiarong, Jiarong]   \n",
       "63758                                          [Jiarong]   \n",
       "63759                                         [Isabelle]   \n",
       "63760                                         [Isabelle]   \n",
       "63761                                         [Isabelle]   \n",
       "63762     [Isabelle, Isabelle, Isabelle Maria Jaqueline]   \n",
       "63763                                         [Isabelle]   \n",
       "\n",
       "                                                  family  \\\n",
       "63754                              [Zhang, Zhang, Zhang]   \n",
       "63755                                              [Wei]   \n",
       "63756  [Chen, Chen, Chen, Chen, Chen, Chen, Chen, Che...   \n",
       "63757                               [Li, Li, Li, Li, Li]   \n",
       "63758                                              [Liu]   \n",
       "63759                                     [Krummenacher]   \n",
       "63760                                [Laforest-Lapointe]   \n",
       "63761                                          [Masseau]   \n",
       "63762                        [Meunier, Meunier, Meunier]   \n",
       "63763                               [Michaud-Létourneau]   \n",
       "\n",
       "                                doc_count  \n",
       "63754                        [165, 76, 4]  \n",
       "63755                                [70]  \n",
       "63756  [174, 22, 12, 7, 6, 5, 3, 1, 1, 1]  \n",
       "63757                [217, 25, 18, 11, 1]  \n",
       "63758                                [20]  \n",
       "63759                                 [6]  \n",
       "63760                                [23]  \n",
       "63761                                [39]  \n",
       "63762                        [108, 12, 2]  \n",
       "63763                                 [9]  "
      ]
     },
     "execution_count": 31,
     "metadata": {},
     "output_type": "execute_result"
    }
   ],
   "source": [
    "pd.DataFrame(author_out_list).tail(10)"
   ]
  },
  {
   "cell_type": "code",
   "execution_count": 38,
   "metadata": {},
   "outputs": [],
   "source": [
    "with open(\"author_out_list\",\"wb\") as p:\n",
    "    pickle.dump(author_out_list, p)"
   ]
  },
  {
   "cell_type": "markdown",
   "metadata": {},
   "source": [
    "#### Take 9:"
   ]
  },
  {
   "cell_type": "code",
   "execution_count": 37,
   "metadata": {},
   "outputs": [],
   "source": [
    "first_author_input_dict_take9 = q1_first_author_df.drop([\"aut_4915\", \"aut_14163\", \"aut_18315\", \"aut_23897\", \"aut_48200\", \"aut_112348\", \"aut_124149\"])[[\"new_given\",\"new_family\",\"SA_list\"]][63764:].to_dict(\"index\")"
   ]
  },
  {
   "cell_type": "code",
   "execution_count": 39,
   "metadata": {},
   "outputs": [
    {
     "name": "stdout",
     "output_type": "stream",
     "text": [
      "Loop save complete!\n",
      "Changed API key, now using key: 92975ea2d964ac570219d520aaad1d41\n"
     ]
    }
   ],
   "source": [
    "# Full Loop - Take 9:\n",
    "# Fixed API keys lists\n",
    "\n",
    "#author_out_list= list()\n",
    "\n",
    "avail_api_keys_list = [\"92975ea2d964ac570219d520aaad1d41\",\"c8eab163448aa6bd54fa97af700a939b\",\"396d5385a697326c03800cf37ca4f1a2\",\"8a9a5beb728f47b401fd145e1bb035ba\",\"cfbe1762b57a3310906c53bbbb3a68e5\",\n",
    "\"7b6016e18d538a15806f172d0ac7a0cd\",\"5d30dea104b6b7c33f6a120619fdbc6e\",\"e6cc81dc4b558be9892fa4e0715822a1\",\"da2094a93eb167105699cfb6c47466b6\",\"a323957ad88e129d8bae2c7b2fd0e63a\",\"a809d51349b6a614581cf57493dc0c94\",\"f36f0ccc1554186bb009e9ca7b3c14c0\",\"a1d21854963d1cca62742c56b5f7633d\",\"f3bdebaa3f41b7443d8d9d8983c00479\",\"bfaac6eb78a88e97874fa1d0bfd8c63e\",\n",
    "\"546932c3fcd8e21fbc6eab08010b9f44\",\"0599d76680c29c71e028fc9b77b0c063\",\"baaa9e51f8a49461352af25710719157\",\"30195f0b2192052a36bcab9ce3c4064f\",\"b7e95f5ea731eb5c9e84e7a1d499f50e\",\"8707db153e4b9672fa6df25b03a5f747\",\"2dab4694b4347fa574d159bb97484fc4\",\"6af3d2c09eb08ec6e12f0cead9a1f5bb\",\"3872e798bf48fa28af583b9ebef5deb6\",\"1473c31dbcdb425f9cdaf75c673279d3\"]\n",
    "\n",
    "used_api_keys_list = [\"6ae4b5181b374f521e60d2ef4be73ec5\", \"c14e197a4982e7349247b189ff26da45\", \"fbc5e06467522a07f93e247a24d89d3b\", \"63db00d1e8f7e5a5ef223abad3858dfe\",\"3f453389d0cada327703d787cd41b4ec\",\"e989f6eb6ea2a19b104eed28efe11071\",\n",
    "\"784ab6b22d3148f3d3f94a75596d0633\",\"1a3f1a762b1e2abec678b08f4d7a1038\",\"53acda4267b6a5a9a6a87b8767aa8cc6\",\"9289c787b0d98e1a5a7a7fb58e102e1a\",\"1bf711a2bc396e7e99340bdaf2ba29d0\",\"3bd33d7e35df95cc6dc576fd67e7356d\",\n",
    "\"e481b6eef24800668a6ee5ea576c1f97\",\"563df86d8ae1a6e62e0f0e4278a45cb9\"]\n",
    "\n",
    "client = ElsClient(\"92975ea2d964ac570219d520aaad1d41\")\n",
    "\n",
    "for auth_id in first_author_input_dict_take9:\n",
    "    given_in = first_author_input_dict_take9[auth_id][\"new_given\"]\n",
    "    family_in = first_author_input_dict_take9[auth_id][\"new_family\"]\n",
    "    sa_in = first_author_input_dict_take9[auth_id][\"SA_list\"]\n",
    "\n",
    "    try:\n",
    "        auth_srch = ElsSearch(f'AUTHLAST({family_in}) AND AUTHFIRST({given_in}) AND {sbj_area_query_creator(sa_in)}','author')\n",
    "        auth_srch.execute(client)\n",
    "    except:\n",
    "        if len(avail_api_keys_list) >0:\n",
    "            with open(\"author_out_list_loop_save\",\"wb\") as p:\n",
    "                pickle.dump(author_out_list, p)\n",
    "            print(\"Loop save complete!\")\n",
    "            new_key = avail_api_keys_list.pop(0)            \n",
    "            client = ElsClient(new_key)\n",
    "\n",
    "            print(f\"Changed API key, now using key: {new_key}\")\n",
    "            used_api_keys_list.append(new_key)\n",
    "\n",
    "            auth_srch = ElsSearch(f'AUTHLAST({family_in}) AND AUTHFIRST({given_in}) AND {sbj_area_query_creator(sa_in)}','author')\n",
    "            auth_srch.execute(client)\n",
    "\n",
    "        else:\n",
    "            print(\"No available API keys to use!\")\n",
    "            break\n",
    "\n",
    "\n",
    "    country_out = list()\n",
    "    given_out = list()\n",
    "    family_out = list()\n",
    "    doc_count_out = list()\n",
    "\n",
    "    for auth in auth_srch.results:\n",
    "        # Country:\n",
    "        try:\n",
    "            country_out.append(auth['affiliation-current']['affiliation-country'])\n",
    "        except:\n",
    "            pass\n",
    "\n",
    "        # Given:\n",
    "        try:\n",
    "            given_out.append(auth['preferred-name']['given-name'])\n",
    "        except:\n",
    "            pass\n",
    "\n",
    "        # Family:\n",
    "        try:\n",
    "            family_out.append(auth['preferred-name']['surname'])\n",
    "        except:\n",
    "            pass\n",
    "\n",
    "        # Doc Count:\n",
    "        try:\n",
    "            doc_count_out.append(auth['document-count'])\n",
    "        except:\n",
    "            pass\n",
    "\n",
    "    \n",
    "    author_out_dict = dict(author_id=auth_id, country=country_out, given=given_out, family=family_out, doc_count=doc_count_out)\n",
    "\n",
    "    author_out_list.append(author_out_dict)\n",
    "\n",
    "\n"
   ]
  },
  {
   "cell_type": "markdown",
   "metadata": {},
   "source": [
    "Had kernel issues, the run was wasted...\n",
    "\n",
    "Will restart PC & start a new loop"
   ]
  },
  {
   "cell_type": "markdown",
   "metadata": {},
   "source": [
    "#### Take 10:"
   ]
  },
  {
   "cell_type": "code",
   "execution_count": 3,
   "metadata": {},
   "outputs": [],
   "source": [
    "# Restarted the PC, re-loading variables:\n",
    "\n",
    "with open(\"author_out_list\", \"rb\") as fp:\n",
    "    author_out_list = pickle.load(fp)\n",
    "\n",
    "with open(\"q1_first_author_df\", \"rb\") as fp:\n",
    "    q1_first_author_df = pickle.load(fp)\n",
    "\n",
    "with open(\"author_out_list_loop_save\", \"rb\") as fp:\n",
    "    author_out_list_loop_save = pickle.load(fp)\n"
   ]
  },
  {
   "cell_type": "code",
   "execution_count": 10,
   "metadata": {},
   "outputs": [],
   "source": [
    "first_author_input_dict_take10 = q1_first_author_df.drop([\"aut_4915\", \"aut_14163\", \"aut_18315\", \"aut_23897\", \"aut_48200\", \"aut_112348\", \"aut_124149\"])[[\"new_given\",\"new_family\",\"SA_list\"]][63764:].to_dict(\"index\")"
   ]
  },
  {
   "cell_type": "code",
   "execution_count": 11,
   "metadata": {},
   "outputs": [
    {
     "name": "stdout",
     "output_type": "stream",
     "text": [
      "Loop save complete!\n",
      "Changed API key, now using key: 92975ea2d964ac570219d520aaad1d41\n",
      "Loop save complete!\n",
      "Changed API key, now using key: c8eab163448aa6bd54fa97af700a939b\n",
      "Loop save complete!\n",
      "Changed API key, now using key: 396d5385a697326c03800cf37ca4f1a2\n",
      "Loop save complete!\n",
      "Changed API key, now using key: 8a9a5beb728f47b401fd145e1bb035ba\n",
      "Loop save complete!\n",
      "Changed API key, now using key: cfbe1762b57a3310906c53bbbb3a68e5\n",
      "Loop save complete!\n",
      "Changed API key, now using key: 7b6016e18d538a15806f172d0ac7a0cd\n"
     ]
    },
    {
     "ename": "HTTPError",
     "evalue": "HTTP 400 Error from https://api.elsevier.com/content/search/author?query=AUTHLAST%28mutu+%28ng%C4%81ti+kahu%2C+te+rarawa+and+ng%C4%81%29+AND+AUTHFIRST%28margaret%29+AND+SUBJAREA%28MULT%29\nand using headers {'X-ELS-APIKey': '7b6016e18d538a15806f172d0ac7a0cd', 'User-Agent': 'elsapy-v0.5.0', 'Accept': 'application/json'}:\n{\"service-error\":{\"status\":{\"statusCode\":\"INVALID_INPUT\",\"statusText\":\"Error translating query\"}}}",
     "output_type": "error",
     "traceback": [
      "\u001b[1;31m---------------------------------------------------------------------------\u001b[0m",
      "\u001b[1;31mHTTPError\u001b[0m                                 Traceback (most recent call last)",
      "\u001b[1;32m<ipython-input-11-6fc88a9e50f9>\u001b[0m in \u001b[0;36m<module>\u001b[1;34m\u001b[0m\n\u001b[0;32m     22\u001b[0m         \u001b[0mauth_srch\u001b[0m \u001b[1;33m=\u001b[0m \u001b[0mElsSearch\u001b[0m\u001b[1;33m(\u001b[0m\u001b[1;34mf'AUTHLAST({family_in}) AND AUTHFIRST({given_in}) AND {sbj_area_query_creator(sa_in)}'\u001b[0m\u001b[1;33m,\u001b[0m\u001b[1;34m'author'\u001b[0m\u001b[1;33m)\u001b[0m\u001b[1;33m\u001b[0m\u001b[1;33m\u001b[0m\u001b[0m\n\u001b[1;32m---> 23\u001b[1;33m         \u001b[0mauth_srch\u001b[0m\u001b[1;33m.\u001b[0m\u001b[0mexecute\u001b[0m\u001b[1;33m(\u001b[0m\u001b[0mclient\u001b[0m\u001b[1;33m)\u001b[0m\u001b[1;33m\u001b[0m\u001b[1;33m\u001b[0m\u001b[0m\n\u001b[0m\u001b[0;32m     24\u001b[0m     \u001b[1;32mexcept\u001b[0m\u001b[1;33m:\u001b[0m\u001b[1;33m\u001b[0m\u001b[1;33m\u001b[0m\u001b[0m\n",
      "\u001b[1;32mc:\\Users\\oguzk\\anaconda3\\lib\\site-packages\\elsapy\\elssearch.py\u001b[0m in \u001b[0;36mexecute\u001b[1;34m(self, els_client, get_all)\u001b[0m\n\u001b[0;32m     94\u001b[0m         \u001b[1;31m## TODO: add exception handling\u001b[0m\u001b[1;33m\u001b[0m\u001b[1;33m\u001b[0m\u001b[1;33m\u001b[0m\u001b[0m\n\u001b[1;32m---> 95\u001b[1;33m         \u001b[0mapi_response\u001b[0m \u001b[1;33m=\u001b[0m \u001b[0mels_client\u001b[0m\u001b[1;33m.\u001b[0m\u001b[0mexec_request\u001b[0m\u001b[1;33m(\u001b[0m\u001b[0mself\u001b[0m\u001b[1;33m.\u001b[0m\u001b[0m_uri\u001b[0m\u001b[1;33m)\u001b[0m\u001b[1;33m\u001b[0m\u001b[1;33m\u001b[0m\u001b[0m\n\u001b[0m\u001b[0;32m     96\u001b[0m         \u001b[0mself\u001b[0m\u001b[1;33m.\u001b[0m\u001b[0m_tot_num_res\u001b[0m \u001b[1;33m=\u001b[0m \u001b[0mint\u001b[0m\u001b[1;33m(\u001b[0m\u001b[0mapi_response\u001b[0m\u001b[1;33m[\u001b[0m\u001b[1;34m'search-results'\u001b[0m\u001b[1;33m]\u001b[0m\u001b[1;33m[\u001b[0m\u001b[1;34m'opensearch:totalResults'\u001b[0m\u001b[1;33m]\u001b[0m\u001b[1;33m)\u001b[0m\u001b[1;33m\u001b[0m\u001b[1;33m\u001b[0m\u001b[0m\n",
      "\u001b[1;32mc:\\Users\\oguzk\\anaconda3\\lib\\site-packages\\elsapy\\elsclient.py\u001b[0m in \u001b[0;36mexec_request\u001b[1;34m(self, URL)\u001b[0m\n\u001b[0;32m    120\u001b[0m             \u001b[0mself\u001b[0m\u001b[1;33m.\u001b[0m\u001b[0m_status_msg\u001b[0m\u001b[1;33m=\u001b[0m\u001b[1;34m\"HTTP \"\u001b[0m \u001b[1;33m+\u001b[0m \u001b[0mstr\u001b[0m\u001b[1;33m(\u001b[0m\u001b[0mr\u001b[0m\u001b[1;33m.\u001b[0m\u001b[0mstatus_code\u001b[0m\u001b[1;33m)\u001b[0m \u001b[1;33m+\u001b[0m \u001b[1;34m\" Error from \"\u001b[0m \u001b[1;33m+\u001b[0m \u001b[0mURL\u001b[0m \u001b[1;33m+\u001b[0m \u001b[1;34m\" and using headers \"\u001b[0m \u001b[1;33m+\u001b[0m \u001b[0mstr\u001b[0m\u001b[1;33m(\u001b[0m\u001b[0mheaders\u001b[0m\u001b[1;33m)\u001b[0m \u001b[1;33m+\u001b[0m \u001b[1;34m\": \"\u001b[0m \u001b[1;33m+\u001b[0m \u001b[0mr\u001b[0m\u001b[1;33m.\u001b[0m\u001b[0mtext\u001b[0m\u001b[1;33m\u001b[0m\u001b[1;33m\u001b[0m\u001b[0m\n\u001b[1;32m--> 121\u001b[1;33m             \u001b[1;32mraise\u001b[0m \u001b[0mrequests\u001b[0m\u001b[1;33m.\u001b[0m\u001b[0mHTTPError\u001b[0m\u001b[1;33m(\u001b[0m\u001b[1;34m\"HTTP \"\u001b[0m \u001b[1;33m+\u001b[0m \u001b[0mstr\u001b[0m\u001b[1;33m(\u001b[0m\u001b[0mr\u001b[0m\u001b[1;33m.\u001b[0m\u001b[0mstatus_code\u001b[0m\u001b[1;33m)\u001b[0m \u001b[1;33m+\u001b[0m \u001b[1;34m\" Error from \"\u001b[0m \u001b[1;33m+\u001b[0m \u001b[0mURL\u001b[0m \u001b[1;33m+\u001b[0m \u001b[1;34m\"\\nand using headers \"\u001b[0m \u001b[1;33m+\u001b[0m \u001b[0mstr\u001b[0m\u001b[1;33m(\u001b[0m\u001b[0mheaders\u001b[0m\u001b[1;33m)\u001b[0m \u001b[1;33m+\u001b[0m \u001b[1;34m\":\\n\"\u001b[0m \u001b[1;33m+\u001b[0m \u001b[0mr\u001b[0m\u001b[1;33m.\u001b[0m\u001b[0mtext\u001b[0m\u001b[1;33m)\u001b[0m\u001b[1;33m\u001b[0m\u001b[1;33m\u001b[0m\u001b[0m\n\u001b[0m",
      "\u001b[1;31mHTTPError\u001b[0m: HTTP 400 Error from https://api.elsevier.com/content/search/author?query=AUTHLAST%28mutu+%28ng%C4%81ti+kahu%2C+te+rarawa+and+ng%C4%81%29+AND+AUTHFIRST%28margaret%29+AND+SUBJAREA%28MULT%29\nand using headers {'X-ELS-APIKey': 'cfbe1762b57a3310906c53bbbb3a68e5', 'User-Agent': 'elsapy-v0.5.0', 'Accept': 'application/json'}:\n{\"service-error\":{\"status\":{\"statusCode\":\"INVALID_INPUT\",\"statusText\":\"Error translating query\"}}}",
      "\nDuring handling of the above exception, another exception occurred:\n",
      "\u001b[1;31mHTTPError\u001b[0m                                 Traceback (most recent call last)",
      "\u001b[1;32m<ipython-input-11-6fc88a9e50f9>\u001b[0m in \u001b[0;36m<module>\u001b[1;34m\u001b[0m\n\u001b[0;32m     34\u001b[0m \u001b[1;33m\u001b[0m\u001b[0m\n\u001b[0;32m     35\u001b[0m             \u001b[0mauth_srch\u001b[0m \u001b[1;33m=\u001b[0m \u001b[0mElsSearch\u001b[0m\u001b[1;33m(\u001b[0m\u001b[1;34mf'AUTHLAST({family_in}) AND AUTHFIRST({given_in}) AND {sbj_area_query_creator(sa_in)}'\u001b[0m\u001b[1;33m,\u001b[0m\u001b[1;34m'author'\u001b[0m\u001b[1;33m)\u001b[0m\u001b[1;33m\u001b[0m\u001b[1;33m\u001b[0m\u001b[0m\n\u001b[1;32m---> 36\u001b[1;33m             \u001b[0mauth_srch\u001b[0m\u001b[1;33m.\u001b[0m\u001b[0mexecute\u001b[0m\u001b[1;33m(\u001b[0m\u001b[0mclient\u001b[0m\u001b[1;33m)\u001b[0m\u001b[1;33m\u001b[0m\u001b[1;33m\u001b[0m\u001b[0m\n\u001b[0m\u001b[0;32m     37\u001b[0m \u001b[1;33m\u001b[0m\u001b[0m\n\u001b[0;32m     38\u001b[0m         \u001b[1;32melse\u001b[0m\u001b[1;33m:\u001b[0m\u001b[1;33m\u001b[0m\u001b[1;33m\u001b[0m\u001b[0m\n",
      "\u001b[1;32mc:\\Users\\oguzk\\anaconda3\\lib\\site-packages\\elsapy\\elssearch.py\u001b[0m in \u001b[0;36mexecute\u001b[1;34m(self, els_client, get_all)\u001b[0m\n\u001b[0;32m     93\u001b[0m             all results for the search, up to a maximum of 5,000.\"\"\"\n\u001b[0;32m     94\u001b[0m         \u001b[1;31m## TODO: add exception handling\u001b[0m\u001b[1;33m\u001b[0m\u001b[1;33m\u001b[0m\u001b[1;33m\u001b[0m\u001b[0m\n\u001b[1;32m---> 95\u001b[1;33m         \u001b[0mapi_response\u001b[0m \u001b[1;33m=\u001b[0m \u001b[0mels_client\u001b[0m\u001b[1;33m.\u001b[0m\u001b[0mexec_request\u001b[0m\u001b[1;33m(\u001b[0m\u001b[0mself\u001b[0m\u001b[1;33m.\u001b[0m\u001b[0m_uri\u001b[0m\u001b[1;33m)\u001b[0m\u001b[1;33m\u001b[0m\u001b[1;33m\u001b[0m\u001b[0m\n\u001b[0m\u001b[0;32m     96\u001b[0m         \u001b[0mself\u001b[0m\u001b[1;33m.\u001b[0m\u001b[0m_tot_num_res\u001b[0m \u001b[1;33m=\u001b[0m \u001b[0mint\u001b[0m\u001b[1;33m(\u001b[0m\u001b[0mapi_response\u001b[0m\u001b[1;33m[\u001b[0m\u001b[1;34m'search-results'\u001b[0m\u001b[1;33m]\u001b[0m\u001b[1;33m[\u001b[0m\u001b[1;34m'opensearch:totalResults'\u001b[0m\u001b[1;33m]\u001b[0m\u001b[1;33m)\u001b[0m\u001b[1;33m\u001b[0m\u001b[1;33m\u001b[0m\u001b[0m\n\u001b[0;32m     97\u001b[0m         \u001b[0mself\u001b[0m\u001b[1;33m.\u001b[0m\u001b[0m_results\u001b[0m \u001b[1;33m=\u001b[0m \u001b[0mapi_response\u001b[0m\u001b[1;33m[\u001b[0m\u001b[1;34m'search-results'\u001b[0m\u001b[1;33m]\u001b[0m\u001b[1;33m[\u001b[0m\u001b[1;34m'entry'\u001b[0m\u001b[1;33m]\u001b[0m\u001b[1;33m\u001b[0m\u001b[1;33m\u001b[0m\u001b[0m\n",
      "\u001b[1;32mc:\\Users\\oguzk\\anaconda3\\lib\\site-packages\\elsapy\\elsclient.py\u001b[0m in \u001b[0;36mexec_request\u001b[1;34m(self, URL)\u001b[0m\n\u001b[0;32m    119\u001b[0m         \u001b[1;32melse\u001b[0m\u001b[1;33m:\u001b[0m\u001b[1;33m\u001b[0m\u001b[1;33m\u001b[0m\u001b[0m\n\u001b[0;32m    120\u001b[0m             \u001b[0mself\u001b[0m\u001b[1;33m.\u001b[0m\u001b[0m_status_msg\u001b[0m\u001b[1;33m=\u001b[0m\u001b[1;34m\"HTTP \"\u001b[0m \u001b[1;33m+\u001b[0m \u001b[0mstr\u001b[0m\u001b[1;33m(\u001b[0m\u001b[0mr\u001b[0m\u001b[1;33m.\u001b[0m\u001b[0mstatus_code\u001b[0m\u001b[1;33m)\u001b[0m \u001b[1;33m+\u001b[0m \u001b[1;34m\" Error from \"\u001b[0m \u001b[1;33m+\u001b[0m \u001b[0mURL\u001b[0m \u001b[1;33m+\u001b[0m \u001b[1;34m\" and using headers \"\u001b[0m \u001b[1;33m+\u001b[0m \u001b[0mstr\u001b[0m\u001b[1;33m(\u001b[0m\u001b[0mheaders\u001b[0m\u001b[1;33m)\u001b[0m \u001b[1;33m+\u001b[0m \u001b[1;34m\": \"\u001b[0m \u001b[1;33m+\u001b[0m \u001b[0mr\u001b[0m\u001b[1;33m.\u001b[0m\u001b[0mtext\u001b[0m\u001b[1;33m\u001b[0m\u001b[1;33m\u001b[0m\u001b[0m\n\u001b[1;32m--> 121\u001b[1;33m             \u001b[1;32mraise\u001b[0m \u001b[0mrequests\u001b[0m\u001b[1;33m.\u001b[0m\u001b[0mHTTPError\u001b[0m\u001b[1;33m(\u001b[0m\u001b[1;34m\"HTTP \"\u001b[0m \u001b[1;33m+\u001b[0m \u001b[0mstr\u001b[0m\u001b[1;33m(\u001b[0m\u001b[0mr\u001b[0m\u001b[1;33m.\u001b[0m\u001b[0mstatus_code\u001b[0m\u001b[1;33m)\u001b[0m \u001b[1;33m+\u001b[0m \u001b[1;34m\" Error from \"\u001b[0m \u001b[1;33m+\u001b[0m \u001b[0mURL\u001b[0m \u001b[1;33m+\u001b[0m \u001b[1;34m\"\\nand using headers \"\u001b[0m \u001b[1;33m+\u001b[0m \u001b[0mstr\u001b[0m\u001b[1;33m(\u001b[0m\u001b[0mheaders\u001b[0m\u001b[1;33m)\u001b[0m \u001b[1;33m+\u001b[0m \u001b[1;34m\":\\n\"\u001b[0m \u001b[1;33m+\u001b[0m \u001b[0mr\u001b[0m\u001b[1;33m.\u001b[0m\u001b[0mtext\u001b[0m\u001b[1;33m)\u001b[0m\u001b[1;33m\u001b[0m\u001b[1;33m\u001b[0m\u001b[0m\n\u001b[0m",
      "\u001b[1;31mHTTPError\u001b[0m: HTTP 400 Error from https://api.elsevier.com/content/search/author?query=AUTHLAST%28mutu+%28ng%C4%81ti+kahu%2C+te+rarawa+and+ng%C4%81%29+AND+AUTHFIRST%28margaret%29+AND+SUBJAREA%28MULT%29\nand using headers {'X-ELS-APIKey': '7b6016e18d538a15806f172d0ac7a0cd', 'User-Agent': 'elsapy-v0.5.0', 'Accept': 'application/json'}:\n{\"service-error\":{\"status\":{\"statusCode\":\"INVALID_INPUT\",\"statusText\":\"Error translating query\"}}}"
     ]
    }
   ],
   "source": [
    "# Full Loop - Take 10:\n",
    "# Fixed API keys lists\n",
    "\n",
    "#author_out_list= list()\n",
    "\n",
    "avail_api_keys_list = [\"92975ea2d964ac570219d520aaad1d41\",\"c8eab163448aa6bd54fa97af700a939b\",\"396d5385a697326c03800cf37ca4f1a2\",\"8a9a5beb728f47b401fd145e1bb035ba\",\"cfbe1762b57a3310906c53bbbb3a68e5\",\n",
    "\"7b6016e18d538a15806f172d0ac7a0cd\",\"5d30dea104b6b7c33f6a120619fdbc6e\",\"e6cc81dc4b558be9892fa4e0715822a1\",\"da2094a93eb167105699cfb6c47466b6\",\"a323957ad88e129d8bae2c7b2fd0e63a\",\"a809d51349b6a614581cf57493dc0c94\",\"f36f0ccc1554186bb009e9ca7b3c14c0\",\"a1d21854963d1cca62742c56b5f7633d\",\"f3bdebaa3f41b7443d8d9d8983c00479\",\"bfaac6eb78a88e97874fa1d0bfd8c63e\",\n",
    "\"546932c3fcd8e21fbc6eab08010b9f44\",\"0599d76680c29c71e028fc9b77b0c063\",\"baaa9e51f8a49461352af25710719157\",\"30195f0b2192052a36bcab9ce3c4064f\",\"b7e95f5ea731eb5c9e84e7a1d499f50e\",\"8707db153e4b9672fa6df25b03a5f747\",\"2dab4694b4347fa574d159bb97484fc4\",\"6af3d2c09eb08ec6e12f0cead9a1f5bb\",\"3872e798bf48fa28af583b9ebef5deb6\",\"1473c31dbcdb425f9cdaf75c673279d3\"]\n",
    "\n",
    "used_api_keys_list = [\"6ae4b5181b374f521e60d2ef4be73ec5\", \"c14e197a4982e7349247b189ff26da45\", \"fbc5e06467522a07f93e247a24d89d3b\", \"63db00d1e8f7e5a5ef223abad3858dfe\",\"3f453389d0cada327703d787cd41b4ec\",\"e989f6eb6ea2a19b104eed28efe11071\",\n",
    "\"784ab6b22d3148f3d3f94a75596d0633\",\"1a3f1a762b1e2abec678b08f4d7a1038\",\"53acda4267b6a5a9a6a87b8767aa8cc6\",\"9289c787b0d98e1a5a7a7fb58e102e1a\",\"1bf711a2bc396e7e99340bdaf2ba29d0\",\"3bd33d7e35df95cc6dc576fd67e7356d\",\n",
    "\"e481b6eef24800668a6ee5ea576c1f97\",\"563df86d8ae1a6e62e0f0e4278a45cb9\"]\n",
    "\n",
    "client = ElsClient(\"92975ea2d964ac570219d520aaad1d41\")\n",
    "\n",
    "for auth_id in first_author_input_dict_take10:\n",
    "    given_in = first_author_input_dict_take10[auth_id][\"new_given\"]\n",
    "    family_in = first_author_input_dict_take10[auth_id][\"new_family\"]\n",
    "    sa_in = first_author_input_dict_take10[auth_id][\"SA_list\"]\n",
    "\n",
    "    try:\n",
    "        auth_srch = ElsSearch(f'AUTHLAST({family_in}) AND AUTHFIRST({given_in}) AND {sbj_area_query_creator(sa_in)}','author')\n",
    "        auth_srch.execute(client)\n",
    "    except:\n",
    "        if len(avail_api_keys_list) >0:\n",
    "            with open(\"author_out_list_loop_save\",\"wb\") as p:\n",
    "                pickle.dump(author_out_list, p)\n",
    "            print(\"Loop save complete!\")\n",
    "            new_key = avail_api_keys_list.pop(0)            \n",
    "            client = ElsClient(new_key)\n",
    "\n",
    "            print(f\"Changed API key, now using key: {new_key}\")\n",
    "            used_api_keys_list.append(new_key)\n",
    "\n",
    "            auth_srch = ElsSearch(f'AUTHLAST({family_in}) AND AUTHFIRST({given_in}) AND {sbj_area_query_creator(sa_in)}','author')\n",
    "            auth_srch.execute(client)\n",
    "\n",
    "        else:\n",
    "            print(\"No available API keys to use!\")\n",
    "            break\n",
    "\n",
    "\n",
    "    country_out = list()\n",
    "    given_out = list()\n",
    "    family_out = list()\n",
    "    doc_count_out = list()\n",
    "\n",
    "    for auth in auth_srch.results:\n",
    "        # Country:\n",
    "        try:\n",
    "            country_out.append(auth['affiliation-current']['affiliation-country'])\n",
    "        except:\n",
    "            pass\n",
    "\n",
    "        # Given:\n",
    "        try:\n",
    "            given_out.append(auth['preferred-name']['given-name'])\n",
    "        except:\n",
    "            pass\n",
    "\n",
    "        # Family:\n",
    "        try:\n",
    "            family_out.append(auth['preferred-name']['surname'])\n",
    "        except:\n",
    "            pass\n",
    "\n",
    "        # Doc Count:\n",
    "        try:\n",
    "            doc_count_out.append(auth['document-count'])\n",
    "        except:\n",
    "            pass\n",
    "\n",
    "    \n",
    "    author_out_dict = dict(author_id=auth_id, country=country_out, given=given_out, family=family_out, doc_count=doc_count_out)\n",
    "\n",
    "    author_out_list.append(author_out_dict)\n",
    "\n",
    "\n"
   ]
  },
  {
   "cell_type": "code",
   "execution_count": 12,
   "metadata": {},
   "outputs": [
    {
     "data": {
      "text/html": [
       "<div>\n",
       "<style scoped>\n",
       "    .dataframe tbody tr th:only-of-type {\n",
       "        vertical-align: middle;\n",
       "    }\n",
       "\n",
       "    .dataframe tbody tr th {\n",
       "        vertical-align: top;\n",
       "    }\n",
       "\n",
       "    .dataframe thead th {\n",
       "        text-align: right;\n",
       "    }\n",
       "</style>\n",
       "<table border=\"1\" class=\"dataframe\">\n",
       "  <thead>\n",
       "    <tr style=\"text-align: right;\">\n",
       "      <th></th>\n",
       "      <th>author_id</th>\n",
       "      <th>country</th>\n",
       "      <th>given</th>\n",
       "      <th>family</th>\n",
       "      <th>doc_count</th>\n",
       "    </tr>\n",
       "  </thead>\n",
       "  <tbody>\n",
       "    <tr>\n",
       "      <th>0</th>\n",
       "      <td>aut_0</td>\n",
       "      <td>[China, China, China, Hong Kong]</td>\n",
       "      <td>[Jing, Jingheng, Jing, (Luna) Jing]</td>\n",
       "      <td>[Cai, Cai, Cai, Cai]</td>\n",
       "      <td>[23, 22, 1, 1]</td>\n",
       "    </tr>\n",
       "    <tr>\n",
       "      <th>1</th>\n",
       "      <td>aut_1</td>\n",
       "      <td>[United States, United States, United States, ...</td>\n",
       "      <td>[Qing, Qing, (Grace) Qing, Grace Qing]</td>\n",
       "      <td>[Hao, Hao, Hao, Hao]</td>\n",
       "      <td>[86, 11, 2, 1]</td>\n",
       "    </tr>\n",
       "    <tr>\n",
       "      <th>2</th>\n",
       "      <td>aut_2</td>\n",
       "      <td>[China, China, China, China, China, China, Chi...</td>\n",
       "      <td>[Yongquan, Yonghong, Yong, Dayong, Yongwu, Yon...</td>\n",
       "      <td>[Zhou, Zhou, Zhou, Zhou, Zhou, Zhou, Zhou, Zho...</td>\n",
       "      <td>[286, 220, 193, 170, 164, 151, 100, 92, 74, 64...</td>\n",
       "    </tr>\n",
       "    <tr>\n",
       "      <th>3</th>\n",
       "      <td>aut_3</td>\n",
       "      <td>[Italy, Italy, France, Nigeria, Malaysia, Saud...</td>\n",
       "      <td>[Andrea, Alessandro, Ado Adamou Abba, Hafizull...</td>\n",
       "      <td>[Abba, Abbà, Ari, Ahmed, Haruna, Abba, Abba, A...</td>\n",
       "      <td>[75, 65, 44, 19, 17, 15, 8, 3]</td>\n",
       "    </tr>\n",
       "    <tr>\n",
       "      <th>4</th>\n",
       "      <td>aut_4</td>\n",
       "      <td>[Italy]</td>\n",
       "      <td>[Antonella]</td>\n",
       "      <td>[Agodi]</td>\n",
       "      <td>[234]</td>\n",
       "    </tr>\n",
       "    <tr>\n",
       "      <th>...</th>\n",
       "      <td>...</td>\n",
       "      <td>...</td>\n",
       "      <td>...</td>\n",
       "      <td>...</td>\n",
       "      <td>...</td>\n",
       "    </tr>\n",
       "    <tr>\n",
       "      <th>85760</th>\n",
       "      <td>aut_85765</td>\n",
       "      <td>[Switzerland]</td>\n",
       "      <td>[Margaret M.]</td>\n",
       "      <td>[Kehoe]</td>\n",
       "      <td>[34]</td>\n",
       "    </tr>\n",
       "    <tr>\n",
       "      <th>85761</th>\n",
       "      <td>aut_85766</td>\n",
       "      <td>[Australia]</td>\n",
       "      <td>[Margaret Anne]</td>\n",
       "      <td>[Kelaher]</td>\n",
       "      <td>[169]</td>\n",
       "    </tr>\n",
       "    <tr>\n",
       "      <th>85762</th>\n",
       "      <td>aut_85767</td>\n",
       "      <td>[United States]</td>\n",
       "      <td>[Margaret T.]</td>\n",
       "      <td>[Lehman-Blake]</td>\n",
       "      <td>[7]</td>\n",
       "    </tr>\n",
       "    <tr>\n",
       "      <th>85763</th>\n",
       "      <td>aut_85768</td>\n",
       "      <td>[]</td>\n",
       "      <td>[]</td>\n",
       "      <td>[]</td>\n",
       "      <td>[]</td>\n",
       "    </tr>\n",
       "    <tr>\n",
       "      <th>85764</th>\n",
       "      <td>aut_85769</td>\n",
       "      <td>[Australia]</td>\n",
       "      <td>[Margaret A.]</td>\n",
       "      <td>[McGee]</td>\n",
       "      <td>[42]</td>\n",
       "    </tr>\n",
       "  </tbody>\n",
       "</table>\n",
       "<p>85765 rows × 5 columns</p>\n",
       "</div>"
      ],
      "text/plain": [
       "       author_id                                            country  \\\n",
       "0          aut_0                   [China, China, China, Hong Kong]   \n",
       "1          aut_1  [United States, United States, United States, ...   \n",
       "2          aut_2  [China, China, China, China, China, China, Chi...   \n",
       "3          aut_3  [Italy, Italy, France, Nigeria, Malaysia, Saud...   \n",
       "4          aut_4                                            [Italy]   \n",
       "...          ...                                                ...   \n",
       "85760  aut_85765                                      [Switzerland]   \n",
       "85761  aut_85766                                        [Australia]   \n",
       "85762  aut_85767                                    [United States]   \n",
       "85763  aut_85768                                                 []   \n",
       "85764  aut_85769                                        [Australia]   \n",
       "\n",
       "                                                   given  \\\n",
       "0                    [Jing, Jingheng, Jing, (Luna) Jing]   \n",
       "1                 [Qing, Qing, (Grace) Qing, Grace Qing]   \n",
       "2      [Yongquan, Yonghong, Yong, Dayong, Yongwu, Yon...   \n",
       "3      [Andrea, Alessandro, Ado Adamou Abba, Hafizull...   \n",
       "4                                            [Antonella]   \n",
       "...                                                  ...   \n",
       "85760                                      [Margaret M.]   \n",
       "85761                                    [Margaret Anne]   \n",
       "85762                                      [Margaret T.]   \n",
       "85763                                                 []   \n",
       "85764                                      [Margaret A.]   \n",
       "\n",
       "                                                  family  \\\n",
       "0                                   [Cai, Cai, Cai, Cai]   \n",
       "1                                   [Hao, Hao, Hao, Hao]   \n",
       "2      [Zhou, Zhou, Zhou, Zhou, Zhou, Zhou, Zhou, Zho...   \n",
       "3      [Abba, Abbà, Ari, Ahmed, Haruna, Abba, Abba, A...   \n",
       "4                                                [Agodi]   \n",
       "...                                                  ...   \n",
       "85760                                            [Kehoe]   \n",
       "85761                                          [Kelaher]   \n",
       "85762                                     [Lehman-Blake]   \n",
       "85763                                                 []   \n",
       "85764                                            [McGee]   \n",
       "\n",
       "                                               doc_count  \n",
       "0                                         [23, 22, 1, 1]  \n",
       "1                                         [86, 11, 2, 1]  \n",
       "2      [286, 220, 193, 170, 164, 151, 100, 92, 74, 64...  \n",
       "3                         [75, 65, 44, 19, 17, 15, 8, 3]  \n",
       "4                                                  [234]  \n",
       "...                                                  ...  \n",
       "85760                                               [34]  \n",
       "85761                                              [169]  \n",
       "85762                                                [7]  \n",
       "85763                                                 []  \n",
       "85764                                               [42]  \n",
       "\n",
       "[85765 rows x 5 columns]"
      ]
     },
     "execution_count": 12,
     "metadata": {},
     "output_type": "execute_result"
    }
   ],
   "source": [
    "pd.DataFrame(author_out_list)"
   ]
  },
  {
   "cell_type": "code",
   "execution_count": 6,
   "metadata": {},
   "outputs": [],
   "source": [
    "with open(\"author_out_list\",\"wb\") as p:\n",
    "    pickle.dump(author_out_list, p)"
   ]
  },
  {
   "cell_type": "code",
   "execution_count": 16,
   "metadata": {},
   "outputs": [
    {
     "data": {
      "text/plain": [
       "new_given                                margaret\n",
       "new_family    mutu (ngāti kahu, te rarawa and ngā\n",
       "SA_list                       [Multidisciplinary]\n",
       "DOI               [10.1080/03036758.2019.1669670]\n",
       "Name: aut_85770, dtype: object"
      ]
     },
     "execution_count": 16,
     "metadata": {},
     "output_type": "execute_result"
    }
   ],
   "source": [
    "q1_first_author_df.loc[\"aut_85770\",:]"
   ]
  },
  {
   "cell_type": "markdown",
   "metadata": {},
   "source": [
    "The record has \"(\" but not \")\" !\n",
    "Will be fixed manually below:"
   ]
  },
  {
   "cell_type": "code",
   "execution_count": 20,
   "metadata": {},
   "outputs": [
    {
     "data": {
      "text/html": [
       "<div>\n",
       "<style scoped>\n",
       "    .dataframe tbody tr th:only-of-type {\n",
       "        vertical-align: middle;\n",
       "    }\n",
       "\n",
       "    .dataframe tbody tr th {\n",
       "        vertical-align: top;\n",
       "    }\n",
       "\n",
       "    .dataframe thead th {\n",
       "        text-align: right;\n",
       "    }\n",
       "</style>\n",
       "<table border=\"1\" class=\"dataframe\">\n",
       "  <thead>\n",
       "    <tr style=\"text-align: right;\">\n",
       "      <th></th>\n",
       "      <th>new_given</th>\n",
       "      <th>new_family</th>\n",
       "      <th>SA_list</th>\n",
       "      <th>DOI</th>\n",
       "    </tr>\n",
       "    <tr>\n",
       "      <th>index</th>\n",
       "      <th></th>\n",
       "      <th></th>\n",
       "      <th></th>\n",
       "      <th></th>\n",
       "    </tr>\n",
       "  </thead>\n",
       "  <tbody>\n",
       "    <tr>\n",
       "      <th>aut_85770</th>\n",
       "      <td>margaret</td>\n",
       "      <td>mutu (ngāti kahu, te rarawa and ngā</td>\n",
       "      <td>[Multidisciplinary]</td>\n",
       "      <td>[10.1080/03036758.2019.1669670]</td>\n",
       "    </tr>\n",
       "  </tbody>\n",
       "</table>\n",
       "</div>"
      ],
      "text/plain": [
       "          new_given                           new_family              SA_list  \\\n",
       "index                                                                           \n",
       "aut_85770  margaret  mutu (ngāti kahu, te rarawa and ngā  [Multidisciplinary]   \n",
       "\n",
       "                                       DOI  \n",
       "index                                       \n",
       "aut_85770  [10.1080/03036758.2019.1669670]  "
      ]
     },
     "execution_count": 20,
     "metadata": {},
     "output_type": "execute_result"
    }
   ],
   "source": [
    "q1_first_author_df[q1_first_author_df.new_family.map(lambda x: bool(re.search(\"[\\(\\)]\",x)))]"
   ]
  },
  {
   "cell_type": "code",
   "execution_count": 21,
   "metadata": {},
   "outputs": [
    {
     "data": {
      "text/html": [
       "<div>\n",
       "<style scoped>\n",
       "    .dataframe tbody tr th:only-of-type {\n",
       "        vertical-align: middle;\n",
       "    }\n",
       "\n",
       "    .dataframe tbody tr th {\n",
       "        vertical-align: top;\n",
       "    }\n",
       "\n",
       "    .dataframe thead th {\n",
       "        text-align: right;\n",
       "    }\n",
       "</style>\n",
       "<table border=\"1\" class=\"dataframe\">\n",
       "  <thead>\n",
       "    <tr style=\"text-align: right;\">\n",
       "      <th></th>\n",
       "      <th>new_given</th>\n",
       "      <th>new_family</th>\n",
       "      <th>SA_list</th>\n",
       "      <th>DOI</th>\n",
       "    </tr>\n",
       "    <tr>\n",
       "      <th>index</th>\n",
       "      <th></th>\n",
       "      <th></th>\n",
       "      <th></th>\n",
       "      <th></th>\n",
       "    </tr>\n",
       "  </thead>\n",
       "  <tbody>\n",
       "  </tbody>\n",
       "</table>\n",
       "</div>"
      ],
      "text/plain": [
       "Empty DataFrame\n",
       "Columns: [new_given, new_family, SA_list, DOI]\n",
       "Index: []"
      ]
     },
     "execution_count": 21,
     "metadata": {},
     "output_type": "execute_result"
    }
   ],
   "source": [
    "q1_first_author_df[q1_first_author_df.new_given.map(lambda x: bool(re.search(\"[\\(\\)]\",x)))]"
   ]
  },
  {
   "cell_type": "code",
   "execution_count": 23,
   "metadata": {},
   "outputs": [],
   "source": [
    "q1_first_author_df.loc[\"aut_85770\",\"new_family\"] = \"mutu\""
   ]
  },
  {
   "cell_type": "markdown",
   "metadata": {},
   "source": [
    "#### Take 11:"
   ]
  },
  {
   "cell_type": "markdown",
   "metadata": {},
   "source": [
    "From now on, except for nightly updates, will just use this loop in case of connection errors"
   ]
  },
  {
   "cell_type": "code",
   "execution_count": 47,
   "metadata": {},
   "outputs": [],
   "source": [
    "first_author_input_dict_take11 = q1_first_author_df.drop([\"aut_4915\", \"aut_14163\", \"aut_18315\", \"aut_23897\", \"aut_48200\", \"aut_112348\", \"aut_124149\"])[[\"new_given\",\"new_family\",\"SA_list\"]][86571:].to_dict(\"index\")"
   ]
  },
  {
   "cell_type": "code",
   "execution_count": 48,
   "metadata": {},
   "outputs": [
    {
     "name": "stdout",
     "output_type": "stream",
     "text": [
      "Start Time = 10:39:16\n",
      "Loop save complete!\n",
      "Time = 11:14:56\n",
      "Changed API key, now using key: 7b6016e18d538a15806f172d0ac7a0cd\n",
      "Loop save complete!\n",
      "Time = 13:54:27\n",
      "Changed API key, now using key: 5d30dea104b6b7c33f6a120619fdbc6e\n",
      "Loop save complete!\n",
      "Time = 13:55:42\n",
      "Changed API key, now using key: e6cc81dc4b558be9892fa4e0715822a1\n",
      "Loop save complete!\n",
      "Time = 14:59:54\n",
      "Changed API key, now using key: da2094a93eb167105699cfb6c47466b6\n",
      "Loop save complete!\n",
      "Time = 18:27:33\n",
      "Changed API key, now using key: a323957ad88e129d8bae2c7b2fd0e63a\n",
      "Loop save complete!\n",
      "Time = 20:07:07\n",
      "Changed API key, now using key: a809d51349b6a614581cf57493dc0c94\n",
      "Loop save complete!\n",
      "Time = 20:11:28\n",
      "Changed API key, now using key: f36f0ccc1554186bb009e9ca7b3c14c0\n",
      "Loop save complete!\n",
      "Time = 20:21:51\n",
      "Changed API key, now using key: a1d21854963d1cca62742c56b5f7633d\n"
     ]
    },
    {
     "ename": "ConnectionError",
     "evalue": "('Connection aborted.', ConnectionResetError(10054, 'An existing connection was forcibly closed by the remote host', None, 10054, None))",
     "output_type": "error",
     "traceback": [
      "\u001b[1;31m---------------------------------------------------------------------------\u001b[0m",
      "\u001b[1;31mConnectionResetError\u001b[0m                      Traceback (most recent call last)",
      "\u001b[1;32mc:\\Users\\oguzk\\anaconda3\\lib\\site-packages\\urllib3\\connectionpool.py\u001b[0m in \u001b[0;36murlopen\u001b[1;34m(self, method, url, body, headers, retries, redirect, assert_same_host, timeout, pool_timeout, release_conn, chunked, body_pos, **response_kw)\u001b[0m\n\u001b[0;32m    698\u001b[0m             \u001b[1;31m# Make the request on the httplib connection object.\u001b[0m\u001b[1;33m\u001b[0m\u001b[1;33m\u001b[0m\u001b[1;33m\u001b[0m\u001b[0m\n\u001b[1;32m--> 699\u001b[1;33m             httplib_response = self._make_request(\n\u001b[0m\u001b[0;32m    700\u001b[0m                 \u001b[0mconn\u001b[0m\u001b[1;33m,\u001b[0m\u001b[1;33m\u001b[0m\u001b[1;33m\u001b[0m\u001b[0m\n",
      "\u001b[1;32mc:\\Users\\oguzk\\anaconda3\\lib\\site-packages\\urllib3\\connectionpool.py\u001b[0m in \u001b[0;36m_make_request\u001b[1;34m(self, conn, method, url, timeout, chunked, **httplib_request_kw)\u001b[0m\n\u001b[0;32m    381\u001b[0m         \u001b[1;32mtry\u001b[0m\u001b[1;33m:\u001b[0m\u001b[1;33m\u001b[0m\u001b[1;33m\u001b[0m\u001b[0m\n\u001b[1;32m--> 382\u001b[1;33m             \u001b[0mself\u001b[0m\u001b[1;33m.\u001b[0m\u001b[0m_validate_conn\u001b[0m\u001b[1;33m(\u001b[0m\u001b[0mconn\u001b[0m\u001b[1;33m)\u001b[0m\u001b[1;33m\u001b[0m\u001b[1;33m\u001b[0m\u001b[0m\n\u001b[0m\u001b[0;32m    383\u001b[0m         \u001b[1;32mexcept\u001b[0m \u001b[1;33m(\u001b[0m\u001b[0mSocketTimeout\u001b[0m\u001b[1;33m,\u001b[0m \u001b[0mBaseSSLError\u001b[0m\u001b[1;33m)\u001b[0m \u001b[1;32mas\u001b[0m \u001b[0me\u001b[0m\u001b[1;33m:\u001b[0m\u001b[1;33m\u001b[0m\u001b[1;33m\u001b[0m\u001b[0m\n",
      "\u001b[1;32mc:\\Users\\oguzk\\anaconda3\\lib\\site-packages\\urllib3\\connectionpool.py\u001b[0m in \u001b[0;36m_validate_conn\u001b[1;34m(self, conn)\u001b[0m\n\u001b[0;32m   1009\u001b[0m         \u001b[1;32mif\u001b[0m \u001b[1;32mnot\u001b[0m \u001b[0mgetattr\u001b[0m\u001b[1;33m(\u001b[0m\u001b[0mconn\u001b[0m\u001b[1;33m,\u001b[0m \u001b[1;34m\"sock\"\u001b[0m\u001b[1;33m,\u001b[0m \u001b[1;32mNone\u001b[0m\u001b[1;33m)\u001b[0m\u001b[1;33m:\u001b[0m  \u001b[1;31m# AppEngine might not have  `.sock`\u001b[0m\u001b[1;33m\u001b[0m\u001b[1;33m\u001b[0m\u001b[0m\n\u001b[1;32m-> 1010\u001b[1;33m             \u001b[0mconn\u001b[0m\u001b[1;33m.\u001b[0m\u001b[0mconnect\u001b[0m\u001b[1;33m(\u001b[0m\u001b[1;33m)\u001b[0m\u001b[1;33m\u001b[0m\u001b[1;33m\u001b[0m\u001b[0m\n\u001b[0m\u001b[0;32m   1011\u001b[0m \u001b[1;33m\u001b[0m\u001b[0m\n",
      "\u001b[1;32mc:\\Users\\oguzk\\anaconda3\\lib\\site-packages\\urllib3\\connection.py\u001b[0m in \u001b[0;36mconnect\u001b[1;34m(self)\u001b[0m\n\u001b[0;32m    410\u001b[0m \u001b[1;33m\u001b[0m\u001b[0m\n\u001b[1;32m--> 411\u001b[1;33m         self.sock = ssl_wrap_socket(\n\u001b[0m\u001b[0;32m    412\u001b[0m             \u001b[0msock\u001b[0m\u001b[1;33m=\u001b[0m\u001b[0mconn\u001b[0m\u001b[1;33m,\u001b[0m\u001b[1;33m\u001b[0m\u001b[1;33m\u001b[0m\u001b[0m\n",
      "\u001b[1;32mc:\\Users\\oguzk\\anaconda3\\lib\\site-packages\\urllib3\\util\\ssl_.py\u001b[0m in \u001b[0;36mssl_wrap_socket\u001b[1;34m(sock, keyfile, certfile, cert_reqs, ca_certs, server_hostname, ssl_version, ciphers, ssl_context, ca_cert_dir, key_password, ca_cert_data, tls_in_tls)\u001b[0m\n\u001b[0;32m    427\u001b[0m     \u001b[1;32mif\u001b[0m \u001b[0msend_sni\u001b[0m\u001b[1;33m:\u001b[0m\u001b[1;33m\u001b[0m\u001b[1;33m\u001b[0m\u001b[0m\n\u001b[1;32m--> 428\u001b[1;33m         ssl_sock = _ssl_wrap_socket_impl(\n\u001b[0m\u001b[0;32m    429\u001b[0m             \u001b[0msock\u001b[0m\u001b[1;33m,\u001b[0m \u001b[0mcontext\u001b[0m\u001b[1;33m,\u001b[0m \u001b[0mtls_in_tls\u001b[0m\u001b[1;33m,\u001b[0m \u001b[0mserver_hostname\u001b[0m\u001b[1;33m=\u001b[0m\u001b[0mserver_hostname\u001b[0m\u001b[1;33m\u001b[0m\u001b[1;33m\u001b[0m\u001b[0m\n",
      "\u001b[1;32mc:\\Users\\oguzk\\anaconda3\\lib\\site-packages\\urllib3\\util\\ssl_.py\u001b[0m in \u001b[0;36m_ssl_wrap_socket_impl\u001b[1;34m(sock, ssl_context, tls_in_tls, server_hostname)\u001b[0m\n\u001b[0;32m    471\u001b[0m     \u001b[1;32mif\u001b[0m \u001b[0mserver_hostname\u001b[0m\u001b[1;33m:\u001b[0m\u001b[1;33m\u001b[0m\u001b[1;33m\u001b[0m\u001b[0m\n\u001b[1;32m--> 472\u001b[1;33m         \u001b[1;32mreturn\u001b[0m \u001b[0mssl_context\u001b[0m\u001b[1;33m.\u001b[0m\u001b[0mwrap_socket\u001b[0m\u001b[1;33m(\u001b[0m\u001b[0msock\u001b[0m\u001b[1;33m,\u001b[0m \u001b[0mserver_hostname\u001b[0m\u001b[1;33m=\u001b[0m\u001b[0mserver_hostname\u001b[0m\u001b[1;33m)\u001b[0m\u001b[1;33m\u001b[0m\u001b[1;33m\u001b[0m\u001b[0m\n\u001b[0m\u001b[0;32m    473\u001b[0m     \u001b[1;32melse\u001b[0m\u001b[1;33m:\u001b[0m\u001b[1;33m\u001b[0m\u001b[1;33m\u001b[0m\u001b[0m\n",
      "\u001b[1;32mc:\\Users\\oguzk\\anaconda3\\lib\\ssl.py\u001b[0m in \u001b[0;36mwrap_socket\u001b[1;34m(self, sock, server_side, do_handshake_on_connect, suppress_ragged_eofs, server_hostname, session)\u001b[0m\n\u001b[0;32m    499\u001b[0m         \u001b[1;31m# ctx._wrap_socket()\u001b[0m\u001b[1;33m\u001b[0m\u001b[1;33m\u001b[0m\u001b[1;33m\u001b[0m\u001b[0m\n\u001b[1;32m--> 500\u001b[1;33m         return self.sslsocket_class._create(\n\u001b[0m\u001b[0;32m    501\u001b[0m             \u001b[0msock\u001b[0m\u001b[1;33m=\u001b[0m\u001b[0msock\u001b[0m\u001b[1;33m,\u001b[0m\u001b[1;33m\u001b[0m\u001b[1;33m\u001b[0m\u001b[0m\n",
      "\u001b[1;32mc:\\Users\\oguzk\\anaconda3\\lib\\ssl.py\u001b[0m in \u001b[0;36m_create\u001b[1;34m(cls, sock, server_side, do_handshake_on_connect, suppress_ragged_eofs, server_hostname, context, session)\u001b[0m\n\u001b[0;32m   1039\u001b[0m                         \u001b[1;32mraise\u001b[0m \u001b[0mValueError\u001b[0m\u001b[1;33m(\u001b[0m\u001b[1;34m\"do_handshake_on_connect should not be specified for non-blocking sockets\"\u001b[0m\u001b[1;33m)\u001b[0m\u001b[1;33m\u001b[0m\u001b[1;33m\u001b[0m\u001b[0m\n\u001b[1;32m-> 1040\u001b[1;33m                     \u001b[0mself\u001b[0m\u001b[1;33m.\u001b[0m\u001b[0mdo_handshake\u001b[0m\u001b[1;33m(\u001b[0m\u001b[1;33m)\u001b[0m\u001b[1;33m\u001b[0m\u001b[1;33m\u001b[0m\u001b[0m\n\u001b[0m\u001b[0;32m   1041\u001b[0m             \u001b[1;32mexcept\u001b[0m \u001b[1;33m(\u001b[0m\u001b[0mOSError\u001b[0m\u001b[1;33m,\u001b[0m \u001b[0mValueError\u001b[0m\u001b[1;33m)\u001b[0m\u001b[1;33m:\u001b[0m\u001b[1;33m\u001b[0m\u001b[1;33m\u001b[0m\u001b[0m\n",
      "\u001b[1;32mc:\\Users\\oguzk\\anaconda3\\lib\\ssl.py\u001b[0m in \u001b[0;36mdo_handshake\u001b[1;34m(self, block)\u001b[0m\n\u001b[0;32m   1308\u001b[0m                 \u001b[0mself\u001b[0m\u001b[1;33m.\u001b[0m\u001b[0msettimeout\u001b[0m\u001b[1;33m(\u001b[0m\u001b[1;32mNone\u001b[0m\u001b[1;33m)\u001b[0m\u001b[1;33m\u001b[0m\u001b[1;33m\u001b[0m\u001b[0m\n\u001b[1;32m-> 1309\u001b[1;33m             \u001b[0mself\u001b[0m\u001b[1;33m.\u001b[0m\u001b[0m_sslobj\u001b[0m\u001b[1;33m.\u001b[0m\u001b[0mdo_handshake\u001b[0m\u001b[1;33m(\u001b[0m\u001b[1;33m)\u001b[0m\u001b[1;33m\u001b[0m\u001b[1;33m\u001b[0m\u001b[0m\n\u001b[0m\u001b[0;32m   1310\u001b[0m         \u001b[1;32mfinally\u001b[0m\u001b[1;33m:\u001b[0m\u001b[1;33m\u001b[0m\u001b[1;33m\u001b[0m\u001b[0m\n",
      "\u001b[1;31mConnectionResetError\u001b[0m: [WinError 10054] An existing connection was forcibly closed by the remote host",
      "\nDuring handling of the above exception, another exception occurred:\n",
      "\u001b[1;31mProtocolError\u001b[0m                             Traceback (most recent call last)",
      "\u001b[1;32mc:\\Users\\oguzk\\anaconda3\\lib\\site-packages\\requests\\adapters.py\u001b[0m in \u001b[0;36msend\u001b[1;34m(self, request, stream, timeout, verify, cert, proxies)\u001b[0m\n\u001b[0;32m    438\u001b[0m             \u001b[1;32mif\u001b[0m \u001b[1;32mnot\u001b[0m \u001b[0mchunked\u001b[0m\u001b[1;33m:\u001b[0m\u001b[1;33m\u001b[0m\u001b[1;33m\u001b[0m\u001b[0m\n\u001b[1;32m--> 439\u001b[1;33m                 resp = conn.urlopen(\n\u001b[0m\u001b[0;32m    440\u001b[0m                     \u001b[0mmethod\u001b[0m\u001b[1;33m=\u001b[0m\u001b[0mrequest\u001b[0m\u001b[1;33m.\u001b[0m\u001b[0mmethod\u001b[0m\u001b[1;33m,\u001b[0m\u001b[1;33m\u001b[0m\u001b[1;33m\u001b[0m\u001b[0m\n",
      "\u001b[1;32mc:\\Users\\oguzk\\anaconda3\\lib\\site-packages\\urllib3\\connectionpool.py\u001b[0m in \u001b[0;36murlopen\u001b[1;34m(self, method, url, body, headers, retries, redirect, assert_same_host, timeout, pool_timeout, release_conn, chunked, body_pos, **response_kw)\u001b[0m\n\u001b[0;32m    754\u001b[0m \u001b[1;33m\u001b[0m\u001b[0m\n\u001b[1;32m--> 755\u001b[1;33m             retries = retries.increment(\n\u001b[0m\u001b[0;32m    756\u001b[0m                 \u001b[0mmethod\u001b[0m\u001b[1;33m,\u001b[0m \u001b[0murl\u001b[0m\u001b[1;33m,\u001b[0m \u001b[0merror\u001b[0m\u001b[1;33m=\u001b[0m\u001b[0me\u001b[0m\u001b[1;33m,\u001b[0m \u001b[0m_pool\u001b[0m\u001b[1;33m=\u001b[0m\u001b[0mself\u001b[0m\u001b[1;33m,\u001b[0m \u001b[0m_stacktrace\u001b[0m\u001b[1;33m=\u001b[0m\u001b[0msys\u001b[0m\u001b[1;33m.\u001b[0m\u001b[0mexc_info\u001b[0m\u001b[1;33m(\u001b[0m\u001b[1;33m)\u001b[0m\u001b[1;33m[\u001b[0m\u001b[1;36m2\u001b[0m\u001b[1;33m]\u001b[0m\u001b[1;33m\u001b[0m\u001b[1;33m\u001b[0m\u001b[0m\n",
      "\u001b[1;32mc:\\Users\\oguzk\\anaconda3\\lib\\site-packages\\urllib3\\util\\retry.py\u001b[0m in \u001b[0;36mincrement\u001b[1;34m(self, method, url, response, error, _pool, _stacktrace)\u001b[0m\n\u001b[0;32m    531\u001b[0m             \u001b[1;32mif\u001b[0m \u001b[0mread\u001b[0m \u001b[1;32mis\u001b[0m \u001b[1;32mFalse\u001b[0m \u001b[1;32mor\u001b[0m \u001b[1;32mnot\u001b[0m \u001b[0mself\u001b[0m\u001b[1;33m.\u001b[0m\u001b[0m_is_method_retryable\u001b[0m\u001b[1;33m(\u001b[0m\u001b[0mmethod\u001b[0m\u001b[1;33m)\u001b[0m\u001b[1;33m:\u001b[0m\u001b[1;33m\u001b[0m\u001b[1;33m\u001b[0m\u001b[0m\n\u001b[1;32m--> 532\u001b[1;33m                 \u001b[1;32mraise\u001b[0m \u001b[0msix\u001b[0m\u001b[1;33m.\u001b[0m\u001b[0mreraise\u001b[0m\u001b[1;33m(\u001b[0m\u001b[0mtype\u001b[0m\u001b[1;33m(\u001b[0m\u001b[0merror\u001b[0m\u001b[1;33m)\u001b[0m\u001b[1;33m,\u001b[0m \u001b[0merror\u001b[0m\u001b[1;33m,\u001b[0m \u001b[0m_stacktrace\u001b[0m\u001b[1;33m)\u001b[0m\u001b[1;33m\u001b[0m\u001b[1;33m\u001b[0m\u001b[0m\n\u001b[0m\u001b[0;32m    533\u001b[0m             \u001b[1;32melif\u001b[0m \u001b[0mread\u001b[0m \u001b[1;32mis\u001b[0m \u001b[1;32mnot\u001b[0m \u001b[1;32mNone\u001b[0m\u001b[1;33m:\u001b[0m\u001b[1;33m\u001b[0m\u001b[1;33m\u001b[0m\u001b[0m\n",
      "\u001b[1;32mc:\\Users\\oguzk\\anaconda3\\lib\\site-packages\\urllib3\\packages\\six.py\u001b[0m in \u001b[0;36mreraise\u001b[1;34m(tp, value, tb)\u001b[0m\n\u001b[0;32m    733\u001b[0m             \u001b[1;32mif\u001b[0m \u001b[0mvalue\u001b[0m\u001b[1;33m.\u001b[0m\u001b[0m__traceback__\u001b[0m \u001b[1;32mis\u001b[0m \u001b[1;32mnot\u001b[0m \u001b[0mtb\u001b[0m\u001b[1;33m:\u001b[0m\u001b[1;33m\u001b[0m\u001b[1;33m\u001b[0m\u001b[0m\n\u001b[1;32m--> 734\u001b[1;33m                 \u001b[1;32mraise\u001b[0m \u001b[0mvalue\u001b[0m\u001b[1;33m.\u001b[0m\u001b[0mwith_traceback\u001b[0m\u001b[1;33m(\u001b[0m\u001b[0mtb\u001b[0m\u001b[1;33m)\u001b[0m\u001b[1;33m\u001b[0m\u001b[1;33m\u001b[0m\u001b[0m\n\u001b[0m\u001b[0;32m    735\u001b[0m             \u001b[1;32mraise\u001b[0m \u001b[0mvalue\u001b[0m\u001b[1;33m\u001b[0m\u001b[1;33m\u001b[0m\u001b[0m\n",
      "\u001b[1;32mc:\\Users\\oguzk\\anaconda3\\lib\\site-packages\\urllib3\\connectionpool.py\u001b[0m in \u001b[0;36murlopen\u001b[1;34m(self, method, url, body, headers, retries, redirect, assert_same_host, timeout, pool_timeout, release_conn, chunked, body_pos, **response_kw)\u001b[0m\n\u001b[0;32m    698\u001b[0m             \u001b[1;31m# Make the request on the httplib connection object.\u001b[0m\u001b[1;33m\u001b[0m\u001b[1;33m\u001b[0m\u001b[1;33m\u001b[0m\u001b[0m\n\u001b[1;32m--> 699\u001b[1;33m             httplib_response = self._make_request(\n\u001b[0m\u001b[0;32m    700\u001b[0m                 \u001b[0mconn\u001b[0m\u001b[1;33m,\u001b[0m\u001b[1;33m\u001b[0m\u001b[1;33m\u001b[0m\u001b[0m\n",
      "\u001b[1;32mc:\\Users\\oguzk\\anaconda3\\lib\\site-packages\\urllib3\\connectionpool.py\u001b[0m in \u001b[0;36m_make_request\u001b[1;34m(self, conn, method, url, timeout, chunked, **httplib_request_kw)\u001b[0m\n\u001b[0;32m    381\u001b[0m         \u001b[1;32mtry\u001b[0m\u001b[1;33m:\u001b[0m\u001b[1;33m\u001b[0m\u001b[1;33m\u001b[0m\u001b[0m\n\u001b[1;32m--> 382\u001b[1;33m             \u001b[0mself\u001b[0m\u001b[1;33m.\u001b[0m\u001b[0m_validate_conn\u001b[0m\u001b[1;33m(\u001b[0m\u001b[0mconn\u001b[0m\u001b[1;33m)\u001b[0m\u001b[1;33m\u001b[0m\u001b[1;33m\u001b[0m\u001b[0m\n\u001b[0m\u001b[0;32m    383\u001b[0m         \u001b[1;32mexcept\u001b[0m \u001b[1;33m(\u001b[0m\u001b[0mSocketTimeout\u001b[0m\u001b[1;33m,\u001b[0m \u001b[0mBaseSSLError\u001b[0m\u001b[1;33m)\u001b[0m \u001b[1;32mas\u001b[0m \u001b[0me\u001b[0m\u001b[1;33m:\u001b[0m\u001b[1;33m\u001b[0m\u001b[1;33m\u001b[0m\u001b[0m\n",
      "\u001b[1;32mc:\\Users\\oguzk\\anaconda3\\lib\\site-packages\\urllib3\\connectionpool.py\u001b[0m in \u001b[0;36m_validate_conn\u001b[1;34m(self, conn)\u001b[0m\n\u001b[0;32m   1009\u001b[0m         \u001b[1;32mif\u001b[0m \u001b[1;32mnot\u001b[0m \u001b[0mgetattr\u001b[0m\u001b[1;33m(\u001b[0m\u001b[0mconn\u001b[0m\u001b[1;33m,\u001b[0m \u001b[1;34m\"sock\"\u001b[0m\u001b[1;33m,\u001b[0m \u001b[1;32mNone\u001b[0m\u001b[1;33m)\u001b[0m\u001b[1;33m:\u001b[0m  \u001b[1;31m# AppEngine might not have  `.sock`\u001b[0m\u001b[1;33m\u001b[0m\u001b[1;33m\u001b[0m\u001b[0m\n\u001b[1;32m-> 1010\u001b[1;33m             \u001b[0mconn\u001b[0m\u001b[1;33m.\u001b[0m\u001b[0mconnect\u001b[0m\u001b[1;33m(\u001b[0m\u001b[1;33m)\u001b[0m\u001b[1;33m\u001b[0m\u001b[1;33m\u001b[0m\u001b[0m\n\u001b[0m\u001b[0;32m   1011\u001b[0m \u001b[1;33m\u001b[0m\u001b[0m\n",
      "\u001b[1;32mc:\\Users\\oguzk\\anaconda3\\lib\\site-packages\\urllib3\\connection.py\u001b[0m in \u001b[0;36mconnect\u001b[1;34m(self)\u001b[0m\n\u001b[0;32m    410\u001b[0m \u001b[1;33m\u001b[0m\u001b[0m\n\u001b[1;32m--> 411\u001b[1;33m         self.sock = ssl_wrap_socket(\n\u001b[0m\u001b[0;32m    412\u001b[0m             \u001b[0msock\u001b[0m\u001b[1;33m=\u001b[0m\u001b[0mconn\u001b[0m\u001b[1;33m,\u001b[0m\u001b[1;33m\u001b[0m\u001b[1;33m\u001b[0m\u001b[0m\n",
      "\u001b[1;32mc:\\Users\\oguzk\\anaconda3\\lib\\site-packages\\urllib3\\util\\ssl_.py\u001b[0m in \u001b[0;36mssl_wrap_socket\u001b[1;34m(sock, keyfile, certfile, cert_reqs, ca_certs, server_hostname, ssl_version, ciphers, ssl_context, ca_cert_dir, key_password, ca_cert_data, tls_in_tls)\u001b[0m\n\u001b[0;32m    427\u001b[0m     \u001b[1;32mif\u001b[0m \u001b[0msend_sni\u001b[0m\u001b[1;33m:\u001b[0m\u001b[1;33m\u001b[0m\u001b[1;33m\u001b[0m\u001b[0m\n\u001b[1;32m--> 428\u001b[1;33m         ssl_sock = _ssl_wrap_socket_impl(\n\u001b[0m\u001b[0;32m    429\u001b[0m             \u001b[0msock\u001b[0m\u001b[1;33m,\u001b[0m \u001b[0mcontext\u001b[0m\u001b[1;33m,\u001b[0m \u001b[0mtls_in_tls\u001b[0m\u001b[1;33m,\u001b[0m \u001b[0mserver_hostname\u001b[0m\u001b[1;33m=\u001b[0m\u001b[0mserver_hostname\u001b[0m\u001b[1;33m\u001b[0m\u001b[1;33m\u001b[0m\u001b[0m\n",
      "\u001b[1;32mc:\\Users\\oguzk\\anaconda3\\lib\\site-packages\\urllib3\\util\\ssl_.py\u001b[0m in \u001b[0;36m_ssl_wrap_socket_impl\u001b[1;34m(sock, ssl_context, tls_in_tls, server_hostname)\u001b[0m\n\u001b[0;32m    471\u001b[0m     \u001b[1;32mif\u001b[0m \u001b[0mserver_hostname\u001b[0m\u001b[1;33m:\u001b[0m\u001b[1;33m\u001b[0m\u001b[1;33m\u001b[0m\u001b[0m\n\u001b[1;32m--> 472\u001b[1;33m         \u001b[1;32mreturn\u001b[0m \u001b[0mssl_context\u001b[0m\u001b[1;33m.\u001b[0m\u001b[0mwrap_socket\u001b[0m\u001b[1;33m(\u001b[0m\u001b[0msock\u001b[0m\u001b[1;33m,\u001b[0m \u001b[0mserver_hostname\u001b[0m\u001b[1;33m=\u001b[0m\u001b[0mserver_hostname\u001b[0m\u001b[1;33m)\u001b[0m\u001b[1;33m\u001b[0m\u001b[1;33m\u001b[0m\u001b[0m\n\u001b[0m\u001b[0;32m    473\u001b[0m     \u001b[1;32melse\u001b[0m\u001b[1;33m:\u001b[0m\u001b[1;33m\u001b[0m\u001b[1;33m\u001b[0m\u001b[0m\n",
      "\u001b[1;32mc:\\Users\\oguzk\\anaconda3\\lib\\ssl.py\u001b[0m in \u001b[0;36mwrap_socket\u001b[1;34m(self, sock, server_side, do_handshake_on_connect, suppress_ragged_eofs, server_hostname, session)\u001b[0m\n\u001b[0;32m    499\u001b[0m         \u001b[1;31m# ctx._wrap_socket()\u001b[0m\u001b[1;33m\u001b[0m\u001b[1;33m\u001b[0m\u001b[1;33m\u001b[0m\u001b[0m\n\u001b[1;32m--> 500\u001b[1;33m         return self.sslsocket_class._create(\n\u001b[0m\u001b[0;32m    501\u001b[0m             \u001b[0msock\u001b[0m\u001b[1;33m=\u001b[0m\u001b[0msock\u001b[0m\u001b[1;33m,\u001b[0m\u001b[1;33m\u001b[0m\u001b[1;33m\u001b[0m\u001b[0m\n",
      "\u001b[1;32mc:\\Users\\oguzk\\anaconda3\\lib\\ssl.py\u001b[0m in \u001b[0;36m_create\u001b[1;34m(cls, sock, server_side, do_handshake_on_connect, suppress_ragged_eofs, server_hostname, context, session)\u001b[0m\n\u001b[0;32m   1039\u001b[0m                         \u001b[1;32mraise\u001b[0m \u001b[0mValueError\u001b[0m\u001b[1;33m(\u001b[0m\u001b[1;34m\"do_handshake_on_connect should not be specified for non-blocking sockets\"\u001b[0m\u001b[1;33m)\u001b[0m\u001b[1;33m\u001b[0m\u001b[1;33m\u001b[0m\u001b[0m\n\u001b[1;32m-> 1040\u001b[1;33m                     \u001b[0mself\u001b[0m\u001b[1;33m.\u001b[0m\u001b[0mdo_handshake\u001b[0m\u001b[1;33m(\u001b[0m\u001b[1;33m)\u001b[0m\u001b[1;33m\u001b[0m\u001b[1;33m\u001b[0m\u001b[0m\n\u001b[0m\u001b[0;32m   1041\u001b[0m             \u001b[1;32mexcept\u001b[0m \u001b[1;33m(\u001b[0m\u001b[0mOSError\u001b[0m\u001b[1;33m,\u001b[0m \u001b[0mValueError\u001b[0m\u001b[1;33m)\u001b[0m\u001b[1;33m:\u001b[0m\u001b[1;33m\u001b[0m\u001b[1;33m\u001b[0m\u001b[0m\n",
      "\u001b[1;32mc:\\Users\\oguzk\\anaconda3\\lib\\ssl.py\u001b[0m in \u001b[0;36mdo_handshake\u001b[1;34m(self, block)\u001b[0m\n\u001b[0;32m   1308\u001b[0m                 \u001b[0mself\u001b[0m\u001b[1;33m.\u001b[0m\u001b[0msettimeout\u001b[0m\u001b[1;33m(\u001b[0m\u001b[1;32mNone\u001b[0m\u001b[1;33m)\u001b[0m\u001b[1;33m\u001b[0m\u001b[1;33m\u001b[0m\u001b[0m\n\u001b[1;32m-> 1309\u001b[1;33m             \u001b[0mself\u001b[0m\u001b[1;33m.\u001b[0m\u001b[0m_sslobj\u001b[0m\u001b[1;33m.\u001b[0m\u001b[0mdo_handshake\u001b[0m\u001b[1;33m(\u001b[0m\u001b[1;33m)\u001b[0m\u001b[1;33m\u001b[0m\u001b[1;33m\u001b[0m\u001b[0m\n\u001b[0m\u001b[0;32m   1310\u001b[0m         \u001b[1;32mfinally\u001b[0m\u001b[1;33m:\u001b[0m\u001b[1;33m\u001b[0m\u001b[1;33m\u001b[0m\u001b[0m\n",
      "\u001b[1;31mProtocolError\u001b[0m: ('Connection aborted.', ConnectionResetError(10054, 'An existing connection was forcibly closed by the remote host', None, 10054, None))",
      "\nDuring handling of the above exception, another exception occurred:\n",
      "\u001b[1;31mConnectionError\u001b[0m                           Traceback (most recent call last)",
      "\u001b[1;32m<ipython-input-48-2cb2cb2515b7>\u001b[0m in \u001b[0;36m<module>\u001b[1;34m\u001b[0m\n\u001b[0;32m     24\u001b[0m         \u001b[0mauth_srch\u001b[0m \u001b[1;33m=\u001b[0m \u001b[0mElsSearch\u001b[0m\u001b[1;33m(\u001b[0m\u001b[1;34mf'AUTHLAST({family_in}) AND AUTHFIRST({given_in}) AND {sbj_area_query_creator(sa_in)}'\u001b[0m\u001b[1;33m,\u001b[0m\u001b[1;34m'author'\u001b[0m\u001b[1;33m)\u001b[0m\u001b[1;33m\u001b[0m\u001b[1;33m\u001b[0m\u001b[0m\n\u001b[1;32m---> 25\u001b[1;33m         \u001b[0mauth_srch\u001b[0m\u001b[1;33m.\u001b[0m\u001b[0mexecute\u001b[0m\u001b[1;33m(\u001b[0m\u001b[0mclient\u001b[0m\u001b[1;33m)\u001b[0m\u001b[1;33m\u001b[0m\u001b[1;33m\u001b[0m\u001b[0m\n\u001b[0m\u001b[0;32m     26\u001b[0m     \u001b[1;32mexcept\u001b[0m\u001b[1;33m:\u001b[0m\u001b[1;33m\u001b[0m\u001b[1;33m\u001b[0m\u001b[0m\n",
      "\u001b[1;32mc:\\Users\\oguzk\\anaconda3\\lib\\site-packages\\elsapy\\elssearch.py\u001b[0m in \u001b[0;36mexecute\u001b[1;34m(self, els_client, get_all)\u001b[0m\n\u001b[0;32m     94\u001b[0m         \u001b[1;31m## TODO: add exception handling\u001b[0m\u001b[1;33m\u001b[0m\u001b[1;33m\u001b[0m\u001b[1;33m\u001b[0m\u001b[0m\n\u001b[1;32m---> 95\u001b[1;33m         \u001b[0mapi_response\u001b[0m \u001b[1;33m=\u001b[0m \u001b[0mels_client\u001b[0m\u001b[1;33m.\u001b[0m\u001b[0mexec_request\u001b[0m\u001b[1;33m(\u001b[0m\u001b[0mself\u001b[0m\u001b[1;33m.\u001b[0m\u001b[0m_uri\u001b[0m\u001b[1;33m)\u001b[0m\u001b[1;33m\u001b[0m\u001b[1;33m\u001b[0m\u001b[0m\n\u001b[0m\u001b[0;32m     96\u001b[0m         \u001b[0mself\u001b[0m\u001b[1;33m.\u001b[0m\u001b[0m_tot_num_res\u001b[0m \u001b[1;33m=\u001b[0m \u001b[0mint\u001b[0m\u001b[1;33m(\u001b[0m\u001b[0mapi_response\u001b[0m\u001b[1;33m[\u001b[0m\u001b[1;34m'search-results'\u001b[0m\u001b[1;33m]\u001b[0m\u001b[1;33m[\u001b[0m\u001b[1;34m'opensearch:totalResults'\u001b[0m\u001b[1;33m]\u001b[0m\u001b[1;33m)\u001b[0m\u001b[1;33m\u001b[0m\u001b[1;33m\u001b[0m\u001b[0m\n",
      "\u001b[1;32mc:\\Users\\oguzk\\anaconda3\\lib\\site-packages\\elsapy\\elsclient.py\u001b[0m in \u001b[0;36mexec_request\u001b[1;34m(self, URL)\u001b[0m\n\u001b[0;32m    109\u001b[0m         \u001b[0mlogger\u001b[0m\u001b[1;33m.\u001b[0m\u001b[0minfo\u001b[0m\u001b[1;33m(\u001b[0m\u001b[1;34m'Sending GET request to '\u001b[0m \u001b[1;33m+\u001b[0m \u001b[0mURL\u001b[0m\u001b[1;33m)\u001b[0m\u001b[1;33m\u001b[0m\u001b[1;33m\u001b[0m\u001b[0m\n\u001b[1;32m--> 110\u001b[1;33m         r = requests.get(\n\u001b[0m\u001b[0;32m    111\u001b[0m             \u001b[0mURL\u001b[0m\u001b[1;33m,\u001b[0m\u001b[1;33m\u001b[0m\u001b[1;33m\u001b[0m\u001b[0m\n",
      "\u001b[1;32mc:\\Users\\oguzk\\anaconda3\\lib\\site-packages\\requests\\api.py\u001b[0m in \u001b[0;36mget\u001b[1;34m(url, params, **kwargs)\u001b[0m\n\u001b[0;32m     75\u001b[0m     \u001b[0mkwargs\u001b[0m\u001b[1;33m.\u001b[0m\u001b[0msetdefault\u001b[0m\u001b[1;33m(\u001b[0m\u001b[1;34m'allow_redirects'\u001b[0m\u001b[1;33m,\u001b[0m \u001b[1;32mTrue\u001b[0m\u001b[1;33m)\u001b[0m\u001b[1;33m\u001b[0m\u001b[1;33m\u001b[0m\u001b[0m\n\u001b[1;32m---> 76\u001b[1;33m     \u001b[1;32mreturn\u001b[0m \u001b[0mrequest\u001b[0m\u001b[1;33m(\u001b[0m\u001b[1;34m'get'\u001b[0m\u001b[1;33m,\u001b[0m \u001b[0murl\u001b[0m\u001b[1;33m,\u001b[0m \u001b[0mparams\u001b[0m\u001b[1;33m=\u001b[0m\u001b[0mparams\u001b[0m\u001b[1;33m,\u001b[0m \u001b[1;33m**\u001b[0m\u001b[0mkwargs\u001b[0m\u001b[1;33m)\u001b[0m\u001b[1;33m\u001b[0m\u001b[1;33m\u001b[0m\u001b[0m\n\u001b[0m\u001b[0;32m     77\u001b[0m \u001b[1;33m\u001b[0m\u001b[0m\n",
      "\u001b[1;32mc:\\Users\\oguzk\\anaconda3\\lib\\site-packages\\requests\\api.py\u001b[0m in \u001b[0;36mrequest\u001b[1;34m(method, url, **kwargs)\u001b[0m\n\u001b[0;32m     60\u001b[0m     \u001b[1;32mwith\u001b[0m \u001b[0msessions\u001b[0m\u001b[1;33m.\u001b[0m\u001b[0mSession\u001b[0m\u001b[1;33m(\u001b[0m\u001b[1;33m)\u001b[0m \u001b[1;32mas\u001b[0m \u001b[0msession\u001b[0m\u001b[1;33m:\u001b[0m\u001b[1;33m\u001b[0m\u001b[1;33m\u001b[0m\u001b[0m\n\u001b[1;32m---> 61\u001b[1;33m         \u001b[1;32mreturn\u001b[0m \u001b[0msession\u001b[0m\u001b[1;33m.\u001b[0m\u001b[0mrequest\u001b[0m\u001b[1;33m(\u001b[0m\u001b[0mmethod\u001b[0m\u001b[1;33m=\u001b[0m\u001b[0mmethod\u001b[0m\u001b[1;33m,\u001b[0m \u001b[0murl\u001b[0m\u001b[1;33m=\u001b[0m\u001b[0murl\u001b[0m\u001b[1;33m,\u001b[0m \u001b[1;33m**\u001b[0m\u001b[0mkwargs\u001b[0m\u001b[1;33m)\u001b[0m\u001b[1;33m\u001b[0m\u001b[1;33m\u001b[0m\u001b[0m\n\u001b[0m\u001b[0;32m     62\u001b[0m \u001b[1;33m\u001b[0m\u001b[0m\n",
      "\u001b[1;32mc:\\Users\\oguzk\\anaconda3\\lib\\site-packages\\requests\\sessions.py\u001b[0m in \u001b[0;36mrequest\u001b[1;34m(self, method, url, params, data, headers, cookies, files, auth, timeout, allow_redirects, proxies, hooks, stream, verify, cert, json)\u001b[0m\n\u001b[0;32m    541\u001b[0m         \u001b[0msend_kwargs\u001b[0m\u001b[1;33m.\u001b[0m\u001b[0mupdate\u001b[0m\u001b[1;33m(\u001b[0m\u001b[0msettings\u001b[0m\u001b[1;33m)\u001b[0m\u001b[1;33m\u001b[0m\u001b[1;33m\u001b[0m\u001b[0m\n\u001b[1;32m--> 542\u001b[1;33m         \u001b[0mresp\u001b[0m \u001b[1;33m=\u001b[0m \u001b[0mself\u001b[0m\u001b[1;33m.\u001b[0m\u001b[0msend\u001b[0m\u001b[1;33m(\u001b[0m\u001b[0mprep\u001b[0m\u001b[1;33m,\u001b[0m \u001b[1;33m**\u001b[0m\u001b[0msend_kwargs\u001b[0m\u001b[1;33m)\u001b[0m\u001b[1;33m\u001b[0m\u001b[1;33m\u001b[0m\u001b[0m\n\u001b[0m\u001b[0;32m    543\u001b[0m \u001b[1;33m\u001b[0m\u001b[0m\n",
      "\u001b[1;32mc:\\Users\\oguzk\\anaconda3\\lib\\site-packages\\requests\\sessions.py\u001b[0m in \u001b[0;36msend\u001b[1;34m(self, request, **kwargs)\u001b[0m\n\u001b[0;32m    654\u001b[0m         \u001b[1;31m# Send the request\u001b[0m\u001b[1;33m\u001b[0m\u001b[1;33m\u001b[0m\u001b[1;33m\u001b[0m\u001b[0m\n\u001b[1;32m--> 655\u001b[1;33m         \u001b[0mr\u001b[0m \u001b[1;33m=\u001b[0m \u001b[0madapter\u001b[0m\u001b[1;33m.\u001b[0m\u001b[0msend\u001b[0m\u001b[1;33m(\u001b[0m\u001b[0mrequest\u001b[0m\u001b[1;33m,\u001b[0m \u001b[1;33m**\u001b[0m\u001b[0mkwargs\u001b[0m\u001b[1;33m)\u001b[0m\u001b[1;33m\u001b[0m\u001b[1;33m\u001b[0m\u001b[0m\n\u001b[0m\u001b[0;32m    656\u001b[0m \u001b[1;33m\u001b[0m\u001b[0m\n",
      "\u001b[1;32mc:\\Users\\oguzk\\anaconda3\\lib\\site-packages\\requests\\adapters.py\u001b[0m in \u001b[0;36msend\u001b[1;34m(self, request, stream, timeout, verify, cert, proxies)\u001b[0m\n\u001b[0;32m    497\u001b[0m         \u001b[1;32mexcept\u001b[0m \u001b[1;33m(\u001b[0m\u001b[0mProtocolError\u001b[0m\u001b[1;33m,\u001b[0m \u001b[0msocket\u001b[0m\u001b[1;33m.\u001b[0m\u001b[0merror\u001b[0m\u001b[1;33m)\u001b[0m \u001b[1;32mas\u001b[0m \u001b[0merr\u001b[0m\u001b[1;33m:\u001b[0m\u001b[1;33m\u001b[0m\u001b[1;33m\u001b[0m\u001b[0m\n\u001b[1;32m--> 498\u001b[1;33m             \u001b[1;32mraise\u001b[0m \u001b[0mConnectionError\u001b[0m\u001b[1;33m(\u001b[0m\u001b[0merr\u001b[0m\u001b[1;33m,\u001b[0m \u001b[0mrequest\u001b[0m\u001b[1;33m=\u001b[0m\u001b[0mrequest\u001b[0m\u001b[1;33m)\u001b[0m\u001b[1;33m\u001b[0m\u001b[1;33m\u001b[0m\u001b[0m\n\u001b[0m\u001b[0;32m    499\u001b[0m \u001b[1;33m\u001b[0m\u001b[0m\n",
      "\u001b[1;31mConnectionError\u001b[0m: ('Connection aborted.', ConnectionResetError(10054, 'An existing connection was forcibly closed by the remote host', None, 10054, None))",
      "\nDuring handling of the above exception, another exception occurred:\n",
      "\u001b[1;31mConnectionResetError\u001b[0m                      Traceback (most recent call last)",
      "\u001b[1;32mc:\\Users\\oguzk\\anaconda3\\lib\\site-packages\\urllib3\\connectionpool.py\u001b[0m in \u001b[0;36murlopen\u001b[1;34m(self, method, url, body, headers, retries, redirect, assert_same_host, timeout, pool_timeout, release_conn, chunked, body_pos, **response_kw)\u001b[0m\n\u001b[0;32m    698\u001b[0m             \u001b[1;31m# Make the request on the httplib connection object.\u001b[0m\u001b[1;33m\u001b[0m\u001b[1;33m\u001b[0m\u001b[1;33m\u001b[0m\u001b[0m\n\u001b[1;32m--> 699\u001b[1;33m             httplib_response = self._make_request(\n\u001b[0m\u001b[0;32m    700\u001b[0m                 \u001b[0mconn\u001b[0m\u001b[1;33m,\u001b[0m\u001b[1;33m\u001b[0m\u001b[1;33m\u001b[0m\u001b[0m\n",
      "\u001b[1;32mc:\\Users\\oguzk\\anaconda3\\lib\\site-packages\\urllib3\\connectionpool.py\u001b[0m in \u001b[0;36m_make_request\u001b[1;34m(self, conn, method, url, timeout, chunked, **httplib_request_kw)\u001b[0m\n\u001b[0;32m    381\u001b[0m         \u001b[1;32mtry\u001b[0m\u001b[1;33m:\u001b[0m\u001b[1;33m\u001b[0m\u001b[1;33m\u001b[0m\u001b[0m\n\u001b[1;32m--> 382\u001b[1;33m             \u001b[0mself\u001b[0m\u001b[1;33m.\u001b[0m\u001b[0m_validate_conn\u001b[0m\u001b[1;33m(\u001b[0m\u001b[0mconn\u001b[0m\u001b[1;33m)\u001b[0m\u001b[1;33m\u001b[0m\u001b[1;33m\u001b[0m\u001b[0m\n\u001b[0m\u001b[0;32m    383\u001b[0m         \u001b[1;32mexcept\u001b[0m \u001b[1;33m(\u001b[0m\u001b[0mSocketTimeout\u001b[0m\u001b[1;33m,\u001b[0m \u001b[0mBaseSSLError\u001b[0m\u001b[1;33m)\u001b[0m \u001b[1;32mas\u001b[0m \u001b[0me\u001b[0m\u001b[1;33m:\u001b[0m\u001b[1;33m\u001b[0m\u001b[1;33m\u001b[0m\u001b[0m\n",
      "\u001b[1;32mc:\\Users\\oguzk\\anaconda3\\lib\\site-packages\\urllib3\\connectionpool.py\u001b[0m in \u001b[0;36m_validate_conn\u001b[1;34m(self, conn)\u001b[0m\n\u001b[0;32m   1009\u001b[0m         \u001b[1;32mif\u001b[0m \u001b[1;32mnot\u001b[0m \u001b[0mgetattr\u001b[0m\u001b[1;33m(\u001b[0m\u001b[0mconn\u001b[0m\u001b[1;33m,\u001b[0m \u001b[1;34m\"sock\"\u001b[0m\u001b[1;33m,\u001b[0m \u001b[1;32mNone\u001b[0m\u001b[1;33m)\u001b[0m\u001b[1;33m:\u001b[0m  \u001b[1;31m# AppEngine might not have  `.sock`\u001b[0m\u001b[1;33m\u001b[0m\u001b[1;33m\u001b[0m\u001b[0m\n\u001b[1;32m-> 1010\u001b[1;33m             \u001b[0mconn\u001b[0m\u001b[1;33m.\u001b[0m\u001b[0mconnect\u001b[0m\u001b[1;33m(\u001b[0m\u001b[1;33m)\u001b[0m\u001b[1;33m\u001b[0m\u001b[1;33m\u001b[0m\u001b[0m\n\u001b[0m\u001b[0;32m   1011\u001b[0m \u001b[1;33m\u001b[0m\u001b[0m\n",
      "\u001b[1;32mc:\\Users\\oguzk\\anaconda3\\lib\\site-packages\\urllib3\\connection.py\u001b[0m in \u001b[0;36mconnect\u001b[1;34m(self)\u001b[0m\n\u001b[0;32m    410\u001b[0m \u001b[1;33m\u001b[0m\u001b[0m\n\u001b[1;32m--> 411\u001b[1;33m         self.sock = ssl_wrap_socket(\n\u001b[0m\u001b[0;32m    412\u001b[0m             \u001b[0msock\u001b[0m\u001b[1;33m=\u001b[0m\u001b[0mconn\u001b[0m\u001b[1;33m,\u001b[0m\u001b[1;33m\u001b[0m\u001b[1;33m\u001b[0m\u001b[0m\n",
      "\u001b[1;32mc:\\Users\\oguzk\\anaconda3\\lib\\site-packages\\urllib3\\util\\ssl_.py\u001b[0m in \u001b[0;36mssl_wrap_socket\u001b[1;34m(sock, keyfile, certfile, cert_reqs, ca_certs, server_hostname, ssl_version, ciphers, ssl_context, ca_cert_dir, key_password, ca_cert_data, tls_in_tls)\u001b[0m\n\u001b[0;32m    427\u001b[0m     \u001b[1;32mif\u001b[0m \u001b[0msend_sni\u001b[0m\u001b[1;33m:\u001b[0m\u001b[1;33m\u001b[0m\u001b[1;33m\u001b[0m\u001b[0m\n\u001b[1;32m--> 428\u001b[1;33m         ssl_sock = _ssl_wrap_socket_impl(\n\u001b[0m\u001b[0;32m    429\u001b[0m             \u001b[0msock\u001b[0m\u001b[1;33m,\u001b[0m \u001b[0mcontext\u001b[0m\u001b[1;33m,\u001b[0m \u001b[0mtls_in_tls\u001b[0m\u001b[1;33m,\u001b[0m \u001b[0mserver_hostname\u001b[0m\u001b[1;33m=\u001b[0m\u001b[0mserver_hostname\u001b[0m\u001b[1;33m\u001b[0m\u001b[1;33m\u001b[0m\u001b[0m\n",
      "\u001b[1;32mc:\\Users\\oguzk\\anaconda3\\lib\\site-packages\\urllib3\\util\\ssl_.py\u001b[0m in \u001b[0;36m_ssl_wrap_socket_impl\u001b[1;34m(sock, ssl_context, tls_in_tls, server_hostname)\u001b[0m\n\u001b[0;32m    471\u001b[0m     \u001b[1;32mif\u001b[0m \u001b[0mserver_hostname\u001b[0m\u001b[1;33m:\u001b[0m\u001b[1;33m\u001b[0m\u001b[1;33m\u001b[0m\u001b[0m\n\u001b[1;32m--> 472\u001b[1;33m         \u001b[1;32mreturn\u001b[0m \u001b[0mssl_context\u001b[0m\u001b[1;33m.\u001b[0m\u001b[0mwrap_socket\u001b[0m\u001b[1;33m(\u001b[0m\u001b[0msock\u001b[0m\u001b[1;33m,\u001b[0m \u001b[0mserver_hostname\u001b[0m\u001b[1;33m=\u001b[0m\u001b[0mserver_hostname\u001b[0m\u001b[1;33m)\u001b[0m\u001b[1;33m\u001b[0m\u001b[1;33m\u001b[0m\u001b[0m\n\u001b[0m\u001b[0;32m    473\u001b[0m     \u001b[1;32melse\u001b[0m\u001b[1;33m:\u001b[0m\u001b[1;33m\u001b[0m\u001b[1;33m\u001b[0m\u001b[0m\n",
      "\u001b[1;32mc:\\Users\\oguzk\\anaconda3\\lib\\ssl.py\u001b[0m in \u001b[0;36mwrap_socket\u001b[1;34m(self, sock, server_side, do_handshake_on_connect, suppress_ragged_eofs, server_hostname, session)\u001b[0m\n\u001b[0;32m    499\u001b[0m         \u001b[1;31m# ctx._wrap_socket()\u001b[0m\u001b[1;33m\u001b[0m\u001b[1;33m\u001b[0m\u001b[1;33m\u001b[0m\u001b[0m\n\u001b[1;32m--> 500\u001b[1;33m         return self.sslsocket_class._create(\n\u001b[0m\u001b[0;32m    501\u001b[0m             \u001b[0msock\u001b[0m\u001b[1;33m=\u001b[0m\u001b[0msock\u001b[0m\u001b[1;33m,\u001b[0m\u001b[1;33m\u001b[0m\u001b[1;33m\u001b[0m\u001b[0m\n",
      "\u001b[1;32mc:\\Users\\oguzk\\anaconda3\\lib\\ssl.py\u001b[0m in \u001b[0;36m_create\u001b[1;34m(cls, sock, server_side, do_handshake_on_connect, suppress_ragged_eofs, server_hostname, context, session)\u001b[0m\n\u001b[0;32m   1039\u001b[0m                         \u001b[1;32mraise\u001b[0m \u001b[0mValueError\u001b[0m\u001b[1;33m(\u001b[0m\u001b[1;34m\"do_handshake_on_connect should not be specified for non-blocking sockets\"\u001b[0m\u001b[1;33m)\u001b[0m\u001b[1;33m\u001b[0m\u001b[1;33m\u001b[0m\u001b[0m\n\u001b[1;32m-> 1040\u001b[1;33m                     \u001b[0mself\u001b[0m\u001b[1;33m.\u001b[0m\u001b[0mdo_handshake\u001b[0m\u001b[1;33m(\u001b[0m\u001b[1;33m)\u001b[0m\u001b[1;33m\u001b[0m\u001b[1;33m\u001b[0m\u001b[0m\n\u001b[0m\u001b[0;32m   1041\u001b[0m             \u001b[1;32mexcept\u001b[0m \u001b[1;33m(\u001b[0m\u001b[0mOSError\u001b[0m\u001b[1;33m,\u001b[0m \u001b[0mValueError\u001b[0m\u001b[1;33m)\u001b[0m\u001b[1;33m:\u001b[0m\u001b[1;33m\u001b[0m\u001b[1;33m\u001b[0m\u001b[0m\n",
      "\u001b[1;32mc:\\Users\\oguzk\\anaconda3\\lib\\ssl.py\u001b[0m in \u001b[0;36mdo_handshake\u001b[1;34m(self, block)\u001b[0m\n\u001b[0;32m   1308\u001b[0m                 \u001b[0mself\u001b[0m\u001b[1;33m.\u001b[0m\u001b[0msettimeout\u001b[0m\u001b[1;33m(\u001b[0m\u001b[1;32mNone\u001b[0m\u001b[1;33m)\u001b[0m\u001b[1;33m\u001b[0m\u001b[1;33m\u001b[0m\u001b[0m\n\u001b[1;32m-> 1309\u001b[1;33m             \u001b[0mself\u001b[0m\u001b[1;33m.\u001b[0m\u001b[0m_sslobj\u001b[0m\u001b[1;33m.\u001b[0m\u001b[0mdo_handshake\u001b[0m\u001b[1;33m(\u001b[0m\u001b[1;33m)\u001b[0m\u001b[1;33m\u001b[0m\u001b[1;33m\u001b[0m\u001b[0m\n\u001b[0m\u001b[0;32m   1310\u001b[0m         \u001b[1;32mfinally\u001b[0m\u001b[1;33m:\u001b[0m\u001b[1;33m\u001b[0m\u001b[1;33m\u001b[0m\u001b[0m\n",
      "\u001b[1;31mConnectionResetError\u001b[0m: [WinError 10054] An existing connection was forcibly closed by the remote host",
      "\nDuring handling of the above exception, another exception occurred:\n",
      "\u001b[1;31mProtocolError\u001b[0m                             Traceback (most recent call last)",
      "\u001b[1;32mc:\\Users\\oguzk\\anaconda3\\lib\\site-packages\\requests\\adapters.py\u001b[0m in \u001b[0;36msend\u001b[1;34m(self, request, stream, timeout, verify, cert, proxies)\u001b[0m\n\u001b[0;32m    438\u001b[0m             \u001b[1;32mif\u001b[0m \u001b[1;32mnot\u001b[0m \u001b[0mchunked\u001b[0m\u001b[1;33m:\u001b[0m\u001b[1;33m\u001b[0m\u001b[1;33m\u001b[0m\u001b[0m\n\u001b[1;32m--> 439\u001b[1;33m                 resp = conn.urlopen(\n\u001b[0m\u001b[0;32m    440\u001b[0m                     \u001b[0mmethod\u001b[0m\u001b[1;33m=\u001b[0m\u001b[0mrequest\u001b[0m\u001b[1;33m.\u001b[0m\u001b[0mmethod\u001b[0m\u001b[1;33m,\u001b[0m\u001b[1;33m\u001b[0m\u001b[1;33m\u001b[0m\u001b[0m\n",
      "\u001b[1;32mc:\\Users\\oguzk\\anaconda3\\lib\\site-packages\\urllib3\\connectionpool.py\u001b[0m in \u001b[0;36murlopen\u001b[1;34m(self, method, url, body, headers, retries, redirect, assert_same_host, timeout, pool_timeout, release_conn, chunked, body_pos, **response_kw)\u001b[0m\n\u001b[0;32m    754\u001b[0m \u001b[1;33m\u001b[0m\u001b[0m\n\u001b[1;32m--> 755\u001b[1;33m             retries = retries.increment(\n\u001b[0m\u001b[0;32m    756\u001b[0m                 \u001b[0mmethod\u001b[0m\u001b[1;33m,\u001b[0m \u001b[0murl\u001b[0m\u001b[1;33m,\u001b[0m \u001b[0merror\u001b[0m\u001b[1;33m=\u001b[0m\u001b[0me\u001b[0m\u001b[1;33m,\u001b[0m \u001b[0m_pool\u001b[0m\u001b[1;33m=\u001b[0m\u001b[0mself\u001b[0m\u001b[1;33m,\u001b[0m \u001b[0m_stacktrace\u001b[0m\u001b[1;33m=\u001b[0m\u001b[0msys\u001b[0m\u001b[1;33m.\u001b[0m\u001b[0mexc_info\u001b[0m\u001b[1;33m(\u001b[0m\u001b[1;33m)\u001b[0m\u001b[1;33m[\u001b[0m\u001b[1;36m2\u001b[0m\u001b[1;33m]\u001b[0m\u001b[1;33m\u001b[0m\u001b[1;33m\u001b[0m\u001b[0m\n",
      "\u001b[1;32mc:\\Users\\oguzk\\anaconda3\\lib\\site-packages\\urllib3\\util\\retry.py\u001b[0m in \u001b[0;36mincrement\u001b[1;34m(self, method, url, response, error, _pool, _stacktrace)\u001b[0m\n\u001b[0;32m    531\u001b[0m             \u001b[1;32mif\u001b[0m \u001b[0mread\u001b[0m \u001b[1;32mis\u001b[0m \u001b[1;32mFalse\u001b[0m \u001b[1;32mor\u001b[0m \u001b[1;32mnot\u001b[0m \u001b[0mself\u001b[0m\u001b[1;33m.\u001b[0m\u001b[0m_is_method_retryable\u001b[0m\u001b[1;33m(\u001b[0m\u001b[0mmethod\u001b[0m\u001b[1;33m)\u001b[0m\u001b[1;33m:\u001b[0m\u001b[1;33m\u001b[0m\u001b[1;33m\u001b[0m\u001b[0m\n\u001b[1;32m--> 532\u001b[1;33m                 \u001b[1;32mraise\u001b[0m \u001b[0msix\u001b[0m\u001b[1;33m.\u001b[0m\u001b[0mreraise\u001b[0m\u001b[1;33m(\u001b[0m\u001b[0mtype\u001b[0m\u001b[1;33m(\u001b[0m\u001b[0merror\u001b[0m\u001b[1;33m)\u001b[0m\u001b[1;33m,\u001b[0m \u001b[0merror\u001b[0m\u001b[1;33m,\u001b[0m \u001b[0m_stacktrace\u001b[0m\u001b[1;33m)\u001b[0m\u001b[1;33m\u001b[0m\u001b[1;33m\u001b[0m\u001b[0m\n\u001b[0m\u001b[0;32m    533\u001b[0m             \u001b[1;32melif\u001b[0m \u001b[0mread\u001b[0m \u001b[1;32mis\u001b[0m \u001b[1;32mnot\u001b[0m \u001b[1;32mNone\u001b[0m\u001b[1;33m:\u001b[0m\u001b[1;33m\u001b[0m\u001b[1;33m\u001b[0m\u001b[0m\n",
      "\u001b[1;32mc:\\Users\\oguzk\\anaconda3\\lib\\site-packages\\urllib3\\packages\\six.py\u001b[0m in \u001b[0;36mreraise\u001b[1;34m(tp, value, tb)\u001b[0m\n\u001b[0;32m    733\u001b[0m             \u001b[1;32mif\u001b[0m \u001b[0mvalue\u001b[0m\u001b[1;33m.\u001b[0m\u001b[0m__traceback__\u001b[0m \u001b[1;32mis\u001b[0m \u001b[1;32mnot\u001b[0m \u001b[0mtb\u001b[0m\u001b[1;33m:\u001b[0m\u001b[1;33m\u001b[0m\u001b[1;33m\u001b[0m\u001b[0m\n\u001b[1;32m--> 734\u001b[1;33m                 \u001b[1;32mraise\u001b[0m \u001b[0mvalue\u001b[0m\u001b[1;33m.\u001b[0m\u001b[0mwith_traceback\u001b[0m\u001b[1;33m(\u001b[0m\u001b[0mtb\u001b[0m\u001b[1;33m)\u001b[0m\u001b[1;33m\u001b[0m\u001b[1;33m\u001b[0m\u001b[0m\n\u001b[0m\u001b[0;32m    735\u001b[0m             \u001b[1;32mraise\u001b[0m \u001b[0mvalue\u001b[0m\u001b[1;33m\u001b[0m\u001b[1;33m\u001b[0m\u001b[0m\n",
      "\u001b[1;32mc:\\Users\\oguzk\\anaconda3\\lib\\site-packages\\urllib3\\connectionpool.py\u001b[0m in \u001b[0;36murlopen\u001b[1;34m(self, method, url, body, headers, retries, redirect, assert_same_host, timeout, pool_timeout, release_conn, chunked, body_pos, **response_kw)\u001b[0m\n\u001b[0;32m    698\u001b[0m             \u001b[1;31m# Make the request on the httplib connection object.\u001b[0m\u001b[1;33m\u001b[0m\u001b[1;33m\u001b[0m\u001b[1;33m\u001b[0m\u001b[0m\n\u001b[1;32m--> 699\u001b[1;33m             httplib_response = self._make_request(\n\u001b[0m\u001b[0;32m    700\u001b[0m                 \u001b[0mconn\u001b[0m\u001b[1;33m,\u001b[0m\u001b[1;33m\u001b[0m\u001b[1;33m\u001b[0m\u001b[0m\n",
      "\u001b[1;32mc:\\Users\\oguzk\\anaconda3\\lib\\site-packages\\urllib3\\connectionpool.py\u001b[0m in \u001b[0;36m_make_request\u001b[1;34m(self, conn, method, url, timeout, chunked, **httplib_request_kw)\u001b[0m\n\u001b[0;32m    381\u001b[0m         \u001b[1;32mtry\u001b[0m\u001b[1;33m:\u001b[0m\u001b[1;33m\u001b[0m\u001b[1;33m\u001b[0m\u001b[0m\n\u001b[1;32m--> 382\u001b[1;33m             \u001b[0mself\u001b[0m\u001b[1;33m.\u001b[0m\u001b[0m_validate_conn\u001b[0m\u001b[1;33m(\u001b[0m\u001b[0mconn\u001b[0m\u001b[1;33m)\u001b[0m\u001b[1;33m\u001b[0m\u001b[1;33m\u001b[0m\u001b[0m\n\u001b[0m\u001b[0;32m    383\u001b[0m         \u001b[1;32mexcept\u001b[0m \u001b[1;33m(\u001b[0m\u001b[0mSocketTimeout\u001b[0m\u001b[1;33m,\u001b[0m \u001b[0mBaseSSLError\u001b[0m\u001b[1;33m)\u001b[0m \u001b[1;32mas\u001b[0m \u001b[0me\u001b[0m\u001b[1;33m:\u001b[0m\u001b[1;33m\u001b[0m\u001b[1;33m\u001b[0m\u001b[0m\n",
      "\u001b[1;32mc:\\Users\\oguzk\\anaconda3\\lib\\site-packages\\urllib3\\connectionpool.py\u001b[0m in \u001b[0;36m_validate_conn\u001b[1;34m(self, conn)\u001b[0m\n\u001b[0;32m   1009\u001b[0m         \u001b[1;32mif\u001b[0m \u001b[1;32mnot\u001b[0m \u001b[0mgetattr\u001b[0m\u001b[1;33m(\u001b[0m\u001b[0mconn\u001b[0m\u001b[1;33m,\u001b[0m \u001b[1;34m\"sock\"\u001b[0m\u001b[1;33m,\u001b[0m \u001b[1;32mNone\u001b[0m\u001b[1;33m)\u001b[0m\u001b[1;33m:\u001b[0m  \u001b[1;31m# AppEngine might not have  `.sock`\u001b[0m\u001b[1;33m\u001b[0m\u001b[1;33m\u001b[0m\u001b[0m\n\u001b[1;32m-> 1010\u001b[1;33m             \u001b[0mconn\u001b[0m\u001b[1;33m.\u001b[0m\u001b[0mconnect\u001b[0m\u001b[1;33m(\u001b[0m\u001b[1;33m)\u001b[0m\u001b[1;33m\u001b[0m\u001b[1;33m\u001b[0m\u001b[0m\n\u001b[0m\u001b[0;32m   1011\u001b[0m \u001b[1;33m\u001b[0m\u001b[0m\n",
      "\u001b[1;32mc:\\Users\\oguzk\\anaconda3\\lib\\site-packages\\urllib3\\connection.py\u001b[0m in \u001b[0;36mconnect\u001b[1;34m(self)\u001b[0m\n\u001b[0;32m    410\u001b[0m \u001b[1;33m\u001b[0m\u001b[0m\n\u001b[1;32m--> 411\u001b[1;33m         self.sock = ssl_wrap_socket(\n\u001b[0m\u001b[0;32m    412\u001b[0m             \u001b[0msock\u001b[0m\u001b[1;33m=\u001b[0m\u001b[0mconn\u001b[0m\u001b[1;33m,\u001b[0m\u001b[1;33m\u001b[0m\u001b[1;33m\u001b[0m\u001b[0m\n",
      "\u001b[1;32mc:\\Users\\oguzk\\anaconda3\\lib\\site-packages\\urllib3\\util\\ssl_.py\u001b[0m in \u001b[0;36mssl_wrap_socket\u001b[1;34m(sock, keyfile, certfile, cert_reqs, ca_certs, server_hostname, ssl_version, ciphers, ssl_context, ca_cert_dir, key_password, ca_cert_data, tls_in_tls)\u001b[0m\n\u001b[0;32m    427\u001b[0m     \u001b[1;32mif\u001b[0m \u001b[0msend_sni\u001b[0m\u001b[1;33m:\u001b[0m\u001b[1;33m\u001b[0m\u001b[1;33m\u001b[0m\u001b[0m\n\u001b[1;32m--> 428\u001b[1;33m         ssl_sock = _ssl_wrap_socket_impl(\n\u001b[0m\u001b[0;32m    429\u001b[0m             \u001b[0msock\u001b[0m\u001b[1;33m,\u001b[0m \u001b[0mcontext\u001b[0m\u001b[1;33m,\u001b[0m \u001b[0mtls_in_tls\u001b[0m\u001b[1;33m,\u001b[0m \u001b[0mserver_hostname\u001b[0m\u001b[1;33m=\u001b[0m\u001b[0mserver_hostname\u001b[0m\u001b[1;33m\u001b[0m\u001b[1;33m\u001b[0m\u001b[0m\n",
      "\u001b[1;32mc:\\Users\\oguzk\\anaconda3\\lib\\site-packages\\urllib3\\util\\ssl_.py\u001b[0m in \u001b[0;36m_ssl_wrap_socket_impl\u001b[1;34m(sock, ssl_context, tls_in_tls, server_hostname)\u001b[0m\n\u001b[0;32m    471\u001b[0m     \u001b[1;32mif\u001b[0m \u001b[0mserver_hostname\u001b[0m\u001b[1;33m:\u001b[0m\u001b[1;33m\u001b[0m\u001b[1;33m\u001b[0m\u001b[0m\n\u001b[1;32m--> 472\u001b[1;33m         \u001b[1;32mreturn\u001b[0m \u001b[0mssl_context\u001b[0m\u001b[1;33m.\u001b[0m\u001b[0mwrap_socket\u001b[0m\u001b[1;33m(\u001b[0m\u001b[0msock\u001b[0m\u001b[1;33m,\u001b[0m \u001b[0mserver_hostname\u001b[0m\u001b[1;33m=\u001b[0m\u001b[0mserver_hostname\u001b[0m\u001b[1;33m)\u001b[0m\u001b[1;33m\u001b[0m\u001b[1;33m\u001b[0m\u001b[0m\n\u001b[0m\u001b[0;32m    473\u001b[0m     \u001b[1;32melse\u001b[0m\u001b[1;33m:\u001b[0m\u001b[1;33m\u001b[0m\u001b[1;33m\u001b[0m\u001b[0m\n",
      "\u001b[1;32mc:\\Users\\oguzk\\anaconda3\\lib\\ssl.py\u001b[0m in \u001b[0;36mwrap_socket\u001b[1;34m(self, sock, server_side, do_handshake_on_connect, suppress_ragged_eofs, server_hostname, session)\u001b[0m\n\u001b[0;32m    499\u001b[0m         \u001b[1;31m# ctx._wrap_socket()\u001b[0m\u001b[1;33m\u001b[0m\u001b[1;33m\u001b[0m\u001b[1;33m\u001b[0m\u001b[0m\n\u001b[1;32m--> 500\u001b[1;33m         return self.sslsocket_class._create(\n\u001b[0m\u001b[0;32m    501\u001b[0m             \u001b[0msock\u001b[0m\u001b[1;33m=\u001b[0m\u001b[0msock\u001b[0m\u001b[1;33m,\u001b[0m\u001b[1;33m\u001b[0m\u001b[1;33m\u001b[0m\u001b[0m\n",
      "\u001b[1;32mc:\\Users\\oguzk\\anaconda3\\lib\\ssl.py\u001b[0m in \u001b[0;36m_create\u001b[1;34m(cls, sock, server_side, do_handshake_on_connect, suppress_ragged_eofs, server_hostname, context, session)\u001b[0m\n\u001b[0;32m   1039\u001b[0m                         \u001b[1;32mraise\u001b[0m \u001b[0mValueError\u001b[0m\u001b[1;33m(\u001b[0m\u001b[1;34m\"do_handshake_on_connect should not be specified for non-blocking sockets\"\u001b[0m\u001b[1;33m)\u001b[0m\u001b[1;33m\u001b[0m\u001b[1;33m\u001b[0m\u001b[0m\n\u001b[1;32m-> 1040\u001b[1;33m                     \u001b[0mself\u001b[0m\u001b[1;33m.\u001b[0m\u001b[0mdo_handshake\u001b[0m\u001b[1;33m(\u001b[0m\u001b[1;33m)\u001b[0m\u001b[1;33m\u001b[0m\u001b[1;33m\u001b[0m\u001b[0m\n\u001b[0m\u001b[0;32m   1041\u001b[0m             \u001b[1;32mexcept\u001b[0m \u001b[1;33m(\u001b[0m\u001b[0mOSError\u001b[0m\u001b[1;33m,\u001b[0m \u001b[0mValueError\u001b[0m\u001b[1;33m)\u001b[0m\u001b[1;33m:\u001b[0m\u001b[1;33m\u001b[0m\u001b[1;33m\u001b[0m\u001b[0m\n",
      "\u001b[1;32mc:\\Users\\oguzk\\anaconda3\\lib\\ssl.py\u001b[0m in \u001b[0;36mdo_handshake\u001b[1;34m(self, block)\u001b[0m\n\u001b[0;32m   1308\u001b[0m                 \u001b[0mself\u001b[0m\u001b[1;33m.\u001b[0m\u001b[0msettimeout\u001b[0m\u001b[1;33m(\u001b[0m\u001b[1;32mNone\u001b[0m\u001b[1;33m)\u001b[0m\u001b[1;33m\u001b[0m\u001b[1;33m\u001b[0m\u001b[0m\n\u001b[1;32m-> 1309\u001b[1;33m             \u001b[0mself\u001b[0m\u001b[1;33m.\u001b[0m\u001b[0m_sslobj\u001b[0m\u001b[1;33m.\u001b[0m\u001b[0mdo_handshake\u001b[0m\u001b[1;33m(\u001b[0m\u001b[1;33m)\u001b[0m\u001b[1;33m\u001b[0m\u001b[1;33m\u001b[0m\u001b[0m\n\u001b[0m\u001b[0;32m   1310\u001b[0m         \u001b[1;32mfinally\u001b[0m\u001b[1;33m:\u001b[0m\u001b[1;33m\u001b[0m\u001b[1;33m\u001b[0m\u001b[0m\n",
      "\u001b[1;31mProtocolError\u001b[0m: ('Connection aborted.', ConnectionResetError(10054, 'An existing connection was forcibly closed by the remote host', None, 10054, None))",
      "\nDuring handling of the above exception, another exception occurred:\n",
      "\u001b[1;31mConnectionError\u001b[0m                           Traceback (most recent call last)",
      "\u001b[1;32m<ipython-input-48-2cb2cb2515b7>\u001b[0m in \u001b[0;36m<module>\u001b[1;34m\u001b[0m\n\u001b[0;32m     38\u001b[0m \u001b[1;33m\u001b[0m\u001b[0m\n\u001b[0;32m     39\u001b[0m             \u001b[0mauth_srch\u001b[0m \u001b[1;33m=\u001b[0m \u001b[0mElsSearch\u001b[0m\u001b[1;33m(\u001b[0m\u001b[1;34mf'AUTHLAST({family_in}) AND AUTHFIRST({given_in}) AND {sbj_area_query_creator(sa_in)}'\u001b[0m\u001b[1;33m,\u001b[0m\u001b[1;34m'author'\u001b[0m\u001b[1;33m)\u001b[0m\u001b[1;33m\u001b[0m\u001b[1;33m\u001b[0m\u001b[0m\n\u001b[1;32m---> 40\u001b[1;33m             \u001b[0mauth_srch\u001b[0m\u001b[1;33m.\u001b[0m\u001b[0mexecute\u001b[0m\u001b[1;33m(\u001b[0m\u001b[0mclient\u001b[0m\u001b[1;33m)\u001b[0m\u001b[1;33m\u001b[0m\u001b[1;33m\u001b[0m\u001b[0m\n\u001b[0m\u001b[0;32m     41\u001b[0m \u001b[1;33m\u001b[0m\u001b[0m\n\u001b[0;32m     42\u001b[0m         \u001b[1;32melse\u001b[0m\u001b[1;33m:\u001b[0m\u001b[1;33m\u001b[0m\u001b[1;33m\u001b[0m\u001b[0m\n",
      "\u001b[1;32mc:\\Users\\oguzk\\anaconda3\\lib\\site-packages\\elsapy\\elssearch.py\u001b[0m in \u001b[0;36mexecute\u001b[1;34m(self, els_client, get_all)\u001b[0m\n\u001b[0;32m     93\u001b[0m             all results for the search, up to a maximum of 5,000.\"\"\"\n\u001b[0;32m     94\u001b[0m         \u001b[1;31m## TODO: add exception handling\u001b[0m\u001b[1;33m\u001b[0m\u001b[1;33m\u001b[0m\u001b[1;33m\u001b[0m\u001b[0m\n\u001b[1;32m---> 95\u001b[1;33m         \u001b[0mapi_response\u001b[0m \u001b[1;33m=\u001b[0m \u001b[0mels_client\u001b[0m\u001b[1;33m.\u001b[0m\u001b[0mexec_request\u001b[0m\u001b[1;33m(\u001b[0m\u001b[0mself\u001b[0m\u001b[1;33m.\u001b[0m\u001b[0m_uri\u001b[0m\u001b[1;33m)\u001b[0m\u001b[1;33m\u001b[0m\u001b[1;33m\u001b[0m\u001b[0m\n\u001b[0m\u001b[0;32m     96\u001b[0m         \u001b[0mself\u001b[0m\u001b[1;33m.\u001b[0m\u001b[0m_tot_num_res\u001b[0m \u001b[1;33m=\u001b[0m \u001b[0mint\u001b[0m\u001b[1;33m(\u001b[0m\u001b[0mapi_response\u001b[0m\u001b[1;33m[\u001b[0m\u001b[1;34m'search-results'\u001b[0m\u001b[1;33m]\u001b[0m\u001b[1;33m[\u001b[0m\u001b[1;34m'opensearch:totalResults'\u001b[0m\u001b[1;33m]\u001b[0m\u001b[1;33m)\u001b[0m\u001b[1;33m\u001b[0m\u001b[1;33m\u001b[0m\u001b[0m\n\u001b[0;32m     97\u001b[0m         \u001b[0mself\u001b[0m\u001b[1;33m.\u001b[0m\u001b[0m_results\u001b[0m \u001b[1;33m=\u001b[0m \u001b[0mapi_response\u001b[0m\u001b[1;33m[\u001b[0m\u001b[1;34m'search-results'\u001b[0m\u001b[1;33m]\u001b[0m\u001b[1;33m[\u001b[0m\u001b[1;34m'entry'\u001b[0m\u001b[1;33m]\u001b[0m\u001b[1;33m\u001b[0m\u001b[1;33m\u001b[0m\u001b[0m\n",
      "\u001b[1;32mc:\\Users\\oguzk\\anaconda3\\lib\\site-packages\\elsapy\\elsclient.py\u001b[0m in \u001b[0;36mexec_request\u001b[1;34m(self, URL)\u001b[0m\n\u001b[0;32m    108\u001b[0m             \u001b[0mheaders\u001b[0m\u001b[1;33m[\u001b[0m\u001b[1;34m\"X-ELS-Insttoken\"\u001b[0m\u001b[1;33m]\u001b[0m \u001b[1;33m=\u001b[0m \u001b[0mself\u001b[0m\u001b[1;33m.\u001b[0m\u001b[0minst_token\u001b[0m\u001b[1;33m\u001b[0m\u001b[1;33m\u001b[0m\u001b[0m\n\u001b[0;32m    109\u001b[0m         \u001b[0mlogger\u001b[0m\u001b[1;33m.\u001b[0m\u001b[0minfo\u001b[0m\u001b[1;33m(\u001b[0m\u001b[1;34m'Sending GET request to '\u001b[0m \u001b[1;33m+\u001b[0m \u001b[0mURL\u001b[0m\u001b[1;33m)\u001b[0m\u001b[1;33m\u001b[0m\u001b[1;33m\u001b[0m\u001b[0m\n\u001b[1;32m--> 110\u001b[1;33m         r = requests.get(\n\u001b[0m\u001b[0;32m    111\u001b[0m             \u001b[0mURL\u001b[0m\u001b[1;33m,\u001b[0m\u001b[1;33m\u001b[0m\u001b[1;33m\u001b[0m\u001b[0m\n\u001b[0;32m    112\u001b[0m             \u001b[0mheaders\u001b[0m \u001b[1;33m=\u001b[0m \u001b[0mheaders\u001b[0m\u001b[1;33m\u001b[0m\u001b[1;33m\u001b[0m\u001b[0m\n",
      "\u001b[1;32mc:\\Users\\oguzk\\anaconda3\\lib\\site-packages\\requests\\api.py\u001b[0m in \u001b[0;36mget\u001b[1;34m(url, params, **kwargs)\u001b[0m\n\u001b[0;32m     74\u001b[0m \u001b[1;33m\u001b[0m\u001b[0m\n\u001b[0;32m     75\u001b[0m     \u001b[0mkwargs\u001b[0m\u001b[1;33m.\u001b[0m\u001b[0msetdefault\u001b[0m\u001b[1;33m(\u001b[0m\u001b[1;34m'allow_redirects'\u001b[0m\u001b[1;33m,\u001b[0m \u001b[1;32mTrue\u001b[0m\u001b[1;33m)\u001b[0m\u001b[1;33m\u001b[0m\u001b[1;33m\u001b[0m\u001b[0m\n\u001b[1;32m---> 76\u001b[1;33m     \u001b[1;32mreturn\u001b[0m \u001b[0mrequest\u001b[0m\u001b[1;33m(\u001b[0m\u001b[1;34m'get'\u001b[0m\u001b[1;33m,\u001b[0m \u001b[0murl\u001b[0m\u001b[1;33m,\u001b[0m \u001b[0mparams\u001b[0m\u001b[1;33m=\u001b[0m\u001b[0mparams\u001b[0m\u001b[1;33m,\u001b[0m \u001b[1;33m**\u001b[0m\u001b[0mkwargs\u001b[0m\u001b[1;33m)\u001b[0m\u001b[1;33m\u001b[0m\u001b[1;33m\u001b[0m\u001b[0m\n\u001b[0m\u001b[0;32m     77\u001b[0m \u001b[1;33m\u001b[0m\u001b[0m\n\u001b[0;32m     78\u001b[0m \u001b[1;33m\u001b[0m\u001b[0m\n",
      "\u001b[1;32mc:\\Users\\oguzk\\anaconda3\\lib\\site-packages\\requests\\api.py\u001b[0m in \u001b[0;36mrequest\u001b[1;34m(method, url, **kwargs)\u001b[0m\n\u001b[0;32m     59\u001b[0m     \u001b[1;31m# cases, and look like a memory leak in others.\u001b[0m\u001b[1;33m\u001b[0m\u001b[1;33m\u001b[0m\u001b[1;33m\u001b[0m\u001b[0m\n\u001b[0;32m     60\u001b[0m     \u001b[1;32mwith\u001b[0m \u001b[0msessions\u001b[0m\u001b[1;33m.\u001b[0m\u001b[0mSession\u001b[0m\u001b[1;33m(\u001b[0m\u001b[1;33m)\u001b[0m \u001b[1;32mas\u001b[0m \u001b[0msession\u001b[0m\u001b[1;33m:\u001b[0m\u001b[1;33m\u001b[0m\u001b[1;33m\u001b[0m\u001b[0m\n\u001b[1;32m---> 61\u001b[1;33m         \u001b[1;32mreturn\u001b[0m \u001b[0msession\u001b[0m\u001b[1;33m.\u001b[0m\u001b[0mrequest\u001b[0m\u001b[1;33m(\u001b[0m\u001b[0mmethod\u001b[0m\u001b[1;33m=\u001b[0m\u001b[0mmethod\u001b[0m\u001b[1;33m,\u001b[0m \u001b[0murl\u001b[0m\u001b[1;33m=\u001b[0m\u001b[0murl\u001b[0m\u001b[1;33m,\u001b[0m \u001b[1;33m**\u001b[0m\u001b[0mkwargs\u001b[0m\u001b[1;33m)\u001b[0m\u001b[1;33m\u001b[0m\u001b[1;33m\u001b[0m\u001b[0m\n\u001b[0m\u001b[0;32m     62\u001b[0m \u001b[1;33m\u001b[0m\u001b[0m\n\u001b[0;32m     63\u001b[0m \u001b[1;33m\u001b[0m\u001b[0m\n",
      "\u001b[1;32mc:\\Users\\oguzk\\anaconda3\\lib\\site-packages\\requests\\sessions.py\u001b[0m in \u001b[0;36mrequest\u001b[1;34m(self, method, url, params, data, headers, cookies, files, auth, timeout, allow_redirects, proxies, hooks, stream, verify, cert, json)\u001b[0m\n\u001b[0;32m    540\u001b[0m         }\n\u001b[0;32m    541\u001b[0m         \u001b[0msend_kwargs\u001b[0m\u001b[1;33m.\u001b[0m\u001b[0mupdate\u001b[0m\u001b[1;33m(\u001b[0m\u001b[0msettings\u001b[0m\u001b[1;33m)\u001b[0m\u001b[1;33m\u001b[0m\u001b[1;33m\u001b[0m\u001b[0m\n\u001b[1;32m--> 542\u001b[1;33m         \u001b[0mresp\u001b[0m \u001b[1;33m=\u001b[0m \u001b[0mself\u001b[0m\u001b[1;33m.\u001b[0m\u001b[0msend\u001b[0m\u001b[1;33m(\u001b[0m\u001b[0mprep\u001b[0m\u001b[1;33m,\u001b[0m \u001b[1;33m**\u001b[0m\u001b[0msend_kwargs\u001b[0m\u001b[1;33m)\u001b[0m\u001b[1;33m\u001b[0m\u001b[1;33m\u001b[0m\u001b[0m\n\u001b[0m\u001b[0;32m    543\u001b[0m \u001b[1;33m\u001b[0m\u001b[0m\n\u001b[0;32m    544\u001b[0m         \u001b[1;32mreturn\u001b[0m \u001b[0mresp\u001b[0m\u001b[1;33m\u001b[0m\u001b[1;33m\u001b[0m\u001b[0m\n",
      "\u001b[1;32mc:\\Users\\oguzk\\anaconda3\\lib\\site-packages\\requests\\sessions.py\u001b[0m in \u001b[0;36msend\u001b[1;34m(self, request, **kwargs)\u001b[0m\n\u001b[0;32m    653\u001b[0m \u001b[1;33m\u001b[0m\u001b[0m\n\u001b[0;32m    654\u001b[0m         \u001b[1;31m# Send the request\u001b[0m\u001b[1;33m\u001b[0m\u001b[1;33m\u001b[0m\u001b[1;33m\u001b[0m\u001b[0m\n\u001b[1;32m--> 655\u001b[1;33m         \u001b[0mr\u001b[0m \u001b[1;33m=\u001b[0m \u001b[0madapter\u001b[0m\u001b[1;33m.\u001b[0m\u001b[0msend\u001b[0m\u001b[1;33m(\u001b[0m\u001b[0mrequest\u001b[0m\u001b[1;33m,\u001b[0m \u001b[1;33m**\u001b[0m\u001b[0mkwargs\u001b[0m\u001b[1;33m)\u001b[0m\u001b[1;33m\u001b[0m\u001b[1;33m\u001b[0m\u001b[0m\n\u001b[0m\u001b[0;32m    656\u001b[0m \u001b[1;33m\u001b[0m\u001b[0m\n\u001b[0;32m    657\u001b[0m         \u001b[1;31m# Total elapsed time of the request (approximately)\u001b[0m\u001b[1;33m\u001b[0m\u001b[1;33m\u001b[0m\u001b[1;33m\u001b[0m\u001b[0m\n",
      "\u001b[1;32mc:\\Users\\oguzk\\anaconda3\\lib\\site-packages\\requests\\adapters.py\u001b[0m in \u001b[0;36msend\u001b[1;34m(self, request, stream, timeout, verify, cert, proxies)\u001b[0m\n\u001b[0;32m    496\u001b[0m \u001b[1;33m\u001b[0m\u001b[0m\n\u001b[0;32m    497\u001b[0m         \u001b[1;32mexcept\u001b[0m \u001b[1;33m(\u001b[0m\u001b[0mProtocolError\u001b[0m\u001b[1;33m,\u001b[0m \u001b[0msocket\u001b[0m\u001b[1;33m.\u001b[0m\u001b[0merror\u001b[0m\u001b[1;33m)\u001b[0m \u001b[1;32mas\u001b[0m \u001b[0merr\u001b[0m\u001b[1;33m:\u001b[0m\u001b[1;33m\u001b[0m\u001b[1;33m\u001b[0m\u001b[0m\n\u001b[1;32m--> 498\u001b[1;33m             \u001b[1;32mraise\u001b[0m \u001b[0mConnectionError\u001b[0m\u001b[1;33m(\u001b[0m\u001b[0merr\u001b[0m\u001b[1;33m,\u001b[0m \u001b[0mrequest\u001b[0m\u001b[1;33m=\u001b[0m\u001b[0mrequest\u001b[0m\u001b[1;33m)\u001b[0m\u001b[1;33m\u001b[0m\u001b[1;33m\u001b[0m\u001b[0m\n\u001b[0m\u001b[0;32m    499\u001b[0m \u001b[1;33m\u001b[0m\u001b[0m\n\u001b[0;32m    500\u001b[0m         \u001b[1;32mexcept\u001b[0m \u001b[0mMaxRetryError\u001b[0m \u001b[1;32mas\u001b[0m \u001b[0me\u001b[0m\u001b[1;33m:\u001b[0m\u001b[1;33m\u001b[0m\u001b[1;33m\u001b[0m\u001b[0m\n",
      "\u001b[1;31mConnectionError\u001b[0m: ('Connection aborted.', ConnectionResetError(10054, 'An existing connection was forcibly closed by the remote host', None, 10054, None))"
     ]
    }
   ],
   "source": [
    "# Full Loop - Take 11:\n",
    "# Fixed API keys lists\n",
    "\n",
    "#author_out_list= list()\n",
    "\n",
    "avail_api_keys_list = [\"7b6016e18d538a15806f172d0ac7a0cd\",\"5d30dea104b6b7c33f6a120619fdbc6e\",\"e6cc81dc4b558be9892fa4e0715822a1\",\"da2094a93eb167105699cfb6c47466b6\",\n",
    "\"a323957ad88e129d8bae2c7b2fd0e63a\",\"a809d51349b6a614581cf57493dc0c94\",\"f36f0ccc1554186bb009e9ca7b3c14c0\",\"a1d21854963d1cca62742c56b5f7633d\",\"f3bdebaa3f41b7443d8d9d8983c00479\",\"bfaac6eb78a88e97874fa1d0bfd8c63e\",\n",
    "\"546932c3fcd8e21fbc6eab08010b9f44\",\"0599d76680c29c71e028fc9b77b0c063\",\"baaa9e51f8a49461352af25710719157\",\"30195f0b2192052a36bcab9ce3c4064f\",\"b7e95f5ea731eb5c9e84e7a1d499f50e\",\"8707db153e4b9672fa6df25b03a5f747\",\n",
    "\"2dab4694b4347fa574d159bb97484fc4\",\"6af3d2c09eb08ec6e12f0cead9a1f5bb\",\"3872e798bf48fa28af583b9ebef5deb6\",\"1473c31dbcdb425f9cdaf75c673279d3\"]\n",
    "\n",
    "used_api_keys_list = [\"6ae4b5181b374f521e60d2ef4be73ec5\", \"c14e197a4982e7349247b189ff26da45\", \"fbc5e06467522a07f93e247a24d89d3b\", \"63db00d1e8f7e5a5ef223abad3858dfe\",\"3f453389d0cada327703d787cd41b4ec\",\"e989f6eb6ea2a19b104eed28efe11071\",\n",
    "\"784ab6b22d3148f3d3f94a75596d0633\",\"1a3f1a762b1e2abec678b08f4d7a1038\",\"53acda4267b6a5a9a6a87b8767aa8cc6\",\"9289c787b0d98e1a5a7a7fb58e102e1a\",\"1bf711a2bc396e7e99340bdaf2ba29d0\",\"3bd33d7e35df95cc6dc576fd67e7356d\",\n",
    "\"e481b6eef24800668a6ee5ea576c1f97\",\"563df86d8ae1a6e62e0f0e4278a45cb9\",\"92975ea2d964ac570219d520aaad1d41\",\"c8eab163448aa6bd54fa97af700a939b\",\"396d5385a697326c03800cf37ca4f1a2\",\"8a9a5beb728f47b401fd145e1bb035ba\"]\n",
    "\n",
    "client = ElsClient(\"cfbe1762b57a3310906c53bbbb3a68e5\")\n",
    "print(f'Start Time = {datetime.now().strftime(\"%H:%M:%S\")}')\n",
    "\n",
    "for auth_id in first_author_input_dict_take11:\n",
    "    given_in = first_author_input_dict_take11[auth_id][\"new_given\"]\n",
    "    family_in = first_author_input_dict_take11[auth_id][\"new_family\"]\n",
    "    sa_in = first_author_input_dict_take11[auth_id][\"SA_list\"]\n",
    "\n",
    "    try:\n",
    "        auth_srch = ElsSearch(f'AUTHLAST({family_in}) AND AUTHFIRST({given_in}) AND {sbj_area_query_creator(sa_in)}','author')\n",
    "        auth_srch.execute(client)\n",
    "    except:\n",
    "        if len(avail_api_keys_list) >0:\n",
    "            with open(\"author_out_list_loop_save\",\"wb\") as p:\n",
    "                pickle.dump(author_out_list, p)\n",
    "            print(\"Loop save complete!\")\n",
    "            new_key = avail_api_keys_list.pop(0)            \n",
    "            client = ElsClient(new_key)\n",
    "            \n",
    "            print(f'Time = {datetime.now().strftime(\"%H:%M:%S\")}')\n",
    "            \n",
    "            print(f\"Changed API key, now using key: {new_key}\")\n",
    "            used_api_keys_list.append(new_key)\n",
    "\n",
    "            auth_srch = ElsSearch(f'AUTHLAST({family_in}) AND AUTHFIRST({given_in}) AND {sbj_area_query_creator(sa_in)}','author')\n",
    "            auth_srch.execute(client)\n",
    "\n",
    "        else:\n",
    "            print(\"No available API keys to use!\")\n",
    "            break\n",
    "\n",
    "\n",
    "    country_out = list()\n",
    "    given_out = list()\n",
    "    family_out = list()\n",
    "    doc_count_out = list()\n",
    "\n",
    "    for auth in auth_srch.results:\n",
    "        # Country:\n",
    "        try:\n",
    "            country_out.append(auth['affiliation-current']['affiliation-country'])\n",
    "        except:\n",
    "            pass\n",
    "\n",
    "        # Given:\n",
    "        try:\n",
    "            given_out.append(auth['preferred-name']['given-name'])\n",
    "        except:\n",
    "            pass\n",
    "\n",
    "        # Family:\n",
    "        try:\n",
    "            family_out.append(auth['preferred-name']['surname'])\n",
    "        except:\n",
    "            pass\n",
    "\n",
    "        # Doc Count:\n",
    "        try:\n",
    "            doc_count_out.append(auth['document-count'])\n",
    "        except:\n",
    "            pass\n",
    "\n",
    "    \n",
    "    author_out_dict = dict(author_id=auth_id, country=country_out, given=given_out, family=family_out, doc_count=doc_count_out)\n",
    "\n",
    "    author_out_list.append(author_out_dict)\n",
    "\n",
    "\n"
   ]
  },
  {
   "cell_type": "code",
   "execution_count": 57,
   "metadata": {},
   "outputs": [
    {
     "data": {
      "text/html": [
       "<div>\n",
       "<style scoped>\n",
       "    .dataframe tbody tr th:only-of-type {\n",
       "        vertical-align: middle;\n",
       "    }\n",
       "\n",
       "    .dataframe tbody tr th {\n",
       "        vertical-align: top;\n",
       "    }\n",
       "\n",
       "    .dataframe thead th {\n",
       "        text-align: right;\n",
       "    }\n",
       "</style>\n",
       "<table border=\"1\" class=\"dataframe\">\n",
       "  <thead>\n",
       "    <tr style=\"text-align: right;\">\n",
       "      <th></th>\n",
       "      <th>author_id</th>\n",
       "      <th>country</th>\n",
       "      <th>given</th>\n",
       "      <th>family</th>\n",
       "      <th>doc_count</th>\n",
       "    </tr>\n",
       "  </thead>\n",
       "  <tbody>\n",
       "    <tr>\n",
       "      <th>0</th>\n",
       "      <td>aut_0</td>\n",
       "      <td>[China, China, China, Hong Kong]</td>\n",
       "      <td>[Jing, Jingheng, Jing, (Luna) Jing]</td>\n",
       "      <td>[Cai, Cai, Cai, Cai]</td>\n",
       "      <td>[23, 22, 1, 1]</td>\n",
       "    </tr>\n",
       "    <tr>\n",
       "      <th>1</th>\n",
       "      <td>aut_1</td>\n",
       "      <td>[United States, United States, United States, ...</td>\n",
       "      <td>[Qing, Qing, (Grace) Qing, Grace Qing]</td>\n",
       "      <td>[Hao, Hao, Hao, Hao]</td>\n",
       "      <td>[86, 11, 2, 1]</td>\n",
       "    </tr>\n",
       "    <tr>\n",
       "      <th>2</th>\n",
       "      <td>aut_2</td>\n",
       "      <td>[China, China, China, China, China, China, Chi...</td>\n",
       "      <td>[Yongquan, Yonghong, Yong, Dayong, Yongwu, Yon...</td>\n",
       "      <td>[Zhou, Zhou, Zhou, Zhou, Zhou, Zhou, Zhou, Zho...</td>\n",
       "      <td>[286, 220, 193, 170, 164, 151, 100, 92, 74, 64...</td>\n",
       "    </tr>\n",
       "    <tr>\n",
       "      <th>3</th>\n",
       "      <td>aut_3</td>\n",
       "      <td>[Italy, Italy, France, Nigeria, Malaysia, Saud...</td>\n",
       "      <td>[Andrea, Alessandro, Ado Adamou Abba, Hafizull...</td>\n",
       "      <td>[Abba, Abbà, Ari, Ahmed, Haruna, Abba, Abba, A...</td>\n",
       "      <td>[75, 65, 44, 19, 17, 15, 8, 3]</td>\n",
       "    </tr>\n",
       "    <tr>\n",
       "      <th>4</th>\n",
       "      <td>aut_4</td>\n",
       "      <td>[Italy]</td>\n",
       "      <td>[Antonella]</td>\n",
       "      <td>[Agodi]</td>\n",
       "      <td>[234]</td>\n",
       "    </tr>\n",
       "    <tr>\n",
       "      <th>...</th>\n",
       "      <td>...</td>\n",
       "      <td>...</td>\n",
       "      <td>...</td>\n",
       "      <td>...</td>\n",
       "      <td>...</td>\n",
       "    </tr>\n",
       "    <tr>\n",
       "      <th>101436</th>\n",
       "      <td>aut_101441</td>\n",
       "      <td>[South Africa]</td>\n",
       "      <td>[O. T.]</td>\n",
       "      <td>[Laseinde]</td>\n",
       "      <td>[45]</td>\n",
       "    </tr>\n",
       "    <tr>\n",
       "      <th>101437</th>\n",
       "      <td>aut_101442</td>\n",
       "      <td>[Canada]</td>\n",
       "      <td>[Ophélie]</td>\n",
       "      <td>[Ronce]</td>\n",
       "      <td>[51]</td>\n",
       "    </tr>\n",
       "    <tr>\n",
       "      <th>101438</th>\n",
       "      <td>aut_101443</td>\n",
       "      <td>[United Kingdom]</td>\n",
       "      <td>[Ophelie]</td>\n",
       "      <td>[Torres]</td>\n",
       "      <td>[7]</td>\n",
       "    </tr>\n",
       "    <tr>\n",
       "      <th>101439</th>\n",
       "      <td>aut_101444</td>\n",
       "      <td>[Canada]</td>\n",
       "      <td>[Opher]</td>\n",
       "      <td>[Baron]</td>\n",
       "      <td>[41]</td>\n",
       "    </tr>\n",
       "    <tr>\n",
       "      <th>101440</th>\n",
       "      <td>aut_101445</td>\n",
       "      <td>[Israel]</td>\n",
       "      <td>[Ophir]</td>\n",
       "      <td>[Handzel]</td>\n",
       "      <td>[79]</td>\n",
       "    </tr>\n",
       "  </tbody>\n",
       "</table>\n",
       "<p>101441 rows × 5 columns</p>\n",
       "</div>"
      ],
      "text/plain": [
       "         author_id                                            country  \\\n",
       "0            aut_0                   [China, China, China, Hong Kong]   \n",
       "1            aut_1  [United States, United States, United States, ...   \n",
       "2            aut_2  [China, China, China, China, China, China, Chi...   \n",
       "3            aut_3  [Italy, Italy, France, Nigeria, Malaysia, Saud...   \n",
       "4            aut_4                                            [Italy]   \n",
       "...            ...                                                ...   \n",
       "101436  aut_101441                                     [South Africa]   \n",
       "101437  aut_101442                                           [Canada]   \n",
       "101438  aut_101443                                   [United Kingdom]   \n",
       "101439  aut_101444                                           [Canada]   \n",
       "101440  aut_101445                                           [Israel]   \n",
       "\n",
       "                                                    given  \\\n",
       "0                     [Jing, Jingheng, Jing, (Luna) Jing]   \n",
       "1                  [Qing, Qing, (Grace) Qing, Grace Qing]   \n",
       "2       [Yongquan, Yonghong, Yong, Dayong, Yongwu, Yon...   \n",
       "3       [Andrea, Alessandro, Ado Adamou Abba, Hafizull...   \n",
       "4                                             [Antonella]   \n",
       "...                                                   ...   \n",
       "101436                                            [O. T.]   \n",
       "101437                                          [Ophélie]   \n",
       "101438                                          [Ophelie]   \n",
       "101439                                            [Opher]   \n",
       "101440                                            [Ophir]   \n",
       "\n",
       "                                                   family  \\\n",
       "0                                    [Cai, Cai, Cai, Cai]   \n",
       "1                                    [Hao, Hao, Hao, Hao]   \n",
       "2       [Zhou, Zhou, Zhou, Zhou, Zhou, Zhou, Zhou, Zho...   \n",
       "3       [Abba, Abbà, Ari, Ahmed, Haruna, Abba, Abba, A...   \n",
       "4                                                 [Agodi]   \n",
       "...                                                   ...   \n",
       "101436                                         [Laseinde]   \n",
       "101437                                            [Ronce]   \n",
       "101438                                           [Torres]   \n",
       "101439                                            [Baron]   \n",
       "101440                                          [Handzel]   \n",
       "\n",
       "                                                doc_count  \n",
       "0                                          [23, 22, 1, 1]  \n",
       "1                                          [86, 11, 2, 1]  \n",
       "2       [286, 220, 193, 170, 164, 151, 100, 92, 74, 64...  \n",
       "3                          [75, 65, 44, 19, 17, 15, 8, 3]  \n",
       "4                                                   [234]  \n",
       "...                                                   ...  \n",
       "101436                                               [45]  \n",
       "101437                                               [51]  \n",
       "101438                                                [7]  \n",
       "101439                                               [41]  \n",
       "101440                                               [79]  \n",
       "\n",
       "[101441 rows x 5 columns]"
      ]
     },
     "execution_count": 57,
     "metadata": {},
     "output_type": "execute_result"
    }
   ],
   "source": [
    "pd.DataFrame(author_out_list)"
   ]
  },
  {
   "cell_type": "code",
   "execution_count": 50,
   "metadata": {},
   "outputs": [],
   "source": [
    "with open(\"author_out_list\",\"wb\") as p:\n",
    "    pickle.dump(author_out_list, p)"
   ]
  },
  {
   "cell_type": "markdown",
   "metadata": {},
   "source": [
    "#### Take 12:"
   ]
  },
  {
   "cell_type": "code",
   "execution_count": 60,
   "metadata": {},
   "outputs": [
    {
     "data": {
      "text/html": [
       "<div>\n",
       "<style scoped>\n",
       "    .dataframe tbody tr th:only-of-type {\n",
       "        vertical-align: middle;\n",
       "    }\n",
       "\n",
       "    .dataframe tbody tr th {\n",
       "        vertical-align: top;\n",
       "    }\n",
       "\n",
       "    .dataframe thead th {\n",
       "        text-align: right;\n",
       "    }\n",
       "</style>\n",
       "<table border=\"1\" class=\"dataframe\">\n",
       "  <thead>\n",
       "    <tr style=\"text-align: right;\">\n",
       "      <th></th>\n",
       "      <th>new_given</th>\n",
       "      <th>new_family</th>\n",
       "      <th>SA_list</th>\n",
       "      <th>DOI</th>\n",
       "    </tr>\n",
       "    <tr>\n",
       "      <th>index</th>\n",
       "      <th></th>\n",
       "      <th></th>\n",
       "      <th></th>\n",
       "      <th></th>\n",
       "    </tr>\n",
       "  </thead>\n",
       "  <tbody>\n",
       "    <tr>\n",
       "      <th>aut_101445</th>\n",
       "      <td>ophir</td>\n",
       "      <td>handzel</td>\n",
       "      <td>[Medicine, Health Professions]</td>\n",
       "      <td>[10.1159/000349913]</td>\n",
       "    </tr>\n",
       "    <tr>\n",
       "      <th>aut_101446</th>\n",
       "      <td>or</td>\n",
       "      <td>ettlinger</td>\n",
       "      <td>[Arts and Humanities]</td>\n",
       "      <td>[10.1162/leon_a_00808]</td>\n",
       "    </tr>\n",
       "    <tr>\n",
       "      <th>aut_101447</th>\n",
       "      <td>ora</td>\n",
       "      <td>peleg</td>\n",
       "      <td>[Social Sciences]</td>\n",
       "      <td>[10.1080/01639625.2012.726176]</td>\n",
       "    </tr>\n",
       "    <tr>\n",
       "      <th>aut_101448</th>\n",
       "      <td>oral</td>\n",
       "      <td>sokucu</td>\n",
       "      <td>[Medicine, Dentistry]</td>\n",
       "      <td>[10.2319/120309-694.1]</td>\n",
       "    </tr>\n",
       "    <tr>\n",
       "      <th>aut_101449</th>\n",
       "      <td>oral</td>\n",
       "      <td>yagci</td>\n",
       "      <td>[Engineering]</td>\n",
       "      <td>[10.1016/j.apor.2017.08.014]</td>\n",
       "    </tr>\n",
       "    <tr>\n",
       "      <th>...</th>\n",
       "      <td>...</td>\n",
       "      <td>...</td>\n",
       "      <td>...</td>\n",
       "      <td>...</td>\n",
       "    </tr>\n",
       "    <tr>\n",
       "      <th>aut_146533</th>\n",
       "      <td>žiga</td>\n",
       "      <td>šušteršic</td>\n",
       "      <td>[Physics and Astronomy, Materials Science, Eng...</td>\n",
       "      <td>[10.1016/j.polymdegradstab.2009.10.013]</td>\n",
       "    </tr>\n",
       "    <tr>\n",
       "      <th>aut_146534</th>\n",
       "      <td>živa bricman</td>\n",
       "      <td>rejc</td>\n",
       "      <td>[Engineering, Energy, Chemical Engineering, En...</td>\n",
       "      <td>[10.1016/j.ijepes.2014.05.019, 10.1016/j.jlp.2...</td>\n",
       "    </tr>\n",
       "    <tr>\n",
       "      <th>aut_146535</th>\n",
       "      <td>а.kh.</td>\n",
       "      <td>inoyatov</td>\n",
       "      <td>[Materials Science, Physics and Astronomy]</td>\n",
       "      <td>[10.1016/j.elspec.2015.02.015]</td>\n",
       "    </tr>\n",
       "    <tr>\n",
       "      <th>aut_146536</th>\n",
       "      <td>е.</td>\n",
       "      <td>blagodatskaya</td>\n",
       "      <td>[Agricultural and Biological Sciences, Immunol...</td>\n",
       "      <td>[10.1007/s00374-014-0899-6]</td>\n",
       "    </tr>\n",
       "    <tr>\n",
       "      <th>aut_146537</th>\n",
       "      <td>ᴌukasz</td>\n",
       "      <td>boguszewicz</td>\n",
       "      <td>[Physics and Astronomy]</td>\n",
       "      <td>[10.1093/jrr/rrz079]</td>\n",
       "    </tr>\n",
       "  </tbody>\n",
       "</table>\n",
       "<p>45091 rows × 4 columns</p>\n",
       "</div>"
      ],
      "text/plain": [
       "               new_given     new_family  \\\n",
       "index                                     \n",
       "aut_101445         ophir        handzel   \n",
       "aut_101446            or      ettlinger   \n",
       "aut_101447           ora          peleg   \n",
       "aut_101448          oral         sokucu   \n",
       "aut_101449          oral          yagci   \n",
       "...                  ...            ...   \n",
       "aut_146533          žiga      šušteršic   \n",
       "aut_146534  živa bricman           rejc   \n",
       "aut_146535         а.kh.       inoyatov   \n",
       "aut_146536            е.  blagodatskaya   \n",
       "aut_146537        ᴌukasz    boguszewicz   \n",
       "\n",
       "                                                      SA_list  \\\n",
       "index                                                           \n",
       "aut_101445                     [Medicine, Health Professions]   \n",
       "aut_101446                              [Arts and Humanities]   \n",
       "aut_101447                                  [Social Sciences]   \n",
       "aut_101448                              [Medicine, Dentistry]   \n",
       "aut_101449                                      [Engineering]   \n",
       "...                                                       ...   \n",
       "aut_146533  [Physics and Astronomy, Materials Science, Eng...   \n",
       "aut_146534  [Engineering, Energy, Chemical Engineering, En...   \n",
       "aut_146535         [Materials Science, Physics and Astronomy]   \n",
       "aut_146536  [Agricultural and Biological Sciences, Immunol...   \n",
       "aut_146537                            [Physics and Astronomy]   \n",
       "\n",
       "                                                          DOI  \n",
       "index                                                          \n",
       "aut_101445                                [10.1159/000349913]  \n",
       "aut_101446                             [10.1162/leon_a_00808]  \n",
       "aut_101447                     [10.1080/01639625.2012.726176]  \n",
       "aut_101448                             [10.2319/120309-694.1]  \n",
       "aut_101449                       [10.1016/j.apor.2017.08.014]  \n",
       "...                                                       ...  \n",
       "aut_146533            [10.1016/j.polymdegradstab.2009.10.013]  \n",
       "aut_146534  [10.1016/j.ijepes.2014.05.019, 10.1016/j.jlp.2...  \n",
       "aut_146535                     [10.1016/j.elspec.2015.02.015]  \n",
       "aut_146536                        [10.1007/s00374-014-0899-6]  \n",
       "aut_146537                               [10.1093/jrr/rrz079]  \n",
       "\n",
       "[45091 rows x 4 columns]"
      ]
     },
     "execution_count": 60,
     "metadata": {},
     "output_type": "execute_result"
    }
   ],
   "source": [
    "q1_first_author_df.drop([\"aut_4915\", \"aut_14163\", \"aut_18315\", \"aut_23897\", \"aut_48200\", \"aut_112348\", \"aut_124149\"])[101440:]"
   ]
  },
  {
   "cell_type": "code",
   "execution_count": 64,
   "metadata": {},
   "outputs": [],
   "source": [
    "q1_first_author_df.loc[\"aut_101446\",\"new_given\"] = \"o.\""
   ]
  },
  {
   "cell_type": "markdown",
   "metadata": {},
   "source": [
    "Forgot to query or etlinger"
   ]
  },
  {
   "cell_type": "code",
   "execution_count": 65,
   "metadata": {},
   "outputs": [],
   "source": [
    "first_author_input_dict_take12 = q1_first_author_df.drop([\"aut_4915\", \"aut_14163\", \"aut_18315\", \"aut_23897\", \"aut_48200\", \"aut_112348\", \"aut_124149\"])[[\"new_given\",\"new_family\",\"SA_list\"]][101442:].to_dict(\"index\")"
   ]
  },
  {
   "cell_type": "code",
   "execution_count": 66,
   "metadata": {},
   "outputs": [
    {
     "name": "stdout",
     "output_type": "stream",
     "text": [
      "Start Time = 21:32:05\n",
      "Loop save complete!\n",
      "Time = 00:09:23\n",
      "Changed API key, now using key: a1d21854963d1cca62742c56b5f7633d\n",
      "Loop save complete!\n",
      "Time = 00:46:33\n",
      "Changed API key, now using key: f3bdebaa3f41b7443d8d9d8983c00479\n",
      "Loop save complete!\n",
      "Time = 01:17:38\n",
      "Changed API key, now using key: bfaac6eb78a88e97874fa1d0bfd8c63e\n",
      "Loop save complete!\n",
      "Time = 01:23:27\n",
      "Changed API key, now using key: 546932c3fcd8e21fbc6eab08010b9f44\n",
      "Loop save complete!\n",
      "Time = 01:38:54\n",
      "Changed API key, now using key: 0599d76680c29c71e028fc9b77b0c063\n",
      "Loop save complete!\n",
      "Time = 03:10:29\n",
      "Changed API key, now using key: baaa9e51f8a49461352af25710719157\n",
      "Loop save complete!\n",
      "Time = 03:50:00\n",
      "Changed API key, now using key: 30195f0b2192052a36bcab9ce3c4064f\n"
     ]
    },
    {
     "ename": "HTTPError",
     "evalue": "HTTP 429 Error from https://api.elsevier.com/content/search/author?query=AUTHLAST%28chawla%29+AND+AUTHFIRST%28reena%29+AND+SUBJAREA%28PHAR%29+AND+SUBJAREA%28BIOC%29\nand using headers {'X-ELS-APIKey': '30195f0b2192052a36bcab9ce3c4064f', 'User-Agent': 'elsapy-v0.5.0', 'Accept': 'application/json'}:\n{\"error-response\":{\"error-code\":\"TOO_MANY_REQUESTS\",\"error-message\":\"Request has been placed in time-out for exceeding quota or rate limits. Please reference HTTP header X-RateLimit-Reset for when requests can resubmitted.\"}}",
     "output_type": "error",
     "traceback": [
      "\u001b[1;31m---------------------------------------------------------------------------\u001b[0m",
      "\u001b[1;31mConnectionResetError\u001b[0m                      Traceback (most recent call last)",
      "\u001b[1;32mc:\\Users\\oguzk\\anaconda3\\lib\\site-packages\\urllib3\\connectionpool.py\u001b[0m in \u001b[0;36murlopen\u001b[1;34m(self, method, url, body, headers, retries, redirect, assert_same_host, timeout, pool_timeout, release_conn, chunked, body_pos, **response_kw)\u001b[0m\n\u001b[0;32m    698\u001b[0m             \u001b[1;31m# Make the request on the httplib connection object.\u001b[0m\u001b[1;33m\u001b[0m\u001b[1;33m\u001b[0m\u001b[1;33m\u001b[0m\u001b[0m\n\u001b[1;32m--> 699\u001b[1;33m             httplib_response = self._make_request(\n\u001b[0m\u001b[0;32m    700\u001b[0m                 \u001b[0mconn\u001b[0m\u001b[1;33m,\u001b[0m\u001b[1;33m\u001b[0m\u001b[1;33m\u001b[0m\u001b[0m\n",
      "\u001b[1;32mc:\\Users\\oguzk\\anaconda3\\lib\\site-packages\\urllib3\\connectionpool.py\u001b[0m in \u001b[0;36m_make_request\u001b[1;34m(self, conn, method, url, timeout, chunked, **httplib_request_kw)\u001b[0m\n\u001b[0;32m    381\u001b[0m         \u001b[1;32mtry\u001b[0m\u001b[1;33m:\u001b[0m\u001b[1;33m\u001b[0m\u001b[1;33m\u001b[0m\u001b[0m\n\u001b[1;32m--> 382\u001b[1;33m             \u001b[0mself\u001b[0m\u001b[1;33m.\u001b[0m\u001b[0m_validate_conn\u001b[0m\u001b[1;33m(\u001b[0m\u001b[0mconn\u001b[0m\u001b[1;33m)\u001b[0m\u001b[1;33m\u001b[0m\u001b[1;33m\u001b[0m\u001b[0m\n\u001b[0m\u001b[0;32m    383\u001b[0m         \u001b[1;32mexcept\u001b[0m \u001b[1;33m(\u001b[0m\u001b[0mSocketTimeout\u001b[0m\u001b[1;33m,\u001b[0m \u001b[0mBaseSSLError\u001b[0m\u001b[1;33m)\u001b[0m \u001b[1;32mas\u001b[0m \u001b[0me\u001b[0m\u001b[1;33m:\u001b[0m\u001b[1;33m\u001b[0m\u001b[1;33m\u001b[0m\u001b[0m\n",
      "\u001b[1;32mc:\\Users\\oguzk\\anaconda3\\lib\\site-packages\\urllib3\\connectionpool.py\u001b[0m in \u001b[0;36m_validate_conn\u001b[1;34m(self, conn)\u001b[0m\n\u001b[0;32m   1009\u001b[0m         \u001b[1;32mif\u001b[0m \u001b[1;32mnot\u001b[0m \u001b[0mgetattr\u001b[0m\u001b[1;33m(\u001b[0m\u001b[0mconn\u001b[0m\u001b[1;33m,\u001b[0m \u001b[1;34m\"sock\"\u001b[0m\u001b[1;33m,\u001b[0m \u001b[1;32mNone\u001b[0m\u001b[1;33m)\u001b[0m\u001b[1;33m:\u001b[0m  \u001b[1;31m# AppEngine might not have  `.sock`\u001b[0m\u001b[1;33m\u001b[0m\u001b[1;33m\u001b[0m\u001b[0m\n\u001b[1;32m-> 1010\u001b[1;33m             \u001b[0mconn\u001b[0m\u001b[1;33m.\u001b[0m\u001b[0mconnect\u001b[0m\u001b[1;33m(\u001b[0m\u001b[1;33m)\u001b[0m\u001b[1;33m\u001b[0m\u001b[1;33m\u001b[0m\u001b[0m\n\u001b[0m\u001b[0;32m   1011\u001b[0m \u001b[1;33m\u001b[0m\u001b[0m\n",
      "\u001b[1;32mc:\\Users\\oguzk\\anaconda3\\lib\\site-packages\\urllib3\\connection.py\u001b[0m in \u001b[0;36mconnect\u001b[1;34m(self)\u001b[0m\n\u001b[0;32m    410\u001b[0m \u001b[1;33m\u001b[0m\u001b[0m\n\u001b[1;32m--> 411\u001b[1;33m         self.sock = ssl_wrap_socket(\n\u001b[0m\u001b[0;32m    412\u001b[0m             \u001b[0msock\u001b[0m\u001b[1;33m=\u001b[0m\u001b[0mconn\u001b[0m\u001b[1;33m,\u001b[0m\u001b[1;33m\u001b[0m\u001b[1;33m\u001b[0m\u001b[0m\n",
      "\u001b[1;32mc:\\Users\\oguzk\\anaconda3\\lib\\site-packages\\urllib3\\util\\ssl_.py\u001b[0m in \u001b[0;36mssl_wrap_socket\u001b[1;34m(sock, keyfile, certfile, cert_reqs, ca_certs, server_hostname, ssl_version, ciphers, ssl_context, ca_cert_dir, key_password, ca_cert_data, tls_in_tls)\u001b[0m\n\u001b[0;32m    427\u001b[0m     \u001b[1;32mif\u001b[0m \u001b[0msend_sni\u001b[0m\u001b[1;33m:\u001b[0m\u001b[1;33m\u001b[0m\u001b[1;33m\u001b[0m\u001b[0m\n\u001b[1;32m--> 428\u001b[1;33m         ssl_sock = _ssl_wrap_socket_impl(\n\u001b[0m\u001b[0;32m    429\u001b[0m             \u001b[0msock\u001b[0m\u001b[1;33m,\u001b[0m \u001b[0mcontext\u001b[0m\u001b[1;33m,\u001b[0m \u001b[0mtls_in_tls\u001b[0m\u001b[1;33m,\u001b[0m \u001b[0mserver_hostname\u001b[0m\u001b[1;33m=\u001b[0m\u001b[0mserver_hostname\u001b[0m\u001b[1;33m\u001b[0m\u001b[1;33m\u001b[0m\u001b[0m\n",
      "\u001b[1;32mc:\\Users\\oguzk\\anaconda3\\lib\\site-packages\\urllib3\\util\\ssl_.py\u001b[0m in \u001b[0;36m_ssl_wrap_socket_impl\u001b[1;34m(sock, ssl_context, tls_in_tls, server_hostname)\u001b[0m\n\u001b[0;32m    471\u001b[0m     \u001b[1;32mif\u001b[0m \u001b[0mserver_hostname\u001b[0m\u001b[1;33m:\u001b[0m\u001b[1;33m\u001b[0m\u001b[1;33m\u001b[0m\u001b[0m\n\u001b[1;32m--> 472\u001b[1;33m         \u001b[1;32mreturn\u001b[0m \u001b[0mssl_context\u001b[0m\u001b[1;33m.\u001b[0m\u001b[0mwrap_socket\u001b[0m\u001b[1;33m(\u001b[0m\u001b[0msock\u001b[0m\u001b[1;33m,\u001b[0m \u001b[0mserver_hostname\u001b[0m\u001b[1;33m=\u001b[0m\u001b[0mserver_hostname\u001b[0m\u001b[1;33m)\u001b[0m\u001b[1;33m\u001b[0m\u001b[1;33m\u001b[0m\u001b[0m\n\u001b[0m\u001b[0;32m    473\u001b[0m     \u001b[1;32melse\u001b[0m\u001b[1;33m:\u001b[0m\u001b[1;33m\u001b[0m\u001b[1;33m\u001b[0m\u001b[0m\n",
      "\u001b[1;32mc:\\Users\\oguzk\\anaconda3\\lib\\ssl.py\u001b[0m in \u001b[0;36mwrap_socket\u001b[1;34m(self, sock, server_side, do_handshake_on_connect, suppress_ragged_eofs, server_hostname, session)\u001b[0m\n\u001b[0;32m    499\u001b[0m         \u001b[1;31m# ctx._wrap_socket()\u001b[0m\u001b[1;33m\u001b[0m\u001b[1;33m\u001b[0m\u001b[1;33m\u001b[0m\u001b[0m\n\u001b[1;32m--> 500\u001b[1;33m         return self.sslsocket_class._create(\n\u001b[0m\u001b[0;32m    501\u001b[0m             \u001b[0msock\u001b[0m\u001b[1;33m=\u001b[0m\u001b[0msock\u001b[0m\u001b[1;33m,\u001b[0m\u001b[1;33m\u001b[0m\u001b[1;33m\u001b[0m\u001b[0m\n",
      "\u001b[1;32mc:\\Users\\oguzk\\anaconda3\\lib\\ssl.py\u001b[0m in \u001b[0;36m_create\u001b[1;34m(cls, sock, server_side, do_handshake_on_connect, suppress_ragged_eofs, server_hostname, context, session)\u001b[0m\n\u001b[0;32m   1039\u001b[0m                         \u001b[1;32mraise\u001b[0m \u001b[0mValueError\u001b[0m\u001b[1;33m(\u001b[0m\u001b[1;34m\"do_handshake_on_connect should not be specified for non-blocking sockets\"\u001b[0m\u001b[1;33m)\u001b[0m\u001b[1;33m\u001b[0m\u001b[1;33m\u001b[0m\u001b[0m\n\u001b[1;32m-> 1040\u001b[1;33m                     \u001b[0mself\u001b[0m\u001b[1;33m.\u001b[0m\u001b[0mdo_handshake\u001b[0m\u001b[1;33m(\u001b[0m\u001b[1;33m)\u001b[0m\u001b[1;33m\u001b[0m\u001b[1;33m\u001b[0m\u001b[0m\n\u001b[0m\u001b[0;32m   1041\u001b[0m             \u001b[1;32mexcept\u001b[0m \u001b[1;33m(\u001b[0m\u001b[0mOSError\u001b[0m\u001b[1;33m,\u001b[0m \u001b[0mValueError\u001b[0m\u001b[1;33m)\u001b[0m\u001b[1;33m:\u001b[0m\u001b[1;33m\u001b[0m\u001b[1;33m\u001b[0m\u001b[0m\n",
      "\u001b[1;32mc:\\Users\\oguzk\\anaconda3\\lib\\ssl.py\u001b[0m in \u001b[0;36mdo_handshake\u001b[1;34m(self, block)\u001b[0m\n\u001b[0;32m   1308\u001b[0m                 \u001b[0mself\u001b[0m\u001b[1;33m.\u001b[0m\u001b[0msettimeout\u001b[0m\u001b[1;33m(\u001b[0m\u001b[1;32mNone\u001b[0m\u001b[1;33m)\u001b[0m\u001b[1;33m\u001b[0m\u001b[1;33m\u001b[0m\u001b[0m\n\u001b[1;32m-> 1309\u001b[1;33m             \u001b[0mself\u001b[0m\u001b[1;33m.\u001b[0m\u001b[0m_sslobj\u001b[0m\u001b[1;33m.\u001b[0m\u001b[0mdo_handshake\u001b[0m\u001b[1;33m(\u001b[0m\u001b[1;33m)\u001b[0m\u001b[1;33m\u001b[0m\u001b[1;33m\u001b[0m\u001b[0m\n\u001b[0m\u001b[0;32m   1310\u001b[0m         \u001b[1;32mfinally\u001b[0m\u001b[1;33m:\u001b[0m\u001b[1;33m\u001b[0m\u001b[1;33m\u001b[0m\u001b[0m\n",
      "\u001b[1;31mConnectionResetError\u001b[0m: [WinError 10054] An existing connection was forcibly closed by the remote host",
      "\nDuring handling of the above exception, another exception occurred:\n",
      "\u001b[1;31mProtocolError\u001b[0m                             Traceback (most recent call last)",
      "\u001b[1;32mc:\\Users\\oguzk\\anaconda3\\lib\\site-packages\\requests\\adapters.py\u001b[0m in \u001b[0;36msend\u001b[1;34m(self, request, stream, timeout, verify, cert, proxies)\u001b[0m\n\u001b[0;32m    438\u001b[0m             \u001b[1;32mif\u001b[0m \u001b[1;32mnot\u001b[0m \u001b[0mchunked\u001b[0m\u001b[1;33m:\u001b[0m\u001b[1;33m\u001b[0m\u001b[1;33m\u001b[0m\u001b[0m\n\u001b[1;32m--> 439\u001b[1;33m                 resp = conn.urlopen(\n\u001b[0m\u001b[0;32m    440\u001b[0m                     \u001b[0mmethod\u001b[0m\u001b[1;33m=\u001b[0m\u001b[0mrequest\u001b[0m\u001b[1;33m.\u001b[0m\u001b[0mmethod\u001b[0m\u001b[1;33m,\u001b[0m\u001b[1;33m\u001b[0m\u001b[1;33m\u001b[0m\u001b[0m\n",
      "\u001b[1;32mc:\\Users\\oguzk\\anaconda3\\lib\\site-packages\\urllib3\\connectionpool.py\u001b[0m in \u001b[0;36murlopen\u001b[1;34m(self, method, url, body, headers, retries, redirect, assert_same_host, timeout, pool_timeout, release_conn, chunked, body_pos, **response_kw)\u001b[0m\n\u001b[0;32m    754\u001b[0m \u001b[1;33m\u001b[0m\u001b[0m\n\u001b[1;32m--> 755\u001b[1;33m             retries = retries.increment(\n\u001b[0m\u001b[0;32m    756\u001b[0m                 \u001b[0mmethod\u001b[0m\u001b[1;33m,\u001b[0m \u001b[0murl\u001b[0m\u001b[1;33m,\u001b[0m \u001b[0merror\u001b[0m\u001b[1;33m=\u001b[0m\u001b[0me\u001b[0m\u001b[1;33m,\u001b[0m \u001b[0m_pool\u001b[0m\u001b[1;33m=\u001b[0m\u001b[0mself\u001b[0m\u001b[1;33m,\u001b[0m \u001b[0m_stacktrace\u001b[0m\u001b[1;33m=\u001b[0m\u001b[0msys\u001b[0m\u001b[1;33m.\u001b[0m\u001b[0mexc_info\u001b[0m\u001b[1;33m(\u001b[0m\u001b[1;33m)\u001b[0m\u001b[1;33m[\u001b[0m\u001b[1;36m2\u001b[0m\u001b[1;33m]\u001b[0m\u001b[1;33m\u001b[0m\u001b[1;33m\u001b[0m\u001b[0m\n",
      "\u001b[1;32mc:\\Users\\oguzk\\anaconda3\\lib\\site-packages\\urllib3\\util\\retry.py\u001b[0m in \u001b[0;36mincrement\u001b[1;34m(self, method, url, response, error, _pool, _stacktrace)\u001b[0m\n\u001b[0;32m    531\u001b[0m             \u001b[1;32mif\u001b[0m \u001b[0mread\u001b[0m \u001b[1;32mis\u001b[0m \u001b[1;32mFalse\u001b[0m \u001b[1;32mor\u001b[0m \u001b[1;32mnot\u001b[0m \u001b[0mself\u001b[0m\u001b[1;33m.\u001b[0m\u001b[0m_is_method_retryable\u001b[0m\u001b[1;33m(\u001b[0m\u001b[0mmethod\u001b[0m\u001b[1;33m)\u001b[0m\u001b[1;33m:\u001b[0m\u001b[1;33m\u001b[0m\u001b[1;33m\u001b[0m\u001b[0m\n\u001b[1;32m--> 532\u001b[1;33m                 \u001b[1;32mraise\u001b[0m \u001b[0msix\u001b[0m\u001b[1;33m.\u001b[0m\u001b[0mreraise\u001b[0m\u001b[1;33m(\u001b[0m\u001b[0mtype\u001b[0m\u001b[1;33m(\u001b[0m\u001b[0merror\u001b[0m\u001b[1;33m)\u001b[0m\u001b[1;33m,\u001b[0m \u001b[0merror\u001b[0m\u001b[1;33m,\u001b[0m \u001b[0m_stacktrace\u001b[0m\u001b[1;33m)\u001b[0m\u001b[1;33m\u001b[0m\u001b[1;33m\u001b[0m\u001b[0m\n\u001b[0m\u001b[0;32m    533\u001b[0m             \u001b[1;32melif\u001b[0m \u001b[0mread\u001b[0m \u001b[1;32mis\u001b[0m \u001b[1;32mnot\u001b[0m \u001b[1;32mNone\u001b[0m\u001b[1;33m:\u001b[0m\u001b[1;33m\u001b[0m\u001b[1;33m\u001b[0m\u001b[0m\n",
      "\u001b[1;32mc:\\Users\\oguzk\\anaconda3\\lib\\site-packages\\urllib3\\packages\\six.py\u001b[0m in \u001b[0;36mreraise\u001b[1;34m(tp, value, tb)\u001b[0m\n\u001b[0;32m    733\u001b[0m             \u001b[1;32mif\u001b[0m \u001b[0mvalue\u001b[0m\u001b[1;33m.\u001b[0m\u001b[0m__traceback__\u001b[0m \u001b[1;32mis\u001b[0m \u001b[1;32mnot\u001b[0m \u001b[0mtb\u001b[0m\u001b[1;33m:\u001b[0m\u001b[1;33m\u001b[0m\u001b[1;33m\u001b[0m\u001b[0m\n\u001b[1;32m--> 734\u001b[1;33m                 \u001b[1;32mraise\u001b[0m \u001b[0mvalue\u001b[0m\u001b[1;33m.\u001b[0m\u001b[0mwith_traceback\u001b[0m\u001b[1;33m(\u001b[0m\u001b[0mtb\u001b[0m\u001b[1;33m)\u001b[0m\u001b[1;33m\u001b[0m\u001b[1;33m\u001b[0m\u001b[0m\n\u001b[0m\u001b[0;32m    735\u001b[0m             \u001b[1;32mraise\u001b[0m \u001b[0mvalue\u001b[0m\u001b[1;33m\u001b[0m\u001b[1;33m\u001b[0m\u001b[0m\n",
      "\u001b[1;32mc:\\Users\\oguzk\\anaconda3\\lib\\site-packages\\urllib3\\connectionpool.py\u001b[0m in \u001b[0;36murlopen\u001b[1;34m(self, method, url, body, headers, retries, redirect, assert_same_host, timeout, pool_timeout, release_conn, chunked, body_pos, **response_kw)\u001b[0m\n\u001b[0;32m    698\u001b[0m             \u001b[1;31m# Make the request on the httplib connection object.\u001b[0m\u001b[1;33m\u001b[0m\u001b[1;33m\u001b[0m\u001b[1;33m\u001b[0m\u001b[0m\n\u001b[1;32m--> 699\u001b[1;33m             httplib_response = self._make_request(\n\u001b[0m\u001b[0;32m    700\u001b[0m                 \u001b[0mconn\u001b[0m\u001b[1;33m,\u001b[0m\u001b[1;33m\u001b[0m\u001b[1;33m\u001b[0m\u001b[0m\n",
      "\u001b[1;32mc:\\Users\\oguzk\\anaconda3\\lib\\site-packages\\urllib3\\connectionpool.py\u001b[0m in \u001b[0;36m_make_request\u001b[1;34m(self, conn, method, url, timeout, chunked, **httplib_request_kw)\u001b[0m\n\u001b[0;32m    381\u001b[0m         \u001b[1;32mtry\u001b[0m\u001b[1;33m:\u001b[0m\u001b[1;33m\u001b[0m\u001b[1;33m\u001b[0m\u001b[0m\n\u001b[1;32m--> 382\u001b[1;33m             \u001b[0mself\u001b[0m\u001b[1;33m.\u001b[0m\u001b[0m_validate_conn\u001b[0m\u001b[1;33m(\u001b[0m\u001b[0mconn\u001b[0m\u001b[1;33m)\u001b[0m\u001b[1;33m\u001b[0m\u001b[1;33m\u001b[0m\u001b[0m\n\u001b[0m\u001b[0;32m    383\u001b[0m         \u001b[1;32mexcept\u001b[0m \u001b[1;33m(\u001b[0m\u001b[0mSocketTimeout\u001b[0m\u001b[1;33m,\u001b[0m \u001b[0mBaseSSLError\u001b[0m\u001b[1;33m)\u001b[0m \u001b[1;32mas\u001b[0m \u001b[0me\u001b[0m\u001b[1;33m:\u001b[0m\u001b[1;33m\u001b[0m\u001b[1;33m\u001b[0m\u001b[0m\n",
      "\u001b[1;32mc:\\Users\\oguzk\\anaconda3\\lib\\site-packages\\urllib3\\connectionpool.py\u001b[0m in \u001b[0;36m_validate_conn\u001b[1;34m(self, conn)\u001b[0m\n\u001b[0;32m   1009\u001b[0m         \u001b[1;32mif\u001b[0m \u001b[1;32mnot\u001b[0m \u001b[0mgetattr\u001b[0m\u001b[1;33m(\u001b[0m\u001b[0mconn\u001b[0m\u001b[1;33m,\u001b[0m \u001b[1;34m\"sock\"\u001b[0m\u001b[1;33m,\u001b[0m \u001b[1;32mNone\u001b[0m\u001b[1;33m)\u001b[0m\u001b[1;33m:\u001b[0m  \u001b[1;31m# AppEngine might not have  `.sock`\u001b[0m\u001b[1;33m\u001b[0m\u001b[1;33m\u001b[0m\u001b[0m\n\u001b[1;32m-> 1010\u001b[1;33m             \u001b[0mconn\u001b[0m\u001b[1;33m.\u001b[0m\u001b[0mconnect\u001b[0m\u001b[1;33m(\u001b[0m\u001b[1;33m)\u001b[0m\u001b[1;33m\u001b[0m\u001b[1;33m\u001b[0m\u001b[0m\n\u001b[0m\u001b[0;32m   1011\u001b[0m \u001b[1;33m\u001b[0m\u001b[0m\n",
      "\u001b[1;32mc:\\Users\\oguzk\\anaconda3\\lib\\site-packages\\urllib3\\connection.py\u001b[0m in \u001b[0;36mconnect\u001b[1;34m(self)\u001b[0m\n\u001b[0;32m    410\u001b[0m \u001b[1;33m\u001b[0m\u001b[0m\n\u001b[1;32m--> 411\u001b[1;33m         self.sock = ssl_wrap_socket(\n\u001b[0m\u001b[0;32m    412\u001b[0m             \u001b[0msock\u001b[0m\u001b[1;33m=\u001b[0m\u001b[0mconn\u001b[0m\u001b[1;33m,\u001b[0m\u001b[1;33m\u001b[0m\u001b[1;33m\u001b[0m\u001b[0m\n",
      "\u001b[1;32mc:\\Users\\oguzk\\anaconda3\\lib\\site-packages\\urllib3\\util\\ssl_.py\u001b[0m in \u001b[0;36mssl_wrap_socket\u001b[1;34m(sock, keyfile, certfile, cert_reqs, ca_certs, server_hostname, ssl_version, ciphers, ssl_context, ca_cert_dir, key_password, ca_cert_data, tls_in_tls)\u001b[0m\n\u001b[0;32m    427\u001b[0m     \u001b[1;32mif\u001b[0m \u001b[0msend_sni\u001b[0m\u001b[1;33m:\u001b[0m\u001b[1;33m\u001b[0m\u001b[1;33m\u001b[0m\u001b[0m\n\u001b[1;32m--> 428\u001b[1;33m         ssl_sock = _ssl_wrap_socket_impl(\n\u001b[0m\u001b[0;32m    429\u001b[0m             \u001b[0msock\u001b[0m\u001b[1;33m,\u001b[0m \u001b[0mcontext\u001b[0m\u001b[1;33m,\u001b[0m \u001b[0mtls_in_tls\u001b[0m\u001b[1;33m,\u001b[0m \u001b[0mserver_hostname\u001b[0m\u001b[1;33m=\u001b[0m\u001b[0mserver_hostname\u001b[0m\u001b[1;33m\u001b[0m\u001b[1;33m\u001b[0m\u001b[0m\n",
      "\u001b[1;32mc:\\Users\\oguzk\\anaconda3\\lib\\site-packages\\urllib3\\util\\ssl_.py\u001b[0m in \u001b[0;36m_ssl_wrap_socket_impl\u001b[1;34m(sock, ssl_context, tls_in_tls, server_hostname)\u001b[0m\n\u001b[0;32m    471\u001b[0m     \u001b[1;32mif\u001b[0m \u001b[0mserver_hostname\u001b[0m\u001b[1;33m:\u001b[0m\u001b[1;33m\u001b[0m\u001b[1;33m\u001b[0m\u001b[0m\n\u001b[1;32m--> 472\u001b[1;33m         \u001b[1;32mreturn\u001b[0m \u001b[0mssl_context\u001b[0m\u001b[1;33m.\u001b[0m\u001b[0mwrap_socket\u001b[0m\u001b[1;33m(\u001b[0m\u001b[0msock\u001b[0m\u001b[1;33m,\u001b[0m \u001b[0mserver_hostname\u001b[0m\u001b[1;33m=\u001b[0m\u001b[0mserver_hostname\u001b[0m\u001b[1;33m)\u001b[0m\u001b[1;33m\u001b[0m\u001b[1;33m\u001b[0m\u001b[0m\n\u001b[0m\u001b[0;32m    473\u001b[0m     \u001b[1;32melse\u001b[0m\u001b[1;33m:\u001b[0m\u001b[1;33m\u001b[0m\u001b[1;33m\u001b[0m\u001b[0m\n",
      "\u001b[1;32mc:\\Users\\oguzk\\anaconda3\\lib\\ssl.py\u001b[0m in \u001b[0;36mwrap_socket\u001b[1;34m(self, sock, server_side, do_handshake_on_connect, suppress_ragged_eofs, server_hostname, session)\u001b[0m\n\u001b[0;32m    499\u001b[0m         \u001b[1;31m# ctx._wrap_socket()\u001b[0m\u001b[1;33m\u001b[0m\u001b[1;33m\u001b[0m\u001b[1;33m\u001b[0m\u001b[0m\n\u001b[1;32m--> 500\u001b[1;33m         return self.sslsocket_class._create(\n\u001b[0m\u001b[0;32m    501\u001b[0m             \u001b[0msock\u001b[0m\u001b[1;33m=\u001b[0m\u001b[0msock\u001b[0m\u001b[1;33m,\u001b[0m\u001b[1;33m\u001b[0m\u001b[1;33m\u001b[0m\u001b[0m\n",
      "\u001b[1;32mc:\\Users\\oguzk\\anaconda3\\lib\\ssl.py\u001b[0m in \u001b[0;36m_create\u001b[1;34m(cls, sock, server_side, do_handshake_on_connect, suppress_ragged_eofs, server_hostname, context, session)\u001b[0m\n\u001b[0;32m   1039\u001b[0m                         \u001b[1;32mraise\u001b[0m \u001b[0mValueError\u001b[0m\u001b[1;33m(\u001b[0m\u001b[1;34m\"do_handshake_on_connect should not be specified for non-blocking sockets\"\u001b[0m\u001b[1;33m)\u001b[0m\u001b[1;33m\u001b[0m\u001b[1;33m\u001b[0m\u001b[0m\n\u001b[1;32m-> 1040\u001b[1;33m                     \u001b[0mself\u001b[0m\u001b[1;33m.\u001b[0m\u001b[0mdo_handshake\u001b[0m\u001b[1;33m(\u001b[0m\u001b[1;33m)\u001b[0m\u001b[1;33m\u001b[0m\u001b[1;33m\u001b[0m\u001b[0m\n\u001b[0m\u001b[0;32m   1041\u001b[0m             \u001b[1;32mexcept\u001b[0m \u001b[1;33m(\u001b[0m\u001b[0mOSError\u001b[0m\u001b[1;33m,\u001b[0m \u001b[0mValueError\u001b[0m\u001b[1;33m)\u001b[0m\u001b[1;33m:\u001b[0m\u001b[1;33m\u001b[0m\u001b[1;33m\u001b[0m\u001b[0m\n",
      "\u001b[1;32mc:\\Users\\oguzk\\anaconda3\\lib\\ssl.py\u001b[0m in \u001b[0;36mdo_handshake\u001b[1;34m(self, block)\u001b[0m\n\u001b[0;32m   1308\u001b[0m                 \u001b[0mself\u001b[0m\u001b[1;33m.\u001b[0m\u001b[0msettimeout\u001b[0m\u001b[1;33m(\u001b[0m\u001b[1;32mNone\u001b[0m\u001b[1;33m)\u001b[0m\u001b[1;33m\u001b[0m\u001b[1;33m\u001b[0m\u001b[0m\n\u001b[1;32m-> 1309\u001b[1;33m             \u001b[0mself\u001b[0m\u001b[1;33m.\u001b[0m\u001b[0m_sslobj\u001b[0m\u001b[1;33m.\u001b[0m\u001b[0mdo_handshake\u001b[0m\u001b[1;33m(\u001b[0m\u001b[1;33m)\u001b[0m\u001b[1;33m\u001b[0m\u001b[1;33m\u001b[0m\u001b[0m\n\u001b[0m\u001b[0;32m   1310\u001b[0m         \u001b[1;32mfinally\u001b[0m\u001b[1;33m:\u001b[0m\u001b[1;33m\u001b[0m\u001b[1;33m\u001b[0m\u001b[0m\n",
      "\u001b[1;31mProtocolError\u001b[0m: ('Connection aborted.', ConnectionResetError(10054, 'An existing connection was forcibly closed by the remote host', None, 10054, None))",
      "\nDuring handling of the above exception, another exception occurred:\n",
      "\u001b[1;31mConnectionError\u001b[0m                           Traceback (most recent call last)",
      "\u001b[1;32m<ipython-input-66-4306ff4d6b23>\u001b[0m in \u001b[0;36m<module>\u001b[1;34m\u001b[0m\n\u001b[0;32m     25\u001b[0m         \u001b[0mauth_srch\u001b[0m \u001b[1;33m=\u001b[0m \u001b[0mElsSearch\u001b[0m\u001b[1;33m(\u001b[0m\u001b[1;34mf'AUTHLAST({family_in}) AND AUTHFIRST({given_in}) AND {sbj_area_query_creator(sa_in)}'\u001b[0m\u001b[1;33m,\u001b[0m\u001b[1;34m'author'\u001b[0m\u001b[1;33m)\u001b[0m\u001b[1;33m\u001b[0m\u001b[1;33m\u001b[0m\u001b[0m\n\u001b[1;32m---> 26\u001b[1;33m         \u001b[0mauth_srch\u001b[0m\u001b[1;33m.\u001b[0m\u001b[0mexecute\u001b[0m\u001b[1;33m(\u001b[0m\u001b[0mclient\u001b[0m\u001b[1;33m)\u001b[0m\u001b[1;33m\u001b[0m\u001b[1;33m\u001b[0m\u001b[0m\n\u001b[0m\u001b[0;32m     27\u001b[0m     \u001b[1;32mexcept\u001b[0m\u001b[1;33m:\u001b[0m\u001b[1;33m\u001b[0m\u001b[1;33m\u001b[0m\u001b[0m\n",
      "\u001b[1;32mc:\\Users\\oguzk\\anaconda3\\lib\\site-packages\\elsapy\\elssearch.py\u001b[0m in \u001b[0;36mexecute\u001b[1;34m(self, els_client, get_all)\u001b[0m\n\u001b[0;32m     94\u001b[0m         \u001b[1;31m## TODO: add exception handling\u001b[0m\u001b[1;33m\u001b[0m\u001b[1;33m\u001b[0m\u001b[1;33m\u001b[0m\u001b[0m\n\u001b[1;32m---> 95\u001b[1;33m         \u001b[0mapi_response\u001b[0m \u001b[1;33m=\u001b[0m \u001b[0mels_client\u001b[0m\u001b[1;33m.\u001b[0m\u001b[0mexec_request\u001b[0m\u001b[1;33m(\u001b[0m\u001b[0mself\u001b[0m\u001b[1;33m.\u001b[0m\u001b[0m_uri\u001b[0m\u001b[1;33m)\u001b[0m\u001b[1;33m\u001b[0m\u001b[1;33m\u001b[0m\u001b[0m\n\u001b[0m\u001b[0;32m     96\u001b[0m         \u001b[0mself\u001b[0m\u001b[1;33m.\u001b[0m\u001b[0m_tot_num_res\u001b[0m \u001b[1;33m=\u001b[0m \u001b[0mint\u001b[0m\u001b[1;33m(\u001b[0m\u001b[0mapi_response\u001b[0m\u001b[1;33m[\u001b[0m\u001b[1;34m'search-results'\u001b[0m\u001b[1;33m]\u001b[0m\u001b[1;33m[\u001b[0m\u001b[1;34m'opensearch:totalResults'\u001b[0m\u001b[1;33m]\u001b[0m\u001b[1;33m)\u001b[0m\u001b[1;33m\u001b[0m\u001b[1;33m\u001b[0m\u001b[0m\n",
      "\u001b[1;32mc:\\Users\\oguzk\\anaconda3\\lib\\site-packages\\elsapy\\elsclient.py\u001b[0m in \u001b[0;36mexec_request\u001b[1;34m(self, URL)\u001b[0m\n\u001b[0;32m    109\u001b[0m         \u001b[0mlogger\u001b[0m\u001b[1;33m.\u001b[0m\u001b[0minfo\u001b[0m\u001b[1;33m(\u001b[0m\u001b[1;34m'Sending GET request to '\u001b[0m \u001b[1;33m+\u001b[0m \u001b[0mURL\u001b[0m\u001b[1;33m)\u001b[0m\u001b[1;33m\u001b[0m\u001b[1;33m\u001b[0m\u001b[0m\n\u001b[1;32m--> 110\u001b[1;33m         r = requests.get(\n\u001b[0m\u001b[0;32m    111\u001b[0m             \u001b[0mURL\u001b[0m\u001b[1;33m,\u001b[0m\u001b[1;33m\u001b[0m\u001b[1;33m\u001b[0m\u001b[0m\n",
      "\u001b[1;32mc:\\Users\\oguzk\\anaconda3\\lib\\site-packages\\requests\\api.py\u001b[0m in \u001b[0;36mget\u001b[1;34m(url, params, **kwargs)\u001b[0m\n\u001b[0;32m     75\u001b[0m     \u001b[0mkwargs\u001b[0m\u001b[1;33m.\u001b[0m\u001b[0msetdefault\u001b[0m\u001b[1;33m(\u001b[0m\u001b[1;34m'allow_redirects'\u001b[0m\u001b[1;33m,\u001b[0m \u001b[1;32mTrue\u001b[0m\u001b[1;33m)\u001b[0m\u001b[1;33m\u001b[0m\u001b[1;33m\u001b[0m\u001b[0m\n\u001b[1;32m---> 76\u001b[1;33m     \u001b[1;32mreturn\u001b[0m \u001b[0mrequest\u001b[0m\u001b[1;33m(\u001b[0m\u001b[1;34m'get'\u001b[0m\u001b[1;33m,\u001b[0m \u001b[0murl\u001b[0m\u001b[1;33m,\u001b[0m \u001b[0mparams\u001b[0m\u001b[1;33m=\u001b[0m\u001b[0mparams\u001b[0m\u001b[1;33m,\u001b[0m \u001b[1;33m**\u001b[0m\u001b[0mkwargs\u001b[0m\u001b[1;33m)\u001b[0m\u001b[1;33m\u001b[0m\u001b[1;33m\u001b[0m\u001b[0m\n\u001b[0m\u001b[0;32m     77\u001b[0m \u001b[1;33m\u001b[0m\u001b[0m\n",
      "\u001b[1;32mc:\\Users\\oguzk\\anaconda3\\lib\\site-packages\\requests\\api.py\u001b[0m in \u001b[0;36mrequest\u001b[1;34m(method, url, **kwargs)\u001b[0m\n\u001b[0;32m     60\u001b[0m     \u001b[1;32mwith\u001b[0m \u001b[0msessions\u001b[0m\u001b[1;33m.\u001b[0m\u001b[0mSession\u001b[0m\u001b[1;33m(\u001b[0m\u001b[1;33m)\u001b[0m \u001b[1;32mas\u001b[0m \u001b[0msession\u001b[0m\u001b[1;33m:\u001b[0m\u001b[1;33m\u001b[0m\u001b[1;33m\u001b[0m\u001b[0m\n\u001b[1;32m---> 61\u001b[1;33m         \u001b[1;32mreturn\u001b[0m \u001b[0msession\u001b[0m\u001b[1;33m.\u001b[0m\u001b[0mrequest\u001b[0m\u001b[1;33m(\u001b[0m\u001b[0mmethod\u001b[0m\u001b[1;33m=\u001b[0m\u001b[0mmethod\u001b[0m\u001b[1;33m,\u001b[0m \u001b[0murl\u001b[0m\u001b[1;33m=\u001b[0m\u001b[0murl\u001b[0m\u001b[1;33m,\u001b[0m \u001b[1;33m**\u001b[0m\u001b[0mkwargs\u001b[0m\u001b[1;33m)\u001b[0m\u001b[1;33m\u001b[0m\u001b[1;33m\u001b[0m\u001b[0m\n\u001b[0m\u001b[0;32m     62\u001b[0m \u001b[1;33m\u001b[0m\u001b[0m\n",
      "\u001b[1;32mc:\\Users\\oguzk\\anaconda3\\lib\\site-packages\\requests\\sessions.py\u001b[0m in \u001b[0;36mrequest\u001b[1;34m(self, method, url, params, data, headers, cookies, files, auth, timeout, allow_redirects, proxies, hooks, stream, verify, cert, json)\u001b[0m\n\u001b[0;32m    541\u001b[0m         \u001b[0msend_kwargs\u001b[0m\u001b[1;33m.\u001b[0m\u001b[0mupdate\u001b[0m\u001b[1;33m(\u001b[0m\u001b[0msettings\u001b[0m\u001b[1;33m)\u001b[0m\u001b[1;33m\u001b[0m\u001b[1;33m\u001b[0m\u001b[0m\n\u001b[1;32m--> 542\u001b[1;33m         \u001b[0mresp\u001b[0m \u001b[1;33m=\u001b[0m \u001b[0mself\u001b[0m\u001b[1;33m.\u001b[0m\u001b[0msend\u001b[0m\u001b[1;33m(\u001b[0m\u001b[0mprep\u001b[0m\u001b[1;33m,\u001b[0m \u001b[1;33m**\u001b[0m\u001b[0msend_kwargs\u001b[0m\u001b[1;33m)\u001b[0m\u001b[1;33m\u001b[0m\u001b[1;33m\u001b[0m\u001b[0m\n\u001b[0m\u001b[0;32m    543\u001b[0m \u001b[1;33m\u001b[0m\u001b[0m\n",
      "\u001b[1;32mc:\\Users\\oguzk\\anaconda3\\lib\\site-packages\\requests\\sessions.py\u001b[0m in \u001b[0;36msend\u001b[1;34m(self, request, **kwargs)\u001b[0m\n\u001b[0;32m    654\u001b[0m         \u001b[1;31m# Send the request\u001b[0m\u001b[1;33m\u001b[0m\u001b[1;33m\u001b[0m\u001b[1;33m\u001b[0m\u001b[0m\n\u001b[1;32m--> 655\u001b[1;33m         \u001b[0mr\u001b[0m \u001b[1;33m=\u001b[0m \u001b[0madapter\u001b[0m\u001b[1;33m.\u001b[0m\u001b[0msend\u001b[0m\u001b[1;33m(\u001b[0m\u001b[0mrequest\u001b[0m\u001b[1;33m,\u001b[0m \u001b[1;33m**\u001b[0m\u001b[0mkwargs\u001b[0m\u001b[1;33m)\u001b[0m\u001b[1;33m\u001b[0m\u001b[1;33m\u001b[0m\u001b[0m\n\u001b[0m\u001b[0;32m    656\u001b[0m \u001b[1;33m\u001b[0m\u001b[0m\n",
      "\u001b[1;32mc:\\Users\\oguzk\\anaconda3\\lib\\site-packages\\requests\\adapters.py\u001b[0m in \u001b[0;36msend\u001b[1;34m(self, request, stream, timeout, verify, cert, proxies)\u001b[0m\n\u001b[0;32m    497\u001b[0m         \u001b[1;32mexcept\u001b[0m \u001b[1;33m(\u001b[0m\u001b[0mProtocolError\u001b[0m\u001b[1;33m,\u001b[0m \u001b[0msocket\u001b[0m\u001b[1;33m.\u001b[0m\u001b[0merror\u001b[0m\u001b[1;33m)\u001b[0m \u001b[1;32mas\u001b[0m \u001b[0merr\u001b[0m\u001b[1;33m:\u001b[0m\u001b[1;33m\u001b[0m\u001b[1;33m\u001b[0m\u001b[0m\n\u001b[1;32m--> 498\u001b[1;33m             \u001b[1;32mraise\u001b[0m \u001b[0mConnectionError\u001b[0m\u001b[1;33m(\u001b[0m\u001b[0merr\u001b[0m\u001b[1;33m,\u001b[0m \u001b[0mrequest\u001b[0m\u001b[1;33m=\u001b[0m\u001b[0mrequest\u001b[0m\u001b[1;33m)\u001b[0m\u001b[1;33m\u001b[0m\u001b[1;33m\u001b[0m\u001b[0m\n\u001b[0m\u001b[0;32m    499\u001b[0m \u001b[1;33m\u001b[0m\u001b[0m\n",
      "\u001b[1;31mConnectionError\u001b[0m: ('Connection aborted.', ConnectionResetError(10054, 'An existing connection was forcibly closed by the remote host', None, 10054, None))",
      "\nDuring handling of the above exception, another exception occurred:\n",
      "\u001b[1;31mHTTPError\u001b[0m                                 Traceback (most recent call last)",
      "\u001b[1;32m<ipython-input-66-4306ff4d6b23>\u001b[0m in \u001b[0;36m<module>\u001b[1;34m\u001b[0m\n\u001b[0;32m     39\u001b[0m \u001b[1;33m\u001b[0m\u001b[0m\n\u001b[0;32m     40\u001b[0m             \u001b[0mauth_srch\u001b[0m \u001b[1;33m=\u001b[0m \u001b[0mElsSearch\u001b[0m\u001b[1;33m(\u001b[0m\u001b[1;34mf'AUTHLAST({family_in}) AND AUTHFIRST({given_in}) AND {sbj_area_query_creator(sa_in)}'\u001b[0m\u001b[1;33m,\u001b[0m\u001b[1;34m'author'\u001b[0m\u001b[1;33m)\u001b[0m\u001b[1;33m\u001b[0m\u001b[1;33m\u001b[0m\u001b[0m\n\u001b[1;32m---> 41\u001b[1;33m             \u001b[0mauth_srch\u001b[0m\u001b[1;33m.\u001b[0m\u001b[0mexecute\u001b[0m\u001b[1;33m(\u001b[0m\u001b[0mclient\u001b[0m\u001b[1;33m)\u001b[0m\u001b[1;33m\u001b[0m\u001b[1;33m\u001b[0m\u001b[0m\n\u001b[0m\u001b[0;32m     42\u001b[0m \u001b[1;33m\u001b[0m\u001b[0m\n\u001b[0;32m     43\u001b[0m         \u001b[1;32melse\u001b[0m\u001b[1;33m:\u001b[0m\u001b[1;33m\u001b[0m\u001b[1;33m\u001b[0m\u001b[0m\n",
      "\u001b[1;32mc:\\Users\\oguzk\\anaconda3\\lib\\site-packages\\elsapy\\elssearch.py\u001b[0m in \u001b[0;36mexecute\u001b[1;34m(self, els_client, get_all)\u001b[0m\n\u001b[0;32m     93\u001b[0m             all results for the search, up to a maximum of 5,000.\"\"\"\n\u001b[0;32m     94\u001b[0m         \u001b[1;31m## TODO: add exception handling\u001b[0m\u001b[1;33m\u001b[0m\u001b[1;33m\u001b[0m\u001b[1;33m\u001b[0m\u001b[0m\n\u001b[1;32m---> 95\u001b[1;33m         \u001b[0mapi_response\u001b[0m \u001b[1;33m=\u001b[0m \u001b[0mels_client\u001b[0m\u001b[1;33m.\u001b[0m\u001b[0mexec_request\u001b[0m\u001b[1;33m(\u001b[0m\u001b[0mself\u001b[0m\u001b[1;33m.\u001b[0m\u001b[0m_uri\u001b[0m\u001b[1;33m)\u001b[0m\u001b[1;33m\u001b[0m\u001b[1;33m\u001b[0m\u001b[0m\n\u001b[0m\u001b[0;32m     96\u001b[0m         \u001b[0mself\u001b[0m\u001b[1;33m.\u001b[0m\u001b[0m_tot_num_res\u001b[0m \u001b[1;33m=\u001b[0m \u001b[0mint\u001b[0m\u001b[1;33m(\u001b[0m\u001b[0mapi_response\u001b[0m\u001b[1;33m[\u001b[0m\u001b[1;34m'search-results'\u001b[0m\u001b[1;33m]\u001b[0m\u001b[1;33m[\u001b[0m\u001b[1;34m'opensearch:totalResults'\u001b[0m\u001b[1;33m]\u001b[0m\u001b[1;33m)\u001b[0m\u001b[1;33m\u001b[0m\u001b[1;33m\u001b[0m\u001b[0m\n\u001b[0;32m     97\u001b[0m         \u001b[0mself\u001b[0m\u001b[1;33m.\u001b[0m\u001b[0m_results\u001b[0m \u001b[1;33m=\u001b[0m \u001b[0mapi_response\u001b[0m\u001b[1;33m[\u001b[0m\u001b[1;34m'search-results'\u001b[0m\u001b[1;33m]\u001b[0m\u001b[1;33m[\u001b[0m\u001b[1;34m'entry'\u001b[0m\u001b[1;33m]\u001b[0m\u001b[1;33m\u001b[0m\u001b[1;33m\u001b[0m\u001b[0m\n",
      "\u001b[1;32mc:\\Users\\oguzk\\anaconda3\\lib\\site-packages\\elsapy\\elsclient.py\u001b[0m in \u001b[0;36mexec_request\u001b[1;34m(self, URL)\u001b[0m\n\u001b[0;32m    119\u001b[0m         \u001b[1;32melse\u001b[0m\u001b[1;33m:\u001b[0m\u001b[1;33m\u001b[0m\u001b[1;33m\u001b[0m\u001b[0m\n\u001b[0;32m    120\u001b[0m             \u001b[0mself\u001b[0m\u001b[1;33m.\u001b[0m\u001b[0m_status_msg\u001b[0m\u001b[1;33m=\u001b[0m\u001b[1;34m\"HTTP \"\u001b[0m \u001b[1;33m+\u001b[0m \u001b[0mstr\u001b[0m\u001b[1;33m(\u001b[0m\u001b[0mr\u001b[0m\u001b[1;33m.\u001b[0m\u001b[0mstatus_code\u001b[0m\u001b[1;33m)\u001b[0m \u001b[1;33m+\u001b[0m \u001b[1;34m\" Error from \"\u001b[0m \u001b[1;33m+\u001b[0m \u001b[0mURL\u001b[0m \u001b[1;33m+\u001b[0m \u001b[1;34m\" and using headers \"\u001b[0m \u001b[1;33m+\u001b[0m \u001b[0mstr\u001b[0m\u001b[1;33m(\u001b[0m\u001b[0mheaders\u001b[0m\u001b[1;33m)\u001b[0m \u001b[1;33m+\u001b[0m \u001b[1;34m\": \"\u001b[0m \u001b[1;33m+\u001b[0m \u001b[0mr\u001b[0m\u001b[1;33m.\u001b[0m\u001b[0mtext\u001b[0m\u001b[1;33m\u001b[0m\u001b[1;33m\u001b[0m\u001b[0m\n\u001b[1;32m--> 121\u001b[1;33m             \u001b[1;32mraise\u001b[0m \u001b[0mrequests\u001b[0m\u001b[1;33m.\u001b[0m\u001b[0mHTTPError\u001b[0m\u001b[1;33m(\u001b[0m\u001b[1;34m\"HTTP \"\u001b[0m \u001b[1;33m+\u001b[0m \u001b[0mstr\u001b[0m\u001b[1;33m(\u001b[0m\u001b[0mr\u001b[0m\u001b[1;33m.\u001b[0m\u001b[0mstatus_code\u001b[0m\u001b[1;33m)\u001b[0m \u001b[1;33m+\u001b[0m \u001b[1;34m\" Error from \"\u001b[0m \u001b[1;33m+\u001b[0m \u001b[0mURL\u001b[0m \u001b[1;33m+\u001b[0m \u001b[1;34m\"\\nand using headers \"\u001b[0m \u001b[1;33m+\u001b[0m \u001b[0mstr\u001b[0m\u001b[1;33m(\u001b[0m\u001b[0mheaders\u001b[0m\u001b[1;33m)\u001b[0m \u001b[1;33m+\u001b[0m \u001b[1;34m\":\\n\"\u001b[0m \u001b[1;33m+\u001b[0m \u001b[0mr\u001b[0m\u001b[1;33m.\u001b[0m\u001b[0mtext\u001b[0m\u001b[1;33m)\u001b[0m\u001b[1;33m\u001b[0m\u001b[1;33m\u001b[0m\u001b[0m\n\u001b[0m",
      "\u001b[1;31mHTTPError\u001b[0m: HTTP 429 Error from https://api.elsevier.com/content/search/author?query=AUTHLAST%28chawla%29+AND+AUTHFIRST%28reena%29+AND+SUBJAREA%28PHAR%29+AND+SUBJAREA%28BIOC%29\nand using headers {'X-ELS-APIKey': '30195f0b2192052a36bcab9ce3c4064f', 'User-Agent': 'elsapy-v0.5.0', 'Accept': 'application/json'}:\n{\"error-response\":{\"error-code\":\"TOO_MANY_REQUESTS\",\"error-message\":\"Request has been placed in time-out for exceeding quota or rate limits. Please reference HTTP header X-RateLimit-Reset for when requests can resubmitted.\"}}"
     ]
    }
   ],
   "source": [
    "# Full Loop - Take 12:\n",
    "# Fixed API keys lists\n",
    "\n",
    "#author_out_list= list()\n",
    "\n",
    "avail_api_keys_list = [\"a1d21854963d1cca62742c56b5f7633d\",\"f3bdebaa3f41b7443d8d9d8983c00479\",\"bfaac6eb78a88e97874fa1d0bfd8c63e\",\n",
    "\"546932c3fcd8e21fbc6eab08010b9f44\",\"0599d76680c29c71e028fc9b77b0c063\",\"baaa9e51f8a49461352af25710719157\",\"30195f0b2192052a36bcab9ce3c4064f\",\"b7e95f5ea731eb5c9e84e7a1d499f50e\",\"8707db153e4b9672fa6df25b03a5f747\",\n",
    "\"2dab4694b4347fa574d159bb97484fc4\",\"6af3d2c09eb08ec6e12f0cead9a1f5bb\",\"3872e798bf48fa28af583b9ebef5deb6\",\"1473c31dbcdb425f9cdaf75c673279d3\"]\n",
    "\n",
    "used_api_keys_list = [\"6ae4b5181b374f521e60d2ef4be73ec5\", \"c14e197a4982e7349247b189ff26da45\", \"fbc5e06467522a07f93e247a24d89d3b\", \"63db00d1e8f7e5a5ef223abad3858dfe\",\"3f453389d0cada327703d787cd41b4ec\",\"e989f6eb6ea2a19b104eed28efe11071\",\n",
    "\"784ab6b22d3148f3d3f94a75596d0633\",\"1a3f1a762b1e2abec678b08f4d7a1038\",\"53acda4267b6a5a9a6a87b8767aa8cc6\",\"9289c787b0d98e1a5a7a7fb58e102e1a\",\"1bf711a2bc396e7e99340bdaf2ba29d0\",\"3bd33d7e35df95cc6dc576fd67e7356d\",\n",
    "\"e481b6eef24800668a6ee5ea576c1f97\",\"563df86d8ae1a6e62e0f0e4278a45cb9\",\"92975ea2d964ac570219d520aaad1d41\",\"c8eab163448aa6bd54fa97af700a939b\",\"396d5385a697326c03800cf37ca4f1a2\",\"8a9a5beb728f47b401fd145e1bb035ba\",\n",
    "\"7b6016e18d538a15806f172d0ac7a0cd\",\"5d30dea104b6b7c33f6a120619fdbc6e\",\"e6cc81dc4b558be9892fa4e0715822a1\",\"da2094a93eb167105699cfb6c47466b6\",\n",
    "\"a323957ad88e129d8bae2c7b2fd0e63a\",\"a809d51349b6a614581cf57493dc0c94\"]\n",
    "\n",
    "client = ElsClient(\"f36f0ccc1554186bb009e9ca7b3c14c0\")\n",
    "print(f'Start Time = {datetime.now().strftime(\"%H:%M:%S\")}')\n",
    "\n",
    "for auth_id in first_author_input_dict_take12:\n",
    "    given_in = first_author_input_dict_take12[auth_id][\"new_given\"]\n",
    "    family_in = first_author_input_dict_take12[auth_id][\"new_family\"]\n",
    "    sa_in = first_author_input_dict_take12[auth_id][\"SA_list\"]\n",
    "\n",
    "    try:\n",
    "        auth_srch = ElsSearch(f'AUTHLAST({family_in}) AND AUTHFIRST({given_in}) AND {sbj_area_query_creator(sa_in)}','author')\n",
    "        auth_srch.execute(client)\n",
    "    except:\n",
    "        if len(avail_api_keys_list) >0:\n",
    "            with open(\"author_out_list_loop_save\",\"wb\") as p:\n",
    "                pickle.dump(author_out_list, p)\n",
    "            print(\"Loop save complete!\")\n",
    "            new_key = avail_api_keys_list.pop(0)            \n",
    "            client = ElsClient(new_key)\n",
    "            \n",
    "            print(f'Time = {datetime.now().strftime(\"%H:%M:%S\")}')\n",
    "            \n",
    "            print(f\"Changed API key, now using key: {new_key}\")\n",
    "            used_api_keys_list.append(new_key)\n",
    "\n",
    "            auth_srch = ElsSearch(f'AUTHLAST({family_in}) AND AUTHFIRST({given_in}) AND {sbj_area_query_creator(sa_in)}','author')\n",
    "            auth_srch.execute(client)\n",
    "\n",
    "        else:\n",
    "            print(\"No available API keys to use!\")\n",
    "            break\n",
    "\n",
    "\n",
    "    country_out = list()\n",
    "    given_out = list()\n",
    "    family_out = list()\n",
    "    doc_count_out = list()\n",
    "\n",
    "    for auth in auth_srch.results:\n",
    "        # Country:\n",
    "        try:\n",
    "            country_out.append(auth['affiliation-current']['affiliation-country'])\n",
    "        except:\n",
    "            pass\n",
    "\n",
    "        # Given:\n",
    "        try:\n",
    "            given_out.append(auth['preferred-name']['given-name'])\n",
    "        except:\n",
    "            pass\n",
    "\n",
    "        # Family:\n",
    "        try:\n",
    "            family_out.append(auth['preferred-name']['surname'])\n",
    "        except:\n",
    "            pass\n",
    "\n",
    "        # Doc Count:\n",
    "        try:\n",
    "            doc_count_out.append(auth['document-count'])\n",
    "        except:\n",
    "            pass\n",
    "\n",
    "    \n",
    "    author_out_dict = dict(author_id=auth_id, country=country_out, given=given_out, family=family_out, doc_count=doc_count_out)\n",
    "\n",
    "    author_out_list.append(author_out_dict)\n",
    "\n",
    "\n"
   ]
  },
  {
   "cell_type": "code",
   "execution_count": 77,
   "metadata": {},
   "outputs": [
    {
     "data": {
      "text/html": [
       "<div>\n",
       "<style scoped>\n",
       "    .dataframe tbody tr th:only-of-type {\n",
       "        vertical-align: middle;\n",
       "    }\n",
       "\n",
       "    .dataframe tbody tr th {\n",
       "        vertical-align: top;\n",
       "    }\n",
       "\n",
       "    .dataframe thead th {\n",
       "        text-align: right;\n",
       "    }\n",
       "</style>\n",
       "<table border=\"1\" class=\"dataframe\">\n",
       "  <thead>\n",
       "    <tr style=\"text-align: right;\">\n",
       "      <th></th>\n",
       "      <th>author_id</th>\n",
       "      <th>country</th>\n",
       "      <th>given</th>\n",
       "      <th>family</th>\n",
       "      <th>doc_count</th>\n",
       "    </tr>\n",
       "  </thead>\n",
       "  <tbody>\n",
       "    <tr>\n",
       "      <th>0</th>\n",
       "      <td>aut_0</td>\n",
       "      <td>[China, China, China, Hong Kong]</td>\n",
       "      <td>[Jing, Jingheng, Jing, (Luna) Jing]</td>\n",
       "      <td>[Cai, Cai, Cai, Cai]</td>\n",
       "      <td>[23, 22, 1, 1]</td>\n",
       "    </tr>\n",
       "    <tr>\n",
       "      <th>1</th>\n",
       "      <td>aut_1</td>\n",
       "      <td>[United States, United States, United States, ...</td>\n",
       "      <td>[Qing, Qing, (Grace) Qing, Grace Qing]</td>\n",
       "      <td>[Hao, Hao, Hao, Hao]</td>\n",
       "      <td>[86, 11, 2, 1]</td>\n",
       "    </tr>\n",
       "    <tr>\n",
       "      <th>2</th>\n",
       "      <td>aut_2</td>\n",
       "      <td>[China, China, China, China, China, China, Chi...</td>\n",
       "      <td>[Yongquan, Yonghong, Yong, Dayong, Yongwu, Yon...</td>\n",
       "      <td>[Zhou, Zhou, Zhou, Zhou, Zhou, Zhou, Zhou, Zho...</td>\n",
       "      <td>[286, 220, 193, 170, 164, 151, 100, 92, 74, 64...</td>\n",
       "    </tr>\n",
       "    <tr>\n",
       "      <th>3</th>\n",
       "      <td>aut_3</td>\n",
       "      <td>[Italy, Italy, France, Nigeria, Malaysia, Saud...</td>\n",
       "      <td>[Andrea, Alessandro, Ado Adamou Abba, Hafizull...</td>\n",
       "      <td>[Abba, Abbà, Ari, Ahmed, Haruna, Abba, Abba, A...</td>\n",
       "      <td>[75, 65, 44, 19, 17, 15, 8, 3]</td>\n",
       "    </tr>\n",
       "    <tr>\n",
       "      <th>4</th>\n",
       "      <td>aut_4</td>\n",
       "      <td>[Italy]</td>\n",
       "      <td>[Antonella]</td>\n",
       "      <td>[Agodi]</td>\n",
       "      <td>[234]</td>\n",
       "    </tr>\n",
       "    <tr>\n",
       "      <th>...</th>\n",
       "      <td>...</td>\n",
       "      <td>...</td>\n",
       "      <td>...</td>\n",
       "      <td>...</td>\n",
       "      <td>...</td>\n",
       "    </tr>\n",
       "    <tr>\n",
       "      <th>110108</th>\n",
       "      <td>aut_110114</td>\n",
       "      <td>[United Kingdom]</td>\n",
       "      <td>[Reem]</td>\n",
       "      <td>[Al-Jawahiri]</td>\n",
       "      <td>[6]</td>\n",
       "    </tr>\n",
       "    <tr>\n",
       "      <th>110109</th>\n",
       "      <td>aut_110115</td>\n",
       "      <td>[Egypt]</td>\n",
       "      <td>[Reem]</td>\n",
       "      <td>[El-Gendy]</td>\n",
       "      <td>[22]</td>\n",
       "    </tr>\n",
       "    <tr>\n",
       "      <th>110110</th>\n",
       "      <td>aut_110116</td>\n",
       "      <td>[United Arab Emirates]</td>\n",
       "      <td>[Reem]</td>\n",
       "      <td>[Khalil]</td>\n",
       "      <td>[10]</td>\n",
       "    </tr>\n",
       "    <tr>\n",
       "      <th>110111</th>\n",
       "      <td>aut_110117</td>\n",
       "      <td>[Germany]</td>\n",
       "      <td>[Reema]</td>\n",
       "      <td>[Anouz]</td>\n",
       "      <td>[3]</td>\n",
       "    </tr>\n",
       "    <tr>\n",
       "      <th>110112</th>\n",
       "      <td>aut_110118</td>\n",
       "      <td>[United States]</td>\n",
       "      <td>[Reena]</td>\n",
       "      <td>[Aggarwal]</td>\n",
       "      <td>[31]</td>\n",
       "    </tr>\n",
       "  </tbody>\n",
       "</table>\n",
       "<p>110113 rows × 5 columns</p>\n",
       "</div>"
      ],
      "text/plain": [
       "         author_id                                            country  \\\n",
       "0            aut_0                   [China, China, China, Hong Kong]   \n",
       "1            aut_1  [United States, United States, United States, ...   \n",
       "2            aut_2  [China, China, China, China, China, China, Chi...   \n",
       "3            aut_3  [Italy, Italy, France, Nigeria, Malaysia, Saud...   \n",
       "4            aut_4                                            [Italy]   \n",
       "...            ...                                                ...   \n",
       "110108  aut_110114                                   [United Kingdom]   \n",
       "110109  aut_110115                                            [Egypt]   \n",
       "110110  aut_110116                             [United Arab Emirates]   \n",
       "110111  aut_110117                                          [Germany]   \n",
       "110112  aut_110118                                    [United States]   \n",
       "\n",
       "                                                    given  \\\n",
       "0                     [Jing, Jingheng, Jing, (Luna) Jing]   \n",
       "1                  [Qing, Qing, (Grace) Qing, Grace Qing]   \n",
       "2       [Yongquan, Yonghong, Yong, Dayong, Yongwu, Yon...   \n",
       "3       [Andrea, Alessandro, Ado Adamou Abba, Hafizull...   \n",
       "4                                             [Antonella]   \n",
       "...                                                   ...   \n",
       "110108                                             [Reem]   \n",
       "110109                                             [Reem]   \n",
       "110110                                             [Reem]   \n",
       "110111                                            [Reema]   \n",
       "110112                                            [Reena]   \n",
       "\n",
       "                                                   family  \\\n",
       "0                                    [Cai, Cai, Cai, Cai]   \n",
       "1                                    [Hao, Hao, Hao, Hao]   \n",
       "2       [Zhou, Zhou, Zhou, Zhou, Zhou, Zhou, Zhou, Zho...   \n",
       "3       [Abba, Abbà, Ari, Ahmed, Haruna, Abba, Abba, A...   \n",
       "4                                                 [Agodi]   \n",
       "...                                                   ...   \n",
       "110108                                      [Al-Jawahiri]   \n",
       "110109                                         [El-Gendy]   \n",
       "110110                                           [Khalil]   \n",
       "110111                                            [Anouz]   \n",
       "110112                                         [Aggarwal]   \n",
       "\n",
       "                                                doc_count  \n",
       "0                                          [23, 22, 1, 1]  \n",
       "1                                          [86, 11, 2, 1]  \n",
       "2       [286, 220, 193, 170, 164, 151, 100, 92, 74, 64...  \n",
       "3                          [75, 65, 44, 19, 17, 15, 8, 3]  \n",
       "4                                                   [234]  \n",
       "...                                                   ...  \n",
       "110108                                                [6]  \n",
       "110109                                               [22]  \n",
       "110110                                               [10]  \n",
       "110111                                                [3]  \n",
       "110112                                               [31]  \n",
       "\n",
       "[110113 rows x 5 columns]"
      ]
     },
     "execution_count": 77,
     "metadata": {},
     "output_type": "execute_result"
    }
   ],
   "source": [
    "pd.DataFrame(author_out_list)"
   ]
  },
  {
   "cell_type": "markdown",
   "metadata": {},
   "source": [
    "#### Take 13: Improvements on loop"
   ]
  },
  {
   "cell_type": "code",
   "execution_count": 15,
   "metadata": {},
   "outputs": [],
   "source": [
    "q1_first_author_df.loc[\"aut_101446\",\"new_given\"] = \"o.\""
   ]
  },
  {
   "cell_type": "code",
   "execution_count": 21,
   "metadata": {},
   "outputs": [],
   "source": [
    "# Adding \"or \"o.\" etlinger\":\n",
    "first_author_input_dict_take13 = {**q1_first_author_df.drop([\"aut_4915\", \"aut_14163\", \"aut_18315\", \"aut_23897\", \"aut_48200\", \"aut_112348\", \"aut_124149\"])[[\"new_given\",\"new_family\",\"SA_list\"]][101441:101442].to_dict(\"index\"), **q1_first_author_df.drop([\"aut_4915\", \"aut_14163\", \"aut_18315\", \"aut_23897\", \"aut_48200\", \"aut_112348\", \"aut_124149\"])[[\"new_given\",\"new_family\",\"SA_list\"]][110322:].to_dict(\"index\")}"
   ]
  },
  {
   "cell_type": "code",
   "execution_count": 22,
   "metadata": {},
   "outputs": [
    {
     "name": "stdout",
     "output_type": "stream",
     "text": [
      "Start Time = 13:58:30\n",
      "Encountered Error: 429!\n",
      "Time = 13:58:32\n",
      "Loop save complete!\n",
      "Changed API key, now using key: 6ae4b5181b374f521e60d2ef4be73ec5\n",
      "New key is OK!\n",
      "Encountered Error: 10054!\n",
      "Time = 16:46:38\n",
      "Loop save complete!\n",
      "Unknown error & breaking the loop! :(\n"
     ]
    }
   ],
   "source": [
    "# Full Loop - Take 13:\n",
    "# Fixed API keys lists\n",
    "\n",
    "#author_out_list= list()\n",
    "\n",
    "avail_api_keys_list = [\"f36f0ccc1554186bb009e9ca7b3c14c0\",\"6ae4b5181b374f521e60d2ef4be73ec5\", \"c14e197a4982e7349247b189ff26da45\", \"fbc5e06467522a07f93e247a24d89d3b\", \n",
    "\"3f453389d0cada327703d787cd41b4ec\",\"e989f6eb6ea2a19b104eed28efe11071\", \"784ab6b22d3148f3d3f94a75596d0633\",\"1a3f1a762b1e2abec678b08f4d7a1038\",\"53acda4267b6a5a9a6a87b8767aa8cc6\",\n",
    "\"9289c787b0d98e1a5a7a7fb58e102e1a\",\"1bf711a2bc396e7e99340bdaf2ba29d0\",\"3bd33d7e35df95cc6dc576fd67e7356d\", \"e481b6eef24800668a6ee5ea576c1f97\",\"563df86d8ae1a6e62e0f0e4278a45cb9\",\n",
    "\"92975ea2d964ac570219d520aaad1d41\",\"c8eab163448aa6bd54fa97af700a939b\",\"396d5385a697326c03800cf37ca4f1a2\",\"8a9a5beb728f47b401fd145e1bb035ba\", \"63db00d1e8f7e5a5ef223abad3858dfe\",\n",
    "\"7b6016e18d538a15806f172d0ac7a0cd\",\"5d30dea104b6b7c33f6a120619fdbc6e\",\"e6cc81dc4b558be9892fa4e0715822a1\",\"da2094a93eb167105699cfb6c47466b6\",\n",
    "\"a323957ad88e129d8bae2c7b2fd0e63a\",\"a809d51349b6a614581cf57493dc0c94\",\"a1d21854963d1cca62742c56b5f7633d\",\"f3bdebaa3f41b7443d8d9d8983c00479\",\"bfaac6eb78a88e97874fa1d0bfd8c63e\",\n",
    "\"546932c3fcd8e21fbc6eab08010b9f44\",\"0599d76680c29c71e028fc9b77b0c063\",\"baaa9e51f8a49461352af25710719157\",\"30195f0b2192052a36bcab9ce3c4064f\",\"b7e95f5ea731eb5c9e84e7a1d499f50e\",\n",
    "\"8707db153e4b9672fa6df25b03a5f747\",\"2dab4694b4347fa574d159bb97484fc4\",\"6af3d2c09eb08ec6e12f0cead9a1f5bb\",\"3872e798bf48fa28af583b9ebef5deb6\",\"1473c31dbcdb425f9cdaf75c673279d3\"]\n",
    "\n",
    "used_api_keys_list = list()\n",
    "\n",
    "current_key = avail_api_keys_list.pop(0)\n",
    "client = ElsClient(current_key)\n",
    "\n",
    "print(f'Start Time = {datetime.now().strftime(\"%H:%M:%S\")}')\n",
    "\n",
    "for auth_id in first_author_input_dict_take13:\n",
    "    given_in = first_author_input_dict_take13[auth_id][\"new_given\"]\n",
    "    family_in = first_author_input_dict_take13[auth_id][\"new_family\"]\n",
    "    sa_in = first_author_input_dict_take13[auth_id][\"SA_list\"]\n",
    "\n",
    "    try:\n",
    "        auth_srch = ElsSearch(f'AUTHLAST({family_in}) AND AUTHFIRST({given_in}) AND {sbj_area_query_creator(sa_in)}','author')\n",
    "        auth_srch.execute(client)\n",
    "        cnt_check = True\n",
    "\n",
    "    except Exception as e:\n",
    "        err_no = re.search(\"\\d+\",str(e))[0]\n",
    "\n",
    "        print(f\"Encountered Error: {err_no}!\")\n",
    "        print(f'Time = {datetime.now().strftime(\"%H:%M:%S\")}')\n",
    "\n",
    "        with open(\"author_out_list_loop_save\",\"wb\") as p:\n",
    "                pickle.dump(author_out_list, p)\n",
    "        print(\"Loop save complete!\")\n",
    "\n",
    "        if \"400\" in str(e):\n",
    "            # query error, need to skip\n",
    "            print(f\"Skipping author: {given_in} {family_in} - {auth_id}\")\n",
    "            cnt_check = False\n",
    "\n",
    "        elif \"401\" in str(e):\n",
    "            # VPN error, sleep try again\n",
    "            sleep(60)\n",
    "            print(\"Slept for 60 & trying again!\")\n",
    "            try:\n",
    "                auth_srch = ElsSearch(f'AUTHLAST({family_in}) AND AUTHFIRST({given_in}) AND {sbj_area_query_creator(sa_in)}','author')\n",
    "                auth_srch.execute(client)\n",
    "                cnt_check = True\n",
    "            except:\n",
    "                print(\"Got an error again & breaking the loop ! :(\")\n",
    "                break\n",
    "            \n",
    "        elif \"429\" in str(e):\n",
    "            # change API key \n",
    "            while len(avail_api_keys_list) >0:\n",
    "                used_api_keys_list.append(current_key)\n",
    "                current_key = avail_api_keys_list.pop(0)\n",
    "                client = ElsClient(current_key)\n",
    "                print(f\"Changed API key, now using key: {current_key}\")\n",
    "                try:\n",
    "                    auth_srch = ElsSearch(f'AUTHLAST({family_in}) AND AUTHFIRST({given_in}) AND {sbj_area_query_creator(sa_in)}','author')\n",
    "                    auth_srch.execute(client)\n",
    "                    cnt_check = True\n",
    "                    print(\"New key is OK!\")\n",
    "                    break\n",
    "                except Exception as e:\n",
    "                    err_no = re.search(\"\\d+\",str(e))[0]\n",
    "                    if err_no == \"429\":\n",
    "                        print(\"New key is also finished!\")\n",
    "                    else:\n",
    "                        print(f\"Skipping author: {given_in} {family_in} - {auth_id}\")\n",
    "                        cnt_check = False\n",
    "                        break\n",
    "\n",
    "            if len(avail_api_keys_list) == 0:\n",
    "                print(\"No available API keys left & breaking the loop! :(\")\n",
    "                break\n",
    "\n",
    "        elif \"500\" in str(e):\n",
    "            sleep(30)\n",
    "            print(\"Slept for 30 & trying again!\")\n",
    "            try:\n",
    "                auth_srch = ElsSearch(f'AUTHLAST({family_in}) AND AUTHFIRST({given_in}) AND {sbj_area_query_creator(sa_in)}','author')\n",
    "                auth_srch.execute(client)\n",
    "                cnt_check = True\n",
    "            except:\n",
    "                cnt_check = False\n",
    "            pass\n",
    "        else:\n",
    "            print(\"Unknown error & breaking the loop! :(\")\n",
    "            break\n",
    "\n",
    "\n",
    "\n",
    "    if cnt_check:\n",
    "        country_out = list()\n",
    "        given_out = list()\n",
    "        family_out = list()\n",
    "        doc_count_out = list()\n",
    "\n",
    "        for auth in auth_srch.results:\n",
    "            # Country:\n",
    "            try:\n",
    "                country_out.append(auth['affiliation-current']['affiliation-country'])\n",
    "            except:\n",
    "                pass\n",
    "\n",
    "            # Given:\n",
    "            try:\n",
    "                given_out.append(auth['preferred-name']['given-name'])\n",
    "            except:\n",
    "                pass\n",
    "\n",
    "            # Family:\n",
    "            try:\n",
    "                family_out.append(auth['preferred-name']['surname'])\n",
    "            except:\n",
    "                pass\n",
    "\n",
    "            # Doc Count:\n",
    "            try:\n",
    "                doc_count_out.append(auth['document-count'])\n",
    "            except:\n",
    "                pass\n",
    "\n",
    "        author_out_dict = dict(author_id=auth_id, country=country_out, given=given_out, family=family_out, doc_count=doc_count_out)\n",
    "        author_out_list.append(author_out_dict)\n",
    "\n",
    "\n"
   ]
  },
  {
   "cell_type": "code",
   "execution_count": 48,
   "metadata": {},
   "outputs": [],
   "source": [
    "with open(\"author_out_list\",\"wb\") as p:\n",
    "    pickle.dump(author_out_list, p)"
   ]
  },
  {
   "cell_type": "code",
   "execution_count": 47,
   "metadata": {},
   "outputs": [
    {
     "data": {
      "text/html": [
       "<div>\n",
       "<style scoped>\n",
       "    .dataframe tbody tr th:only-of-type {\n",
       "        vertical-align: middle;\n",
       "    }\n",
       "\n",
       "    .dataframe tbody tr th {\n",
       "        vertical-align: top;\n",
       "    }\n",
       "\n",
       "    .dataframe thead th {\n",
       "        text-align: right;\n",
       "    }\n",
       "</style>\n",
       "<table border=\"1\" class=\"dataframe\">\n",
       "  <thead>\n",
       "    <tr style=\"text-align: right;\">\n",
       "      <th></th>\n",
       "      <th>author_id</th>\n",
       "      <th>country</th>\n",
       "      <th>given</th>\n",
       "      <th>family</th>\n",
       "      <th>doc_count</th>\n",
       "    </tr>\n",
       "  </thead>\n",
       "  <tbody>\n",
       "    <tr>\n",
       "      <th>0</th>\n",
       "      <td>aut_0</td>\n",
       "      <td>[China, China, China, Hong Kong]</td>\n",
       "      <td>[Jing, Jingheng, Jing, (Luna) Jing]</td>\n",
       "      <td>[Cai, Cai, Cai, Cai]</td>\n",
       "      <td>[23, 22, 1, 1]</td>\n",
       "    </tr>\n",
       "    <tr>\n",
       "      <th>1</th>\n",
       "      <td>aut_1</td>\n",
       "      <td>[United States, United States, United States, ...</td>\n",
       "      <td>[Qing, Qing, (Grace) Qing, Grace Qing]</td>\n",
       "      <td>[Hao, Hao, Hao, Hao]</td>\n",
       "      <td>[86, 11, 2, 1]</td>\n",
       "    </tr>\n",
       "    <tr>\n",
       "      <th>2</th>\n",
       "      <td>aut_2</td>\n",
       "      <td>[China, China, China, China, China, China, Chi...</td>\n",
       "      <td>[Yongquan, Yonghong, Yong, Dayong, Yongwu, Yon...</td>\n",
       "      <td>[Zhou, Zhou, Zhou, Zhou, Zhou, Zhou, Zhou, Zho...</td>\n",
       "      <td>[286, 220, 193, 170, 164, 151, 100, 92, 74, 64...</td>\n",
       "    </tr>\n",
       "    <tr>\n",
       "      <th>3</th>\n",
       "      <td>aut_3</td>\n",
       "      <td>[Italy, Italy, France, Nigeria, Malaysia, Saud...</td>\n",
       "      <td>[Andrea, Alessandro, Ado Adamou Abba, Hafizull...</td>\n",
       "      <td>[Abba, Abbà, Ari, Ahmed, Haruna, Abba, Abba, A...</td>\n",
       "      <td>[75, 65, 44, 19, 17, 15, 8, 3]</td>\n",
       "    </tr>\n",
       "    <tr>\n",
       "      <th>4</th>\n",
       "      <td>aut_4</td>\n",
       "      <td>[Italy]</td>\n",
       "      <td>[Antonella]</td>\n",
       "      <td>[Agodi]</td>\n",
       "      <td>[234]</td>\n",
       "    </tr>\n",
       "    <tr>\n",
       "      <th>...</th>\n",
       "      <td>...</td>\n",
       "      <td>...</td>\n",
       "      <td>...</td>\n",
       "      <td>...</td>\n",
       "      <td>...</td>\n",
       "    </tr>\n",
       "    <tr>\n",
       "      <th>115302</th>\n",
       "      <td>aut_115308</td>\n",
       "      <td>[United States, United States]</td>\n",
       "      <td>[Shelia R., Shelia R.]</td>\n",
       "      <td>[Cotten, Cotten]</td>\n",
       "      <td>[87, 20]</td>\n",
       "    </tr>\n",
       "    <tr>\n",
       "      <th>115303</th>\n",
       "      <td>aut_115309</td>\n",
       "      <td>[Canada, United States, India, India, United S...</td>\n",
       "      <td>[Sunil Ranjan, Samir Ranjan, Swapan Kumar R., ...</td>\n",
       "      <td>[Das, Das, Das, Das, Das]</td>\n",
       "      <td>[183, 179, 164, 62, 26]</td>\n",
       "    </tr>\n",
       "    <tr>\n",
       "      <th>115304</th>\n",
       "      <td>aut_115310</td>\n",
       "      <td>[United States]</td>\n",
       "      <td>[Steven R.]</td>\n",
       "      <td>[Fassnacht]</td>\n",
       "      <td>[104]</td>\n",
       "    </tr>\n",
       "    <tr>\n",
       "      <th>115305</th>\n",
       "      <td>aut_115311</td>\n",
       "      <td>[United States]</td>\n",
       "      <td>[Seth Robert]</td>\n",
       "      <td>[Irish]</td>\n",
       "      <td>[81]</td>\n",
       "    </tr>\n",
       "    <tr>\n",
       "      <th>115306</th>\n",
       "      <td>aut_115312</td>\n",
       "      <td>[Norway]</td>\n",
       "      <td>[Steinar R.]</td>\n",
       "      <td>[Kvinnsland]</td>\n",
       "      <td>[49]</td>\n",
       "    </tr>\n",
       "  </tbody>\n",
       "</table>\n",
       "<p>115307 rows × 5 columns</p>\n",
       "</div>"
      ],
      "text/plain": [
       "         author_id                                            country  \\\n",
       "0            aut_0                   [China, China, China, Hong Kong]   \n",
       "1            aut_1  [United States, United States, United States, ...   \n",
       "2            aut_2  [China, China, China, China, China, China, Chi...   \n",
       "3            aut_3  [Italy, Italy, France, Nigeria, Malaysia, Saud...   \n",
       "4            aut_4                                            [Italy]   \n",
       "...            ...                                                ...   \n",
       "115302  aut_115308                     [United States, United States]   \n",
       "115303  aut_115309  [Canada, United States, India, India, United S...   \n",
       "115304  aut_115310                                    [United States]   \n",
       "115305  aut_115311                                    [United States]   \n",
       "115306  aut_115312                                           [Norway]   \n",
       "\n",
       "                                                    given  \\\n",
       "0                     [Jing, Jingheng, Jing, (Luna) Jing]   \n",
       "1                  [Qing, Qing, (Grace) Qing, Grace Qing]   \n",
       "2       [Yongquan, Yonghong, Yong, Dayong, Yongwu, Yon...   \n",
       "3       [Andrea, Alessandro, Ado Adamou Abba, Hafizull...   \n",
       "4                                             [Antonella]   \n",
       "...                                                   ...   \n",
       "115302                             [Shelia R., Shelia R.]   \n",
       "115303  [Sunil Ranjan, Samir Ranjan, Swapan Kumar R., ...   \n",
       "115304                                        [Steven R.]   \n",
       "115305                                      [Seth Robert]   \n",
       "115306                                       [Steinar R.]   \n",
       "\n",
       "                                                   family  \\\n",
       "0                                    [Cai, Cai, Cai, Cai]   \n",
       "1                                    [Hao, Hao, Hao, Hao]   \n",
       "2       [Zhou, Zhou, Zhou, Zhou, Zhou, Zhou, Zhou, Zho...   \n",
       "3       [Abba, Abbà, Ari, Ahmed, Haruna, Abba, Abba, A...   \n",
       "4                                                 [Agodi]   \n",
       "...                                                   ...   \n",
       "115302                                   [Cotten, Cotten]   \n",
       "115303                          [Das, Das, Das, Das, Das]   \n",
       "115304                                        [Fassnacht]   \n",
       "115305                                            [Irish]   \n",
       "115306                                       [Kvinnsland]   \n",
       "\n",
       "                                                doc_count  \n",
       "0                                          [23, 22, 1, 1]  \n",
       "1                                          [86, 11, 2, 1]  \n",
       "2       [286, 220, 193, 170, 164, 151, 100, 92, 74, 64...  \n",
       "3                          [75, 65, 44, 19, 17, 15, 8, 3]  \n",
       "4                                                   [234]  \n",
       "...                                                   ...  \n",
       "115302                                           [87, 20]  \n",
       "115303                            [183, 179, 164, 62, 26]  \n",
       "115304                                              [104]  \n",
       "115305                                               [81]  \n",
       "115306                                               [49]  \n",
       "\n",
       "[115307 rows x 5 columns]"
      ]
     },
     "execution_count": 47,
     "metadata": {},
     "output_type": "execute_result"
    }
   ],
   "source": [
    "pd.DataFrame(author_out_list)"
   ]
  },
  {
   "cell_type": "code",
   "execution_count": 49,
   "metadata": {},
   "outputs": [
    {
     "data": {
      "text/html": [
       "<div>\n",
       "<style scoped>\n",
       "    .dataframe tbody tr th:only-of-type {\n",
       "        vertical-align: middle;\n",
       "    }\n",
       "\n",
       "    .dataframe tbody tr th {\n",
       "        vertical-align: top;\n",
       "    }\n",
       "\n",
       "    .dataframe thead th {\n",
       "        text-align: right;\n",
       "    }\n",
       "</style>\n",
       "<table border=\"1\" class=\"dataframe\">\n",
       "  <thead>\n",
       "    <tr style=\"text-align: right;\">\n",
       "      <th></th>\n",
       "      <th>new_given</th>\n",
       "      <th>new_family</th>\n",
       "      <th>SA_list</th>\n",
       "    </tr>\n",
       "    <tr>\n",
       "      <th>index</th>\n",
       "      <th></th>\n",
       "      <th></th>\n",
       "      <th></th>\n",
       "    </tr>\n",
       "  </thead>\n",
       "  <tbody>\n",
       "    <tr>\n",
       "      <th>aut_115313</th>\n",
       "      <td>s. r.</td>\n",
       "      <td>sahoo</td>\n",
       "      <td>[Engineering]</td>\n",
       "    </tr>\n",
       "    <tr>\n",
       "      <th>aut_115314</th>\n",
       "      <td>s. r.</td>\n",
       "      <td>shukla</td>\n",
       "      <td>[Agricultural and Biological Sciences]</td>\n",
       "    </tr>\n",
       "    <tr>\n",
       "      <th>aut_115315</th>\n",
       "      <td>s. r.</td>\n",
       "      <td>werre</td>\n",
       "      <td>[Agricultural and Biological Sciences, Veterin...</td>\n",
       "    </tr>\n",
       "    <tr>\n",
       "      <th>aut_115316</th>\n",
       "      <td>s. r. k.</td>\n",
       "      <td>murthy</td>\n",
       "      <td>[Biochemistry, Genetics and Molecular Biology]</td>\n",
       "    </tr>\n",
       "    <tr>\n",
       "      <th>aut_115317</th>\n",
       "      <td>s. rae</td>\n",
       "      <td>wannier</td>\n",
       "      <td>[Medicine, Immunology and Microbiology]</td>\n",
       "    </tr>\n",
       "    <tr>\n",
       "      <th>...</th>\n",
       "      <td>...</td>\n",
       "      <td>...</td>\n",
       "      <td>...</td>\n",
       "    </tr>\n",
       "    <tr>\n",
       "      <th>aut_146533</th>\n",
       "      <td>žiga</td>\n",
       "      <td>šušteršic</td>\n",
       "      <td>[Physics and Astronomy, Materials Science, Eng...</td>\n",
       "    </tr>\n",
       "    <tr>\n",
       "      <th>aut_146534</th>\n",
       "      <td>živa bricman</td>\n",
       "      <td>rejc</td>\n",
       "      <td>[Engineering, Energy, Chemical Engineering, En...</td>\n",
       "    </tr>\n",
       "    <tr>\n",
       "      <th>aut_146535</th>\n",
       "      <td>а.kh.</td>\n",
       "      <td>inoyatov</td>\n",
       "      <td>[Materials Science, Physics and Astronomy]</td>\n",
       "    </tr>\n",
       "    <tr>\n",
       "      <th>aut_146536</th>\n",
       "      <td>е.</td>\n",
       "      <td>blagodatskaya</td>\n",
       "      <td>[Agricultural and Biological Sciences, Immunol...</td>\n",
       "    </tr>\n",
       "    <tr>\n",
       "      <th>aut_146537</th>\n",
       "      <td>ᴌukasz</td>\n",
       "      <td>boguszewicz</td>\n",
       "      <td>[Physics and Astronomy]</td>\n",
       "    </tr>\n",
       "  </tbody>\n",
       "</table>\n",
       "<p>31224 rows × 3 columns</p>\n",
       "</div>"
      ],
      "text/plain": [
       "               new_given     new_family  \\\n",
       "index                                     \n",
       "aut_115313         s. r.          sahoo   \n",
       "aut_115314         s. r.         shukla   \n",
       "aut_115315         s. r.          werre   \n",
       "aut_115316      s. r. k.         murthy   \n",
       "aut_115317        s. rae        wannier   \n",
       "...                  ...            ...   \n",
       "aut_146533          žiga      šušteršic   \n",
       "aut_146534  živa bricman           rejc   \n",
       "aut_146535         а.kh.       inoyatov   \n",
       "aut_146536            е.  blagodatskaya   \n",
       "aut_146537        ᴌukasz    boguszewicz   \n",
       "\n",
       "                                                      SA_list  \n",
       "index                                                          \n",
       "aut_115313                                      [Engineering]  \n",
       "aut_115314             [Agricultural and Biological Sciences]  \n",
       "aut_115315  [Agricultural and Biological Sciences, Veterin...  \n",
       "aut_115316     [Biochemistry, Genetics and Molecular Biology]  \n",
       "aut_115317            [Medicine, Immunology and Microbiology]  \n",
       "...                                                       ...  \n",
       "aut_146533  [Physics and Astronomy, Materials Science, Eng...  \n",
       "aut_146534  [Engineering, Energy, Chemical Engineering, En...  \n",
       "aut_146535         [Materials Science, Physics and Astronomy]  \n",
       "aut_146536  [Agricultural and Biological Sciences, Immunol...  \n",
       "aut_146537                            [Physics and Astronomy]  \n",
       "\n",
       "[31224 rows x 3 columns]"
      ]
     },
     "execution_count": 49,
     "metadata": {},
     "output_type": "execute_result"
    }
   ],
   "source": [
    "q1_first_author_df.drop([\"aut_4915\", \"aut_14163\", \"aut_18315\", \"aut_23897\", \"aut_48200\", \"aut_112348\", \"aut_124149\"])[[\"new_given\",\"new_family\",\"SA_list\"]][115307:]"
   ]
  },
  {
   "cell_type": "code",
   "execution_count": 50,
   "metadata": {},
   "outputs": [],
   "source": [
    "first_author_input_dict_take_infinite = q1_first_author_df.drop([\"aut_4915\", \"aut_14163\", \"aut_18315\", \"aut_23897\", \"aut_48200\", \"aut_112348\", \"aut_124149\"])[[\"new_given\",\"new_family\",\"SA_list\"]][115307:].to_dict(\"index\")"
   ]
  },
  {
   "cell_type": "code",
   "execution_count": 51,
   "metadata": {},
   "outputs": [
    {
     "name": "stdout",
     "output_type": "stream",
     "text": [
      "Start Time = 18:38:09\n",
      "Encountered Error: 10060!\n",
      "Time = 18:43:33\n",
      "Loop save complete!\n",
      "Slept for 30 & trying again!\n",
      "Trial number: 1\n",
      "It is now OK!\n",
      "Encountered Error: 10060!\n",
      "Time = 18:54:23\n",
      "Loop save complete!\n",
      "Slept for 30 & trying again!\n",
      "Trial number: 1\n",
      "It is now OK!\n",
      "Encountered Error: 10060!\n",
      "Time = 19:19:01\n",
      "Loop save complete!\n",
      "Slept for 30 & trying again!\n",
      "Trial number: 1\n",
      "Another error: 443\n",
      "Slept for 30 & trying again!\n",
      "Trial number: 2\n",
      "It is now OK!\n",
      "Encountered Error: 10060!\n",
      "Time = 20:21:09\n",
      "Loop save complete!\n",
      "Slept for 30 & trying again!\n",
      "Trial number: 1\n",
      "It is now OK!\n",
      "Encountered Error: 10054!\n",
      "Time = 21:50:45\n",
      "Loop save complete!\n",
      "Slept for 30 & trying again!\n",
      "Trial number: 1\n",
      "It is now OK!\n",
      "Encountered Error: 429!\n",
      "Time = 22:24:10\n",
      "Loop save complete!\n",
      "Changed API key, now using key: fbc5e06467522a07f93e247a24d89d3b\n",
      "New key is OK!\n",
      "Encountered Error: 10060!\n",
      "Time = 22:28:01\n",
      "Loop save complete!\n",
      "Slept for 30 & trying again!\n",
      "Trial number: 1\n",
      "It is now OK!\n",
      "Encountered Error: 10060!\n",
      "Time = 22:31:25\n",
      "Loop save complete!\n",
      "Slept for 30 & trying again!\n",
      "Trial number: 1\n",
      "It is now OK!\n",
      "Encountered Error: 10060!\n",
      "Time = 23:14:24\n",
      "Loop save complete!\n",
      "Slept for 30 & trying again!\n",
      "Trial number: 1\n",
      "It is now OK!\n",
      "Encountered Error: 10054!\n",
      "Time = 23:15:34\n",
      "Loop save complete!\n",
      "Slept for 30 & trying again!\n",
      "Trial number: 1\n",
      "It is now OK!\n",
      "Encountered Error: 10060!\n",
      "Time = 23:23:19\n",
      "Loop save complete!\n",
      "Slept for 30 & trying again!\n",
      "Trial number: 1\n",
      "It is now OK!\n",
      "Encountered Error: 429!\n",
      "Time = 02:12:33\n",
      "Loop save complete!\n",
      "Changed API key, now using key: 3f453389d0cada327703d787cd41b4ec\n",
      "New key is OK!\n",
      "Encountered Error: 429!\n",
      "Time = 05:43:06\n",
      "Loop save complete!\n",
      "Changed API key, now using key: e989f6eb6ea2a19b104eed28efe11071\n",
      "New key is OK!\n",
      "Encountered Error: 443!\n",
      "Time = 08:09:57\n",
      "Loop save complete!\n",
      "Slept for 30 & trying again!\n",
      "Trial number: 1\n",
      "Another error: 443\n",
      "Slept for 30 & trying again!\n",
      "Trial number: 2\n",
      "It is now OK!\n"
     ]
    }
   ],
   "source": [
    "# Full Loop - Take 13:\n",
    "# Fixed API keys lists\n",
    "\n",
    "#author_out_list= list()\n",
    "\n",
    "# avail_api_keys_list = [\"f36f0ccc1554186bb009e9ca7b3c14c0\",\"6ae4b5181b374f521e60d2ef4be73ec5\", \"c14e197a4982e7349247b189ff26da45\", \"fbc5e06467522a07f93e247a24d89d3b\", \n",
    "# \"3f453389d0cada327703d787cd41b4ec\",\"e989f6eb6ea2a19b104eed28efe11071\", \"784ab6b22d3148f3d3f94a75596d0633\",\"1a3f1a762b1e2abec678b08f4d7a1038\",\"53acda4267b6a5a9a6a87b8767aa8cc6\",\n",
    "# \"9289c787b0d98e1a5a7a7fb58e102e1a\",\"1bf711a2bc396e7e99340bdaf2ba29d0\",\"3bd33d7e35df95cc6dc576fd67e7356d\", \"e481b6eef24800668a6ee5ea576c1f97\",\"563df86d8ae1a6e62e0f0e4278a45cb9\",\n",
    "# \"92975ea2d964ac570219d520aaad1d41\",\"c8eab163448aa6bd54fa97af700a939b\",\"396d5385a697326c03800cf37ca4f1a2\",\"8a9a5beb728f47b401fd145e1bb035ba\", \"63db00d1e8f7e5a5ef223abad3858dfe\",\n",
    "# \"7b6016e18d538a15806f172d0ac7a0cd\",\"5d30dea104b6b7c33f6a120619fdbc6e\",\"e6cc81dc4b558be9892fa4e0715822a1\",\"da2094a93eb167105699cfb6c47466b6\",\n",
    "# \"a323957ad88e129d8bae2c7b2fd0e63a\",\"a809d51349b6a614581cf57493dc0c94\",\"a1d21854963d1cca62742c56b5f7633d\",\"f3bdebaa3f41b7443d8d9d8983c00479\",\"bfaac6eb78a88e97874fa1d0bfd8c63e\",\n",
    "# \"546932c3fcd8e21fbc6eab08010b9f44\",\"0599d76680c29c71e028fc9b77b0c063\",\"baaa9e51f8a49461352af25710719157\",\"30195f0b2192052a36bcab9ce3c4064f\",\"b7e95f5ea731eb5c9e84e7a1d499f50e\",\n",
    "# \"8707db153e4b9672fa6df25b03a5f747\",\"2dab4694b4347fa574d159bb97484fc4\",\"6af3d2c09eb08ec6e12f0cead9a1f5bb\",\"3872e798bf48fa28af583b9ebef5deb6\",\"1473c31dbcdb425f9cdaf75c673279d3\"]\n",
    "\n",
    "# used_api_keys_list = list()\n",
    "\n",
    "# current_key = avail_api_keys_list.pop(0)\n",
    "# client = ElsClient(current_key)\n",
    "\n",
    "print(f'Start Time = {datetime.now().strftime(\"%H:%M:%S\")}')\n",
    "\n",
    "for auth_id in first_author_input_dict_take_infinite:\n",
    "    given_in = first_author_input_dict_take_infinite[auth_id][\"new_given\"]\n",
    "    family_in = first_author_input_dict_take_infinite[auth_id][\"new_family\"]\n",
    "    sa_in = first_author_input_dict_take_infinite[auth_id][\"SA_list\"]\n",
    "\n",
    "    try:\n",
    "        auth_srch = ElsSearch(f'AUTHLAST({family_in}) AND AUTHFIRST({given_in}) AND {sbj_area_query_creator(sa_in)}','author')\n",
    "        auth_srch.execute(client)\n",
    "        cnt_check = True\n",
    "\n",
    "    except Exception as e:\n",
    "        err_no = re.search(\"\\d+\",str(e))[0]\n",
    "\n",
    "        print(f\"Encountered Error: {err_no}!\")\n",
    "        print(f'Time = {datetime.now().strftime(\"%H:%M:%S\")}')\n",
    "\n",
    "        with open(\"author_out_list_loop_save\",\"wb\") as p:\n",
    "                pickle.dump(author_out_list, p)\n",
    "        print(\"Loop save complete!\")\n",
    "\n",
    "        if \"400\" in str(e):\n",
    "            # query error, need to skip\n",
    "            print(f\"Skipping author: {given_in} {family_in} - {auth_id}\")\n",
    "            cnt_check = False\n",
    "\n",
    "        elif \"401\" in str(e):\n",
    "            # VPN error, sleep try again\n",
    "            sleep(60)\n",
    "            print(\"Slept for 60 & trying again!\")\n",
    "            try:\n",
    "                auth_srch = ElsSearch(f'AUTHLAST({family_in}) AND AUTHFIRST({given_in}) AND {sbj_area_query_creator(sa_in)}','author')\n",
    "                auth_srch.execute(client)\n",
    "                cnt_check = True\n",
    "            except:\n",
    "                print(\"Got an error again & breaking the loop ! :(\")\n",
    "                break\n",
    "            \n",
    "        elif \"429\" in str(e):\n",
    "            # change API key \n",
    "            while len(avail_api_keys_list) >0:\n",
    "                used_api_keys_list.append(current_key)\n",
    "                current_key = avail_api_keys_list.pop(0)\n",
    "                client = ElsClient(current_key)\n",
    "                print(f\"Changed API key, now using key: {current_key}\")\n",
    "                try:\n",
    "                    auth_srch = ElsSearch(f'AUTHLAST({family_in}) AND AUTHFIRST({given_in}) AND {sbj_area_query_creator(sa_in)}','author')\n",
    "                    auth_srch.execute(client)\n",
    "                    cnt_check = True\n",
    "                    print(\"New key is OK!\")\n",
    "                    break\n",
    "                except Exception as e:\n",
    "                    err_no = re.search(\"\\d+\",str(e))[0]\n",
    "                    if err_no == \"429\":\n",
    "                        print(\"New key is also finished!\")\n",
    "                    else:\n",
    "                        print(f\"Skipping author: {given_in} {family_in} - {auth_id}\")\n",
    "                        cnt_check = False\n",
    "                        break\n",
    "\n",
    "            if len(avail_api_keys_list) == 0:\n",
    "                print(\"No available API keys left & breaking the loop! :(\")\n",
    "                break\n",
    "\n",
    "        elif \"500\" in str(e):\n",
    "            sleep(30)\n",
    "            print(\"Slept for 30 & trying again!\")\n",
    "            try:\n",
    "                auth_srch = ElsSearch(f'AUTHLAST({family_in}) AND AUTHFIRST({given_in}) AND {sbj_area_query_creator(sa_in)}','author')\n",
    "                auth_srch.execute(client)\n",
    "                cnt_check = True\n",
    "            except:\n",
    "                cnt_check = False\n",
    "            pass\n",
    "\n",
    "        elif \"10060\" in str(e) or \"10054\" in str(e):\n",
    "            cnt_check = False\n",
    "            for i in range(10):\n",
    "                sleep(30)\n",
    "                print(\"Slept for 30 & trying again!\")\n",
    "                print(f\"Trial number: {i+1}\")\n",
    "                try:\n",
    "                    auth_srch = ElsSearch(f'AUTHLAST({family_in}) AND AUTHFIRST({given_in}) AND {sbj_area_query_creator(sa_in)}','author')\n",
    "                    auth_srch.execute(client)\n",
    "                    cnt_check = True\n",
    "                    print(\"It is now OK!\")\n",
    "                    break\n",
    "                except Exception as e:\n",
    "                    err_no = re.search(\"\\d+\",str(e))[0]\n",
    "                    if err_no == \"10060\":\n",
    "                        print(f\"It is still {err_no}!\")\n",
    "                    else:\n",
    "                        print(f\"Another error: {err_no}\")\n",
    "            \n",
    "            if not cnt_check:\n",
    "                print(f\"Couldn't fix {err_no} & breaking the loop! :(\")\n",
    "                break\n",
    "\n",
    "        else:\n",
    "            print(\"Unknown error & breaking the loop! :(\")\n",
    "            break\n",
    "\n",
    "\n",
    "\n",
    "    if cnt_check:\n",
    "        country_out = list()\n",
    "        given_out = list()\n",
    "        family_out = list()\n",
    "        doc_count_out = list()\n",
    "\n",
    "        for auth in auth_srch.results:\n",
    "            # Country:\n",
    "            try:\n",
    "                country_out.append(auth['affiliation-current']['affiliation-country'])\n",
    "            except:\n",
    "                pass\n",
    "\n",
    "            # Given:\n",
    "            try:\n",
    "                given_out.append(auth['preferred-name']['given-name'])\n",
    "            except:\n",
    "                pass\n",
    "\n",
    "            # Family:\n",
    "            try:\n",
    "                family_out.append(auth['preferred-name']['surname'])\n",
    "            except:\n",
    "                pass\n",
    "\n",
    "            # Doc Count:\n",
    "            try:\n",
    "                doc_count_out.append(auth['document-count'])\n",
    "            except:\n",
    "                pass\n",
    "\n",
    "        author_out_dict = dict(author_id=auth_id, country=country_out, given=given_out, family=family_out, doc_count=doc_count_out)\n",
    "        author_out_list.append(author_out_dict)\n",
    "\n",
    "\n"
   ]
  }
 ],
 "metadata": {
  "interpreter": {
   "hash": "6d6808e9ba8815475743150367720cad3673ac2b3f4957dc753295ba7ac37a1a"
  },
  "kernelspec": {
   "display_name": "Python 3.8.10 ('base')",
   "language": "python",
   "name": "python3"
  },
  "language_info": {
   "codemirror_mode": {
    "name": "ipython",
    "version": 3
   },
   "file_extension": ".py",
   "mimetype": "text/x-python",
   "name": "python",
   "nbconvert_exporter": "python",
   "pygments_lexer": "ipython3",
   "version": "3.8.10"
  },
  "orig_nbformat": 4
 },
 "nbformat": 4,
 "nbformat_minor": 2
}
