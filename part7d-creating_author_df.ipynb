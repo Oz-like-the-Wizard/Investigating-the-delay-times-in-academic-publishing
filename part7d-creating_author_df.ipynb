{
 "cells": [
  {
   "cell_type": "code",
   "execution_count": 1,
   "metadata": {},
   "outputs": [],
   "source": [
    "import pybliometrics"
   ]
  },
  {
   "cell_type": "code",
   "execution_count": 2,
   "metadata": {},
   "outputs": [
    {
     "name": "stdout",
     "output_type": "stream",
     "text": [
      "Creating config file at C:\\Users\\oguzk\\.pybliometrics\\config.ini with default paths...\n",
      "Configuration file successfully created at C:\\Users\\oguzk\\.pybliometrics\\config.ini\n",
      "For details see https://pybliometrics.rtfd.io/en/stable/configuration.html.\n"
     ]
    },
    {
     "data": {
      "text/plain": [
       "<configparser.ConfigParser at 0x17096fa2d30>"
      ]
     },
     "execution_count": 2,
     "metadata": {},
     "output_type": "execute_result"
    }
   ],
   "source": [
    "pybliometrics.scopus.utils.create_config()"
   ]
  },
  {
   "cell_type": "code",
   "execution_count": 1,
   "metadata": {},
   "outputs": [
    {
     "name": "stdout",
     "output_type": "stream",
     "text": [
      "Creating config file at C:\\Users\\oguzk\\.pybliometrics\\config.ini with default paths...\n",
      "Configuration file successfully created at C:\\Users\\oguzk\\.pybliometrics\\config.ini\n",
      "For details see https://pybliometrics.rtfd.io/en/stable/configuration.html.\n"
     ]
    }
   ],
   "source": [
    "import pandas as pd\n",
    "import numpy as np\n",
    "import regex as re\n",
    "\n",
    "from pybliometrics.scopus import AuthorSearch\n",
    "\n",
    "\n",
    "import pickle"
   ]
  },
  {
   "cell_type": "markdown",
   "metadata": {},
   "source": [
    "The main objective of this nb is to create a seperate author_df, to be used with Scopus API Author Search"
   ]
  },
  {
   "cell_type": "markdown",
   "metadata": {},
   "source": [
    "### Part 1: Creating author_df"
   ]
  },
  {
   "cell_type": "code",
   "execution_count": 119,
   "metadata": {},
   "outputs": [
    {
     "ename": "KeyboardInterrupt",
     "evalue": "",
     "output_type": "error",
     "traceback": [
      "\u001b[1;31m---------------------------------------------------------------------------\u001b[0m",
      "\u001b[1;31mKeyboardInterrupt\u001b[0m                         Traceback (most recent call last)",
      "\u001b[1;32m<ipython-input-119-a67f7a73a8e2>\u001b[0m in \u001b[0;36m<module>\u001b[1;34m\u001b[0m\n\u001b[0;32m      1\u001b[0m \u001b[1;32mwith\u001b[0m \u001b[0mopen\u001b[0m\u001b[1;33m(\u001b[0m\u001b[1;34m\"q1_date_df\"\u001b[0m\u001b[1;33m,\u001b[0m \u001b[1;34m\"rb\"\u001b[0m\u001b[1;33m)\u001b[0m \u001b[1;32mas\u001b[0m \u001b[0mfp\u001b[0m\u001b[1;33m:\u001b[0m\u001b[1;33m\u001b[0m\u001b[1;33m\u001b[0m\u001b[0m\n\u001b[1;32m----> 2\u001b[1;33m     \u001b[0mq1_date_df\u001b[0m \u001b[1;33m=\u001b[0m \u001b[0mpickle\u001b[0m\u001b[1;33m.\u001b[0m\u001b[0mload\u001b[0m\u001b[1;33m(\u001b[0m\u001b[0mfp\u001b[0m\u001b[1;33m)\u001b[0m\u001b[1;33m\u001b[0m\u001b[1;33m\u001b[0m\u001b[0m\n\u001b[0m",
      "\u001b[1;31mKeyboardInterrupt\u001b[0m: "
     ]
    }
   ],
   "source": [
    "with open(\"q1_date_df\", \"rb\") as fp:\n",
    "    q1_date_df = pickle.load(fp)"
   ]
  },
  {
   "cell_type": "code",
   "execution_count": null,
   "metadata": {},
   "outputs": [
    {
     "data": {
      "text/plain": [
       "(156754, 20)"
      ]
     },
     "execution_count": 3,
     "metadata": {},
     "output_type": "execute_result"
    }
   ],
   "source": [
    "q1_date_df.shape"
   ]
  },
  {
   "cell_type": "code",
   "execution_count": null,
   "metadata": {},
   "outputs": [
    {
     "data": {
      "text/plain": [
       "<class 'list'>     156436\n",
       "<class 'float'>       318\n",
       "Name: author, dtype: int64"
      ]
     },
     "execution_count": 4,
     "metadata": {},
     "output_type": "execute_result"
    }
   ],
   "source": [
    "q1_date_df.author.map(type).value_counts()"
   ]
  },
  {
   "cell_type": "markdown",
   "metadata": {},
   "source": [
    "It should be noted that 249 artcls do not have any author information :("
   ]
  },
  {
   "cell_type": "code",
   "execution_count": null,
   "metadata": {},
   "outputs": [],
   "source": [
    "q1_author_df = q1_date_df.reset_index().dropna(subset= \"author\").loc[:,[\"DOI\", \"JRNL_ID\", \"author\"]].explode(\"author\")"
   ]
  },
  {
   "cell_type": "code",
   "execution_count": null,
   "metadata": {},
   "outputs": [],
   "source": [
    "q1_author_df.reset_index(drop=True, inplace=True)"
   ]
  },
  {
   "cell_type": "markdown",
   "metadata": {},
   "source": [
    "#### Expanding \"author\" column -> aut_df"
   ]
  },
  {
   "cell_type": "code",
   "execution_count": null,
   "metadata": {},
   "outputs": [],
   "source": [
    "aut_df = pd.DataFrame(list(q1_author_df['author']))"
   ]
  },
  {
   "cell_type": "code",
   "execution_count": null,
   "metadata": {},
   "outputs": [
    {
     "data": {
      "text/plain": [
       "0    530763\n",
       "1    191411\n",
       "Name: affiliation, dtype: int64"
      ]
     },
     "execution_count": 12,
     "metadata": {},
     "output_type": "execute_result"
    }
   ],
   "source": [
    "aut_df.affiliation.map(len).map(lambda x: 1 if x>0 else 0).value_counts()"
   ]
  },
  {
   "cell_type": "code",
   "execution_count": null,
   "metadata": {},
   "outputs": [
    {
     "data": {
      "text/plain": [
       "0    116505\n",
       "1     43729\n",
       "Name: affiliation, dtype: int64"
      ]
     },
     "execution_count": 17,
     "metadata": {},
     "output_type": "execute_result"
    }
   ],
   "source": [
    "aut_df[aut_df.sequence == \"first\"].affiliation.map(len).map(lambda x: 1 if x>0 else 0).value_counts()"
   ]
  },
  {
   "cell_type": "code",
   "execution_count": null,
   "metadata": {},
   "outputs": [],
   "source": [
    "# Combining the two datasets:\n",
    "q1_author_df = pd.concat([q1_author_df, aut_df], axis=1)"
   ]
  },
  {
   "cell_type": "code",
   "execution_count": null,
   "metadata": {},
   "outputs": [
    {
     "data": {
      "text/html": [
       "<div>\n",
       "<style scoped>\n",
       "    .dataframe tbody tr th:only-of-type {\n",
       "        vertical-align: middle;\n",
       "    }\n",
       "\n",
       "    .dataframe tbody tr th {\n",
       "        vertical-align: top;\n",
       "    }\n",
       "\n",
       "    .dataframe thead th {\n",
       "        text-align: right;\n",
       "    }\n",
       "</style>\n",
       "<table border=\"1\" class=\"dataframe\">\n",
       "  <thead>\n",
       "    <tr style=\"text-align: right;\">\n",
       "      <th></th>\n",
       "      <th>DOI</th>\n",
       "      <th>JRNL_ID</th>\n",
       "      <th>author</th>\n",
       "      <th>given</th>\n",
       "      <th>family</th>\n",
       "      <th>sequence</th>\n",
       "      <th>affiliation</th>\n",
       "      <th>ORCID</th>\n",
       "      <th>authenticated-orcid</th>\n",
       "      <th>suffix</th>\n",
       "      <th>name</th>\n",
       "    </tr>\n",
       "  </thead>\n",
       "  <tbody>\n",
       "    <tr>\n",
       "      <th>0</th>\n",
       "      <td>10.1002/aic.14056</td>\n",
       "      <td>1_0</td>\n",
       "      <td>{'given': 'Phuong-Mai', 'family': 'Nguyen', 's...</td>\n",
       "      <td>Phuong-Mai</td>\n",
       "      <td>Nguyen</td>\n",
       "      <td>first</td>\n",
       "      <td>[]</td>\n",
       "      <td>NaN</td>\n",
       "      <td>NaN</td>\n",
       "      <td>NaN</td>\n",
       "      <td>NaN</td>\n",
       "    </tr>\n",
       "    <tr>\n",
       "      <th>1</th>\n",
       "      <td>10.1002/aic.14056</td>\n",
       "      <td>1_0</td>\n",
       "      <td>{'given': 'Audrey', 'family': 'Goujon', 'seque...</td>\n",
       "      <td>Audrey</td>\n",
       "      <td>Goujon</td>\n",
       "      <td>additional</td>\n",
       "      <td>[{'name': 'Institut National de la Recherche A...</td>\n",
       "      <td>NaN</td>\n",
       "      <td>NaN</td>\n",
       "      <td>NaN</td>\n",
       "      <td>NaN</td>\n",
       "    </tr>\n",
       "    <tr>\n",
       "      <th>2</th>\n",
       "      <td>10.1002/aic.14056</td>\n",
       "      <td>1_0</td>\n",
       "      <td>{'given': 'Patrick', 'family': 'Sauvegrain', '...</td>\n",
       "      <td>Patrick</td>\n",
       "      <td>Sauvegrain</td>\n",
       "      <td>additional</td>\n",
       "      <td>[{'name': 'Laboratoire National de métrologie ...</td>\n",
       "      <td>NaN</td>\n",
       "      <td>NaN</td>\n",
       "      <td>NaN</td>\n",
       "      <td>NaN</td>\n",
       "    </tr>\n",
       "    <tr>\n",
       "      <th>3</th>\n",
       "      <td>10.1002/aic.14056</td>\n",
       "      <td>1_0</td>\n",
       "      <td>{'given': 'Olivier', 'family': 'Vitrac', 'sequ...</td>\n",
       "      <td>Olivier</td>\n",
       "      <td>Vitrac</td>\n",
       "      <td>additional</td>\n",
       "      <td>[{'name': 'Institut National de la Recherche A...</td>\n",
       "      <td>NaN</td>\n",
       "      <td>NaN</td>\n",
       "      <td>NaN</td>\n",
       "      <td>NaN</td>\n",
       "    </tr>\n",
       "    <tr>\n",
       "      <th>4</th>\n",
       "      <td>10.1002/aic.14601</td>\n",
       "      <td>1_1</td>\n",
       "      <td>{'given': 'Eiji', 'family': 'Iritani', 'sequen...</td>\n",
       "      <td>Eiji</td>\n",
       "      <td>Iritani</td>\n",
       "      <td>first</td>\n",
       "      <td>[{'name': 'Dept. of Chemical Engineering; Nago...</td>\n",
       "      <td>NaN</td>\n",
       "      <td>NaN</td>\n",
       "      <td>NaN</td>\n",
       "      <td>NaN</td>\n",
       "    </tr>\n",
       "  </tbody>\n",
       "</table>\n",
       "</div>"
      ],
      "text/plain": [
       "                 DOI JRNL_ID  \\\n",
       "0  10.1002/aic.14056     1_0   \n",
       "1  10.1002/aic.14056     1_0   \n",
       "2  10.1002/aic.14056     1_0   \n",
       "3  10.1002/aic.14056     1_0   \n",
       "4  10.1002/aic.14601     1_1   \n",
       "\n",
       "                                              author       given      family  \\\n",
       "0  {'given': 'Phuong-Mai', 'family': 'Nguyen', 's...  Phuong-Mai      Nguyen   \n",
       "1  {'given': 'Audrey', 'family': 'Goujon', 'seque...      Audrey      Goujon   \n",
       "2  {'given': 'Patrick', 'family': 'Sauvegrain', '...     Patrick  Sauvegrain   \n",
       "3  {'given': 'Olivier', 'family': 'Vitrac', 'sequ...     Olivier      Vitrac   \n",
       "4  {'given': 'Eiji', 'family': 'Iritani', 'sequen...        Eiji     Iritani   \n",
       "\n",
       "     sequence                                        affiliation ORCID  \\\n",
       "0       first                                                 []   NaN   \n",
       "1  additional  [{'name': 'Institut National de la Recherche A...   NaN   \n",
       "2  additional  [{'name': 'Laboratoire National de métrologie ...   NaN   \n",
       "3  additional  [{'name': 'Institut National de la Recherche A...   NaN   \n",
       "4       first  [{'name': 'Dept. of Chemical Engineering; Nago...   NaN   \n",
       "\n",
       "  authenticated-orcid suffix name  \n",
       "0                 NaN    NaN  NaN  \n",
       "1                 NaN    NaN  NaN  \n",
       "2                 NaN    NaN  NaN  \n",
       "3                 NaN    NaN  NaN  \n",
       "4                 NaN    NaN  NaN  "
      ]
     },
     "execution_count": 10,
     "metadata": {},
     "output_type": "execute_result"
    }
   ],
   "source": [
    "q1_author_df.head()"
   ]
  },
  {
   "cell_type": "code",
   "execution_count": null,
   "metadata": {},
   "outputs": [
    {
     "name": "stdout",
     "output_type": "stream",
     "text": [
      "<class 'pandas.core.frame.DataFrame'>\n",
      "RangeIndex: 722174 entries, 0 to 722173\n",
      "Data columns (total 11 columns):\n",
      " #   Column               Non-Null Count   Dtype \n",
      "---  ------               --------------   ----- \n",
      " 0   DOI                  722174 non-null  object\n",
      " 1   JRNL_ID              722174 non-null  object\n",
      " 2   author               722174 non-null  object\n",
      " 3   given                720608 non-null  object\n",
      " 4   family               721590 non-null  object\n",
      " 5   sequence             722174 non-null  object\n",
      " 6   affiliation          722174 non-null  object\n",
      " 7   ORCID                51373 non-null   object\n",
      " 8   authenticated-orcid  51373 non-null   object\n",
      " 9   suffix               1021 non-null    object\n",
      " 10  name                 584 non-null     object\n",
      "dtypes: object(11)\n",
      "memory usage: 60.6+ MB\n"
     ]
    }
   ],
   "source": [
    "q1_author_df.info()"
   ]
  },
  {
   "cell_type": "code",
   "execution_count": null,
   "metadata": {},
   "outputs": [
    {
     "data": {
      "text/plain": [
       "28055"
      ]
     },
     "execution_count": 17,
     "metadata": {},
     "output_type": "execute_result"
    }
   ],
   "source": [
    "len(q1_author_df[(q1_author_df.ORCID.notna()) & (q1_author_df.affiliation.map(len)==0)])"
   ]
  },
  {
   "cell_type": "markdown",
   "metadata": {},
   "source": [
    "There are 28K authors that have ORCID info but not any affl. fields.\n",
    "\n",
    "Can be useful, so will not drop!"
   ]
  },
  {
   "cell_type": "code",
   "execution_count": null,
   "metadata": {},
   "outputs": [],
   "source": [
    "q1_author_df.drop([\"suffix\", \"name\", \"author\"], axis=1, inplace=True)"
   ]
  },
  {
   "cell_type": "markdown",
   "metadata": {},
   "source": [
    "The initial analysis shows that a .groupby() w/o any preprocessing decreases the total number of authors from 720K to 590K.\n",
    "\n",
    "However, it is seen that there is a lot of errors & punct. marks in the dataset. These must be cleaned for a better groupby as well as API use."
   ]
  },
  {
   "cell_type": "code",
   "execution_count": null,
   "metadata": {},
   "outputs": [],
   "source": [
    "# To enable easy & detailed analysis we need to remove NaN values from author_df. However, this will not be necessary for the final q1_date_df, as it should not have any empty auhtor fields.and\n",
    "\n",
    "q1_author_df.dropna(subset=[\"family\", \"given\"], inplace=True)"
   ]
  },
  {
   "cell_type": "code",
   "execution_count": null,
   "metadata": {},
   "outputs": [
    {
     "ename": "KeyError",
     "evalue": "\"['New_given', 'New_family'] not found in axis\"",
     "output_type": "error",
     "traceback": [
      "\u001b[1;31m---------------------------------------------------------------------------\u001b[0m",
      "\u001b[1;31mKeyError\u001b[0m                                  Traceback (most recent call last)",
      "\u001b[1;32m<ipython-input-49-aa29e042f4e2>\u001b[0m in \u001b[0;36m<module>\u001b[1;34m\u001b[0m\n\u001b[1;32m----> 1\u001b[1;33m \u001b[0mq1_author_df\u001b[0m\u001b[1;33m.\u001b[0m\u001b[0mdrop\u001b[0m\u001b[1;33m(\u001b[0m\u001b[1;33m[\u001b[0m\u001b[1;34m\"New_given\"\u001b[0m\u001b[1;33m,\u001b[0m \u001b[1;34m\"New_family\"\u001b[0m\u001b[1;33m,\u001b[0m\u001b[1;33m]\u001b[0m\u001b[1;33m,\u001b[0m \u001b[0maxis\u001b[0m\u001b[1;33m=\u001b[0m\u001b[1;36m1\u001b[0m\u001b[1;33m,\u001b[0m \u001b[0minplace\u001b[0m\u001b[1;33m=\u001b[0m\u001b[1;32mTrue\u001b[0m\u001b[1;33m)\u001b[0m\u001b[1;33m\u001b[0m\u001b[1;33m\u001b[0m\u001b[0m\n\u001b[0m",
      "\u001b[1;32mc:\\Users\\oguzk\\anaconda3\\lib\\site-packages\\pandas\\util\\_decorators.py\u001b[0m in \u001b[0;36mwrapper\u001b[1;34m(*args, **kwargs)\u001b[0m\n\u001b[0;32m    309\u001b[0m                     \u001b[0mstacklevel\u001b[0m\u001b[1;33m=\u001b[0m\u001b[0mstacklevel\u001b[0m\u001b[1;33m,\u001b[0m\u001b[1;33m\u001b[0m\u001b[1;33m\u001b[0m\u001b[0m\n\u001b[0;32m    310\u001b[0m                 )\n\u001b[1;32m--> 311\u001b[1;33m             \u001b[1;32mreturn\u001b[0m \u001b[0mfunc\u001b[0m\u001b[1;33m(\u001b[0m\u001b[1;33m*\u001b[0m\u001b[0margs\u001b[0m\u001b[1;33m,\u001b[0m \u001b[1;33m**\u001b[0m\u001b[0mkwargs\u001b[0m\u001b[1;33m)\u001b[0m\u001b[1;33m\u001b[0m\u001b[1;33m\u001b[0m\u001b[0m\n\u001b[0m\u001b[0;32m    312\u001b[0m \u001b[1;33m\u001b[0m\u001b[0m\n\u001b[0;32m    313\u001b[0m         \u001b[1;32mreturn\u001b[0m \u001b[0mwrapper\u001b[0m\u001b[1;33m\u001b[0m\u001b[1;33m\u001b[0m\u001b[0m\n",
      "\u001b[1;32mc:\\Users\\oguzk\\anaconda3\\lib\\site-packages\\pandas\\core\\frame.py\u001b[0m in \u001b[0;36mdrop\u001b[1;34m(self, labels, axis, index, columns, level, inplace, errors)\u001b[0m\n\u001b[0;32m   4946\u001b[0m                 \u001b[0mweight\u001b[0m  \u001b[1;36m1.0\u001b[0m     \u001b[1;36m0.8\u001b[0m\u001b[1;33m\u001b[0m\u001b[1;33m\u001b[0m\u001b[0m\n\u001b[0;32m   4947\u001b[0m         \"\"\"\n\u001b[1;32m-> 4948\u001b[1;33m         return super().drop(\n\u001b[0m\u001b[0;32m   4949\u001b[0m             \u001b[0mlabels\u001b[0m\u001b[1;33m=\u001b[0m\u001b[0mlabels\u001b[0m\u001b[1;33m,\u001b[0m\u001b[1;33m\u001b[0m\u001b[1;33m\u001b[0m\u001b[0m\n\u001b[0;32m   4950\u001b[0m             \u001b[0maxis\u001b[0m\u001b[1;33m=\u001b[0m\u001b[0maxis\u001b[0m\u001b[1;33m,\u001b[0m\u001b[1;33m\u001b[0m\u001b[1;33m\u001b[0m\u001b[0m\n",
      "\u001b[1;32mc:\\Users\\oguzk\\anaconda3\\lib\\site-packages\\pandas\\core\\generic.py\u001b[0m in \u001b[0;36mdrop\u001b[1;34m(self, labels, axis, index, columns, level, inplace, errors)\u001b[0m\n\u001b[0;32m   4277\u001b[0m         \u001b[1;32mfor\u001b[0m \u001b[0maxis\u001b[0m\u001b[1;33m,\u001b[0m \u001b[0mlabels\u001b[0m \u001b[1;32min\u001b[0m \u001b[0maxes\u001b[0m\u001b[1;33m.\u001b[0m\u001b[0mitems\u001b[0m\u001b[1;33m(\u001b[0m\u001b[1;33m)\u001b[0m\u001b[1;33m:\u001b[0m\u001b[1;33m\u001b[0m\u001b[1;33m\u001b[0m\u001b[0m\n\u001b[0;32m   4278\u001b[0m             \u001b[1;32mif\u001b[0m \u001b[0mlabels\u001b[0m \u001b[1;32mis\u001b[0m \u001b[1;32mnot\u001b[0m \u001b[1;32mNone\u001b[0m\u001b[1;33m:\u001b[0m\u001b[1;33m\u001b[0m\u001b[1;33m\u001b[0m\u001b[0m\n\u001b[1;32m-> 4279\u001b[1;33m                 \u001b[0mobj\u001b[0m \u001b[1;33m=\u001b[0m \u001b[0mobj\u001b[0m\u001b[1;33m.\u001b[0m\u001b[0m_drop_axis\u001b[0m\u001b[1;33m(\u001b[0m\u001b[0mlabels\u001b[0m\u001b[1;33m,\u001b[0m \u001b[0maxis\u001b[0m\u001b[1;33m,\u001b[0m \u001b[0mlevel\u001b[0m\u001b[1;33m=\u001b[0m\u001b[0mlevel\u001b[0m\u001b[1;33m,\u001b[0m \u001b[0merrors\u001b[0m\u001b[1;33m=\u001b[0m\u001b[0merrors\u001b[0m\u001b[1;33m)\u001b[0m\u001b[1;33m\u001b[0m\u001b[1;33m\u001b[0m\u001b[0m\n\u001b[0m\u001b[0;32m   4280\u001b[0m \u001b[1;33m\u001b[0m\u001b[0m\n\u001b[0;32m   4281\u001b[0m         \u001b[1;32mif\u001b[0m \u001b[0minplace\u001b[0m\u001b[1;33m:\u001b[0m\u001b[1;33m\u001b[0m\u001b[1;33m\u001b[0m\u001b[0m\n",
      "\u001b[1;32mc:\\Users\\oguzk\\anaconda3\\lib\\site-packages\\pandas\\core\\generic.py\u001b[0m in \u001b[0;36m_drop_axis\u001b[1;34m(self, labels, axis, level, errors, consolidate, only_slice)\u001b[0m\n\u001b[0;32m   4321\u001b[0m                 \u001b[0mnew_axis\u001b[0m \u001b[1;33m=\u001b[0m \u001b[0maxis\u001b[0m\u001b[1;33m.\u001b[0m\u001b[0mdrop\u001b[0m\u001b[1;33m(\u001b[0m\u001b[0mlabels\u001b[0m\u001b[1;33m,\u001b[0m \u001b[0mlevel\u001b[0m\u001b[1;33m=\u001b[0m\u001b[0mlevel\u001b[0m\u001b[1;33m,\u001b[0m \u001b[0merrors\u001b[0m\u001b[1;33m=\u001b[0m\u001b[0merrors\u001b[0m\u001b[1;33m)\u001b[0m\u001b[1;33m\u001b[0m\u001b[1;33m\u001b[0m\u001b[0m\n\u001b[0;32m   4322\u001b[0m             \u001b[1;32melse\u001b[0m\u001b[1;33m:\u001b[0m\u001b[1;33m\u001b[0m\u001b[1;33m\u001b[0m\u001b[0m\n\u001b[1;32m-> 4323\u001b[1;33m                 \u001b[0mnew_axis\u001b[0m \u001b[1;33m=\u001b[0m \u001b[0maxis\u001b[0m\u001b[1;33m.\u001b[0m\u001b[0mdrop\u001b[0m\u001b[1;33m(\u001b[0m\u001b[0mlabels\u001b[0m\u001b[1;33m,\u001b[0m \u001b[0merrors\u001b[0m\u001b[1;33m=\u001b[0m\u001b[0merrors\u001b[0m\u001b[1;33m)\u001b[0m\u001b[1;33m\u001b[0m\u001b[1;33m\u001b[0m\u001b[0m\n\u001b[0m\u001b[0;32m   4324\u001b[0m             \u001b[0mindexer\u001b[0m \u001b[1;33m=\u001b[0m \u001b[0maxis\u001b[0m\u001b[1;33m.\u001b[0m\u001b[0mget_indexer\u001b[0m\u001b[1;33m(\u001b[0m\u001b[0mnew_axis\u001b[0m\u001b[1;33m)\u001b[0m\u001b[1;33m\u001b[0m\u001b[1;33m\u001b[0m\u001b[0m\n\u001b[0;32m   4325\u001b[0m \u001b[1;33m\u001b[0m\u001b[0m\n",
      "\u001b[1;32mc:\\Users\\oguzk\\anaconda3\\lib\\site-packages\\pandas\\core\\indexes\\base.py\u001b[0m in \u001b[0;36mdrop\u001b[1;34m(self, labels, errors)\u001b[0m\n\u001b[0;32m   6642\u001b[0m         \u001b[1;32mif\u001b[0m \u001b[0mmask\u001b[0m\u001b[1;33m.\u001b[0m\u001b[0many\u001b[0m\u001b[1;33m(\u001b[0m\u001b[1;33m)\u001b[0m\u001b[1;33m:\u001b[0m\u001b[1;33m\u001b[0m\u001b[1;33m\u001b[0m\u001b[0m\n\u001b[0;32m   6643\u001b[0m             \u001b[1;32mif\u001b[0m \u001b[0merrors\u001b[0m \u001b[1;33m!=\u001b[0m \u001b[1;34m\"ignore\"\u001b[0m\u001b[1;33m:\u001b[0m\u001b[1;33m\u001b[0m\u001b[1;33m\u001b[0m\u001b[0m\n\u001b[1;32m-> 6644\u001b[1;33m                 \u001b[1;32mraise\u001b[0m \u001b[0mKeyError\u001b[0m\u001b[1;33m(\u001b[0m\u001b[1;34mf\"{list(labels[mask])} not found in axis\"\u001b[0m\u001b[1;33m)\u001b[0m\u001b[1;33m\u001b[0m\u001b[1;33m\u001b[0m\u001b[0m\n\u001b[0m\u001b[0;32m   6645\u001b[0m             \u001b[0mindexer\u001b[0m \u001b[1;33m=\u001b[0m \u001b[0mindexer\u001b[0m\u001b[1;33m[\u001b[0m\u001b[1;33m~\u001b[0m\u001b[0mmask\u001b[0m\u001b[1;33m]\u001b[0m\u001b[1;33m\u001b[0m\u001b[1;33m\u001b[0m\u001b[0m\n\u001b[0;32m   6646\u001b[0m         \u001b[1;32mreturn\u001b[0m \u001b[0mself\u001b[0m\u001b[1;33m.\u001b[0m\u001b[0mdelete\u001b[0m\u001b[1;33m(\u001b[0m\u001b[0mindexer\u001b[0m\u001b[1;33m)\u001b[0m\u001b[1;33m\u001b[0m\u001b[1;33m\u001b[0m\u001b[0m\n",
      "\u001b[1;31mKeyError\u001b[0m: \"['New_given', 'New_family'] not found in axis\""
     ]
    }
   ],
   "source": [
    "q1_author_df.drop([\"New_given\", \"New_family\",], axis=1, inplace=True)"
   ]
  },
  {
   "cell_type": "markdown",
   "metadata": {},
   "source": [
    "The standard for abbr. names will be \"A. C.\""
   ]
  },
  {
   "cell_type": "code",
   "execution_count": null,
   "metadata": {},
   "outputs": [],
   "source": [
    "# Need to df[0] = df[0].str.strip() first:\n",
    "\n",
    "q1_author_df.given = q1_author_df.given.str.strip()\n",
    "q1_author_df.family = q1_author_df.family.str.strip()"
   ]
  },
  {
   "cell_type": "code",
   "execution_count": null,
   "metadata": {},
   "outputs": [],
   "source": [
    "# Remove multiple spaces:\n",
    "q1_author_df.given = q1_author_df.given.map(lambda x: re.sub(' +', ' ', x))\n",
    "q1_author_df.family = q1_author_df.family.map(lambda x: re.sub(' +', ' ', x))"
   ]
  },
  {
   "cell_type": "code",
   "execution_count": null,
   "metadata": {},
   "outputs": [
    {
     "data": {
      "text/html": [
       "<div>\n",
       "<style scoped>\n",
       "    .dataframe tbody tr th:only-of-type {\n",
       "        vertical-align: middle;\n",
       "    }\n",
       "\n",
       "    .dataframe tbody tr th {\n",
       "        vertical-align: top;\n",
       "    }\n",
       "\n",
       "    .dataframe thead th {\n",
       "        text-align: right;\n",
       "    }\n",
       "</style>\n",
       "<table border=\"1\" class=\"dataframe\">\n",
       "  <thead>\n",
       "    <tr style=\"text-align: right;\">\n",
       "      <th></th>\n",
       "      <th>DOI</th>\n",
       "      <th>JRNL_ID</th>\n",
       "      <th>given</th>\n",
       "      <th>family</th>\n",
       "      <th>sequence</th>\n",
       "      <th>affiliation</th>\n",
       "      <th>ORCID</th>\n",
       "      <th>authenticated-orcid</th>\n",
       "      <th>New_given</th>\n",
       "      <th>New_family</th>\n",
       "    </tr>\n",
       "  </thead>\n",
       "  <tbody>\n",
       "    <tr>\n",
       "      <th>121</th>\n",
       "      <td>10.1007/s10441-013-9176-6</td>\n",
       "      <td>1_62</td>\n",
       "      <td>A. S.</td>\n",
       "      <td>Jannot</td>\n",
       "      <td>additional</td>\n",
       "      <td>[]</td>\n",
       "      <td>NaN</td>\n",
       "      <td>NaN</td>\n",
       "      <td>a. s.</td>\n",
       "      <td>jannot</td>\n",
       "    </tr>\n",
       "    <tr>\n",
       "      <th>125</th>\n",
       "      <td>10.1007/s10441-014-9234-8</td>\n",
       "      <td>1_61</td>\n",
       "      <td>G. P.</td>\n",
       "      <td>Samanta</td>\n",
       "      <td>first</td>\n",
       "      <td>[]</td>\n",
       "      <td>NaN</td>\n",
       "      <td>NaN</td>\n",
       "      <td>g. p.</td>\n",
       "      <td>samanta</td>\n",
       "    </tr>\n",
       "    <tr>\n",
       "      <th>153</th>\n",
       "      <td>10.1007/s00701-013-1624-1</td>\n",
       "      <td>1_73</td>\n",
       "      <td>M. P.</td>\n",
       "      <td>Meier</td>\n",
       "      <td>first</td>\n",
       "      <td>[]</td>\n",
       "      <td>NaN</td>\n",
       "      <td>NaN</td>\n",
       "      <td>m. p.</td>\n",
       "      <td>meier</td>\n",
       "    </tr>\n",
       "    <tr>\n",
       "      <th>156</th>\n",
       "      <td>10.1007/s00701-013-1624-1</td>\n",
       "      <td>1_73</td>\n",
       "      <td>M. I.</td>\n",
       "      <td>Ruge</td>\n",
       "      <td>additional</td>\n",
       "      <td>[]</td>\n",
       "      <td>NaN</td>\n",
       "      <td>NaN</td>\n",
       "      <td>m. i.</td>\n",
       "      <td>ruge</td>\n",
       "    </tr>\n",
       "    <tr>\n",
       "      <th>314</th>\n",
       "      <td>10.1007/s10714-010-0991-7</td>\n",
       "      <td>1_114</td>\n",
       "      <td>J. T.</td>\n",
       "      <td>Firouzjaee</td>\n",
       "      <td>first</td>\n",
       "      <td>[]</td>\n",
       "      <td>NaN</td>\n",
       "      <td>NaN</td>\n",
       "      <td>j. t.</td>\n",
       "      <td>firouzjaee</td>\n",
       "    </tr>\n",
       "    <tr>\n",
       "      <th>...</th>\n",
       "      <td>...</td>\n",
       "      <td>...</td>\n",
       "      <td>...</td>\n",
       "      <td>...</td>\n",
       "      <td>...</td>\n",
       "      <td>...</td>\n",
       "      <td>...</td>\n",
       "      <td>...</td>\n",
       "      <td>...</td>\n",
       "      <td>...</td>\n",
       "    </tr>\n",
       "    <tr>\n",
       "      <th>722047</th>\n",
       "      <td>10.1093/geronb/gbt032</td>\n",
       "      <td>1_24503</td>\n",
       "      <td>K. E.</td>\n",
       "      <td>Cichy</td>\n",
       "      <td>additional</td>\n",
       "      <td>[]</td>\n",
       "      <td>NaN</td>\n",
       "      <td>NaN</td>\n",
       "      <td>k. e.</td>\n",
       "      <td>cichy</td>\n",
       "    </tr>\n",
       "    <tr>\n",
       "      <th>722048</th>\n",
       "      <td>10.1093/geronb/gbt032</td>\n",
       "      <td>1_24503</td>\n",
       "      <td>K. S.</td>\n",
       "      <td>Birditt</td>\n",
       "      <td>additional</td>\n",
       "      <td>[]</td>\n",
       "      <td>NaN</td>\n",
       "      <td>NaN</td>\n",
       "      <td>k. s.</td>\n",
       "      <td>birditt</td>\n",
       "    </tr>\n",
       "    <tr>\n",
       "      <th>722057</th>\n",
       "      <td>10.1093/geronb/gbt100</td>\n",
       "      <td>1_24503</td>\n",
       "      <td>E. J.</td>\n",
       "      <td>Nicklett</td>\n",
       "      <td>first</td>\n",
       "      <td>[]</td>\n",
       "      <td>NaN</td>\n",
       "      <td>NaN</td>\n",
       "      <td>e. j.</td>\n",
       "      <td>nicklett</td>\n",
       "    </tr>\n",
       "    <tr>\n",
       "      <th>722059</th>\n",
       "      <td>10.1093/geronb/gbt100</td>\n",
       "      <td>1_24503</td>\n",
       "      <td>M. S.</td>\n",
       "      <td>Spencer</td>\n",
       "      <td>additional</td>\n",
       "      <td>[]</td>\n",
       "      <td>NaN</td>\n",
       "      <td>NaN</td>\n",
       "      <td>m. s.</td>\n",
       "      <td>spencer</td>\n",
       "    </tr>\n",
       "    <tr>\n",
       "      <th>722167</th>\n",
       "      <td>10.1109/tmech.2019.2893183</td>\n",
       "      <td>1_24695</td>\n",
       "      <td>C. C.</td>\n",
       "      <td>Chan</td>\n",
       "      <td>additional</td>\n",
       "      <td>[]</td>\n",
       "      <td>NaN</td>\n",
       "      <td>NaN</td>\n",
       "      <td>c. c.</td>\n",
       "      <td>chan</td>\n",
       "    </tr>\n",
       "  </tbody>\n",
       "</table>\n",
       "<p>14030 rows × 10 columns</p>\n",
       "</div>"
      ],
      "text/plain": [
       "                               DOI  JRNL_ID  given      family    sequence  \\\n",
       "121      10.1007/s10441-013-9176-6     1_62  A. S.      Jannot  additional   \n",
       "125      10.1007/s10441-014-9234-8     1_61  G. P.     Samanta       first   \n",
       "153      10.1007/s00701-013-1624-1     1_73  M. P.       Meier       first   \n",
       "156      10.1007/s00701-013-1624-1     1_73  M. I.        Ruge  additional   \n",
       "314      10.1007/s10714-010-0991-7    1_114  J. T.  Firouzjaee       first   \n",
       "...                            ...      ...    ...         ...         ...   \n",
       "722047       10.1093/geronb/gbt032  1_24503  K. E.       Cichy  additional   \n",
       "722048       10.1093/geronb/gbt032  1_24503  K. S.     Birditt  additional   \n",
       "722057       10.1093/geronb/gbt100  1_24503  E. J.    Nicklett       first   \n",
       "722059       10.1093/geronb/gbt100  1_24503  M. S.     Spencer  additional   \n",
       "722167  10.1109/tmech.2019.2893183  1_24695  C. C.        Chan  additional   \n",
       "\n",
       "       affiliation ORCID authenticated-orcid New_given  New_family  \n",
       "121             []   NaN                 NaN     a. s.      jannot  \n",
       "125             []   NaN                 NaN     g. p.     samanta  \n",
       "153             []   NaN                 NaN     m. p.       meier  \n",
       "156             []   NaN                 NaN     m. i.        ruge  \n",
       "314             []   NaN                 NaN     j. t.  firouzjaee  \n",
       "...            ...   ...                 ...       ...         ...  \n",
       "722047          []   NaN                 NaN     k. e.       cichy  \n",
       "722048          []   NaN                 NaN     k. s.     birditt  \n",
       "722057          []   NaN                 NaN     e. j.    nicklett  \n",
       "722059          []   NaN                 NaN     m. s.     spencer  \n",
       "722167          []   NaN                 NaN     c. c.        chan  \n",
       "\n",
       "[14030 rows x 10 columns]"
      ]
     },
     "execution_count": 34,
     "metadata": {},
     "output_type": "execute_result"
    }
   ],
   "source": [
    "q1_author_df[q1_author_df.given.map(lambda x: bool(re.match(\"^[A-Z]\\.\\s[A-Z]\\.$\", x)))]"
   ]
  },
  {
   "cell_type": "code",
   "execution_count": null,
   "metadata": {},
   "outputs": [],
   "source": [
    "# Case 1: A. C\n",
    "q1_author_df.loc[q1_author_df.given.map(lambda x: bool(re.match(\"^[A-Z]\\.\\s[A-Z]$\", x))),\"new_given\"] = q1_author_df[q1_author_df.given.map(lambda x: bool(re.match(\"^[A-Z]\\.\\s[A-Z]$\", x)))].given.map(lambda x: x +\".\")"
   ]
  },
  {
   "cell_type": "code",
   "execution_count": null,
   "metadata": {},
   "outputs": [],
   "source": [
    "# Case 2: A.C\n",
    "q1_author_df.loc[q1_author_df.given.map(lambda x: bool(re.match(\"^[A-Z]\\.[A-Z]$\", x))),\"new_given\"] = q1_author_df[q1_author_df.given.map(lambda x: bool(re.match(\"^[A-Z]\\.[A-Z]$\", x)))].given.map(lambda x: x.replace(\".\",\". \") +\".\")"
   ]
  },
  {
   "cell_type": "code",
   "execution_count": null,
   "metadata": {},
   "outputs": [],
   "source": [
    "# Case 3: AC\n",
    "q1_author_df.loc[q1_author_df.given.map(lambda x: bool(re.match(\"^[A-Z]{2}$\", x))),\"new_given\"] = q1_author_df[q1_author_df.given.map(lambda x: bool(re.match(\"^[A-Z]{2}$\", x)))].given.map(lambda x: x[0] + \". \" + x[1] + \".\")"
   ]
  },
  {
   "cell_type": "code",
   "execution_count": null,
   "metadata": {},
   "outputs": [],
   "source": [
    "# Case 4: A C\n",
    "q1_author_df.loc[q1_author_df.given.map(lambda x: bool(re.match(\"^[A-Z]\\s[A-Z]$\", x))),\"new_given\"] = q1_author_df[q1_author_df.given.map(lambda x: bool(re.match(\"^[A-Z]\\s[A-Z]$\", x)))].given.map(lambda x: x.replace(\" \", \". \") + \".\")"
   ]
  },
  {
   "cell_type": "code",
   "execution_count": null,
   "metadata": {},
   "outputs": [],
   "source": [
    "# Case 5: A.C.\n",
    "q1_author_df.loc[q1_author_df.given.map(lambda x: bool(re.match(\"^[A-Z]\\.[A-Z]\\.$\", x))), \"new_given\"] = q1_author_df[q1_author_df.given.map(lambda x: bool(re.match(\"^[A-Z]\\.[A-Z]\\.$\", x)))].given.map(lambda x: x.replace(\".\", \". \").strip())"
   ]
  },
  {
   "cell_type": "code",
   "execution_count": null,
   "metadata": {},
   "outputs": [],
   "source": [
    "# Single letter nanmes:\n",
    "q1_author_df.loc[q1_author_df.given.map(lambda x: bool(re.match(\"^[A-Z]$\", x))),\"new_given\"] = q1_author_df[q1_author_df.given.map(lambda x: bool(re.match(\"^[A-Z]$\", x)))].given.map(lambda x: x + \".\")"
   ]
  },
  {
   "cell_type": "code",
   "execution_count": null,
   "metadata": {},
   "outputs": [
    {
     "data": {
      "text/html": [
       "<div>\n",
       "<style scoped>\n",
       "    .dataframe tbody tr th:only-of-type {\n",
       "        vertical-align: middle;\n",
       "    }\n",
       "\n",
       "    .dataframe tbody tr th {\n",
       "        vertical-align: top;\n",
       "    }\n",
       "\n",
       "    .dataframe thead th {\n",
       "        text-align: right;\n",
       "    }\n",
       "</style>\n",
       "<table border=\"1\" class=\"dataframe\">\n",
       "  <thead>\n",
       "    <tr style=\"text-align: right;\">\n",
       "      <th></th>\n",
       "      <th>DOI</th>\n",
       "      <th>JRNL_ID</th>\n",
       "      <th>given</th>\n",
       "      <th>family</th>\n",
       "      <th>sequence</th>\n",
       "      <th>affiliation</th>\n",
       "      <th>ORCID</th>\n",
       "      <th>authenticated-orcid</th>\n",
       "      <th>new_given</th>\n",
       "      <th>new_family</th>\n",
       "    </tr>\n",
       "  </thead>\n",
       "  <tbody>\n",
       "    <tr>\n",
       "      <th>118</th>\n",
       "      <td>10.1007/s10441-013-9176-6</td>\n",
       "      <td>1_62</td>\n",
       "      <td>J.</td>\n",
       "      <td>Demongeot</td>\n",
       "      <td>first</td>\n",
       "      <td>[]</td>\n",
       "      <td>NaN</td>\n",
       "      <td>NaN</td>\n",
       "      <td>j.</td>\n",
       "      <td>demongeot</td>\n",
       "    </tr>\n",
       "    <tr>\n",
       "      <th>119</th>\n",
       "      <td>10.1007/s10441-013-9176-6</td>\n",
       "      <td>1_62</td>\n",
       "      <td>O.</td>\n",
       "      <td>Hansen</td>\n",
       "      <td>additional</td>\n",
       "      <td>[]</td>\n",
       "      <td>NaN</td>\n",
       "      <td>NaN</td>\n",
       "      <td>o.</td>\n",
       "      <td>hansen</td>\n",
       "    </tr>\n",
       "    <tr>\n",
       "      <th>120</th>\n",
       "      <td>10.1007/s10441-013-9176-6</td>\n",
       "      <td>1_62</td>\n",
       "      <td>H.</td>\n",
       "      <td>Hessami</td>\n",
       "      <td>additional</td>\n",
       "      <td>[]</td>\n",
       "      <td>NaN</td>\n",
       "      <td>NaN</td>\n",
       "      <td>h.</td>\n",
       "      <td>hessami</td>\n",
       "    </tr>\n",
       "    <tr>\n",
       "      <th>122</th>\n",
       "      <td>10.1007/s10441-013-9176-6</td>\n",
       "      <td>1_62</td>\n",
       "      <td>J.</td>\n",
       "      <td>Mintsa</td>\n",
       "      <td>additional</td>\n",
       "      <td>[]</td>\n",
       "      <td>NaN</td>\n",
       "      <td>NaN</td>\n",
       "      <td>j.</td>\n",
       "      <td>mintsa</td>\n",
       "    </tr>\n",
       "    <tr>\n",
       "      <th>123</th>\n",
       "      <td>10.1007/s10441-013-9176-6</td>\n",
       "      <td>1_62</td>\n",
       "      <td>M.</td>\n",
       "      <td>Rachdi</td>\n",
       "      <td>additional</td>\n",
       "      <td>[]</td>\n",
       "      <td>NaN</td>\n",
       "      <td>NaN</td>\n",
       "      <td>m.</td>\n",
       "      <td>rachdi</td>\n",
       "    </tr>\n",
       "    <tr>\n",
       "      <th>...</th>\n",
       "      <td>...</td>\n",
       "      <td>...</td>\n",
       "      <td>...</td>\n",
       "      <td>...</td>\n",
       "      <td>...</td>\n",
       "      <td>...</td>\n",
       "      <td>...</td>\n",
       "      <td>...</td>\n",
       "      <td>...</td>\n",
       "      <td>...</td>\n",
       "    </tr>\n",
       "    <tr>\n",
       "      <th>722041</th>\n",
       "      <td>10.1093/geronb/gbr092</td>\n",
       "      <td>1_24502</td>\n",
       "      <td>M.</td>\n",
       "      <td>Kalmijn</td>\n",
       "      <td>additional</td>\n",
       "      <td>[]</td>\n",
       "      <td>NaN</td>\n",
       "      <td>NaN</td>\n",
       "      <td>m.</td>\n",
       "      <td>kalmijn</td>\n",
       "    </tr>\n",
       "    <tr>\n",
       "      <th>722043</th>\n",
       "      <td>10.1093/geronb/gbr131</td>\n",
       "      <td>1_24502</td>\n",
       "      <td>M.</td>\n",
       "      <td>Wilson-Genderson</td>\n",
       "      <td>additional</td>\n",
       "      <td>[]</td>\n",
       "      <td>NaN</td>\n",
       "      <td>NaN</td>\n",
       "      <td>m.</td>\n",
       "      <td>wilson-genderson</td>\n",
       "    </tr>\n",
       "    <tr>\n",
       "      <th>722049</th>\n",
       "      <td>10.1093/geronb/gbt032</td>\n",
       "      <td>1_24503</td>\n",
       "      <td>S.</td>\n",
       "      <td>Zarit</td>\n",
       "      <td>additional</td>\n",
       "      <td>[]</td>\n",
       "      <td>NaN</td>\n",
       "      <td>NaN</td>\n",
       "      <td>s.</td>\n",
       "      <td>zarit</td>\n",
       "    </tr>\n",
       "    <tr>\n",
       "      <th>722061</th>\n",
       "      <td>10.1093/geronb/gbt121</td>\n",
       "      <td>1_24503</td>\n",
       "      <td>V.</td>\n",
       "      <td>Burholt</td>\n",
       "      <td>first</td>\n",
       "      <td>[]</td>\n",
       "      <td>NaN</td>\n",
       "      <td>NaN</td>\n",
       "      <td>v.</td>\n",
       "      <td>burholt</td>\n",
       "    </tr>\n",
       "    <tr>\n",
       "      <th>722062</th>\n",
       "      <td>10.1093/geronb/gbt121</td>\n",
       "      <td>1_24503</td>\n",
       "      <td>T.</td>\n",
       "      <td>Scharf</td>\n",
       "      <td>additional</td>\n",
       "      <td>[]</td>\n",
       "      <td>NaN</td>\n",
       "      <td>NaN</td>\n",
       "      <td>t.</td>\n",
       "      <td>scharf</td>\n",
       "    </tr>\n",
       "  </tbody>\n",
       "</table>\n",
       "<p>54469 rows × 10 columns</p>\n",
       "</div>"
      ],
      "text/plain": [
       "                              DOI  JRNL_ID given            family  \\\n",
       "118     10.1007/s10441-013-9176-6     1_62    J.         Demongeot   \n",
       "119     10.1007/s10441-013-9176-6     1_62    O.            Hansen   \n",
       "120     10.1007/s10441-013-9176-6     1_62    H.           Hessami   \n",
       "122     10.1007/s10441-013-9176-6     1_62    J.            Mintsa   \n",
       "123     10.1007/s10441-013-9176-6     1_62    M.            Rachdi   \n",
       "...                           ...      ...   ...               ...   \n",
       "722041      10.1093/geronb/gbr092  1_24502    M.           Kalmijn   \n",
       "722043      10.1093/geronb/gbr131  1_24502    M.  Wilson-Genderson   \n",
       "722049      10.1093/geronb/gbt032  1_24503    S.             Zarit   \n",
       "722061      10.1093/geronb/gbt121  1_24503    V.           Burholt   \n",
       "722062      10.1093/geronb/gbt121  1_24503    T.            Scharf   \n",
       "\n",
       "          sequence affiliation ORCID authenticated-orcid new_given  \\\n",
       "118          first          []   NaN                 NaN        j.   \n",
       "119     additional          []   NaN                 NaN        o.   \n",
       "120     additional          []   NaN                 NaN        h.   \n",
       "122     additional          []   NaN                 NaN        j.   \n",
       "123     additional          []   NaN                 NaN        m.   \n",
       "...            ...         ...   ...                 ...       ...   \n",
       "722041  additional          []   NaN                 NaN        m.   \n",
       "722043  additional          []   NaN                 NaN        m.   \n",
       "722049  additional          []   NaN                 NaN        s.   \n",
       "722061       first          []   NaN                 NaN        v.   \n",
       "722062  additional          []   NaN                 NaN        t.   \n",
       "\n",
       "              new_family  \n",
       "118            demongeot  \n",
       "119               hansen  \n",
       "120              hessami  \n",
       "122               mintsa  \n",
       "123               rachdi  \n",
       "...                  ...  \n",
       "722041           kalmijn  \n",
       "722043  wilson-genderson  \n",
       "722049             zarit  \n",
       "722061           burholt  \n",
       "722062            scharf  \n",
       "\n",
       "[54469 rows x 10 columns]"
      ]
     },
     "execution_count": 66,
     "metadata": {},
     "output_type": "execute_result"
    }
   ],
   "source": [
    "# Single letter nanmes:\n",
    "q1_author_df[q1_author_df.given.map(lambda x: bool(re.match(\"^[A-Z]\\.$\", x)))]"
   ]
  },
  {
   "cell_type": "code",
   "execution_count": null,
   "metadata": {},
   "outputs": [],
   "source": [
    "# Removing [Name], (Name),\n",
    "# remove \"Name\" , “Name”,\n",
    "# remove & % , - ' .\n",
    "# simplf. ö & ü & � & i\n",
    "\n",
    "# Main Preprocessing:\n",
    "def name_simplifier(pdf_read):\n",
    "    # Lowercase all:\n",
    "    pdf_modified = pdf_read.lower()\n",
    "    # Remove everything in brackets & paranthesis:\n",
    "    pdf_modified = re.sub(\"[\\(\\[\\{].*?[\\)\\]\\}]\", \"\", pdf_modified)\n",
    "    # Remove quote names:\n",
    "    pdf_modified = re.sub('[\"“].*?[\"”]', \"\", pdf_modified)\n",
    "    # Remove numbers\n",
    "    pdf_modified = re.sub(r'[0-9]', '', pdf_modified)\n",
    "    # Remove weird punct.\n",
    "    pdf_modified = re.sub(r'[&\\?\\$\\+\\\\\\*\\^\\|]', '', pdf_modified)\n",
    "    # Simplify acct. a:\n",
    "    pdf_modified = re.sub(r'[áạàảãăặằẳẵâấậầẩẫ]', 'a', pdf_modified)\n",
    "    # Simplify acct. i:\n",
    "    pdf_modified = re.sub(r'[íịìỉĩïǐĭīĩįɨıî]', 'i', pdf_modified)\n",
    "    # Simplify acct. i:\n",
    "    pdf_modified = re.sub(r'[éẹèẻẽêếệềểễ]', 'e', pdf_modified)\n",
    "    # Simplify acct. o:\n",
    "    pdf_modified = re.sub(r'[óòȯôöǒŏōõǫőốồøṓṑ]', 'o', pdf_modified)\n",
    "    # Simplify acct. u:\n",
    "    pdf_modified = re.sub(r'[úùûüǔŭūũů]', 'u', pdf_modified)\n",
    "    # Remove multiple spaces:\n",
    "    pdf_modified = re.sub(' +', ' ', pdf_modified)\n",
    "    # Return pdf_modified\n",
    "    return pdf_modified\n",
    "\n"
   ]
  },
  {
   "cell_type": "code",
   "execution_count": null,
   "metadata": {},
   "outputs": [],
   "source": [
    "# Simpli:\n",
    "\n",
    "q1_author_df.loc[q1_author_df.new_given.isna(),\"new_given\"] = q1_author_df[q1_author_df.new_given.isna()].given.map(name_simplifier)\n",
    "q1_author_df.loc[:,\"new_family\"] = q1_author_df.family.map(name_simplifier)"
   ]
  },
  {
   "cell_type": "code",
   "execution_count": null,
   "metadata": {},
   "outputs": [],
   "source": [
    "# After process stripping:\n",
    "\n",
    "q1_author_df.given = q1_author_df.given.str.strip()\n",
    "q1_author_df.family = q1_author_df.family.str.strip()"
   ]
  },
  {
   "cell_type": "code",
   "execution_count": null,
   "metadata": {},
   "outputs": [
    {
     "data": {
      "text/html": [
       "<div>\n",
       "<style scoped>\n",
       "    .dataframe tbody tr th:only-of-type {\n",
       "        vertical-align: middle;\n",
       "    }\n",
       "\n",
       "    .dataframe tbody tr th {\n",
       "        vertical-align: top;\n",
       "    }\n",
       "\n",
       "    .dataframe thead th {\n",
       "        text-align: right;\n",
       "    }\n",
       "</style>\n",
       "<table border=\"1\" class=\"dataframe\">\n",
       "  <thead>\n",
       "    <tr style=\"text-align: right;\">\n",
       "      <th></th>\n",
       "      <th>given</th>\n",
       "      <th>family</th>\n",
       "      <th>new_given</th>\n",
       "      <th>new_family</th>\n",
       "    </tr>\n",
       "  </thead>\n",
       "  <tbody>\n",
       "    <tr>\n",
       "      <th>662758</th>\n",
       "      <td>Juan</td>\n",
       "      <td>Du</td>\n",
       "      <td>juan</td>\n",
       "      <td>du</td>\n",
       "    </tr>\n",
       "    <tr>\n",
       "      <th>112153</th>\n",
       "      <td>Fabiola H.</td>\n",
       "      <td>Gerpott</td>\n",
       "      <td>fabiola h.</td>\n",
       "      <td>gerpott</td>\n",
       "    </tr>\n",
       "    <tr>\n",
       "      <th>378415</th>\n",
       "      <td>Nina</td>\n",
       "      <td>Hofmann</td>\n",
       "      <td>nina</td>\n",
       "      <td>hofmann</td>\n",
       "    </tr>\n",
       "    <tr>\n",
       "      <th>503665</th>\n",
       "      <td>Steven</td>\n",
       "      <td>Jay</td>\n",
       "      <td>steven</td>\n",
       "      <td>jay</td>\n",
       "    </tr>\n",
       "    <tr>\n",
       "      <th>272638</th>\n",
       "      <td>Srdjan</td>\n",
       "      <td>Pusara</td>\n",
       "      <td>srdjan</td>\n",
       "      <td>pusara</td>\n",
       "    </tr>\n",
       "    <tr>\n",
       "      <th>380487</th>\n",
       "      <td>A. R.</td>\n",
       "      <td>Mermut</td>\n",
       "      <td>a. r.</td>\n",
       "      <td>mermut</td>\n",
       "    </tr>\n",
       "    <tr>\n",
       "      <th>98232</th>\n",
       "      <td>Shiun-Yuan</td>\n",
       "      <td>Hsu</td>\n",
       "      <td>shiun-yuan</td>\n",
       "      <td>hsu</td>\n",
       "    </tr>\n",
       "    <tr>\n",
       "      <th>713101</th>\n",
       "      <td>Marta</td>\n",
       "      <td>Lachowska</td>\n",
       "      <td>marta</td>\n",
       "      <td>lachowska</td>\n",
       "    </tr>\n",
       "    <tr>\n",
       "      <th>684415</th>\n",
       "      <td>Per</td>\n",
       "      <td>Gardeström</td>\n",
       "      <td>per</td>\n",
       "      <td>gardestrom</td>\n",
       "    </tr>\n",
       "    <tr>\n",
       "      <th>454476</th>\n",
       "      <td>John E.</td>\n",
       "      <td>Savage</td>\n",
       "      <td>john e.</td>\n",
       "      <td>savage</td>\n",
       "    </tr>\n",
       "    <tr>\n",
       "      <th>325645</th>\n",
       "      <td>Pierdonato</td>\n",
       "      <td>Bruno</td>\n",
       "      <td>pierdonato</td>\n",
       "      <td>bruno</td>\n",
       "    </tr>\n",
       "    <tr>\n",
       "      <th>661172</th>\n",
       "      <td>Jian</td>\n",
       "      <td>Gao</td>\n",
       "      <td>jian</td>\n",
       "      <td>gao</td>\n",
       "    </tr>\n",
       "    <tr>\n",
       "      <th>247296</th>\n",
       "      <td>Yu Xin</td>\n",
       "      <td>Fang</td>\n",
       "      <td>yu xin</td>\n",
       "      <td>fang</td>\n",
       "    </tr>\n",
       "    <tr>\n",
       "      <th>140487</th>\n",
       "      <td>R. T.</td>\n",
       "      <td>Sabo</td>\n",
       "      <td>r. t.</td>\n",
       "      <td>sabo</td>\n",
       "    </tr>\n",
       "    <tr>\n",
       "      <th>56883</th>\n",
       "      <td>Rafał</td>\n",
       "      <td>Rakoczy</td>\n",
       "      <td>rafał</td>\n",
       "      <td>rakoczy</td>\n",
       "    </tr>\n",
       "    <tr>\n",
       "      <th>466605</th>\n",
       "      <td>Salvatore</td>\n",
       "      <td>Soresi</td>\n",
       "      <td>salvatore</td>\n",
       "      <td>soresi</td>\n",
       "    </tr>\n",
       "    <tr>\n",
       "      <th>196033</th>\n",
       "      <td>Juan José</td>\n",
       "      <td>Díaz-Mochón</td>\n",
       "      <td>juan jose</td>\n",
       "      <td>diaz-mochon</td>\n",
       "    </tr>\n",
       "    <tr>\n",
       "      <th>19138</th>\n",
       "      <td>J.</td>\n",
       "      <td>Millar</td>\n",
       "      <td>j.</td>\n",
       "      <td>millar</td>\n",
       "    </tr>\n",
       "    <tr>\n",
       "      <th>314858</th>\n",
       "      <td>Manuel</td>\n",
       "      <td>Suárez-Abelenda</td>\n",
       "      <td>manuel</td>\n",
       "      <td>suarez-abelenda</td>\n",
       "    </tr>\n",
       "    <tr>\n",
       "      <th>11143</th>\n",
       "      <td>Norman J.</td>\n",
       "      <td>Wagner</td>\n",
       "      <td>norman j.</td>\n",
       "      <td>wagner</td>\n",
       "    </tr>\n",
       "  </tbody>\n",
       "</table>\n",
       "</div>"
      ],
      "text/plain": [
       "             given           family   new_given       new_family\n",
       "662758        Juan               Du        juan               du\n",
       "112153  Fabiola H.          Gerpott  fabiola h.          gerpott\n",
       "378415        Nina          Hofmann        nina          hofmann\n",
       "503665      Steven              Jay      steven              jay\n",
       "272638      Srdjan           Pusara      srdjan           pusara\n",
       "380487       A. R.           Mermut       a. r.           mermut\n",
       "98232   Shiun-Yuan              Hsu  shiun-yuan              hsu\n",
       "713101       Marta        Lachowska       marta        lachowska\n",
       "684415         Per       Gardeström         per       gardestrom\n",
       "454476     John E.           Savage     john e.           savage\n",
       "325645  Pierdonato            Bruno  pierdonato            bruno\n",
       "661172        Jian              Gao        jian              gao\n",
       "247296      Yu Xin             Fang      yu xin             fang\n",
       "140487       R. T.             Sabo       r. t.             sabo\n",
       "56883        Rafał          Rakoczy       rafał          rakoczy\n",
       "466605   Salvatore           Soresi   salvatore           soresi\n",
       "196033   Juan José      Díaz-Mochón   juan jose      diaz-mochon\n",
       "19138           J.           Millar          j.           millar\n",
       "314858      Manuel  Suárez-Abelenda      manuel  suarez-abelenda\n",
       "11143    Norman J.           Wagner   norman j.           wagner"
      ]
     },
     "execution_count": 72,
     "metadata": {},
     "output_type": "execute_result"
    }
   ],
   "source": [
    "q1_author_df[[\"given\",\"family\",\"new_given\",\"new_family\"]].sample(20)"
   ]
  },
  {
   "cell_type": "code",
   "execution_count": null,
   "metadata": {},
   "outputs": [
    {
     "data": {
      "text/plain": [
       "new_given   new_family  \n",
       "                            1\n",
       "            rahmatd         1\n",
       "            santiano        1\n",
       " jing       cai             1\n",
       " kim        keamy           1\n",
       "                           ..\n",
       "о.о.        dan’kiv         1\n",
       "т.а.        denisova        1\n",
       "тatiana а.  grebennikova    1\n",
       "ᴌukasz      boguszewicz     1\n",
       "�lvaro      petracco        1\n",
       "Name: DOI, Length: 585967, dtype: int64"
      ]
     },
     "execution_count": 73,
     "metadata": {},
     "output_type": "execute_result"
    }
   ],
   "source": [
    "q1_author_df.groupby([\"new_given\",\"new_family\"])[\"DOI\"].count()"
   ]
  },
  {
   "cell_type": "markdown",
   "metadata": {},
   "source": [
    "### Part 2: Adding Subject Areas"
   ]
  },
  {
   "cell_type": "code",
   "execution_count": null,
   "metadata": {},
   "outputs": [],
   "source": [
    "with open(\"q1_jrnl_df\", \"rb\") as fp:\n",
    "    q1_jrnl_df = pickle.load(fp)"
   ]
  },
  {
   "cell_type": "code",
   "execution_count": null,
   "metadata": {},
   "outputs": [],
   "source": [
    "q1_author_df = pd.merge(left=q1_author_df, right=q1_jrnl_df[\"SA_list\"], how=\"left\", left_on=\"JRNL_ID\", right_index=True)"
   ]
  },
  {
   "cell_type": "markdown",
   "metadata": {},
   "source": [
    "### Part 3: Scopus API Trials"
   ]
  },
  {
   "cell_type": "code",
   "execution_count": null,
   "metadata": {},
   "outputs": [],
   "source": [
    "# copied from 6a:\n",
    "\n",
    "def Scopus_author(author_list):\n",
    "    for aut in author_list:\n",
    "        name = aut[\"given\"]\n",
    "        surname = aut[\"family\"]\n",
    "        s = AuthorSearch(f'AUTHLAST({surname}) and AUTHFIRST({name})')\n",
    "        if s.get_results_size()>0:\n",
    "            aut[\"country\"] = s.authors[0]._asdict()[\"country\"]\n",
    "        else:\n",
    "            aut[\"country\"] = None\n",
    "    return author_list"
   ]
  },
  {
   "cell_type": "code",
   "execution_count": null,
   "metadata": {},
   "outputs": [],
   "source": [
    "# copied from 6a:\n",
    "\n",
    "# After adding the country field for every author in \"author\" column:\n",
    "# Can use to create a seperate \"author_countries\" column\n",
    "\n",
    "def country_counter(author_col):\n",
    "    return Counter([aut[\"country\"] for aut in author_col])\n"
   ]
  },
  {
   "cell_type": "markdown",
   "metadata": {},
   "source": [
    "Useful stuff:"
   ]
  },
  {
   "cell_type": "code",
   "execution_count": 17,
   "metadata": {},
   "outputs": [],
   "source": [
    "scopus_codes_dict = {'Agricultural and Biological Sciences': 'AGRI',\n",
    " 'Arts and Humanities': 'ARTS',\n",
    " 'Biochemistry, Genetics and Molecular Biology': 'BIOC',\n",
    " 'Business, Management and Accounting': 'BUSI',\n",
    " 'Chemical Engineering': 'CENG',\n",
    " 'Chemistry': 'CHEM',\n",
    " 'Computer Science': 'COMP',\n",
    " 'Decision Sciences': 'DECI',\n",
    " 'Dentistry': 'DENT',\n",
    " 'Earth and Planetary Sciences': 'EART',\n",
    " 'Economics, Econometrics and Finance': 'ECON',\n",
    " 'Energy': 'ENER',\n",
    " 'Engineering': 'ENGI',\n",
    " 'Environmental Science': 'ENVI',\n",
    " 'Health Professions': 'HEAL',\n",
    " 'Immunology and Microbiology': 'IMMU',\n",
    " 'Materials Science': 'MATE',\n",
    " 'Mathematics': 'MATH',\n",
    " 'Medicine': 'MEDI',\n",
    " 'Neuroscience': 'NEUR',\n",
    " 'Nursing': 'NURS',\n",
    " 'Pharmacology, Toxicology and Pharmaceutics': 'PHAR',\n",
    " 'Physics and Astronomy': 'PHYS',\n",
    " 'Psychology': 'PSYC',\n",
    " 'Social Sciences': 'SOCI',\n",
    " 'Veterinary': 'VETE',\n",
    " 'Multidisciplinary': 'MULT'}\n",
    "\n",
    "def sbj_area_query_creator(sbj_list):\n",
    "    query = \" AND \".join([f\"SUBJAREA({scopus_codes_dict[sbj]})\" for sbj in sbj_list])\n",
    "    return query"
   ]
  },
  {
   "cell_type": "code",
   "execution_count": null,
   "metadata": {},
   "outputs": [
    {
     "data": {
      "text/html": [
       "<div>\n",
       "<style scoped>\n",
       "    .dataframe tbody tr th:only-of-type {\n",
       "        vertical-align: middle;\n",
       "    }\n",
       "\n",
       "    .dataframe tbody tr th {\n",
       "        vertical-align: top;\n",
       "    }\n",
       "\n",
       "    .dataframe thead th {\n",
       "        text-align: right;\n",
       "    }\n",
       "</style>\n",
       "<table border=\"1\" class=\"dataframe\">\n",
       "  <thead>\n",
       "    <tr style=\"text-align: right;\">\n",
       "      <th></th>\n",
       "      <th>DOI</th>\n",
       "      <th>JRNL_ID</th>\n",
       "      <th>given</th>\n",
       "      <th>family</th>\n",
       "      <th>sequence</th>\n",
       "      <th>affiliation</th>\n",
       "      <th>ORCID</th>\n",
       "      <th>authenticated-orcid</th>\n",
       "      <th>new_given</th>\n",
       "      <th>new_family</th>\n",
       "      <th>SA_list</th>\n",
       "    </tr>\n",
       "  </thead>\n",
       "  <tbody>\n",
       "    <tr>\n",
       "      <th>128084</th>\n",
       "      <td>10.1021/acs.jmedchem.6b00176</td>\n",
       "      <td>1_4104</td>\n",
       "      <td>Vanessa</td>\n",
       "      <td>Rada</td>\n",
       "      <td>additional</td>\n",
       "      <td>[]</td>\n",
       "      <td>NaN</td>\n",
       "      <td>NaN</td>\n",
       "      <td>vanessa</td>\n",
       "      <td>rada</td>\n",
       "      <td>[Pharmacology, Toxicology and Pharmaceutics, B...</td>\n",
       "    </tr>\n",
       "  </tbody>\n",
       "</table>\n",
       "</div>"
      ],
      "text/plain": [
       "                                 DOI JRNL_ID    given family    sequence  \\\n",
       "128084  10.1021/acs.jmedchem.6b00176  1_4104  Vanessa   Rada  additional   \n",
       "\n",
       "       affiliation ORCID authenticated-orcid new_given new_family  \\\n",
       "128084          []   NaN                 NaN   vanessa       rada   \n",
       "\n",
       "                                                  SA_list  \n",
       "128084  [Pharmacology, Toxicology and Pharmaceutics, B...  "
      ]
     },
     "execution_count": 90,
     "metadata": {},
     "output_type": "execute_result"
    }
   ],
   "source": [
    "testo = q1_author_df.sample(1)\n",
    "\n",
    "testo"
   ]
  },
  {
   "cell_type": "code",
   "execution_count": null,
   "metadata": {},
   "outputs": [
    {
     "data": {
      "text/plain": [
       "['United States']"
      ]
     },
     "execution_count": 110,
     "metadata": {},
     "output_type": "execute_result"
    }
   ],
   "source": [
    "Scopus_author(testo)"
   ]
  },
  {
   "cell_type": "code",
   "execution_count": null,
   "metadata": {},
   "outputs": [],
   "source": [
    "# ScopusQueryError: Found 6574 matches.  The query fails to return more than 5000 entries.  Change your query such that it returns fewer entries."
   ]
  },
  {
   "cell_type": "code",
   "execution_count": 129,
   "metadata": {},
   "outputs": [],
   "source": [
    "# VERSION 1 - To be used w/ .apply()\n",
    "\n",
    "def Scopus_author(row):\n",
    "    name = row[\"new_given\"]\n",
    "    surname = row[\"new_family\"]\n",
    "    sa_list = sbj_area_query_creator(row.SA_list)\n",
    "    try:\n",
    "        s = AuthorSearch(f'AUTHLAST({surname}) AND AUTHFIRST({name}) AND ({sa_list})')\n",
    "    except:\n",
    "        return None\n",
    "    if s.get_results_size() > 0:\n",
    "        return [s.authors[i]._asdict()[\"country\"] for i in range(s.get_results_size())]\n",
    "    else:\n",
    "        return np.nan"
   ]
  },
  {
   "cell_type": "code",
   "execution_count": null,
   "metadata": {},
   "outputs": [],
   "source": [
    "# VERSION 2 - To be used w/ .samle()\n",
    "\n",
    "def Scopus_author_sample(row):\n",
    "    name = row[\"new_given\"].item()\n",
    "    surname = row[\"new_family\"].item()\n",
    "    sa_list = sbj_area_query_creator(row.SA_list.item())\n",
    "    try:\n",
    "        s = AuthorSearch(f'AUTHLAST({surname}) AND AUTHFIRST({name}) AND ({sa_list})')\n",
    "    except:\n",
    "        return None\n",
    "    if s.get_results_size() > 0:\n",
    "        return [s.authors[i]._asdict()[\"country\"] for i in range(s.get_results_size())]\n",
    "    else:\n",
    "        return np.nan"
   ]
  },
  {
   "cell_type": "code",
   "execution_count": 124,
   "metadata": {},
   "outputs": [],
   "source": [
    "testo_df = q1_author_df.sample(6000)"
   ]
  },
  {
   "cell_type": "code",
   "execution_count": 130,
   "metadata": {},
   "outputs": [],
   "source": [
    "testo_df[\"scopus_result\"] = testo_df.apply(Scopus_author, axis=1)"
   ]
  },
  {
   "cell_type": "code",
   "execution_count": 135,
   "metadata": {},
   "outputs": [
    {
     "data": {
      "text/plain": [
       "<class 'NoneType'>    3983\n",
       "<class 'list'>        1974\n",
       "<class 'float'>         43\n",
       "Name: scopus_result, dtype: int64"
      ]
     },
     "execution_count": 135,
     "metadata": {},
     "output_type": "execute_result"
    }
   ],
   "source": [
    "testo_df.scopus_result.map(type).value_counts()"
   ]
  },
  {
   "cell_type": "code",
   "execution_count": 143,
   "metadata": {},
   "outputs": [],
   "source": [
    "with open(\"testo_df\",\"wb\") as p:\n",
    "    pickle.dump(testo_df, p)"
   ]
  },
  {
   "cell_type": "code",
   "execution_count": null,
   "metadata": {},
   "outputs": [],
   "source": [
    "with open(\"q1_author_df\",\"wb\") as p:\n",
    "    pickle.dump(q1_author_df, p)"
   ]
  },
  {
   "cell_type": "code",
   "execution_count": 140,
   "metadata": {},
   "outputs": [
    {
     "name": "stdout",
     "output_type": "stream",
     "text": [
      "Search 'AUTHLAST(Evans) and AUTHFIRST(David G.) AND (SUBJAREA(MEDI) OR SUBJAREA(BIOC) OR SUBJAREA(NEUR))' yielded 15 authors as of 2022-03-22:\n",
      "    Evans, D. Gareth R.; AUTHOR_ID:6505764222 (1,084 document(s))\n",
      "    Evans, David Geraint; AUTHOR_ID:57199095509 (450 document(s))\n",
      "    Evans, David G.; AUTHOR_ID:34770687200 (22 document(s))\n",
      "    Evans, David G.; AUTHOR_ID:57223817001 (10 document(s))\n",
      "    Evans, David G.; AUTHOR_ID:55478754500 (9 document(s))\n",
      "    Evans, David G.; AUTHOR_ID:55478764200 (7 document(s))\n",
      "    Evans, David G.; AUTHOR_ID:57209538123 (5 document(s))\n",
      "    Evans, David G.; AUTHOR_ID:57214022971 (3 document(s))\n",
      "    Evans, David G.; AUTHOR_ID:55568514534 (3 document(s))\n",
      "    Evans, William David George; AUTHOR_ID:55554688500 (3 document(s))\n",
      "    Evans, David G.; AUTHOR_ID:55478772600 (2 document(s))\n",
      "    Evans, David Glyn; AUTHOR_ID:57214023150 (1 document(s))\n",
      "    Evans, David G.; AUTHOR_ID:55478811400 (1 document(s))\n",
      "    Evans, David G.; AUTHOR_ID:55478794700 (1 document(s))\n",
      "    Evans, David G.; AUTHOR_ID:55478768900 (1 document(s))\n"
     ]
    }
   ],
   "source": [
    "print(s_s)"
   ]
  },
  {
   "cell_type": "markdown",
   "metadata": {},
   "source": [
    "### Part 4: Best way to use Scopus API"
   ]
  },
  {
   "cell_type": "code",
   "execution_count": 1,
   "metadata": {},
   "outputs": [],
   "source": [
    "# import pybliometrics\n",
    "\n",
    "# pybliometrics.scopus.utils.create_config()\n",
    "\n",
    "import pandas as pd\n",
    "import numpy as np\n",
    "import regex as re\n",
    "\n",
    "from pybliometrics.scopus import AuthorSearch\n",
    "\n",
    "\n",
    "import pickle"
   ]
  },
  {
   "cell_type": "code",
   "execution_count": 2,
   "metadata": {},
   "outputs": [],
   "source": [
    "scopus_codes_dict = {'Agricultural and Biological Sciences': 'AGRI',\n",
    " 'Arts and Humanities': 'ARTS',\n",
    " 'Biochemistry, Genetics and Molecular Biology': 'BIOC',\n",
    " 'Business, Management and Accounting': 'BUSI',\n",
    " 'Chemical Engineering': 'CENG',\n",
    " 'Chemistry': 'CHEM',\n",
    " 'Computer Science': 'COMP',\n",
    " 'Decision Sciences': 'DECI',\n",
    " 'Dentistry': 'DENT',\n",
    " 'Earth and Planetary Sciences': 'EART',\n",
    " 'Economics, Econometrics and Finance': 'ECON',\n",
    " 'Energy': 'ENER',\n",
    " 'Engineering': 'ENGI',\n",
    " 'Environmental Science': 'ENVI',\n",
    " 'Health Professions': 'HEAL',\n",
    " 'Immunology and Microbiology': 'IMMU',\n",
    " 'Materials Science': 'MATE',\n",
    " 'Mathematics': 'MATH',\n",
    " 'Medicine': 'MEDI',\n",
    " 'Neuroscience': 'NEUR',\n",
    " 'Nursing': 'NURS',\n",
    " 'Pharmacology, Toxicology and Pharmaceutics': 'PHAR',\n",
    " 'Physics and Astronomy': 'PHYS',\n",
    " 'Psychology': 'PSYC',\n",
    " 'Social Sciences': 'SOCI',\n",
    " 'Veterinary': 'VETE',\n",
    " 'Multidisciplinary': 'MULT'}\n",
    "\n",
    "def sbj_area_query_creator(sbj_list):\n",
    "    query = \" AND \".join([f\"SUBJAREA({scopus_codes_dict[sbj]})\" for sbj in sbj_list])\n",
    "    return query"
   ]
  },
  {
   "cell_type": "code",
   "execution_count": 3,
   "metadata": {},
   "outputs": [],
   "source": [
    "with open(\"q1_author_df\", \"rb\") as fp:\n",
    "    q1_author_df = pickle.load(fp)"
   ]
  },
  {
   "cell_type": "code",
   "execution_count": 4,
   "metadata": {},
   "outputs": [],
   "source": [
    "author_records = q1_author_df[[\"new_given\",\"new_family\",\"SA_list\"]].sample(10).to_dict(\"records\")"
   ]
  },
  {
   "cell_type": "markdown",
   "metadata": {},
   "source": [
    "#### 4.1 - w/o any API Keys "
   ]
  },
  {
   "cell_type": "code",
   "execution_count": 19,
   "metadata": {},
   "outputs": [
    {
     "ename": "Scopus401Error",
     "evalue": "Invalid API Key",
     "output_type": "error",
     "traceback": [
      "\u001b[1;31m---------------------------------------------------------------------------\u001b[0m",
      "\u001b[1;31mScopus401Error\u001b[0m                            Traceback (most recent call last)",
      "\u001b[1;32m<ipython-input-19-10e3173104cd>\u001b[0m in \u001b[0;36m<module>\u001b[1;34m\u001b[0m\n\u001b[0;32m      4\u001b[0m     \u001b[0msa_list\u001b[0m \u001b[1;33m=\u001b[0m \u001b[0msbj_area_query_creator\u001b[0m\u001b[1;33m(\u001b[0m\u001b[0mauthor\u001b[0m\u001b[1;33m[\u001b[0m\u001b[1;34m\"SA_list\"\u001b[0m\u001b[1;33m]\u001b[0m\u001b[1;33m)\u001b[0m\u001b[1;33m\u001b[0m\u001b[1;33m\u001b[0m\u001b[0m\n\u001b[0;32m      5\u001b[0m \u001b[1;33m\u001b[0m\u001b[0m\n\u001b[1;32m----> 6\u001b[1;33m     \u001b[0ms\u001b[0m \u001b[1;33m=\u001b[0m \u001b[0mAuthorSearch\u001b[0m\u001b[1;33m(\u001b[0m\u001b[1;34mf'AUTHLAST({surname}) AND AUTHFIRST({name}) AND ({sa_list})'\u001b[0m\u001b[1;33m)\u001b[0m\u001b[1;33m\u001b[0m\u001b[1;33m\u001b[0m\u001b[0m\n\u001b[0m\u001b[0;32m      7\u001b[0m     \u001b[0mauthor\u001b[0m\u001b[1;33m[\u001b[0m\u001b[1;34m\"affil\"\u001b[0m\u001b[1;33m]\u001b[0m \u001b[1;33m=\u001b[0m \u001b[1;33m[\u001b[0m\u001b[0ms\u001b[0m\u001b[1;33m.\u001b[0m\u001b[0mauthors\u001b[0m\u001b[1;33m[\u001b[0m\u001b[0mi\u001b[0m\u001b[1;33m]\u001b[0m\u001b[1;33m.\u001b[0m\u001b[0m_asdict\u001b[0m\u001b[1;33m(\u001b[0m\u001b[1;33m)\u001b[0m\u001b[1;33m[\u001b[0m\u001b[1;34m\"country\"\u001b[0m\u001b[1;33m]\u001b[0m \u001b[1;32mfor\u001b[0m \u001b[0mi\u001b[0m \u001b[1;32min\u001b[0m \u001b[0mrange\u001b[0m\u001b[1;33m(\u001b[0m\u001b[0ms\u001b[0m\u001b[1;33m.\u001b[0m\u001b[0mget_results_size\u001b[0m\u001b[1;33m(\u001b[0m\u001b[1;33m)\u001b[0m\u001b[1;33m)\u001b[0m\u001b[1;33m]\u001b[0m\u001b[1;33m\u001b[0m\u001b[1;33m\u001b[0m\u001b[0m\n",
      "\u001b[1;32mc:\\Users\\oguzk\\anaconda3\\lib\\site-packages\\pybliometrics\\scopus\\author_search.py\u001b[0m in \u001b[0;36m__init__\u001b[1;34m(self, query, refresh, verbose, download, integrity_fields, integrity_action, count, **kwds)\u001b[0m\n\u001b[0;32m    123\u001b[0m         \u001b[0mself\u001b[0m\u001b[1;33m.\u001b[0m\u001b[0m_refresh\u001b[0m \u001b[1;33m=\u001b[0m \u001b[0mrefresh\u001b[0m\u001b[1;33m\u001b[0m\u001b[1;33m\u001b[0m\u001b[0m\n\u001b[0;32m    124\u001b[0m         \u001b[0mself\u001b[0m\u001b[1;33m.\u001b[0m\u001b[0m_view\u001b[0m \u001b[1;33m=\u001b[0m \u001b[1;34m\"STANDARD\"\u001b[0m\u001b[1;33m\u001b[0m\u001b[1;33m\u001b[0m\u001b[0m\n\u001b[1;32m--> 125\u001b[1;33m         Search.__init__(self, query=query, api='AuthorSearch', count=count,\n\u001b[0m\u001b[0;32m    126\u001b[0m                         download=download, verbose=verbose, **kwds)\n\u001b[0;32m    127\u001b[0m \u001b[1;33m\u001b[0m\u001b[0m\n",
      "\u001b[1;32mc:\\Users\\oguzk\\anaconda3\\lib\\site-packages\\pybliometrics\\scopus\\superclasses\\search.py\u001b[0m in \u001b[0;36m__init__\u001b[1;34m(self, query, api, count, cursor, download, verbose, **kwds)\u001b[0m\n\u001b[0;32m     60\u001b[0m \u001b[1;33m\u001b[0m\u001b[0m\n\u001b[0;32m     61\u001b[0m         \u001b[1;31m# Init\u001b[0m\u001b[1;33m\u001b[0m\u001b[1;33m\u001b[0m\u001b[1;33m\u001b[0m\u001b[0m\n\u001b[1;32m---> 62\u001b[1;33m         Base.__init__(self, params=params, url=URLS[api], download=download,\n\u001b[0m\u001b[0;32m     63\u001b[0m                       api=api, verbose=verbose)\n\u001b[0;32m     64\u001b[0m \u001b[1;33m\u001b[0m\u001b[0m\n",
      "\u001b[1;32mc:\\Users\\oguzk\\anaconda3\\lib\\site-packages\\pybliometrics\\scopus\\superclasses\\base.py\u001b[0m in \u001b[0;36m__init__\u001b[1;34m(self, params, url, api, download, verbose, *args, **kwds)\u001b[0m\n\u001b[0;32m     57\u001b[0m                 \u001b[0mself\u001b[0m\u001b[1;33m.\u001b[0m\u001b[0m_json\u001b[0m \u001b[1;33m=\u001b[0m \u001b[0mloads\u001b[0m\u001b[1;33m(\u001b[0m\u001b[0mfname\u001b[0m\u001b[1;33m.\u001b[0m\u001b[0mread_text\u001b[0m\u001b[1;33m(\u001b[0m\u001b[1;33m)\u001b[0m\u001b[1;33m)\u001b[0m\u001b[1;33m\u001b[0m\u001b[1;33m\u001b[0m\u001b[0m\n\u001b[0;32m     58\u001b[0m         \u001b[1;32melse\u001b[0m\u001b[1;33m:\u001b[0m\u001b[1;33m\u001b[0m\u001b[1;33m\u001b[0m\u001b[0m\n\u001b[1;32m---> 59\u001b[1;33m             \u001b[0mresp\u001b[0m \u001b[1;33m=\u001b[0m \u001b[0mget_content\u001b[0m\u001b[1;33m(\u001b[0m\u001b[0murl\u001b[0m\u001b[1;33m,\u001b[0m \u001b[0mapi\u001b[0m\u001b[1;33m,\u001b[0m \u001b[0mparams\u001b[0m\u001b[1;33m,\u001b[0m \u001b[1;33m*\u001b[0m\u001b[0margs\u001b[0m\u001b[1;33m,\u001b[0m \u001b[1;33m**\u001b[0m\u001b[0mkwds\u001b[0m\u001b[1;33m)\u001b[0m\u001b[1;33m\u001b[0m\u001b[1;33m\u001b[0m\u001b[0m\n\u001b[0m\u001b[0;32m     60\u001b[0m             \u001b[0mheader\u001b[0m \u001b[1;33m=\u001b[0m \u001b[0mresp\u001b[0m\u001b[1;33m.\u001b[0m\u001b[0mheaders\u001b[0m\u001b[1;33m\u001b[0m\u001b[1;33m\u001b[0m\u001b[0m\n\u001b[0;32m     61\u001b[0m             \u001b[1;32mif\u001b[0m \u001b[0msearch_request\u001b[0m\u001b[1;33m:\u001b[0m\u001b[1;33m\u001b[0m\u001b[1;33m\u001b[0m\u001b[0m\n",
      "\u001b[1;32mc:\\Users\\oguzk\\anaconda3\\lib\\site-packages\\pybliometrics\\scopus\\utils\\get_content.py\u001b[0m in \u001b[0;36mget_content\u001b[1;34m(url, api, params, **kwds)\u001b[0m\n\u001b[0;32m    109\u001b[0m             \u001b[1;32mexcept\u001b[0m\u001b[1;33m:\u001b[0m\u001b[1;33m\u001b[0m\u001b[1;33m\u001b[0m\u001b[0m\n\u001b[0;32m    110\u001b[0m                 \u001b[0mreason\u001b[0m \u001b[1;33m=\u001b[0m \u001b[1;34m\"\"\u001b[0m\u001b[1;33m\u001b[0m\u001b[1;33m\u001b[0m\u001b[0m\n\u001b[1;32m--> 111\u001b[1;33m         \u001b[1;32mraise\u001b[0m \u001b[0merrors\u001b[0m\u001b[1;33m[\u001b[0m\u001b[0mresp\u001b[0m\u001b[1;33m.\u001b[0m\u001b[0mstatus_code\u001b[0m\u001b[1;33m]\u001b[0m\u001b[1;33m(\u001b[0m\u001b[0mreason\u001b[0m\u001b[1;33m)\u001b[0m\u001b[1;33m\u001b[0m\u001b[1;33m\u001b[0m\u001b[0m\n\u001b[0m\u001b[0;32m    112\u001b[0m     \u001b[1;32mexcept\u001b[0m \u001b[0mKeyError\u001b[0m\u001b[1;33m:\u001b[0m\u001b[1;33m\u001b[0m\u001b[1;33m\u001b[0m\u001b[0m\n\u001b[0;32m    113\u001b[0m         \u001b[0mresp\u001b[0m\u001b[1;33m.\u001b[0m\u001b[0mraise_for_status\u001b[0m\u001b[1;33m(\u001b[0m\u001b[1;33m)\u001b[0m\u001b[1;33m\u001b[0m\u001b[1;33m\u001b[0m\u001b[0m\n",
      "\u001b[1;31mScopus401Error\u001b[0m: Invalid API Key"
     ]
    }
   ],
   "source": [
    "for author in author_records[:10]:\n",
    "    name = author[\"new_given\"]\n",
    "    surname = author[\"new_family\"]\n",
    "    sa_list = sbj_area_query_creator(author[\"SA_list\"])\n",
    "\n",
    "    s = AuthorSearch(f'AUTHLAST({surname}) AND AUTHFIRST({name}) AND ({sa_list})')\n",
    "    author[\"affil\"] = [s.authors[i]._asdict()[\"country\"] for i in range(s.get_results_size())]\n"
   ]
  },
  {
   "cell_type": "markdown",
   "metadata": {},
   "source": [
    "__FAIL__ - We can NOT get any info w/o API keys."
   ]
  },
  {
   "cell_type": "markdown",
   "metadata": {},
   "source": [
    "#### 4.2 - w/ already used(?) API key"
   ]
  },
  {
   "cell_type": "code",
   "execution_count": 5,
   "metadata": {},
   "outputs": [
    {
     "ename": "Scopus429Error",
     "evalue": "",
     "output_type": "error",
     "traceback": [
      "\u001b[1;31m---------------------------------------------------------------------------\u001b[0m",
      "\u001b[1;31mScopus429Error\u001b[0m                            Traceback (most recent call last)",
      "\u001b[1;32m<ipython-input-5-10e3173104cd>\u001b[0m in \u001b[0;36m<module>\u001b[1;34m\u001b[0m\n\u001b[0;32m      4\u001b[0m     \u001b[0msa_list\u001b[0m \u001b[1;33m=\u001b[0m \u001b[0msbj_area_query_creator\u001b[0m\u001b[1;33m(\u001b[0m\u001b[0mauthor\u001b[0m\u001b[1;33m[\u001b[0m\u001b[1;34m\"SA_list\"\u001b[0m\u001b[1;33m]\u001b[0m\u001b[1;33m)\u001b[0m\u001b[1;33m\u001b[0m\u001b[1;33m\u001b[0m\u001b[0m\n\u001b[0;32m      5\u001b[0m \u001b[1;33m\u001b[0m\u001b[0m\n\u001b[1;32m----> 6\u001b[1;33m     \u001b[0ms\u001b[0m \u001b[1;33m=\u001b[0m \u001b[0mAuthorSearch\u001b[0m\u001b[1;33m(\u001b[0m\u001b[1;34mf'AUTHLAST({surname}) AND AUTHFIRST({name}) AND ({sa_list})'\u001b[0m\u001b[1;33m)\u001b[0m\u001b[1;33m\u001b[0m\u001b[1;33m\u001b[0m\u001b[0m\n\u001b[0m\u001b[0;32m      7\u001b[0m     \u001b[0mauthor\u001b[0m\u001b[1;33m[\u001b[0m\u001b[1;34m\"affil\"\u001b[0m\u001b[1;33m]\u001b[0m \u001b[1;33m=\u001b[0m \u001b[1;33m[\u001b[0m\u001b[0ms\u001b[0m\u001b[1;33m.\u001b[0m\u001b[0mauthors\u001b[0m\u001b[1;33m[\u001b[0m\u001b[0mi\u001b[0m\u001b[1;33m]\u001b[0m\u001b[1;33m.\u001b[0m\u001b[0m_asdict\u001b[0m\u001b[1;33m(\u001b[0m\u001b[1;33m)\u001b[0m\u001b[1;33m[\u001b[0m\u001b[1;34m\"country\"\u001b[0m\u001b[1;33m]\u001b[0m \u001b[1;32mfor\u001b[0m \u001b[0mi\u001b[0m \u001b[1;32min\u001b[0m \u001b[0mrange\u001b[0m\u001b[1;33m(\u001b[0m\u001b[0ms\u001b[0m\u001b[1;33m.\u001b[0m\u001b[0mget_results_size\u001b[0m\u001b[1;33m(\u001b[0m\u001b[1;33m)\u001b[0m\u001b[1;33m)\u001b[0m\u001b[1;33m]\u001b[0m\u001b[1;33m\u001b[0m\u001b[1;33m\u001b[0m\u001b[0m\n",
      "\u001b[1;32mc:\\Users\\oguzk\\anaconda3\\lib\\site-packages\\pybliometrics\\scopus\\author_search.py\u001b[0m in \u001b[0;36m__init__\u001b[1;34m(self, query, refresh, verbose, download, integrity_fields, integrity_action, count, **kwds)\u001b[0m\n\u001b[0;32m    123\u001b[0m         \u001b[0mself\u001b[0m\u001b[1;33m.\u001b[0m\u001b[0m_refresh\u001b[0m \u001b[1;33m=\u001b[0m \u001b[0mrefresh\u001b[0m\u001b[1;33m\u001b[0m\u001b[1;33m\u001b[0m\u001b[0m\n\u001b[0;32m    124\u001b[0m         \u001b[0mself\u001b[0m\u001b[1;33m.\u001b[0m\u001b[0m_view\u001b[0m \u001b[1;33m=\u001b[0m \u001b[1;34m\"STANDARD\"\u001b[0m\u001b[1;33m\u001b[0m\u001b[1;33m\u001b[0m\u001b[0m\n\u001b[1;32m--> 125\u001b[1;33m         Search.__init__(self, query=query, api='AuthorSearch', count=count,\n\u001b[0m\u001b[0;32m    126\u001b[0m                         download=download, verbose=verbose, **kwds)\n\u001b[0;32m    127\u001b[0m \u001b[1;33m\u001b[0m\u001b[0m\n",
      "\u001b[1;32mc:\\Users\\oguzk\\anaconda3\\lib\\site-packages\\pybliometrics\\scopus\\superclasses\\search.py\u001b[0m in \u001b[0;36m__init__\u001b[1;34m(self, query, api, count, cursor, download, verbose, **kwds)\u001b[0m\n\u001b[0;32m     60\u001b[0m \u001b[1;33m\u001b[0m\u001b[0m\n\u001b[0;32m     61\u001b[0m         \u001b[1;31m# Init\u001b[0m\u001b[1;33m\u001b[0m\u001b[1;33m\u001b[0m\u001b[1;33m\u001b[0m\u001b[0m\n\u001b[1;32m---> 62\u001b[1;33m         Base.__init__(self, params=params, url=URLS[api], download=download,\n\u001b[0m\u001b[0;32m     63\u001b[0m                       api=api, verbose=verbose)\n\u001b[0;32m     64\u001b[0m \u001b[1;33m\u001b[0m\u001b[0m\n",
      "\u001b[1;32mc:\\Users\\oguzk\\anaconda3\\lib\\site-packages\\pybliometrics\\scopus\\superclasses\\base.py\u001b[0m in \u001b[0;36m__init__\u001b[1;34m(self, params, url, api, download, verbose, *args, **kwds)\u001b[0m\n\u001b[0;32m     57\u001b[0m                 \u001b[0mself\u001b[0m\u001b[1;33m.\u001b[0m\u001b[0m_json\u001b[0m \u001b[1;33m=\u001b[0m \u001b[0mloads\u001b[0m\u001b[1;33m(\u001b[0m\u001b[0mfname\u001b[0m\u001b[1;33m.\u001b[0m\u001b[0mread_text\u001b[0m\u001b[1;33m(\u001b[0m\u001b[1;33m)\u001b[0m\u001b[1;33m)\u001b[0m\u001b[1;33m\u001b[0m\u001b[1;33m\u001b[0m\u001b[0m\n\u001b[0;32m     58\u001b[0m         \u001b[1;32melse\u001b[0m\u001b[1;33m:\u001b[0m\u001b[1;33m\u001b[0m\u001b[1;33m\u001b[0m\u001b[0m\n\u001b[1;32m---> 59\u001b[1;33m             \u001b[0mresp\u001b[0m \u001b[1;33m=\u001b[0m \u001b[0mget_content\u001b[0m\u001b[1;33m(\u001b[0m\u001b[0murl\u001b[0m\u001b[1;33m,\u001b[0m \u001b[0mapi\u001b[0m\u001b[1;33m,\u001b[0m \u001b[0mparams\u001b[0m\u001b[1;33m,\u001b[0m \u001b[1;33m*\u001b[0m\u001b[0margs\u001b[0m\u001b[1;33m,\u001b[0m \u001b[1;33m**\u001b[0m\u001b[0mkwds\u001b[0m\u001b[1;33m)\u001b[0m\u001b[1;33m\u001b[0m\u001b[1;33m\u001b[0m\u001b[0m\n\u001b[0m\u001b[0;32m     60\u001b[0m             \u001b[0mheader\u001b[0m \u001b[1;33m=\u001b[0m \u001b[0mresp\u001b[0m\u001b[1;33m.\u001b[0m\u001b[0mheaders\u001b[0m\u001b[1;33m\u001b[0m\u001b[1;33m\u001b[0m\u001b[0m\n\u001b[0;32m     61\u001b[0m             \u001b[1;32mif\u001b[0m \u001b[0msearch_request\u001b[0m\u001b[1;33m:\u001b[0m\u001b[1;33m\u001b[0m\u001b[1;33m\u001b[0m\u001b[0m\n",
      "\u001b[1;32mc:\\Users\\oguzk\\anaconda3\\lib\\site-packages\\pybliometrics\\scopus\\utils\\get_content.py\u001b[0m in \u001b[0;36mget_content\u001b[1;34m(url, api, params, **kwds)\u001b[0m\n\u001b[0;32m    109\u001b[0m             \u001b[1;32mexcept\u001b[0m\u001b[1;33m:\u001b[0m\u001b[1;33m\u001b[0m\u001b[1;33m\u001b[0m\u001b[0m\n\u001b[0;32m    110\u001b[0m                 \u001b[0mreason\u001b[0m \u001b[1;33m=\u001b[0m \u001b[1;34m\"\"\u001b[0m\u001b[1;33m\u001b[0m\u001b[1;33m\u001b[0m\u001b[0m\n\u001b[1;32m--> 111\u001b[1;33m         \u001b[1;32mraise\u001b[0m \u001b[0merrors\u001b[0m\u001b[1;33m[\u001b[0m\u001b[0mresp\u001b[0m\u001b[1;33m.\u001b[0m\u001b[0mstatus_code\u001b[0m\u001b[1;33m]\u001b[0m\u001b[1;33m(\u001b[0m\u001b[0mreason\u001b[0m\u001b[1;33m)\u001b[0m\u001b[1;33m\u001b[0m\u001b[1;33m\u001b[0m\u001b[0m\n\u001b[0m\u001b[0;32m    112\u001b[0m     \u001b[1;32mexcept\u001b[0m \u001b[0mKeyError\u001b[0m\u001b[1;33m:\u001b[0m\u001b[1;33m\u001b[0m\u001b[1;33m\u001b[0m\u001b[0m\n\u001b[0;32m    113\u001b[0m         \u001b[0mresp\u001b[0m\u001b[1;33m.\u001b[0m\u001b[0mraise_for_status\u001b[0m\u001b[1;33m(\u001b[0m\u001b[1;33m)\u001b[0m\u001b[1;33m\u001b[0m\u001b[1;33m\u001b[0m\u001b[0m\n",
      "\u001b[1;31mScopus429Error\u001b[0m: "
     ]
    }
   ],
   "source": [
    "for author in author_records[:10]:\n",
    "    name = author[\"new_given\"]\n",
    "    surname = author[\"new_family\"]\n",
    "    sa_list = sbj_area_query_creator(author[\"SA_list\"])\n",
    "\n",
    "    s = AuthorSearch(f'AUTHLAST({surname}) AND AUTHFIRST({name}) AND ({sa_list})')\n",
    "    author[\"affil\"] = [s.authors[i]._asdict()[\"country\"] for i in range(s.get_results_size())]\n"
   ]
  },
  {
   "cell_type": "markdown",
   "metadata": {},
   "source": [
    "__FAIL__ - Already used API key gives the 429 error as expected & can NOT be used until the following week!"
   ]
  },
  {
   "cell_type": "markdown",
   "metadata": {},
   "source": [
    "#### 4.3 - w/o VPN connection"
   ]
  },
  {
   "cell_type": "code",
   "execution_count": 6,
   "metadata": {},
   "outputs": [
    {
     "ename": "Scopus401Error",
     "evalue": "The requestor is not authorized to access the requested view or fields of the resource",
     "output_type": "error",
     "traceback": [
      "\u001b[1;31m---------------------------------------------------------------------------\u001b[0m",
      "\u001b[1;31mScopus401Error\u001b[0m                            Traceback (most recent call last)",
      "\u001b[1;32m<ipython-input-6-2e4705569b46>\u001b[0m in \u001b[0;36m<module>\u001b[1;34m\u001b[0m\n\u001b[0;32m      5\u001b[0m \u001b[1;33m\u001b[0m\u001b[0m\n\u001b[0;32m      6\u001b[0m \u001b[1;33m\u001b[0m\u001b[0m\n\u001b[1;32m----> 7\u001b[1;33m     \u001b[0ms\u001b[0m \u001b[1;33m=\u001b[0m \u001b[0mAuthorSearch\u001b[0m\u001b[1;33m(\u001b[0m\u001b[1;34mf'AUTHLAST({surname}) AND AUTHFIRST({name}) AND ({sa_list})'\u001b[0m\u001b[1;33m,\u001b[0m \u001b[0mdownload\u001b[0m\u001b[1;33m=\u001b[0m\u001b[1;32mFalse\u001b[0m\u001b[1;33m)\u001b[0m\u001b[1;33m\u001b[0m\u001b[1;33m\u001b[0m\u001b[0m\n\u001b[0m\u001b[0;32m      8\u001b[0m     \u001b[0mn\u001b[0m \u001b[1;33m=\u001b[0m \u001b[0ms\u001b[0m\u001b[1;33m.\u001b[0m\u001b[0mget_results_size\u001b[0m\u001b[1;33m(\u001b[0m\u001b[1;33m)\u001b[0m\u001b[1;33m\u001b[0m\u001b[1;33m\u001b[0m\u001b[0m\n\u001b[0;32m      9\u001b[0m \u001b[1;33m\u001b[0m\u001b[0m\n",
      "\u001b[1;32mc:\\Users\\oguzk\\anaconda3\\lib\\site-packages\\pybliometrics\\scopus\\author_search.py\u001b[0m in \u001b[0;36m__init__\u001b[1;34m(self, query, refresh, verbose, download, integrity_fields, integrity_action, count, **kwds)\u001b[0m\n\u001b[0;32m    123\u001b[0m         \u001b[0mself\u001b[0m\u001b[1;33m.\u001b[0m\u001b[0m_refresh\u001b[0m \u001b[1;33m=\u001b[0m \u001b[0mrefresh\u001b[0m\u001b[1;33m\u001b[0m\u001b[1;33m\u001b[0m\u001b[0m\n\u001b[0;32m    124\u001b[0m         \u001b[0mself\u001b[0m\u001b[1;33m.\u001b[0m\u001b[0m_view\u001b[0m \u001b[1;33m=\u001b[0m \u001b[1;34m\"STANDARD\"\u001b[0m\u001b[1;33m\u001b[0m\u001b[1;33m\u001b[0m\u001b[0m\n\u001b[1;32m--> 125\u001b[1;33m         Search.__init__(self, query=query, api='AuthorSearch', count=count,\n\u001b[0m\u001b[0;32m    126\u001b[0m                         download=download, verbose=verbose, **kwds)\n\u001b[0;32m    127\u001b[0m \u001b[1;33m\u001b[0m\u001b[0m\n",
      "\u001b[1;32mc:\\Users\\oguzk\\anaconda3\\lib\\site-packages\\pybliometrics\\scopus\\superclasses\\search.py\u001b[0m in \u001b[0;36m__init__\u001b[1;34m(self, query, api, count, cursor, download, verbose, **kwds)\u001b[0m\n\u001b[0;32m     60\u001b[0m \u001b[1;33m\u001b[0m\u001b[0m\n\u001b[0;32m     61\u001b[0m         \u001b[1;31m# Init\u001b[0m\u001b[1;33m\u001b[0m\u001b[1;33m\u001b[0m\u001b[1;33m\u001b[0m\u001b[0m\n\u001b[1;32m---> 62\u001b[1;33m         Base.__init__(self, params=params, url=URLS[api], download=download,\n\u001b[0m\u001b[0;32m     63\u001b[0m                       api=api, verbose=verbose)\n\u001b[0;32m     64\u001b[0m \u001b[1;33m\u001b[0m\u001b[0m\n",
      "\u001b[1;32mc:\\Users\\oguzk\\anaconda3\\lib\\site-packages\\pybliometrics\\scopus\\superclasses\\base.py\u001b[0m in \u001b[0;36m__init__\u001b[1;34m(self, params, url, api, download, verbose, *args, **kwds)\u001b[0m\n\u001b[0;32m     57\u001b[0m                 \u001b[0mself\u001b[0m\u001b[1;33m.\u001b[0m\u001b[0m_json\u001b[0m \u001b[1;33m=\u001b[0m \u001b[0mloads\u001b[0m\u001b[1;33m(\u001b[0m\u001b[0mfname\u001b[0m\u001b[1;33m.\u001b[0m\u001b[0mread_text\u001b[0m\u001b[1;33m(\u001b[0m\u001b[1;33m)\u001b[0m\u001b[1;33m)\u001b[0m\u001b[1;33m\u001b[0m\u001b[1;33m\u001b[0m\u001b[0m\n\u001b[0;32m     58\u001b[0m         \u001b[1;32melse\u001b[0m\u001b[1;33m:\u001b[0m\u001b[1;33m\u001b[0m\u001b[1;33m\u001b[0m\u001b[0m\n\u001b[1;32m---> 59\u001b[1;33m             \u001b[0mresp\u001b[0m \u001b[1;33m=\u001b[0m \u001b[0mget_content\u001b[0m\u001b[1;33m(\u001b[0m\u001b[0murl\u001b[0m\u001b[1;33m,\u001b[0m \u001b[0mapi\u001b[0m\u001b[1;33m,\u001b[0m \u001b[0mparams\u001b[0m\u001b[1;33m,\u001b[0m \u001b[1;33m*\u001b[0m\u001b[0margs\u001b[0m\u001b[1;33m,\u001b[0m \u001b[1;33m**\u001b[0m\u001b[0mkwds\u001b[0m\u001b[1;33m)\u001b[0m\u001b[1;33m\u001b[0m\u001b[1;33m\u001b[0m\u001b[0m\n\u001b[0m\u001b[0;32m     60\u001b[0m             \u001b[0mheader\u001b[0m \u001b[1;33m=\u001b[0m \u001b[0mresp\u001b[0m\u001b[1;33m.\u001b[0m\u001b[0mheaders\u001b[0m\u001b[1;33m\u001b[0m\u001b[1;33m\u001b[0m\u001b[0m\n\u001b[0;32m     61\u001b[0m             \u001b[1;32mif\u001b[0m \u001b[0msearch_request\u001b[0m\u001b[1;33m:\u001b[0m\u001b[1;33m\u001b[0m\u001b[1;33m\u001b[0m\u001b[0m\n",
      "\u001b[1;32mc:\\Users\\oguzk\\anaconda3\\lib\\site-packages\\pybliometrics\\scopus\\utils\\get_content.py\u001b[0m in \u001b[0;36mget_content\u001b[1;34m(url, api, params, **kwds)\u001b[0m\n\u001b[0;32m    109\u001b[0m             \u001b[1;32mexcept\u001b[0m\u001b[1;33m:\u001b[0m\u001b[1;33m\u001b[0m\u001b[1;33m\u001b[0m\u001b[0m\n\u001b[0;32m    110\u001b[0m                 \u001b[0mreason\u001b[0m \u001b[1;33m=\u001b[0m \u001b[1;34m\"\"\u001b[0m\u001b[1;33m\u001b[0m\u001b[1;33m\u001b[0m\u001b[0m\n\u001b[1;32m--> 111\u001b[1;33m         \u001b[1;32mraise\u001b[0m \u001b[0merrors\u001b[0m\u001b[1;33m[\u001b[0m\u001b[0mresp\u001b[0m\u001b[1;33m.\u001b[0m\u001b[0mstatus_code\u001b[0m\u001b[1;33m]\u001b[0m\u001b[1;33m(\u001b[0m\u001b[0mreason\u001b[0m\u001b[1;33m)\u001b[0m\u001b[1;33m\u001b[0m\u001b[1;33m\u001b[0m\u001b[0m\n\u001b[0m\u001b[0;32m    112\u001b[0m     \u001b[1;32mexcept\u001b[0m \u001b[0mKeyError\u001b[0m\u001b[1;33m:\u001b[0m\u001b[1;33m\u001b[0m\u001b[1;33m\u001b[0m\u001b[0m\n\u001b[0;32m    113\u001b[0m         \u001b[0mresp\u001b[0m\u001b[1;33m.\u001b[0m\u001b[0mraise_for_status\u001b[0m\u001b[1;33m(\u001b[0m\u001b[1;33m)\u001b[0m\u001b[1;33m\u001b[0m\u001b[1;33m\u001b[0m\u001b[0m\n",
      "\u001b[1;31mScopus401Error\u001b[0m: The requestor is not authorized to access the requested view or fields of the resource"
     ]
    }
   ],
   "source": [
    "for author in author_records:\n",
    "    name = author[\"new_given\"]\n",
    "    surname = author[\"new_family\"]\n",
    "    sa_list = sbj_area_query_creator(author[\"SA_list\"])\n",
    "    \n",
    "\n",
    "    s = AuthorSearch(f'AUTHLAST({surname}) AND AUTHFIRST({name}) AND ({sa_list})', download=False)\n",
    "    n = s.get_results_size()\n",
    "\n",
    "    if n > 5000:\n",
    "        author[\"affil\"] = \"Too many results!\"\n",
    "    else:\n",
    "        author[\"affil\"] = [s.authors[i]._asdict()[\"country\"] for i in range(s.get_results_size())]"
   ]
  },
  {
   "cell_type": "markdown",
   "metadata": {},
   "source": [
    "__FAIL__ - does NOT work w/o VPN connection!"
   ]
  },
  {
   "cell_type": "markdown",
   "metadata": {},
   "source": [
    "#### 4.4 - w/ download = False \n",
    "\n",
    "Is it reasonable to use download = False to check result_size & use the same request to also get the info needed"
   ]
  },
  {
   "cell_type": "code",
   "execution_count": 5,
   "metadata": {},
   "outputs": [
    {
     "ename": "TypeError",
     "evalue": "'NoneType' object is not subscriptable",
     "output_type": "error",
     "traceback": [
      "\u001b[1;31m---------------------------------------------------------------------------\u001b[0m",
      "\u001b[1;31mTypeError\u001b[0m                                 Traceback (most recent call last)",
      "\u001b[1;32m<ipython-input-5-2e4705569b46>\u001b[0m in \u001b[0;36m<module>\u001b[1;34m\u001b[0m\n\u001b[0;32m     11\u001b[0m         \u001b[0mauthor\u001b[0m\u001b[1;33m[\u001b[0m\u001b[1;34m\"affil\"\u001b[0m\u001b[1;33m]\u001b[0m \u001b[1;33m=\u001b[0m \u001b[1;34m\"Too many results!\"\u001b[0m\u001b[1;33m\u001b[0m\u001b[1;33m\u001b[0m\u001b[0m\n\u001b[0;32m     12\u001b[0m     \u001b[1;32melse\u001b[0m\u001b[1;33m:\u001b[0m\u001b[1;33m\u001b[0m\u001b[1;33m\u001b[0m\u001b[0m\n\u001b[1;32m---> 13\u001b[1;33m         \u001b[0mauthor\u001b[0m\u001b[1;33m[\u001b[0m\u001b[1;34m\"affil\"\u001b[0m\u001b[1;33m]\u001b[0m \u001b[1;33m=\u001b[0m \u001b[1;33m[\u001b[0m\u001b[0ms\u001b[0m\u001b[1;33m.\u001b[0m\u001b[0mauthors\u001b[0m\u001b[1;33m[\u001b[0m\u001b[0mi\u001b[0m\u001b[1;33m]\u001b[0m\u001b[1;33m.\u001b[0m\u001b[0m_asdict\u001b[0m\u001b[1;33m(\u001b[0m\u001b[1;33m)\u001b[0m\u001b[1;33m[\u001b[0m\u001b[1;34m\"country\"\u001b[0m\u001b[1;33m]\u001b[0m \u001b[1;32mfor\u001b[0m \u001b[0mi\u001b[0m \u001b[1;32min\u001b[0m \u001b[0mrange\u001b[0m\u001b[1;33m(\u001b[0m\u001b[0ms\u001b[0m\u001b[1;33m.\u001b[0m\u001b[0mget_results_size\u001b[0m\u001b[1;33m(\u001b[0m\u001b[1;33m)\u001b[0m\u001b[1;33m)\u001b[0m\u001b[1;33m]\u001b[0m\u001b[1;33m\u001b[0m\u001b[1;33m\u001b[0m\u001b[0m\n\u001b[0m",
      "\u001b[1;32m<ipython-input-5-2e4705569b46>\u001b[0m in \u001b[0;36m<listcomp>\u001b[1;34m(.0)\u001b[0m\n\u001b[0;32m     11\u001b[0m         \u001b[0mauthor\u001b[0m\u001b[1;33m[\u001b[0m\u001b[1;34m\"affil\"\u001b[0m\u001b[1;33m]\u001b[0m \u001b[1;33m=\u001b[0m \u001b[1;34m\"Too many results!\"\u001b[0m\u001b[1;33m\u001b[0m\u001b[1;33m\u001b[0m\u001b[0m\n\u001b[0;32m     12\u001b[0m     \u001b[1;32melse\u001b[0m\u001b[1;33m:\u001b[0m\u001b[1;33m\u001b[0m\u001b[1;33m\u001b[0m\u001b[0m\n\u001b[1;32m---> 13\u001b[1;33m         \u001b[0mauthor\u001b[0m\u001b[1;33m[\u001b[0m\u001b[1;34m\"affil\"\u001b[0m\u001b[1;33m]\u001b[0m \u001b[1;33m=\u001b[0m \u001b[1;33m[\u001b[0m\u001b[0ms\u001b[0m\u001b[1;33m.\u001b[0m\u001b[0mauthors\u001b[0m\u001b[1;33m[\u001b[0m\u001b[0mi\u001b[0m\u001b[1;33m]\u001b[0m\u001b[1;33m.\u001b[0m\u001b[0m_asdict\u001b[0m\u001b[1;33m(\u001b[0m\u001b[1;33m)\u001b[0m\u001b[1;33m[\u001b[0m\u001b[1;34m\"country\"\u001b[0m\u001b[1;33m]\u001b[0m \u001b[1;32mfor\u001b[0m \u001b[0mi\u001b[0m \u001b[1;32min\u001b[0m \u001b[0mrange\u001b[0m\u001b[1;33m(\u001b[0m\u001b[0ms\u001b[0m\u001b[1;33m.\u001b[0m\u001b[0mget_results_size\u001b[0m\u001b[1;33m(\u001b[0m\u001b[1;33m)\u001b[0m\u001b[1;33m)\u001b[0m\u001b[1;33m]\u001b[0m\u001b[1;33m\u001b[0m\u001b[1;33m\u001b[0m\u001b[0m\n\u001b[0m",
      "\u001b[1;31mTypeError\u001b[0m: 'NoneType' object is not subscriptable"
     ]
    }
   ],
   "source": [
    "for author in author_records:\n",
    "    name = author[\"new_given\"]\n",
    "    surname = author[\"new_family\"]\n",
    "    sa_list = sbj_area_query_creator(author[\"SA_list\"])\n",
    "    \n",
    "\n",
    "    s = AuthorSearch(f'AUTHLAST({surname}) AND AUTHFIRST({name}) AND ({sa_list})', download=False)\n",
    "    n = s.get_results_size()\n",
    "\n",
    "    if n > 5000:\n",
    "        author[\"affil\"] = \"Too many results!\"\n",
    "    else:\n",
    "        author[\"affil\"] = [s.authors[i]._asdict()[\"country\"] for i in range(s.get_results_size())]"
   ]
  },
  {
   "cell_type": "code",
   "execution_count": 6,
   "metadata": {},
   "outputs": [
    {
     "data": {
      "text/plain": [
       "'5000'"
      ]
     },
     "execution_count": 6,
     "metadata": {},
     "output_type": "execute_result"
    }
   ],
   "source": [
    "s.get_key_remaining_quota()"
   ]
  },
  {
   "cell_type": "markdown",
   "metadata": {},
   "source": [
    "__FAIL__ - If download = False, can not use the query result! \n",
    "\n",
    "__HOWEVER__, the remaining quota is still 5000, so probab. download = False does not use quota!!"
   ]
  },
  {
   "cell_type": "markdown",
   "metadata": {},
   "source": [
    "#### 4.5 - Combining all:"
   ]
  },
  {
   "cell_type": "code",
   "execution_count": 7,
   "metadata": {},
   "outputs": [],
   "source": [
    "for author in author_records:\n",
    "    name = author[\"new_given\"]\n",
    "    surname = author[\"new_family\"]\n",
    "    sa_list = sbj_area_query_creator(author[\"SA_list\"])\n",
    "    \n",
    "\n",
    "    n = AuthorSearch(f'AUTHLAST({surname}) AND AUTHFIRST({name}) AND ({sa_list})', download=False).get_results_size()\n",
    "\n",
    "    if n > 5000:\n",
    "        author[\"affil\"] = \"Too many results!\"\n",
    "    else:\n",
    "        s = AuthorSearch(f'AUTHLAST({surname}) AND AUTHFIRST({name}) AND ({sa_list})')\n",
    "        author[\"affil\"] = [s.authors[i]._asdict()[\"country\"] for i in range(n)]"
   ]
  },
  {
   "cell_type": "code",
   "execution_count": 8,
   "metadata": {},
   "outputs": [
    {
     "data": {
      "text/plain": [
       "'4970'"
      ]
     },
     "execution_count": 8,
     "metadata": {},
     "output_type": "execute_result"
    }
   ],
   "source": [
    "s.get_key_remaining_quota()"
   ]
  },
  {
   "cell_type": "code",
   "execution_count": 10,
   "metadata": {},
   "outputs": [
    {
     "data": {
      "text/html": [
       "<div>\n",
       "<style scoped>\n",
       "    .dataframe tbody tr th:only-of-type {\n",
       "        vertical-align: middle;\n",
       "    }\n",
       "\n",
       "    .dataframe tbody tr th {\n",
       "        vertical-align: top;\n",
       "    }\n",
       "\n",
       "    .dataframe thead th {\n",
       "        text-align: right;\n",
       "    }\n",
       "</style>\n",
       "<table border=\"1\" class=\"dataframe\">\n",
       "  <thead>\n",
       "    <tr style=\"text-align: right;\">\n",
       "      <th></th>\n",
       "      <th>new_given</th>\n",
       "      <th>new_family</th>\n",
       "      <th>SA_list</th>\n",
       "      <th>affil</th>\n",
       "    </tr>\n",
       "  </thead>\n",
       "  <tbody>\n",
       "    <tr>\n",
       "      <th>0</th>\n",
       "      <td>yichuan</td>\n",
       "      <td>xiao</td>\n",
       "      <td>[Biochemistry, Genetics and Molecular Biology]</td>\n",
       "      <td>[China, China, China, China]</td>\n",
       "    </tr>\n",
       "    <tr>\n",
       "      <th>1</th>\n",
       "      <td>ahmed ibrahim fadhil</td>\n",
       "      <td>al-adly</td>\n",
       "      <td>[Energy, Chemistry, Chemical Engineering]</td>\n",
       "      <td>[Iraq]</td>\n",
       "    </tr>\n",
       "    <tr>\n",
       "      <th>2</th>\n",
       "      <td>alex</td>\n",
       "      <td>nicol-harper</td>\n",
       "      <td>[Agricultural and Biological Sciences]</td>\n",
       "      <td>[United Kingdom]</td>\n",
       "    </tr>\n",
       "    <tr>\n",
       "      <th>3</th>\n",
       "      <td>konrad</td>\n",
       "      <td>gajewski</td>\n",
       "      <td>[Social Sciences, Arts and Humanities, Agricul...</td>\n",
       "      <td>[Canada]</td>\n",
       "    </tr>\n",
       "    <tr>\n",
       "      <th>4</th>\n",
       "      <td>ajmal</td>\n",
       "      <td>ahmad</td>\n",
       "      <td>[Pharmacology, Toxicology and Pharmaceutics]</td>\n",
       "      <td>[Saudi Arabia, Saudi Arabia]</td>\n",
       "    </tr>\n",
       "    <tr>\n",
       "      <th>5</th>\n",
       "      <td>megan</td>\n",
       "      <td>stolen</td>\n",
       "      <td>[Chemistry, Environmental Science, Medicine]</td>\n",
       "      <td>[United States]</td>\n",
       "    </tr>\n",
       "    <tr>\n",
       "      <th>6</th>\n",
       "      <td>dragana</td>\n",
       "      <td>životić</td>\n",
       "      <td>[Earth and Planetary Sciences]</td>\n",
       "      <td>[Serbia]</td>\n",
       "    </tr>\n",
       "    <tr>\n",
       "      <th>7</th>\n",
       "      <td>yotam</td>\n",
       "      <td>levy</td>\n",
       "      <td>[Neuroscience, Medicine]</td>\n",
       "      <td>[United Kingdom]</td>\n",
       "    </tr>\n",
       "    <tr>\n",
       "      <th>8</th>\n",
       "      <td>michael a. e.</td>\n",
       "      <td>andersen</td>\n",
       "      <td>[Engineering, Energy]</td>\n",
       "      <td>[Denmark]</td>\n",
       "    </tr>\n",
       "    <tr>\n",
       "      <th>9</th>\n",
       "      <td>christopher j.</td>\n",
       "      <td>grim</td>\n",
       "      <td>[Immunology and Microbiology, Medicine]</td>\n",
       "      <td>[United States]</td>\n",
       "    </tr>\n",
       "  </tbody>\n",
       "</table>\n",
       "</div>"
      ],
      "text/plain": [
       "              new_given    new_family  \\\n",
       "0               yichuan          xiao   \n",
       "1  ahmed ibrahim fadhil       al-adly   \n",
       "2                  alex  nicol-harper   \n",
       "3                konrad      gajewski   \n",
       "4                 ajmal         ahmad   \n",
       "5                 megan        stolen   \n",
       "6               dragana       životić   \n",
       "7                 yotam          levy   \n",
       "8         michael a. e.      andersen   \n",
       "9        christopher j.          grim   \n",
       "\n",
       "                                             SA_list  \\\n",
       "0     [Biochemistry, Genetics and Molecular Biology]   \n",
       "1          [Energy, Chemistry, Chemical Engineering]   \n",
       "2             [Agricultural and Biological Sciences]   \n",
       "3  [Social Sciences, Arts and Humanities, Agricul...   \n",
       "4       [Pharmacology, Toxicology and Pharmaceutics]   \n",
       "5       [Chemistry, Environmental Science, Medicine]   \n",
       "6                     [Earth and Planetary Sciences]   \n",
       "7                           [Neuroscience, Medicine]   \n",
       "8                              [Engineering, Energy]   \n",
       "9            [Immunology and Microbiology, Medicine]   \n",
       "\n",
       "                          affil  \n",
       "0  [China, China, China, China]  \n",
       "1                        [Iraq]  \n",
       "2              [United Kingdom]  \n",
       "3                      [Canada]  \n",
       "4  [Saudi Arabia, Saudi Arabia]  \n",
       "5               [United States]  \n",
       "6                      [Serbia]  \n",
       "7              [United Kingdom]  \n",
       "8                     [Denmark]  \n",
       "9               [United States]  "
      ]
     },
     "execution_count": 10,
     "metadata": {},
     "output_type": "execute_result"
    }
   ],
   "source": [
    "pd.DataFrame(author_records)"
   ]
  },
  {
   "cell_type": "markdown",
   "metadata": {},
   "source": [
    "It is WORKING!!!! However, the quota is now 4970 intead of the expected number 4990. Need to check this issue!"
   ]
  },
  {
   "cell_type": "markdown",
   "metadata": {},
   "source": []
  },
  {
   "cell_type": "code",
   "execution_count": null,
   "metadata": {},
   "outputs": [],
   "source": []
  }
 ],
 "metadata": {
  "interpreter": {
   "hash": "6d6808e9ba8815475743150367720cad3673ac2b3f4957dc753295ba7ac37a1a"
  },
  "kernelspec": {
   "display_name": "Python 3.8.10 ('base')",
   "language": "python",
   "name": "python3"
  },
  "language_info": {
   "codemirror_mode": {
    "name": "ipython",
    "version": 3
   },
   "file_extension": ".py",
   "mimetype": "text/x-python",
   "name": "python",
   "nbconvert_exporter": "python",
   "pygments_lexer": "ipython3",
   "version": "3.8.10"
  },
  "orig_nbformat": 4
 },
 "nbformat": 4,
 "nbformat_minor": 2
}
