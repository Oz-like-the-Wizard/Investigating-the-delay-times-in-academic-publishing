{
 "cells": [
  {
   "cell_type": "code",
   "execution_count": 1,
   "metadata": {},
   "outputs": [],
   "source": [
    "import pandas as pd\n",
    "import numpy as np\n",
    "import pickle\n",
    "\n",
    "# from crossref.restful import Works, Etiquette\n",
    "# from scihub_blastoise import SciHub_HydroPump\n"
   ]
  },
  {
   "cell_type": "markdown",
   "metadata": {},
   "source": [
    "### PART 1: Partial Run SumCetCet Analysis"
   ]
  },
  {
   "cell_type": "markdown",
   "metadata": {},
   "source": [
    "We're back after Barça!\n",
    "\n",
    "- The first order of business is to combine all partial fill SumCetCet run data to a single dataset to analyze.\n"
   ]
  },
  {
   "cell_type": "code",
   "execution_count": 7,
   "metadata": {},
   "outputs": [],
   "source": [
    "# Sum:\n",
    "\n",
    "with open(\"sum_pr_cr_results\", \"rb\") as fp:\n",
    "    sum_pr_cr_results = pickle.load(fp)\n",
    "\n",
    "with open(\"sum_pr_sh_succ\", \"rb\") as fp:\n",
    "    sum_pr_sh_succ = pickle.load(fp)\n",
    "\n",
    "with open(\"sum_pr_sh_fail\", \"rb\") as fp:\n",
    "    sum_pr_sh_fail = pickle.load(fp)"
   ]
  },
  {
   "cell_type": "code",
   "execution_count": 3,
   "metadata": {},
   "outputs": [],
   "source": [
    "# Cet\n",
    "\n",
    "with open(\"cet_pr_cr_results\", \"rb\") as fp:\n",
    "    cet_pr_cr_results = pickle.load(fp)\n",
    "\n",
    "with open(\"cet_pr_sh_succ\", \"rb\") as fp:\n",
    "    cet_pr_sh_succ = pickle.load(fp)\n",
    "\n",
    "with open(\"cet_pr_sh_fail\", \"rb\") as fp:\n",
    "    cet_pr_sh_fail = pickle.load(fp)"
   ]
  },
  {
   "cell_type": "code",
   "execution_count": 4,
   "metadata": {},
   "outputs": [],
   "source": [
    "# Ogi:\n",
    "\n",
    "with open(\"pr_cr_results\", \"rb\") as fp:\n",
    "    ogi_pr_cr_results = pickle.load(fp)\n",
    "\n",
    "with open(\"pr_sh_succ\", \"rb\") as fp:\n",
    "    ogi_pr_sh_succ = pickle.load(fp)\n",
    "\n",
    "with open(\"pr_sh_fail\", \"rb\") as fp:\n",
    "    ogi_pr_sh_fail = pickle.load(fp)"
   ]
  },
  {
   "cell_type": "markdown",
   "metadata": {},
   "source": [
    "The initial analysis shows that around 50% of the metadata retr. from CR (pr_cr_results), was used for SH date extraction phase.\n",
    "\n",
    "However, 40-50% of these articles actually contaion DATE info, therefore although the Req_Count is more than satisfied in the CR phase, SH results still do not satisfy for all journals.\n",
    "\n",
    "Once the analysis is complete, we can use the pr_cr_results, to filter out the UNTESTED artcls, and pass them through the SH process."
   ]
  },
  {
   "cell_type": "code",
   "execution_count": 46,
   "metadata": {},
   "outputs": [],
   "source": [
    "sum_pr_cr_results = pd.DataFrame(sum_pr_cr_results)\n",
    "sum_pr_sh_succ = pd.DataFrame(sum_pr_sh_succ)\n",
    "sum_pr_sh_fail = pd.DataFrame(sum_pr_sh_fail)\n",
    "\n",
    "sum_sh_results =  pd.concat([sum_pr_sh_succ, sum_pr_sh_fail])\n",
    "\n",
    "sum_pr_results = pd.merge(sum_pr_cr_results, sum_sh_results, how=\"left\", on=\"DOI\")\n"
   ]
  },
  {
   "cell_type": "code",
   "execution_count": 47,
   "metadata": {},
   "outputs": [],
   "source": [
    "cet_pr_cr_results = pd.DataFrame(cet_pr_cr_results)\n",
    "cet_pr_sh_succ = pd.DataFrame(cet_pr_sh_succ)\n",
    "cet_pr_sh_fail = pd.DataFrame(cet_pr_sh_fail)\n",
    "\n",
    "cet_sh_results =  pd.concat([cet_pr_sh_succ, cet_pr_sh_fail])\n",
    "\n",
    "cet_pr_results = pd.merge(cet_pr_cr_results, cet_sh_results, how=\"left\", on=\"DOI\")\n"
   ]
  },
  {
   "cell_type": "code",
   "execution_count": 48,
   "metadata": {},
   "outputs": [],
   "source": [
    "ogi_pr_cr_results = pd.DataFrame(ogi_pr_cr_results)\n",
    "ogi_pr_sh_succ = pd.DataFrame(ogi_pr_sh_succ)\n",
    "ogi_pr_sh_fail = pd.DataFrame(ogi_pr_sh_fail)\n",
    "\n",
    "ogi_sh_results =  pd.concat([ogi_pr_sh_succ, ogi_pr_sh_fail])\n",
    "\n",
    "ogi_pr_results = pd.merge(ogi_pr_cr_results, ogi_sh_results, how=\"left\", on=\"DOI\")"
   ]
  },
  {
   "cell_type": "markdown",
   "metadata": {},
   "source": [
    "Concatinating all partial run results to a single dataset: (pr_results_df)"
   ]
  },
  {
   "cell_type": "code",
   "execution_count": 54,
   "metadata": {},
   "outputs": [],
   "source": [
    "pr_results_df = pd.concat([sum_pr_results, cet_pr_results,ogi_pr_results], ignore_index=True, verify_integrity=True)"
   ]
  },
  {
   "cell_type": "code",
   "execution_count": 59,
   "metadata": {},
   "outputs": [
    {
     "data": {
      "text/plain": [
       "<class 'float'>    41840\n",
       "<class 'str'>      35472\n",
       "<class 'list'>     24708\n",
       "Name: Dates, dtype: int64"
      ]
     },
     "execution_count": 59,
     "metadata": {},
     "output_type": "execute_result"
    }
   ],
   "source": [
    "pr_results_df.Dates.map(type).value_counts()"
   ]
  },
  {
   "cell_type": "markdown",
   "metadata": {},
   "source": [
    "Now that all the partial run results are consolidated:\n",
    "\n",
    "TTD:\n",
    "- Need to filter out the succesfull artcls, pass them through pre-processing, add them to q1_date_df\n",
    "\n",
    "- Need to filter out FAILED, UNTESTED dfs\n"
   ]
  },
  {
   "cell_type": "markdown",
   "metadata": {},
   "source": [
    "### PART 2: UPDATING q1_date_df"
   ]
  },
  {
   "cell_type": "code",
   "execution_count": 60,
   "metadata": {},
   "outputs": [
    {
     "name": "stderr",
     "output_type": "stream",
     "text": [
      "<ipython-input-60-6f3939fe8a91>:48: SettingWithCopyWarning: \n",
      "A value is trying to be set on a copy of a slice from a DataFrame.\n",
      "Try using .loc[row_indexer,col_indexer] = value instead\n",
      "\n",
      "See the caveats in the documentation: https://pandas.pydata.org/pandas-docs/stable/user_guide/indexing.html#returning-a-view-versus-a-copy\n",
      "  q1_date_pr.loc[:,\"published\"] = q1_date_pr.apply(earlier_date_part, axis=1)\n"
     ]
    }
   ],
   "source": [
    "# TTD 1:\n",
    "# Taken from 7c:\n",
    "\n",
    "# 1.3 - Filtering to only successful artcls:\n",
    "q1_date_pr = pr_results_df[pr_results_df.Dates.map(type)==list]\n",
    "q1_date_pr.set_index(\"DOI\", drop=True, inplace=True)\n",
    "\n",
    "# 1.4 - Feature Eng. : \n",
    "def earlier_date_part(row):\n",
    "    try:\n",
    "        pp_year = row[\"published-print\"][\"date-parts\"][0][0]\n",
    "    except TypeError:\n",
    "        pp_year = None\n",
    "\n",
    "    try:   \n",
    "        po_year = row[\"published-online\"][\"date-parts\"][0][0]\n",
    "    except TypeError:\n",
    "        po_year = None\n",
    "\n",
    "    if po_year is None:\n",
    "        return row[\"published-print\"]\n",
    "\n",
    "    elif pp_year is None:\n",
    "        return row[\"published-online\"]\n",
    "\n",
    "    else:\n",
    "        if pp_year<po_year:\n",
    "            return row[\"published-print\"]\n",
    "        elif po_year<pp_year:\n",
    "            return row[\"published-online\"]\n",
    "        else:\n",
    "            try:\n",
    "                pp_month = row[\"published-print\"][\"date-parts\"][0][1]\n",
    "            except IndexError:\n",
    "                pp_month = 12\n",
    "            try:\n",
    "                po_month = row[\"published-online\"][\"date-parts\"][0][1]\n",
    "            except IndexError:\n",
    "                po_month = 12\n",
    "            if pp_month<po_month:\n",
    "                return row[\"published-print\"]\n",
    "            elif po_month<pp_month:\n",
    "                return row[\"published-online\"]\n",
    "            else:\n",
    "                return row[\"published-online\"]\n",
    "\n",
    "\n",
    "q1_date_pr.loc[:,\"published\"] = q1_date_pr.apply(earlier_date_part, axis=1)\n",
    "\n",
    "q1_date_pr = q1_date_pr[[\"JRNL_ID\", \"ISSN\", \"issued\", \"container-title\", \"publisher\", \"title\", \"author\", \"subject\", \"references-count\", \"is-referenced-by-count\", \"published\", \"published-print\", \"published-online\", \"direct_url\", \"Dates\", \"Keywords\"]]\n"
   ]
  },
  {
   "cell_type": "markdown",
   "metadata": {},
   "source": [
    "__q1_date_pr__ is the succesful articles from partial run dataset:\n",
    "\n",
    "However, it should be noted that some (also apparent in q1_date_df) only have \"Accepted Date\" and not \"Received Date\"\n",
    "\n",
    "This MUST be dealt with later in this notebook!!!\n"
   ]
  },
  {
   "cell_type": "code",
   "execution_count": null,
   "metadata": {},
   "outputs": [],
   "source": [
    "with open(\"q1_date_df\", \"rb\") as fp:\n",
    "    q1_date_df = pickle.load(fp)"
   ]
  },
  {
   "cell_type": "code",
   "execution_count": 64,
   "metadata": {},
   "outputs": [
    {
     "data": {
      "text/plain": [
       "140993"
      ]
     },
     "execution_count": 64,
     "metadata": {},
     "output_type": "execute_result"
    }
   ],
   "source": [
    "len(q1_date_df)"
   ]
  },
  {
   "cell_type": "code",
   "execution_count": 65,
   "metadata": {},
   "outputs": [],
   "source": [
    "q1_date_df = pd.concat([q1_date_df, q1_date_pr], verify_integrity=True)"
   ]
  },
  {
   "cell_type": "markdown",
   "metadata": {},
   "source": [
    "__Fixing \"only Accepted Date\" issue:__"
   ]
  },
  {
   "cell_type": "code",
   "execution_count": 67,
   "metadata": {},
   "outputs": [],
   "source": [
    "q1_date_df = q1_date_df[q1_date_df.Dates.map(lambda x: False if x[0]==None else True)]"
   ]
  },
  {
   "cell_type": "markdown",
   "metadata": {},
   "source": [
    "SAVING & DUMPing all used datasets:"
   ]
  },
  {
   "cell_type": "code",
   "execution_count": 70,
   "metadata": {},
   "outputs": [],
   "source": [
    "with open(\"q1_date_pr\",\"wb\") as p:\n",
    "    pickle.dump(q1_date_pr, p)"
   ]
  },
  {
   "cell_type": "code",
   "execution_count": 121,
   "metadata": {},
   "outputs": [],
   "source": [
    "# pr_results_df has ALL the extracted info from SumCetCet partial run\n",
    "\n",
    "with open(\"pr_results_df\",\"wb\") as p:\n",
    "    pickle.dump(pr_results_df, p)"
   ]
  },
  {
   "cell_type": "code",
   "execution_count": 69,
   "metadata": {},
   "outputs": [],
   "source": [
    "with open(\"q1_date_df\",\"wb\") as p:\n",
    "    pickle.dump(q1_date_df, p)"
   ]
  },
  {
   "cell_type": "markdown",
   "metadata": {},
   "source": [
    "Currently q1_date_df has 156754 articles that are completely ready for analysis.\n",
    "\n",
    "The remaining TDDs are:\n",
    "\n",
    "__1- Article related:__\n",
    "- Consolidate all UNTESTED article metadata -> only available from partial fill run dataset? - DONE\n",
    "- Consolidate all FAIED articles to a single dataset -> final extraction, partial fill, q1_date_df_all, OTHERS? - DONE\n",
    "\n",
    "__2- Journal related:__\n",
    "- update q1_jrnl_df and q1_jrnl_expladed with the new information\n",
    "- re-calc Req_Count & check if/how many UNTESTED can be used\n",
    "- compare with pivots to check total necessary data\n",
    "\n",
    "__3- Author related:__\n",
    "- Finalize the author_df \n",
    "- Complete ScopusAPI Author Search run\n",
    "\n",
    "__4- ANALYSIS & STATS & VISUALIZE__\n",
    "\n",
    "__5- WRITE REPORT__\n",
    "\n",
    "__6- FIN!__\n"
   ]
  },
  {
   "cell_type": "markdown",
   "metadata": {},
   "source": [
    "### PART 3: UNTESTED AND FAILED Article Datasets\n",
    "\n",
    "The datasets to be considered are:\n",
    "\n",
    "- q1_date_df_all (Backups)\n",
    "- q1_meta_fe\n",
    "- q1_meta_fe_all\n",
    "- date_df_full (5a)\n",
    "- date_df_5b (5b)\n",
    "- date_df_ok (Main Files)\n",
    "- date_df_ok_final (Main Files)\n",
    "- pr_results_df (7e)\n",
    "\n",
    "To prevent to many variables each will be loaded & compared with q1_date_df and saved accordingly.\n"
   ]
  },
  {
   "cell_type": "code",
   "execution_count": 77,
   "metadata": {},
   "outputs": [],
   "source": [
    "succ_doi_list = q1_date_df.index.tolist()"
   ]
  },
  {
   "cell_type": "code",
   "execution_count": null,
   "metadata": {},
   "outputs": [],
   "source": [
    "# Code used for testing below:\n",
    "\n",
    "# with open(\"date_df_ok_final\", \"rb\") as fp:\n",
    "#     testo = pickle.load(fp)\n",
    "\n",
    "# temp_remn = testo[~testo.set_index(\"DOI\").index.isin(succ_doi_list)].set_index(\"DOI\")\n",
    "# temp_remn = testo[~testo.index.isin(succ_doi_list)]\n",
    "\n",
    "# remainder_df = pd.concat([remainder_df,q1_date_pr], verify_integrity=True)\n",
    "# remainder_df = pd.concat([remainder_df,temp_remn])"
   ]
  },
  {
   "cell_type": "markdown",
   "metadata": {},
   "source": [
    "__Results:__\n",
    "\n",
    "- __q1_date_df_all (Backups)__\n",
    "    - Total len: 36K\n",
    "    - Not in q1_date_df: 4242\n",
    "    - \n",
    "\n",
    "- __q1_meta_fe__\n",
    "    - Total len: 138,184\n",
    "    - Not in q1_date_df: 35,258\n",
    "    - Already included : 131\n",
    "    - \n",
    "\n",
    "- __q1_meta_fe_all__\n",
    "    - Total len: 138,184\n",
    "    - Not in q1_date_df: 35,258 \n",
    "    - SKIPPED AS same as the previous df\n",
    "    - \n",
    "- __date_df_full (5a)__\n",
    "    - Total len: 128,374\n",
    "    - Not in q1_date_df: 96,156\n",
    "    - Already included: 4615\n",
    "    - \n",
    "- __date_df_5b (5b)__\n",
    "    - SKIPPED as pnly 36,514 articles with only SciHub information\n",
    "    - \n",
    "- __date_df_ok (Main Files)__\n",
    "    - Total len: 114,759\n",
    "    - Not in q1_date_df: 82,686 \n",
    "    - Already included: 82,773 SKIPPED as a result\n",
    "- __date_df_ok_final (Main Files)__\n",
    "    - Total len: 114,759\n",
    "    - Not in q1_date_df: 82,686 \n",
    "    - SKIPPED as same as previous\n",
    "    - \n",
    "- __pr_results_df (7e)__\n",
    "    - Total len:102,020\n",
    "    - Not in q1_date_df: 78,645 \n",
    "    - Already included: 4616\n",
    "    - \n",
    "\n",
    "\n",
    "All the articles are concat'd into remainder_df. This df can be used to create FAILED & UNTESTED datasets"
   ]
  },
  {
   "cell_type": "code",
   "execution_count": 129,
   "metadata": {},
   "outputs": [],
   "source": [
    "with open(\"remainder_df\",\"wb\") as p:\n",
    "    pickle.dump(remainder_df, p)"
   ]
  },
  {
   "cell_type": "markdown",
   "metadata": {},
   "source": [
    "#### PART 3.1: remainder_df:"
   ]
  },
  {
   "cell_type": "code",
   "execution_count": 2,
   "metadata": {},
   "outputs": [],
   "source": [
    "with open(\"q1_date_df\", \"rb\") as fp:\n",
    "    q1_date_df = pickle.load(fp)\n",
    "\n",
    "with open(\"remainder_df\", \"rb\") as fp:\n",
    "    remainder_df = pickle.load(fp)\n"
   ]
  },
  {
   "cell_type": "code",
   "execution_count": 5,
   "metadata": {},
   "outputs": [
    {
     "name": "stdout",
     "output_type": "stream",
     "text": [
      "<class 'pandas.core.frame.DataFrame'>\n",
      "Index: 214301 entries, 10.1007/s10441-011-9133-1 to 10.1214/18-ejp208\n",
      "Data columns (total 21 columns):\n",
      " #   Column                  Non-Null Count   Dtype  \n",
      "---  ------                  --------------   -----  \n",
      " 0   ISSN                    214301 non-null  object \n",
      " 1   issued                  214301 non-null  object \n",
      " 2   container-title         214301 non-null  object \n",
      " 3   publisher               214294 non-null  object \n",
      " 4   title                   214301 non-null  object \n",
      " 5   author                  192795 non-null  object \n",
      " 6   subject                 213933 non-null  object \n",
      " 7   references-count        118145 non-null  float64\n",
      " 8   is-referenced-by-count  214301 non-null  int64  \n",
      " 9   published               39116 non-null   object \n",
      " 10  published-print         201171 non-null  object \n",
      " 11  published-online        119803 non-null  object \n",
      " 12  direct_url              41047 non-null   object \n",
      " 13  Dates                   41047 non-null   object \n",
      " 14  Keywords                41047 non-null   object \n",
      " 15  Affiliation             4199 non-null    object \n",
      " 16  JRNL_ID                 113903 non-null  object \n",
      " 17  reference-count         96156 non-null   float64\n",
      " 18  reference               60392 non-null   object \n",
      " 19  language                31507 non-null   object \n",
      " 20  Results                 96156 non-null   object \n",
      "dtypes: float64(2), int64(1), object(18)\n",
      "memory usage: 36.0+ MB\n"
     ]
    }
   ],
   "source": [
    "remainder_df.info()"
   ]
  },
  {
   "cell_type": "code",
   "execution_count": 8,
   "metadata": {},
   "outputs": [],
   "source": [
    "# Drop unnec. colms:\n",
    "remainder_df.drop([\"reference\",\"language\"], axis=1, inplace=True)"
   ]
  },
  {
   "cell_type": "code",
   "execution_count": 19,
   "metadata": {},
   "outputs": [
    {
     "data": {
      "text/plain": [
       "<class 'list'>    82686\n",
       "<class 'str'>     13470\n",
       "Name: Results, dtype: int64"
      ]
     },
     "execution_count": 19,
     "metadata": {},
     "output_type": "execute_result"
    }
   ],
   "source": [
    "remainder_df[remainder_df.Results.notna()].Results.map(type).value_counts()"
   ]
  },
  {
   "cell_type": "code",
   "execution_count": 22,
   "metadata": {},
   "outputs": [
    {
     "data": {
      "text/plain": [
       "2    78240\n",
       "3     4446\n",
       "Name: Results, dtype: int64"
      ]
     },
     "execution_count": 22,
     "metadata": {},
     "output_type": "execute_result"
    }
   ],
   "source": [
    "remainder_df[(remainder_df.Results.notna() & (remainder_df.Results.map(type)==list))][\"Results\"].map(len).value_counts()"
   ]
  },
  {
   "cell_type": "code",
   "execution_count": 13,
   "metadata": {},
   "outputs": [
    {
     "data": {
      "text/html": [
       "<div>\n",
       "<style scoped>\n",
       "    .dataframe tbody tr th:only-of-type {\n",
       "        vertical-align: middle;\n",
       "    }\n",
       "\n",
       "    .dataframe tbody tr th {\n",
       "        vertical-align: top;\n",
       "    }\n",
       "\n",
       "    .dataframe thead th {\n",
       "        text-align: right;\n",
       "    }\n",
       "</style>\n",
       "<table border=\"1\" class=\"dataframe\">\n",
       "  <thead>\n",
       "    <tr style=\"text-align: right;\">\n",
       "      <th></th>\n",
       "      <th>ISSN</th>\n",
       "      <th>issued</th>\n",
       "      <th>container-title</th>\n",
       "      <th>publisher</th>\n",
       "      <th>title</th>\n",
       "      <th>author</th>\n",
       "      <th>subject</th>\n",
       "      <th>references-count</th>\n",
       "      <th>is-referenced-by-count</th>\n",
       "      <th>published</th>\n",
       "      <th>published-print</th>\n",
       "      <th>published-online</th>\n",
       "      <th>direct_url</th>\n",
       "      <th>Dates</th>\n",
       "      <th>Keywords</th>\n",
       "      <th>Affiliation</th>\n",
       "      <th>JRNL_ID</th>\n",
       "      <th>reference-count</th>\n",
       "      <th>Results</th>\n",
       "    </tr>\n",
       "    <tr>\n",
       "      <th>DOI</th>\n",
       "      <th></th>\n",
       "      <th></th>\n",
       "      <th></th>\n",
       "      <th></th>\n",
       "      <th></th>\n",
       "      <th></th>\n",
       "      <th></th>\n",
       "      <th></th>\n",
       "      <th></th>\n",
       "      <th></th>\n",
       "      <th></th>\n",
       "      <th></th>\n",
       "      <th></th>\n",
       "      <th></th>\n",
       "      <th></th>\n",
       "      <th></th>\n",
       "      <th></th>\n",
       "      <th></th>\n",
       "      <th></th>\n",
       "    </tr>\n",
       "  </thead>\n",
       "  <tbody>\n",
       "  </tbody>\n",
       "</table>\n",
       "</div>"
      ],
      "text/plain": [
       "Empty DataFrame\n",
       "Columns: [ISSN, issued, container-title, publisher, title, author, subject, references-count, is-referenced-by-count, published, published-print, published-online, direct_url, Dates, Keywords, Affiliation, JRNL_ID, reference-count, Results]\n",
       "Index: []"
      ]
     },
     "execution_count": 13,
     "metadata": {},
     "output_type": "execute_result"
    }
   ],
   "source": [
    "remainder_df[(remainder_df.Dates.notna()) & (remainder_df.Results.notna()) ]"
   ]
  },
  {
   "cell_type": "code",
   "execution_count": 12,
   "metadata": {},
   "outputs": [
    {
     "data": {
      "text/html": [
       "<div>\n",
       "<style scoped>\n",
       "    .dataframe tbody tr th:only-of-type {\n",
       "        vertical-align: middle;\n",
       "    }\n",
       "\n",
       "    .dataframe tbody tr th {\n",
       "        vertical-align: top;\n",
       "    }\n",
       "\n",
       "    .dataframe thead th {\n",
       "        text-align: right;\n",
       "    }\n",
       "</style>\n",
       "<table border=\"1\" class=\"dataframe\">\n",
       "  <thead>\n",
       "    <tr style=\"text-align: right;\">\n",
       "      <th></th>\n",
       "      <th>ISSN</th>\n",
       "      <th>issued</th>\n",
       "      <th>container-title</th>\n",
       "      <th>publisher</th>\n",
       "      <th>title</th>\n",
       "      <th>author</th>\n",
       "      <th>subject</th>\n",
       "      <th>references-count</th>\n",
       "      <th>is-referenced-by-count</th>\n",
       "      <th>published</th>\n",
       "      <th>published-print</th>\n",
       "      <th>published-online</th>\n",
       "      <th>direct_url</th>\n",
       "      <th>Dates</th>\n",
       "      <th>Keywords</th>\n",
       "      <th>Affiliation</th>\n",
       "      <th>JRNL_ID</th>\n",
       "      <th>reference-count</th>\n",
       "      <th>Results</th>\n",
       "    </tr>\n",
       "    <tr>\n",
       "      <th>DOI</th>\n",
       "      <th></th>\n",
       "      <th></th>\n",
       "      <th></th>\n",
       "      <th></th>\n",
       "      <th></th>\n",
       "      <th></th>\n",
       "      <th></th>\n",
       "      <th></th>\n",
       "      <th></th>\n",
       "      <th></th>\n",
       "      <th></th>\n",
       "      <th></th>\n",
       "      <th></th>\n",
       "      <th></th>\n",
       "      <th></th>\n",
       "      <th></th>\n",
       "      <th></th>\n",
       "      <th></th>\n",
       "      <th></th>\n",
       "    </tr>\n",
       "  </thead>\n",
       "  <tbody>\n",
       "  </tbody>\n",
       "</table>\n",
       "</div>"
      ],
      "text/plain": [
       "Empty DataFrame\n",
       "Columns: [ISSN, issued, container-title, publisher, title, author, subject, references-count, is-referenced-by-count, published, published-print, published-online, direct_url, Dates, Keywords, Affiliation, JRNL_ID, reference-count, Results]\n",
       "Index: []"
      ]
     },
     "execution_count": 12,
     "metadata": {},
     "output_type": "execute_result"
    }
   ],
   "source": [
    "remainder_df[(remainder_df[\"reference-count\"].notna()) & (remainder_df[\"references-count\"].notna()) ]"
   ]
  },
  {
   "cell_type": "markdown",
   "metadata": {},
   "source": [
    "__remainder_df__\n",
    "\n",
    "__1- Succ:__\n",
    "- has Dates & type == list\n",
    "- has Results & len == 3\n",
    "\n",
    "__2- Fail:__\n",
    "- has Dates & type==str\n",
    "- has Results & len==2\n",
    "\n",
    "__3- Untested:__\n",
    "- no Results & Dates cols.\n",
    "- DOI not in any other df"
   ]
  },
  {
   "cell_type": "code",
   "execution_count": 24,
   "metadata": {},
   "outputs": [],
   "source": [
    "# remainder_succ:\n",
    "\n",
    "remainder_succ = remainder_df[(remainder_df.Dates.notna() & (remainder_df.Dates.map(type)==list))]\n",
    "\n",
    "remainder_succ = pd.concat([remainder_succ, remainder_df.fillna(\"-\")[(remainder_df.fillna(\"-\").Results.notna() & (remainder_df.Results.fillna(\"-\").map(len)==3))]])"
   ]
  },
  {
   "cell_type": "code",
   "execution_count": 33,
   "metadata": {},
   "outputs": [],
   "source": [
    "# remainder_fail:\n",
    "\n",
    "remainder_fail = remainder_df[(remainder_df.Dates.notna() & (remainder_df.Dates.map(type)==str))]\n",
    "\n",
    "remainder_fail = pd.concat([remainder_fail, remainder_df.fillna(\"-\")[(remainder_df.fillna(\"-\").Results.notna()) & (remainder_df.Results.fillna(\"-\").map(len)==2)]])"
   ]
  },
  {
   "cell_type": "code",
   "execution_count": 42,
   "metadata": {},
   "outputs": [],
   "source": [
    "# remainder_untested:\n",
    "\n",
    "# Need to drop all DOIs from other datasets\n",
    "\n",
    "date_df_dois = q1_date_df.index.to_list()\n",
    "\n",
    "rem_suc_dois = remainder_succ.index.tolist()\n",
    "\n",
    "rem_fail_dois = remainder_fail.index.tolist()"
   ]
  },
  {
   "cell_type": "code",
   "execution_count": 43,
   "metadata": {},
   "outputs": [],
   "source": [
    "all_dois = set(date_df_dois + rem_suc_dois + rem_fail_dois)"
   ]
  },
  {
   "cell_type": "code",
   "execution_count": 71,
   "metadata": {},
   "outputs": [],
   "source": [
    "with open(\"all_dois\",\"wb\") as p:\n",
    "    pickle.dump(all_dois, p)"
   ]
  },
  {
   "cell_type": "code",
   "execution_count": 45,
   "metadata": {},
   "outputs": [],
   "source": [
    "remainder_untested = remainder_df[~remainder_df.index.isin(all_dois)]"
   ]
  },
  {
   "cell_type": "code",
   "execution_count": 69,
   "metadata": {},
   "outputs": [
    {
     "data": {
      "text/plain": [
       "(80243, 19)"
      ]
     },
     "execution_count": 69,
     "metadata": {},
     "output_type": "execute_result"
    }
   ],
   "source": [
    "remainder_untested.shape"
   ]
  },
  {
   "cell_type": "code",
   "execution_count": 52,
   "metadata": {},
   "outputs": [
    {
     "data": {
      "text/plain": [
       "article_not_in_Scihub    9454\n",
       "skipped                  3655\n",
       "cant_read_pdf             242\n",
       "direct_url_error           10\n",
       "pdf_bytes_error             7\n",
       "article_not_in Scihub       2\n",
       "Name: Results, dtype: int64"
      ]
     },
     "execution_count": 52,
     "metadata": {},
     "output_type": "execute_result"
    }
   ],
   "source": [
    "remainder_untested.Results.value_counts()"
   ]
  },
  {
   "cell_type": "code",
   "execution_count": 55,
   "metadata": {},
   "outputs": [
    {
     "data": {
      "text/plain": [
       "(76588, 19)"
      ]
     },
     "execution_count": 55,
     "metadata": {},
     "output_type": "execute_result"
    }
   ],
   "source": [
    "remainder_untested[remainder_untested.Results.isna()].shape"
   ]
  },
  {
   "cell_type": "markdown",
   "metadata": {},
   "source": [
    "The result above shows that remainder_untested has 89,958 articles remaining. However, due to the filtering conditions some are actually failed articles & will be moved to remainder_fail dataset.\n",
    "\n",
    "The rest can be used in the following steps if necessary.\n"
   ]
  },
  {
   "cell_type": "markdown",
   "metadata": {},
   "source": [
    "It is also seen that this step increased the number of untested artcl. count from 41K (pr_results_df) to 80K.\n"
   ]
  },
  {
   "cell_type": "code",
   "execution_count": 61,
   "metadata": {},
   "outputs": [],
   "source": [
    "remainder_fail = pd.concat([remainder_fail, remainder_untested[~(remainder_untested.Results.isna()) | (remainder_untested.Results == \"skipped\")]])\n",
    "\n",
    "remainder_untested = remainder_untested[(remainder_untested.Results.isna()) | (remainder_untested.Results == \"skipped\")]"
   ]
  },
  {
   "cell_type": "markdown",
   "metadata": {},
   "source": [
    "All the remainder datasets are ready for future steps, so each will be saved accordingly."
   ]
  },
  {
   "cell_type": "code",
   "execution_count": 70,
   "metadata": {},
   "outputs": [],
   "source": [
    "with open(\"remainder_df\",\"wb\") as p:\n",
    "    pickle.dump(remainder_df, p)\n",
    "\n",
    "with open(\"remainder_succ\",\"wb\") as p:\n",
    "    pickle.dump(remainder_succ, p)\n",
    "\n",
    "with open(\"remainder_fail\",\"wb\") as p:\n",
    "    pickle.dump(remainder_fail, p)\n",
    "\n",
    "with open(\"remainder_untested\",\"wb\") as p:\n",
    "    pickle.dump(remainder_untested, p)"
   ]
  },
  {
   "cell_type": "markdown",
   "metadata": {},
   "source": [
    "### PART 4: Journal Datasets\n"
   ]
  },
  {
   "cell_type": "code",
   "execution_count": 4,
   "metadata": {},
   "outputs": [],
   "source": [
    "with open(\"q1_date_df\", \"rb\") as fp:\n",
    "    q1_date_df = pickle.load(fp)\n",
    "\n",
    "with open(\"q1_jrnl_df\", \"rb\") as fp:\n",
    "    q1_jrnl_df = pickle.load(fp)\n",
    "\n",
    "with open(\"q1_jrnl_expladed\", \"rb\") as fp:\n",
    "    q1_jrnl_expladed = pickle.load(fp)\n",
    "\n",
    "with open(\"remainder_untested\", \"rb\") as fp:\n",
    "    remainder_untested = pickle.load(fp)"
   ]
  },
  {
   "cell_type": "code",
   "execution_count": 6,
   "metadata": {},
   "outputs": [
    {
     "data": {
      "text/plain": [
       "29921"
      ]
     },
     "execution_count": 6,
     "metadata": {},
     "output_type": "execute_result"
    }
   ],
   "source": [
    "q1_jrnl_df.Required_Count.sum()"
   ]
  },
  {
   "cell_type": "code",
   "execution_count": 7,
   "metadata": {},
   "outputs": [
    {
     "data": {
      "text/plain": [
       "140993"
      ]
     },
     "execution_count": 7,
     "metadata": {},
     "output_type": "execute_result"
    }
   ],
   "source": [
    "q1_jrnl_df.Current_Count.sum()"
   ]
  },
  {
   "cell_type": "code",
   "execution_count": 17,
   "metadata": {},
   "outputs": [
    {
     "data": {
      "text/plain": [
       "156754"
      ]
     },
     "execution_count": 17,
     "metadata": {},
     "output_type": "execute_result"
    }
   ],
   "source": [
    "len(q1_date_df)"
   ]
  },
  {
   "cell_type": "code",
   "execution_count": 19,
   "metadata": {},
   "outputs": [],
   "source": [
    "q1_jrnl_df[\"New_Current_Count\"] = q1_date_df.groupby(\"JRNL_ID\")[\"Dates\"].count()"
   ]
  },
  {
   "cell_type": "code",
   "execution_count": 22,
   "metadata": {},
   "outputs": [
    {
     "data": {
      "text/plain": [
       "297"
      ]
     },
     "execution_count": 22,
     "metadata": {},
     "output_type": "execute_result"
    }
   ],
   "source": [
    "len(q1_jrnl_df[q1_jrnl_df.New_Current_Count < q1_jrnl_df.Current_Count])"
   ]
  },
  {
   "cell_type": "code",
   "execution_count": 23,
   "metadata": {},
   "outputs": [
    {
     "data": {
      "text/plain": [
       "9652"
      ]
     },
     "execution_count": 23,
     "metadata": {},
     "output_type": "execute_result"
    }
   ],
   "source": [
    "len(q1_jrnl_df[q1_jrnl_df.New_Current_Count > q1_jrnl_df.Current_Count])"
   ]
  },
  {
   "cell_type": "markdown",
   "metadata": {},
   "source": [
    "It is seen that for 297 journals, fixing the \"Received Date\" issue caused a decrease in the number of articles. \n",
    "\n",
    "Whereas 9652 journals now have more articles after the partial fill run!\n",
    "\n"
   ]
  },
  {
   "cell_type": "code",
   "execution_count": 24,
   "metadata": {},
   "outputs": [],
   "source": [
    "q1_jrnl_df.drop(\"Current_Count\", axis=1, inplace=True)"
   ]
  },
  {
   "cell_type": "code",
   "execution_count": 26,
   "metadata": {},
   "outputs": [],
   "source": [
    "q1_jrnl_df.drop(\"Required_Count\", axis=1, inplace=True)"
   ]
  },
  {
   "cell_type": "code",
   "execution_count": 28,
   "metadata": {},
   "outputs": [],
   "source": [
    "q1_jrnl_df.rename(columns={\"New_Current_Count\":\"Current_Count\"}, inplace=True)"
   ]
  },
  {
   "cell_type": "markdown",
   "metadata": {},
   "source": [
    "q1_jnrl_df is now updated & can be SAVEd."
   ]
  },
  {
   "cell_type": "code",
   "execution_count": 30,
   "metadata": {},
   "outputs": [],
   "source": [
    "with open(\"q1_jrnl_df\",\"wb\") as p:\n",
    "    pickle.dump(q1_jrnl_df, p)"
   ]
  },
  {
   "cell_type": "markdown",
   "metadata": {},
   "source": [
    "Will go back to notebook 7b to re-create variables. "
   ]
  },
  {
   "cell_type": "markdown",
   "metadata": {},
   "source": [
    "__NOTE:__ During the re-run of 7b, it is seen that there are 26 articles that were written in the 20th century, but was published online recently; causing them to appear in the dataset, although they were published much earlier. These will be dropped from the dataset in the 7b nb, BUT will not SAVE q1_date_df there to avoid confusion.\n",
    "\n",
    "An example: q1_date_df.loc[\"10.1080/00263206.2010.527121\",\"direct_url\"]\n",
    "\n",
    "Therefore, these articles need to be dropped & q1_date_df will be updated HERE! \n",
    "\n",
    "__NOTE 2:__ Also need to check other edge cases for articles written before 2010 & after 2020!"
   ]
  },
  {
   "cell_type": "code",
   "execution_count": null,
   "metadata": {},
   "outputs": [],
   "source": [
    "# Code for the case above:\n",
    "\n",
    "#q1_date_df[q1_date_df.Dates.map(lambda x: x[0][-4:]).map(lambda x: not x.startswith(\"20\"))]"
   ]
  },
  {
   "cell_type": "markdown",
   "metadata": {},
   "source": [
    "During the analysis it is also seen that the current articles in q1_date_df requires Subj. Areas assigned that will also in line with the matrixes!\n",
    "\n",
    "This will be the main focus TOMORROW!\n",
    "\n",
    "The best strategy seems to be saving the pivots from 5b to be usedin this nb."
   ]
  },
  {
   "cell_type": "code",
   "execution_count": 2,
   "metadata": {},
   "outputs": [],
   "source": [
    "\n",
    "with open(\"q1_jrnl_df\", \"rb\") as fp:\n",
    "    q1_jrnl_df = pickle.load(fp)\n",
    "\n",
    "\n",
    "with open(\"q1_date_df\", \"rb\") as fp:\n",
    "    q1_date_df = pickle.load(fp)"
   ]
  },
  {
   "cell_type": "markdown",
   "metadata": {},
   "source": [
    "### __TTD:__\n",
    "\n",
    "- add a JRNL_YEAR column to q1_date_df - DONE\n",
    "\n",
    "- __q1_jnrl_df:__ - DONE\n",
    "    - fix Current_Count\n",
    "    - update 9+1 CR_columns - DONE\n",
    "    - as we had retrials of some FAILED and all PARTIAL OK jrnls, need to compare with Req_Count to update Consider column\n",
    "    - as a final touch re-write the conditions in the loop for Consider column\n",
    "\n",
    "\n",
    "- add a S_A column \n",
    "\n",
    "- create pivot for currently SUCCESSFULL article count\n",
    "\n",
    "- calc. the necessary article number\n",
    "\n",
    "- re-distr. (WITH S_A info) the necessary count to q1_jrnl_df based on consider column (New_Req_Count)\n",
    "\n",
    "- final extraction!"
   ]
  },
  {
   "cell_type": "code",
   "execution_count": 6,
   "metadata": {},
   "outputs": [],
   "source": [
    "# TTD 1:\n",
    "\n",
    "jrnl_year_dict = q1_jrnl_df.Year.to_dict()\n",
    "\n",
    "q1_date_df[\"JRNL_YEAR\"] = q1_date_df.JRNL_ID.map(jrnl_year_dict)"
   ]
  },
  {
   "cell_type": "code",
   "execution_count": 47,
   "metadata": {},
   "outputs": [
    {
     "data": {
      "text/plain": [
       "ID\n",
       "1_0        13\n",
       "1_1         7\n",
       "1_2         8\n",
       "1_3        10\n",
       "1_4         5\n",
       "           ..\n",
       "1_66911     3\n",
       "1_66912     3\n",
       "1_66913     0\n",
       "1_66914     8\n",
       "1_66915     0\n",
       "Name: Current_Count, Length: 66916, dtype: int32"
      ]
     },
     "execution_count": 47,
     "metadata": {},
     "output_type": "execute_result"
    }
   ],
   "source": [
    "# TTD 1 - jrnl:\n",
    "\n",
    "q1_jrnl_df.Current_Count = q1_jrnl_df.Current_Count.fillna(0)\n",
    "q1_jrnl_df.Current_Count = q1_jrnl_df.Current_Count.astype(int)"
   ]
  },
  {
   "cell_type": "code",
   "execution_count": 12,
   "metadata": {},
   "outputs": [],
   "source": [
    "# TTD 2:\n",
    "# Need to find the  most up-to-date Req. Count column:\n",
    "\n",
    "# with open(\"q1_jrnl_df_25may\", \"rb\") as fp:\n",
    "#     q1_jrnl_df_25may = pickle.load(fp)\n",
    "\n",
    "with open(\"q1_jrnl_df_21july\", \"rb\") as fp:\n",
    "    q1_jrnl_df_21july = pickle.load(fp)\n",
    "\n",
    "q1_jrnl_df = q1_jrnl_df.merge(q1_jrnl_df_21july[\"Required_Count\"], how=\"left\", left_index=True, right_index=True)\n"
   ]
  },
  {
   "cell_type": "code",
   "execution_count": 52,
   "metadata": {},
   "outputs": [],
   "source": [
    "# Also added the \"old\" Current_Count column to analyze the differences:\n",
    "q1_jrnl_df_21july.rename(columns={\"Current_Count\":\"Old_C_Count\"},inplace=True)\n",
    "q1_jrnl_df = q1_jrnl_df.merge(q1_jrnl_df_21july[\"Old_C_Count\"], how=\"left\", left_index=True, right_index=True)\n"
   ]
  },
  {
   "cell_type": "code",
   "execution_count": 57,
   "metadata": {},
   "outputs": [
    {
     "data": {
      "text/plain": [
       "1939"
      ]
     },
     "execution_count": 57,
     "metadata": {},
     "output_type": "execute_result"
    }
   ],
   "source": [
    "len(q1_jrnl_df[q1_jrnl_df.Old_C_Count > q1_jrnl_df.Current_Count])"
   ]
  },
  {
   "cell_type": "code",
   "execution_count": 58,
   "metadata": {},
   "outputs": [
    {
     "data": {
      "text/plain": [
       "1642"
      ]
     },
     "execution_count": 58,
     "metadata": {},
     "output_type": "execute_result"
    }
   ],
   "source": [
    "len(q1_jrnl_df[(q1_jrnl_df.Old_C_Count > 0) & (q1_jrnl_df.Current_Count == 0)])"
   ]
  },
  {
   "cell_type": "markdown",
   "metadata": {},
   "source": [
    "It is seen that during the RECEIVED DATE only update (removed articles if only had Acc. Date in q1_date_df), 1939 jrnls in total seen a decrease in numbers. Out of which, 1642 does not have any remaining jrnls left.\n",
    "\n",
    "They can be tested again to be sure, but will be skipped due to time limitations.\n",
    "\n"
   ]
  },
  {
   "cell_type": "code",
   "execution_count": 31,
   "metadata": {},
   "outputs": [],
   "source": [
    "# Updating 9 + 1:\n",
    "for id in [\"1_18052\",\"1_24838\",\"1_24839\",\"1_24840\",\"1_24841\",\"1_24842\",\"1_24844\",\"1_66638\",\"1_66639\"]:\n",
    "    q1_jrnl_df.loc[id,\"CR_Count\"] = 0\n",
    "\n",
    "q1_jrnl_df.loc[\"1_24843\",\"CR_Count\"] = 1\n"
   ]
  },
  {
   "cell_type": "markdown",
   "metadata": {},
   "source": [
    "__Updating \"Consider\":__\n",
    "\n",
    "- Consider is more up-to-date than Req_count\n",
    "- Therefore if already Consider= False, it was skipped in partial fill & failed one of the conditions of Consider update in part 7c\n",
    "- So need to update Consider == True & Req_Count > 0 articles! \n",
    "\n",
    "---\n",
    "\n",
    "\n",
    "- All the analysis above shows that in the current q1_jrnl_df:\n",
    "    - if a jrnl has Current_Count > 0, it can be considered for the last run.\n",
    "    - However, do not forget that there are some Consider= False BUT Cur_Count > 0 jrnls. These are fine and will be considered in the pivot and not in the Consider.\n",
    "    - \n",
    "    \n",
    "- All in all we will be left with 32,734 jrnls that have at least 1 article in q1_date_df \n",
    "- And 32,688 jrnls that can be CONSIDERed in the next fillings!  \n"
   ]
  },
  {
   "cell_type": "code",
   "execution_count": 65,
   "metadata": {},
   "outputs": [
    {
     "data": {
      "text/plain": [
       "34380"
      ]
     },
     "execution_count": 65,
     "metadata": {},
     "output_type": "execute_result"
    }
   ],
   "source": [
    "len(q1_jrnl_df[q1_jrnl_df.Consider == True])"
   ]
  },
  {
   "cell_type": "code",
   "execution_count": 61,
   "metadata": {},
   "outputs": [
    {
     "data": {
      "text/plain": [
       "32734"
      ]
     },
     "execution_count": 61,
     "metadata": {},
     "output_type": "execute_result"
    }
   ],
   "source": [
    "len(q1_jrnl_df[(q1_jrnl_df.Current_Count > 0)])"
   ]
  },
  {
   "cell_type": "code",
   "execution_count": 62,
   "metadata": {},
   "outputs": [
    {
     "data": {
      "text/plain": [
       "32688"
      ]
     },
     "execution_count": 62,
     "metadata": {},
     "output_type": "execute_result"
    }
   ],
   "source": [
    "len(q1_jrnl_df[(q1_jrnl_df.Consider == True) & (q1_jrnl_df.Current_Count > 0)])"
   ]
  },
  {
   "cell_type": "code",
   "execution_count": 63,
   "metadata": {},
   "outputs": [
    {
     "data": {
      "text/plain": [
       "1692"
      ]
     },
     "execution_count": 63,
     "metadata": {},
     "output_type": "execute_result"
    }
   ],
   "source": [
    "len(q1_jrnl_df[(q1_jrnl_df.Consider == True) & (q1_jrnl_df.Current_Count== 0)])"
   ]
  },
  {
   "cell_type": "markdown",
   "metadata": {},
   "source": [
    "__NOTE:__ \n",
    "1_42139, 1_14566 these journals USED TO have articles in the dataset, BUT 0 after RECEIVED_DATE ONLY update!\n",
    "\n",
    "Code: q1_jrnl_df[(q1_jrnl_df.Consider == True) & (q1_jrnl_df.Current_Count== 0) & (q1_jrnl_df.Old_C_Count > 0)].sort_values(\"Old_C_Count\", ascending=False)\n"
   ]
  },
  {
   "cell_type": "code",
   "execution_count": 68,
   "metadata": {},
   "outputs": [],
   "source": [
    "# The update code: \n",
    "\n",
    "q1_jrnl_df.loc[(q1_jrnl_df.Consider == True) & (q1_jrnl_df.Current_Count > 0), \"New_Consider\"] = True"
   ]
  },
  {
   "cell_type": "code",
   "execution_count": 72,
   "metadata": {},
   "outputs": [],
   "source": [
    "# Finalize the dataset:\n",
    "\n",
    "q1_jrnl_df.drop([\"Consider\",\"Required_Count\",\"Old_C_Count\"], axis=1, inplace= True)\n",
    "q1_jrnl_df.rename(columns={\"New_Consider\": \"Consider\"}, inplace=True)"
   ]
  },
  {
   "cell_type": "markdown",
   "metadata": {},
   "source": [
    "Consider col. is now updated. Both datasets should be up-to-date and ready for future proessing."
   ]
  },
  {
   "cell_type": "code",
   "execution_count": 76,
   "metadata": {},
   "outputs": [],
   "source": [
    "with open(\"q1_jrnl_df\",\"wb\") as fp:\n",
    "   pickle.dump(q1_jrnl_df, fp)"
   ]
  },
  {
   "cell_type": "code",
   "execution_count": 75,
   "metadata": {},
   "outputs": [
    {
     "data": {
      "text/html": [
       "<div>\n",
       "<style scoped>\n",
       "    .dataframe tbody tr th:only-of-type {\n",
       "        vertical-align: middle;\n",
       "    }\n",
       "\n",
       "    .dataframe tbody tr th {\n",
       "        vertical-align: top;\n",
       "    }\n",
       "\n",
       "    .dataframe thead th {\n",
       "        text-align: right;\n",
       "    }\n",
       "</style>\n",
       "<table border=\"1\" class=\"dataframe\">\n",
       "  <thead>\n",
       "    <tr style=\"text-align: right;\">\n",
       "      <th></th>\n",
       "      <th>ISSN</th>\n",
       "      <th>Year</th>\n",
       "      <th>Title</th>\n",
       "      <th>Sbj_Area</th>\n",
       "      <th>Total_Docs</th>\n",
       "      <th>Country</th>\n",
       "      <th>Region</th>\n",
       "      <th>Publisher</th>\n",
       "      <th>Coverage</th>\n",
       "      <th>SJR</th>\n",
       "      <th>...</th>\n",
       "      <th>Total Docs. (3years)</th>\n",
       "      <th>Total Refs.</th>\n",
       "      <th>Total Cites (3years)</th>\n",
       "      <th>Citable Docs. (3years)</th>\n",
       "      <th>Cites / Doc. (2years)</th>\n",
       "      <th>Ref. / Doc.</th>\n",
       "      <th>CR_Count</th>\n",
       "      <th>SH_Results</th>\n",
       "      <th>Current_Count</th>\n",
       "      <th>Consider</th>\n",
       "    </tr>\n",
       "    <tr>\n",
       "      <th>ID</th>\n",
       "      <th></th>\n",
       "      <th></th>\n",
       "      <th></th>\n",
       "      <th></th>\n",
       "      <th></th>\n",
       "      <th></th>\n",
       "      <th></th>\n",
       "      <th></th>\n",
       "      <th></th>\n",
       "      <th></th>\n",
       "      <th></th>\n",
       "      <th></th>\n",
       "      <th></th>\n",
       "      <th></th>\n",
       "      <th></th>\n",
       "      <th></th>\n",
       "      <th></th>\n",
       "      <th></th>\n",
       "      <th></th>\n",
       "      <th></th>\n",
       "      <th></th>\n",
       "    </tr>\n",
       "  </thead>\n",
       "  <tbody>\n",
       "    <tr>\n",
       "      <th>1_0</th>\n",
       "      <td>(00011541, 15475905)</td>\n",
       "      <td>2013</td>\n",
       "      <td>AICHE Journal</td>\n",
       "      <td>{'Biochemistry, Genetics and Molecular Biology...</td>\n",
       "      <td>422</td>\n",
       "      <td>United States</td>\n",
       "      <td>Northern America</td>\n",
       "      <td>Wiley-Blackwell</td>\n",
       "      <td>1955-2020</td>\n",
       "      <td>1,053</td>\n",
       "      <td>...</td>\n",
       "      <td>956</td>\n",
       "      <td>17490</td>\n",
       "      <td>2697</td>\n",
       "      <td>928</td>\n",
       "      <td>2,82</td>\n",
       "      <td>41,45</td>\n",
       "      <td>343</td>\n",
       "      <td>True</td>\n",
       "      <td>13</td>\n",
       "      <td>True</td>\n",
       "    </tr>\n",
       "    <tr>\n",
       "      <th>1_1</th>\n",
       "      <td>(00011541, 15475905)</td>\n",
       "      <td>2014</td>\n",
       "      <td>AICHE Journal</td>\n",
       "      <td>{'Biochemistry, Genetics and Molecular Biology...</td>\n",
       "      <td>359</td>\n",
       "      <td>United States</td>\n",
       "      <td>Northern America</td>\n",
       "      <td>Wiley-Blackwell</td>\n",
       "      <td>1955-2020</td>\n",
       "      <td>1,066</td>\n",
       "      <td>...</td>\n",
       "      <td>1084</td>\n",
       "      <td>15256</td>\n",
       "      <td>3359</td>\n",
       "      <td>1058</td>\n",
       "      <td>3,16</td>\n",
       "      <td>42,50</td>\n",
       "      <td>376</td>\n",
       "      <td>True</td>\n",
       "      <td>7</td>\n",
       "      <td>True</td>\n",
       "    </tr>\n",
       "    <tr>\n",
       "      <th>1_2</th>\n",
       "      <td>(00011541, 15475905)</td>\n",
       "      <td>2019</td>\n",
       "      <td>AICHE Journal</td>\n",
       "      <td>{'Biochemistry, Genetics and Molecular Biology...</td>\n",
       "      <td>335</td>\n",
       "      <td>United States</td>\n",
       "      <td>Northern America</td>\n",
       "      <td>Wiley-Blackwell</td>\n",
       "      <td>1955-2020</td>\n",
       "      <td>0,947</td>\n",
       "      <td>...</td>\n",
       "      <td>1203</td>\n",
       "      <td>15387</td>\n",
       "      <td>4649</td>\n",
       "      <td>1189</td>\n",
       "      <td>3,70</td>\n",
       "      <td>45,93</td>\n",
       "      <td>384</td>\n",
       "      <td>True</td>\n",
       "      <td>8</td>\n",
       "      <td>True</td>\n",
       "    </tr>\n",
       "    <tr>\n",
       "      <th>1_3</th>\n",
       "      <td>(00011541, 15475905)</td>\n",
       "      <td>2018</td>\n",
       "      <td>AICHE Journal</td>\n",
       "      <td>{'Biochemistry, Genetics and Molecular Biology...</td>\n",
       "      <td>379</td>\n",
       "      <td>United States</td>\n",
       "      <td>Northern America</td>\n",
       "      <td>Wiley-Blackwell</td>\n",
       "      <td>1955-2020</td>\n",
       "      <td>0,978</td>\n",
       "      <td>...</td>\n",
       "      <td>1195</td>\n",
       "      <td>17900</td>\n",
       "      <td>4436</td>\n",
       "      <td>1181</td>\n",
       "      <td>3,71</td>\n",
       "      <td>47,23</td>\n",
       "      <td>366</td>\n",
       "      <td>True</td>\n",
       "      <td>10</td>\n",
       "      <td>True</td>\n",
       "    </tr>\n",
       "    <tr>\n",
       "      <th>1_4</th>\n",
       "      <td>(00011541, 15475905)</td>\n",
       "      <td>2020</td>\n",
       "      <td>AICHE Journal</td>\n",
       "      <td>{'Biochemistry, Genetics and Molecular Biology...</td>\n",
       "      <td>374</td>\n",
       "      <td>United States</td>\n",
       "      <td>Northern America</td>\n",
       "      <td>Wiley-Blackwell</td>\n",
       "      <td>1955-2020</td>\n",
       "      <td>0,958</td>\n",
       "      <td>...</td>\n",
       "      <td>1171</td>\n",
       "      <td>18063</td>\n",
       "      <td>4720</td>\n",
       "      <td>1155</td>\n",
       "      <td>4,01</td>\n",
       "      <td>48,30</td>\n",
       "      <td>337</td>\n",
       "      <td>True</td>\n",
       "      <td>5</td>\n",
       "      <td>True</td>\n",
       "    </tr>\n",
       "  </tbody>\n",
       "</table>\n",
       "<p>5 rows × 21 columns</p>\n",
       "</div>"
      ],
      "text/plain": [
       "                     ISSN  Year          Title  \\\n",
       "ID                                               \n",
       "1_0  (00011541, 15475905)  2013  AICHE Journal   \n",
       "1_1  (00011541, 15475905)  2014  AICHE Journal   \n",
       "1_2  (00011541, 15475905)  2019  AICHE Journal   \n",
       "1_3  (00011541, 15475905)  2018  AICHE Journal   \n",
       "1_4  (00011541, 15475905)  2020  AICHE Journal   \n",
       "\n",
       "                                              Sbj_Area  Total_Docs  \\\n",
       "ID                                                                   \n",
       "1_0  {'Biochemistry, Genetics and Molecular Biology...         422   \n",
       "1_1  {'Biochemistry, Genetics and Molecular Biology...         359   \n",
       "1_2  {'Biochemistry, Genetics and Molecular Biology...         335   \n",
       "1_3  {'Biochemistry, Genetics and Molecular Biology...         379   \n",
       "1_4  {'Biochemistry, Genetics and Molecular Biology...         374   \n",
       "\n",
       "           Country            Region        Publisher   Coverage    SJR  ...  \\\n",
       "ID                                                                       ...   \n",
       "1_0  United States  Northern America  Wiley-Blackwell  1955-2020  1,053  ...   \n",
       "1_1  United States  Northern America  Wiley-Blackwell  1955-2020  1,066  ...   \n",
       "1_2  United States  Northern America  Wiley-Blackwell  1955-2020  0,947  ...   \n",
       "1_3  United States  Northern America  Wiley-Blackwell  1955-2020  0,978  ...   \n",
       "1_4  United States  Northern America  Wiley-Blackwell  1955-2020  0,958  ...   \n",
       "\n",
       "     Total Docs. (3years)  Total Refs.  Total Cites (3years)  \\\n",
       "ID                                                             \n",
       "1_0                   956        17490                  2697   \n",
       "1_1                  1084        15256                  3359   \n",
       "1_2                  1203        15387                  4649   \n",
       "1_3                  1195        17900                  4436   \n",
       "1_4                  1171        18063                  4720   \n",
       "\n",
       "     Citable Docs. (3years)  Cites / Doc. (2years) Ref. / Doc. CR_Count  \\\n",
       "ID                                                                        \n",
       "1_0                     928                   2,82       41,45      343   \n",
       "1_1                    1058                   3,16       42,50      376   \n",
       "1_2                    1189                   3,70       45,93      384   \n",
       "1_3                    1181                   3,71       47,23      366   \n",
       "1_4                    1155                   4,01       48,30      337   \n",
       "\n",
       "     SH_Results  Current_Count  Consider  \n",
       "ID                                        \n",
       "1_0        True             13      True  \n",
       "1_1        True              7      True  \n",
       "1_2        True              8      True  \n",
       "1_3        True             10      True  \n",
       "1_4        True              5      True  \n",
       "\n",
       "[5 rows x 21 columns]"
      ]
     },
     "execution_count": 75,
     "metadata": {},
     "output_type": "execute_result"
    }
   ],
   "source": [
    "q1_jrnl_df.head()"
   ]
  },
  {
   "cell_type": "markdown",
   "metadata": {},
   "source": [
    "### Part 5: Adding S_A to q1_date_df\n"
   ]
  },
  {
   "cell_type": "code",
   "execution_count": 79,
   "metadata": {},
   "outputs": [
    {
     "data": {
      "text/plain": [
       "1    18549\n",
       "2    10249\n",
       "3     2871\n",
       "4      796\n",
       "5      174\n",
       "6       47\n",
       "7        2\n",
       "Name: Sbj_Area, dtype: int64"
      ]
     },
     "execution_count": 79,
     "metadata": {},
     "output_type": "execute_result"
    }
   ],
   "source": [
    "q1_jrnl_df[(q1_jrnl_df.Consider == True) & (q1_jrnl_df.Sbj_Area.map(len) == 1)].Current_Count.sum()"
   ]
  },
  {
   "cell_type": "markdown",
   "metadata": {},
   "source": [
    "In all posssible methods, we need to add the JRNL_S_A col. to q1_date_df:"
   ]
  },
  {
   "cell_type": "code",
   "execution_count": 91,
   "metadata": {},
   "outputs": [],
   "source": [
    "jrnl_s_a_dict = q1_jrnl_df.Sbj_Area.map(lambda x: list(x.keys())).to_dict()\n",
    "\n",
    "q1_date_df[\"JRNL_S_A\"] = q1_date_df.JRNL_ID.map(jrnl_s_a_dict)"
   ]
  },
  {
   "cell_type": "code",
   "execution_count": 104,
   "metadata": {},
   "outputs": [
    {
     "data": {
      "text/plain": [
       "1    56931\n",
       "2    60616\n",
       "3    25899\n",
       "4     9986\n",
       "5     2494\n",
       "6      791\n",
       "7       37\n",
       "Name: JRNL_S_A, dtype: int64"
      ]
     },
     "execution_count": 104,
     "metadata": {},
     "output_type": "execute_result"
    }
   ],
   "source": [
    "q1_date_df.JRNL_S_A.map(len).value_counts().sort_index()"
   ]
  },
  {
   "cell_type": "code",
   "execution_count": 106,
   "metadata": {},
   "outputs": [],
   "source": [
    "def one_picker(sa_list):\n",
    "    if len(sa_list) == 1:\n",
    "        return sa_list[0]\n",
    "    else:\n",
    "        return np.nan\n",
    "\n",
    "q1_date_df[\"S_A\"] = q1_date_df.JRNL_S_A.map(one_picker)"
   ]
  },
  {
   "cell_type": "code",
   "execution_count": 117,
   "metadata": {},
   "outputs": [
    {
     "data": {
      "text/html": [
       "<div>\n",
       "<style scoped>\n",
       "    .dataframe tbody tr th:only-of-type {\n",
       "        vertical-align: middle;\n",
       "    }\n",
       "\n",
       "    .dataframe tbody tr th {\n",
       "        vertical-align: top;\n",
       "    }\n",
       "\n",
       "    .dataframe thead th {\n",
       "        text-align: right;\n",
       "    }\n",
       "</style>\n",
       "<table border=\"1\" class=\"dataframe\">\n",
       "  <thead>\n",
       "    <tr style=\"text-align: right;\">\n",
       "      <th>JRNL_YEAR</th>\n",
       "      <th>2010</th>\n",
       "      <th>2011</th>\n",
       "      <th>2012</th>\n",
       "      <th>2013</th>\n",
       "      <th>2014</th>\n",
       "      <th>2015</th>\n",
       "      <th>2016</th>\n",
       "      <th>2017</th>\n",
       "      <th>2018</th>\n",
       "      <th>2019</th>\n",
       "      <th>2020</th>\n",
       "    </tr>\n",
       "    <tr>\n",
       "      <th>S_A</th>\n",
       "      <th></th>\n",
       "      <th></th>\n",
       "      <th></th>\n",
       "      <th></th>\n",
       "      <th></th>\n",
       "      <th></th>\n",
       "      <th></th>\n",
       "      <th></th>\n",
       "      <th></th>\n",
       "      <th></th>\n",
       "      <th></th>\n",
       "    </tr>\n",
       "  </thead>\n",
       "  <tbody>\n",
       "    <tr>\n",
       "      <th>Agricultural and Biological Sciences</th>\n",
       "      <td>301</td>\n",
       "      <td>281</td>\n",
       "      <td>291</td>\n",
       "      <td>301</td>\n",
       "      <td>335</td>\n",
       "      <td>308</td>\n",
       "      <td>327</td>\n",
       "      <td>338</td>\n",
       "      <td>339</td>\n",
       "      <td>327</td>\n",
       "      <td>345</td>\n",
       "    </tr>\n",
       "    <tr>\n",
       "      <th>Arts and Humanities</th>\n",
       "      <td>189</td>\n",
       "      <td>192</td>\n",
       "      <td>215</td>\n",
       "      <td>202</td>\n",
       "      <td>271</td>\n",
       "      <td>211</td>\n",
       "      <td>247</td>\n",
       "      <td>252</td>\n",
       "      <td>232</td>\n",
       "      <td>216</td>\n",
       "      <td>243</td>\n",
       "    </tr>\n",
       "    <tr>\n",
       "      <th>Biochemistry, Genetics and Molecular Biology</th>\n",
       "      <td>184</td>\n",
       "      <td>182</td>\n",
       "      <td>169</td>\n",
       "      <td>168</td>\n",
       "      <td>182</td>\n",
       "      <td>186</td>\n",
       "      <td>185</td>\n",
       "      <td>151</td>\n",
       "      <td>165</td>\n",
       "      <td>167</td>\n",
       "      <td>156</td>\n",
       "    </tr>\n",
       "    <tr>\n",
       "      <th>Business, Management and Accounting</th>\n",
       "      <td>176</td>\n",
       "      <td>172</td>\n",
       "      <td>209</td>\n",
       "      <td>199</td>\n",
       "      <td>204</td>\n",
       "      <td>235</td>\n",
       "      <td>186</td>\n",
       "      <td>175</td>\n",
       "      <td>201</td>\n",
       "      <td>216</td>\n",
       "      <td>188</td>\n",
       "    </tr>\n",
       "    <tr>\n",
       "      <th>Chemical Engineering</th>\n",
       "      <td>102</td>\n",
       "      <td>75</td>\n",
       "      <td>85</td>\n",
       "      <td>81</td>\n",
       "      <td>113</td>\n",
       "      <td>73</td>\n",
       "      <td>109</td>\n",
       "      <td>78</td>\n",
       "      <td>100</td>\n",
       "      <td>107</td>\n",
       "      <td>74</td>\n",
       "    </tr>\n",
       "    <tr>\n",
       "      <th>Chemistry</th>\n",
       "      <td>128</td>\n",
       "      <td>135</td>\n",
       "      <td>139</td>\n",
       "      <td>162</td>\n",
       "      <td>154</td>\n",
       "      <td>168</td>\n",
       "      <td>155</td>\n",
       "      <td>134</td>\n",
       "      <td>122</td>\n",
       "      <td>131</td>\n",
       "      <td>131</td>\n",
       "    </tr>\n",
       "    <tr>\n",
       "      <th>Computer Science</th>\n",
       "      <td>188</td>\n",
       "      <td>183</td>\n",
       "      <td>181</td>\n",
       "      <td>171</td>\n",
       "      <td>168</td>\n",
       "      <td>206</td>\n",
       "      <td>188</td>\n",
       "      <td>185</td>\n",
       "      <td>189</td>\n",
       "      <td>166</td>\n",
       "      <td>168</td>\n",
       "    </tr>\n",
       "    <tr>\n",
       "      <th>Decision Sciences</th>\n",
       "      <td>6</td>\n",
       "      <td>8</td>\n",
       "      <td>10</td>\n",
       "      <td>7</td>\n",
       "      <td>3</td>\n",
       "      <td>7</td>\n",
       "      <td>12</td>\n",
       "      <td>7</td>\n",
       "      <td>7</td>\n",
       "      <td>7</td>\n",
       "      <td>10</td>\n",
       "    </tr>\n",
       "    <tr>\n",
       "      <th>Dentistry</th>\n",
       "      <td>226</td>\n",
       "      <td>169</td>\n",
       "      <td>264</td>\n",
       "      <td>224</td>\n",
       "      <td>190</td>\n",
       "      <td>240</td>\n",
       "      <td>308</td>\n",
       "      <td>255</td>\n",
       "      <td>358</td>\n",
       "      <td>318</td>\n",
       "      <td>310</td>\n",
       "    </tr>\n",
       "    <tr>\n",
       "      <th>Earth and Planetary Sciences</th>\n",
       "      <td>342</td>\n",
       "      <td>365</td>\n",
       "      <td>342</td>\n",
       "      <td>348</td>\n",
       "      <td>365</td>\n",
       "      <td>354</td>\n",
       "      <td>361</td>\n",
       "      <td>309</td>\n",
       "      <td>324</td>\n",
       "      <td>298</td>\n",
       "      <td>318</td>\n",
       "    </tr>\n",
       "    <tr>\n",
       "      <th>Economics, Econometrics and Finance</th>\n",
       "      <td>185</td>\n",
       "      <td>213</td>\n",
       "      <td>213</td>\n",
       "      <td>214</td>\n",
       "      <td>198</td>\n",
       "      <td>202</td>\n",
       "      <td>156</td>\n",
       "      <td>188</td>\n",
       "      <td>187</td>\n",
       "      <td>213</td>\n",
       "      <td>183</td>\n",
       "    </tr>\n",
       "    <tr>\n",
       "      <th>Energy</th>\n",
       "      <td>134</td>\n",
       "      <td>103</td>\n",
       "      <td>121</td>\n",
       "      <td>163</td>\n",
       "      <td>128</td>\n",
       "      <td>125</td>\n",
       "      <td>136</td>\n",
       "      <td>89</td>\n",
       "      <td>126</td>\n",
       "      <td>110</td>\n",
       "      <td>93</td>\n",
       "    </tr>\n",
       "    <tr>\n",
       "      <th>Engineering</th>\n",
       "      <td>221</td>\n",
       "      <td>216</td>\n",
       "      <td>214</td>\n",
       "      <td>217</td>\n",
       "      <td>214</td>\n",
       "      <td>226</td>\n",
       "      <td>244</td>\n",
       "      <td>234</td>\n",
       "      <td>242</td>\n",
       "      <td>248</td>\n",
       "      <td>224</td>\n",
       "    </tr>\n",
       "    <tr>\n",
       "      <th>Environmental Science</th>\n",
       "      <td>153</td>\n",
       "      <td>144</td>\n",
       "      <td>135</td>\n",
       "      <td>155</td>\n",
       "      <td>161</td>\n",
       "      <td>165</td>\n",
       "      <td>136</td>\n",
       "      <td>121</td>\n",
       "      <td>146</td>\n",
       "      <td>110</td>\n",
       "      <td>135</td>\n",
       "    </tr>\n",
       "    <tr>\n",
       "      <th>Health Professions</th>\n",
       "      <td>198</td>\n",
       "      <td>135</td>\n",
       "      <td>149</td>\n",
       "      <td>171</td>\n",
       "      <td>101</td>\n",
       "      <td>100</td>\n",
       "      <td>94</td>\n",
       "      <td>79</td>\n",
       "      <td>98</td>\n",
       "      <td>48</td>\n",
       "      <td>62</td>\n",
       "    </tr>\n",
       "    <tr>\n",
       "      <th>Immunology and Microbiology</th>\n",
       "      <td>43</td>\n",
       "      <td>58</td>\n",
       "      <td>54</td>\n",
       "      <td>55</td>\n",
       "      <td>26</td>\n",
       "      <td>16</td>\n",
       "      <td>20</td>\n",
       "      <td>22</td>\n",
       "      <td>9</td>\n",
       "      <td>11</td>\n",
       "      <td>18</td>\n",
       "    </tr>\n",
       "    <tr>\n",
       "      <th>Materials Science</th>\n",
       "      <td>109</td>\n",
       "      <td>112</td>\n",
       "      <td>104</td>\n",
       "      <td>97</td>\n",
       "      <td>105</td>\n",
       "      <td>136</td>\n",
       "      <td>112</td>\n",
       "      <td>127</td>\n",
       "      <td>111</td>\n",
       "      <td>107</td>\n",
       "      <td>126</td>\n",
       "    </tr>\n",
       "    <tr>\n",
       "      <th>Mathematics</th>\n",
       "      <td>272</td>\n",
       "      <td>274</td>\n",
       "      <td>252</td>\n",
       "      <td>326</td>\n",
       "      <td>292</td>\n",
       "      <td>252</td>\n",
       "      <td>271</td>\n",
       "      <td>281</td>\n",
       "      <td>288</td>\n",
       "      <td>246</td>\n",
       "      <td>246</td>\n",
       "    </tr>\n",
       "    <tr>\n",
       "      <th>Medicine</th>\n",
       "      <td>396</td>\n",
       "      <td>381</td>\n",
       "      <td>391</td>\n",
       "      <td>432</td>\n",
       "      <td>437</td>\n",
       "      <td>454</td>\n",
       "      <td>461</td>\n",
       "      <td>438</td>\n",
       "      <td>447</td>\n",
       "      <td>458</td>\n",
       "      <td>458</td>\n",
       "    </tr>\n",
       "    <tr>\n",
       "      <th>Multidisciplinary</th>\n",
       "      <td>311</td>\n",
       "      <td>326</td>\n",
       "      <td>400</td>\n",
       "      <td>412</td>\n",
       "      <td>435</td>\n",
       "      <td>460</td>\n",
       "      <td>509</td>\n",
       "      <td>438</td>\n",
       "      <td>364</td>\n",
       "      <td>401</td>\n",
       "      <td>399</td>\n",
       "    </tr>\n",
       "    <tr>\n",
       "      <th>Neuroscience</th>\n",
       "      <td>130</td>\n",
       "      <td>133</td>\n",
       "      <td>145</td>\n",
       "      <td>135</td>\n",
       "      <td>115</td>\n",
       "      <td>129</td>\n",
       "      <td>139</td>\n",
       "      <td>114</td>\n",
       "      <td>111</td>\n",
       "      <td>84</td>\n",
       "      <td>94</td>\n",
       "    </tr>\n",
       "    <tr>\n",
       "      <th>Nursing</th>\n",
       "      <td>175</td>\n",
       "      <td>132</td>\n",
       "      <td>112</td>\n",
       "      <td>152</td>\n",
       "      <td>164</td>\n",
       "      <td>177</td>\n",
       "      <td>118</td>\n",
       "      <td>201</td>\n",
       "      <td>206</td>\n",
       "      <td>172</td>\n",
       "      <td>223</td>\n",
       "    </tr>\n",
       "    <tr>\n",
       "      <th>Pharmacology, Toxicology and Pharmaceutics</th>\n",
       "      <td>230</td>\n",
       "      <td>206</td>\n",
       "      <td>243</td>\n",
       "      <td>250</td>\n",
       "      <td>203</td>\n",
       "      <td>227</td>\n",
       "      <td>186</td>\n",
       "      <td>203</td>\n",
       "      <td>202</td>\n",
       "      <td>179</td>\n",
       "      <td>136</td>\n",
       "    </tr>\n",
       "    <tr>\n",
       "      <th>Physics and Astronomy</th>\n",
       "      <td>161</td>\n",
       "      <td>175</td>\n",
       "      <td>160</td>\n",
       "      <td>161</td>\n",
       "      <td>159</td>\n",
       "      <td>146</td>\n",
       "      <td>158</td>\n",
       "      <td>164</td>\n",
       "      <td>139</td>\n",
       "      <td>147</td>\n",
       "      <td>137</td>\n",
       "    </tr>\n",
       "    <tr>\n",
       "      <th>Psychology</th>\n",
       "      <td>91</td>\n",
       "      <td>122</td>\n",
       "      <td>128</td>\n",
       "      <td>119</td>\n",
       "      <td>126</td>\n",
       "      <td>134</td>\n",
       "      <td>113</td>\n",
       "      <td>127</td>\n",
       "      <td>114</td>\n",
       "      <td>125</td>\n",
       "      <td>127</td>\n",
       "    </tr>\n",
       "    <tr>\n",
       "      <th>Social Sciences</th>\n",
       "      <td>209</td>\n",
       "      <td>210</td>\n",
       "      <td>213</td>\n",
       "      <td>239</td>\n",
       "      <td>254</td>\n",
       "      <td>256</td>\n",
       "      <td>257</td>\n",
       "      <td>303</td>\n",
       "      <td>300</td>\n",
       "      <td>295</td>\n",
       "      <td>304</td>\n",
       "    </tr>\n",
       "    <tr>\n",
       "      <th>Veterinary</th>\n",
       "      <td>131</td>\n",
       "      <td>94</td>\n",
       "      <td>168</td>\n",
       "      <td>128</td>\n",
       "      <td>188</td>\n",
       "      <td>111</td>\n",
       "      <td>117</td>\n",
       "      <td>164</td>\n",
       "      <td>212</td>\n",
       "      <td>248</td>\n",
       "      <td>269</td>\n",
       "    </tr>\n",
       "  </tbody>\n",
       "</table>\n",
       "</div>"
      ],
      "text/plain": [
       "JRNL_YEAR                                     2010  2011  2012  2013  2014  \\\n",
       "S_A                                                                          \n",
       "Agricultural and Biological Sciences           301   281   291   301   335   \n",
       "Arts and Humanities                            189   192   215   202   271   \n",
       "Biochemistry, Genetics and Molecular Biology   184   182   169   168   182   \n",
       "Business, Management and Accounting            176   172   209   199   204   \n",
       "Chemical Engineering                           102    75    85    81   113   \n",
       "Chemistry                                      128   135   139   162   154   \n",
       "Computer Science                               188   183   181   171   168   \n",
       "Decision Sciences                                6     8    10     7     3   \n",
       "Dentistry                                      226   169   264   224   190   \n",
       "Earth and Planetary Sciences                   342   365   342   348   365   \n",
       "Economics, Econometrics and Finance            185   213   213   214   198   \n",
       "Energy                                         134   103   121   163   128   \n",
       "Engineering                                    221   216   214   217   214   \n",
       "Environmental Science                          153   144   135   155   161   \n",
       "Health Professions                             198   135   149   171   101   \n",
       "Immunology and Microbiology                     43    58    54    55    26   \n",
       "Materials Science                              109   112   104    97   105   \n",
       "Mathematics                                    272   274   252   326   292   \n",
       "Medicine                                       396   381   391   432   437   \n",
       "Multidisciplinary                              311   326   400   412   435   \n",
       "Neuroscience                                   130   133   145   135   115   \n",
       "Nursing                                        175   132   112   152   164   \n",
       "Pharmacology, Toxicology and Pharmaceutics     230   206   243   250   203   \n",
       "Physics and Astronomy                          161   175   160   161   159   \n",
       "Psychology                                      91   122   128   119   126   \n",
       "Social Sciences                                209   210   213   239   254   \n",
       "Veterinary                                     131    94   168   128   188   \n",
       "\n",
       "JRNL_YEAR                                     2015  2016  2017  2018  2019  \\\n",
       "S_A                                                                          \n",
       "Agricultural and Biological Sciences           308   327   338   339   327   \n",
       "Arts and Humanities                            211   247   252   232   216   \n",
       "Biochemistry, Genetics and Molecular Biology   186   185   151   165   167   \n",
       "Business, Management and Accounting            235   186   175   201   216   \n",
       "Chemical Engineering                            73   109    78   100   107   \n",
       "Chemistry                                      168   155   134   122   131   \n",
       "Computer Science                               206   188   185   189   166   \n",
       "Decision Sciences                                7    12     7     7     7   \n",
       "Dentistry                                      240   308   255   358   318   \n",
       "Earth and Planetary Sciences                   354   361   309   324   298   \n",
       "Economics, Econometrics and Finance            202   156   188   187   213   \n",
       "Energy                                         125   136    89   126   110   \n",
       "Engineering                                    226   244   234   242   248   \n",
       "Environmental Science                          165   136   121   146   110   \n",
       "Health Professions                             100    94    79    98    48   \n",
       "Immunology and Microbiology                     16    20    22     9    11   \n",
       "Materials Science                              136   112   127   111   107   \n",
       "Mathematics                                    252   271   281   288   246   \n",
       "Medicine                                       454   461   438   447   458   \n",
       "Multidisciplinary                              460   509   438   364   401   \n",
       "Neuroscience                                   129   139   114   111    84   \n",
       "Nursing                                        177   118   201   206   172   \n",
       "Pharmacology, Toxicology and Pharmaceutics     227   186   203   202   179   \n",
       "Physics and Astronomy                          146   158   164   139   147   \n",
       "Psychology                                     134   113   127   114   125   \n",
       "Social Sciences                                256   257   303   300   295   \n",
       "Veterinary                                     111   117   164   212   248   \n",
       "\n",
       "JRNL_YEAR                                     2020  \n",
       "S_A                                                 \n",
       "Agricultural and Biological Sciences           345  \n",
       "Arts and Humanities                            243  \n",
       "Biochemistry, Genetics and Molecular Biology   156  \n",
       "Business, Management and Accounting            188  \n",
       "Chemical Engineering                            74  \n",
       "Chemistry                                      131  \n",
       "Computer Science                               168  \n",
       "Decision Sciences                               10  \n",
       "Dentistry                                      310  \n",
       "Earth and Planetary Sciences                   318  \n",
       "Economics, Econometrics and Finance            183  \n",
       "Energy                                          93  \n",
       "Engineering                                    224  \n",
       "Environmental Science                          135  \n",
       "Health Professions                              62  \n",
       "Immunology and Microbiology                     18  \n",
       "Materials Science                              126  \n",
       "Mathematics                                    246  \n",
       "Medicine                                       458  \n",
       "Multidisciplinary                              399  \n",
       "Neuroscience                                    94  \n",
       "Nursing                                        223  \n",
       "Pharmacology, Toxicology and Pharmaceutics     136  \n",
       "Physics and Astronomy                          137  \n",
       "Psychology                                     127  \n",
       "Social Sciences                                304  \n",
       "Veterinary                                     269  "
      ]
     },
     "execution_count": 117,
     "metadata": {},
     "output_type": "execute_result"
    }
   ],
   "source": [
    "pd.pivot_table(data=q1_date_df, columns=\"JRNL_YEAR\", index=\"S_A\", values=\"title\", aggfunc=\"count\")"
   ]
  },
  {
   "cell_type": "code",
   "execution_count": 118,
   "metadata": {},
   "outputs": [],
   "source": [
    "with open(\"7b_\\\\q1_a_ss\", \"rb\") as fp:\n",
    "    q1_a_ss = pickle.load(fp)"
   ]
  },
  {
   "cell_type": "markdown",
   "metadata": {},
   "source": [
    "The best way to assign S_A to q1_date_df would be to calculate the total number of eligible artlcs. for each cell ( so, creating a new pivot from exploded JRNL_S_A column) and dividing that with q1_a_ss to calculate the \"S_A probability\". "
   ]
  },
  {
   "cell_type": "markdown",
   "metadata": {},
   "source": [
    "#### Percentage Calculation:"
   ]
  },
  {
   "cell_type": "code",
   "execution_count": 125,
   "metadata": {},
   "outputs": [],
   "source": [
    "q1_date_exploded = q1_date_df.explode(\"JRNL_S_A\")"
   ]
  },
  {
   "cell_type": "code",
   "execution_count": 130,
   "metadata": {},
   "outputs": [
    {
     "data": {
      "text/html": [
       "<div>\n",
       "<style scoped>\n",
       "    .dataframe tbody tr th:only-of-type {\n",
       "        vertical-align: middle;\n",
       "    }\n",
       "\n",
       "    .dataframe tbody tr th {\n",
       "        vertical-align: top;\n",
       "    }\n",
       "\n",
       "    .dataframe thead th {\n",
       "        text-align: right;\n",
       "    }\n",
       "</style>\n",
       "<table border=\"1\" class=\"dataframe\">\n",
       "  <thead>\n",
       "    <tr style=\"text-align: right;\">\n",
       "      <th>JRNL_YEAR</th>\n",
       "      <th>2010</th>\n",
       "      <th>2011</th>\n",
       "      <th>2012</th>\n",
       "      <th>2013</th>\n",
       "      <th>2014</th>\n",
       "      <th>2015</th>\n",
       "      <th>2016</th>\n",
       "      <th>2017</th>\n",
       "      <th>2018</th>\n",
       "      <th>2019</th>\n",
       "      <th>2020</th>\n",
       "    </tr>\n",
       "    <tr>\n",
       "      <th>JRNL_S_A</th>\n",
       "      <th></th>\n",
       "      <th></th>\n",
       "      <th></th>\n",
       "      <th></th>\n",
       "      <th></th>\n",
       "      <th></th>\n",
       "      <th></th>\n",
       "      <th></th>\n",
       "      <th></th>\n",
       "      <th></th>\n",
       "      <th></th>\n",
       "    </tr>\n",
       "  </thead>\n",
       "  <tbody>\n",
       "    <tr>\n",
       "      <th>Agricultural and Biological Sciences</th>\n",
       "      <td>1331</td>\n",
       "      <td>1378</td>\n",
       "      <td>1375</td>\n",
       "      <td>1375</td>\n",
       "      <td>1324</td>\n",
       "      <td>1370</td>\n",
       "      <td>1338</td>\n",
       "      <td>1313</td>\n",
       "      <td>1325</td>\n",
       "      <td>1266</td>\n",
       "      <td>1262</td>\n",
       "    </tr>\n",
       "    <tr>\n",
       "      <th>Arts and Humanities</th>\n",
       "      <td>873</td>\n",
       "      <td>887</td>\n",
       "      <td>903</td>\n",
       "      <td>839</td>\n",
       "      <td>875</td>\n",
       "      <td>888</td>\n",
       "      <td>869</td>\n",
       "      <td>862</td>\n",
       "      <td>876</td>\n",
       "      <td>909</td>\n",
       "      <td>836</td>\n",
       "    </tr>\n",
       "    <tr>\n",
       "      <th>Biochemistry, Genetics and Molecular Biology</th>\n",
       "      <td>1506</td>\n",
       "      <td>1533</td>\n",
       "      <td>1508</td>\n",
       "      <td>1510</td>\n",
       "      <td>1510</td>\n",
       "      <td>1465</td>\n",
       "      <td>1423</td>\n",
       "      <td>1357</td>\n",
       "      <td>1318</td>\n",
       "      <td>1301</td>\n",
       "      <td>1285</td>\n",
       "    </tr>\n",
       "    <tr>\n",
       "      <th>Business, Management and Accounting</th>\n",
       "      <td>932</td>\n",
       "      <td>957</td>\n",
       "      <td>948</td>\n",
       "      <td>997</td>\n",
       "      <td>947</td>\n",
       "      <td>988</td>\n",
       "      <td>1051</td>\n",
       "      <td>1068</td>\n",
       "      <td>1046</td>\n",
       "      <td>1103</td>\n",
       "      <td>1108</td>\n",
       "    </tr>\n",
       "    <tr>\n",
       "      <th>Chemical Engineering</th>\n",
       "      <td>1069</td>\n",
       "      <td>1124</td>\n",
       "      <td>1083</td>\n",
       "      <td>1050</td>\n",
       "      <td>1034</td>\n",
       "      <td>1060</td>\n",
       "      <td>991</td>\n",
       "      <td>966</td>\n",
       "      <td>984</td>\n",
       "      <td>1000</td>\n",
       "      <td>1004</td>\n",
       "    </tr>\n",
       "    <tr>\n",
       "      <th>Chemistry</th>\n",
       "      <td>1218</td>\n",
       "      <td>1253</td>\n",
       "      <td>1201</td>\n",
       "      <td>1213</td>\n",
       "      <td>1195</td>\n",
       "      <td>1150</td>\n",
       "      <td>1094</td>\n",
       "      <td>986</td>\n",
       "      <td>1008</td>\n",
       "      <td>1067</td>\n",
       "      <td>1127</td>\n",
       "    </tr>\n",
       "    <tr>\n",
       "      <th>Computer Science</th>\n",
       "      <td>1214</td>\n",
       "      <td>1238</td>\n",
       "      <td>1208</td>\n",
       "      <td>1186</td>\n",
       "      <td>1201</td>\n",
       "      <td>1226</td>\n",
       "      <td>1238</td>\n",
       "      <td>1204</td>\n",
       "      <td>1239</td>\n",
       "      <td>1286</td>\n",
       "      <td>1269</td>\n",
       "    </tr>\n",
       "    <tr>\n",
       "      <th>Decision Sciences</th>\n",
       "      <td>711</td>\n",
       "      <td>743</td>\n",
       "      <td>732</td>\n",
       "      <td>719</td>\n",
       "      <td>679</td>\n",
       "      <td>703</td>\n",
       "      <td>732</td>\n",
       "      <td>762</td>\n",
       "      <td>739</td>\n",
       "      <td>773</td>\n",
       "      <td>759</td>\n",
       "    </tr>\n",
       "    <tr>\n",
       "      <th>Dentistry</th>\n",
       "      <td>389</td>\n",
       "      <td>351</td>\n",
       "      <td>384</td>\n",
       "      <td>383</td>\n",
       "      <td>275</td>\n",
       "      <td>376</td>\n",
       "      <td>471</td>\n",
       "      <td>390</td>\n",
       "      <td>446</td>\n",
       "      <td>479</td>\n",
       "      <td>424</td>\n",
       "    </tr>\n",
       "    <tr>\n",
       "      <th>Earth and Planetary Sciences</th>\n",
       "      <td>808</td>\n",
       "      <td>856</td>\n",
       "      <td>810</td>\n",
       "      <td>818</td>\n",
       "      <td>815</td>\n",
       "      <td>816</td>\n",
       "      <td>815</td>\n",
       "      <td>782</td>\n",
       "      <td>830</td>\n",
       "      <td>780</td>\n",
       "      <td>801</td>\n",
       "    </tr>\n",
       "    <tr>\n",
       "      <th>Economics, Econometrics and Finance</th>\n",
       "      <td>721</td>\n",
       "      <td>731</td>\n",
       "      <td>758</td>\n",
       "      <td>753</td>\n",
       "      <td>710</td>\n",
       "      <td>712</td>\n",
       "      <td>712</td>\n",
       "      <td>752</td>\n",
       "      <td>715</td>\n",
       "      <td>723</td>\n",
       "      <td>770</td>\n",
       "    </tr>\n",
       "    <tr>\n",
       "      <th>Energy</th>\n",
       "      <td>775</td>\n",
       "      <td>814</td>\n",
       "      <td>856</td>\n",
       "      <td>851</td>\n",
       "      <td>849</td>\n",
       "      <td>866</td>\n",
       "      <td>872</td>\n",
       "      <td>827</td>\n",
       "      <td>795</td>\n",
       "      <td>846</td>\n",
       "      <td>883</td>\n",
       "    </tr>\n",
       "    <tr>\n",
       "      <th>Engineering</th>\n",
       "      <td>2281</td>\n",
       "      <td>2363</td>\n",
       "      <td>2377</td>\n",
       "      <td>2355</td>\n",
       "      <td>2261</td>\n",
       "      <td>2315</td>\n",
       "      <td>2190</td>\n",
       "      <td>2211</td>\n",
       "      <td>2181</td>\n",
       "      <td>2151</td>\n",
       "      <td>2279</td>\n",
       "    </tr>\n",
       "    <tr>\n",
       "      <th>Environmental Science</th>\n",
       "      <td>1154</td>\n",
       "      <td>1154</td>\n",
       "      <td>1188</td>\n",
       "      <td>1192</td>\n",
       "      <td>1138</td>\n",
       "      <td>1134</td>\n",
       "      <td>1143</td>\n",
       "      <td>1162</td>\n",
       "      <td>1227</td>\n",
       "      <td>1215</td>\n",
       "      <td>1187</td>\n",
       "    </tr>\n",
       "    <tr>\n",
       "      <th>Health Professions</th>\n",
       "      <td>588</td>\n",
       "      <td>610</td>\n",
       "      <td>607</td>\n",
       "      <td>588</td>\n",
       "      <td>572</td>\n",
       "      <td>556</td>\n",
       "      <td>613</td>\n",
       "      <td>555</td>\n",
       "      <td>571</td>\n",
       "      <td>571</td>\n",
       "      <td>512</td>\n",
       "    </tr>\n",
       "    <tr>\n",
       "      <th>Immunology and Microbiology</th>\n",
       "      <td>734</td>\n",
       "      <td>737</td>\n",
       "      <td>811</td>\n",
       "      <td>714</td>\n",
       "      <td>768</td>\n",
       "      <td>742</td>\n",
       "      <td>750</td>\n",
       "      <td>745</td>\n",
       "      <td>748</td>\n",
       "      <td>730</td>\n",
       "      <td>718</td>\n",
       "    </tr>\n",
       "    <tr>\n",
       "      <th>Materials Science</th>\n",
       "      <td>1485</td>\n",
       "      <td>1473</td>\n",
       "      <td>1446</td>\n",
       "      <td>1395</td>\n",
       "      <td>1328</td>\n",
       "      <td>1392</td>\n",
       "      <td>1418</td>\n",
       "      <td>1345</td>\n",
       "      <td>1368</td>\n",
       "      <td>1442</td>\n",
       "      <td>1493</td>\n",
       "    </tr>\n",
       "    <tr>\n",
       "      <th>Mathematics</th>\n",
       "      <td>1173</td>\n",
       "      <td>1224</td>\n",
       "      <td>1226</td>\n",
       "      <td>1133</td>\n",
       "      <td>1177</td>\n",
       "      <td>1170</td>\n",
       "      <td>1198</td>\n",
       "      <td>1168</td>\n",
       "      <td>1178</td>\n",
       "      <td>1178</td>\n",
       "      <td>1189</td>\n",
       "    </tr>\n",
       "    <tr>\n",
       "      <th>Medicine</th>\n",
       "      <td>2700</td>\n",
       "      <td>2878</td>\n",
       "      <td>2934</td>\n",
       "      <td>3026</td>\n",
       "      <td>3142</td>\n",
       "      <td>2894</td>\n",
       "      <td>3042</td>\n",
       "      <td>2978</td>\n",
       "      <td>3014</td>\n",
       "      <td>3021</td>\n",
       "      <td>2812</td>\n",
       "    </tr>\n",
       "    <tr>\n",
       "      <th>Multidisciplinary</th>\n",
       "      <td>410</td>\n",
       "      <td>434</td>\n",
       "      <td>499</td>\n",
       "      <td>498</td>\n",
       "      <td>494</td>\n",
       "      <td>502</td>\n",
       "      <td>581</td>\n",
       "      <td>508</td>\n",
       "      <td>466</td>\n",
       "      <td>526</td>\n",
       "      <td>497</td>\n",
       "    </tr>\n",
       "    <tr>\n",
       "      <th>Neuroscience</th>\n",
       "      <td>664</td>\n",
       "      <td>648</td>\n",
       "      <td>674</td>\n",
       "      <td>703</td>\n",
       "      <td>716</td>\n",
       "      <td>685</td>\n",
       "      <td>734</td>\n",
       "      <td>692</td>\n",
       "      <td>688</td>\n",
       "      <td>691</td>\n",
       "      <td>641</td>\n",
       "    </tr>\n",
       "    <tr>\n",
       "      <th>Nursing</th>\n",
       "      <td>513</td>\n",
       "      <td>570</td>\n",
       "      <td>580</td>\n",
       "      <td>578</td>\n",
       "      <td>535</td>\n",
       "      <td>556</td>\n",
       "      <td>551</td>\n",
       "      <td>551</td>\n",
       "      <td>558</td>\n",
       "      <td>545</td>\n",
       "      <td>576</td>\n",
       "    </tr>\n",
       "    <tr>\n",
       "      <th>Pharmacology, Toxicology and Pharmaceutics</th>\n",
       "      <td>671</td>\n",
       "      <td>780</td>\n",
       "      <td>689</td>\n",
       "      <td>707</td>\n",
       "      <td>692</td>\n",
       "      <td>690</td>\n",
       "      <td>784</td>\n",
       "      <td>721</td>\n",
       "      <td>764</td>\n",
       "      <td>768</td>\n",
       "      <td>761</td>\n",
       "    </tr>\n",
       "    <tr>\n",
       "      <th>Physics and Astronomy</th>\n",
       "      <td>1194</td>\n",
       "      <td>1202</td>\n",
       "      <td>1185</td>\n",
       "      <td>1195</td>\n",
       "      <td>1176</td>\n",
       "      <td>1255</td>\n",
       "      <td>1209</td>\n",
       "      <td>1173</td>\n",
       "      <td>1125</td>\n",
       "      <td>1207</td>\n",
       "      <td>1173</td>\n",
       "    </tr>\n",
       "    <tr>\n",
       "      <th>Psychology</th>\n",
       "      <td>874</td>\n",
       "      <td>784</td>\n",
       "      <td>869</td>\n",
       "      <td>774</td>\n",
       "      <td>820</td>\n",
       "      <td>796</td>\n",
       "      <td>813</td>\n",
       "      <td>758</td>\n",
       "      <td>762</td>\n",
       "      <td>757</td>\n",
       "      <td>732</td>\n",
       "    </tr>\n",
       "    <tr>\n",
       "      <th>Social Sciences</th>\n",
       "      <td>1527</td>\n",
       "      <td>1573</td>\n",
       "      <td>1663</td>\n",
       "      <td>1663</td>\n",
       "      <td>1592</td>\n",
       "      <td>1600</td>\n",
       "      <td>1689</td>\n",
       "      <td>1690</td>\n",
       "      <td>1703</td>\n",
       "      <td>1850</td>\n",
       "      <td>1838</td>\n",
       "    </tr>\n",
       "    <tr>\n",
       "      <th>Veterinary</th>\n",
       "      <td>478</td>\n",
       "      <td>447</td>\n",
       "      <td>496</td>\n",
       "      <td>508</td>\n",
       "      <td>485</td>\n",
       "      <td>474</td>\n",
       "      <td>454</td>\n",
       "      <td>504</td>\n",
       "      <td>515</td>\n",
       "      <td>523</td>\n",
       "      <td>482</td>\n",
       "    </tr>\n",
       "  </tbody>\n",
       "</table>\n",
       "</div>"
      ],
      "text/plain": [
       "JRNL_YEAR                                     2010  2011  2012  2013  2014  \\\n",
       "JRNL_S_A                                                                     \n",
       "Agricultural and Biological Sciences          1331  1378  1375  1375  1324   \n",
       "Arts and Humanities                            873   887   903   839   875   \n",
       "Biochemistry, Genetics and Molecular Biology  1506  1533  1508  1510  1510   \n",
       "Business, Management and Accounting            932   957   948   997   947   \n",
       "Chemical Engineering                          1069  1124  1083  1050  1034   \n",
       "Chemistry                                     1218  1253  1201  1213  1195   \n",
       "Computer Science                              1214  1238  1208  1186  1201   \n",
       "Decision Sciences                              711   743   732   719   679   \n",
       "Dentistry                                      389   351   384   383   275   \n",
       "Earth and Planetary Sciences                   808   856   810   818   815   \n",
       "Economics, Econometrics and Finance            721   731   758   753   710   \n",
       "Energy                                         775   814   856   851   849   \n",
       "Engineering                                   2281  2363  2377  2355  2261   \n",
       "Environmental Science                         1154  1154  1188  1192  1138   \n",
       "Health Professions                             588   610   607   588   572   \n",
       "Immunology and Microbiology                    734   737   811   714   768   \n",
       "Materials Science                             1485  1473  1446  1395  1328   \n",
       "Mathematics                                   1173  1224  1226  1133  1177   \n",
       "Medicine                                      2700  2878  2934  3026  3142   \n",
       "Multidisciplinary                              410   434   499   498   494   \n",
       "Neuroscience                                   664   648   674   703   716   \n",
       "Nursing                                        513   570   580   578   535   \n",
       "Pharmacology, Toxicology and Pharmaceutics     671   780   689   707   692   \n",
       "Physics and Astronomy                         1194  1202  1185  1195  1176   \n",
       "Psychology                                     874   784   869   774   820   \n",
       "Social Sciences                               1527  1573  1663  1663  1592   \n",
       "Veterinary                                     478   447   496   508   485   \n",
       "\n",
       "JRNL_YEAR                                     2015  2016  2017  2018  2019  \\\n",
       "JRNL_S_A                                                                     \n",
       "Agricultural and Biological Sciences          1370  1338  1313  1325  1266   \n",
       "Arts and Humanities                            888   869   862   876   909   \n",
       "Biochemistry, Genetics and Molecular Biology  1465  1423  1357  1318  1301   \n",
       "Business, Management and Accounting            988  1051  1068  1046  1103   \n",
       "Chemical Engineering                          1060   991   966   984  1000   \n",
       "Chemistry                                     1150  1094   986  1008  1067   \n",
       "Computer Science                              1226  1238  1204  1239  1286   \n",
       "Decision Sciences                              703   732   762   739   773   \n",
       "Dentistry                                      376   471   390   446   479   \n",
       "Earth and Planetary Sciences                   816   815   782   830   780   \n",
       "Economics, Econometrics and Finance            712   712   752   715   723   \n",
       "Energy                                         866   872   827   795   846   \n",
       "Engineering                                   2315  2190  2211  2181  2151   \n",
       "Environmental Science                         1134  1143  1162  1227  1215   \n",
       "Health Professions                             556   613   555   571   571   \n",
       "Immunology and Microbiology                    742   750   745   748   730   \n",
       "Materials Science                             1392  1418  1345  1368  1442   \n",
       "Mathematics                                   1170  1198  1168  1178  1178   \n",
       "Medicine                                      2894  3042  2978  3014  3021   \n",
       "Multidisciplinary                              502   581   508   466   526   \n",
       "Neuroscience                                   685   734   692   688   691   \n",
       "Nursing                                        556   551   551   558   545   \n",
       "Pharmacology, Toxicology and Pharmaceutics     690   784   721   764   768   \n",
       "Physics and Astronomy                         1255  1209  1173  1125  1207   \n",
       "Psychology                                     796   813   758   762   757   \n",
       "Social Sciences                               1600  1689  1690  1703  1850   \n",
       "Veterinary                                     474   454   504   515   523   \n",
       "\n",
       "JRNL_YEAR                                     2020  \n",
       "JRNL_S_A                                            \n",
       "Agricultural and Biological Sciences          1262  \n",
       "Arts and Humanities                            836  \n",
       "Biochemistry, Genetics and Molecular Biology  1285  \n",
       "Business, Management and Accounting           1108  \n",
       "Chemical Engineering                          1004  \n",
       "Chemistry                                     1127  \n",
       "Computer Science                              1269  \n",
       "Decision Sciences                              759  \n",
       "Dentistry                                      424  \n",
       "Earth and Planetary Sciences                   801  \n",
       "Economics, Econometrics and Finance            770  \n",
       "Energy                                         883  \n",
       "Engineering                                   2279  \n",
       "Environmental Science                         1187  \n",
       "Health Professions                             512  \n",
       "Immunology and Microbiology                    718  \n",
       "Materials Science                             1493  \n",
       "Mathematics                                   1189  \n",
       "Medicine                                      2812  \n",
       "Multidisciplinary                              497  \n",
       "Neuroscience                                   641  \n",
       "Nursing                                        576  \n",
       "Pharmacology, Toxicology and Pharmaceutics     761  \n",
       "Physics and Astronomy                         1173  \n",
       "Psychology                                     732  \n",
       "Social Sciences                               1838  \n",
       "Veterinary                                     482  "
      ]
     },
     "execution_count": 130,
     "metadata": {},
     "output_type": "execute_result"
    }
   ],
   "source": [
    "pd.pivot_table(data=q1_date_exploded, columns=\"JRNL_YEAR\", index=\"JRNL_S_A\", values=\"title\", aggfunc=\"count\")"
   ]
  },
  {
   "cell_type": "code",
   "execution_count": 135,
   "metadata": {},
   "outputs": [],
   "source": [
    "perc_pivot = (q1_a_ss / pd.pivot_table(data=q1_date_exploded, columns=\"JRNL_YEAR\", index=\"JRNL_S_A\", values=\"title\", aggfunc=\"count\")).round(3)"
   ]
  },
  {
   "cell_type": "code",
   "execution_count": 138,
   "metadata": {},
   "outputs": [],
   "source": [
    "q1_date_exploded.drop(\"S_A\", axis=1, inplace=True)"
   ]
  },
  {
   "cell_type": "code",
   "execution_count": 156,
   "metadata": {},
   "outputs": [],
   "source": [
    "def perc_assign(row):\n",
    "    # year = row[\"JRNL_YEAR\"]\n",
    "    # s_a = row[\"JRNL_S_A\"]\n",
    "    return perc_pivot.loc[row[\"JRNL_S_A\"],row[\"JRNL_YEAR\"]]\n",
    "    "
   ]
  },
  {
   "cell_type": "code",
   "execution_count": 161,
   "metadata": {},
   "outputs": [],
   "source": [
    "q1_date_exploded[\"Perc\"] = q1_date_exploded.apply(perc_assign, axis=1)"
   ]
  },
  {
   "cell_type": "code",
   "execution_count": 168,
   "metadata": {},
   "outputs": [],
   "source": [
    "q1_date_df[\"Perc_SA\"] = q1_date_exploded.groupby(q1_date_exploded.index)[\"JRNL_S_A\"].apply(list)"
   ]
  },
  {
   "cell_type": "code",
   "execution_count": 171,
   "metadata": {},
   "outputs": [],
   "source": [
    "q1_date_df[\"Perc_Percs\"] = q1_date_exploded.groupby(q1_date_exploded.index)[\"Perc\"].apply(list)\n",
    "\n",
    "q1_date_df[\"Perc_Percs\"] = q1_date_df.Perc_Percs.map(lambda x: [round((item/sum(x)),3) for item in x])"
   ]
  },
  {
   "cell_type": "code",
   "execution_count": 183,
   "metadata": {},
   "outputs": [],
   "source": [
    "q1_date_df[\"S_A_Percs\"] = q1_date_df.apply(lambda x: dict(zip(x.Perc_SA, x.Perc_Percs)), axis=1)"
   ]
  },
  {
   "cell_type": "code",
   "execution_count": 185,
   "metadata": {},
   "outputs": [],
   "source": [
    "q1_date_df[\"Chosen_S_A\"] = q1_date_df.S_A_Percs.map(lambda x: random.choices(list(x.keys()), weights=x.values(), k=1))\n",
    "\n",
    "q1_date_df[\"Chosen_S_A\"] = q1_date_df.Chosen_S_A.map(lambda x: x[0])"
   ]
  },
  {
   "cell_type": "code",
   "execution_count": 191,
   "metadata": {},
   "outputs": [],
   "source": [
    "sa_chosen_pivot = pd.pivot_table(data=q1_date_df, columns=\"JRNL_YEAR\", index=\"Chosen_S_A\", values=\"title\", aggfunc=\"count\")"
   ]
  },
  {
   "cell_type": "code",
   "execution_count": 195,
   "metadata": {},
   "outputs": [
    {
     "data": {
      "text/plain": [
       "21856"
      ]
     },
     "execution_count": 195,
     "metadata": {},
     "output_type": "execute_result"
    }
   ],
   "source": [
    "# New Req_Count total:\n",
    "\n",
    "(q1_a_ss - sa_chosen_pivot).applymap(lambda x: 0 if x<0 else x).sum().sum()"
   ]
  },
  {
   "cell_type": "markdown",
   "metadata": {},
   "source": [
    "Will stop here for now! \n",
    "\n",
    "Will assume the S_A assigned to be TRUE!\n",
    "\n",
    "The total number of necessary articles increased from around 15K for appr. 22K.\n",
    "\n",
    "This is OK as the total number of articles will be somewhere around 180K, which was the plan before assignment.\n",
    "\n",
    "Will save all variables\n",
    "\n",
    "Tomorrow:\n",
    "\n",
    "- will use sa_chosen_pivot to calc. Req_Count for the 180K run\n",
    "- will save S_A this time beforehand\n",
    "- arrange the 180K SumCetCet run \n",
    "- send codes!\n",
    "\n",
    "- start working on author_df!"
   ]
  },
  {
   "cell_type": "code",
   "execution_count": 196,
   "metadata": {},
   "outputs": [],
   "source": [
    "with open(\"q1_date_df\",\"wb\") as p:\n",
    "    pickle.dump(q1_date_df, p)\n",
    "\n",
    "with open(\"q1_jrnl_df\",\"wb\") as p:\n",
    "    pickle.dump(q1_jrnl_df, p)\n",
    "\n",
    "with open(\"q1_date_exploded\",\"wb\") as p:\n",
    "    pickle.dump(q1_date_exploded, p)"
   ]
  }
 ],
 "metadata": {
  "interpreter": {
   "hash": "6d6808e9ba8815475743150367720cad3673ac2b3f4957dc753295ba7ac37a1a"
  },
  "kernelspec": {
   "display_name": "Python 3.8.10 ('base')",
   "language": "python",
   "name": "python3"
  },
  "language_info": {
   "codemirror_mode": {
    "name": "ipython",
    "version": 3
   },
   "file_extension": ".py",
   "mimetype": "text/x-python",
   "name": "python",
   "nbconvert_exporter": "python",
   "pygments_lexer": "ipython3",
   "version": "3.8.10"
  },
  "orig_nbformat": 4
 },
 "nbformat": 4,
 "nbformat_minor": 2
}
